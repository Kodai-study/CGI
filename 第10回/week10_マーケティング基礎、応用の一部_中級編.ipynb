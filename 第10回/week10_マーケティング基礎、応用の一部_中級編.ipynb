{
  "cells": [
    {
      "attachments": {},
      "cell_type": "markdown",
      "metadata": {
        "id": "vkkZXsjafzhg"
      },
      "source": [
        "# 10 マーケティングにおける消費者分析とCRMの中級編"
      ]
    },
    {
      "attachments": {},
      "cell_type": "markdown",
      "metadata": {
        "id": "jPiUqqRXfzhl"
      },
      "source": [
        "＜章トビラ＞\n",
        "\n",
        "本章では、マーケティングに関する分析について、初級編よりも少し高度なアプローチを学びます。この講義では、顧客により良いサービス・商品を提案したり、そのための企業施策を効率的に実行・検証し、さらにその施策検証結果やKPIなどのレポーティングを自動化していくことを目標にしています。将来的に、マーケティングを自動化するシステムを構築するのに役立つツール群を紹介していきます。\n",
        "\n",
        "初級編では顧客をセグメントし、それぞれの顧客層に応じた施策実施の必要性を記述しました。本中級編では、施策として顧客に買ってもらえそうなサービスを提案するための「リコメンデーション（推薦システム）」、企業の実施した施策がよかったのか悪かったのか判断するための「因果推論・分析」、そして施策や企画に関する結果やKPIのトラッキングとそれらの定期的な分析レポーティング作成と共有、メール自動配信、Slack等への自動通知を実現するための「自動化処理」について学んでいきます。\n",
        "\n",
        "それぞれ深い分野であり、本章だけで全てカバーすることは難しいですが、本講義の初級編で学んだ顧客へのマーケティング戦略からはじまり、その消費者の基本分析、セグメンテーションとターゲティング、その顧客への施策と検証、それらを自動化してレポーティングするまでの基本的な流れを、一気通貫してイメージできるようになるでしょう。実務でそれぞれ本格的に必要になったら、後ほど紹介する参考文献等を見るなどして、取り組んでみてください。\n",
        "\n",
        "<ゴール>  \n",
        "\n",
        "マーケティングの高度なアプローチ（リコメンド、因果推論、分析レポート自動化処理）について理解し、それぞれ基本的な実装ができ、マーケティングのPDCAサイクルをまわすための仕組み、基本的なシステム設計ができる\n",
        "\n",
        "<前提知識とスキル>  \n",
        "・東京大学松尾研究室が提供している以下のコンテンツを理解して、実装できること\n",
        "\n",
        "https://weblab.t.u-tokyo.ac.jp/gci_contents/\n",
        "\n",
        "＝＞具体的には、Pythonの基礎的な処理、Numpy、Pandas、Matplotlibを使いこなせるようになっていることと機械学習のSklearnの基本的な使い方がわかっていること\n",
        "\n",
        "・マーケティングにおける消費者分析とCRMの初級編を一通り理解して実装できること"
      ]
    },
    {
      "attachments": {},
      "cell_type": "markdown",
      "metadata": {
        "id": "8jvJFDWtfzhl"
      },
      "source": [
        "***"
      ]
    },
    {
      "attachments": {},
      "cell_type": "markdown",
      "metadata": {
        "id": "uto0kpKVfzhm"
      },
      "source": [
        "## 10.1 本章を学ぶ背景と全体像\n",
        "\n",
        "キーワード：リコメンデーション、因果推論、マーケティングシステム自動化"
      ]
    },
    {
      "attachments": {},
      "cell_type": "markdown",
      "metadata": {
        "id": "7yynCIWKdWIi"
      },
      "source": [
        "### 10.1.1 顧客への提案、施策検証、自動化に向けて\n",
        "消費者分析の初級編では、基本的な顧客行動の分析とCRMの一部であるPOSデータの基本的な扱い方について解説しました。これまでは、データ分析の基本的な型を身に付けるという意味で、基礎集計したり、必要があればローデータを見たり、マーケティングにおけるデータ分析の顧客を識別（セグメント）する様々な方法と、その活用方法を述べてきました。そして次に考えていくべきことは、\n",
        "\n",
        "「その顧客セグメントにどんな商品やサービスを提供、提案したらよいのだろうか」\n",
        "\n",
        "「施策の効果があったのかなかったのかROIを含めてしっかりと把握していきたい」\n",
        "\n",
        "「そういった施策のKPIトラッキングレポートを手作業でやるのではなく、なるべく自動化していきたい」\n",
        "\n",
        "など、顧客に対してより具体的な施策、アクションやその施策の測定、レポートを作成していくことになります。"
      ]
    },
    {
      "attachments": {},
      "cell_type": "markdown",
      "metadata": {
        "id": "yTK0gMtss47B"
      },
      "source": [
        "それぞれ以下に該当し、この講義ではそれぞれのポイントを解説していきます。\n",
        "\n",
        "1.   リコメンデーション（推薦システム）\n",
        "2.   施策の効果検証(Test&Learnなどといわれたりもします。)\n",
        "3.   そのBIツール作成やレポーティング自動化"
      ]
    },
    {
      "attachments": {},
      "cell_type": "markdown",
      "metadata": {
        "id": "JC3X9XPrZU_u"
      },
      "source": [
        "初級編で実践した通り、データ分析ではかなり愚直にデータを見ることもあり地道な作業も多いですが、もちろんそういう作業を永遠にやりたいわけではありません。顧客への最適な「アルゴリズム自動マーケティングエコシステム」を構築して、システムが処理できることはシステムに任せて、創造的な仕事や人間にしかできない仕事をする時間を増やしていきましょう。その自動化のためのアプローチやツールを、この章では学んでいきます。\n",
        "\n",
        "補足：なおマーケティングの自動化ツールとしては、MA（マーケティングオートメーション）としてMarketoなど様々なソリューションがあり、様々な企業で使われるようになっています。一方、それらのツールを使いこなせず、ただ導入しただけというケースもよく耳にします。こういったツールはあくまでツールのため万能ではなく、どういったシナリオで顧客へのサービス向上に繋がるのか、どうすれば運用コストを下げるかなど、目的をはっきりさせてから、導入するのが良いでしょう。"
      ]
    },
    {
      "attachments": {},
      "cell_type": "markdown",
      "metadata": {
        "id": "cuFz_6apNBSo"
      },
      "source": [
        "### 10.1.2 本章で主に使うライブラリ等"
      ]
    },
    {
      "attachments": {},
      "cell_type": "markdown",
      "metadata": {
        "id": "kvVPXfHcGEQ_"
      },
      "source": [
        "以下、本章で必要なライブラリ等をインポートしておきます。また、別途使うライブラリについては、必要があれば都度インポートしていきます。"
      ]
    },
    {
      "cell_type": "code",
      "execution_count": null,
      "metadata": {
        "colab": {
          "base_uri": "https://localhost:8080/",
          "height": 35
        },
        "id": "NuIxxsFC7XK_",
        "outputId": "c739926d-f512-4ef8-d5f5-465053008bbf"
      },
      "outputs": [
        {
          "data": {
            "application/vnd.google.colaboratory.intrinsic+json": {
              "type": "string"
            },
            "text/plain": [
              "'%.3f'"
            ]
          },
          "execution_count": 1,
          "metadata": {},
          "output_type": "execute_result"
        }
      ],
      "source": [
        "# 以下のライブラリを使うので、あらかじめ読み込んでおいてください\n",
        "import numpy as np\n",
        "import pandas as pd\n",
        "\n",
        "import datetime\n",
        "\n",
        "# 可視化ライブラリ\n",
        "import matplotlib.pyplot as plt\n",
        "import seaborn as sns\n",
        "sns.set()\n",
        "%matplotlib inline\n",
        "\n",
        "# 小数第3位まで表示\n",
        "%precision 3"
      ]
    },
    {
      "attachments": {},
      "cell_type": "markdown",
      "metadata": {
        "id": "Th8Kad4SqLu9"
      },
      "source": [
        "## 10.2 リコメンデーション\n",
        "\n",
        "キーワード：協調フィルタリング、コンテンツベースフィルタリング、SVD、ボルツマンマシン、強化学習"
      ]
    },
    {
      "attachments": {},
      "cell_type": "markdown",
      "metadata": {
        "id": "3gChnOF3UPvC"
      },
      "source": [
        "### 10.2.1 この節で学ぶこと\n",
        "\n"
      ]
    },
    {
      "attachments": {},
      "cell_type": "markdown",
      "metadata": {
        "id": "qNm6n1S78Loj"
      },
      "source": [
        "現代は情報多過の時代だと言われ、顧客は選択肢がたくさんある一方で、どの商品やサービスを選んだらよいのかわからないこともあります。一方、企業として顧客に何か商品を提案するときに、単にランキング上位に入った商品だけを薦めるだけでは、その顧客にあった商品を提案できないですし、ニッチな商品を売る機会も減ってしまいます。オススメ商品の表示については、AmazonやNetflex、YouTubeなどの有名なサービスで使われているので、このリコメンドのイメージを持っている方は多いと思います。この節では、顧客に何をリコメンドしたら良いのかアプローチするためのアルゴリズムについて学んでいきましょう。\n",
        "\n",
        "補足：ちなみに、顧客が自分の探したい商品がはっきりわかっている場合は「検索」をすれば良い一方、リコメンデーションは、顧客が言語化できていないが潜在的なニーズがある場合に使われます。（この検索のようにユーザーが意図を持っている時に推薦する場合を「プルモデル」、意図を持っていない場合に推薦する場合を「プッシュモデル」といいます。）"
      ]
    },
    {
      "attachments": {},
      "cell_type": "markdown",
      "metadata": {
        "id": "DUtSqc55rzsg"
      },
      "source": [
        "リコメンデーションのシステムは、主に顧客の商品に対する評価や顧客の購買履歴（POSデータ）などによって計算されます。リコメンデーションの種類については、色々と分け方はありますが、主に3つのアプローチがあります。似ている顧客を探すアプローチ（協調フィルタリング）、商品が似ているものでのアプローチ（コンテンツベース）、その文脈（コンテキスト）でのアプローチです。前者2つはある程度イメージできますが、3つ目は例えば、同じ顧客でも季節によって買う商品が異なる傾向にあるため、その文脈は季節になります。"
      ]
    },
    {
      "attachments": {},
      "cell_type": "markdown",
      "metadata": {
        "id": "BaVor7ONMCJ7"
      },
      "source": [
        "\n",
        "\n",
        "*   協調フィルタリング：似ている人たちによるリコメンド\n",
        "*   内容ベースフィルタリング：商品の内容によるリコメンド\n",
        "*   コンテキストベースフィルタリング：顧客の置かれている環境（場所、時間、時期、チャネル、条件など）によるリコメンド"
      ]
    },
    {
      "attachments": {},
      "cell_type": "markdown",
      "metadata": {
        "id": "Z3jxb0wUr9W5"
      },
      "source": [
        "この説では、リコメンドエンジンとしてよく使われる1つ目の「協調フィルタリング」について、主にPython実装を紹介していきます。なお、このリコメンドの種類やそれらのロジックについて、もっと詳細に知りたい方は、以下の参考文献をみてください"
      ]
    },
    {
      "attachments": {},
      "cell_type": "markdown",
      "metadata": {
        "id": "15c1MjPTvqyl"
      },
      "source": [
        "参考文献\n",
        "\n",
        "\n",
        "*   『AIアルゴリズムマーケティング　自動化のための機械学習/経済モデル、ベストプラクティス、アーキテクチャ』（インプレス）\n",
        "*   『推薦システム』（共立出版）\n",
        "*   『情報推薦システム入門』（共立出版）\n",
        "\n",
        "\n",
        "なお、推薦システムについては、以下の一般公開されている資料がとても参考になります。\n",
        "\n",
        "参考URL\n",
        "\n",
        "推薦システムのアルゴリズム（Toshihiro Kamishima先生）\n",
        "\n",
        "\n",
        "\n",
        "* https://www.kamishima.net/archive/recsysdoc.pdf\n",
        "\n",
        "* https://www.kamishima.net/archive/recsys.pdf\n"
      ]
    },
    {
      "attachments": {},
      "cell_type": "markdown",
      "metadata": {
        "id": "C3mqVBNwUXKe"
      },
      "source": [
        "### 10.2.2 協調フィルタリング\n",
        "\n"
      ]
    },
    {
      "attachments": {},
      "cell_type": "markdown",
      "metadata": {
        "id": "LOnF9nvm1WAg"
      },
      "source": [
        "ここからは、協調フィルタリングのPython実装を紹介していきます。上記で協調フィルタリングとは、似ている人たちによるリコメンドだと解説しました。いいかえると、ターゲットとなる顧客の趣味嗜好に類似している別の顧客を探し出して、そのターゲット顧客の嗜好に基づいて、オススメを行う方法になります。この方法は色々な企業のリコメンデーションシステムでよく採用されています。"
      ]
    },
    {
      "attachments": {},
      "cell_type": "markdown",
      "metadata": {
        "id": "3uT9BeRH9nfp"
      },
      "source": [
        "そのアルゴリズム構築を実現するため、ここではscikit-surpiseというパッケージを使ってみます。以下でインストールを実行します。"
      ]
    },
    {
      "attachments": {},
      "cell_type": "markdown",
      "metadata": {
        "id": "Lq0v2Xzd7O08"
      },
      "source": [
        "参考：scikit-surpiseパッケージの公式サイト\n",
        "\n",
        "http://surpriselib.com/\n",
        "\n",
        "https://surprise.readthedocs.io/en/stable/index.html#"
      ]
    },
    {
      "cell_type": "code",
      "execution_count": null,
      "metadata": {
        "colab": {
          "base_uri": "https://localhost:8080/"
        },
        "id": "54dDxCwEtU86",
        "outputId": "988f7eef-49e9-4af2-b875-a51a33f81afa"
      },
      "outputs": [
        {
          "name": "stdout",
          "output_type": "stream",
          "text": [
            "Collecting scikit-surprise\n",
            "  Downloading scikit-surprise-1.1.1.tar.gz (11.8 MB)\n",
            "\u001b[K     |████████████████████████████████| 11.8 MB 3.9 MB/s \n",
            "\u001b[?25hRequirement already satisfied: joblib>=0.11 in /usr/local/lib/python3.7/dist-packages (from scikit-surprise) (1.1.0)\n",
            "Requirement already satisfied: numpy>=1.11.2 in /usr/local/lib/python3.7/dist-packages (from scikit-surprise) (1.19.5)\n",
            "Requirement already satisfied: scipy>=1.0.0 in /usr/local/lib/python3.7/dist-packages (from scikit-surprise) (1.4.1)\n",
            "Requirement already satisfied: six>=1.10.0 in /usr/local/lib/python3.7/dist-packages (from scikit-surprise) (1.15.0)\n",
            "Building wheels for collected packages: scikit-surprise\n",
            "  Building wheel for scikit-surprise (setup.py) ... \u001b[?25l\u001b[?25hdone\n",
            "  Created wheel for scikit-surprise: filename=scikit_surprise-1.1.1-cp37-cp37m-linux_x86_64.whl size=1619396 sha256=f989e54ee8b5a2d7b0ccada9f73dc23b3e72ef834bed48b18b2ea61d7ba1253a\n",
            "  Stored in directory: /root/.cache/pip/wheels/76/44/74/b498c42be47b2406bd27994e16c5188e337c657025ab400c1c\n",
            "Successfully built scikit-surprise\n",
            "Installing collected packages: scikit-surprise\n",
            "Successfully installed scikit-surprise-1.1.1\n"
          ]
        }
      ],
      "source": [
        "!pip install scikit-surprise"
      ]
    },
    {
      "attachments": {},
      "cell_type": "markdown",
      "metadata": {
        "id": "_-5GFFQs9rax"
      },
      "source": [
        "次に、この協調フィルタリングのアルゴリズムを実装、検証するためのライブラリ等をインポートします。SVDは、特異値分解という推薦のシステムでよく紹介されるアルゴリズムを使います。cross_validateは機械学習のモデル評価でよく使われるライブラリで、クロスバリデーションをするためにインポートします。"
      ]
    },
    {
      "cell_type": "code",
      "execution_count": null,
      "metadata": {
        "id": "oRTgV3kYtTqm"
      },
      "outputs": [],
      "source": [
        "from surprise import SVD\n",
        "from surprise.model_selection import cross_validate\n",
        "from surprise import Dataset"
      ]
    },
    {
      "attachments": {},
      "cell_type": "markdown",
      "metadata": {
        "id": "ZM_WLpzxGMVR"
      },
      "source": [
        "最後のDatasetは、ここで使うデータをインポートするためで、ユーザーのそれぞれの映画に対する評価データです。Do you want to download it? [Y/n] と聞かれるので、Yを入力してEnterし、movielens-100kのデータセットをロードします。"
      ]
    },
    {
      "cell_type": "code",
      "execution_count": null,
      "metadata": {
        "colab": {
          "base_uri": "https://localhost:8080/"
        },
        "id": "VArwD3QFtq_E",
        "outputId": "3ca2de04-89dd-47d1-8955-aeadd7a2ab85"
      },
      "outputs": [
        {
          "name": "stdout",
          "output_type": "stream",
          "text": [
            "Dataset ml-100k could not be found. Do you want to download it? [Y/n] Y\n",
            "Trying to download dataset from http://files.grouplens.org/datasets/movielens/ml-100k.zip...\n",
            "Done! Dataset ml-100k has been saved to /root/.surprise_data/ml-100k\n"
          ]
        }
      ],
      "source": [
        "movie_dataset = Dataset.load_builtin('ml-100k')"
      ]
    },
    {
      "attachments": {},
      "cell_type": "markdown",
      "metadata": {
        "id": "Vx6dLhLWPCBt"
      },
      "source": [
        "このデータセットについては以下に記載があります。100kは10万レコードになります。\n",
        "\n",
        "参考URL：\n",
        "\n",
        "https://grouplens.org/datasets/movielens/\n",
        "\n",
        "https://surprise.readthedocs.io/en/stable/dataset.html"
      ]
    },
    {
      "attachments": {},
      "cell_type": "markdown",
      "metadata": {
        "id": "XOJ4umCuD64A"
      },
      "source": [
        "raw_ratingsでデータにアクセスでき、以下からraw_ratingsはリスト型のデータで、要素はタプル型でデータが1つ1つ入っているのがわかります。"
      ]
    },
    {
      "cell_type": "code",
      "execution_count": null,
      "metadata": {
        "colab": {
          "base_uri": "https://localhost:8080/"
        },
        "id": "JD4Ldjx7qLfG",
        "outputId": "e3bef84b-ce87-4a8a-c5a3-7d043ba6eb77"
      },
      "outputs": [
        {
          "data": {
            "text/plain": [
              "list"
            ]
          },
          "execution_count": 5,
          "metadata": {},
          "output_type": "execute_result"
        }
      ],
      "source": [
        "type(movie_dataset.raw_ratings)"
      ]
    },
    {
      "attachments": {},
      "cell_type": "markdown",
      "metadata": {
        "id": "GYeHWQXJRPhb"
      },
      "source": [
        "左から順に、ユーザーID、評価した映画ID、その映画の評価(Rating)、その時のタイムスタンプというデータになります。タプル1つ分が1ユーザーの1商品評価になります。"
      ]
    },
    {
      "cell_type": "code",
      "execution_count": null,
      "metadata": {
        "colab": {
          "base_uri": "https://localhost:8080/"
        },
        "id": "OjVHo8WAC5hO",
        "outputId": "5d6393f0-05a5-425a-86ff-1bfa3669843a"
      },
      "outputs": [
        {
          "data": {
            "text/plain": [
              "[('196', '242', 3.000, '881250949'),\n",
              " ('186', '302', 3.000, '891717742'),\n",
              " ('22', '377', 1.000, '878887116'),\n",
              " ('244', '51', 2.000, '880606923'),\n",
              " ('166', '346', 1.000, '886397596'),\n",
              " ('298', '474', 4.000, '884182806'),\n",
              " ('115', '265', 2.000, '881171488'),\n",
              " ('253', '465', 5.000, '891628467'),\n",
              " ('305', '451', 3.000, '886324817'),\n",
              " ('6', '86', 3.000, '883603013')]"
            ]
          },
          "execution_count": 6,
          "metadata": {},
          "output_type": "execute_result"
        }
      ],
      "source": [
        "movie_dataset.raw_ratings[0:10]"
      ]
    },
    {
      "attachments": {},
      "cell_type": "markdown",
      "metadata": {
        "id": "JG8Ks4YRE31X"
      },
      "source": [
        "pandasのDataFrameで扱いたい人は以下のように変換できます。"
      ]
    },
    {
      "cell_type": "code",
      "execution_count": null,
      "metadata": {
        "colab": {
          "base_uri": "https://localhost:8080/",
          "height": 206
        },
        "id": "2V5x3HZLA5NK",
        "outputId": "7b0b752e-553e-4ef8-b3d5-720f9368438e"
      },
      "outputs": [
        {
          "data": {
            "text/html": [
              "<div>\n",
              "<style scoped>\n",
              "    .dataframe tbody tr th:only-of-type {\n",
              "        vertical-align: middle;\n",
              "    }\n",
              "\n",
              "    .dataframe tbody tr th {\n",
              "        vertical-align: top;\n",
              "    }\n",
              "\n",
              "    .dataframe thead th {\n",
              "        text-align: right;\n",
              "    }\n",
              "</style>\n",
              "<table border=\"1\" class=\"dataframe\">\n",
              "  <thead>\n",
              "    <tr style=\"text-align: right;\">\n",
              "      <th></th>\n",
              "      <th>user_id</th>\n",
              "      <th>product_id</th>\n",
              "      <th>rating</th>\n",
              "      <th>timestamp</th>\n",
              "    </tr>\n",
              "  </thead>\n",
              "  <tbody>\n",
              "    <tr>\n",
              "      <th>0</th>\n",
              "      <td>196</td>\n",
              "      <td>242</td>\n",
              "      <td>3.0</td>\n",
              "      <td>881250949</td>\n",
              "    </tr>\n",
              "    <tr>\n",
              "      <th>1</th>\n",
              "      <td>186</td>\n",
              "      <td>302</td>\n",
              "      <td>3.0</td>\n",
              "      <td>891717742</td>\n",
              "    </tr>\n",
              "    <tr>\n",
              "      <th>2</th>\n",
              "      <td>22</td>\n",
              "      <td>377</td>\n",
              "      <td>1.0</td>\n",
              "      <td>878887116</td>\n",
              "    </tr>\n",
              "    <tr>\n",
              "      <th>3</th>\n",
              "      <td>244</td>\n",
              "      <td>51</td>\n",
              "      <td>2.0</td>\n",
              "      <td>880606923</td>\n",
              "    </tr>\n",
              "    <tr>\n",
              "      <th>4</th>\n",
              "      <td>166</td>\n",
              "      <td>346</td>\n",
              "      <td>1.0</td>\n",
              "      <td>886397596</td>\n",
              "    </tr>\n",
              "  </tbody>\n",
              "</table>\n",
              "</div>"
            ],
            "text/plain": [
              "  user_id product_id  rating  timestamp\n",
              "0     196        242     3.0  881250949\n",
              "1     186        302     3.0  891717742\n",
              "2      22        377     1.0  878887116\n",
              "3     244         51     2.0  880606923\n",
              "4     166        346     1.0  886397596"
            ]
          },
          "execution_count": 7,
          "metadata": {},
          "output_type": "execute_result"
        }
      ],
      "source": [
        "movie_df = pd.DataFrame(movie_dataset.raw_ratings,columns=['user_id', 'product_id','rating','timestamp'])\n",
        "movie_df.head()"
      ]
    },
    {
      "attachments": {},
      "cell_type": "markdown",
      "metadata": {
        "id": "NSidJz3qOcWs"
      },
      "source": [
        "ただ、一番右のタイムスタンプがこのままでは日時がわからないので、わかりやすい日時型に変更しましょう。pandasの日時の型に変換するto_datetimeの引数のunitのsはsecondの略で秒単位になります。"
      ]
    },
    {
      "cell_type": "code",
      "execution_count": null,
      "metadata": {
        "id": "G3YgA_2A7aXY"
      },
      "outputs": [],
      "source": [
        "movie_df['timestamp'] = pd.to_datetime(movie_df.timestamp.astype(int), unit='s')"
      ]
    },
    {
      "cell_type": "code",
      "execution_count": null,
      "metadata": {
        "colab": {
          "base_uri": "https://localhost:8080/",
          "height": 206
        },
        "id": "x2GXv7FCOrAv",
        "outputId": "3ae1021c-d706-4a90-f132-fc3c6e1912ee"
      },
      "outputs": [
        {
          "data": {
            "text/html": [
              "<div>\n",
              "<style scoped>\n",
              "    .dataframe tbody tr th:only-of-type {\n",
              "        vertical-align: middle;\n",
              "    }\n",
              "\n",
              "    .dataframe tbody tr th {\n",
              "        vertical-align: top;\n",
              "    }\n",
              "\n",
              "    .dataframe thead th {\n",
              "        text-align: right;\n",
              "    }\n",
              "</style>\n",
              "<table border=\"1\" class=\"dataframe\">\n",
              "  <thead>\n",
              "    <tr style=\"text-align: right;\">\n",
              "      <th></th>\n",
              "      <th>user_id</th>\n",
              "      <th>product_id</th>\n",
              "      <th>rating</th>\n",
              "      <th>timestamp</th>\n",
              "    </tr>\n",
              "  </thead>\n",
              "  <tbody>\n",
              "    <tr>\n",
              "      <th>0</th>\n",
              "      <td>196</td>\n",
              "      <td>242</td>\n",
              "      <td>3.0</td>\n",
              "      <td>1997-12-04 15:55:49</td>\n",
              "    </tr>\n",
              "    <tr>\n",
              "      <th>1</th>\n",
              "      <td>186</td>\n",
              "      <td>302</td>\n",
              "      <td>3.0</td>\n",
              "      <td>1998-04-04 19:22:22</td>\n",
              "    </tr>\n",
              "    <tr>\n",
              "      <th>2</th>\n",
              "      <td>22</td>\n",
              "      <td>377</td>\n",
              "      <td>1.0</td>\n",
              "      <td>1997-11-07 07:18:36</td>\n",
              "    </tr>\n",
              "    <tr>\n",
              "      <th>3</th>\n",
              "      <td>244</td>\n",
              "      <td>51</td>\n",
              "      <td>2.0</td>\n",
              "      <td>1997-11-27 05:02:03</td>\n",
              "    </tr>\n",
              "    <tr>\n",
              "      <th>4</th>\n",
              "      <td>166</td>\n",
              "      <td>346</td>\n",
              "      <td>1.0</td>\n",
              "      <td>1998-02-02 05:33:16</td>\n",
              "    </tr>\n",
              "  </tbody>\n",
              "</table>\n",
              "</div>"
            ],
            "text/plain": [
              "  user_id product_id  rating           timestamp\n",
              "0     196        242     3.0 1997-12-04 15:55:49\n",
              "1     186        302     3.0 1998-04-04 19:22:22\n",
              "2      22        377     1.0 1997-11-07 07:18:36\n",
              "3     244         51     2.0 1997-11-27 05:02:03\n",
              "4     166        346     1.0 1998-02-02 05:33:16"
            ]
          },
          "execution_count": 9,
          "metadata": {},
          "output_type": "execute_result"
        }
      ],
      "source": [
        "movie_df.head()"
      ]
    },
    {
      "cell_type": "code",
      "execution_count": null,
      "metadata": {
        "colab": {
          "base_uri": "https://localhost:8080/"
        },
        "id": "zyW9tmbsq9vy",
        "outputId": "ce507341-9456-4dac-ab76-93f4e1501715"
      },
      "outputs": [
        {
          "name": "stdout",
          "output_type": "stream",
          "text": [
            "<class 'pandas.core.frame.DataFrame'>\n",
            "RangeIndex: 100000 entries, 0 to 99999\n",
            "Data columns (total 4 columns):\n",
            " #   Column      Non-Null Count   Dtype         \n",
            "---  ------      --------------   -----         \n",
            " 0   user_id     100000 non-null  object        \n",
            " 1   product_id  100000 non-null  object        \n",
            " 2   rating      100000 non-null  float64       \n",
            " 3   timestamp   100000 non-null  datetime64[ns]\n",
            "dtypes: datetime64[ns](1), float64(1), object(2)\n",
            "memory usage: 3.1+ MB\n"
          ]
        }
      ],
      "source": [
        "movie_df.info()"
      ]
    },
    {
      "attachments": {},
      "cell_type": "markdown",
      "metadata": {
        "id": "cnrj7FP1FYt4"
      },
      "source": [
        "上よりtimestampは適切にdate型に変換されているのがわかります。また、infoによってデータが10万行あることも確認できます。さて、ここでの目的は、このデータを使って、推薦アルゴリズムを構築することですが、その前にこのデータについて簡単に集計をしてみます。以下から評価したユーザーは943人、プロダクトの数は1682作品あるのがわかりますし、作品によってその平均評価が異なることがわかります。"
      ]
    },
    {
      "cell_type": "code",
      "execution_count": null,
      "metadata": {
        "colab": {
          "base_uri": "https://localhost:8080/"
        },
        "id": "a8_jgkXeFSn-",
        "outputId": "a595d4ce-318f-465c-d878-776bb6e4f3d2"
      },
      "outputs": [
        {
          "data": {
            "text/plain": [
              "943"
            ]
          },
          "execution_count": 11,
          "metadata": {},
          "output_type": "execute_result"
        }
      ],
      "source": [
        "movie_df.user_id.nunique()"
      ]
    },
    {
      "cell_type": "code",
      "execution_count": null,
      "metadata": {
        "colab": {
          "base_uri": "https://localhost:8080/"
        },
        "id": "6xgcuSrdFe7s",
        "outputId": "d113b0c2-7353-44a9-f6d0-2dde2b0d7930"
      },
      "outputs": [
        {
          "data": {
            "text/plain": [
              "1682"
            ]
          },
          "execution_count": 12,
          "metadata": {},
          "output_type": "execute_result"
        }
      ],
      "source": [
        "movie_df.product_id.nunique()"
      ]
    },
    {
      "cell_type": "code",
      "execution_count": null,
      "metadata": {
        "colab": {
          "base_uri": "https://localhost:8080/"
        },
        "id": "wIrWDmzOA5QM",
        "outputId": "21108bea-eb67-4c15-caa7-e1c8f528c913"
      },
      "outputs": [
        {
          "data": {
            "text/plain": [
              "product_id\n",
              "1408    1.0\n",
              "1671    1.0\n",
              "1557    1.0\n",
              "599     1.0\n",
              "1678    1.0\n",
              "       ... \n",
              "1201    5.0\n",
              "1293    5.0\n",
              "1467    5.0\n",
              "1653    5.0\n",
              "1122    5.0\n",
              "Name: rating, Length: 1682, dtype: float64"
            ]
          },
          "execution_count": 13,
          "metadata": {},
          "output_type": "execute_result"
        }
      ],
      "source": [
        "movie_df.groupby([\"product_id\"])[\"rating\"].mean().sort_values()"
      ]
    },
    {
      "attachments": {},
      "cell_type": "markdown",
      "metadata": {
        "id": "oOoj4U3yYGbn"
      },
      "source": [
        "1人でどれくらいの作品を評価しているでしょうか。以下から、このデータは1人あたり20作品から737作品評価する人がいたようです。"
      ]
    },
    {
      "cell_type": "code",
      "execution_count": null,
      "metadata": {
        "colab": {
          "base_uri": "https://localhost:8080/"
        },
        "id": "8rE7sCDDXv4c",
        "outputId": "0b755f19-195c-4427-e8a0-81ae64bb67f1"
      },
      "outputs": [
        {
          "data": {
            "text/plain": [
              "user_id\n",
              "405    737\n",
              "655    685\n",
              "13     636\n",
              "450    540\n",
              "276    518\n",
              "      ... \n",
              "824     20\n",
              "202     20\n",
              "418     20\n",
              "19      20\n",
              "143     20\n",
              "Name: product_id, Length: 943, dtype: int64"
            ]
          },
          "execution_count": 14,
          "metadata": {},
          "output_type": "execute_result"
        }
      ],
      "source": [
        "movie_df.groupby([\"user_id\"])[\"product_id\"].nunique().sort_values(ascending=False)"
      ]
    },
    {
      "attachments": {},
      "cell_type": "markdown",
      "metadata": {
        "id": "HniP-UxWHU-m"
      },
      "source": [
        "次に、この推薦アルゴリズムを構築する時は、ユーザーIDごとにそれぞれの映画の評価がどうなのか2次元の表（行列の形）にすることが多く、表の作成は以下のような実装になります。（pandasのpivot_tableを使います。）"
      ]
    },
    {
      "cell_type": "code",
      "execution_count": null,
      "metadata": {
        "colab": {
          "base_uri": "https://localhost:8080/",
          "height": 475
        },
        "id": "OEYbRO_fHIwx",
        "outputId": "0446af97-08c3-40cf-d239-6dbec6965ee1"
      },
      "outputs": [
        {
          "data": {
            "text/html": [
              "<div>\n",
              "<style scoped>\n",
              "    .dataframe tbody tr th:only-of-type {\n",
              "        vertical-align: middle;\n",
              "    }\n",
              "\n",
              "    .dataframe tbody tr th {\n",
              "        vertical-align: top;\n",
              "    }\n",
              "\n",
              "    .dataframe thead th {\n",
              "        text-align: right;\n",
              "    }\n",
              "</style>\n",
              "<table border=\"1\" class=\"dataframe\">\n",
              "  <thead>\n",
              "    <tr style=\"text-align: right;\">\n",
              "      <th>product_id</th>\n",
              "      <th>1</th>\n",
              "      <th>10</th>\n",
              "      <th>100</th>\n",
              "      <th>1000</th>\n",
              "      <th>1001</th>\n",
              "      <th>1002</th>\n",
              "      <th>1003</th>\n",
              "      <th>1004</th>\n",
              "      <th>1005</th>\n",
              "      <th>1006</th>\n",
              "      <th>1007</th>\n",
              "      <th>1008</th>\n",
              "      <th>1009</th>\n",
              "      <th>101</th>\n",
              "      <th>1010</th>\n",
              "      <th>1011</th>\n",
              "      <th>1012</th>\n",
              "      <th>1013</th>\n",
              "      <th>1014</th>\n",
              "      <th>1015</th>\n",
              "      <th>1016</th>\n",
              "      <th>1017</th>\n",
              "      <th>1018</th>\n",
              "      <th>1019</th>\n",
              "      <th>102</th>\n",
              "      <th>1020</th>\n",
              "      <th>1021</th>\n",
              "      <th>1022</th>\n",
              "      <th>1023</th>\n",
              "      <th>1024</th>\n",
              "      <th>1025</th>\n",
              "      <th>1026</th>\n",
              "      <th>1027</th>\n",
              "      <th>1028</th>\n",
              "      <th>1029</th>\n",
              "      <th>103</th>\n",
              "      <th>1030</th>\n",
              "      <th>1031</th>\n",
              "      <th>1032</th>\n",
              "      <th>1033</th>\n",
              "      <th>...</th>\n",
              "      <th>963</th>\n",
              "      <th>964</th>\n",
              "      <th>965</th>\n",
              "      <th>966</th>\n",
              "      <th>967</th>\n",
              "      <th>968</th>\n",
              "      <th>969</th>\n",
              "      <th>97</th>\n",
              "      <th>970</th>\n",
              "      <th>971</th>\n",
              "      <th>972</th>\n",
              "      <th>973</th>\n",
              "      <th>974</th>\n",
              "      <th>975</th>\n",
              "      <th>976</th>\n",
              "      <th>977</th>\n",
              "      <th>978</th>\n",
              "      <th>979</th>\n",
              "      <th>98</th>\n",
              "      <th>980</th>\n",
              "      <th>981</th>\n",
              "      <th>982</th>\n",
              "      <th>983</th>\n",
              "      <th>984</th>\n",
              "      <th>985</th>\n",
              "      <th>986</th>\n",
              "      <th>987</th>\n",
              "      <th>988</th>\n",
              "      <th>989</th>\n",
              "      <th>99</th>\n",
              "      <th>990</th>\n",
              "      <th>991</th>\n",
              "      <th>992</th>\n",
              "      <th>993</th>\n",
              "      <th>994</th>\n",
              "      <th>995</th>\n",
              "      <th>996</th>\n",
              "      <th>997</th>\n",
              "      <th>998</th>\n",
              "      <th>999</th>\n",
              "    </tr>\n",
              "    <tr>\n",
              "      <th>user_id</th>\n",
              "      <th></th>\n",
              "      <th></th>\n",
              "      <th></th>\n",
              "      <th></th>\n",
              "      <th></th>\n",
              "      <th></th>\n",
              "      <th></th>\n",
              "      <th></th>\n",
              "      <th></th>\n",
              "      <th></th>\n",
              "      <th></th>\n",
              "      <th></th>\n",
              "      <th></th>\n",
              "      <th></th>\n",
              "      <th></th>\n",
              "      <th></th>\n",
              "      <th></th>\n",
              "      <th></th>\n",
              "      <th></th>\n",
              "      <th></th>\n",
              "      <th></th>\n",
              "      <th></th>\n",
              "      <th></th>\n",
              "      <th></th>\n",
              "      <th></th>\n",
              "      <th></th>\n",
              "      <th></th>\n",
              "      <th></th>\n",
              "      <th></th>\n",
              "      <th></th>\n",
              "      <th></th>\n",
              "      <th></th>\n",
              "      <th></th>\n",
              "      <th></th>\n",
              "      <th></th>\n",
              "      <th></th>\n",
              "      <th></th>\n",
              "      <th></th>\n",
              "      <th></th>\n",
              "      <th></th>\n",
              "      <th></th>\n",
              "      <th></th>\n",
              "      <th></th>\n",
              "      <th></th>\n",
              "      <th></th>\n",
              "      <th></th>\n",
              "      <th></th>\n",
              "      <th></th>\n",
              "      <th></th>\n",
              "      <th></th>\n",
              "      <th></th>\n",
              "      <th></th>\n",
              "      <th></th>\n",
              "      <th></th>\n",
              "      <th></th>\n",
              "      <th></th>\n",
              "      <th></th>\n",
              "      <th></th>\n",
              "      <th></th>\n",
              "      <th></th>\n",
              "      <th></th>\n",
              "      <th></th>\n",
              "      <th></th>\n",
              "      <th></th>\n",
              "      <th></th>\n",
              "      <th></th>\n",
              "      <th></th>\n",
              "      <th></th>\n",
              "      <th></th>\n",
              "      <th></th>\n",
              "      <th></th>\n",
              "      <th></th>\n",
              "      <th></th>\n",
              "      <th></th>\n",
              "      <th></th>\n",
              "      <th></th>\n",
              "      <th></th>\n",
              "      <th></th>\n",
              "      <th></th>\n",
              "      <th></th>\n",
              "      <th></th>\n",
              "    </tr>\n",
              "  </thead>\n",
              "  <tbody>\n",
              "    <tr>\n",
              "      <th>1</th>\n",
              "      <td>5.0</td>\n",
              "      <td>3.0</td>\n",
              "      <td>5.0</td>\n",
              "      <td>NaN</td>\n",
              "      <td>NaN</td>\n",
              "      <td>NaN</td>\n",
              "      <td>NaN</td>\n",
              "      <td>NaN</td>\n",
              "      <td>NaN</td>\n",
              "      <td>NaN</td>\n",
              "      <td>NaN</td>\n",
              "      <td>NaN</td>\n",
              "      <td>NaN</td>\n",
              "      <td>2.0</td>\n",
              "      <td>NaN</td>\n",
              "      <td>NaN</td>\n",
              "      <td>NaN</td>\n",
              "      <td>NaN</td>\n",
              "      <td>NaN</td>\n",
              "      <td>NaN</td>\n",
              "      <td>NaN</td>\n",
              "      <td>NaN</td>\n",
              "      <td>NaN</td>\n",
              "      <td>NaN</td>\n",
              "      <td>2.0</td>\n",
              "      <td>NaN</td>\n",
              "      <td>NaN</td>\n",
              "      <td>NaN</td>\n",
              "      <td>NaN</td>\n",
              "      <td>NaN</td>\n",
              "      <td>NaN</td>\n",
              "      <td>NaN</td>\n",
              "      <td>NaN</td>\n",
              "      <td>NaN</td>\n",
              "      <td>NaN</td>\n",
              "      <td>1.0</td>\n",
              "      <td>NaN</td>\n",
              "      <td>NaN</td>\n",
              "      <td>NaN</td>\n",
              "      <td>NaN</td>\n",
              "      <td>...</td>\n",
              "      <td>NaN</td>\n",
              "      <td>NaN</td>\n",
              "      <td>NaN</td>\n",
              "      <td>NaN</td>\n",
              "      <td>NaN</td>\n",
              "      <td>NaN</td>\n",
              "      <td>NaN</td>\n",
              "      <td>3.0</td>\n",
              "      <td>NaN</td>\n",
              "      <td>NaN</td>\n",
              "      <td>NaN</td>\n",
              "      <td>NaN</td>\n",
              "      <td>NaN</td>\n",
              "      <td>NaN</td>\n",
              "      <td>NaN</td>\n",
              "      <td>NaN</td>\n",
              "      <td>NaN</td>\n",
              "      <td>NaN</td>\n",
              "      <td>4.0</td>\n",
              "      <td>NaN</td>\n",
              "      <td>NaN</td>\n",
              "      <td>NaN</td>\n",
              "      <td>NaN</td>\n",
              "      <td>NaN</td>\n",
              "      <td>NaN</td>\n",
              "      <td>NaN</td>\n",
              "      <td>NaN</td>\n",
              "      <td>NaN</td>\n",
              "      <td>NaN</td>\n",
              "      <td>3.0</td>\n",
              "      <td>NaN</td>\n",
              "      <td>NaN</td>\n",
              "      <td>NaN</td>\n",
              "      <td>NaN</td>\n",
              "      <td>NaN</td>\n",
              "      <td>NaN</td>\n",
              "      <td>NaN</td>\n",
              "      <td>NaN</td>\n",
              "      <td>NaN</td>\n",
              "      <td>NaN</td>\n",
              "    </tr>\n",
              "    <tr>\n",
              "      <th>10</th>\n",
              "      <td>4.0</td>\n",
              "      <td>NaN</td>\n",
              "      <td>5.0</td>\n",
              "      <td>NaN</td>\n",
              "      <td>NaN</td>\n",
              "      <td>NaN</td>\n",
              "      <td>NaN</td>\n",
              "      <td>NaN</td>\n",
              "      <td>NaN</td>\n",
              "      <td>NaN</td>\n",
              "      <td>NaN</td>\n",
              "      <td>NaN</td>\n",
              "      <td>NaN</td>\n",
              "      <td>NaN</td>\n",
              "      <td>NaN</td>\n",
              "      <td>NaN</td>\n",
              "      <td>NaN</td>\n",
              "      <td>NaN</td>\n",
              "      <td>NaN</td>\n",
              "      <td>NaN</td>\n",
              "      <td>NaN</td>\n",
              "      <td>NaN</td>\n",
              "      <td>NaN</td>\n",
              "      <td>NaN</td>\n",
              "      <td>NaN</td>\n",
              "      <td>NaN</td>\n",
              "      <td>NaN</td>\n",
              "      <td>NaN</td>\n",
              "      <td>NaN</td>\n",
              "      <td>NaN</td>\n",
              "      <td>NaN</td>\n",
              "      <td>NaN</td>\n",
              "      <td>NaN</td>\n",
              "      <td>NaN</td>\n",
              "      <td>NaN</td>\n",
              "      <td>NaN</td>\n",
              "      <td>NaN</td>\n",
              "      <td>NaN</td>\n",
              "      <td>NaN</td>\n",
              "      <td>NaN</td>\n",
              "      <td>...</td>\n",
              "      <td>NaN</td>\n",
              "      <td>NaN</td>\n",
              "      <td>NaN</td>\n",
              "      <td>NaN</td>\n",
              "      <td>NaN</td>\n",
              "      <td>NaN</td>\n",
              "      <td>NaN</td>\n",
              "      <td>NaN</td>\n",
              "      <td>NaN</td>\n",
              "      <td>NaN</td>\n",
              "      <td>NaN</td>\n",
              "      <td>NaN</td>\n",
              "      <td>NaN</td>\n",
              "      <td>NaN</td>\n",
              "      <td>NaN</td>\n",
              "      <td>NaN</td>\n",
              "      <td>NaN</td>\n",
              "      <td>NaN</td>\n",
              "      <td>4.0</td>\n",
              "      <td>NaN</td>\n",
              "      <td>NaN</td>\n",
              "      <td>NaN</td>\n",
              "      <td>NaN</td>\n",
              "      <td>NaN</td>\n",
              "      <td>NaN</td>\n",
              "      <td>NaN</td>\n",
              "      <td>NaN</td>\n",
              "      <td>NaN</td>\n",
              "      <td>NaN</td>\n",
              "      <td>5.0</td>\n",
              "      <td>NaN</td>\n",
              "      <td>NaN</td>\n",
              "      <td>NaN</td>\n",
              "      <td>NaN</td>\n",
              "      <td>NaN</td>\n",
              "      <td>NaN</td>\n",
              "      <td>NaN</td>\n",
              "      <td>NaN</td>\n",
              "      <td>NaN</td>\n",
              "      <td>NaN</td>\n",
              "    </tr>\n",
              "    <tr>\n",
              "      <th>100</th>\n",
              "      <td>NaN</td>\n",
              "      <td>NaN</td>\n",
              "      <td>NaN</td>\n",
              "      <td>NaN</td>\n",
              "      <td>NaN</td>\n",
              "      <td>NaN</td>\n",
              "      <td>NaN</td>\n",
              "      <td>NaN</td>\n",
              "      <td>NaN</td>\n",
              "      <td>NaN</td>\n",
              "      <td>NaN</td>\n",
              "      <td>NaN</td>\n",
              "      <td>NaN</td>\n",
              "      <td>NaN</td>\n",
              "      <td>NaN</td>\n",
              "      <td>NaN</td>\n",
              "      <td>NaN</td>\n",
              "      <td>NaN</td>\n",
              "      <td>NaN</td>\n",
              "      <td>NaN</td>\n",
              "      <td>NaN</td>\n",
              "      <td>NaN</td>\n",
              "      <td>NaN</td>\n",
              "      <td>NaN</td>\n",
              "      <td>NaN</td>\n",
              "      <td>NaN</td>\n",
              "      <td>NaN</td>\n",
              "      <td>NaN</td>\n",
              "      <td>NaN</td>\n",
              "      <td>NaN</td>\n",
              "      <td>NaN</td>\n",
              "      <td>NaN</td>\n",
              "      <td>NaN</td>\n",
              "      <td>NaN</td>\n",
              "      <td>NaN</td>\n",
              "      <td>NaN</td>\n",
              "      <td>NaN</td>\n",
              "      <td>NaN</td>\n",
              "      <td>NaN</td>\n",
              "      <td>NaN</td>\n",
              "      <td>...</td>\n",
              "      <td>NaN</td>\n",
              "      <td>NaN</td>\n",
              "      <td>NaN</td>\n",
              "      <td>NaN</td>\n",
              "      <td>NaN</td>\n",
              "      <td>NaN</td>\n",
              "      <td>NaN</td>\n",
              "      <td>NaN</td>\n",
              "      <td>NaN</td>\n",
              "      <td>NaN</td>\n",
              "      <td>NaN</td>\n",
              "      <td>NaN</td>\n",
              "      <td>NaN</td>\n",
              "      <td>NaN</td>\n",
              "      <td>NaN</td>\n",
              "      <td>NaN</td>\n",
              "      <td>NaN</td>\n",
              "      <td>NaN</td>\n",
              "      <td>NaN</td>\n",
              "      <td>NaN</td>\n",
              "      <td>NaN</td>\n",
              "      <td>NaN</td>\n",
              "      <td>NaN</td>\n",
              "      <td>NaN</td>\n",
              "      <td>NaN</td>\n",
              "      <td>NaN</td>\n",
              "      <td>NaN</td>\n",
              "      <td>NaN</td>\n",
              "      <td>NaN</td>\n",
              "      <td>NaN</td>\n",
              "      <td>3.0</td>\n",
              "      <td>NaN</td>\n",
              "      <td>NaN</td>\n",
              "      <td>NaN</td>\n",
              "      <td>NaN</td>\n",
              "      <td>NaN</td>\n",
              "      <td>NaN</td>\n",
              "      <td>NaN</td>\n",
              "      <td>NaN</td>\n",
              "      <td>NaN</td>\n",
              "    </tr>\n",
              "    <tr>\n",
              "      <th>101</th>\n",
              "      <td>3.0</td>\n",
              "      <td>NaN</td>\n",
              "      <td>NaN</td>\n",
              "      <td>NaN</td>\n",
              "      <td>NaN</td>\n",
              "      <td>NaN</td>\n",
              "      <td>NaN</td>\n",
              "      <td>NaN</td>\n",
              "      <td>NaN</td>\n",
              "      <td>NaN</td>\n",
              "      <td>NaN</td>\n",
              "      <td>NaN</td>\n",
              "      <td>2.0</td>\n",
              "      <td>NaN</td>\n",
              "      <td>NaN</td>\n",
              "      <td>NaN</td>\n",
              "      <td>NaN</td>\n",
              "      <td>NaN</td>\n",
              "      <td>NaN</td>\n",
              "      <td>NaN</td>\n",
              "      <td>NaN</td>\n",
              "      <td>NaN</td>\n",
              "      <td>NaN</td>\n",
              "      <td>NaN</td>\n",
              "      <td>NaN</td>\n",
              "      <td>NaN</td>\n",
              "      <td>NaN</td>\n",
              "      <td>NaN</td>\n",
              "      <td>NaN</td>\n",
              "      <td>NaN</td>\n",
              "      <td>NaN</td>\n",
              "      <td>NaN</td>\n",
              "      <td>NaN</td>\n",
              "      <td>3.0</td>\n",
              "      <td>NaN</td>\n",
              "      <td>NaN</td>\n",
              "      <td>NaN</td>\n",
              "      <td>NaN</td>\n",
              "      <td>NaN</td>\n",
              "      <td>NaN</td>\n",
              "      <td>...</td>\n",
              "      <td>NaN</td>\n",
              "      <td>NaN</td>\n",
              "      <td>NaN</td>\n",
              "      <td>NaN</td>\n",
              "      <td>NaN</td>\n",
              "      <td>NaN</td>\n",
              "      <td>NaN</td>\n",
              "      <td>NaN</td>\n",
              "      <td>NaN</td>\n",
              "      <td>NaN</td>\n",
              "      <td>NaN</td>\n",
              "      <td>NaN</td>\n",
              "      <td>NaN</td>\n",
              "      <td>2.0</td>\n",
              "      <td>NaN</td>\n",
              "      <td>NaN</td>\n",
              "      <td>NaN</td>\n",
              "      <td>2.0</td>\n",
              "      <td>NaN</td>\n",
              "      <td>NaN</td>\n",
              "      <td>NaN</td>\n",
              "      <td>NaN</td>\n",
              "      <td>NaN</td>\n",
              "      <td>NaN</td>\n",
              "      <td>NaN</td>\n",
              "      <td>NaN</td>\n",
              "      <td>NaN</td>\n",
              "      <td>NaN</td>\n",
              "      <td>NaN</td>\n",
              "      <td>NaN</td>\n",
              "      <td>NaN</td>\n",
              "      <td>NaN</td>\n",
              "      <td>NaN</td>\n",
              "      <td>NaN</td>\n",
              "      <td>NaN</td>\n",
              "      <td>NaN</td>\n",
              "      <td>NaN</td>\n",
              "      <td>NaN</td>\n",
              "      <td>NaN</td>\n",
              "      <td>NaN</td>\n",
              "    </tr>\n",
              "    <tr>\n",
              "      <th>102</th>\n",
              "      <td>3.0</td>\n",
              "      <td>NaN</td>\n",
              "      <td>NaN</td>\n",
              "      <td>NaN</td>\n",
              "      <td>NaN</td>\n",
              "      <td>NaN</td>\n",
              "      <td>NaN</td>\n",
              "      <td>NaN</td>\n",
              "      <td>NaN</td>\n",
              "      <td>NaN</td>\n",
              "      <td>NaN</td>\n",
              "      <td>NaN</td>\n",
              "      <td>NaN</td>\n",
              "      <td>4.0</td>\n",
              "      <td>NaN</td>\n",
              "      <td>NaN</td>\n",
              "      <td>NaN</td>\n",
              "      <td>NaN</td>\n",
              "      <td>NaN</td>\n",
              "      <td>NaN</td>\n",
              "      <td>NaN</td>\n",
              "      <td>NaN</td>\n",
              "      <td>NaN</td>\n",
              "      <td>NaN</td>\n",
              "      <td>3.0</td>\n",
              "      <td>NaN</td>\n",
              "      <td>NaN</td>\n",
              "      <td>NaN</td>\n",
              "      <td>NaN</td>\n",
              "      <td>NaN</td>\n",
              "      <td>2.0</td>\n",
              "      <td>NaN</td>\n",
              "      <td>NaN</td>\n",
              "      <td>NaN</td>\n",
              "      <td>NaN</td>\n",
              "      <td>NaN</td>\n",
              "      <td>1.0</td>\n",
              "      <td>NaN</td>\n",
              "      <td>NaN</td>\n",
              "      <td>NaN</td>\n",
              "      <td>...</td>\n",
              "      <td>NaN</td>\n",
              "      <td>NaN</td>\n",
              "      <td>NaN</td>\n",
              "      <td>NaN</td>\n",
              "      <td>NaN</td>\n",
              "      <td>NaN</td>\n",
              "      <td>NaN</td>\n",
              "      <td>NaN</td>\n",
              "      <td>NaN</td>\n",
              "      <td>NaN</td>\n",
              "      <td>NaN</td>\n",
              "      <td>NaN</td>\n",
              "      <td>NaN</td>\n",
              "      <td>NaN</td>\n",
              "      <td>NaN</td>\n",
              "      <td>NaN</td>\n",
              "      <td>NaN</td>\n",
              "      <td>NaN</td>\n",
              "      <td>4.0</td>\n",
              "      <td>NaN</td>\n",
              "      <td>NaN</td>\n",
              "      <td>NaN</td>\n",
              "      <td>NaN</td>\n",
              "      <td>NaN</td>\n",
              "      <td>NaN</td>\n",
              "      <td>1.0</td>\n",
              "      <td>NaN</td>\n",
              "      <td>NaN</td>\n",
              "      <td>NaN</td>\n",
              "      <td>2.0</td>\n",
              "      <td>NaN</td>\n",
              "      <td>NaN</td>\n",
              "      <td>NaN</td>\n",
              "      <td>2.0</td>\n",
              "      <td>NaN</td>\n",
              "      <td>NaN</td>\n",
              "      <td>NaN</td>\n",
              "      <td>NaN</td>\n",
              "      <td>NaN</td>\n",
              "      <td>NaN</td>\n",
              "    </tr>\n",
              "    <tr>\n",
              "      <th>...</th>\n",
              "      <td>...</td>\n",
              "      <td>...</td>\n",
              "      <td>...</td>\n",
              "      <td>...</td>\n",
              "      <td>...</td>\n",
              "      <td>...</td>\n",
              "      <td>...</td>\n",
              "      <td>...</td>\n",
              "      <td>...</td>\n",
              "      <td>...</td>\n",
              "      <td>...</td>\n",
              "      <td>...</td>\n",
              "      <td>...</td>\n",
              "      <td>...</td>\n",
              "      <td>...</td>\n",
              "      <td>...</td>\n",
              "      <td>...</td>\n",
              "      <td>...</td>\n",
              "      <td>...</td>\n",
              "      <td>...</td>\n",
              "      <td>...</td>\n",
              "      <td>...</td>\n",
              "      <td>...</td>\n",
              "      <td>...</td>\n",
              "      <td>...</td>\n",
              "      <td>...</td>\n",
              "      <td>...</td>\n",
              "      <td>...</td>\n",
              "      <td>...</td>\n",
              "      <td>...</td>\n",
              "      <td>...</td>\n",
              "      <td>...</td>\n",
              "      <td>...</td>\n",
              "      <td>...</td>\n",
              "      <td>...</td>\n",
              "      <td>...</td>\n",
              "      <td>...</td>\n",
              "      <td>...</td>\n",
              "      <td>...</td>\n",
              "      <td>...</td>\n",
              "      <td>...</td>\n",
              "      <td>...</td>\n",
              "      <td>...</td>\n",
              "      <td>...</td>\n",
              "      <td>...</td>\n",
              "      <td>...</td>\n",
              "      <td>...</td>\n",
              "      <td>...</td>\n",
              "      <td>...</td>\n",
              "      <td>...</td>\n",
              "      <td>...</td>\n",
              "      <td>...</td>\n",
              "      <td>...</td>\n",
              "      <td>...</td>\n",
              "      <td>...</td>\n",
              "      <td>...</td>\n",
              "      <td>...</td>\n",
              "      <td>...</td>\n",
              "      <td>...</td>\n",
              "      <td>...</td>\n",
              "      <td>...</td>\n",
              "      <td>...</td>\n",
              "      <td>...</td>\n",
              "      <td>...</td>\n",
              "      <td>...</td>\n",
              "      <td>...</td>\n",
              "      <td>...</td>\n",
              "      <td>...</td>\n",
              "      <td>...</td>\n",
              "      <td>...</td>\n",
              "      <td>...</td>\n",
              "      <td>...</td>\n",
              "      <td>...</td>\n",
              "      <td>...</td>\n",
              "      <td>...</td>\n",
              "      <td>...</td>\n",
              "      <td>...</td>\n",
              "      <td>...</td>\n",
              "      <td>...</td>\n",
              "      <td>...</td>\n",
              "      <td>...</td>\n",
              "    </tr>\n",
              "    <tr>\n",
              "      <th>95</th>\n",
              "      <td>5.0</td>\n",
              "      <td>NaN</td>\n",
              "      <td>NaN</td>\n",
              "      <td>NaN</td>\n",
              "      <td>NaN</td>\n",
              "      <td>NaN</td>\n",
              "      <td>NaN</td>\n",
              "      <td>NaN</td>\n",
              "      <td>NaN</td>\n",
              "      <td>NaN</td>\n",
              "      <td>NaN</td>\n",
              "      <td>NaN</td>\n",
              "      <td>NaN</td>\n",
              "      <td>1.0</td>\n",
              "      <td>NaN</td>\n",
              "      <td>NaN</td>\n",
              "      <td>NaN</td>\n",
              "      <td>NaN</td>\n",
              "      <td>NaN</td>\n",
              "      <td>NaN</td>\n",
              "      <td>NaN</td>\n",
              "      <td>NaN</td>\n",
              "      <td>3.0</td>\n",
              "      <td>NaN</td>\n",
              "      <td>4.0</td>\n",
              "      <td>NaN</td>\n",
              "      <td>NaN</td>\n",
              "      <td>NaN</td>\n",
              "      <td>NaN</td>\n",
              "      <td>NaN</td>\n",
              "      <td>NaN</td>\n",
              "      <td>NaN</td>\n",
              "      <td>NaN</td>\n",
              "      <td>NaN</td>\n",
              "      <td>NaN</td>\n",
              "      <td>NaN</td>\n",
              "      <td>NaN</td>\n",
              "      <td>NaN</td>\n",
              "      <td>NaN</td>\n",
              "      <td>NaN</td>\n",
              "      <td>...</td>\n",
              "      <td>NaN</td>\n",
              "      <td>NaN</td>\n",
              "      <td>NaN</td>\n",
              "      <td>NaN</td>\n",
              "      <td>NaN</td>\n",
              "      <td>5.0</td>\n",
              "      <td>NaN</td>\n",
              "      <td>4.0</td>\n",
              "      <td>NaN</td>\n",
              "      <td>3.0</td>\n",
              "      <td>NaN</td>\n",
              "      <td>NaN</td>\n",
              "      <td>NaN</td>\n",
              "      <td>NaN</td>\n",
              "      <td>2.0</td>\n",
              "      <td>NaN</td>\n",
              "      <td>NaN</td>\n",
              "      <td>NaN</td>\n",
              "      <td>4.0</td>\n",
              "      <td>NaN</td>\n",
              "      <td>NaN</td>\n",
              "      <td>NaN</td>\n",
              "      <td>NaN</td>\n",
              "      <td>NaN</td>\n",
              "      <td>NaN</td>\n",
              "      <td>NaN</td>\n",
              "      <td>NaN</td>\n",
              "      <td>NaN</td>\n",
              "      <td>NaN</td>\n",
              "      <td>4.0</td>\n",
              "      <td>NaN</td>\n",
              "      <td>NaN</td>\n",
              "      <td>NaN</td>\n",
              "      <td>NaN</td>\n",
              "      <td>NaN</td>\n",
              "      <td>NaN</td>\n",
              "      <td>NaN</td>\n",
              "      <td>NaN</td>\n",
              "      <td>NaN</td>\n",
              "      <td>NaN</td>\n",
              "    </tr>\n",
              "    <tr>\n",
              "      <th>96</th>\n",
              "      <td>5.0</td>\n",
              "      <td>NaN</td>\n",
              "      <td>5.0</td>\n",
              "      <td>NaN</td>\n",
              "      <td>NaN</td>\n",
              "      <td>NaN</td>\n",
              "      <td>NaN</td>\n",
              "      <td>NaN</td>\n",
              "      <td>NaN</td>\n",
              "      <td>NaN</td>\n",
              "      <td>NaN</td>\n",
              "      <td>NaN</td>\n",
              "      <td>NaN</td>\n",
              "      <td>NaN</td>\n",
              "      <td>NaN</td>\n",
              "      <td>NaN</td>\n",
              "      <td>NaN</td>\n",
              "      <td>NaN</td>\n",
              "      <td>NaN</td>\n",
              "      <td>NaN</td>\n",
              "      <td>NaN</td>\n",
              "      <td>NaN</td>\n",
              "      <td>NaN</td>\n",
              "      <td>NaN</td>\n",
              "      <td>NaN</td>\n",
              "      <td>NaN</td>\n",
              "      <td>NaN</td>\n",
              "      <td>NaN</td>\n",
              "      <td>NaN</td>\n",
              "      <td>NaN</td>\n",
              "      <td>NaN</td>\n",
              "      <td>NaN</td>\n",
              "      <td>NaN</td>\n",
              "      <td>NaN</td>\n",
              "      <td>NaN</td>\n",
              "      <td>NaN</td>\n",
              "      <td>NaN</td>\n",
              "      <td>NaN</td>\n",
              "      <td>NaN</td>\n",
              "      <td>NaN</td>\n",
              "      <td>...</td>\n",
              "      <td>NaN</td>\n",
              "      <td>NaN</td>\n",
              "      <td>NaN</td>\n",
              "      <td>NaN</td>\n",
              "      <td>NaN</td>\n",
              "      <td>NaN</td>\n",
              "      <td>NaN</td>\n",
              "      <td>NaN</td>\n",
              "      <td>NaN</td>\n",
              "      <td>NaN</td>\n",
              "      <td>NaN</td>\n",
              "      <td>NaN</td>\n",
              "      <td>NaN</td>\n",
              "      <td>NaN</td>\n",
              "      <td>NaN</td>\n",
              "      <td>NaN</td>\n",
              "      <td>NaN</td>\n",
              "      <td>NaN</td>\n",
              "      <td>5.0</td>\n",
              "      <td>NaN</td>\n",
              "      <td>NaN</td>\n",
              "      <td>NaN</td>\n",
              "      <td>NaN</td>\n",
              "      <td>NaN</td>\n",
              "      <td>NaN</td>\n",
              "      <td>NaN</td>\n",
              "      <td>NaN</td>\n",
              "      <td>NaN</td>\n",
              "      <td>NaN</td>\n",
              "      <td>NaN</td>\n",
              "      <td>NaN</td>\n",
              "      <td>NaN</td>\n",
              "      <td>NaN</td>\n",
              "      <td>NaN</td>\n",
              "      <td>NaN</td>\n",
              "      <td>NaN</td>\n",
              "      <td>NaN</td>\n",
              "      <td>NaN</td>\n",
              "      <td>NaN</td>\n",
              "      <td>NaN</td>\n",
              "    </tr>\n",
              "    <tr>\n",
              "      <th>97</th>\n",
              "      <td>4.0</td>\n",
              "      <td>NaN</td>\n",
              "      <td>2.0</td>\n",
              "      <td>NaN</td>\n",
              "      <td>NaN</td>\n",
              "      <td>NaN</td>\n",
              "      <td>NaN</td>\n",
              "      <td>NaN</td>\n",
              "      <td>NaN</td>\n",
              "      <td>NaN</td>\n",
              "      <td>NaN</td>\n",
              "      <td>NaN</td>\n",
              "      <td>NaN</td>\n",
              "      <td>NaN</td>\n",
              "      <td>NaN</td>\n",
              "      <td>NaN</td>\n",
              "      <td>NaN</td>\n",
              "      <td>NaN</td>\n",
              "      <td>NaN</td>\n",
              "      <td>NaN</td>\n",
              "      <td>NaN</td>\n",
              "      <td>NaN</td>\n",
              "      <td>NaN</td>\n",
              "      <td>NaN</td>\n",
              "      <td>NaN</td>\n",
              "      <td>NaN</td>\n",
              "      <td>NaN</td>\n",
              "      <td>NaN</td>\n",
              "      <td>NaN</td>\n",
              "      <td>NaN</td>\n",
              "      <td>NaN</td>\n",
              "      <td>NaN</td>\n",
              "      <td>NaN</td>\n",
              "      <td>NaN</td>\n",
              "      <td>NaN</td>\n",
              "      <td>NaN</td>\n",
              "      <td>NaN</td>\n",
              "      <td>NaN</td>\n",
              "      <td>NaN</td>\n",
              "      <td>NaN</td>\n",
              "      <td>...</td>\n",
              "      <td>NaN</td>\n",
              "      <td>NaN</td>\n",
              "      <td>NaN</td>\n",
              "      <td>NaN</td>\n",
              "      <td>NaN</td>\n",
              "      <td>NaN</td>\n",
              "      <td>NaN</td>\n",
              "      <td>5.0</td>\n",
              "      <td>NaN</td>\n",
              "      <td>NaN</td>\n",
              "      <td>NaN</td>\n",
              "      <td>NaN</td>\n",
              "      <td>NaN</td>\n",
              "      <td>NaN</td>\n",
              "      <td>NaN</td>\n",
              "      <td>NaN</td>\n",
              "      <td>NaN</td>\n",
              "      <td>NaN</td>\n",
              "      <td>4.0</td>\n",
              "      <td>NaN</td>\n",
              "      <td>NaN</td>\n",
              "      <td>NaN</td>\n",
              "      <td>NaN</td>\n",
              "      <td>NaN</td>\n",
              "      <td>NaN</td>\n",
              "      <td>NaN</td>\n",
              "      <td>NaN</td>\n",
              "      <td>NaN</td>\n",
              "      <td>NaN</td>\n",
              "      <td>NaN</td>\n",
              "      <td>NaN</td>\n",
              "      <td>NaN</td>\n",
              "      <td>NaN</td>\n",
              "      <td>NaN</td>\n",
              "      <td>NaN</td>\n",
              "      <td>NaN</td>\n",
              "      <td>NaN</td>\n",
              "      <td>NaN</td>\n",
              "      <td>NaN</td>\n",
              "      <td>NaN</td>\n",
              "    </tr>\n",
              "    <tr>\n",
              "      <th>98</th>\n",
              "      <td>NaN</td>\n",
              "      <td>NaN</td>\n",
              "      <td>NaN</td>\n",
              "      <td>NaN</td>\n",
              "      <td>NaN</td>\n",
              "      <td>NaN</td>\n",
              "      <td>NaN</td>\n",
              "      <td>NaN</td>\n",
              "      <td>NaN</td>\n",
              "      <td>NaN</td>\n",
              "      <td>NaN</td>\n",
              "      <td>NaN</td>\n",
              "      <td>NaN</td>\n",
              "      <td>NaN</td>\n",
              "      <td>NaN</td>\n",
              "      <td>NaN</td>\n",
              "      <td>NaN</td>\n",
              "      <td>NaN</td>\n",
              "      <td>NaN</td>\n",
              "      <td>NaN</td>\n",
              "      <td>NaN</td>\n",
              "      <td>NaN</td>\n",
              "      <td>NaN</td>\n",
              "      <td>NaN</td>\n",
              "      <td>NaN</td>\n",
              "      <td>NaN</td>\n",
              "      <td>NaN</td>\n",
              "      <td>NaN</td>\n",
              "      <td>NaN</td>\n",
              "      <td>NaN</td>\n",
              "      <td>NaN</td>\n",
              "      <td>NaN</td>\n",
              "      <td>NaN</td>\n",
              "      <td>NaN</td>\n",
              "      <td>NaN</td>\n",
              "      <td>NaN</td>\n",
              "      <td>NaN</td>\n",
              "      <td>NaN</td>\n",
              "      <td>NaN</td>\n",
              "      <td>NaN</td>\n",
              "      <td>...</td>\n",
              "      <td>NaN</td>\n",
              "      <td>NaN</td>\n",
              "      <td>NaN</td>\n",
              "      <td>NaN</td>\n",
              "      <td>NaN</td>\n",
              "      <td>NaN</td>\n",
              "      <td>NaN</td>\n",
              "      <td>NaN</td>\n",
              "      <td>NaN</td>\n",
              "      <td>NaN</td>\n",
              "      <td>NaN</td>\n",
              "      <td>NaN</td>\n",
              "      <td>NaN</td>\n",
              "      <td>NaN</td>\n",
              "      <td>NaN</td>\n",
              "      <td>NaN</td>\n",
              "      <td>NaN</td>\n",
              "      <td>NaN</td>\n",
              "      <td>NaN</td>\n",
              "      <td>NaN</td>\n",
              "      <td>NaN</td>\n",
              "      <td>NaN</td>\n",
              "      <td>NaN</td>\n",
              "      <td>NaN</td>\n",
              "      <td>NaN</td>\n",
              "      <td>NaN</td>\n",
              "      <td>NaN</td>\n",
              "      <td>1.0</td>\n",
              "      <td>NaN</td>\n",
              "      <td>NaN</td>\n",
              "      <td>NaN</td>\n",
              "      <td>NaN</td>\n",
              "      <td>NaN</td>\n",
              "      <td>NaN</td>\n",
              "      <td>NaN</td>\n",
              "      <td>NaN</td>\n",
              "      <td>NaN</td>\n",
              "      <td>NaN</td>\n",
              "      <td>NaN</td>\n",
              "      <td>NaN</td>\n",
              "    </tr>\n",
              "    <tr>\n",
              "      <th>99</th>\n",
              "      <td>4.0</td>\n",
              "      <td>NaN</td>\n",
              "      <td>5.0</td>\n",
              "      <td>NaN</td>\n",
              "      <td>NaN</td>\n",
              "      <td>NaN</td>\n",
              "      <td>NaN</td>\n",
              "      <td>NaN</td>\n",
              "      <td>NaN</td>\n",
              "      <td>NaN</td>\n",
              "      <td>NaN</td>\n",
              "      <td>NaN</td>\n",
              "      <td>NaN</td>\n",
              "      <td>NaN</td>\n",
              "      <td>NaN</td>\n",
              "      <td>NaN</td>\n",
              "      <td>NaN</td>\n",
              "      <td>NaN</td>\n",
              "      <td>NaN</td>\n",
              "      <td>NaN</td>\n",
              "      <td>5.0</td>\n",
              "      <td>NaN</td>\n",
              "      <td>NaN</td>\n",
              "      <td>NaN</td>\n",
              "      <td>NaN</td>\n",
              "      <td>NaN</td>\n",
              "      <td>NaN</td>\n",
              "      <td>NaN</td>\n",
              "      <td>NaN</td>\n",
              "      <td>NaN</td>\n",
              "      <td>NaN</td>\n",
              "      <td>NaN</td>\n",
              "      <td>NaN</td>\n",
              "      <td>NaN</td>\n",
              "      <td>NaN</td>\n",
              "      <td>NaN</td>\n",
              "      <td>NaN</td>\n",
              "      <td>NaN</td>\n",
              "      <td>NaN</td>\n",
              "      <td>NaN</td>\n",
              "      <td>...</td>\n",
              "      <td>3.0</td>\n",
              "      <td>NaN</td>\n",
              "      <td>NaN</td>\n",
              "      <td>NaN</td>\n",
              "      <td>NaN</td>\n",
              "      <td>NaN</td>\n",
              "      <td>NaN</td>\n",
              "      <td>NaN</td>\n",
              "      <td>NaN</td>\n",
              "      <td>NaN</td>\n",
              "      <td>NaN</td>\n",
              "      <td>NaN</td>\n",
              "      <td>NaN</td>\n",
              "      <td>3.0</td>\n",
              "      <td>NaN</td>\n",
              "      <td>NaN</td>\n",
              "      <td>3.0</td>\n",
              "      <td>NaN</td>\n",
              "      <td>5.0</td>\n",
              "      <td>NaN</td>\n",
              "      <td>NaN</td>\n",
              "      <td>NaN</td>\n",
              "      <td>NaN</td>\n",
              "      <td>NaN</td>\n",
              "      <td>NaN</td>\n",
              "      <td>NaN</td>\n",
              "      <td>NaN</td>\n",
              "      <td>NaN</td>\n",
              "      <td>NaN</td>\n",
              "      <td>NaN</td>\n",
              "      <td>NaN</td>\n",
              "      <td>NaN</td>\n",
              "      <td>NaN</td>\n",
              "      <td>NaN</td>\n",
              "      <td>NaN</td>\n",
              "      <td>NaN</td>\n",
              "      <td>NaN</td>\n",
              "      <td>NaN</td>\n",
              "      <td>NaN</td>\n",
              "      <td>NaN</td>\n",
              "    </tr>\n",
              "  </tbody>\n",
              "</table>\n",
              "<p>943 rows × 1682 columns</p>\n",
              "</div>"
            ],
            "text/plain": [
              "product_id    1   10  100  1000  1001  1002  ...  994  995  996  997  998  999\n",
              "user_id                                      ...                              \n",
              "1           5.0  3.0  5.0   NaN   NaN   NaN  ...  NaN  NaN  NaN  NaN  NaN  NaN\n",
              "10          4.0  NaN  5.0   NaN   NaN   NaN  ...  NaN  NaN  NaN  NaN  NaN  NaN\n",
              "100         NaN  NaN  NaN   NaN   NaN   NaN  ...  NaN  NaN  NaN  NaN  NaN  NaN\n",
              "101         3.0  NaN  NaN   NaN   NaN   NaN  ...  NaN  NaN  NaN  NaN  NaN  NaN\n",
              "102         3.0  NaN  NaN   NaN   NaN   NaN  ...  NaN  NaN  NaN  NaN  NaN  NaN\n",
              "...         ...  ...  ...   ...   ...   ...  ...  ...  ...  ...  ...  ...  ...\n",
              "95          5.0  NaN  NaN   NaN   NaN   NaN  ...  NaN  NaN  NaN  NaN  NaN  NaN\n",
              "96          5.0  NaN  5.0   NaN   NaN   NaN  ...  NaN  NaN  NaN  NaN  NaN  NaN\n",
              "97          4.0  NaN  2.0   NaN   NaN   NaN  ...  NaN  NaN  NaN  NaN  NaN  NaN\n",
              "98          NaN  NaN  NaN   NaN   NaN   NaN  ...  NaN  NaN  NaN  NaN  NaN  NaN\n",
              "99          4.0  NaN  5.0   NaN   NaN   NaN  ...  NaN  NaN  NaN  NaN  NaN  NaN\n",
              "\n",
              "[943 rows x 1682 columns]"
            ]
          },
          "execution_count": 15,
          "metadata": {},
          "output_type": "execute_result"
        }
      ],
      "source": [
        "movie_df.pivot_table(index='user_id',columns='product_id',values='rating')"
      ]
    },
    {
      "attachments": {},
      "cell_type": "markdown",
      "metadata": {
        "id": "j6ViJtRsABKb"
      },
      "source": [
        "上記の表を見るとわかる通り、こういうデータは商品の種類数は多く、ユーザーは一部の商品しか評価していないため、かなり欠損のあるデータ（スパースデータ）になります。ユーザーが943人、商品が1682個あるため、厳密には943 * 1682 = 1,586,126個評価が必要ですが、ほとんど評価されていないデータになります。"
      ]
    },
    {
      "attachments": {},
      "cell_type": "markdown",
      "metadata": {
        "id": "3perpxibmpX6"
      },
      "source": [
        "さて、このデータをどのように使って推薦システムを構築するかですが、まずこのデータの目的変数は評価（rating）になり、それを検証するモデルを構築したいと思います。アプローチの仕方は機械学習で学んだ検証方法と同じイメージになります。つまり、データを訓練データ（と検証データ）とテストデータに分けて、訓練データでアルゴリズムを構築し、テストデータでその評価していきます。"
      ]
    },
    {
      "attachments": {},
      "cell_type": "markdown",
      "metadata": {
        "id": "2Q4VfbwOHyBc"
      },
      "source": [
        "ここでは、SVD（特異値分解）という推薦のシステムでよく紹介されるアルゴリズムを使います。これは協調フィルタリングのアプローチになります（まずこの講義では、使い方を理解することを重視しているため、計算式の細かいロジックや正確な定義についてはここでは述べませんが、興味ある方は参考文献をみてください。）\n",
        "\n",
        "モデルの評価は、クロスバリデーションでcv=5で実行しています。計測は、RMSEとMAEなど使えますが、わかりやすさを重視するため、RMSEだけセットします。\n",
        "（こちらの用語になじみのない方は、松尾研究室提供のデータサイエンス講義の機械学習のチューニング章のコンテンツをみてください。）"
      ]
    },
    {
      "attachments": {},
      "cell_type": "markdown",
      "metadata": {
        "id": "_LG25dEqMQC_"
      },
      "source": [
        "・MSE (Mean Squared Error)：平均二乗誤差\n",
        "＝＞予測値と実測値の差を二乗した値の平均値\n",
        "\n",
        "・RMSE（Root Mean Squared Error）\n",
        "＝＞MSEの平方根\n",
        "\n",
        "・MAE（Mean Abusolute Error）：平均絶対誤差\n",
        "＝＞予測値と実測値の差の絶対値を算出し、平均したものになります"
      ]
    },
    {
      "attachments": {},
      "cell_type": "markdown",
      "metadata": {
        "id": "tr0SBh5DG6to"
      },
      "source": [
        "以下でSVDのモデルを使うことを実装しています。"
      ]
    },
    {
      "cell_type": "code",
      "execution_count": null,
      "metadata": {
        "id": "Qa0GNYtxtrBX"
      },
      "outputs": [],
      "source": [
        "algo = SVD()"
      ]
    },
    {
      "attachments": {},
      "cell_type": "markdown",
      "metadata": {
        "id": "YkWShDPXIpsG"
      },
      "source": [
        "そして、次にcross_validateを使います。この引数として、使うアルゴリズム、対象データセット、評価指標、CVの数、計算ステップごとに出力するかどうかFlgを設定します。以下の実行は、少し時間がかかりますので注意してください。（そして、先ほど変換したDataFrameを使わず、そのままDatasetで読み込んだ、movie_datasetを入れるので注意してください。）"
      ]
    },
    {
      "cell_type": "code",
      "execution_count": null,
      "metadata": {
        "colab": {
          "base_uri": "https://localhost:8080/"
        },
        "id": "38MvC9nZHxSv",
        "outputId": "27e98d96-25b9-4ac4-9329-a890b90c5d41"
      },
      "outputs": [
        {
          "name": "stdout",
          "output_type": "stream",
          "text": [
            "Evaluating RMSE of algorithm SVD on 5 split(s).\n",
            "\n",
            "                  Fold 1  Fold 2  Fold 3  Fold 4  Fold 5  Mean    Std     \n",
            "RMSE (testset)    0.9394  0.9350  0.9399  0.9332  0.9318  0.9359  0.0033  \n",
            "Fit time          4.80    4.80    4.76    4.78    4.74    4.78    0.03    \n",
            "Test time         0.20    0.26    0.16    0.24    0.18    0.21    0.04    \n"
          ]
        },
        {
          "data": {
            "text/plain": [
              "{'fit_time': (4.802, 4.801, 4.764, 4.785, 4.735),\n",
              " 'test_rmse': array([0.939, 0.935, 0.94 , 0.933, 0.932]),\n",
              " 'test_time': (0.202, 0.263, 0.163, 0.237, 0.177)}"
            ]
          },
          "execution_count": 17,
          "metadata": {},
          "output_type": "execute_result"
        }
      ],
      "source": [
        "cross_validate(algo, movie_dataset, measures=['RMSE'], cv=5, verbose=True)"
      ]
    },
    {
      "attachments": {},
      "cell_type": "markdown",
      "metadata": {
        "id": "FCpgUajka2aV"
      },
      "source": [
        "上記の結果より、SVDのRMSEの平均は約0.93という数値が出ています。さて、この結果だけみても、このSVDモデルがいいのかどうか判断がつきません。それはもともとの比較対象がないためで、初級編でも述べた通り、分析の基本は「比較」にあります。そこで一旦ランダムなモデルを構築しそれをベースに結果比較してみることにしましょう（もし誰かオリジナルなアルゴリズムを構築してリコメンドしている場合は、それが比較対象になります）。\n",
        "\n",
        "以下のNormalPredictorは、ランダムなモデルの結果になります。先ほどのSVDのRMSEは約0.93でしたが、NormalPredictorのRMSEは約1.5になっており、SVDの方が良いという結果になっているのがわかります（これらの指標は予測値と実績値の誤差を計算しているため、なるべく0に近い結果が良いモデルになります）。なお、NormalPredictorが直接エンジンに使われることはないですが、このようにモデルの「比較対象」としては使われることがありますので、推薦システムとして何も比べるモデルがない場合などに使ってください。"
      ]
    },
    {
      "cell_type": "code",
      "execution_count": null,
      "metadata": {
        "colab": {
          "base_uri": "https://localhost:8080/"
        },
        "id": "GVmjj4u_aqLh",
        "outputId": "5c2ff309-6692-4cd9-e9f9-f9955ae83ba8"
      },
      "outputs": [
        {
          "name": "stdout",
          "output_type": "stream",
          "text": [
            "Evaluating RMSE of algorithm NormalPredictor on 5 split(s).\n",
            "\n",
            "                  Fold 1  Fold 2  Fold 3  Fold 4  Fold 5  Mean    Std     \n",
            "RMSE (testset)    1.5170  1.5070  1.5295  1.5199  1.5152  1.5177  0.0073  \n",
            "Fit time          0.18    0.18    0.17    0.19    0.18    0.18    0.01    \n",
            "Test time         0.23    0.16    0.16    0.24    0.16    0.19    0.04    \n"
          ]
        },
        {
          "data": {
            "text/plain": [
              "{'fit_time': (0.180, 0.185, 0.169, 0.186, 0.176),\n",
              " 'test_rmse': array([1.517, 1.507, 1.53 , 1.52 , 1.515]),\n",
              " 'test_time': (0.230, 0.158, 0.161, 0.244, 0.161)}"
            ]
          },
          "execution_count": 18,
          "metadata": {},
          "output_type": "execute_result"
        }
      ],
      "source": [
        "from surprise import NormalPredictor\n",
        "algo = NormalPredictor()\n",
        "cross_validate(algo, movie_dataset, measures=['RMSE'], cv=5, verbose=True)"
      ]
    },
    {
      "attachments": {},
      "cell_type": "markdown",
      "metadata": {
        "id": "Gg8LPuTRZx_W"
      },
      "source": [
        "他のアルゴリズムとしては、以下の参考サイトがありますので、次の練習問題でやってみましょう。\n",
        "\n",
        "https://surprise.readthedocs.io/en/stable/prediction_algorithms_package.html"
      ]
    },
    {
      "attachments": {},
      "cell_type": "markdown",
      "metadata": {
        "id": "IcR4JfQRI33_"
      },
      "source": [
        "#### 練習問題\n",
        "1.   上記のデータに対して、異なるモデルで推薦アルゴリズムを構築して、評価してみましょう。また、RSMEだけではなく、他の評価指標も使ってみましょう。"
      ]
    },
    {
      "attachments": {},
      "cell_type": "markdown",
      "metadata": {
        "id": "Kk1pUjverZRC"
      },
      "source": [
        "#### 解答"
      ]
    },
    {
      "attachments": {},
      "cell_type": "markdown",
      "metadata": {
        "id": "ohNS-WCGbIWE"
      },
      "source": [
        "以下のNMF（非負値行列因子分解）も行列分解ベースで、ここではそのアルゴリズムを使っています。SVDより若干悪くなっています。"
      ]
    },
    {
      "cell_type": "code",
      "execution_count": null,
      "metadata": {
        "colab": {
          "base_uri": "https://localhost:8080/"
        },
        "id": "sViGX-zfZTIL",
        "outputId": "0058f66e-4935-4467-ffc8-58ccc22577b3"
      },
      "outputs": [
        {
          "name": "stdout",
          "output_type": "stream",
          "text": [
            "Evaluating RMSE, MAE of algorithm NMF on 5 split(s).\n",
            "\n",
            "                  Fold 1  Fold 2  Fold 3  Fold 4  Fold 5  Mean    Std     \n",
            "RMSE (testset)    0.9633  0.9560  0.9640  0.9680  0.9617  0.9626  0.0039  \n",
            "MAE (testset)     0.7579  0.7521  0.7550  0.7616  0.7561  0.7565  0.0031  \n",
            "Fit time          5.61    5.49    5.59    5.56    5.57    5.56    0.04    \n",
            "Test time         0.23    0.14    0.22    0.13    0.23    0.19    0.04    \n"
          ]
        },
        {
          "data": {
            "text/plain": [
              "{'fit_time': (5.611, 5.492, 5.585, 5.558, 5.574),\n",
              " 'test_mae': array([0.758, 0.752, 0.755, 0.762, 0.756]),\n",
              " 'test_rmse': array([0.963, 0.956, 0.964, 0.968, 0.962]),\n",
              " 'test_time': (0.228, 0.145, 0.217, 0.134, 0.232)}"
            ]
          },
          "execution_count": 19,
          "metadata": {},
          "output_type": "execute_result"
        }
      ],
      "source": [
        "from surprise import NMF\n",
        "algo = NMF()\n",
        "cross_validate(algo, movie_dataset, measures=['RMSE', 'MAE'], cv=5, verbose=True)"
      ]
    },
    {
      "attachments": {},
      "cell_type": "markdown",
      "metadata": {
        "id": "H74Z1AOhUkeW"
      },
      "source": [
        "### 10.2.3 コンテンツベースフィルタリング\n",
        "\n",
        "次は、商品（コンテンツ）をベースにした推薦システムです。この方法は具体的には、Aというブランドの国産ビールを購入したお客さんには、同じ国産カテゴリービール商品で異なるブランドBをリコメンドするというアプローチです。商品の内容がベースになるため、ある程度人でも簡単にリコメンドできるようなアルゴリズムになることも多く、実務では協調フィルタリングほど使われていません。上のsurprizeパッケージも今のところコンテンツベースフィリタリングのリコメンドはサポートしていないようです。\n",
        "\n",
        "参考：http://surpriselib.com/\n",
        "\n",
        "なお、このコンテンツをベースにした方法は、ユーザーに依存しないので、ユーザーが少ない場合や商品の評価が少ない場合に使えます。"
      ]
    },
    {
      "attachments": {},
      "cell_type": "markdown",
      "metadata": {
        "id": "Ob5jRQVzYUvG"
      },
      "source": [
        "### 10.2.4 ハイブリッド手法や深層学習、強化学習を用いたリコメンデーション\n",
        "\n"
      ]
    },
    {
      "attachments": {},
      "cell_type": "markdown",
      "metadata": {
        "id": "Ewy4Nkgc1NYq"
      },
      "source": [
        "\n",
        "これまでリコメンドの種類として、協調フィルタリングをメインに、コンテンツベースのリコメンド、コンテキストを使ったリコメンドがあると簡単に解説をしましたが、それぞれの欠点を補うために、それらを組み合わせたしたハイブリッドな手法があります。他、アソシエーションルールに基づくリコメンド（松尾研究室提供のデータサイエンス講義の教師なしで扱いました）などもあります。"
      ]
    },
    {
      "attachments": {},
      "cell_type": "markdown",
      "metadata": {
        "id": "NFG4GQT_WA8K"
      },
      "source": [
        "さらにリコメンドのハイレベルな手法として、深層学習の分野であるボルツマンマシンを使った推薦システム（協調フィルタリング）がありますし、強化学習を使ったアプローチもあります。リコメンドは「活用と探索」をしながら、改善をする必要があります。ここでいう「活用」とは今まで学習したモデルで最適と判断した商品があり、それをリコメンドするということを実行する一方、「探索」とはそのモデルで最適と判断した商品をリコメンドせず、別の商品をリコメンドすることを意味して、これは強化学習のアプローチになります。これらはハイレベルな方法なため、この講義では扱いませんが、興味ある方は以下の参考文献などをみてください。"
      ]
    },
    {
      "attachments": {},
      "cell_type": "markdown",
      "metadata": {
        "id": "i_f1m0ye4smZ"
      },
      "source": [
        "参考：\n",
        "\n",
        "『Pythonではじめる教師なし学習』（オライリー）\n",
        "\n",
        "・推薦システムへの強化学習の適用（WSDM 2019）\n",
        "\n",
        "https://research.google/pubs/pub47647/"
      ]
    },
    {
      "attachments": {},
      "cell_type": "markdown",
      "metadata": {
        "id": "W0MHeffDvyH-"
      },
      "source": [
        "\n",
        "リコメンドの種類について基本的な解説はこれで終わりになります。なお、それぞれのリコメンドの方法にはメリットやデメリットがあり、例えば、協調フィルタリングは、様々な企業でよく使われるほどある程度高い効果が期待できるメリットがある一方、新しい商品がリコメンドされないこと（誰も買っていないので、データないため）や、新しい顧客（こちらも何も買ってないので、データがないため）へのリコメンドの精度が悪くなりがちなどのデメリットがあります。そこで、より良い商品やサービスを顧客へ提案するために、上記のハイブリットなアプローチや、深層学習、強化学習を使った方法の研究や開発も盛んにされています。\n",
        "\n",
        "各ビジネス状況や、ビジネスモデル、マーケティングの戦略、データ状況に応じて使い分ける必要があると思いますので、上記の参考文献などを使いながら学習を進めて、実務で使う場面がでてきたら、適材適所で使い分けて活用していってください。"
      ]
    },
    {
      "attachments": {},
      "cell_type": "markdown",
      "metadata": {
        "id": "1ttbPvJ7Avjt"
      },
      "source": [
        "### 10.2.5 リコメンドの検証方法とは\n",
        "\n",
        "この節の最後として、リコメンド検証方法について少し述べます。リコメンデーションのモデルを構築した後は、そのリコメンドのロジックを実際にサービスシステムに組み込み（もしくは直接の推薦）、それが効果があったのか検証作業をする必要があります。\n",
        "\n",
        "何かの商品やサービスについてキャンペーンWEBページを構築したなら、その広告がユーザーに表示されたかどうか、それをユーザーがクリックしたかどうか、無料体験など申し込みをしたかどうか、最終的に購買したかどうかそれぞれデータを取る必要があります。（Amazonのサイトなら、そのユーザーに表示された商品、クリックした商品、購入した商品、コメントした商品などデータとして蓄積されているはずです。）\n",
        "\n",
        "ただ、このリコメンデーションの検証について、その追うべき数値は1つだけではありません。例えばその指標が、ウェブクリック率なのか、SNSなどでシェアをされる割合なのか、ちゃんとコンバージョンされることなのかなど、目的は様々にあります。また別の例として、AかBの商品どちらかをリコメンドする場合、Aが購買予測確率90%でBが85%ならば、Aをリコメンドした方がいいという判断もあれば、実はBの利益率はAよりも高い場合は、Bをリコメンドした方がいいという判断もあります。つまり、リコメンデーションとしては、多目的最適化をしていく必要も出てきます。"
      ]
    },
    {
      "attachments": {},
      "cell_type": "markdown",
      "metadata": {
        "id": "sexRIxByRJUW"
      },
      "source": [
        "このようにリコメンデーションの検証アプローチは、そのリコメンドの目的やロジックなどにもよりますが、よく使われている手法がA/Bテストになります。このA/Bテストもリコメンデーションの検証アプローチであり、良い方を採用していく方法で、広い意味で言うと施策検証の1つになります。次の節では、そのA/Bテストも含め、その施策の検証方法について紹介していきます。さらにウェブ施策だけではない、より汎用的なアプローチとしての施策効果検証方法を学んでいきましょう。"
      ]
    },
    {
      "attachments": {},
      "cell_type": "markdown",
      "metadata": {
        "id": "BhJ-tm_Afzhn"
      },
      "source": [
        "## 10.3 施策の効果検証\n",
        "\n",
        "キーワード：因果推論と分析、EBPM、テスト群とコントロール群、RCT、A/Bテスト、Wilcoxon(ウィルコクソン)の順位和検定、セレクションバイアス、共変量、介入変数、回帰分析"
      ]
    },
    {
      "attachments": {},
      "cell_type": "markdown",
      "metadata": {
        "id": "Fmb131tGdDqr"
      },
      "source": [
        "### 10.3.1 施策効果検証の正しいアプローチとは\n",
        "\n",
        "この節では施策の効果検証について、いくつかのアプローチを紹介します。施策には、政策に関する施策、教育に関する施策など様々なものがあります。昨今は\n",
        "「EBPM：Evidence-Based Policy Making (エビデンスに基づく政策形成)」というキーワードが注目されており、これもデータに基づく意思決定アプローチになります。本節では、主にマーケティングに関する施策の効果検証について見ていきます。企業のマーケティング戦略に沿ったビジネス目標（利益など）を最大化するために、そのためのビジネスアクション（変数）の戦略をどうするか、効果が高い施策を選び、効果のない施策はすぐにやめる、それらを素早く判断してくことは、非常に重要なことです。無駄な施策を減らし、その成功確度を上げていくためには、施策検証方法が頑健であることが必要になります。"
      ]
    },
    {
      "attachments": {},
      "cell_type": "markdown",
      "metadata": {
        "id": "ryNL1OOPyPTw"
      },
      "source": [
        "本講義の初級編では顧客を識別し、優良顧客をセグメントする方法を学び、各顧客セグメントに施策を実施する重要性について解説をしました。そして、前節ではリコメンデーションも紹介し、これも施策の一種になります。次に問題になってくるのが、「その施策が本当に効果があったのか、なかったのか」ということです。この検証方法はどうすれば実行できるのでしょうか。それは、初級編の冒頭で、分析で重要なことで述べた「比較する」ことになります。ただ、比較するといっても、その比較対象が重要になってきます。比較の仕方にも様々あり、例えば、施策実施前の売上と施策実施後の売上を比較したり、施策を実施した顧客と施策を実施しない顧客の売上比較をすることも考えられるでしょう。これらの2つのアプローチは簡単であるがゆえに、よく実施される傾向にありますが、実はその施策効果を見誤る可能性もあります。"
      ]
    },
    {
      "attachments": {},
      "cell_type": "markdown",
      "metadata": {
        "id": "EXP4HI1bCFQC"
      },
      "source": [
        "#### 練習問題\n",
        "\n",
        "\n",
        "1.   なぜ単純に施策実施前と施策実施後の売り上げ比較が問題なのか考えてみましょう。\n",
        "2.   なぜ単純に施策実施した顧客と実施しなかった顧客の売上比較に問題があるのか考えてみましょう。\n",
        "3.   どうやれば正確な比較ができるか考えてみましょう。\n",
        "\n",
        "（なお、以下に解説があるので、まずは一旦ここで考えてみてください。）\n"
      ]
    },
    {
      "attachments": {},
      "cell_type": "markdown",
      "metadata": {
        "id": "L5Nzl_rZCBrB"
      },
      "source": [
        "まず、1つ目のアプローチの施策前後比較のどこに問題があるのか考えてみましょう。施策の前後に様々な要因が入り込むため、その施策自体に効果があったのか、正確にはわかりにくくなることがあります。極端な例でいうと、ECサイトか何かで2019年10-12月にマスクを売るためのキャンペーン施策を実施したとしましょう。その前後比較をすると、施策後に圧倒的に売上が上がっているのが想像できると思いますが、これをキャンペーンの効果と言ってよいのかということです。ご想像の通り、キャンペーンの要因以外にも、冬になるので季節性でマスクの売上がもともと上がる傾向であったということと、さらに2020年1-2月頃からコロナウイルスが広がったため、マスクの売上が増えたという点があげられます。この例はとても極端なので、その比較はおかしいとすぐ気付くことができますが、このように他の要因がいろいろとあるため、施策自体の効果がわかりにくくなります。"
      ]
    },
    {
      "attachments": {},
      "cell_type": "markdown",
      "metadata": {
        "id": "TgaivEP--yQM"
      },
      "source": [
        "そして次に、2つ目のアプローチの施策を実施した顧客としなかった顧客の比較の問題点について考えてみましょう。初級編でデシル分析を行ったので、セグメントにクーポンを配布する施策を実施したとしましょう。ここでは、クーポンをセグメント10に配布することを考えます。さて、このクーポン施策の効果をどう検証すればよいでしょうか。セグメント10の施策前後の売上比較は、上の問題がありましたが、他のセグメント（1-9）の人たちと比較するのも問題があります。それは、セグメント10の人たちはもともと購買意欲が高い人たちで、その他のセグメントの人たちとAppletoAppleになってないからです。セグメント10の人たちはクーポンを配布しなくてももともと購買する傾向にあったので、それを他の購買しないセグメントと比較しても正しい比較ではないからです。つまり、その施策で効果があったのではなく、こちらも別の因子が働いていたからになります。これも先ほどと同じような問題点になります。"
      ]
    },
    {
      "attachments": {},
      "cell_type": "markdown",
      "metadata": {
        "id": "4uH_9Pa-3Vrd"
      },
      "source": [
        "では、どのように比較をすればよいのでしょうか。いくつかアプローチがありますが、まずApple to Appleにするために、理想的な比較対象を決めることです。初級編でも少し触れた、同じ購買力を持つセグメントに対して施策をするテストグループ（処置群ともいいます）と、テストしないコントロールグループ（対照群ともいいます）に分けて検証するというアプローチです。これは、RCT（Randomized Controlled Trial）というランダム化比較試験という方法です。具体的には、上の例に続けて話すと、セグメント10の人たちが10万いて、ランダムに9万人抽出してその人たちにクーポンを配布し、その他の1万人には何もしないこととします。これならば、同じセグメント10の人たちだったので、クーポンをもらった9万人ともらわなかった1万人は同じ購買傾向にあり、Apple to Appleに近づけることができ、より正しい比較ができます。"
      ]
    },
    {
      "attachments": {},
      "cell_type": "markdown",
      "metadata": {
        "id": "7AcPo70KG29L"
      },
      "source": [
        "なお、RCTの考え方については、はじめは統計学で学ぶ母集団と標本のイメージを持っていれば十分ですが、はじめて聞いた方は上の説明では少しイメージしにくいと思いますので、以下のクーポン施策の例を使って説明します。\n",
        "\n",
        "以下は、あるスーパーやコンビニなどで同じような購買行動を持つ購買者を、テストグループとコントロールグループに分けて、購買者一人あたりの平均売上時系列折れ線グラフになります。テストグループにはクーポンを提供し、コントロールグループには何もしていないとしましょう。施策実施の前は両グループ同じように売上が推移していますが、施策期間になるとテストグループの平均売上がコントロールグループよりも上がっており、施策が終わると売上が下がって、同じような推移になっているのがわかります。"
      ]
    },
    {
      "attachments": {},
      "cell_type": "markdown",
      "metadata": {
        "id": "3eoQchGwIE_O"
      },
      "source": [
        "補足：なお、グラフに日本語を表示させるために、以下のjapanize-matplotlibをインポートします。"
      ]
    },
    {
      "cell_type": "code",
      "execution_count": null,
      "metadata": {
        "colab": {
          "base_uri": "https://localhost:8080/"
        },
        "id": "B7vhOGpIH6Wu",
        "outputId": "ef9d25a7-3408-483f-dcfd-efc46a086921"
      },
      "outputs": [
        {
          "name": "stdout",
          "output_type": "stream",
          "text": [
            "Collecting japanize-matplotlib\n",
            "  Downloading japanize-matplotlib-1.1.3.tar.gz (4.1 MB)\n",
            "\u001b[K     |████████████████████████████████| 4.1 MB 4.2 MB/s \n",
            "\u001b[?25hRequirement already satisfied: matplotlib in /usr/local/lib/python3.7/dist-packages (from japanize-matplotlib) (3.2.2)\n",
            "Requirement already satisfied: pyparsing!=2.0.4,!=2.1.2,!=2.1.6,>=2.0.1 in /usr/local/lib/python3.7/dist-packages (from matplotlib->japanize-matplotlib) (3.0.6)\n",
            "Requirement already satisfied: cycler>=0.10 in /usr/local/lib/python3.7/dist-packages (from matplotlib->japanize-matplotlib) (0.11.0)\n",
            "Requirement already satisfied: numpy>=1.11 in /usr/local/lib/python3.7/dist-packages (from matplotlib->japanize-matplotlib) (1.19.5)\n",
            "Requirement already satisfied: kiwisolver>=1.0.1 in /usr/local/lib/python3.7/dist-packages (from matplotlib->japanize-matplotlib) (1.3.2)\n",
            "Requirement already satisfied: python-dateutil>=2.1 in /usr/local/lib/python3.7/dist-packages (from matplotlib->japanize-matplotlib) (2.8.2)\n",
            "Requirement already satisfied: six>=1.5 in /usr/local/lib/python3.7/dist-packages (from python-dateutil>=2.1->matplotlib->japanize-matplotlib) (1.15.0)\n",
            "Building wheels for collected packages: japanize-matplotlib\n",
            "  Building wheel for japanize-matplotlib (setup.py) ... \u001b[?25l\u001b[?25hdone\n",
            "  Created wheel for japanize-matplotlib: filename=japanize_matplotlib-1.1.3-py3-none-any.whl size=4120274 sha256=486200174a917c85e7529e7ce3c00e5ce7a79d4c886613f0462972070a5499ec\n",
            "  Stored in directory: /root/.cache/pip/wheels/83/97/6b/e9e0cde099cc40f972b8dd23367308f7705ae06cd6d4714658\n",
            "Successfully built japanize-matplotlib\n",
            "Installing collected packages: japanize-matplotlib\n",
            "Successfully installed japanize-matplotlib-1.1.3\n"
          ]
        }
      ],
      "source": [
        "!pip install japanize-matplotlib"
      ]
    },
    {
      "attachments": {},
      "cell_type": "markdown",
      "metadata": {
        "id": "Eds7RhY48Js9"
      },
      "source": [
        "以下のjapanize_matplotlibをインポートするだけで、グラフのラベルに日本語が表示できます。"
      ]
    },
    {
      "cell_type": "code",
      "execution_count": null,
      "metadata": {
        "id": "lq7QdQdxH1yF"
      },
      "outputs": [],
      "source": [
        "import japanize_matplotlib "
      ]
    },
    {
      "cell_type": "code",
      "execution_count": null,
      "metadata": {
        "colab": {
          "base_uri": "https://localhost:8080/",
          "height": 479
        },
        "id": "K0kRV0BpDr9g",
        "outputId": "2fd5a103-f0d1-4c5f-b478-9260862f72ca"
      },
      "outputs": [
        {
          "data": {
            "text/plain": [
              "Text(0, 0.5, 'avg revenue')"
            ]
          },
          "execution_count": 22,
          "metadata": {},
          "output_type": "execute_result"
        },
        {
          "data": {
            "image/png": "[encoded data removed]",
            "text/plain": [
              "<Figure size 1440x504 with 1 Axes>"
            ]
          },
          "metadata": {
            "needs_background": "light"
          },
          "output_type": "display_data"
        }
      ],
      "source": [
        "test_gp =[21,15,10,20,21,15,30,40,41,42,20,41,26,10,15,20,18,17,21,22]\n",
        "control_gp =[21,15,10,20,21,15,30,30,10,15,5,30,20,10,15,20,18,17,21,22]\n",
        "\n",
        "plt.figure(figsize=(20,7))\n",
        "plt.plot(test_gp,label='test group')\n",
        "plt.plot(control_gp, linewidth=6,linestyle=\"--\",label='control group')\n",
        "plt.title('Test Group VS Control Group Avg Reveue')\n",
        "plt.legend(prop={\"size\": 20}, loc=\"best\")\n",
        "\n",
        "plt.vlines(6, ymin=-1, ymax=50, colors='red', linestyle='dashed', linewidth=2)\n",
        "plt.vlines(13, ymin=-1, ymax=50, colors='red', linestyle='dashed', linewidth=2)\n",
        "plt.annotate(\"クーポン 施 策 実 施 期 間\", xy = (7, 1), size = 20, color = \"red\")\n",
        "plt.annotate(\"施 策 実 施 前\", xy = (2, 1), size = 20, color = \"red\")\n",
        "plt.annotate(\"施 策 実 施 後\", xy = (16, 1), size = 20, color = \"red\")\n",
        "plt.xlabel('time')\n",
        "plt.ylabel('avg revenue')"
      ]
    },
    {
      "attachments": {},
      "cell_type": "markdown",
      "metadata": {
        "id": "6nh3BS8N0nye"
      },
      "source": [
        "上の結果から、施策によって売上が上がったことがわかるので、その売上増分と実際の施策にかかったコストを考慮すれば、その施策のROI（費用対効果）も試算することも可能です。具体的には、以下のようなテストグループとコントロールグループの売り上げの差は100円になります（上の設定から、施策期間中でのみ売り上げの増分が生じています）。"
      ]
    },
    {
      "cell_type": "code",
      "execution_count": null,
      "metadata": {
        "colab": {
          "base_uri": "https://localhost:8080/"
        },
        "id": "mA26uJxo0FM5",
        "outputId": "a7dcc398-76c2-4a64-f1d9-c351001b7a84"
      },
      "outputs": [
        {
          "data": {
            "text/plain": [
              "100"
            ]
          },
          "execution_count": 23,
          "metadata": {},
          "output_type": "execute_result"
        }
      ],
      "source": [
        "sum(np.array(test_gp) - np.array(control_gp))"
      ]
    },
    {
      "attachments": {},
      "cell_type": "markdown",
      "metadata": {
        "id": "PnysvPidDnRk"
      },
      "source": [
        "\n",
        "\n",
        "ここで単純に計算しますと施策に対する効果が1人あたり100円の増分なので、仮にこの1人あたりのコストが80円だとすると、単純計算で、ROI= 100 / 80 =125%の効果があったと推定されます。（ただし、ここではRCTが厳密に実行されているため、単純に算出できています。）\n",
        "\n",
        "\n",
        "さらに一部の範囲での実施ならば、全体としてどれだけ効果がありそうかと推定することも可能で、実際に小売店や消費財のメーカーなどではよく一部の地域だけをテストして効果をみて、全国展開するかどうかの判断をしています。（他、別のアプローチとして、人単位ではなく、店舗単位でテスト店舗、コントロール店舗で分けることもあります。）\n",
        "\n",
        "一方、現実的には、RCTの実施が困難なケースもありますし、筆者もそういったケースを色々と見てきたの、状況は理解できます。コントロールを抜くためにコストがかかったり、サンプル数が足りなかったり、顧客を差別するのはよくないという倫理に関係する意見もあったりします。なお筆者が関わったマーケティング施策でも、コントロールを取っていないケースはありますし、現実的にはなかなか難しいのでしょう。\n",
        "\n",
        "そういったRCTができない場合でも、厳密性はかけてしまいますが、いくつかのアプローチがあるため、それをこの講座ではいくつか紹介していきます。また、以下の文献では、どのような場合にどういったアプローチが取れるかケース分けが詳しく記述されていますので、参考になります。そのケース分けの体系的で整理された表については、本節の最後の方で紹介します。\n",
        "\n",
        "参考：\n",
        "* 『政策評価のための因果関係の見つけ方』のA.3　の表A4実験的方法・準実験的方法の整理"
      ]
    },
    {
      "attachments": {},
      "cell_type": "markdown",
      "metadata": {
        "id": "7vYPYeXAEmrX"
      },
      "source": [
        "なお、上の例ではROIを単純に計算しましたが、RCTをしていない状況で、この指標を算出するのはあまり厳密でないことが多く、以下の本では、「内部収益率（＝キャンペーンや施策を実施する場合の投資利回り）」や「投資回収期間（＝投じた累計支出と同額の累計利益を稼ぐまでにかかる期間）」などを追うべき指標として、推奨されています。財務的な指標になり、この講座の趣旨からはずれますが、興味のある方は以下の書籍を参考にしてください。（また、データ戦略からの視点ですが、こういった施策の結果はパワーポイントやエクセルでまとめられることが多く、これらが悪いというわけではないですが、指標に一貫性がなかったり、後で統合するのにまた人の手を使って作業することもよく聞きます。ちゃんと施策結果もデータとして貯められる仕組みを構築しておくことで、自社のノウハウとして強みになりますので、インフラ面からも施策結果を蓄積することを検討しておきましょう。）"
      ]
    },
    {
      "attachments": {},
      "cell_type": "markdown",
      "metadata": {
        "id": "8xQDuHmZGjUs"
      },
      "source": [
        "参考：\n",
        "* 『最低限知っておくべき15の指標 データ・ドリブン・マーケティング』"
      ]
    },
    {
      "attachments": {},
      "cell_type": "markdown",
      "metadata": {
        "id": "QKAmPmAdtEII"
      },
      "source": [
        "#### 補足事項1：全体と部分における統計的関係の逆転\n",
        "施策の因果推定や分析をしっかりしないと判断を間違う恐れがある例として、シンプソンのパラドクスがよく紹介されます。これは、全体での効果と部分集合での効果は異なることがあるという例になります。具体的な例を使って考えてみましょう。例えば、以下のような購買率の表を考えてみます。これは、ある購買者グループに対して、ある商品のキャンペーン施策を実施して、男女別に購買したかどうかの結果になります。この表から男女別に施策実施と未実施の購買率をみると、男女ともに購買率が高くなっています。施策を実施した場合の男性の購買率は95%であるのに対し未実施の男性は90%で、女性は実施グループと未実施グループそれぞれ81%と71%です。しかし、全体としての合計でみると、施策実施した人たちの購買率が84%で、施策未実施の人たちの購買率が85%となっており、施策を実施しない人たちの購買率が逆に高くなっています。これはいったいどういうことでしょうか。\n"
      ]
    },
    {
      "attachments": {},
      "cell_type": "markdown",
      "metadata": {
        "id": "RZ2LDs04zkXu"
      },
      "source": [
        "|  | 施策実施 |  |  | 施策未実施 |  |  |\n",
        "| --- | --- | --- | --- | --- | --- | --- |\n",
        "| 性別 | 購買 | 未購買 | 購買率 | 購買 | 未購買 | 購買率 |\n",
        "| 男性 | 100人 | 5人 | 0.952 | 300人 | 30人 | 0.909 |\n",
        "| 女性 | 300人 | 70人 | 0.810 | 100人 | 40人 | 0.714 |\n",
        "| 合計 | 400人 | 75人 | 0.842 | 400人 | 70人 | 0.851 |\n"
      ]
    },
    {
      "attachments": {},
      "cell_type": "markdown",
      "metadata": {
        "id": "PLGcWGZ0E7-o"
      },
      "source": [
        "男女別の部分集合で見ると、この施策は効果があったようにみえますが、全体としてみると効果がなかったと判断されてしまいます。これがパラドックスといわれる理由です。この問題に対処するためには、古典的な統計学ではアプローチすることができず、「データにある背景」や「その結果を生み出した因果」を考える必要があります。本講座の初級編で「データだけ見ていてもわからないこともある」と述べましたが、それにつながる話になります。\n",
        "\n",
        "ここでは、例えば、この商品が薬局などの売り場にある男性用のシャンプーだとします。すると、この商品を買う女性もいるかもしれませんが、もともと男性用なので女性の方が購買率は低くなります。そして、施策実施した人との男女の割合を見ると、女性の方が割合として高いです（男性105人、女性370人）。そのため、全体として購買率が低くなっているのは、施策実施された人たちの中からランダムに選べば女性である割合は高くなり、施策未実施の人たちの中からランダムに選んだ購買者より、購買する人が減るという現象になっています。\n",
        "\n",
        "これは、「施策」＝＞「購買」という関係だけではなく、「性別」＝＞「購買」という別の因子があるということが背景にあると想像できます。このケースだと男女別に分けたデータを用いるべきというのがいえます。\n",
        "\n",
        "上記の例は、以下の書籍をベースにしており、さらに詳しく学びたい方はぜひ参考にしてください。"
      ]
    },
    {
      "attachments": {},
      "cell_type": "markdown",
      "metadata": {
        "id": "HAgpU2arLFOU"
      },
      "source": [
        "参考文献\n",
        "* 『入門統計的因果推論』"
      ]
    },
    {
      "attachments": {},
      "cell_type": "markdown",
      "metadata": {
        "id": "iOCTY-QMuIuv"
      },
      "source": [
        "### 10.3.2 RCTによる因果推論\n",
        "\n",
        "さて概念的なお話が続いたので、ここでは実際にRCTが実施されているデータについて、Pythonを使って手を動かしながら確かめていきましょう。以下は、とあるECサイトでメールマーケティングの施策を実施したデータになります。\n",
        "\n",
        "・対象データ：\n",
        "\n",
        "http://www.minethatdata.com/Kevin_Hillstrom_MineThatData_E-MailAnalytics_DataMiningChallenge_2008.03.20.csv"
      ]
    },
    {
      "attachments": {},
      "cell_type": "markdown",
      "metadata": {
        "id": "vA44PAhh-qAj"
      },
      "source": [
        "まずこのデータを読み込んでみます。"
      ]
    },
    {
      "cell_type": "code",
      "execution_count": null,
      "metadata": {
        "id": "SanM-z8SzH9D"
      },
      "outputs": [],
      "source": [
        "email_analytics_df = pd.read_csv('http://www.minethatdata.com/Kevin_Hillstrom_MineThatData_E-MailAnalytics_DataMiningChallenge_2008.03.20.csv')"
      ]
    },
    {
      "cell_type": "code",
      "execution_count": null,
      "metadata": {
        "colab": {
          "base_uri": "https://localhost:8080/",
          "height": 206
        },
        "id": "w-LsU3IyzIAo",
        "outputId": "c16e68c4-d9b8-4d29-e3e4-7c4f56be8e94"
      },
      "outputs": [
        {
          "data": {
            "text/html": [
              "<div>\n",
              "<style scoped>\n",
              "    .dataframe tbody tr th:only-of-type {\n",
              "        vertical-align: middle;\n",
              "    }\n",
              "\n",
              "    .dataframe tbody tr th {\n",
              "        vertical-align: top;\n",
              "    }\n",
              "\n",
              "    .dataframe thead th {\n",
              "        text-align: right;\n",
              "    }\n",
              "</style>\n",
              "<table border=\"1\" class=\"dataframe\">\n",
              "  <thead>\n",
              "    <tr style=\"text-align: right;\">\n",
              "      <th></th>\n",
              "      <th>recency</th>\n",
              "      <th>history_segment</th>\n",
              "      <th>history</th>\n",
              "      <th>mens</th>\n",
              "      <th>womens</th>\n",
              "      <th>zip_code</th>\n",
              "      <th>newbie</th>\n",
              "      <th>channel</th>\n",
              "      <th>segment</th>\n",
              "      <th>visit</th>\n",
              "      <th>conversion</th>\n",
              "      <th>spend</th>\n",
              "    </tr>\n",
              "  </thead>\n",
              "  <tbody>\n",
              "    <tr>\n",
              "      <th>0</th>\n",
              "      <td>10</td>\n",
              "      <td>2) $100 - $200</td>\n",
              "      <td>142.44</td>\n",
              "      <td>1</td>\n",
              "      <td>0</td>\n",
              "      <td>Surburban</td>\n",
              "      <td>0</td>\n",
              "      <td>Phone</td>\n",
              "      <td>Womens E-Mail</td>\n",
              "      <td>0</td>\n",
              "      <td>0</td>\n",
              "      <td>0.0</td>\n",
              "    </tr>\n",
              "    <tr>\n",
              "      <th>1</th>\n",
              "      <td>6</td>\n",
              "      <td>3) $200 - $350</td>\n",
              "      <td>329.08</td>\n",
              "      <td>1</td>\n",
              "      <td>1</td>\n",
              "      <td>Rural</td>\n",
              "      <td>1</td>\n",
              "      <td>Web</td>\n",
              "      <td>No E-Mail</td>\n",
              "      <td>0</td>\n",
              "      <td>0</td>\n",
              "      <td>0.0</td>\n",
              "    </tr>\n",
              "    <tr>\n",
              "      <th>2</th>\n",
              "      <td>7</td>\n",
              "      <td>2) $100 - $200</td>\n",
              "      <td>180.65</td>\n",
              "      <td>0</td>\n",
              "      <td>1</td>\n",
              "      <td>Surburban</td>\n",
              "      <td>1</td>\n",
              "      <td>Web</td>\n",
              "      <td>Womens E-Mail</td>\n",
              "      <td>0</td>\n",
              "      <td>0</td>\n",
              "      <td>0.0</td>\n",
              "    </tr>\n",
              "    <tr>\n",
              "      <th>3</th>\n",
              "      <td>9</td>\n",
              "      <td>5) $500 - $750</td>\n",
              "      <td>675.83</td>\n",
              "      <td>1</td>\n",
              "      <td>0</td>\n",
              "      <td>Rural</td>\n",
              "      <td>1</td>\n",
              "      <td>Web</td>\n",
              "      <td>Mens E-Mail</td>\n",
              "      <td>0</td>\n",
              "      <td>0</td>\n",
              "      <td>0.0</td>\n",
              "    </tr>\n",
              "    <tr>\n",
              "      <th>4</th>\n",
              "      <td>2</td>\n",
              "      <td>1) $0 - $100</td>\n",
              "      <td>45.34</td>\n",
              "      <td>1</td>\n",
              "      <td>0</td>\n",
              "      <td>Urban</td>\n",
              "      <td>0</td>\n",
              "      <td>Web</td>\n",
              "      <td>Womens E-Mail</td>\n",
              "      <td>0</td>\n",
              "      <td>0</td>\n",
              "      <td>0.0</td>\n",
              "    </tr>\n",
              "  </tbody>\n",
              "</table>\n",
              "</div>"
            ],
            "text/plain": [
              "   recency history_segment  history  ...  visit  conversion spend\n",
              "0       10  2) $100 - $200   142.44  ...      0           0   0.0\n",
              "1        6  3) $200 - $350   329.08  ...      0           0   0.0\n",
              "2        7  2) $100 - $200   180.65  ...      0           0   0.0\n",
              "3        9  5) $500 - $750   675.83  ...      0           0   0.0\n",
              "4        2    1) $0 - $100    45.34  ...      0           0   0.0\n",
              "\n",
              "[5 rows x 12 columns]"
            ]
          },
          "execution_count": 25,
          "metadata": {},
          "output_type": "execute_result"
        }
      ],
      "source": [
        "email_analytics_df.head()"
      ]
    },
    {
      "attachments": {},
      "cell_type": "markdown",
      "metadata": {
        "id": "JF-xDbTrD_Uw"
      },
      "source": [
        "上のデータカラムについて、左から順に、\n",
        "* recency:直近購買からの経過月数\n",
        "* history_segment:昨年の購入セグメント\n",
        "* history:昨年の購入金額\n",
        "* mens昨年に男性商品の購入履歴があるかフラグ\n",
        "* womens昨年に女性商品の購入履歴があるかフラグ\n",
        "* zip_code:地区（zipcodeがベース）、都会や郊外など\n",
        "* newbie:過去12ヶ月以内に新しいユーザーになったかどうかフラグ\n",
        "* channel:購買チャネル\n",
        "* segment:どんなメールが送信されたか（男性、女性、なし）\n",
        "* visitメール:配信後2週以内にウェブに訪問したかどうかフラグ\n",
        "* conversion:メール配信後2週以内に購買したかどうかフラグ\n",
        "* spend:購入した時の金額\n",
        "\n",
        "になります。"
      ]
    },
    {
      "attachments": {},
      "cell_type": "markdown",
      "metadata": {
        "id": "7vRqzNMWHOcy"
      },
      "source": [
        "以下でデータをチェックして6万4000レコードあるのがわかります。"
      ]
    },
    {
      "cell_type": "code",
      "execution_count": null,
      "metadata": {
        "colab": {
          "base_uri": "https://localhost:8080/"
        },
        "id": "ShFFuRRpG_cY",
        "outputId": "ebc07985-246c-48ad-ae12-2cfce0476fb7"
      },
      "outputs": [
        {
          "name": "stdout",
          "output_type": "stream",
          "text": [
            "<class 'pandas.core.frame.DataFrame'>\n",
            "RangeIndex: 64000 entries, 0 to 63999\n",
            "Data columns (total 12 columns):\n",
            " #   Column           Non-Null Count  Dtype  \n",
            "---  ------           --------------  -----  \n",
            " 0   recency          64000 non-null  int64  \n",
            " 1   history_segment  64000 non-null  object \n",
            " 2   history          64000 non-null  float64\n",
            " 3   mens             64000 non-null  int64  \n",
            " 4   womens           64000 non-null  int64  \n",
            " 5   zip_code         64000 non-null  object \n",
            " 6   newbie           64000 non-null  int64  \n",
            " 7   channel          64000 non-null  object \n",
            " 8   segment          64000 non-null  object \n",
            " 9   visit            64000 non-null  int64  \n",
            " 10  conversion       64000 non-null  int64  \n",
            " 11  spend            64000 non-null  float64\n",
            "dtypes: float64(2), int64(6), object(4)\n",
            "memory usage: 5.9+ MB\n"
          ]
        }
      ],
      "source": [
        "email_analytics_df.info()"
      ]
    },
    {
      "attachments": {},
      "cell_type": "markdown",
      "metadata": {
        "id": "UM6S4yESLhAO"
      },
      "source": [
        "さて、まずメール施策を実施したかどうかをわかりやすくするために、データ加工処理します。メール施策に関するカラムはsegmentになるため、segmentごとに集計すると以下のようになります。"
      ]
    },
    {
      "cell_type": "code",
      "execution_count": null,
      "metadata": {
        "colab": {
          "base_uri": "https://localhost:8080/"
        },
        "id": "0XaIdutHLvvm",
        "outputId": "5fdadfc6-a747-4eca-9fdc-694be1221f0f"
      },
      "outputs": [
        {
          "data": {
            "text/plain": [
              "Womens E-Mail    21387\n",
              "Mens E-Mail      21307\n",
              "No E-Mail        21306\n",
              "Name: segment, dtype: int64"
            ]
          },
          "execution_count": 27,
          "metadata": {},
          "output_type": "execute_result"
        }
      ],
      "source": [
        "email_analytics_df.segment.value_counts()"
      ]
    },
    {
      "attachments": {},
      "cell_type": "markdown",
      "metadata": {
        "id": "t4wfXspNMXHl"
      },
      "source": [
        "Womens E-MailとMens E-Mail でメール送信フラグを1、No E-Mail を0としてカラムを追加します。"
      ]
    },
    {
      "cell_type": "code",
      "execution_count": null,
      "metadata": {
        "colab": {
          "base_uri": "https://localhost:8080/"
        },
        "id": "To6J-dmWNDUY",
        "outputId": "70aeacdf-210c-42bc-e4ec-6b678d6205e3"
      },
      "outputs": [
        {
          "data": {
            "text/plain": [
              "1    42694\n",
              "0    21306\n",
              "Name: flg, dtype: int64"
            ]
          },
          "execution_count": 28,
          "metadata": {},
          "output_type": "execute_result"
        }
      ],
      "source": [
        "email_analytics_df['flg'] = email_analytics_df[\"segment\"].map(lambda x: 0 if x == \"No E-Mail\" else 1)\n",
        "email_analytics_df.flg.value_counts()"
      ]
    },
    {
      "attachments": {},
      "cell_type": "markdown",
      "metadata": {
        "id": "Uh7Is_taPXr2"
      },
      "source": [
        "ここで単純に考えると、メールを送信したグループ(flg=1)と送信していないグループ(flg=0)でコンバージョンや購買金額に差があるのかというのを算出してみます。"
      ]
    },
    {
      "cell_type": "code",
      "execution_count": null,
      "metadata": {
        "colab": {
          "base_uri": "https://localhost:8080/",
          "height": 178
        },
        "id": "E0u2QKg0PlrX",
        "outputId": "b3ab8335-b428-46d2-bd0a-335e9d5b259c"
      },
      "outputs": [
        {
          "name": "stderr",
          "output_type": "stream",
          "text": [
            "/usr/local/lib/python3.7/dist-packages/ipykernel_launcher.py:1: FutureWarning: Indexing with multiple keys (implicitly converted to a tuple of keys) will be deprecated, use a list instead.\n",
            "  \"\"\"Entry point for launching an IPython kernel.\n"
          ]
        },
        {
          "data": {
            "text/html": [
              "<div>\n",
              "<style scoped>\n",
              "    .dataframe tbody tr th:only-of-type {\n",
              "        vertical-align: middle;\n",
              "    }\n",
              "\n",
              "    .dataframe tbody tr th {\n",
              "        vertical-align: top;\n",
              "    }\n",
              "\n",
              "    .dataframe thead th {\n",
              "        text-align: right;\n",
              "    }\n",
              "</style>\n",
              "<table border=\"1\" class=\"dataframe\">\n",
              "  <thead>\n",
              "    <tr style=\"text-align: right;\">\n",
              "      <th></th>\n",
              "      <th>conversion</th>\n",
              "      <th>spend</th>\n",
              "    </tr>\n",
              "    <tr>\n",
              "      <th>flg</th>\n",
              "      <th></th>\n",
              "      <th></th>\n",
              "    </tr>\n",
              "  </thead>\n",
              "  <tbody>\n",
              "    <tr>\n",
              "      <th>0</th>\n",
              "      <td>0.005726</td>\n",
              "      <td>0.652789</td>\n",
              "    </tr>\n",
              "    <tr>\n",
              "      <th>1</th>\n",
              "      <td>0.010681</td>\n",
              "      <td>1.249585</td>\n",
              "    </tr>\n",
              "  </tbody>\n",
              "</table>\n",
              "</div>"
            ],
            "text/plain": [
              "     conversion     spend\n",
              "flg                      \n",
              "0      0.005726  0.652789\n",
              "1      0.010681  1.249585"
            ]
          },
          "execution_count": 29,
          "metadata": {},
          "output_type": "execute_result"
        }
      ],
      "source": [
        "email_analytics_df.groupby([\"flg\"])[\"conversion\",\"spend\"].mean()"
      ]
    },
    {
      "attachments": {},
      "cell_type": "markdown",
      "metadata": {
        "id": "Ci1EA0OsQQvL"
      },
      "source": [
        "上の結果から、メール送信したグループのコンバージョンは約1%で、メール送信していないグループは約0.5%で2倍近くの違いがあります。そして、購買金額についてみると、メール送信グループは1.24でメールを送信していないグループは0.65でこちらも2倍近くの差があり、その効果の差分は1.24-0.65=0.59の効果があるといえます。"
      ]
    },
    {
      "attachments": {},
      "cell_type": "markdown",
      "metadata": {
        "id": "_Z0FUn_1VxVv"
      },
      "source": [
        "さてここで、この差が統計的に優位かどうか検証してみます。ここでは、ウィルコクソンの順位和検定という手法を使いますが、以下のような前提があるという条件で実施していきます。なお、統計学の推定の単元で学ぶ用語（帰無仮説や対立仮説、p-valueなど）がいくつかあるため、全く馴染みのない方は、簡単な統計の本を使って復習をしてください。"
      ]
    },
    {
      "attachments": {},
      "cell_type": "markdown",
      "metadata": {
        "id": "hHBzSNK9WJJi"
      },
      "source": [
        "補足：ウィルコクソンの順位和検定の前提\n",
        "\n",
        "*   2グループの平均値が独立であり(データに対応がない)\n",
        "*   正規分布が仮定できない(ノンパラメトリック)場合に用いる\n",
        "*   順序尺度に対応\n",
        "*   独立2群間の代表値の差の検定\n",
        "*   各群のサンプル数は不一致でもOK\n",
        "\n"
      ]
    },
    {
      "cell_type": "code",
      "execution_count": null,
      "metadata": {
        "id": "rkl8Q8nuUCMa"
      },
      "outputs": [],
      "source": [
        "from scipy import stats\n",
        "s, pvalue = stats.mannwhitneyu(email_analytics_df[email_analytics_df[\"flg\"]==1][\"spend\"]\n",
        "                , email_analytics_df[email_analytics_df[\"flg\"]==0][\"spend\"]\n",
        "                ,alternative='two-sided')"
      ]
    },
    {
      "attachments": {},
      "cell_type": "markdown",
      "metadata": {
        "id": "jClSMSUcWAin"
      },
      "source": [
        "有意水準を0.05とすると、以下の判定から、帰無仮説「この2つのグループの差はないこと」は棄却されて、2つのグループの差はあると結論づけられました。よって、この施策は意味があったと考えることができます。"
      ]
    },
    {
      "cell_type": "code",
      "execution_count": null,
      "metadata": {
        "colab": {
          "base_uri": "https://localhost:8080/"
        },
        "id": "p5RiS_k3VjLV",
        "outputId": "9696e3cf-1d20-4d57-f29b-b9df116be2d2"
      },
      "outputs": [
        {
          "data": {
            "text/plain": [
              "True"
            ]
          },
          "execution_count": 31,
          "metadata": {},
          "output_type": "execute_result"
        }
      ],
      "source": [
        "pvalue < 0.05"
      ]
    },
    {
      "attachments": {},
      "cell_type": "markdown",
      "metadata": {
        "id": "PSrDHz9OZ1Vx"
      },
      "source": [
        "#### 練習問題\n",
        "1.   上記のデータに対して、Mens E-MailとNo E-Mail の2グループで差があるかどうか調べてみましょう。\n",
        "2.   2つの比較グループに対して、過去の購買力に差がないか調べてみましょう。"
      ]
    },
    {
      "attachments": {},
      "cell_type": "markdown",
      "metadata": {
        "id": "ae_G7mf6Mmkn"
      },
      "source": [
        "#### 解答\n"
      ]
    },
    {
      "attachments": {},
      "cell_type": "markdown",
      "metadata": {
        "id": "46TNp3g8T_b1"
      },
      "source": [
        "以下はフィルターした状態で、先ほどと同じように実装しています。"
      ]
    },
    {
      "cell_type": "code",
      "execution_count": null,
      "metadata": {
        "colab": {
          "base_uri": "https://localhost:8080/"
        },
        "id": "qiyxHuHEaReP",
        "outputId": "c6b2ec09-5751-444a-a6a6-82a3ce04c9d7"
      },
      "outputs": [
        {
          "data": {
            "text/plain": [
              "True"
            ]
          },
          "execution_count": 32,
          "metadata": {},
          "output_type": "execute_result"
        }
      ],
      "source": [
        "from scipy import stats\n",
        "s,pvalue = stats.mannwhitneyu(email_analytics_df[email_analytics_df[\"segment\"]==\"No E-Mail\"][\"spend\"]\n",
        "                , email_analytics_df[email_analytics_df[\"segment\"]==\"Mens E-Mail\"][\"spend\"]\n",
        "                ,alternative='two-sided')\n",
        "pvalue < 0.05"
      ]
    },
    {
      "attachments": {},
      "cell_type": "markdown",
      "metadata": {
        "id": "99V2N2KRUGpr"
      },
      "source": [
        "上と同じ結果が得られました。"
      ]
    },
    {
      "attachments": {},
      "cell_type": "markdown",
      "metadata": {
        "id": "-P2bae8eY22i"
      },
      "source": [
        "さて、今はこのデータはRCTが実施されている前提のため、頑健な方法で施策設計や検証がされていますが、もしRCTがされていない場合には、この検証のやり方は正しいのでしょうか？　冒頭で述べた通り、もともと購買力の高い人たちにメールが送られている可能性があり、それを「セレクションバイアス」と言います。その場合、ターゲットがもともと購買力が高い人たちのため、施策の有無にかかわらず、購買が高かった可能性もあります。\n",
        "\n",
        "そこで、ここでは、メール送信されているグループとされていないグループのそれぞれについて、過去の購買金額を調べてみます。"
      ]
    },
    {
      "cell_type": "code",
      "execution_count": null,
      "metadata": {
        "colab": {
          "base_uri": "https://localhost:8080/"
        },
        "id": "vVB5AViVa3RZ",
        "outputId": "f3fda515-a709-46d0-b138-8e419b8fd17b"
      },
      "outputs": [
        {
          "data": {
            "text/plain": [
              "flg\n",
              "0    240.882653\n",
              "1    242.686002\n",
              "Name: history, dtype: float64"
            ]
          },
          "execution_count": 33,
          "metadata": {},
          "output_type": "execute_result"
        }
      ],
      "source": [
        "email_analytics_df.groupby([\"flg\"])[\"history\"].mean()"
      ]
    },
    {
      "attachments": {},
      "cell_type": "markdown",
      "metadata": {
        "id": "nrfUf2B6bqur"
      },
      "source": [
        "RCTが実行されているため、あまり過去の購買金額に差はなさそうですが、念のため検定してみましょう。"
      ]
    },
    {
      "cell_type": "code",
      "execution_count": null,
      "metadata": {
        "colab": {
          "base_uri": "https://localhost:8080/"
        },
        "id": "JfoSl5a3bi74",
        "outputId": "26b01d53-ee60-4eac-f045-38ad093ddcfd"
      },
      "outputs": [
        {
          "data": {
            "text/plain": [
              "False"
            ]
          },
          "execution_count": 34,
          "metadata": {},
          "output_type": "execute_result"
        }
      ],
      "source": [
        "from scipy import stats\n",
        "s, pvalue = stats.mannwhitneyu(email_analytics_df[email_analytics_df[\"flg\"]==1][\"history\"]\n",
        "                , email_analytics_df[email_analytics_df[\"flg\"]==0][\"history\"]\n",
        "                ,alternative='two-sided')\n",
        "pvalue < 0.05"
      ]
    },
    {
      "attachments": {},
      "cell_type": "markdown",
      "metadata": {
        "id": "54dra_2Ub0yr"
      },
      "source": [
        "上から、帰無仮説は棄却されず、「過去の購買において、この2つのグループの差はない」ことがいえます。RCTがちゃんと実施されているため、セレクションバイアスはないようです。"
      ]
    },
    {
      "attachments": {},
      "cell_type": "markdown",
      "metadata": {
        "id": "M3DfzoFIwsa8"
      },
      "source": [
        "参考：解答解説はこれで以上ですが、このデータについて、セグメントごとにいろいろと集計できますので、データ理解のために、少し探索的にデータを把握してみましょう。例えば、それぞれの過去のセグメントごとに、それぞれどんなメールを、どれだけの人数に送ったか、それぞれの過去購買金額、コンバージョン人数、コンバージョン率、購買金額合計と購買平均額を算出しています。（以下の実装がわからない方は、pandasの復習をしてください。）\n",
        "\n",
        "以下の集計結果を見ると、過去のセグメント（購買金額による7つのセグメント）ごとに、それぞれメールを送ったグループとそうでないグループとの差があるのがわかります。"
      ]
    },
    {
      "cell_type": "code",
      "execution_count": null,
      "metadata": {
        "colab": {
          "base_uri": "https://localhost:8080/",
          "height": 539
        },
        "id": "_FpneZ2sw7b7",
        "outputId": "20399b8f-88f4-4b1e-9600-eb86b6d38a31"
      },
      "outputs": [
        {
          "name": "stderr",
          "output_type": "stream",
          "text": [
            "/usr/local/lib/python3.7/dist-packages/ipykernel_launcher.py:4: FutureWarning: Indexing with multiple keys (implicitly converted to a tuple of keys) will be deprecated, use a list instead.\n",
            "  after removing the cwd from sys.path.\n"
          ]
        },
        {
          "data": {
            "text/html": [
              "<div>\n",
              "<style scoped>\n",
              "    .dataframe tbody tr th:only-of-type {\n",
              "        vertical-align: middle;\n",
              "    }\n",
              "\n",
              "    .dataframe tbody tr th {\n",
              "        vertical-align: top;\n",
              "    }\n",
              "\n",
              "    .dataframe thead tr th {\n",
              "        text-align: left;\n",
              "    }\n",
              "\n",
              "    .dataframe thead tr:last-of-type th {\n",
              "        text-align: right;\n",
              "    }\n",
              "</style>\n",
              "<table border=\"1\" class=\"dataframe\">\n",
              "  <thead>\n",
              "    <tr>\n",
              "      <th></th>\n",
              "      <th colspan=\"3\" halign=\"left\">history</th>\n",
              "      <th colspan=\"9\" halign=\"left\">conversion</th>\n",
              "      <th colspan=\"6\" halign=\"left\">spend</th>\n",
              "    </tr>\n",
              "    <tr>\n",
              "      <th></th>\n",
              "      <th colspan=\"3\" halign=\"left\">mean</th>\n",
              "      <th colspan=\"3\" halign=\"left\">count</th>\n",
              "      <th colspan=\"3\" halign=\"left\">sum</th>\n",
              "      <th colspan=\"3\" halign=\"left\">mean</th>\n",
              "      <th colspan=\"3\" halign=\"left\">sum</th>\n",
              "      <th colspan=\"3\" halign=\"left\">mean</th>\n",
              "    </tr>\n",
              "    <tr>\n",
              "      <th>segment</th>\n",
              "      <th>Mens E-Mail</th>\n",
              "      <th>No E-Mail</th>\n",
              "      <th>Womens E-Mail</th>\n",
              "      <th>Mens E-Mail</th>\n",
              "      <th>No E-Mail</th>\n",
              "      <th>Womens E-Mail</th>\n",
              "      <th>Mens E-Mail</th>\n",
              "      <th>No E-Mail</th>\n",
              "      <th>Womens E-Mail</th>\n",
              "      <th>Mens E-Mail</th>\n",
              "      <th>No E-Mail</th>\n",
              "      <th>Womens E-Mail</th>\n",
              "      <th>Mens E-Mail</th>\n",
              "      <th>No E-Mail</th>\n",
              "      <th>Womens E-Mail</th>\n",
              "      <th>Mens E-Mail</th>\n",
              "      <th>No E-Mail</th>\n",
              "      <th>Womens E-Mail</th>\n",
              "    </tr>\n",
              "    <tr>\n",
              "      <th>history_segment</th>\n",
              "      <th></th>\n",
              "      <th></th>\n",
              "      <th></th>\n",
              "      <th></th>\n",
              "      <th></th>\n",
              "      <th></th>\n",
              "      <th></th>\n",
              "      <th></th>\n",
              "      <th></th>\n",
              "      <th></th>\n",
              "      <th></th>\n",
              "      <th></th>\n",
              "      <th></th>\n",
              "      <th></th>\n",
              "      <th></th>\n",
              "      <th></th>\n",
              "      <th></th>\n",
              "      <th></th>\n",
              "    </tr>\n",
              "  </thead>\n",
              "  <tbody>\n",
              "    <tr>\n",
              "      <th>1) $0 - $100</th>\n",
              "      <td>51.685487</td>\n",
              "      <td>51.603710</td>\n",
              "      <td>51.661992</td>\n",
              "      <td>7724</td>\n",
              "      <td>7612</td>\n",
              "      <td>7634</td>\n",
              "      <td>71</td>\n",
              "      <td>32</td>\n",
              "      <td>61</td>\n",
              "      <td>0.009192</td>\n",
              "      <td>0.004204</td>\n",
              "      <td>0.007991</td>\n",
              "      <td>8150.18</td>\n",
              "      <td>3934.59</td>\n",
              "      <td>8723.47</td>\n",
              "      <td>1.055176</td>\n",
              "      <td>0.516893</td>\n",
              "      <td>1.142713</td>\n",
              "    </tr>\n",
              "    <tr>\n",
              "      <th>2) $100 - $200</th>\n",
              "      <td>146.504266</td>\n",
              "      <td>146.165376</td>\n",
              "      <td>146.694184</td>\n",
              "      <td>4691</td>\n",
              "      <td>4836</td>\n",
              "      <td>4727</td>\n",
              "      <td>42</td>\n",
              "      <td>20</td>\n",
              "      <td>37</td>\n",
              "      <td>0.008953</td>\n",
              "      <td>0.004136</td>\n",
              "      <td>0.007827</td>\n",
              "      <td>5287.43</td>\n",
              "      <td>2045.12</td>\n",
              "      <td>4165.85</td>\n",
              "      <td>1.127143</td>\n",
              "      <td>0.422895</td>\n",
              "      <td>0.881288</td>\n",
              "    </tr>\n",
              "    <tr>\n",
              "      <th>3) $200 - $350</th>\n",
              "      <td>266.791054</td>\n",
              "      <td>267.371335</td>\n",
              "      <td>266.548869</td>\n",
              "      <td>4090</td>\n",
              "      <td>4044</td>\n",
              "      <td>4155</td>\n",
              "      <td>63</td>\n",
              "      <td>28</td>\n",
              "      <td>26</td>\n",
              "      <td>0.015403</td>\n",
              "      <td>0.006924</td>\n",
              "      <td>0.006258</td>\n",
              "      <td>6010.10</td>\n",
              "      <td>3772.57</td>\n",
              "      <td>2533.47</td>\n",
              "      <td>1.469462</td>\n",
              "      <td>0.932881</td>\n",
              "      <td>0.609740</td>\n",
              "    </tr>\n",
              "    <tr>\n",
              "      <th>4) $350 - $500</th>\n",
              "      <td>418.234845</td>\n",
              "      <td>415.739007</td>\n",
              "      <td>419.346357</td>\n",
              "      <td>2097</td>\n",
              "      <td>2124</td>\n",
              "      <td>2188</td>\n",
              "      <td>42</td>\n",
              "      <td>24</td>\n",
              "      <td>20</td>\n",
              "      <td>0.020029</td>\n",
              "      <td>0.011299</td>\n",
              "      <td>0.009141</td>\n",
              "      <td>5408.60</td>\n",
              "      <td>2145.81</td>\n",
              "      <td>1989.72</td>\n",
              "      <td>2.579208</td>\n",
              "      <td>1.010268</td>\n",
              "      <td>0.909378</td>\n",
              "    </tr>\n",
              "    <tr>\n",
              "      <th>5) $500 - $750</th>\n",
              "      <td>603.155329</td>\n",
              "      <td>605.527264</td>\n",
              "      <td>605.175385</td>\n",
              "      <td>1597</td>\n",
              "      <td>1652</td>\n",
              "      <td>1662</td>\n",
              "      <td>22</td>\n",
              "      <td>9</td>\n",
              "      <td>26</td>\n",
              "      <td>0.013776</td>\n",
              "      <td>0.005448</td>\n",
              "      <td>0.015644</td>\n",
              "      <td>2622.06</td>\n",
              "      <td>890.19</td>\n",
              "      <td>3032.33</td>\n",
              "      <td>1.641866</td>\n",
              "      <td>0.538856</td>\n",
              "      <td>1.824507</td>\n",
              "    </tr>\n",
              "    <tr>\n",
              "      <th>6) $750 - $1,000</th>\n",
              "      <td>852.261693</td>\n",
              "      <td>857.201318</td>\n",
              "      <td>851.805902</td>\n",
              "      <td>644</td>\n",
              "      <td>622</td>\n",
              "      <td>593</td>\n",
              "      <td>16</td>\n",
              "      <td>3</td>\n",
              "      <td>8</td>\n",
              "      <td>0.024845</td>\n",
              "      <td>0.004823</td>\n",
              "      <td>0.013491</td>\n",
              "      <td>1213.09</td>\n",
              "      <td>217.41</td>\n",
              "      <td>591.69</td>\n",
              "      <td>1.883680</td>\n",
              "      <td>0.349534</td>\n",
              "      <td>0.997791</td>\n",
              "    </tr>\n",
              "    <tr>\n",
              "      <th>7) $1,000 +</th>\n",
              "      <td>1308.891164</td>\n",
              "      <td>1285.560144</td>\n",
              "      <td>1316.255023</td>\n",
              "      <td>464</td>\n",
              "      <td>416</td>\n",
              "      <td>428</td>\n",
              "      <td>11</td>\n",
              "      <td>6</td>\n",
              "      <td>11</td>\n",
              "      <td>0.023707</td>\n",
              "      <td>0.014423</td>\n",
              "      <td>0.025701</td>\n",
              "      <td>1620.23</td>\n",
              "      <td>902.64</td>\n",
              "      <td>2001.58</td>\n",
              "      <td>3.491875</td>\n",
              "      <td>2.169808</td>\n",
              "      <td>4.676589</td>\n",
              "    </tr>\n",
              "  </tbody>\n",
              "</table>\n",
              "</div>"
            ],
            "text/plain": [
              "                      history               ...     spend              \n",
              "                         mean               ...      mean              \n",
              "segment           Mens E-Mail    No E-Mail  ... No E-Mail Womens E-Mail\n",
              "history_segment                             ...                        \n",
              "1) $0 - $100        51.685487    51.603710  ...  0.516893      1.142713\n",
              "2) $100 - $200     146.504266   146.165376  ...  0.422895      0.881288\n",
              "3) $200 - $350     266.791054   267.371335  ...  0.932881      0.609740\n",
              "4) $350 - $500     418.234845   415.739007  ...  1.010268      0.909378\n",
              "5) $500 - $750     603.155329   605.527264  ...  0.538856      1.824507\n",
              "6) $750 - $1,000   852.261693   857.201318  ...  0.349534      0.997791\n",
              "7) $1,000 +       1308.891164  1285.560144  ...  2.169808      4.676589\n",
              "\n",
              "[7 rows x 18 columns]"
            ]
          },
          "execution_count": 35,
          "metadata": {},
          "output_type": "execute_result"
        }
      ],
      "source": [
        "aggregations = {\"history\":[\"mean\"]\n",
        "                ,\"conversion\":[\"count\",\"sum\",\"mean\"]\n",
        "                ,\"spend\":[\"sum\",\"mean\"]}\n",
        "email_analytics_df.groupby([\"history_segment\",\"segment\"])[\"history\",\"conversion\",\"spend\"].agg(aggregations).unstack()"
      ]
    },
    {
      "attachments": {},
      "cell_type": "markdown",
      "metadata": {
        "id": "nRx4_gMWWuQW"
      },
      "source": [
        "#### 補足事項1：A/Bテスト\n",
        "このRCTは、いわゆるA/Bテストといわれるアプローチです。インターネット業界ではA/Bテストは常識になっており（ネット上にある広告やデザインなど）、検索エンジンサービスを提供しているGoogleは1日に1000回ものA/Bテストを行っているといわれていますし、またMicrosoftも200回もしているといわれています。A/Bテストに関しては、以下のサイトや最近出た書籍(2021年3月時点、『A/Bテスト実践ガイド』（ASCII）の日本語訳)がとても参考になります。\n",
        "\n",
        "参考URL\n",
        "* https://exp-platform.com/2019webconfabtutorial/\n",
        "\n",
        "参考書籍\n",
        "* 『A/Bテスト実践ガイド』（ASCII）\n",
        "\n",
        "\n",
        "一方、インターネット業界以外でも、初級編で紹介したアパレル企業のワークマンもA/Bテストを大量に実施して、どんどん売り上げを伸ばしているようです。\n",
        "\n",
        "参考URL：ワークマン大量出店の裏にABテスト　実はデータ経営（NIKKEI STYLEより）\n",
        "* https://style.nikkei.com/article/DGXZZO42636670Z10C19A3000000/\n",
        "\n",
        "これらの企業成長の背景には、A/Bテストを繰り返して実験をたくさん実行し、素早くPDCAをまわしていく組織文化があり、組織として全社的に取り組むことが重要だとあらためてわかります。"
      ]
    },
    {
      "attachments": {},
      "cell_type": "markdown",
      "metadata": {
        "id": "eRFJCMNTdMI9"
      },
      "source": [
        "### 10.3.3 回帰分析による因果推論\n",
        "\n",
        "次は、RCTができない場合はどうするかを考えます。ここでは、回帰分析を使った因果推論を紹介します。（なお、回帰分析は、松尾研究室提供の統計学の章にあり、重回帰分析は、機械学習の教師あり学習の章で復習してください。）"
      ]
    },
    {
      "attachments": {},
      "cell_type": "markdown",
      "metadata": {
        "id": "xVpx1WUhdkxi"
      },
      "source": [
        "上記で、セレクションバイアスの話をしましたが、回帰分析によって、それを取り除くことを試みます。\n",
        "\n",
        "さて、回帰分析（重回帰分析）は、2つ以上の説明変数（X）を使って、目的変数（Y）を予測するモデルでした。このメールマーケティングのケースでは、目的変数は購買金額(spend)、説明変数をメールの送信有無(flg)と過去の購買金額(history)とします。ここでは、セレクションバイアスは「過去の購買金額(history)」になり、共変量ともいいます。そして、メール送信の有無が施策のため、これを介入変数ともいいます。\n",
        "\n",
        "\n",
        "購買金額（Y:アウトカム)　　＜＝　　メール送信有無（X:介入変数）　、　過去の購買金額（Z:共変量)\n",
        "\n",
        "\n",
        "ここでは、購買金額Yがメールの送信有無の介入変数によって影響を受けているかどうかを知りたいため、なるべく過去の購買金額の共変量（セレクションバイアス）を減らしたいというモチベーションがあります。"
      ]
    },
    {
      "attachments": {},
      "cell_type": "markdown",
      "metadata": {
        "id": "QGV-OBY4htBo"
      },
      "source": [
        "上の分析設計にしたがって、重回帰分析を実施します。ここでは、機械学習のsklearnではなく、分析結果を詳細に出力してくれるstatsmodelsを使います。"
      ]
    },
    {
      "cell_type": "code",
      "execution_count": null,
      "metadata": {
        "colab": {
          "base_uri": "https://localhost:8080/"
        },
        "id": "SIjXceg7hj1Y",
        "outputId": "5bb3fb7f-cdea-4558-85a6-0ca6e525bd30"
      },
      "outputs": [
        {
          "name": "stderr",
          "output_type": "stream",
          "text": [
            "/usr/local/lib/python3.7/dist-packages/statsmodels/tools/_testing.py:19: FutureWarning: pandas.util.testing is deprecated. Use the functions in the public API at pandas.testing instead.\n",
            "  import pandas.util.testing as tm\n"
          ]
        }
      ],
      "source": [
        "import statsmodels.api as sm\n",
        "\n",
        "X = sm.add_constant(email_analytics_df[[\"history\",\"flg\"]])\n",
        "y = email_analytics_df[\"spend\"]\n",
        "\n",
        "model = sm.OLS(y, X)\n",
        "result = model.fit()"
      ]
    },
    {
      "attachments": {},
      "cell_type": "markdown",
      "metadata": {
        "id": "bkqLc-k_jINe"
      },
      "source": [
        "重回帰分析モデルの結果を見てみましょう。"
      ]
    },
    {
      "cell_type": "code",
      "execution_count": null,
      "metadata": {
        "colab": {
          "base_uri": "https://localhost:8080/",
          "height": 473
        },
        "id": "4P4rI0frjGSg",
        "outputId": "a51e013f-b42f-4bdb-bdea-be3a5abb9de9"
      },
      "outputs": [
        {
          "data": {
            "text/html": [
              "<table class=\"simpletable\">\n",
              "<caption>OLS Regression Results</caption>\n",
              "<tr>\n",
              "  <th>Dep. Variable:</th>          <td>spend</td>      <th>  R-squared:         </th>  <td>   0.001</td>  \n",
              "</tr>\n",
              "<tr>\n",
              "  <th>Model:</th>                   <td>OLS</td>       <th>  Adj. R-squared:    </th>  <td>   0.001</td>  \n",
              "</tr>\n",
              "<tr>\n",
              "  <th>Method:</th>             <td>Least Squares</td>  <th>  F-statistic:       </th>  <td>   26.24</td>  \n",
              "</tr>\n",
              "<tr>\n",
              "  <th>Date:</th>             <td>Mon, 06 Dec 2021</td> <th>  Prob (F-statistic):</th>  <td>4.07e-12</td>  \n",
              "</tr>\n",
              "<tr>\n",
              "  <th>Time:</th>                 <td>11:11:19</td>     <th>  Log-Likelihood:    </th> <td>-2.6426e+05</td>\n",
              "</tr>\n",
              "<tr>\n",
              "  <th>No. Observations:</th>      <td> 64000</td>      <th>  AIC:               </th>  <td>5.285e+05</td> \n",
              "</tr>\n",
              "<tr>\n",
              "  <th>Df Residuals:</th>          <td> 63997</td>      <th>  BIC:               </th>  <td>5.285e+05</td> \n",
              "</tr>\n",
              "<tr>\n",
              "  <th>Df Model:</th>              <td>     2</td>      <th>                     </th>      <td> </td>     \n",
              "</tr>\n",
              "<tr>\n",
              "  <th>Covariance Type:</th>      <td>nonrobust</td>    <th>                     </th>      <td> </td>     \n",
              "</tr>\n",
              "</table>\n",
              "<table class=\"simpletable\">\n",
              "<tr>\n",
              "     <td></td>        <th>coef</th>     <th>std err</th>      <th>t</th>      <th>P>|t|</th>  <th>[0.025</th>    <th>0.975]</th>  \n",
              "</tr>\n",
              "<tr>\n",
              "  <th>const</th>   <td>    0.3464</td> <td>    0.117</td> <td>    2.957</td> <td> 0.003</td> <td>    0.117</td> <td>    0.576</td>\n",
              "</tr>\n",
              "<tr>\n",
              "  <th>history</th> <td>    0.0013</td> <td>    0.000</td> <td>    5.484</td> <td> 0.000</td> <td>    0.001</td> <td>    0.002</td>\n",
              "</tr>\n",
              "<tr>\n",
              "  <th>flg</th>     <td>    0.5945</td> <td>    0.126</td> <td>    4.715</td> <td> 0.000</td> <td>    0.347</td> <td>    0.842</td>\n",
              "</tr>\n",
              "</table>\n",
              "<table class=\"simpletable\">\n",
              "<tr>\n",
              "  <th>Omnibus:</th>       <td>141122.328</td> <th>  Durbin-Watson:     </th>   <td>   2.006</td>   \n",
              "</tr>\n",
              "<tr>\n",
              "  <th>Prob(Omnibus):</th>   <td> 0.000</td>   <th>  Jarque-Bera (JB):  </th> <td>699656310.293</td>\n",
              "</tr>\n",
              "<tr>\n",
              "  <th>Skew:</th>            <td>20.576</td>   <th>  Prob(JB):          </th>   <td>    0.00</td>   \n",
              "</tr>\n",
              "<tr>\n",
              "  <th>Kurtosis:</th>        <td>513.566</td>  <th>  Cond. No.          </th>   <td>    946.</td>   \n",
              "</tr>\n",
              "</table><br/><br/>Warnings:<br/>[1] Standard Errors assume that the covariance matrix of the errors is correctly specified."
            ],
            "text/plain": [
              "<class 'statsmodels.iolib.summary.Summary'>\n",
              "\"\"\"\n",
              "                            OLS Regression Results                            \n",
              "==============================================================================\n",
              "Dep. Variable:                  spend   R-squared:                       0.001\n",
              "Model:                            OLS   Adj. R-squared:                  0.001\n",
              "Method:                 Least Squares   F-statistic:                     26.24\n",
              "Date:                Mon, 06 Dec 2021   Prob (F-statistic):           4.07e-12\n",
              "Time:                        11:11:19   Log-Likelihood:            -2.6426e+05\n",
              "No. Observations:               64000   AIC:                         5.285e+05\n",
              "Df Residuals:                   63997   BIC:                         5.285e+05\n",
              "Df Model:                           2                                         \n",
              "Covariance Type:            nonrobust                                         \n",
              "==============================================================================\n",
              "                 coef    std err          t      P>|t|      [0.025      0.975]\n",
              "------------------------------------------------------------------------------\n",
              "const          0.3464      0.117      2.957      0.003       0.117       0.576\n",
              "history        0.0013      0.000      5.484      0.000       0.001       0.002\n",
              "flg            0.5945      0.126      4.715      0.000       0.347       0.842\n",
              "==============================================================================\n",
              "Omnibus:                   141122.328   Durbin-Watson:                   2.006\n",
              "Prob(Omnibus):                  0.000   Jarque-Bera (JB):        699656310.293\n",
              "Skew:                          20.576   Prob(JB):                         0.00\n",
              "Kurtosis:                     513.566   Cond. No.                         946.\n",
              "==============================================================================\n",
              "\n",
              "Warnings:\n",
              "[1] Standard Errors assume that the covariance matrix of the errors is correctly specified.\n",
              "\"\"\""
            ]
          },
          "execution_count": 37,
          "metadata": {},
          "output_type": "execute_result"
        }
      ],
      "source": [
        "result.summary()"
      ]
    },
    {
      "attachments": {},
      "cell_type": "markdown",
      "metadata": {
        "id": "279MMlzkjcKd"
      },
      "source": [
        "上の結果から、切片が0.3464、過去の購買金額の係数が0.0013、メール送信有無の係数が0.5945\tになっています。そしてt検定は全てpvaluが0.05より小さくなっているため、係数は有意な結果になりました。\n",
        "\n",
        "よって、メール送信の効果有無は0.59ほど売り上げをあげる効果があるということがわかり、上のRCTの場合と同じになっているのがわかります。\n",
        "\n",
        "今回は共変量を1つ選んで追加して重回帰分析を実施し、それはそのセレクションバイアスの影響を減らすためであり、さらに他の共変量を加えて、よりRCTの結果に近づけることができます。\n",
        "\n",
        "ただ、ここで問題があり、この共変量をデータとして得ることができないケースもあり、完全にセレクションバイアスを取り除くことができないこともあります。その場合、いくつかのアプローチ（操作変数法など）がありますので、本節の最後の方に少し紹介しますが、興味ある方は参考文献などで調べてみてください。\n",
        "\n",
        "他、この効果検証をするための重回帰分析について、もちろん、なんでもかんでも目的変数や共変量を入れかて実行するアプローチではなく、そのビジネス背景やドメイン知識を使って、しっかりと分析設計を実施した方がより頑健に検証ができます。"
      ]
    },
    {
      "attachments": {},
      "cell_type": "markdown",
      "metadata": {
        "id": "hVv1W6B-urYW"
      },
      "source": [
        "#### 練習問題\n",
        "1.   Mens E-MailとNo E-Mail の２グループデータで上と同じように、重回帰分析を実施して、メールの効果を算出してください。"
      ]
    },
    {
      "attachments": {},
      "cell_type": "markdown",
      "metadata": {
        "id": "070ZESGdNUoE"
      },
      "source": [
        "#### 解答"
      ]
    },
    {
      "cell_type": "code",
      "execution_count": null,
      "metadata": {
        "colab": {
          "base_uri": "https://localhost:8080/",
          "height": 473
        },
        "id": "le1gU4MrvoeZ",
        "outputId": "4366be82-eaac-4dae-969d-6061cb67c779"
      },
      "outputs": [
        {
          "data": {
            "text/html": [
              "<table class=\"simpletable\">\n",
              "<caption>OLS Regression Results</caption>\n",
              "<tr>\n",
              "  <th>Dep. Variable:</th>          <td>spend</td>      <th>  R-squared:         </th>  <td>   0.001</td>  \n",
              "</tr>\n",
              "<tr>\n",
              "  <th>Model:</th>                   <td>OLS</td>       <th>  Adj. R-squared:    </th>  <td>   0.001</td>  \n",
              "</tr>\n",
              "<tr>\n",
              "  <th>Method:</th>             <td>Least Squares</td>  <th>  F-statistic:       </th>  <td>   26.24</td>  \n",
              "</tr>\n",
              "<tr>\n",
              "  <th>Date:</th>             <td>Mon, 06 Dec 2021</td> <th>  Prob (F-statistic):</th>  <td>4.07e-12</td>  \n",
              "</tr>\n",
              "<tr>\n",
              "  <th>Time:</th>                 <td>11:11:25</td>     <th>  Log-Likelihood:    </th> <td>-2.6426e+05</td>\n",
              "</tr>\n",
              "<tr>\n",
              "  <th>No. Observations:</th>      <td> 64000</td>      <th>  AIC:               </th>  <td>5.285e+05</td> \n",
              "</tr>\n",
              "<tr>\n",
              "  <th>Df Residuals:</th>          <td> 63997</td>      <th>  BIC:               </th>  <td>5.285e+05</td> \n",
              "</tr>\n",
              "<tr>\n",
              "  <th>Df Model:</th>              <td>     2</td>      <th>                     </th>      <td> </td>     \n",
              "</tr>\n",
              "<tr>\n",
              "  <th>Covariance Type:</th>      <td>nonrobust</td>    <th>                     </th>      <td> </td>     \n",
              "</tr>\n",
              "</table>\n",
              "<table class=\"simpletable\">\n",
              "<tr>\n",
              "     <td></td>        <th>coef</th>     <th>std err</th>      <th>t</th>      <th>P>|t|</th>  <th>[0.025</th>    <th>0.975]</th>  \n",
              "</tr>\n",
              "<tr>\n",
              "  <th>const</th>   <td>    0.3464</td> <td>    0.117</td> <td>    2.957</td> <td> 0.003</td> <td>    0.117</td> <td>    0.576</td>\n",
              "</tr>\n",
              "<tr>\n",
              "  <th>history</th> <td>    0.0013</td> <td>    0.000</td> <td>    5.484</td> <td> 0.000</td> <td>    0.001</td> <td>    0.002</td>\n",
              "</tr>\n",
              "<tr>\n",
              "  <th>flg</th>     <td>    0.5945</td> <td>    0.126</td> <td>    4.715</td> <td> 0.000</td> <td>    0.347</td> <td>    0.842</td>\n",
              "</tr>\n",
              "</table>\n",
              "<table class=\"simpletable\">\n",
              "<tr>\n",
              "  <th>Omnibus:</th>       <td>141122.328</td> <th>  Durbin-Watson:     </th>   <td>   2.006</td>   \n",
              "</tr>\n",
              "<tr>\n",
              "  <th>Prob(Omnibus):</th>   <td> 0.000</td>   <th>  Jarque-Bera (JB):  </th> <td>699656310.293</td>\n",
              "</tr>\n",
              "<tr>\n",
              "  <th>Skew:</th>            <td>20.576</td>   <th>  Prob(JB):          </th>   <td>    0.00</td>   \n",
              "</tr>\n",
              "<tr>\n",
              "  <th>Kurtosis:</th>        <td>513.566</td>  <th>  Cond. No.          </th>   <td>    946.</td>   \n",
              "</tr>\n",
              "</table><br/><br/>Warnings:<br/>[1] Standard Errors assume that the covariance matrix of the errors is correctly specified."
            ],
            "text/plain": [
              "<class 'statsmodels.iolib.summary.Summary'>\n",
              "\"\"\"\n",
              "                            OLS Regression Results                            \n",
              "==============================================================================\n",
              "Dep. Variable:                  spend   R-squared:                       0.001\n",
              "Model:                            OLS   Adj. R-squared:                  0.001\n",
              "Method:                 Least Squares   F-statistic:                     26.24\n",
              "Date:                Mon, 06 Dec 2021   Prob (F-statistic):           4.07e-12\n",
              "Time:                        11:11:25   Log-Likelihood:            -2.6426e+05\n",
              "No. Observations:               64000   AIC:                         5.285e+05\n",
              "Df Residuals:                   63997   BIC:                         5.285e+05\n",
              "Df Model:                           2                                         \n",
              "Covariance Type:            nonrobust                                         \n",
              "==============================================================================\n",
              "                 coef    std err          t      P>|t|      [0.025      0.975]\n",
              "------------------------------------------------------------------------------\n",
              "const          0.3464      0.117      2.957      0.003       0.117       0.576\n",
              "history        0.0013      0.000      5.484      0.000       0.001       0.002\n",
              "flg            0.5945      0.126      4.715      0.000       0.347       0.842\n",
              "==============================================================================\n",
              "Omnibus:                   141122.328   Durbin-Watson:                   2.006\n",
              "Prob(Omnibus):                  0.000   Jarque-Bera (JB):        699656310.293\n",
              "Skew:                          20.576   Prob(JB):                         0.00\n",
              "Kurtosis:                     513.566   Cond. No.                         946.\n",
              "==============================================================================\n",
              "\n",
              "Warnings:\n",
              "[1] Standard Errors assume that the covariance matrix of the errors is correctly specified.\n",
              "\"\"\""
            ]
          },
          "execution_count": 38,
          "metadata": {},
          "output_type": "execute_result"
        }
      ],
      "source": [
        "import statsmodels.api as sm\n",
        "\n",
        "X = sm.add_constant(email_analytics_df[email_analytics_df[\"segment\"]!=\"WoMens E-Mail\"][[\"history\",\"flg\"]])\n",
        "y = email_analytics_df[email_analytics_df[\"segment\"]!=\"WoMens E-Mail\"][\"spend\"]\n",
        "\n",
        "model = sm.OLS(y, X)\n",
        "result = model.fit()\n",
        "result.summary()"
      ]
    },
    {
      "attachments": {},
      "cell_type": "markdown",
      "metadata": {
        "id": "G--aVkk4wY3C"
      },
      "source": [
        "同じ結果になっているのがわかります。"
      ]
    },
    {
      "attachments": {},
      "cell_type": "markdown",
      "metadata": {
        "id": "MXu2-v2WXV2a"
      },
      "source": [
        "\n",
        "### 10.3.4 施策効果検証方法を整理した表と今後の学習\n",
        "これまで施策の検証について、単純な前後比較とその問題点、RCTが理想的な方法であるということ、そしてそれが困難な場合の回帰分析を用いたアプローチを紹介してきました。\n",
        "\n",
        "さらにこれら以外にも、施策検証には様々な手法があります。ただ、ここで気になるのが、「結局どのアプローチをとればいいのか」だと思います。それぞれの手法に対する理解度や、その時のケースによったりもするので、いくつか紹介していない手法もありますが、その判断をするための体系的な表が以下になります。"
      ]
    },
    {
      "attachments": {},
      "cell_type": "markdown",
      "metadata": {
        "id": "EiCoaaaaX7SC"
      },
      "source": [
        "|  | 手法 | 分析方法 | メリット | デメリット |\n",
        "| --- | --- | --- | --- | --- |\n",
        "| 厳密な方法 | 1.RCT | 対象者と非対象者をランダムに振り分ける | 正確に測定可能 | 振り分けが難しいケースが多い |\n",
        "|  | 2.回帰不連続デザイン | 閾値の前後の個人等を比較する | 閾値の前後でかなり正確に測定可能 | 閾値から離れた個人等ではわからない |\n",
        "|  | 3.マッチング | 対象者と非対象者から似たような人をマッチング | かなり正確に測定可能 | 利用できる変数によっては、正確でない |\n",
        "|  | 4.操作変数法 | 施策に影響を与える変数を用いる | かなり正確に測定可能 | 適切な操作変数を見つけるのが容易ではない |\n",
        "|  | 5.差の差推定・固定効果推定 | どちらも施策実施前後のトレンド要因を除去 | 前後比較よりも、正確に測定可能 | これを使う仮定が満たされる必要あり |\n",
        "|  | 6.合成コントロール法 | 非対象者のデータを合成し仮想的な状況を推定 | 一人、一社でも分析可能 | 施策実施前後の長期的なデータが必要 |\n",
        "|  | 7.回帰分析・単純比較 | 施策後のデータを使う | データさえあれば簡単に分析でき、「第3要因」にも対応できる | 因果関係が逆だとうまく対処できない |\n",
        "| 簡易だが厳密でない方法 | 8.前後比較 | 対象者の前後の結果を比較 | 簡単に実施できる | 比較が不正確 |"
      ]
    },
    {
      "attachments": {},
      "cell_type": "markdown",
      "metadata": {
        "id": "m2LGDUqA-tZy"
      },
      "source": [
        "上記の表では、各手法についての説明やメリットとデメリットが記載されています。上にあるほど厳密なアプローチで、RCTが一番頑健な方法となります。この講義では扱えきれなかった方法もありますので、実務で本格的に使おうと検討されている方は、以下の参考文献を見て、取り組んでください。特に『政策評価のための因果関係の見つけ方』は、数式がでてくる章もありますが、最後の章だけでも読むことをお勧めします。"
      ]
    },
    {
      "attachments": {},
      "cell_type": "markdown",
      "metadata": {
        "id": "oK7WmBGdC5_r"
      },
      "source": [
        "参考文献：\n",
        "* 『政策評価のための因果関係の見つけ方』（日本評論社）\n",
        "* 『入門統計的因果推論』（朝倉書店）\n"
      ]
    },
    {
      "attachments": {},
      "cell_type": "markdown",
      "metadata": {
        "id": "HOUiIHPIEL8o"
      },
      "source": [
        "他にも施策検証として、さまざまなアプローチがあります。構造方程式やベイズ構造時系列モデルを使ったり、ベイズネットワークを使った因果推論、ランダムフォレストなどの機械学習アプローチもあります。さらに深層学習GANを使った因果探索（SAM）、強化学習などもあります。実務で使いそうな方や興味を持った方は以下の参考文献で紹介されていますので、参考にしてください。因果推論に関するライブラリも載せておきます。上の本と合わせて読めば、中級レベルとしては十分だと思います。"
      ]
    },
    {
      "attachments": {},
      "cell_type": "markdown",
      "metadata": {
        "id": "XxjhsCAhEZCd"
      },
      "source": [
        "参考文献：\n",
        "* 『効果検証入門』（技術評論社）\n",
        "* 『Pythonによる因果分析』（マイナビ出版）\n",
        "* 『統計的因果推論』（朝倉書店）\n",
        "* 『統計的因果探索』（講談社）"
      ]
    },
    {
      "attachments": {},
      "cell_type": "markdown",
      "metadata": {
        "id": "N74BsqZqw_G4"
      },
      "source": [
        "参考ライブラリ：因果推論に関するPythonのライブラリ\n",
        "\n",
        "*   DoWhy：観測データと変数間因果に関する知識から、介入効果を測定することができるライブラリ\n",
        "\n",
        "*   EconML：ターゲット変数に影響を与えるような変数に関して条件付けがなされた設定で、介入効果を測定することに特化したライブラリ\n",
        "\n",
        "*   CausalML：特定の属性に絞って、介入効果を測定することに特化したライブラリ\n",
        "\n",
        "*   CausalImpact：時系列のデータに対して、介入前後の両方のデータ得られるときに、介入しなかった場合の時系列を予測し、介入による効果を測定できるライブラリ\n"
      ]
    },
    {
      "attachments": {},
      "cell_type": "markdown",
      "metadata": {
        "id": "lJlQ93Yp1blK"
      },
      "source": [
        "\n",
        "あとは施策をする前に、事業戦略やマーケティング戦略に合わせて、施策実験のデザインをしっかり決めて施策を実行し、素早くPDCAをまわしていく体制を組織として作っていくことが、とても重要になります。以下先ほども紹介した参考書籍は、オンラインにおけるA/Bテストについてがメインですが、素早く実験を繰り返していくこと、その中でも改善できることは少しずつであるということが述べられており（GoogleやMicrosoftという大きな会社でさえもです）、継続的に続けていくことの大切さもわかります。こちらの文献も興味ある方はぜひ参考にしてください。"
      ]
    },
    {
      "attachments": {},
      "cell_type": "markdown",
      "metadata": {
        "id": "GpZp3sFQ1dc0"
      },
      "source": [
        "参考文献：\n",
        "* 『A/Bテスト実践ガイド』（ASCII）"
      ]
    },
    {
      "attachments": {},
      "cell_type": "markdown",
      "metadata": {
        "id": "gmEOIrXVskxX"
      },
      "source": [
        "## 10.4 Pythonを使ったBIツール作成とレポーティング、その自動処理\n",
        "\n",
        "キーワード：分析レポーティングの自動化、自動処理、様々なツールとの連携、Plotly、Dash、メール送信、Slack連携、PDFファイル作成"
      ]
    },
    {
      "attachments": {},
      "cell_type": "markdown",
      "metadata": {
        "id": "9LhDCcY-syOb"
      },
      "source": [
        "### 10.4.1 分析結果やレポート作成の自動化（レポーティングやBIツール作成）\n",
        "\n",
        "ここからは、分析結果に関するレポーティングやそのBIツールの作成方法、それらを自動化する方法を紹介していきます。分析を実施し、その施策やサービス展開などをした後は、それらの効果測定になります。それらをどうレポーティングするか、定期的なKPIのチェックをするためのBIツールの作成方法、その他の通知するためのツール連携も紹介していきます。\n",
        "\n",
        "マーケティング戦略で設定したKPIの数値集計や可視化、分析結果のチェックなどをする際、それらを毎回手作業でやったり、都度コーディングしたり、都度レポートを作成していたら、とても時間が取られます。KPIとして追う数値や仕様などが決まったら、数ヶ月〜半年間はそれらの推移をみていくことになりますし、その集計やレポートは定型作業になります。そのための手作業、データの加工やレポーティング、可視化や通知などは、可能な限り自動的に処理させましょう。そうすれば、私たちは数値やグラフを最終チェックするだけでよいですし、その数値を見て、改善点の検討などに時間を割いていくことができます。自動処理できるところはPythonに任せてしまいましょう。\n",
        "\n",
        "ここでは、簡単なBI的なツールの作成とレポート作成（PDFなど含む）、エクセルの他にGoogleSpreadSheetの処理やメールの送信、Slackなどの連携について紹介します。\n"
      ]
    },
    {
      "attachments": {},
      "cell_type": "markdown",
      "metadata": {
        "id": "3n2z4EBp8MCy"
      },
      "source": [
        "### 10.4.2 自動レポートやBIツール・ダッシュボードを作成する前に\n",
        "\n",
        "\n",
        "さて、レポーティングの自動化やBIツール作成をする前に大事なことがあります。初級編のデータ分析で重要なことで述べたことと同じようなメッセージになりますが、ダッシュボードやレポートを作成する目的や何を知りたいかを明らかにすることです。\n",
        "\n",
        "BIツールの流行もあり、色々な企業で導入されているようですが、BIツールを構築したけれども、いろいろなグラフがたくさんあるだけで、結局何がやりたいのかわからないというケースも耳にします。そのグラフを使って、何をチェックしたいのか、それを見て次どのようなアクションを起こしたいかなど、ビジネス的な意思決定や業務フローなどに組み込む必要があります。そうでないと、最終的にそのBIツールが使われなくなる可能性もあります。本講義のような実装のための練習ならば良いのですが、現場ではビジネスアクションに繋がるレポートやBIツールを作成していきましょう。"
      ]
    },
    {
      "attachments": {},
      "cell_type": "markdown",
      "metadata": {
        "id": "rpcb7COhuc8-"
      },
      "source": [
        "### 10.4.3 Pythonで作るBIツール・ダッシュボード\n"
      ]
    },
    {
      "attachments": {},
      "cell_type": "markdown",
      "metadata": {
        "id": "1juoWlH5Kln0"
      },
      "source": [
        "まず、データの可視化をインタラクティブに操作できるためのライブラリPlotlyとDashを紹介します。データをグラフ化するだけならば、Matplotlibなどで十分に思われるかもしれません。しかし、データ上、あるケースだけを見たい場合（年度ごとかつカテゴリーごとにグラフを変化させるなど）には、Matplotlibではいちいちコードを書き換えるなどする必要があります。もちろん、設計によってはそのように実装することも可能ですが、素早くデータを変更しながらそのグラフも変更させたいとなると、少し時間がかかります。\n",
        "\n",
        "ここで紹介するPlotlyやDashを使えば、そういった年度ごとカテゴリーごとのデータを変更して、それに合わせてグラフも変化するBIツールをさくっと作成することができます。そして、データに対する探索も、いろいろとグラフを変更しながら、素早く実行して可視化することができます。データをコツコツ見る大切さも述べましたが、視覚的にはグラフなどになっている方が理解が早いこともあります。この節では、インタラクティブにグラフを操作できるPlotlyとそれをWebアプリとして構築できるDashについて解説をしていきます。これらが使えるようになれば、ウェブ上でのデータ可視化結果の公開も簡単にできますし、他のプログラミング言語より簡単に実装可能です。それでは実装を見ていきましょう。"
      ]
    },
    {
      "attachments": {},
      "cell_type": "markdown",
      "metadata": {
        "id": "YNZfvUno_Rz1"
      },
      "source": [
        "この環境にはすでにplotlyが入っていますが、念のためアップデートをしましょう。"
      ]
    },
    {
      "cell_type": "code",
      "execution_count": null,
      "metadata": {
        "colab": {
          "base_uri": "https://localhost:8080/"
        },
        "id": "3LgisQTRQStO",
        "outputId": "3d9e7387-5e2e-4f6c-b310-18f3bbfcb121"
      },
      "outputs": [
        {
          "name": "stdout",
          "output_type": "stream",
          "text": [
            "Requirement already satisfied: plotly in /usr/local/lib/python3.7/dist-packages (4.4.1)\n",
            "Collecting plotly\n",
            "  Downloading plotly-5.4.0-py2.py3-none-any.whl (25.3 MB)\n",
            "\u001b[K     |████████████████████████████████| 25.3 MB 1.5 MB/s \n",
            "\u001b[?25hRequirement already satisfied: six in /usr/local/lib/python3.7/dist-packages (from plotly) (1.15.0)\n",
            "Collecting tenacity>=6.2.0\n",
            "  Downloading tenacity-8.0.1-py3-none-any.whl (24 kB)\n",
            "Installing collected packages: tenacity, plotly\n",
            "  Attempting uninstall: plotly\n",
            "    Found existing installation: plotly 4.4.1\n",
            "    Uninstalling plotly-4.4.1:\n",
            "      Successfully uninstalled plotly-4.4.1\n",
            "Successfully installed plotly-5.4.0 tenacity-8.0.1\n"
          ]
        }
      ],
      "source": [
        "!pip install --upgrade plotly"
      ]
    },
    {
      "attachments": {},
      "cell_type": "markdown",
      "metadata": {
        "id": "e7dGb6FtBhy6"
      },
      "source": [
        "以下で必要なライブラリをインポートします。"
      ]
    },
    {
      "cell_type": "code",
      "execution_count": null,
      "metadata": {
        "id": "1NR7Hy5-tk43"
      },
      "outputs": [],
      "source": [
        "import plotly\n",
        "import plotly.graph_objects as go\n",
        "import pandas as pd\n",
        "from datetime import datetime\n",
        "import datetime"
      ]
    },
    {
      "attachments": {},
      "cell_type": "markdown",
      "metadata": {
        "id": "UTA0iJ6zrrtH"
      },
      "source": [
        "以下は、データ可視化に使うためのデータを準備するためにインポートします。株価のデータになります。"
      ]
    },
    {
      "cell_type": "code",
      "execution_count": null,
      "metadata": {
        "id": "AJMZIAZ0EZ5n"
      },
      "outputs": [],
      "source": [
        "import pandas_datareader.data as web"
      ]
    },
    {
      "attachments": {},
      "cell_type": "markdown",
      "metadata": {
        "id": "d7vBRIVOG9DB"
      },
      "source": [
        "上のpandas_datareaderから、2010年1月１日から2020年12月31日までのGoogleの株価データを取得します。以下で、取得開始日、終わり日、対象株価データを指定して、株価データを約11年分取得しています。"
      ]
    },
    {
      "cell_type": "code",
      "execution_count": null,
      "metadata": {
        "id": "Dmp8IYFqEhGh"
      },
      "outputs": [],
      "source": [
        "st_dt = datetime.datetime(2010, 1, 1)\n",
        "end_dt = datetime.datetime(2020, 12, 31)\n",
        "google_df = web.DataReader('GOOG', 'stooq', st_dt, end_dt)"
      ]
    },
    {
      "cell_type": "code",
      "execution_count": null,
      "metadata": {
        "colab": {
          "base_uri": "https://localhost:8080/"
        },
        "id": "1sx6VvWosCf3",
        "outputId": "8bbe7191-eb32-47e5-86da-208e3bcb462e"
      },
      "outputs": [
        {
          "name": "stdout",
          "output_type": "stream",
          "text": [
            "<class 'pandas.core.frame.DataFrame'>\n",
            "DatetimeIndex: 1705 entries, 2020-12-31 to 2014-03-27\n",
            "Data columns (total 5 columns):\n",
            " #   Column  Non-Null Count  Dtype  \n",
            "---  ------  --------------  -----  \n",
            " 0   Open    1705 non-null   float64\n",
            " 1   High    1705 non-null   float64\n",
            " 2   Low     1705 non-null   float64\n",
            " 3   Close   1705 non-null   float64\n",
            " 4   Volume  1705 non-null   int64  \n",
            "dtypes: float64(4), int64(1)\n",
            "memory usage: 79.9 KB\n"
          ]
        }
      ],
      "source": [
        "google_df.info()"
      ]
    },
    {
      "cell_type": "code",
      "execution_count": null,
      "metadata": {
        "colab": {
          "base_uri": "https://localhost:8080/",
          "height": 238
        },
        "id": "DLoVsx0porZA",
        "outputId": "e5887cf6-3937-40cd-c13d-3ebd89ae07fc"
      },
      "outputs": [
        {
          "data": {
            "text/html": [
              "<div>\n",
              "<style scoped>\n",
              "    .dataframe tbody tr th:only-of-type {\n",
              "        vertical-align: middle;\n",
              "    }\n",
              "\n",
              "    .dataframe tbody tr th {\n",
              "        vertical-align: top;\n",
              "    }\n",
              "\n",
              "    .dataframe thead th {\n",
              "        text-align: right;\n",
              "    }\n",
              "</style>\n",
              "<table border=\"1\" class=\"dataframe\">\n",
              "  <thead>\n",
              "    <tr style=\"text-align: right;\">\n",
              "      <th></th>\n",
              "      <th>Open</th>\n",
              "      <th>High</th>\n",
              "      <th>Low</th>\n",
              "      <th>Close</th>\n",
              "      <th>Volume</th>\n",
              "    </tr>\n",
              "    <tr>\n",
              "      <th>Date</th>\n",
              "      <th></th>\n",
              "      <th></th>\n",
              "      <th></th>\n",
              "      <th></th>\n",
              "      <th></th>\n",
              "    </tr>\n",
              "  </thead>\n",
              "  <tbody>\n",
              "    <tr>\n",
              "      <th>2020-12-31</th>\n",
              "      <td>1735.420</td>\n",
              "      <td>1758.9300</td>\n",
              "      <td>1735.420</td>\n",
              "      <td>1751.88</td>\n",
              "      <td>1012240</td>\n",
              "    </tr>\n",
              "    <tr>\n",
              "      <th>2020-12-30</th>\n",
              "      <td>1762.010</td>\n",
              "      <td>1765.0950</td>\n",
              "      <td>1725.600</td>\n",
              "      <td>1739.52</td>\n",
              "      <td>1306130</td>\n",
              "    </tr>\n",
              "    <tr>\n",
              "      <th>2020-12-29</th>\n",
              "      <td>1787.790</td>\n",
              "      <td>1792.4400</td>\n",
              "      <td>1756.090</td>\n",
              "      <td>1758.72</td>\n",
              "      <td>1299395</td>\n",
              "    </tr>\n",
              "    <tr>\n",
              "      <th>2020-12-28</th>\n",
              "      <td>1751.635</td>\n",
              "      <td>1790.7276</td>\n",
              "      <td>1746.335</td>\n",
              "      <td>1776.09</td>\n",
              "      <td>1393033</td>\n",
              "    </tr>\n",
              "    <tr>\n",
              "      <th>2020-12-24</th>\n",
              "      <td>1735.000</td>\n",
              "      <td>1746.0000</td>\n",
              "      <td>1729.110</td>\n",
              "      <td>1738.85</td>\n",
              "      <td>346753</td>\n",
              "    </tr>\n",
              "  </tbody>\n",
              "</table>\n",
              "</div>"
            ],
            "text/plain": [
              "                Open       High       Low    Close   Volume\n",
              "Date                                                       \n",
              "2020-12-31  1735.420  1758.9300  1735.420  1751.88  1012240\n",
              "2020-12-30  1762.010  1765.0950  1725.600  1739.52  1306130\n",
              "2020-12-29  1787.790  1792.4400  1756.090  1758.72  1299395\n",
              "2020-12-28  1751.635  1790.7276  1746.335  1776.09  1393033\n",
              "2020-12-24  1735.000  1746.0000  1729.110  1738.85   346753"
            ]
          },
          "execution_count": 52,
          "metadata": {},
          "output_type": "execute_result"
        }
      ],
      "source": [
        "google_df.head()"
      ]
    },
    {
      "attachments": {},
      "cell_type": "markdown",
      "metadata": {
        "id": "TukK4YfcHIf7"
      },
      "source": [
        "さて、データを可視化するためには、matplolibを使えば、このような時系列データを可視化してその時系列な傾向を見ることができました。ここでは、この株価について、その日ごとの始値、終値、高値、安値についてもグラフで同時に見ることができるようにします。いわゆるローソク足といわれるものになります。ここでは、Plotlyを使用します。Plotlyを使うとローソク足チャートを簡単に描くことができます。高値や安値などそれぞれの値は日によって異なります。値動きが激しい日は、高値と安値は大きくひらきます。日によってそれらの傾向は異なるため、それを把握するためにローソク足チャートを見ます。\n",
        "\n",
        "以下ではローソク足のチャートを作成するための実装になります。"
      ]
    },
    {
      "cell_type": "code",
      "execution_count": null,
      "metadata": {
        "colab": {
          "base_uri": "https://localhost:8080/",
          "height": 542
        },
        "id": "-0yv6wfRny8P",
        "outputId": "bf73867d-2be2-4c8f-9130-fa2bbea0863d"
      },
      "outputs": [
        {
          "data": {
            "text/html": [
              "<html>\n",
              "<head><meta charset=\"utf-8\" /></head>\n",
              "<body>\n",
              "    <div>            <script src=\"https://cdnjs.cloudflare.com/ajax/libs/mathjax/2.7.5/MathJax.js?config=TeX-AMS-MML_SVG\"></script><script type=\"text/javascript\">if (window.MathJax) {MathJax.Hub.Config({SVG: {font: \"STIX-Web\"}});}</script>                <script type=\"text/javascript\">window.PlotlyConfig = {MathJaxConfig: 'local'};</script>\n",
              "        <script src=\"https://cdn.plot.ly/plotly-2.6.3.min.js\"></script>                <div id=\"9fd03179-1494-4cee-ac00-977d60621344\" class=\"plotly-graph-div\" style=\"height:525px; width:100%;\"></div>            <script type=\"text/javascript\">                                    window.PLOTLYENV=window.PLOTLYENV || {};                                    if (document.getElementById(\"9fd03179-1494-4cee-ac00-977d60621344\")) {                    Plotly.newPlot(                        \"9fd03179-1494-4cee-ac00-977d60621344\",                        [{\"close\":[1751.88,1739.52,1758.72,1776.09,1738.85,1732.38,1723.5,1739.37,1731.01,1747.9,1763.0,1767.77,1760.06,1781.77,1775.33,1784.13,1818.55,1819.48,1827.99,1826.77,1827.95,1798.1,1760.74,1793.19,1771.43,1768.88,1734.86,1742.19,1763.92,1746.78,1770.15,1781.38,1777.02,1749.84,1752.71,1740.39,1763.0,1761.75,1763.37,1749.13,1650.21,1626.03,1621.01,1567.24,1516.62,1604.26,1590.45,1641.0,1615.33,1593.31,1555.93,1534.61,1573.01,1559.13,1568.08,1571.68,1569.15,1515.22,1485.93,1460.29,1453.44,1486.02,1458.42,1490.09,1469.6,1469.33,1464.52,1444.96,1428.29,1415.21,1465.46,1431.16,1459.99,1495.53,1520.9,1541.44,1519.28,1520.72,1532.02,1556.96,1532.39,1591.04,1641.84,1728.28,1660.71,1634.18,1644.41,1634.33,1652.38,1608.22,1588.2,1580.42,1581.75,1547.53,1558.6,1517.98,1507.73,1518.45,1506.62,1480.32,1496.1,1494.49,1500.1,1473.61,1464.97,1474.45,1482.96,1531.45,1522.02,1500.34,1530.2,1511.87,1515.68,1568.49,1558.42,1565.72,1515.55,1518.0,1513.64,1520.58,1511.34,1541.74,1510.99,1496.0,1485.18,1495.7,1464.7,1438.04,1413.61,1394.97,1359.9,1441.33,1431.97,1464.41,1451.86,1431.72,1435.96,1451.12,1442.72,1419.85,1413.18,1403.84,1465.85,1456.16,1446.61,1438.39,1412.18,1436.38,1439.22,1431.82,1428.92,1416.73,1417.84,1417.02,1410.42,1402.8,1406.72,1373.485,1383.94,1373.19,1356.13,1349.33,1375.74,1403.26,1388.37,1372.56,1347.3,1351.11,1326.8,1320.61,1348.66,1341.48,1233.67,1275.88,1279.31,1276.31,1263.21,1216.34,1266.61,1283.25,1263.47,1262.47,1269.23,1217.56,1211.45,1210.28,1186.51,1186.92,1097.88,1120.84,1105.62,1162.81,1146.82,1110.71,1161.75,1102.49,1134.46,1056.62,1072.32,1115.29,1096.8,1119.8,1084.33,1219.73,1114.91,1215.41,1280.39,1215.56,1298.41,1319.04,1386.52,1341.39,1389.11,1339.33,1318.09,1393.18,1388.45,1421.59,1485.11,1518.15,1526.69,1519.67,1520.74,1514.66,1518.27,1508.79,1508.68,1479.23,1476.23,1448.23,1447.07,1485.94,1434.23,1455.84,1458.63,1452.56,1433.9,1466.71,1486.65,1485.95,1484.4,1480.39,1451.7,1439.2,1430.88,1439.23,1429.73,1419.83,1404.32,1393.34,1394.21,1360.66,1367.37,1337.02,1336.14,1351.89,1360.4,1343.56,1348.84,1349.59,1356.04,1352.62,1355.12,1361.17,1347.83,1350.27,1345.02,1344.66,1343.55,1340.62,1328.13,1320.54,1295.28,1289.92,1304.96,1313.5,1313.55,1306.69,1295.34,1301.35,1303.05,1315.46,1320.7,1334.87,1311.46,1298.0,1298.8,1299.19,1311.37,1308.86,1291.8,1292.03,1291.37,1273.74,1260.11,1261.29,1262.62,1290.0,1265.13,1260.99,1259.13,1242.8,1246.15,1245.49,1253.07,1243.64,1243.01,1217.14,1215.45,1208.67,1202.31,1189.13,1207.68,1209.0,1187.83,1176.63,1205.1,1219.0,1225.09,1241.39,1246.52,1218.76,1234.03,1229.93,1238.71,1232.41,1229.15,1231.3,1239.56,1234.25,1220.17,1206.0,1204.41,1204.93,1211.38,1181.41,1168.39,1188.1,1192.85,1171.02,1167.84,1168.89,1151.29,1189.53,1191.25,1182.69,1198.45,1177.6,1167.26,1164.29,1197.27,1174.71,1188.01,1204.8,1173.99,1169.95,1152.32,1193.99,1209.01,1216.68,1225.14,1239.41,1250.41,1132.12,1137.81,1146.21,1138.07,1130.1,1146.33,1146.35,1153.58,1150.34,1144.9,1144.21,1140.48,1124.83,1116.35,1131.59,1121.58,1111.25,1097.95,1080.91,1076.01,1079.8,1086.35,1115.52,1121.88,1111.42,1102.33,1103.6,1092.5,1085.35,1088.77,1077.03,1078.72,1080.38,1066.04,1044.34,1042.22,1053.05,1036.23,1103.63,1117.95,1116.46,1134.15,1133.47,1140.77,1151.42,1149.63,1138.85,1162.3,1178.98,1164.21,1120.44,1132.03,1164.27,1162.38,1166.27,1174.1,1189.39,1185.4,1162.61,1168.08,1188.48,1287.58,1272.18,1263.45,1256.0,1264.55,1248.84,1236.37,1236.34,1227.13,1221.1,1217.87,1204.62,1202.16,1197.25,1203.84,1207.15,1215.0,1205.92,1200.49,1194.43,1173.31,1168.49,1173.02,1184.62,1193.0,1205.5,1231.54,1223.97,1198.85,1184.26,1184.46,1185.55,1193.32,1193.2,1175.76,1142.32,1143.3,1157.86,1162.03,1147.8,1140.99,1119.92,1116.05,1115.13,1109.4,1110.37,1096.97,1113.8,1118.56,1113.65,1121.67,1120.16,1121.37,1095.01,1095.06,1098.71,1115.23,1145.99,1132.8,1110.75,1116.37,1089.06,1060.62,1070.08,1090.99,1073.9,1075.57,1070.52,1098.26,1089.9,1080.97,1077.15,1044.69,1057.19,1070.33,1074.66,1076.28,1068.39,1070.71,1016.06,1045.85,1035.61,1037.08,1043.88,1039.46,976.22,979.54,1009.41,1023.01,1028.71,1016.53,1042.1,1061.9,1063.68,1051.75,1039.55,1036.58,1068.73,1050.82,1106.43,1094.43,1088.3,1086.23,1044.41,1048.62,1023.88,1037.61,1025.76,1020.0,1061.49,1064.71,1043.66,1036.05,1038.63,1066.15,1082.4,1093.39,1055.81,1040.09,1057.79,1070.0,1076.77,1036.21,1020.08,1071.47,1095.57,1050.71,1103.69,1101.16,1096.46,1087.97,1115.69,1121.28,1092.25,1110.08,1079.32,1081.22,1138.82,1148.97,1157.35,1168.19,1202.95,1200.11,1195.31,1193.47,1194.64,1180.49,1184.65,1173.37,1166.09,1186.87,1171.09,1161.22,1156.05,1172.53,1175.33,1162.82,1177.36,1164.64,1164.83,1171.44,1186.48,1197.0,1218.19,1239.12,1249.3,1231.15,1241.82,1220.65,1205.38,1207.33,1201.62,1207.77,1200.96,1206.49,1214.38,1242.1,1235.01,1237.61,1249.1,1245.61,1242.22,1224.77,1223.71,1226.15,1220.01,1217.26,1219.74,1238.5,1268.33,1263.7,1248.08,1205.5,1184.91,1186.96,1195.88,1198.8,1183.86,1188.82,1183.48,1153.9,1152.84,1154.05,1140.17,1124.27,1102.89,1127.46,1115.65,1114.22,1103.98,1118.46,1124.81,1155.48,1157.66,1169.84,1168.06,1173.46,1152.26,1152.12,1134.79,1139.32,1129.99,1120.87,1123.86,1136.88,1139.66,1139.29,1119.5,1084.99,1067.8,1060.32,1075.66,1079.24,1079.69,1069.73,1079.58,1066.36,1078.59,1081.77,1079.23,1100.2,1098.26,1097.57,1082.76,1053.91,1054.79,1048.21,1023.72,1024.38,1037.31,1017.33,1030.05,1040.04,1021.18,1019.98,1067.45,1072.96,1087.7,1072.08,1074.16,1037.98,1029.27,1032.51,1019.97,1031.64,1015.45,1007.04,1027.81,1025.14,1013.41,1006.47,1031.79,1004.56,1005.1,1053.21,1021.57,1049.08,1090.88,1097.71,1099.82,1135.73,1149.58,1149.49,1138.17,1164.5,1160.04,1126.0,1109.64,1095.06,1090.93,1078.92,1069.52,1104.73,1118.29,1143.75,1126.79,1106.63,1111.34,1102.71,1094.8,1089.52,1069.71,1052.1,1052.48,1037.78,1001.52,1048.58,1080.6,1055.8,1111.9,1167.7,1169.94,1163.69,1175.58,1175.84,1170.37,1164.24,1169.97,1155.81,1137.51,1129.79,1131.98,1121.76,1122.26,1105.52,1102.61,1106.26,1106.94,1102.23,1086.4,1082.48,1064.9,1046.4,1048.14,1049.37,1056.74,1060.12,1063.63,1064.95,1070.68,1077.14,1064.19,1049.15,1040.61,1040.48,1041.1,1036.88,1030.93,1018.38,1005.15,998.68,1010.17,1021.41,1021.66,1047.41,1054.36,1040.61,1035.96,1034.49,1018.38,1019.09,1032.5,1020.91,1026.0,1025.75,1028.07,1031.05,1039.85,1033.33,1025.9,1032.48,1025.58,1025.5,1016.64,1017.11,1019.27,972.56,973.33,970.54,968.45,988.2,984.45,992.81,992.18,992.0,989.68,987.91,989.25,972.6,977.0,978.38,969.96,951.68,957.79,953.27,959.11,949.5,944.49,924.86,920.97,928.53,932.45,931.58,921.81,915.0,920.29,925.11,935.09,932.07,929.08,926.5,936.02,927.81,928.45,937.34,939.33,929.57,921.29,913.81,915.89,921.28,927.0,924.69,906.66,910.67,910.98,926.96,922.22,922.67,914.39,907.24,922.9,926.79,929.36,927.96,923.65,930.39,930.83,930.5,941.53,934.09,947.8,950.7,980.34,972.92,968.15,970.89,965.4,953.42,956.0,947.159,943.83,930.09,928.8,918.59,906.69,911.71,898.11,908.73,917.79,940.49,928.13,952.27,965.59,957.09,959.45,950.63,957.37,939.78,942.31,950.76,953.4,942.9,949.83,983.4,981.08,976.72,983.68,975.6,966.95,964.86,975.88,971.47,969.54,954.96,948.82,941.86,934.01,930.24,919.62,943.0,937.08,932.22,930.6,928.78,932.17,934.3,927.13,931.66,927.04,916.44,912.57,905.96,874.25,871.73,872.3,862.76,843.19,841.65,838.21,836.82,837.17,823.56,824.32,823.35,824.73,824.67,827.88,831.41,834.57,838.55,829.6,831.5,831.41,820.92,819.51,814.43,817.58,829.59,830.46,848.4,852.12,848.78,847.2,845.62,845.54,843.25,838.68,835.37,831.91,827.56,829.08,830.63,835.24,823.21,829.28,828.64,831.33,830.76,831.66,828.07,824.16,818.98,820.39,819.24,813.67,809.56,808.38,806.97,801.34,801.49,798.53,795.695,796.79,802.32,823.31,832.15,835.67,823.87,819.31,805.02,802.175,806.07,804.61,807.88,806.36,807.91,804.8,806.65,806.15,794.03,786.9,786.14,771.82,782.79,785.05,791.55,789.91,791.26,794.58,796.42,794.15,790.8,797.85,797.07,796.1,789.27,789.29,776.4,771.19,759.11,762.52,750.5,747.92,758.04,770.84,768.24,761.68,760.99,768.27,769.2,760.54,771.23,764.48,758.49,736.08,754.02,762.56,785.31,790.51,782.52,762.02,762.13,768.7,783.61,784.54,795.37,795.35,799.07,807.67,813.11,799.38,796.97,801.56,795.26,779.96,778.53,778.19,786.14,783.07,785.94,775.08,776.86,776.47,776.43,772.56,777.29,775.01,781.56,783.01,774.2,786.9,787.21,776.22,771.41,765.7,768.88,772.1,762.49,759.69,769.02,759.66,775.32,780.35,780.08,771.46,768.78,767.12,769.09,772.15,769.54,769.41,769.64,772.08,772.15,775.42,777.5,779.91,777.13,782.44,783.22,784.85,784.68,784.26,781.76,782.01,771.61,773.18,771.06,772.88,768.79,745.91,741.77,738.42,739.77,742.74,738.63,741.19,736.96,733.78,719.71,720.95,716.98,720.64,715.09,705.63,695.36,697.77,694.95,699.21,692.1,684.11,680.04,668.26,675.22,701.87,697.68,695.94,693.71,691.72,710.37,718.92,718.27,718.36,719.39,728.58,728.28,716.65,716.55,722.34,730.4,734.15,735.55,732.66,724.12,725.27,720.09,704.24,709.74,700.32,706.63,706.29,716.49,710.83,713.31,715.29,723.18,712.9,711.12,701.41,695.7,692.36,698.21,693.01,691.02,705.84,708.14,723.15,718.77,759.14,752.67,753.93,766.61,759.0,753.2,751.72,743.09,736.1,739.15,740.28,745.69,737.8,745.29,749.91,744.95,750.53,744.77,733.53,735.3,738.06,740.75,742.09,737.6,737.78,736.09,728.33,730.49,726.82,712.82,705.24,693.97,695.16,710.89,712.42,718.85,718.81,697.77,705.07,705.75,699.56,695.85,706.46,700.91,697.35,708.4,691.0,682.4,683.11,684.12,678.11,682.74,683.57,708.01,726.95,764.65,752.0,742.95,730.96,699.99,713.04,711.67,725.25,706.59,698.45,701.79,694.45,714.72,700.56,726.07,716.03,714.47,726.39,743.62,742.58,741.84,758.88,771.0,776.6,762.51,748.4,750.31,750.0,747.77,739.31,749.43,758.09,743.4,747.77,738.87,749.46,751.61,762.37,763.25,766.81,752.54,762.38,767.04,742.6,750.26,748.15,748.28,755.98,756.6,738.41,740.0,725.3,728.96,717.0,731.23,735.4,728.32,724.89,733.76,731.25,728.11,722.16,721.11,710.81,716.92,712.95,708.49,712.78,702.0,651.79,642.61,650.28,666.1,662.2,661.74,651.16,652.3,646.67,643.61,639.16,642.36,645.44,641.47,626.91,611.29,608.42,594.97,594.89,611.97,625.8,622.36,622.69,635.44,629.25,642.9,635.98,635.14,623.24,625.77,621.35,612.72,614.66,600.7,606.25,614.34,597.79,618.25,630.38,637.61,628.62,582.06,589.61,612.48,646.83,660.9,656.13,660.87,657.12,656.45,659.56,660.78,633.73,635.3,642.68,643.78,629.25,631.21,625.61,632.59,631.93,628.0,627.26,623.56,644.28,662.1,662.3,663.02,672.93,579.85,560.22,561.1,546.55,530.13,520.68,516.83,525.02,522.86,523.4,521.84,520.51,521.52,531.69,535.23,537.84,540.48,538.19,536.69,536.73,529.26,528.15,527.2,532.33,534.61,536.69,526.69,526.83,533.33,536.7,540.31,539.18,533.99,532.11,539.78,539.79,532.32,540.11,542.51,539.27,537.36,532.3,533.85,538.4,529.62,529.04,535.7,538.22,530.7,524.22,530.8,540.78,537.9,537.34,549.08,553.68,555.37,565.06,547.0,539.36,533.97,535.38,524.05,533.8,532.53,530.39,539.17,540.01,540.78,541.61,537.02,536.77,535.53,542.56,548.0,552.03,548.34,555.17,558.78,570.19,558.81,560.36,557.99,559.5,550.84,554.51,547.32,545.38,551.18,555.01,568.85,567.68,575.33,573.37,573.64,571.34,558.4,555.48,543.87,536.09,531.91,538.95,542.87,539.7,542.84,549.01,542.93,535.97,536.94,527.83,531.0,527.58,522.76,529.24,528.48,534.52,510.66,510.0,518.63,535.21,539.95,534.39,518.04,506.9,508.08,501.79,500.87,496.18,492.55,496.17,502.68,501.1,501.96,513.87,524.81,526.4,530.42,530.33,534.03,528.77,530.59,524.87,516.35,511.1,504.89,495.39,513.8,518.66,528.34,526.06,533.37,526.98,525.26,537.31,531.32,533.75,533.8,541.83,540.37,541.08,539.27,537.5,534.83,536.99,535.03,536.51,544.4,545.38,547.31,550.29,547.49,541.01,542.04,545.92,554.11,555.22,559.08,550.31,549.33,548.9,540.77,539.78,543.98,532.71,526.54,520.84,511.17,524.51,530.03,537.94,533.21,544.49,560.88,572.5,563.74,577.35,575.28,570.08,568.27,577.36,576.36,577.1,575.06,587.99,581.13,587.37,596.08,589.27,584.77,579.95,573.1,575.62,581.35,583.1,581.01,589.72,586.08,581.98,577.94,577.33,571.6,569.2,571.0,577.86,580.2,582.56,583.37,584.49,586.86,582.16,573.48,574.65,574.78,562.73,567.88,568.77,563.36,566.37,565.07,573.15,566.07,571.6,587.42,585.61,590.6,589.02,593.35,595.98,594.74,589.47,595.08,573.73,582.66,584.78,584.87,579.18,571.1,576.08,571.09,582.25,584.73,582.34,582.67,575.28,577.24,576.0,578.65,564.62,564.95,556.36,554.9,553.37,543.01,544.28,551.76,551.35,558.84,560.55,562.12,556.33,553.9,544.66,544.94,553.93,559.89,560.08,561.68,565.95,552.7,545.06,538.94,529.77,528.86,520.63,519.98,526.65,533.09,529.92,518.73,511.0,509.96,515.14,527.81,527.93,531.35,526.66,527.7,517.15,516.18,525.16,526.94,534.81,528.62,536.1,556.54,536.44,532.52,530.6,540.95,564.14,554.9,538.15,543.14,569.74,567.0,567.16,556.97,559.99,558.46],\"high\":[1758.93,1765.095,1792.44,1790.7276,1746.0,1747.99,1737.405,1740.85,1755.11,1771.7836,1773.0,1771.42,1797.39,1784.45,1781.31,1834.27,1821.9,1832.37,1833.16,1847.2,1835.65,1824.83,1788.065,1804.0,1778.54,1771.6,1753.9,1774.0,1769.5897,1773.47,1785.0,1799.07,1781.04,1768.27,1764.22,1763.0,1818.06,1772.43,1793.64,1771.365,1661.7,1660.77,1687.0,1593.71,1561.35,1606.845,1638.24,1642.36,1621.99,1618.73,1577.5,1588.15,1581.13,1575.105,1587.6841,1590.0,1593.86,1516.52,1490.0,1468.96,1486.76,1488.21,1483.2,1499.04,1489.75,1476.6632,1476.8,1450.0,1443.7088,1460.96,1469.52,1448.36,1503.0032,1508.2984,1562.0,1559.57,1563.9999,1575.2,1584.0810000000001,1569.0,1563.865,1645.11,1709.7143,1733.1799,1665.73,1647.965,1647.1699,1655.0,1659.22,1611.62,1614.17,1597.72,1585.87,1573.68,1562.47,1525.61,1521.9,1537.25,1512.3859,1510.0,1504.075,1516.845,1502.39,1482.41,1485.56,1490.47,1508.95,1537.87,1531.2522,1526.48,1540.97,1517.6362,1571.87,1570.0,1586.99,1570.29,1523.44,1518.69,1535.33,1522.95,1577.1316,1543.83,1522.72,1505.8799,1516.8,1506.59,1482.95,1443.0,1418.65,1395.6,1433.45,1442.9,1475.42,1475.941,1452.75,1447.8,1451.41,1460.0,1455.02,1424.7999,1437.0,1454.475,1474.259,1468.0,1447.99,1445.05,1438.96,1446.5522,1439.61,1437.96,1432.57,1440.84,1421.74,1441.0,1412.76,1415.49,1410.42,1392.0,1392.325,1374.48,1357.42,1385.4822,1415.0,1416.53,1398.76,1377.6,1371.1199,1373.94,1327.66,1352.0695,1352.82,1359.99,1288.05,1296.15,1280.4,1293.31,1285.6133,1254.27,1281.6,1294.43,1279.0,1280.46,1282.07,1220.51,1225.57,1219.07,1225.0,1194.66,1123.54,1126.86,1129.69,1175.31,1151.63,1150.6702,1169.97,1148.9,1135.0,1071.32,1143.99,1157.9699,1106.5,1130.86,1152.2665,1219.76,1193.87,1260.96,1281.15,1254.7599,1306.22,1358.91,1388.09,1410.15,1390.87,1341.14,1371.7,1415.7,1438.14,1436.97,1512.22,1529.64,1532.11,1531.63,1520.74,1527.18,1520.7,1529.63,1509.5,1485.84,1482.0,1463.84,1469.5,1490.0,1470.13,1457.28,1465.43,1456.0,1438.07,1495.5,1495.52,1503.21,1491.85,1481.3,1451.99,1441.4,1441.8,1440.52,1434.93,1427.33,1411.58,1402.99,1396.5,1372.5,1368.14,1338.0,1353.0,1364.53,1361.33,1350.26,1359.8,1363.64,1358.1,1360.47,1365.0,1364.68,1353.09,1355.78,1351.2,1349.98,1359.45,1344.0,1329.36,1325.8,1298.46,1305.83,1310.21,1318.36,1314.8,1311.31,1308.73,1312.59,1315.0,1327.7,1335.53,1334.88,1317.0,1304.3,1310.0,1306.43,1318.0,1323.74,1293.73,1298.93,1294.13,1274.62,1267.67,1269.36,1281.59,1299.31,1269.6,1264.0,1259.89,1250.6,1254.63,1258.89,1263.33,1254.74,1247.33,1226.33,1228.39,1215.0,1208.35,1206.08,1218.2,1211.44,1189.06,1196.99,1231.23,1226.0,1244.02,1245.0,1248.3,1246.74,1239.09,1243.32,1244.44,1235.61,1235.0,1239.56,1240.88,1241.86,1222.6,1210.0,1220.0,1212.02,1213.04,1183.48,1186.89,1198.5,1196.06,1176.42,1182.4,1169.47,1194.08,1198.01,1199.0,1196.06,1206.99,1182.72,1175.84,1182.3,1204.78,1184.96,1203.88,1205.01,1178.45,1179.96,1175.24,1206.9,1234.11,1234.0,1234.87,1247.37,1265.55,1141.7,1144.0,1146.9,1139.25,1151.14,1147.61,1158.36,1158.58,1150.82,1147.34,1153.07,1142.05,1128.03,1125.98,1132.88,1126.76,1111.77,1107.58,1081.0,1087.1,1092.97,1114.35,1122.0,1124.11,1120.12,1107.0,1116.39,1099.18,1092.69,1094.17,1080.93,1101.99,1092.66,1070.92,1047.49,1053.55,1056.05,1065.5,1109.6,1123.13,1129.1,1151.59,1149.77,1145.97,1158.52,1152.71,1146.8,1180.15,1188.16,1171.33,1140.42,1147.94,1172.6,1169.66,1180.42,1190.44,1190.85,1186.8,1174.19,1188.05,1192.81,1289.27,1273.07,1267.41,1268.01,1269.0,1249.09,1242.0,1240.56,1230.82,1224.2,1218.35,1207.96,1203.79,1202.29,1208.69,1216.22,1215.67,1216.3,1201.35,1196.66,1178.99,1171.57,1187.56,1202.83,1206.4,1230.0,1231.79,1227.14,1200.0,1190.0,1196.57,1197.88,1200.93,1200.0,1176.19,1147.08,1156.76,1167.57,1169.61,1158.28,1142.97,1127.65,1117.98,1119.51,1118.54,1111.24,1111.94,1123.41,1121.89,1131.67,1128.23,1134.73,1125.3,1105.95,1098.91,1104.84,1147.0,1146.85,1132.8,1125.0,1117.33,1091.0,1075.15,1083.0,1094.0,1079.48,1084.93,1091.51,1108.35,1091.8,1092.38,1080.05,1051.53,1063.78,1071.15,1082.63,1084.56,1074.0,1070.84,1056.98,1052.32,1052.7,1055.56,1043.89,1040.0,1003.54,1024.02,1034.22,1062.0,1049.48,1053.15,1062.6,1079.76,1081.65,1060.6,1048.45,1075.26,1071.2,1104.42,1124.65,1095.57,1094.25,1086.84,1057.58,1049.31,1037.59,1048.56,1031.74,1060.79,1067.0,1071.85,1054.56,1056.61,1062.12,1075.56,1093.27,1095.46,1064.35,1058.47,1082.98,1083.98,1091.94,1037.49,1097.04,1106.53,1110.98,1106.12,1107.89,1112.23,1110.36,1121.84,1128.99,1124.22,1113.45,1115.0,1106.4,1132.17,1154.35,1168.0,1173.5,1197.51,1206.41,1209.96,1209.9,1195.41,1202.1,1194.23,1186.88,1178.0,1192.21,1189.89,1173.21,1176.08,1177.24,1180.43,1178.61,1178.61,1178.68,1174.54,1175.26,1186.3,1199.01,1212.99,1238.66,1253.64,1250.66,1242.55,1243.09,1221.65,1221.28,1211.84,1217.26,1211.0,1209.02,1226.0,1235.24,1245.87,1249.27,1245.7,1255.54,1256.5,1251.17,1226.09,1230.0,1229.88,1233.47,1227.59,1234.92,1273.89,1269.77,1265.86,1266.0,1206.49,1196.86,1200.0,1204.5,1203.04,1191.0,1195.42,1184.41,1164.29,1159.59,1154.67,1140.93,1127.5,1135.82,1128.0,1128.23,1122.31,1131.84,1133.21,1143.91,1162.5,1177.3,1186.29,1171.27,1174.31,1153.42,1155.47,1146.5,1139.79,1137.26,1126.67,1135.82,1143.0,1145.74,1141.89,1120.0,1097.19,1069.21,1073.37,1082.56,1080.47,1080.78,1086.59,1088.0,1069.94,1086.87,1089.27,1090.05,1110.75,1101.33,1100.44,1085.44,1060.55,1061.68,1048.51,1029.68,1040.39,1038.47,1037.0,1049.5,1047.98,1032.49,1057.0,1082.72,1092.35,1094.17,1077.43,1077.88,1043.24,1046.42,1040.69,1031.36,1036.28,1039.6,1031.42,1042.79,1028.72,1020.99,1034.8,1043.0,1024.23,1064.84,1055.63,1063.36,1082.9,1106.3,1105.2,1121.99,1155.88,1161.08,1158.59,1176.76,1177.05,1160.8,1127.6,1112.22,1101.85,1097.1,1082.0,1110.12,1127.53,1144.04,1143.96,1127.28,1122.82,1133.97,1113.95,1104.67,1091.48,1071.72,1058.37,1061.5,1043.97,1058.62,1081.78,1081.71,1110.0,1123.07,1174.0,1173.0,1176.52,1186.89,1175.84,1175.94,1179.86,1171.63,1159.88,1137.86,1132.51,1132.6,1139.91,1124.29,1106.5,1104.6,1110.57,1111.27,1104.25,1093.57,1086.29,1066.94,1049.7,1054.75,1058.37,1058.83,1064.2,1069.33,1073.38,1076.84,1078.49,1067.62,1058.5,1046.67,1050.31,1043.8,1042.05,1034.24,1024.97,1020.61,1016.1,1022.49,1028.49,1043.59,1062.38,1055.46,1043.18,1039.71,1035.11,1022.61,1034.42,1035.92,1024.09,1026.81,1031.58,1030.76,1033.99,1043.52,1033.96,1034.87,1032.65,1028.09,1029.67,1024.0,1024.97,1048.39,987.6,976.09,972.23,989.52,991.0,988.88,996.72,996.44,993.9069999999999,997.21,994.12,990.71,981.57,985.425,979.46,970.91,960.39,958.0,962.54,959.7860000000001,950.69,949.9,930.82,926.4,934.73,936.53,933.88,922.42,922.08,926.49,932.77,937.25,933.48,938.38,936.99,936.41,930.915,937.0,942.48,941.98,930.819,923.33,919.245,925.555,930.84,929.93,925.86,913.0,915.275,926.86,932.7,926.55,924.668,917.78,919.26,925.98,935.814,931.7,930.307,932.24,932.6,937.447,943.59,943.83,951.78,955.0,959.7,986.2,973.23,975.9,973.04,968.04,960.74,956.91,954.45,946.3,931.43,930.38,921.54,914.944,914.51,913.94,926.05,931.26,942.75,948.29,973.31,966.0,960.72,960.1,961.62,959.99,942.04,943.3389999999999,961.15,959.98,949.355,984.5,984.57,984.15,988.25,986.91,975.6,971.5,979.27,976.2,974.98,972.6289999999999,955.09,951.467,941.883,937.755,933.17,939.3330000000001,943.11,938.25,933.44,932.53,932.0,937.5,936.925,934.9,935.93,928.1,920.77,915.68,916.85,875.4,876.05,875.0,863.45,843.88,845.2,842.22,838.93,837.75,826.38,826.66,827.427,829.35,828.485,836.39,842.45,835.18,840.85,831.64,833.68,832.765,825.99,821.63,821.93,822.57,835.55,853.5,850.22,853.4,850.85,848.63,847.24,848.685,844.91,842.0,838.15,833.41,828.88,831.36,834.51,836.255,828.54,830.5,829.0,832.46,833.25,833.45,828.07,824.4,823.0,823.0,820.959,815.25,810.66,811.84,810.5,801.67,806.0,802.7,801.19,801.25,815.84,841.95,838.0,835.77,825.9,820.87,806.91,809.48,806.205,807.14,811.2239999999999,807.39,808.15,809.13,809.966,807.9,794.48,791.34,789.63,782.78,785.93,794.23,797.86,792.74,793.32,796.676,798.65,797.66,800.8560000000001,803.0,804.0,804.38,791.25,789.43,778.18,771.36,768.83,763.9,754.0,759.85,772.99,778.5,779.53,765.0,768.283,776.96,769.7,775.0,772.7,766.36,764.416,757.85,760.78,791.17,791.227,795.633,785.19,770.36,769.95,781.65,789.49,796.86,815.49,803.49,806.98,816.68,815.18,799.5,803.97,804.63,801.61,785.85,783.95,781.22,788.13,792.28,789.38,779.66,780.48,782.07,778.71,776.065,780.94,785.8,781.81,785.99,782.74,788.93,789.85,777.16,773.33,774.0,769.75,773.8,767.68,766.22,770.29,773.245,780.35,782.73,782.0,773.92,771.02,769.09,774.466,774.99,776.08,771.89,774.5,776.44,774.54,777.1,782.86,780.81,780.98,787.49,783.395,789.75,786.812,788.94,782.63,783.04,774.07,773.21,775.84,780.43,778.55,748.65,744.46,741.69,742.61,743.24,741.69,742.13,736.99,736.13,725.74,722.21,724.0,722.94,716.51,705.71,698.2,701.68,696.94,700.65,692.32,687.429,680.33,672.3,689.4,701.95,700.86,702.77,702.48,708.82,716.65,722.46,722.47,725.44,725.89,729.54,728.57,721.98,724.91,729.49,733.02,737.21,739.73,733.936,728.33,727.51,720.97,711.4780000000001,714.58,706.0,711.6,721.52,718.48,716.6619999999999,719.25,724.48,723.5,718.71,711.86,702.32,699.75,697.84,700.64,697.62,714.17,708.98,725.7660000000001,723.93,736.12,760.43,758.132,769.9,768.05,761.0,757.31,754.38,743.83,745.0,745.45,747.0,746.24,742.8,752.8,750.34,750.85,757.88,747.25,738.99,737.747,745.72,745.0,742.5,742.0,743.07,737.47,732.29,735.5,726.92,716.44,705.68,703.79,708.091,716.49,719.45,720.0,718.81,710.89,713.43,705.98,700.0,708.4,713.24,703.081,712.35,709.75,698.0,693.75,689.35,701.31,699.9,684.03,703.99,727.0,774.5,789.87,757.86,744.99,733.69,718.235,718.28,729.68,728.13,719.19,706.85,709.98,706.74,721.925,734.74,728.75,718.855,733.23,738.5,747.18,752.0,744.06,769.5,777.6,779.98,762.99,751.35,754.21,754.85,750.0,754.13,762.68,760.59,758.08,748.73,745.71,755.85,764.23,764.8,768.73,768.49,768.99,775.96,768.95,754.93,753.41,752.0,755.28,762.71,757.92,742.0,741.41,731.84,729.49,731.15,737.8,741.0,730.59,734.71,735.41,739.48,733.1,724.65,721.62,718.0,718.26,712.98,713.62,719.15,730.0,657.8,655.87,664.72,666.82,664.97,663.13,659.39,657.81,648.5,645.99,644.45,650.61,649.25,643.01,627.34,612.09,608.76,605.0,614.61,629.77,627.32,628.93,627.55,636.49,640.0,650.9,637.95,638.7,625.86,625.78,624.16,626.52,616.31,603.47,619.71,614.34,612.86,635.8,636.88,643.59,631.71,617.45,614.0,640.05,662.99,667.0,664.0,661.38,659.85,664.5,665.0,674.9,643.44,642.68,645.38,647.86,634.81,633.06,632.91,635.22,633.36,632.83,634.3,648.17,663.63,678.64,673.0,668.88,674.47,580.68,566.5,565.85,547.11,532.56,523.77,522.73,526.18,525.25,524.65,525.69,526.25,528.61,537.76,540.9,540.0,541.5,543.74,538.25,538.15,530.98,529.64,528.3,533.12,538.98,538.36,529.2,534.12,537.2,540.59,543.5,543.0,536.79,538.63,540.61,540.55,539.0,544.19,543.84,542.92,540.66,534.82,539.27,539.0,534.32,533.21,541.98,541.15,533.46,532.38,539.74,544.07,539.54,548.59,553.68,556.02,565.95,571.14,550.96,541.08,539.39,536.09,529.84,535.59,534.73,537.57,544.06,542.29,541.95,543.85,542.69,538.41,540.85,551.14,554.71,553.47,555.28,558.9,572.26,574.59,562.36,561.72,560.8,559.78,553.8,556.85,558.4,556.37,558.14,564.85,570.27,576.68,577.91,577.11,575.39,572.15,564.71,556.14,546.22,536.79,536.44,543.75,543.11,545.49,550.0,549.91,544.82,538.45,537.7,532.0,537.2,528.5,532.67,533.4,533.0,539.87,511.09,522.99,530.7,539.0,542.17,536.33,519.28,512.5,508.19,505.68,503.23,502.98,495.98,504.92,503.48,507.24,516.17,524.33,531.27,532.6,531.15,535.48,534.25,531.76,534.56,526.46,517.72,513.87,507.0,513.05,523.1,528.5,533.92,536.33,534.19,531.0,532.89,537.34,536.0,535.5,541.41,542.0,541.55,543.98,542.7,542.14,535.11,538.24,541.94,543.79,546.68,549.8,550.46,551.94,549.59,546.21,546.89,556.8,555.5,557.9,559.57,552.8,554.19,548.98,544.41,544.88,547.22,539.8,526.79,521.76,530.98,529.43,532.8,547.19,549.5,565.13,571.49,573.88,575.27,581.0,577.22,571.91,577.58,579.85,578.19,579.25,587.98,589.63,586.85,593.95,596.48,589.54,587.52,581.5,574.95,581.64,581.81,583.5,589.0,591.77,586.55,586.0,582.99,577.83,572.04,573.25,578.49,581.8,585.0,585.24,584.5,586.7,587.34,584.51,579.38,577.9,575.0,565.9,570.49,570.25,569.89,570.7,571.98,575.35,575.96,583.65,589.5,589.7,592.5,591.86,599.5,597.85,599.65,594.4,596.8,580.99,588.4,585.8,585.21,580.85,576.59,576.72,579.53,586.43,585.01,585.44,584.4,579.57,579.87,582.45,579.96,572.65,565.0,557.58,555.0,553.56,545.32,549.62,552.3,557.99,559.88,563.6,562.9,558.06,554.95,548.61,552.34,560.9,561.35,564.0,567.84,566.0,553.64,547.6,539.18,536.23,529.78,521.8,525.87,533.0,536.07,530.19,519.9,517.23,516.68,526.81,528.9,534.0,532.93,528.0,529.46,518.6,524.7,531.65,533.87,537.23,536.7,549.5,557.0,538.45,544.1,540.0,565.0,565.37,555.0,548.48,577.77,587.28,604.83,568.45,567.0,566.43,568.0],\"low\":[1735.42,1725.6,1756.09,1746.335,1729.11,1725.04,1712.575,1699.0,1720.22,1738.66,1756.08,1749.95,1757.215,1760.0,1740.32,1767.81,1796.2047,1805.78,1816.99,1822.65,1789.4725,1769.37,1755.0,1772.44,1756.54,1727.69,1717.72,1741.86,1737.005,1746.14,1767.0,1767.69,1744.55,1745.6,1747.365,1717.3,1760.02,1740.35,1750.51,1706.0301,1616.6201,1616.03,1604.46,1522.24,1514.62,1582.78,1576.5,1620.51,1585.0,1571.6301,1525.67,1528.0,1563.0,1545.03,1550.53,1563.2,1532.57,1489.45,1465.09,1436.0,1448.5901,1464.27,1450.92,1479.21,1459.88,1458.805,1449.3012,1413.34,1409.85,1407.7,1434.53,1406.55,1437.13,1470.0001,1519.82,1531.835,1515.74,1497.36,1525.805,1536.0511,1528.01,1547.6125,1615.06,1666.3301,1632.22,1630.31,1630.75,1625.75,1603.6,1582.07,1580.57,1568.005,1538.2,1543.95,1523.71,1507.97,1502.88,1508.005,1485.25,1478.0,1473.08,1481.64,1466.0,1463.46,1458.65,1465.64,1454.03,1492.22,1501.33,1497.66,1515.21,1488.4,1507.3918,1546.1,1554.28,1503.6,1498.42,1486.31,1498.0,1483.5,1505.2427,1496.54,1488.085,1485.63,1483.55,1472.86,1446.42,1409.82,1383.96,1347.01,1351.99,1420.0,1429.75,1445.24,1423.21,1421.3501,1427.01,1431.38,1425.9001,1387.92,1386.02,1402.0,1456.27,1443.21,1422.34,1406.0,1404.73,1429.7772,1418.83,1418.0,1413.35,1396.0,1391.29,1412.13,1391.83,1393.45,1387.25,1373.485,1354.25,1339.0,1323.91,1328.4,1374.77,1377.152,1375.48,1355.27,1347.29,1337.46,1299.0,1311.0,1322.49,1325.34,1232.2,1269.0,1249.45,1265.67,1242.0,1209.71,1261.37,1271.23,1242.62,1240.4,1236.93,1187.5984,1196.7351,1188.16,1182.23,1130.94,1079.81,1096.4,1097.45,1138.14,1096.48,1105.91,1093.53,1086.01,1090.62,1013.5361,1065.49,1060.1075,1037.28,1056.01,1074.44,1117.1432,1113.3,1196.07,1218.77,1200.0,1261.05,1305.1,1343.11,1332.0,1326.82,1271.0,1317.17,1379.0,1382.4,1411.39,1480.44,1506.82,1521.4,1512.59,1507.34,1504.6,1508.11,1505.64,1474.32,1466.35,1449.57,1430.56,1426.3,1458.99,1428.53,1436.4,1446.74,1432.47,1421.2,1465.25,1482.1,1484.93,1471.2,1458.22,1440.92,1430.21,1428.37,1426.02,1418.35,1410.27,1390.84,1390.38,1350.0,1345.54,1341.55,1329.09,1334.02,1349.31,1344.47,1342.78,1346.51,1349.0,1348.99,1351.0,1351.32,1352.67,1343.87,1340.5,1342.67,1336.04,1337.84,1333.44,1316.44,1304.87,1279.0,1281.0,1303.97,1309.63,1305.09,1298.13,1291.41,1293.0,1291.15,1312.8,1317.5,1314.28,1295.65,1293.51,1295.77,1297.41,1304.37,1294.25,1282.5,1291.23,1276.36,1260.5,1250.84,1252.0,1257.21,1272.54,1250.01,1253.72,1242.36,1241.38,1240.6,1241.08,1249.94,1238.45,1220.4,1211.76,1213.74,1197.34,1197.63,1189.01,1203.75,1189.17,1162.43,1171.29,1203.58,1212.3,1214.45,1232.27,1210.09,1210.68,1224.17,1223.08,1232.02,1216.53,1223.69,1225.61,1227.01,1223.02,1202.2,1194.58,1192.62,1202.52,1191.53,1171.0,1163.2,1183.8,1181.12,1157.3,1161.45,1152.96,1147.75,1178.58,1187.43,1182.11,1190.09,1171.81,1162.11,1160.54,1171.46,1167.67,1183.6,1173.02,1149.62,1160.0,1140.14,1188.94,1205.72,1207.76,1223.3,1228.23,1224.0,1120.92,1126.99,1131.8,1124.24,1129.62,1132.73,1145.77,1145.0,1139.4,1138.78,1139.58,1130.97,1107.17,1111.21,1116.14,1113.86,1098.17,1093.7,1073.37,1075.29,1072.24,1083.8,1111.01,1108.08,1104.74,1093.48,1098.99,1086.28,1080.17,1080.15,1067.54,1077.6,1072.32,1048.4,1033.7,1030.49,1033.69,1025.0,1100.18,1112.12,1108.22,1133.12,1131.66,1129.22,1145.89,1137.94,1131.44,1160.01,1162.84,1116.67,1119.55,1122.11,1142.5,1150.85,1165.74,1161.04,1166.26,1169.0,1155.0,1167.18,1175.0,1266.29,1260.32,1252.03,1255.0,1246.38,1228.31,1234.61,1227.82,1220.12,1209.11,1208.11,1200.13,1196.44,1193.08,1199.86,1205.03,1204.13,1200.5,1185.71,1182.0,1162.88,1159.43,1159.37,1176.72,1187.04,1202.83,1213.15,1196.17,1185.87,1177.42,1182.61,1184.48,1191.94,1178.26,1144.45,1123.3,1134.91,1155.49,1146.2,1130.69,1124.75,1111.01,1101.0,1099.92,1107.27,1095.6,1092.52,1105.28,1110.0,1110.65,1110.45,1118.5,1105.85,1092.86,1086.55,1086.0,1112.77,1117.25,1109.02,1104.89,1095.41,1066.85,1055.86,1063.8,1081.82,1060.7,1059.75,1063.47,1090.9,1073.5,1079.34,1047.34,1041.26,1048.48,1057.71,1066.4,1060.53,1054.76,1027.42,1014.07,1015.71,1023.59,1033.1,997.0,983.0,970.11,973.69,996.36,1008.05,1021.44,1007.9,1040.79,1053.93,1062.79,1039.84,1023.29,1028.5,1030.77,1049.98,1103.66,1077.88,1076.0,1035.76,1038.49,1033.91,1022.4,1033.47,996.02,1016.26,1048.98,1031.78,1031.0,1031.15,1031.0,1053.11,1072.2,1065.9,1038.07,1021.24,1054.61,1062.46,1057.0,1000.75,995.83,1034.09,1069.55,1048.74,1070.0,1091.0,1087.75,1077.09,1102.19,1102.5,1089.0,1086.4,1068.27,1081.13,1137.57,1127.36,1145.12,1155.58,1193.83,1186.63,1190.3,1184.5,1183.63,1174.77,1168.0,1146.91,1166.04,1173.36,1154.58,1157.09,1154.03,1168.33,1162.85,1158.36,1156.24,1160.11,1157.22,1152.0,1162.0,1192.5,1211.29,1232.59,1236.36,1228.69,1225.72,1206.36,1204.24,1199.0,1200.35,1194.63,1188.24,1202.55,1209.51,1225.11,1233.64,1232.0,1246.01,1238.01,1236.17,1215.8,1215.06,1204.79,1210.21,1205.6,1211.47,1231.0,1249.02,1239.13,1235.56,1181.0,1184.22,1183.32,1190.34,1170.6,1179.28,1180.0,1155.94,1141.0,1149.59,1143.42,1120.74,1108.48,1100.02,1093.8,1115.0,1096.01,1103.62,1116.66,1112.78,1147.26,1152.23,1169.16,1154.01,1143.59,1143.49,1140.64,1133.38,1130.74,1118.6,1112.15,1116.52,1125.74,1133.19,1122.01,1098.5,1067.56,1056.83,1055.22,1073.78,1066.15,1061.71,1066.69,1073.65,1060.68,1073.5,1076.26,1073.47,1099.11,1090.91,1085.64,1056.37,1047.15,1047.1,1016.9,1006.29,1022.87,1008.21,1016.85,1025.59,1018.19,1015.31,1010.59,1060.7,1069.57,1068.18,1066.23,1048.26,1026.74,1022.98,1021.43,1015.87,1011.34,1014.08,1003.03,1020.13,993.0,994.07,990.37,1002.9,980.64,996.92,1008.4,1021.22,1045.91,1085.15,1083.46,1089.01,1131.96,1134.54,1141.44,1133.33,1157.42,1132.46,1112.8,1085.48,1089.78,1069.0,1048.12,1067.0,1103.24,1118.0,1126.7,1104.71,1102.59,1106.33,1088.52,1088.31,1064.34,1046.75,1044.09,1040.93,992.56,1000.66,1048.26,1023.1367,1052.03,1107.28,1157.52,1159.13,1163.52,1171.98,1158.11,1162.76,1161.05,1158.75,1135.11,1128.3,1117.5,1117.01,1117.83,1101.15,1099.59,1096.11,1101.23,1101.62,1092.0,1084.0,1063.21,1045.23,1044.9,1044.77,1048.05,1050.2,1059.44,1061.79,1061.52,1063.55,1062.0,1049.5,1043.11,1038.38,1033.69,1032.05,1032.52,1018.07,1001.14,988.28,995.57,1002.02,1015.0,1015.65,1040.0,1038.44,1035.0,1031.43,1022.66,1017.5,1017.75,1022.52,1015.42,1014.15,1022.57,1025.28,1019.67,1028.45,1027.12,1025.0,1020.31,1013.01,1016.95,1010.42,1007.5,1008.25,972.2,960.52,961.0,966.12,984.58,978.39,986.975,988.59,984.0,989.0,985.0,972.25,966.08,976.11,963.36,955.18,950.69,949.14,947.84,951.51,940.55,927.74,921.14,909.7,926.48,923.83,922.0,912.55,910.6,916.36,924.0,929.86,923.8610000000001,926.92,924.88,923.62,919.27,921.96,935.15,931.76,919.65,905.0,911.87,915.5,915.5,919.36,911.475,903.4,907.154,910.98,923.445,919.82,918.19,905.58,906.13,917.25,925.61,926.5,923.03,922.24,916.68,929.26,926.04,927.5,920.0,942.279,945.4,970.77,960.15,961.51,964.03,950.6,949.2410000000001,948.005,943.01,934.47,922.0,919.59,908.85,899.7,898.5,894.79,908.31,910.62,916.0,926.85,950.79,954.2,954.55,950.76,950.01,949.05,931.595,924.44,942.25,944.09,915.2330000000001,935.63,977.2,975.77,975.14,975.1,966.0,960.01,960.18,969.49,965.03,955.47,949.5,942.575,935.0,931.0,918.75,918.14,937.58,929.34,927.85,923.03,925.16,929.53,925.26,925.2,924.59,912.543,909.453,901.45,905.77,870.38,867.748,862.81,849.86,840.6,839.32,836.29,832.71,824.47,821.44,821.02,817.02,823.77,820.513,826.46,830.72,829.0360000000001,829.22,827.39,829.0,822.38,814.0269999999999,803.37,808.89,812.257,827.18,829.02,845.15,847.11,846.13,840.77,840.8,843.25,839.5,834.21,831.79,826.52,822.4,825.7510000000001,829.64,827.26,820.2,824.0,824.2,822.88,828.64,828.35,821.655,818.98,818.47,816.0,815.49,809.78,804.54,803.19,801.78,795.25,800.37,792.0,791.19,790.52,799.8,820.44,827.01,825.06,817.821,803.74,801.69,801.8,800.99,800.37,806.69,799.17,801.37,803.51,802.83,792.204,785.02,783.16,775.8,770.41,778.92,783.2,787.6569999999999,787.28,788.58,787.1,793.27,786.27,790.36,792.92,794.01,793.34,784.355,779.0210000000001,767.23,755.8,757.34,752.9,743.1,737.025,754.83,768.24,759.8,760.52,755.25,767.0,760.6,760.0,764.23,750.51,746.97,727.54,750.38,752.18,771.67,780.19,772.55,750.561,759.03,763.45,775.54,784.0,793.59,791.5,796.32,805.14,804.82,794.0,796.03,797.635,785.565,777.5,776.0,773.0,782.06,780.58,775.87,770.75,775.54,775.65,772.89,769.5,774.09,774.232,774.97,774.308,773.07,784.15,778.44,768.301,768.53,764.441,764.66,759.96,759.11,755.8,754.0,759.66,773.58,776.2,771.0,768.41,764.3,765.38,766.84,766.615,765.85,763.185,767.07,771.785,770.05,773.13,777.0,773.53,773.444,780.11,780.4,782.97,782.778,780.57,778.091,772.34,768.795,766.82,767.85,761.09,766.77,739.3,737.0,734.27,737.5,736.56,735.831,737.1,729.0,721.19,719.055,718.03,716.85,715.91,707.24,696.435,688.215,689.09,688.88,692.13,683.65,681.41,673.0,663.284,673.45,687.0,693.082,692.01,693.41,688.452,703.26,717.31,713.12,716.51,716.43,722.336,720.58,716.55,714.61,720.56,724.17,730.66,731.26,724.0,720.28,719.705,706.86,704.18,700.52,696.8,700.63,704.11,705.65,709.26,709.0,712.8,715.72,710.0,698.107,695.72,689.01,692.0,691.0,689.0,689.55,692.365,703.0260000000001,715.59,713.61,749.55,750.01,749.33,757.3,752.694,752.705,744.2610000000001,731.01,736.05,735.55,736.28,735.56,735.37,742.43,737.0,740.94,748.74,728.76,732.5,731.0,736.15,737.46,733.5160000000001,731.83,736.0,724.51,724.77,725.15,717.125,703.36,694.0,685.34,686.9,706.02,706.02,712.0,699.77,697.68,700.86,690.585,680.78,693.58,702.51,694.05,696.03,691.38,685.05,678.6,668.868,682.13,668.77,663.06,680.15,701.86,720.5,764.65,743.27,726.8,712.35,694.39,706.48,710.01,720.1210000000001,694.46,673.26,693.41,685.37,689.1,698.61,717.317,703.54,713.0,719.06,728.92,738.64,731.258,758.34,766.9,766.43,749.52,746.62,744.0,745.53,740.0,738.15,749.0,739.43,743.01,724.17,736.75,743.83,737.0,754.2,755.09,750.0,745.63,758.96,746.7,741.27,747.49,746.06,737.63,751.82,743.0,737.43,727.0,723.03,711.33,716.73,728.65,730.23,718.5,719.43,727.01,729.47,721.9,714.72,705.85,710.05,710.01,703.08,704.55,701.26,701.5,644.01,641.73,644.2,659.58,657.2,654.46,648.85,643.15,639.01,635.32,625.56,632.15,636.53,627.0,603.13,599.85,600.73,590.22,589.38,611.0,612.4,620.0,615.43,625.94,627.02,635.02,632.32,623.78,619.43,617.42,611.43,609.6,604.12,595.25,602.82,599.71,594.1,617.68,624.56,622.0,599.05,581.11,565.05,612.33,642.9,654.19,653.46,651.24,652.66,651.66,652.29,654.27,631.25,629.71,632.25,633.16,627.16,625.34,625.5,622.05,622.65,623.31,620.5,622.52,641.0,659.0,654.3,653.01,645.0,565.0,556.79,546.71,532.4,525.55,520.35,516.11,515.18,519.0,521.08,518.23,520.5,520.54,531.35,535.23,535.66,535.25,537.53,533.01,530.79,525.1,525.56,524.0,530.16,533.02,529.35,523.01,526.24,532.52,534.32,537.11,531.33,529.76,531.45,536.25,531.71,529.88,539.51,535.98,532.97,533.04,528.85,530.38,532.41,528.66,525.26,535.4,536.0,521.75,521.09,530.39,535.06,532.1,535.05,546.91,550.37,553.2,557.25,540.23,531.75,533.67,524.5,521.01,529.61,523.22,528.09,537.31,537.31,535.49,538.38,536.0,529.57,533.85,539.5,546.72,548.17,548.13,550.65,558.74,561.21,555.83,559.05,556.15,547.0,548.0,546.0,544.22,545.36,550.68,554.73,563.53,566.76,573.41,568.01,566.52,558.75,552.9,541.5,535.45,528.25,529.41,535.8,538.01,537.51,541.09,543.13,534.67,533.38,526.92,526.02,526.41,522.09,521.27,523.26,518.55,515.52,501.2,510.0,518.19,529.67,533.0,519.7,506.2,506.02,500.0,497.76,493.0,492.39,487.56,494.79,491.0,499.65,501.05,513.06,524.1,525.8,527.13,530.01,527.31,527.02,526.29,516.08,506.91,504.7,496.81,489.0,513.27,518.66,527.1,525.56,520.5,523.79,524.28,528.59,529.26,529.8,531.86,536.6,537.04,538.6,535.62,536.56,531.08,530.08,534.17,534.06,542.15,543.48,545.17,546.3,541.02,538.67,540.97,544.05,549.3,553.23,554.75,543.51,546.98,541.62,537.03,535.79,535.85,528.8,519.11,508.1,508.53,515.0,518.3,533.17,533.1,544.05,559.06,557.49,563.74,574.44,572.5,563.32,567.01,572.85,571.17,574.66,574.18,580.52,581.0,583.46,589.5,585.0,578.78,572.66,568.21,574.46,576.26,576.94,580.0,586.3,581.95,579.22,575.0,571.19,567.07,567.1,570.1,576.58,579.0,580.64,581.14,582.57,584.0,576.0,570.52,570.88,565.75,560.88,566.0,560.35,561.1,560.0,562.61,564.1,562.85,570.0,584.0,583.52,584.75,587.03,591.77,592.5,590.6,585.23,582.0,568.61,582.2,576.56,578.03,571.42,565.01,569.38,566.14,579.59,580.92,580.39,576.65,574.75,573.8,571.85,565.22,561.01,554.25,550.39,548.51,544.0,539.33,541.52,545.56,548.46,555.02,557.9,556.04,548.93,544.45,538.75,542.55,545.73,555.91,558.71,561.0,554.35,543.7,540.78,531.91,526.3,517.58,515.44,517.42,525.29,529.51,519.01,504.2,506.45,503.3,515.06,521.32,525.61,523.88,522.52,516.32,502.8,515.42,522.12,526.25,527.51,525.6,531.15,540.0,518.46,529.56,526.53,539.9,552.95,541.61,527.15,543.0,564.13,562.19,558.71,556.93,558.67,552.92],\"open\":[1735.42,1762.01,1787.79,1751.635,1735.0,1728.11,1734.43,1713.51,1754.18,1768.51,1772.88,1764.42,1775.0,1763.06,1769.8,1812.01,1810.1,1819.0,1824.52,1824.01,1798.1,1774.37,1781.1844,1773.09,1772.89,1730.5,1749.6,1765.21,1738.38,1765.23,1776.94,1771.7,1757.63,1747.63,1750.0,1731.09,1790.9,1753.95,1781.0,1710.28,1631.78,1628.16,1672.11,1522.36,1559.74,1595.67,1625.01,1626.07,1593.05,1573.33,1527.05,1580.46,1565.85,1547.15,1578.59,1583.73,1543.0,1494.7,1465.09,1464.29,1475.58,1466.21,1462.03,1484.27,1466.8,1470.39,1474.21,1432.63,1411.03,1458.78,1450.09,1440.06,1498.01,1496.0,1555.54,1536.0,1539.005,1536.0,1560.64,1557.53,1533.51,1624.26,1709.7143,1673.7754,1636.63,1647.89,1633.49,1653.68,1608.0,1582.07,1593.98,1577.03,1543.45,1553.31,1526.18,1514.67,1515.66,1510.34,1485.58,1492.44,1487.18,1500.0,1471.75,1469.3,1476.57,1486.64,1505.01,1497.0,1506.32,1525.18,1515.6,1498.93,1566.97,1560.5,1586.99,1515.26,1521.62,1500.0,1523.13,1490.31,1550.0,1506.15,1506.45,1494.32,1490.0,1480.06,1446.94,1411.1,1390.44,1358.18,1431.39,1429.9,1461.51,1455.64,1429.0,1444.0,1449.16,1447.16,1445.22,1390.8,1428.49,1442.48,1459.54,1445.36,1422.34,1413.17,1430.4,1438.3,1430.55,1418.39,1416.94,1396.86,1417.25,1437.27,1396.71,1408.0,1389.58,1386.9965,1361.75,1350.0,1335.02,1377.05,1407.12,1378.28,1383.13,1365.94,1361.69,1337.92,1308.23,1328.5,1324.88,1341.46,1287.93,1296.0,1261.17,1271.55,1245.54,1247.0,1271.0,1284.85,1274.1,1245.61,1245.09,1209.18,1224.08,1206.5,1221.0,1138.0,1119.015,1098.26,1122.0,1147.3,1125.04,1125.67,1111.8,1126.47,1103.77,1061.32,1135.72,1093.05,1056.51,1093.11,1096.0,1179.0,1126.0,1249.7,1260.0,1205.3,1277.06,1350.2,1359.23,1397.68,1351.61,1277.5,1358.77,1396.14,1433.0,1426.11,1508.03,1522.0,1525.07,1515.0,1515.6,1512.69,1514.48,1511.81,1474.32,1467.3,1450.33,1462.42,1457.07,1459.4,1468.9,1439.96,1458.8,1443.0,1431.0,1493.59,1487.64,1491.0,1479.12,1462.91,1447.44,1430.21,1439.01,1436.13,1427.56,1420.57,1392.08,1397.94,1350.0,1347.86,1341.55,1330.11,1350.0,1362.99,1346.17,1348.5,1355.87,1363.35,1351.82,1356.6,1362.89,1356.5,1347.95,1345.94,1350.84,1341.5,1338.04,1333.44,1328.0,1307.01,1279.57,1301.0,1307.12,1315.0,1309.86,1299.18,1305.62,1301.48,1311.74,1327.7,1332.22,1318.94,1297.5,1294.07,1300.0,1303.18,1305.28,1294.28,1289.46,1292.89,1276.45,1265.0,1261.28,1252.97,1276.23,1275.45,1251.03,1260.9,1242.36,1247.17,1252.26,1253.46,1250.93,1241.17,1220.4,1212.34,1222.21,1198.58,1199.35,1197.59,1204.4,1191.89,1180.0,1196.98,1219.0,1220.97,1243.01,1241.96,1215.82,1240.0,1226.0,1233.12,1232.06,1227.51,1230.4,1229.52,1231.35,1224.3,1203.41,1195.15,1204.44,1208.13,1191.53,1176.71,1177.03,1198.5,1181.12,1161.71,1180.53,1157.26,1181.99,1194.07,1193.15,1195.25,1190.09,1179.01,1164.12,1176.31,1171.46,1179.21,1197.99,1182.83,1156.0,1163.31,1170.04,1200.74,1214.03,1223.0,1225.41,1241.05,1224.04,1137.82,1137.81,1144.0,1133.45,1148.19,1141.74,1150.97,1146.0,1146.86,1143.99,1143.25,1131.22,1111.8,1125.17,1117.8,1117.41,1102.24,1098.0,1076.39,1084.0,1086.5,1112.66,1119.61,1109.24,1119.99,1105.6,1109.69,1086.28,1086.42,1083.64,1078.0,1093.98,1072.98,1050.63,1044.99,1051.54,1042.9,1065.5,1101.29,1115.54,1127.52,1134.0,1147.36,1140.5,1146.75,1148.49,1144.5,1168.47,1164.51,1117.87,1137.21,1141.96,1163.59,1159.03,1172.01,1180.47,1166.26,1173.65,1167.76,1188.05,1185.0,1274.0,1269.0,1264.77,1264.12,1250.69,1235.99,1239.18,1233.0,1225.0,1218.0,1210.0,1203.96,1200.68,1196.0,1207.89,1214.99,1205.94,1207.48,1195.32,1184.1,1174.9,1171.54,1185.5,1198.53,1196.93,1226.32,1216.0,1197.35,1188.81,1183.3,1193.38,1194.51,1200.65,1178.26,1144.45,1126.73,1155.72,1162.49,1150.06,1146.99,1124.9,1111.3,1106.95,1105.75,1116.0,1100.9,1110.84,1119.99,1110.0,1130.08,1118.05,1124.99,1106.8,1096.95,1087.0,1104.16,1139.57,1124.84,1112.66,1112.4,1103.0,1068.43,1072.68,1080.11,1085.0,1076.48,1077.35,1088.0,1100.0,1079.47,1080.0,1050.17,1046.92,1063.18,1067.66,1081.65,1076.11,1071.5,1032.59,1041.0,1016.57,1050.96,1049.62,1017.15,989.01,973.9,1015.3,1018.13,1033.99,1026.09,1037.51,1049.98,1068.07,1068.0,1056.49,1035.05,1060.01,1034.26,1103.12,1123.14,1089.07,1076.08,1048.76,1041.0,1038.35,1030.0,1036.76,1000.0,1057.2,1059.41,1044.71,1050.0,1043.29,1061.39,1073.99,1091.38,1069.0,1039.48,1055.0,1073.73,1075.8,1059.81,1008.46,1082.47,1037.03,1071.79,1104.25,1080.89,1103.06,1093.37,1121.84,1126.46,1104.59,1108.91,1108.0,1072.94,1131.08,1146.15,1150.11,1167.5,1195.33,1205.0,1190.96,1199.89,1191.87,1186.73,1185.15,1176.15,1157.17,1192.0,1179.99,1164.98,1157.09,1170.14,1179.1,1170.74,1172.72,1161.63,1172.19,1158.67,1186.3,1193.8,1204.27,1234.98,1244.23,1237.45,1241.29,1227.6,1208.82,1207.14,1200.0,1208.0,1205.02,1202.03,1224.73,1229.26,1235.19,1236.98,1243.0,1249.9,1240.47,1237.0,1225.0,1229.62,1205.9,1228.0,1220.01,1228.01,1271.0,1251.0,1239.13,1262.59,1181.01,1186.96,1191.0,1196.56,1172.22,1189.39,1185.0,1159.89,1144.59,1156.98,1148.48,1123.58,1110.53,1135.82,1099.0,1120.0,1102.09,1121.34,1128.0,1143.6,1159.14,1174.85,1175.31,1158.5,1143.65,1148.86,1143.85,1141.12,1131.07,1118.6,1118.18,1131.32,1142.17,1140.99,1122.33,1099.35,1067.56,1063.03,1064.89,1079.02,1079.0,1065.13,1083.56,1074.06,1061.86,1079.89,1077.31,1090.0,1100.0,1093.6,1086.03,1058.1,1058.54,1049.23,1016.9,1019.0,1028.1,1013.66,1030.01,1046.0,1029.51,1025.52,1052.0,1077.86,1082.0,1069.4,1077.43,1051.37,1037.0,1040.88,1025.04,1019.97,1026.44,1016.8,1020.0,1041.33,993.41,1013.91,1022.82,1011.63,998.0,1063.0,1046.0,1047.03,1081.88,1092.74,1099.0,1120.01,1154.14,1149.96,1145.21,1170.0,1163.85,1136.0,1115.32,1089.19,1099.22,1075.14,1053.08,1107.87,1123.03,1141.24,1127.8,1112.64,1116.19,1106.47,1090.57,1088.41,1079.07,1048.95,1045.0,1048.0,1017.25,1055.41,1081.54,1027.18,1090.6,1122.0,1162.61,1170.57,1167.83,1176.48,1175.08,1172.53,1177.33,1159.85,1137.49,1131.83,1131.41,1126.22,1132.51,1102.41,1106.3,1097.1,1109.4,1102.23,1094.0,1088.0,1064.31,1048.34,1046.72,1051.6,1057.39,1058.07,1061.11,1064.95,1071.78,1075.2,1066.08,1054.61,1045.0,1046.12,1039.63,1035.5,1037.49,1020.43,1001.5,995.94,1012.66,1015.8,1022.37,1042.68,1055.09,1040.0,1035.87,1035.0,1023.31,1020.26,1034.01,1022.52,1019.21,1022.59,1023.42,1026.46,1033.99,1030.52,1027.27,1028.99,1022.11,1021.76,1017.21,1015.22,1014.0,1009.11,980.0,968.37,970.0,989.52,989.44,986.0,991.77,990.29,992.1,992.0,987.45,973.72,980.0,980.0,966.7,955.49,957.0,954.0,959.98,952.0,941.36,927.74,923.72,925.45,927.75,933.0,922.98,917.42,920.01,924.66,931.25,930.66,932.59,934.25,936.49,931.73,930.15,933.08,941.13,931.76,920.05,905.1,916.0,923.49,928.66,921.93,912.72,910.0,910.31,925.78,925.29,924.23,922.53,907.97,917.55,920.61,927.09,929.06,926.64,930.34,928.61,932.38,941.89,929.4,951.78,954.68,953.81,972.22,962.25,975.0,967.84,953.0,957.0,952.0,946.29,938.68,929.54,921.77,908.85,904.12,901.76,912.18,926.05,929.92,929.0,942.46,969.9,956.83,958.7,953.64,957.52,949.96,940.0,933.97,959.92,951.91,939.56,984.5,982.35,979.65,983.16,976.55,969.46,968.95,975.02,970.31,969.7,957.33,952.98,947.92,935.0,931.47,921.0,935.67,940.0,932.95,931.53,925.32,931.98,936.95,926.12,933.54,926.07,914.86,909.62,901.94,910.66,873.6,874.23,865.0,851.2,842.88,841.44,839.79,834.22,825.01,822.14,821.93,824.71,825.39,827.96,832.4,835.51,831.36,829.22,828.97,833.5,825.0,820.41,806.95,820.08,821.0,831.91,851.4,850.01,851.61,849.03,847.59,843.64,847.753,843.28,836.0,833.51,827.4,826.95,830.56,833.85,828.85,825.61,824.55,827.73,830.12,828.66,828.66,823.02,819.93,819.36,819.0,816.0,811.7,809.51,807.0,803.99,799.7,802.99,793.8,799.68,796.86,814.66,834.71,837.81,829.62,822.3,807.25,806.91,805.12,805.81,807.08,807.48,807.14,805.0,807.86,806.4,795.26,786.08,788.36,778.81,782.75,783.33,793.7,790.68,790.9,792.36,795.84,796.76,790.22,800.4,797.34,797.4,793.9,785.04,780.0,772.48,761.0,764.73,757.71,744.59,757.44,770.07,771.53,760.0,764.26,767.73,772.63,762.61,771.37,766.92,755.2,746.97,755.6,756.54,791.17,779.94,783.4,774.5,750.66,767.25,778.2,782.89,795.47,808.35,801.0,806.34,816.68,804.9,795.0,803.3,798.86,787.85,779.8,781.65,781.22,783.76,786.66,777.71,779.66,779.0,779.31,776.03,774.25,776.33,781.44,777.85,775.5,782.74,786.59,780.0,772.66,769.0,772.42,769.75,762.89,759.61,764.48,755.13,770.1,778.59,780.0,773.45,773.01,769.25,767.01,769.33,768.74,769.0,767.0,770.58,775.48,773.27,775.0,780.01,777.32,780.3,783.75,781.5,785.0,783.75,781.1,782.0,773.78,772.22,767.18,768.69,761.09,772.71,747.04,738.28,739.04,740.67,741.86,740.36,737.33,729.89,722.71,725.73,721.58,723.62,719.12,708.05,699.5,698.08,689.98,696.06,692.2,685.47,683.0,678.97,671.0,675.17,697.45,699.06,698.4,698.77,708.65,714.91,719.0,716.48,716.51,719.47,722.87,723.96,719.84,724.91,729.27,732.5,734.53,731.74,724.01,722.87,720.76,706.86,706.53,701.62,702.36,703.67,715.99,709.13,711.93,717.06,723.41,716.75,712.0,698.38,697.7,690.49,696.87,697.63,690.7,708.26,707.29,725.42,716.1,726.3,755.38,758.0,769.51,760.46,753.98,754.01,749.16,738.0,743.02,743.97,745.37,735.77,738.0,750.06,738.6,749.25,750.1,734.59,736.79,732.01,742.36,737.46,736.5,741.86,736.45,726.37,726.92,726.81,720.0,708.12,698.47,688.59,706.9,714.99,718.68,719.0,703.62,700.32,708.58,700.01,688.92,701.45,707.45,695.03,710.0,699.0,692.98,690.26,675.0,686.86,672.32,667.85,703.87,722.81,770.22,784.5,750.46,731.53,722.22,713.67,713.85,723.58,723.6,702.18,688.61,703.3,692.29,705.38,730.85,721.68,716.61,731.45,730.31,730.0,746.45,743.0,769.5,776.6,766.69,752.92,749.55,753.47,751.65,746.13,746.51,762.42,750.0,753.0,741.79,741.16,752.85,759.17,757.89,767.77,753.1,766.01,768.9,747.11,748.81,748.46,748.14,752.0,757.45,746.53,738.74,727.58,729.29,715.6,729.17,731.0,732.46,724.4,730.2,731.5,729.47,722.0,718.86,711.06,715.73,710.5,707.33,707.38,701.55,727.5,646.7,654.15,664.04,661.18,664.11,654.66,653.21,643.15,642.09,640.0,641.36,649.24,638.84,632.0,607.2,608.37,603.28,597.28,610.34,629.77,616.64,622.05,627.0,634.4,636.79,637.79,635.47,626.7,625.7,619.75,613.1,621.22,612.49,600.0,617.0,605.59,602.36,627.54,632.82,639.4,610.35,614.91,573.0,639.78,655.46,656.6,661.9,656.8,655.01,659.32,663.08,669.2,639.48,640.23,645.0,634.33,628.42,625.34,631.38,630.0,628.8,632.83,621.0,647.0,661.27,660.89,655.21,659.24,649.0,565.12,560.13,546.76,532.88,526.29,523.12,521.05,523.13,519.5,521.08,524.73,526.2,525.41,537.26,539.66,540.0,539.64,539.59,537.21,531.0,529.37,528.4,528.0,531.63,538.42,529.4,527.56,533.31,536.35,537.76,539.91,532.21,535.6,537.04,538.01,532.8,538.12,540.15,538.68,538.49,533.55,532.05,539.18,533.76,530.56,531.47,538.37,536.61,523.99,531.24,538.21,538.53,538.43,547.87,550.02,553.85,563.12,566.1,541.1,534.4,537.51,525.6,527.27,529.9,528.7,536.06,538.41,542.29,541.03,538.74,538.08,532.22,540.85,548.6,550.0,551.62,552.91,557.59,570.5,562.56,560.43,561.65,558.11,552.5,551.71,550.0,553.5,553.63,555.14,563.71,566.86,574.96,575.26,571.87,570.45,560.53,554.24,543.0,535.9,529.7,536.3,543.13,538.04,541.4,546.83,543.35,537.11,535.3,529.3,528.0,528.13,523.79,529.24,528.0,531.46,515.86,511.0,522.78,529.97,538.17,535.59,521.49,507.25,511.0,500.01,504.0,494.65,497.75,494.94,504.76,497.99,507.0,515.0,523.26,529.01,531.25,528.17,532.19,528.77,530.51,527.0,516.68,511.51,512.35,497.0,511.56,522.74,523.51,527.8,532.96,522.65,527.13,531.0,531.16,531.44,533.95,538.9,540.15,541.47,539.0,537.65,541.61,531.25,535.0,537.5,543.58,546.68,549.63,550.38,548.49,541.46,546.21,545.73,556.8,552.72,555.5,559.35,548.95,550.0,543.0,537.03,544.36,539.32,529.89,525.0,509.45,527.25,519.0,530.45,538.9,544.99,558.34,571.17,565.57,574.4,579.0,573.05,567.31,576.01,576.93,571.8,576.06,587.56,581.46,586.85,593.82,591.5,587.3,580.01,572.76,572.94,580.95,580.36,581.5,588.9,586.6,583.98,580.0,580.22,571.85,571.37,569.56,577.27,581.26,584.72,583.59,583.74,585.88,585.0,576.11,577.86,576.18,567.3,564.52,569.99,564.0,568.0,561.78,571.03,569.04,570.4,580.6,586.55,588.75,588.07,590.4,596.45,593.23,590.72,591.75,593.0,579.53,588.0,585.74,582.6,571.91,565.91,571.58,577.66,583.76,583.35,583.35,578.32,578.66,577.18,581.0,565.26,565.19,555.0,556.89,554.24,544.86,544.2,549.26,552.25,557.63,558.0,560.51,556.99,558.06,545.62,541.5,550.65,560.7,560.8,563.47,564.57,556.0,547.26,541.13,532.9,529.74,519.7,521.39,525.7,533.0,530.89,523.51,510.75,508.41,515.79,525.23,524.73,533.76,527.15,527.6,516.91,517.55,522.51,529.97,533.79,528.64,536.1,548.81,543.0,536.82,537.74,532.5,564.99,559.77,543.07,540.74,574.65,569.85,599.99,558.71,566.89,561.2,568.0],\"x\":[\"2020-12-31T00:00:00\",\"2020-12-30T00:00:00\",\"2020-12-29T00:00:00\",\"2020-12-28T00:00:00\",\"2020-12-24T00:00:00\",\"2020-12-23T00:00:00\",\"2020-12-22T00:00:00\",\"2020-12-21T00:00:00\",\"2020-12-18T00:00:00\",\"2020-12-17T00:00:00\",\"2020-12-16T00:00:00\",\"2020-12-15T00:00:00\",\"2020-12-14T00:00:00\",\"2020-12-11T00:00:00\",\"2020-12-10T00:00:00\",\"2020-12-09T00:00:00\",\"2020-12-08T00:00:00\",\"2020-12-07T00:00:00\",\"2020-12-04T00:00:00\",\"2020-12-03T00:00:00\",\"2020-12-02T00:00:00\",\"2020-12-01T00:00:00\",\"2020-11-30T00:00:00\",\"2020-11-27T00:00:00\",\"2020-11-25T00:00:00\",\"2020-11-24T00:00:00\",\"2020-11-23T00:00:00\",\"2020-11-20T00:00:00\",\"2020-11-19T00:00:00\",\"2020-11-18T00:00:00\",\"2020-11-17T00:00:00\",\"2020-11-16T00:00:00\",\"2020-11-13T00:00:00\",\"2020-11-12T00:00:00\",\"2020-11-11T00:00:00\",\"2020-11-10T00:00:00\",\"2020-11-09T00:00:00\",\"2020-11-06T00:00:00\",\"2020-11-05T00:00:00\",\"2020-11-04T00:00:00\",\"2020-11-03T00:00:00\",\"2020-11-02T00:00:00\",\"2020-10-30T00:00:00\",\"2020-10-29T00:00:00\",\"2020-10-28T00:00:00\",\"2020-10-27T00:00:00\",\"2020-10-26T00:00:00\",\"2020-10-23T00:00:00\",\"2020-10-22T00:00:00\",\"2020-10-21T00:00:00\",\"2020-10-20T00:00:00\",\"2020-10-19T00:00:00\",\"2020-10-16T00:00:00\",\"2020-10-15T00:00:00\",\"2020-10-14T00:00:00\",\"2020-10-13T00:00:00\",\"2020-10-12T00:00:00\",\"2020-10-09T00:00:00\",\"2020-10-08T00:00:00\",\"2020-10-07T00:00:00\",\"2020-10-06T00:00:00\",\"2020-10-05T00:00:00\",\"2020-10-02T00:00:00\",\"2020-10-01T00:00:00\",\"2020-09-30T00:00:00\",\"2020-09-29T00:00:00\",\"2020-09-28T00:00:00\",\"2020-09-25T00:00:00\",\"2020-09-24T00:00:00\",\"2020-09-23T00:00:00\",\"2020-09-22T00:00:00\",\"2020-09-21T00:00:00\",\"2020-09-18T00:00:00\",\"2020-09-17T00:00:00\",\"2020-09-16T00:00:00\",\"2020-09-15T00:00:00\",\"2020-09-14T00:00:00\",\"2020-09-11T00:00:00\",\"2020-09-10T00:00:00\",\"2020-09-09T00:00:00\",\"2020-09-08T00:00:00\",\"2020-09-04T00:00:00\",\"2020-09-03T00:00:00\",\"2020-09-02T00:00:00\",\"2020-09-01T00:00:00\",\"2020-08-31T00:00:00\",\"2020-08-28T00:00:00\",\"2020-08-27T00:00:00\",\"2020-08-26T00:00:00\",\"2020-08-25T00:00:00\",\"2020-08-24T00:00:00\",\"2020-08-21T00:00:00\",\"2020-08-20T00:00:00\",\"2020-08-19T00:00:00\",\"2020-08-18T00:00:00\",\"2020-08-17T00:00:00\",\"2020-08-14T00:00:00\",\"2020-08-13T00:00:00\",\"2020-08-12T00:00:00\",\"2020-08-11T00:00:00\",\"2020-08-10T00:00:00\",\"2020-08-07T00:00:00\",\"2020-08-06T00:00:00\",\"2020-08-05T00:00:00\",\"2020-08-04T00:00:00\",\"2020-08-03T00:00:00\",\"2020-07-31T00:00:00\",\"2020-07-30T00:00:00\",\"2020-07-29T00:00:00\",\"2020-07-28T00:00:00\",\"2020-07-27T00:00:00\",\"2020-07-24T00:00:00\",\"2020-07-23T00:00:00\",\"2020-07-22T00:00:00\",\"2020-07-21T00:00:00\",\"2020-07-20T00:00:00\",\"2020-07-17T00:00:00\",\"2020-07-16T00:00:00\",\"2020-07-15T00:00:00\",\"2020-07-14T00:00:00\",\"2020-07-13T00:00:00\",\"2020-07-10T00:00:00\",\"2020-07-09T00:00:00\",\"2020-07-08T00:00:00\",\"2020-07-07T00:00:00\",\"2020-07-06T00:00:00\",\"2020-07-02T00:00:00\",\"2020-07-01T00:00:00\",\"2020-06-30T00:00:00\",\"2020-06-29T00:00:00\",\"2020-06-26T00:00:00\",\"2020-06-25T00:00:00\",\"2020-06-24T00:00:00\",\"2020-06-23T00:00:00\",\"2020-06-22T00:00:00\",\"2020-06-19T00:00:00\",\"2020-06-18T00:00:00\",\"2020-06-17T00:00:00\",\"2020-06-16T00:00:00\",\"2020-06-15T00:00:00\",\"2020-06-12T00:00:00\",\"2020-06-11T00:00:00\",\"2020-06-10T00:00:00\",\"2020-06-09T00:00:00\",\"2020-06-08T00:00:00\",\"2020-06-05T00:00:00\",\"2020-06-04T00:00:00\",\"2020-06-03T00:00:00\",\"2020-06-02T00:00:00\",\"2020-06-01T00:00:00\",\"2020-05-29T00:00:00\",\"2020-05-28T00:00:00\",\"2020-05-27T00:00:00\",\"2020-05-26T00:00:00\",\"2020-05-22T00:00:00\",\"2020-05-21T00:00:00\",\"2020-05-20T00:00:00\",\"2020-05-19T00:00:00\",\"2020-05-18T00:00:00\",\"2020-05-15T00:00:00\",\"2020-05-14T00:00:00\",\"2020-05-13T00:00:00\",\"2020-05-12T00:00:00\",\"2020-05-11T00:00:00\",\"2020-05-08T00:00:00\",\"2020-05-07T00:00:00\",\"2020-05-06T00:00:00\",\"2020-05-05T00:00:00\",\"2020-05-04T00:00:00\",\"2020-05-01T00:00:00\",\"2020-04-30T00:00:00\",\"2020-04-29T00:00:00\",\"2020-04-28T00:00:00\",\"2020-04-27T00:00:00\",\"2020-04-24T00:00:00\",\"2020-04-23T00:00:00\",\"2020-04-22T00:00:00\",\"2020-04-21T00:00:00\",\"2020-04-20T00:00:00\",\"2020-04-17T00:00:00\",\"2020-04-16T00:00:00\",\"2020-04-15T00:00:00\",\"2020-04-14T00:00:00\",\"2020-04-13T00:00:00\",\"2020-04-09T00:00:00\",\"2020-04-08T00:00:00\",\"2020-04-07T00:00:00\",\"2020-04-06T00:00:00\",\"2020-04-03T00:00:00\",\"2020-04-02T00:00:00\",\"2020-04-01T00:00:00\",\"2020-03-31T00:00:00\",\"2020-03-30T00:00:00\",\"2020-03-27T00:00:00\",\"2020-03-26T00:00:00\",\"2020-03-25T00:00:00\",\"2020-03-24T00:00:00\",\"2020-03-23T00:00:00\",\"2020-03-20T00:00:00\",\"2020-03-19T00:00:00\",\"2020-03-18T00:00:00\",\"2020-03-17T00:00:00\",\"2020-03-16T00:00:00\",\"2020-03-13T00:00:00\",\"2020-03-12T00:00:00\",\"2020-03-11T00:00:00\",\"2020-03-10T00:00:00\",\"2020-03-09T00:00:00\",\"2020-03-06T00:00:00\",\"2020-03-05T00:00:00\",\"2020-03-04T00:00:00\",\"2020-03-03T00:00:00\",\"2020-03-02T00:00:00\",\"2020-02-28T00:00:00\",\"2020-02-27T00:00:00\",\"2020-02-26T00:00:00\",\"2020-02-25T00:00:00\",\"2020-02-24T00:00:00\",\"2020-02-21T00:00:00\",\"2020-02-20T00:00:00\",\"2020-02-19T00:00:00\",\"2020-02-18T00:00:00\",\"2020-02-14T00:00:00\",\"2020-02-13T00:00:00\",\"2020-02-12T00:00:00\",\"2020-02-11T00:00:00\",\"2020-02-10T00:00:00\",\"2020-02-07T00:00:00\",\"2020-02-06T00:00:00\",\"2020-02-05T00:00:00\",\"2020-02-04T00:00:00\",\"2020-02-03T00:00:00\",\"2020-01-31T00:00:00\",\"2020-01-30T00:00:00\",\"2020-01-29T00:00:00\",\"2020-01-28T00:00:00\",\"2020-01-27T00:00:00\",\"2020-01-24T00:00:00\",\"2020-01-23T00:00:00\",\"2020-01-22T00:00:00\",\"2020-01-21T00:00:00\",\"2020-01-17T00:00:00\",\"2020-01-16T00:00:00\",\"2020-01-15T00:00:00\",\"2020-01-14T00:00:00\",\"2020-01-13T00:00:00\",\"2020-01-10T00:00:00\",\"2020-01-09T00:00:00\",\"2020-01-08T00:00:00\",\"2020-01-07T00:00:00\",\"2020-01-06T00:00:00\",\"2020-01-03T00:00:00\",\"2020-01-02T00:00:00\",\"2019-12-31T00:00:00\",\"2019-12-30T00:00:00\",\"2019-12-27T00:00:00\",\"2019-12-26T00:00:00\",\"2019-12-24T00:00:00\",\"2019-12-23T00:00:00\",\"2019-12-20T00:00:00\",\"2019-12-19T00:00:00\",\"2019-12-18T00:00:00\",\"2019-12-17T00:00:00\",\"2019-12-16T00:00:00\",\"2019-12-13T00:00:00\",\"2019-12-12T00:00:00\",\"2019-12-11T00:00:00\",\"2019-12-10T00:00:00\",\"2019-12-09T00:00:00\",\"2019-12-06T00:00:00\",\"2019-12-05T00:00:00\",\"2019-12-04T00:00:00\",\"2019-12-03T00:00:00\",\"2019-12-02T00:00:00\",\"2019-11-29T00:00:00\",\"2019-11-27T00:00:00\",\"2019-11-26T00:00:00\",\"2019-11-25T00:00:00\",\"2019-11-22T00:00:00\",\"2019-11-21T00:00:00\",\"2019-11-20T00:00:00\",\"2019-11-19T00:00:00\",\"2019-11-18T00:00:00\",\"2019-11-15T00:00:00\",\"2019-11-14T00:00:00\",\"2019-11-13T00:00:00\",\"2019-11-12T00:00:00\",\"2019-11-11T00:00:00\",\"2019-11-08T00:00:00\",\"2019-11-07T00:00:00\",\"2019-11-06T00:00:00\",\"2019-11-05T00:00:00\",\"2019-11-04T00:00:00\",\"2019-11-01T00:00:00\",\"2019-10-31T00:00:00\",\"2019-10-30T00:00:00\",\"2019-10-29T00:00:00\",\"2019-10-28T00:00:00\",\"2019-10-25T00:00:00\",\"2019-10-24T00:00:00\",\"2019-10-23T00:00:00\",\"2019-10-22T00:00:00\",\"2019-10-21T00:00:00\",\"2019-10-18T00:00:00\",\"2019-10-17T00:00:00\",\"2019-10-16T00:00:00\",\"2019-10-15T00:00:00\",\"2019-10-14T00:00:00\",\"2019-10-11T00:00:00\",\"2019-10-10T00:00:00\",\"2019-10-09T00:00:00\",\"2019-10-08T00:00:00\",\"2019-10-07T00:00:00\",\"2019-10-04T00:00:00\",\"2019-10-03T00:00:00\",\"2019-10-02T00:00:00\",\"2019-10-01T00:00:00\",\"2019-09-30T00:00:00\",\"2019-09-27T00:00:00\",\"2019-09-26T00:00:00\",\"2019-09-25T00:00:00\",\"2019-09-24T00:00:00\",\"2019-09-23T00:00:00\",\"2019-09-20T00:00:00\",\"2019-09-19T00:00:00\",\"2019-09-18T00:00:00\",\"2019-09-17T00:00:00\",\"2019-09-16T00:00:00\",\"2019-09-13T00:00:00\",\"2019-09-12T00:00:00\",\"2019-09-11T00:00:00\",\"2019-09-10T00:00:00\",\"2019-09-09T00:00:00\",\"2019-09-06T00:00:00\",\"2019-09-05T00:00:00\",\"2019-09-04T00:00:00\",\"2019-09-03T00:00:00\",\"2019-08-30T00:00:00\",\"2019-08-29T00:00:00\",\"2019-08-28T00:00:00\",\"2019-08-27T00:00:00\",\"2019-08-26T00:00:00\",\"2019-08-23T00:00:00\",\"2019-08-22T00:00:00\",\"2019-08-21T00:00:00\",\"2019-08-20T00:00:00\",\"2019-08-19T00:00:00\",\"2019-08-16T00:00:00\",\"2019-08-15T00:00:00\",\"2019-08-14T00:00:00\",\"2019-08-13T00:00:00\",\"2019-08-12T00:00:00\",\"2019-08-09T00:00:00\",\"2019-08-08T00:00:00\",\"2019-08-07T00:00:00\",\"2019-08-06T00:00:00\",\"2019-08-05T00:00:00\",\"2019-08-02T00:00:00\",\"2019-08-01T00:00:00\",\"2019-07-31T00:00:00\",\"2019-07-30T00:00:00\",\"2019-07-29T00:00:00\",\"2019-07-26T00:00:00\",\"2019-07-25T00:00:00\",\"2019-07-24T00:00:00\",\"2019-07-23T00:00:00\",\"2019-07-22T00:00:00\",\"2019-07-19T00:00:00\",\"2019-07-18T00:00:00\",\"2019-07-17T00:00:00\",\"2019-07-16T00:00:00\",\"2019-07-15T00:00:00\",\"2019-07-12T00:00:00\",\"2019-07-11T00:00:00\",\"2019-07-10T00:00:00\",\"2019-07-09T00:00:00\",\"2019-07-08T00:00:00\",\"2019-07-05T00:00:00\",\"2019-07-03T00:00:00\",\"2019-07-02T00:00:00\",\"2019-07-01T00:00:00\",\"2019-06-28T00:00:00\",\"2019-06-27T00:00:00\",\"2019-06-26T00:00:00\",\"2019-06-25T00:00:00\",\"2019-06-24T00:00:00\",\"2019-06-21T00:00:00\",\"2019-06-20T00:00:00\",\"2019-06-19T00:00:00\",\"2019-06-18T00:00:00\",\"2019-06-17T00:00:00\",\"2019-06-14T00:00:00\",\"2019-06-13T00:00:00\",\"2019-06-12T00:00:00\",\"2019-06-11T00:00:00\",\"2019-06-10T00:00:00\",\"2019-06-07T00:00:00\",\"2019-06-06T00:00:00\",\"2019-06-05T00:00:00\",\"2019-06-04T00:00:00\",\"2019-06-03T00:00:00\",\"2019-05-31T00:00:00\",\"2019-05-30T00:00:00\",\"2019-05-29T00:00:00\",\"2019-05-28T00:00:00\",\"2019-05-24T00:00:00\",\"2019-05-23T00:00:00\",\"2019-05-22T00:00:00\",\"2019-05-21T00:00:00\",\"2019-05-20T00:00:00\",\"2019-05-17T00:00:00\",\"2019-05-16T00:00:00\",\"2019-05-15T00:00:00\",\"2019-05-14T00:00:00\",\"2019-05-13T00:00:00\",\"2019-05-10T00:00:00\",\"2019-05-09T00:00:00\",\"2019-05-08T00:00:00\",\"2019-05-07T00:00:00\",\"2019-05-06T00:00:00\",\"2019-05-03T00:00:00\",\"2019-05-02T00:00:00\",\"2019-05-01T00:00:00\",\"2019-04-30T00:00:00\",\"2019-04-29T00:00:00\",\"2019-04-26T00:00:00\",\"2019-04-25T00:00:00\",\"2019-04-24T00:00:00\",\"2019-04-23T00:00:00\",\"2019-04-22T00:00:00\",\"2019-04-18T00:00:00\",\"2019-04-17T00:00:00\",\"2019-04-16T00:00:00\",\"2019-04-15T00:00:00\",\"2019-04-12T00:00:00\",\"2019-04-11T00:00:00\",\"2019-04-10T00:00:00\",\"2019-04-09T00:00:00\",\"2019-04-08T00:00:00\",\"2019-04-05T00:00:00\",\"2019-04-04T00:00:00\",\"2019-04-03T00:00:00\",\"2019-04-02T00:00:00\",\"2019-04-01T00:00:00\",\"2019-03-29T00:00:00\",\"2019-03-28T00:00:00\",\"2019-03-27T00:00:00\",\"2019-03-26T00:00:00\",\"2019-03-25T00:00:00\",\"2019-03-22T00:00:00\",\"2019-03-21T00:00:00\",\"2019-03-20T00:00:00\",\"2019-03-19T00:00:00\",\"2019-03-18T00:00:00\",\"2019-03-15T00:00:00\",\"2019-03-14T00:00:00\",\"2019-03-13T00:00:00\",\"2019-03-12T00:00:00\",\"2019-03-11T00:00:00\",\"2019-03-08T00:00:00\",\"2019-03-07T00:00:00\",\"2019-03-06T00:00:00\",\"2019-03-05T00:00:00\",\"2019-03-04T00:00:00\",\"2019-03-01T00:00:00\",\"2019-02-28T00:00:00\",\"2019-02-27T00:00:00\",\"2019-02-26T00:00:00\",\"2019-02-25T00:00:00\",\"2019-02-22T00:00:00\",\"2019-02-21T00:00:00\",\"2019-02-20T00:00:00\",\"2019-02-19T00:00:00\",\"2019-02-15T00:00:00\",\"2019-02-14T00:00:00\",\"2019-02-13T00:00:00\",\"2019-02-12T00:00:00\",\"2019-02-11T00:00:00\",\"2019-02-08T00:00:00\",\"2019-02-07T00:00:00\",\"2019-02-06T00:00:00\",\"2019-02-05T00:00:00\",\"2019-02-04T00:00:00\",\"2019-02-01T00:00:00\",\"2019-01-31T00:00:00\",\"2019-01-30T00:00:00\",\"2019-01-29T00:00:00\",\"2019-01-28T00:00:00\",\"2019-01-25T00:00:00\",\"2019-01-24T00:00:00\",\"2019-01-23T00:00:00\",\"2019-01-22T00:00:00\",\"2019-01-18T00:00:00\",\"2019-01-17T00:00:00\",\"2019-01-16T00:00:00\",\"2019-01-15T00:00:00\",\"2019-01-14T00:00:00\",\"2019-01-11T00:00:00\",\"2019-01-10T00:00:00\",\"2019-01-09T00:00:00\",\"2019-01-08T00:00:00\",\"2019-01-07T00:00:00\",\"2019-01-04T00:00:00\",\"2019-01-03T00:00:00\",\"2019-01-02T00:00:00\",\"2018-12-31T00:00:00\",\"2018-12-28T00:00:00\",\"2018-12-27T00:00:00\",\"2018-12-26T00:00:00\",\"2018-12-24T00:00:00\",\"2018-12-21T00:00:00\",\"2018-12-20T00:00:00\",\"2018-12-19T00:00:00\",\"2018-12-18T00:00:00\",\"2018-12-17T00:00:00\",\"2018-12-14T00:00:00\",\"2018-12-13T00:00:00\",\"2018-12-12T00:00:00\",\"2018-12-11T00:00:00\",\"2018-12-10T00:00:00\",\"2018-12-07T00:00:00\",\"2018-12-06T00:00:00\",\"2018-12-04T00:00:00\",\"2018-12-03T00:00:00\",\"2018-11-30T00:00:00\",\"2018-11-29T00:00:00\",\"2018-11-28T00:00:00\",\"2018-11-27T00:00:00\",\"2018-11-26T00:00:00\",\"2018-11-23T00:00:00\",\"2018-11-21T00:00:00\",\"2018-11-20T00:00:00\",\"2018-11-19T00:00:00\",\"2018-11-16T00:00:00\",\"2018-11-15T00:00:00\",\"2018-11-14T00:00:00\",\"2018-11-13T00:00:00\",\"2018-11-12T00:00:00\",\"2018-11-09T00:00:00\",\"2018-11-08T00:00:00\",\"2018-11-07T00:00:00\",\"2018-11-06T00:00:00\",\"2018-11-05T00:00:00\",\"2018-11-02T00:00:00\",\"2018-11-01T00:00:00\",\"2018-10-31T00:00:00\",\"2018-10-30T00:00:00\",\"2018-10-29T00:00:00\",\"2018-10-26T00:00:00\",\"2018-10-25T00:00:00\",\"2018-10-24T00:00:00\",\"2018-10-23T00:00:00\",\"2018-10-22T00:00:00\",\"2018-10-19T00:00:00\",\"2018-10-18T00:00:00\",\"2018-10-17T00:00:00\",\"2018-10-16T00:00:00\",\"2018-10-15T00:00:00\",\"2018-10-12T00:00:00\",\"2018-10-11T00:00:00\",\"2018-10-10T00:00:00\",\"2018-10-09T00:00:00\",\"2018-10-08T00:00:00\",\"2018-10-05T00:00:00\",\"2018-10-04T00:00:00\",\"2018-10-03T00:00:00\",\"2018-10-02T00:00:00\",\"2018-10-01T00:00:00\",\"2018-09-28T00:00:00\",\"2018-09-27T00:00:00\",\"2018-09-26T00:00:00\",\"2018-09-25T00:00:00\",\"2018-09-24T00:00:00\",\"2018-09-21T00:00:00\",\"2018-09-20T00:00:00\",\"2018-09-19T00:00:00\",\"2018-09-18T00:00:00\",\"2018-09-17T00:00:00\",\"2018-09-14T00:00:00\",\"2018-09-13T00:00:00\",\"2018-09-12T00:00:00\",\"2018-09-11T00:00:00\",\"2018-09-10T00:00:00\",\"2018-09-07T00:00:00\",\"2018-09-06T00:00:00\",\"2018-09-05T00:00:00\",\"2018-09-04T00:00:00\",\"2018-08-31T00:00:00\",\"2018-08-30T00:00:00\",\"2018-08-29T00:00:00\",\"2018-08-28T00:00:00\",\"2018-08-27T00:00:00\",\"2018-08-24T00:00:00\",\"2018-08-23T00:00:00\",\"2018-08-22T00:00:00\",\"2018-08-21T00:00:00\",\"2018-08-20T00:00:00\",\"2018-08-17T00:00:00\",\"2018-08-16T00:00:00\",\"2018-08-15T00:00:00\",\"2018-08-14T00:00:00\",\"2018-08-13T00:00:00\",\"2018-08-10T00:00:00\",\"2018-08-09T00:00:00\",\"2018-08-08T00:00:00\",\"2018-08-07T00:00:00\",\"2018-08-06T00:00:00\",\"2018-08-03T00:00:00\",\"2018-08-02T00:00:00\",\"2018-08-01T00:00:00\",\"2018-07-31T00:00:00\",\"2018-07-30T00:00:00\",\"2018-07-27T00:00:00\",\"2018-07-26T00:00:00\",\"2018-07-25T00:00:00\",\"2018-07-24T00:00:00\",\"2018-07-23T00:00:00\",\"2018-07-20T00:00:00\",\"2018-07-19T00:00:00\",\"2018-07-18T00:00:00\",\"2018-07-17T00:00:00\",\"2018-07-16T00:00:00\",\"2018-07-13T00:00:00\",\"2018-07-12T00:00:00\",\"2018-07-11T00:00:00\",\"2018-07-10T00:00:00\",\"2018-07-09T00:00:00\",\"2018-07-06T00:00:00\",\"2018-07-05T00:00:00\",\"2018-07-03T00:00:00\",\"2018-07-02T00:00:00\",\"2018-06-29T00:00:00\",\"2018-06-28T00:00:00\",\"2018-06-27T00:00:00\",\"2018-06-26T00:00:00\",\"2018-06-25T00:00:00\",\"2018-06-22T00:00:00\",\"2018-06-21T00:00:00\",\"2018-06-20T00:00:00\",\"2018-06-19T00:00:00\",\"2018-06-18T00:00:00\",\"2018-06-15T00:00:00\",\"2018-06-14T00:00:00\",\"2018-06-13T00:00:00\",\"2018-06-12T00:00:00\",\"2018-06-11T00:00:00\",\"2018-06-08T00:00:00\",\"2018-06-07T00:00:00\",\"2018-06-06T00:00:00\",\"2018-06-05T00:00:00\",\"2018-06-04T00:00:00\",\"2018-06-01T00:00:00\",\"2018-05-31T00:00:00\",\"2018-05-30T00:00:00\",\"2018-05-29T00:00:00\",\"2018-05-25T00:00:00\",\"2018-05-24T00:00:00\",\"2018-05-23T00:00:00\",\"2018-05-22T00:00:00\",\"2018-05-21T00:00:00\",\"2018-05-18T00:00:00\",\"2018-05-17T00:00:00\",\"2018-05-16T00:00:00\",\"2018-05-15T00:00:00\",\"2018-05-14T00:00:00\",\"2018-05-11T00:00:00\",\"2018-05-10T00:00:00\",\"2018-05-09T00:00:00\",\"2018-05-08T00:00:00\",\"2018-05-07T00:00:00\",\"2018-05-04T00:00:00\",\"2018-05-03T00:00:00\",\"2018-05-02T00:00:00\",\"2018-05-01T00:00:00\",\"2018-04-30T00:00:00\",\"2018-04-27T00:00:00\",\"2018-04-26T00:00:00\",\"2018-04-25T00:00:00\",\"2018-04-24T00:00:00\",\"2018-04-23T00:00:00\",\"2018-04-20T00:00:00\",\"2018-04-19T00:00:00\",\"2018-04-18T00:00:00\",\"2018-04-17T00:00:00\",\"2018-04-16T00:00:00\",\"2018-04-13T00:00:00\",\"2018-04-12T00:00:00\",\"2018-04-11T00:00:00\",\"2018-04-10T00:00:00\",\"2018-04-09T00:00:00\",\"2018-04-06T00:00:00\",\"2018-04-05T00:00:00\",\"2018-04-04T00:00:00\",\"2018-04-03T00:00:00\",\"2018-04-02T00:00:00\",\"2018-03-29T00:00:00\",\"2018-03-28T00:00:00\",\"2018-03-27T00:00:00\",\"2018-03-26T00:00:00\",\"2018-03-23T00:00:00\",\"2018-03-22T00:00:00\",\"2018-03-21T00:00:00\",\"2018-03-20T00:00:00\",\"2018-03-19T00:00:00\",\"2018-03-16T00:00:00\",\"2018-03-15T00:00:00\",\"2018-03-14T00:00:00\",\"2018-03-13T00:00:00\",\"2018-03-12T00:00:00\",\"2018-03-09T00:00:00\",\"2018-03-08T00:00:00\",\"2018-03-07T00:00:00\",\"2018-03-06T00:00:00\",\"2018-03-05T00:00:00\",\"2018-03-02T00:00:00\",\"2018-03-01T00:00:00\",\"2018-02-28T00:00:00\",\"2018-02-27T00:00:00\",\"2018-02-26T00:00:00\",\"2018-02-23T00:00:00\",\"2018-02-22T00:00:00\",\"2018-02-21T00:00:00\",\"2018-02-20T00:00:00\",\"2018-02-16T00:00:00\",\"2018-02-15T00:00:00\",\"2018-02-14T00:00:00\",\"2018-02-13T00:00:00\",\"2018-02-12T00:00:00\",\"2018-02-09T00:00:00\",\"2018-02-08T00:00:00\",\"2018-02-07T00:00:00\",\"2018-02-06T00:00:00\",\"2018-02-05T00:00:00\",\"2018-02-02T00:00:00\",\"2018-02-01T00:00:00\",\"2018-01-31T00:00:00\",\"2018-01-30T00:00:00\",\"2018-01-29T00:00:00\",\"2018-01-26T00:00:00\",\"2018-01-25T00:00:00\",\"2018-01-24T00:00:00\",\"2018-01-23T00:00:00\",\"2018-01-22T00:00:00\",\"2018-01-19T00:00:00\",\"2018-01-18T00:00:00\",\"2018-01-17T00:00:00\",\"2018-01-16T00:00:00\",\"2018-01-12T00:00:00\",\"2018-01-11T00:00:00\",\"2018-01-10T00:00:00\",\"2018-01-09T00:00:00\",\"2018-01-08T00:00:00\",\"2018-01-05T00:00:00\",\"2018-01-04T00:00:00\",\"2018-01-03T00:00:00\",\"2018-01-02T00:00:00\",\"2017-12-29T00:00:00\",\"2017-12-28T00:00:00\",\"2017-12-27T00:00:00\",\"2017-12-26T00:00:00\",\"2017-12-22T00:00:00\",\"2017-12-21T00:00:00\",\"2017-12-20T00:00:00\",\"2017-12-19T00:00:00\",\"2017-12-18T00:00:00\",\"2017-12-15T00:00:00\",\"2017-12-14T00:00:00\",\"2017-12-13T00:00:00\",\"2017-12-12T00:00:00\",\"2017-12-11T00:00:00\",\"2017-12-08T00:00:00\",\"2017-12-07T00:00:00\",\"2017-12-06T00:00:00\",\"2017-12-05T00:00:00\",\"2017-12-04T00:00:00\",\"2017-12-01T00:00:00\",\"2017-11-30T00:00:00\",\"2017-11-29T00:00:00\",\"2017-11-28T00:00:00\",\"2017-11-27T00:00:00\",\"2017-11-24T00:00:00\",\"2017-11-22T00:00:00\",\"2017-11-21T00:00:00\",\"2017-11-20T00:00:00\",\"2017-11-17T00:00:00\",\"2017-11-16T00:00:00\",\"2017-11-15T00:00:00\",\"2017-11-14T00:00:00\",\"2017-11-13T00:00:00\",\"2017-11-10T00:00:00\",\"2017-11-09T00:00:00\",\"2017-11-08T00:00:00\",\"2017-11-07T00:00:00\",\"2017-11-06T00:00:00\",\"2017-11-03T00:00:00\",\"2017-11-02T00:00:00\",\"2017-11-01T00:00:00\",\"2017-10-31T00:00:00\",\"2017-10-30T00:00:00\",\"2017-10-27T00:00:00\",\"2017-10-26T00:00:00\",\"2017-10-25T00:00:00\",\"2017-10-24T00:00:00\",\"2017-10-23T00:00:00\",\"2017-10-20T00:00:00\",\"2017-10-19T00:00:00\",\"2017-10-18T00:00:00\",\"2017-10-17T00:00:00\",\"2017-10-16T00:00:00\",\"2017-10-13T00:00:00\",\"2017-10-12T00:00:00\",\"2017-10-11T00:00:00\",\"2017-10-10T00:00:00\",\"2017-10-09T00:00:00\",\"2017-10-06T00:00:00\",\"2017-10-05T00:00:00\",\"2017-10-04T00:00:00\",\"2017-10-03T00:00:00\",\"2017-10-02T00:00:00\",\"2017-09-29T00:00:00\",\"2017-09-28T00:00:00\",\"2017-09-27T00:00:00\",\"2017-09-26T00:00:00\",\"2017-09-25T00:00:00\",\"2017-09-22T00:00:00\",\"2017-09-21T00:00:00\",\"2017-09-20T00:00:00\",\"2017-09-19T00:00:00\",\"2017-09-18T00:00:00\",\"2017-09-15T00:00:00\",\"2017-09-14T00:00:00\",\"2017-09-13T00:00:00\",\"2017-09-12T00:00:00\",\"2017-09-11T00:00:00\",\"2017-09-08T00:00:00\",\"2017-09-07T00:00:00\",\"2017-09-06T00:00:00\",\"2017-09-05T00:00:00\",\"2017-09-01T00:00:00\",\"2017-08-31T00:00:00\",\"2017-08-30T00:00:00\",\"2017-08-29T00:00:00\",\"2017-08-28T00:00:00\",\"2017-08-25T00:00:00\",\"2017-08-24T00:00:00\",\"2017-08-23T00:00:00\",\"2017-08-22T00:00:00\",\"2017-08-21T00:00:00\",\"2017-08-18T00:00:00\",\"2017-08-17T00:00:00\",\"2017-08-16T00:00:00\",\"2017-08-15T00:00:00\",\"2017-08-14T00:00:00\",\"2017-08-11T00:00:00\",\"2017-08-10T00:00:00\",\"2017-08-09T00:00:00\",\"2017-08-08T00:00:00\",\"2017-08-07T00:00:00\",\"2017-08-04T00:00:00\",\"2017-08-03T00:00:00\",\"2017-08-02T00:00:00\",\"2017-08-01T00:00:00\",\"2017-07-31T00:00:00\",\"2017-07-28T00:00:00\",\"2017-07-27T00:00:00\",\"2017-07-26T00:00:00\",\"2017-07-25T00:00:00\",\"2017-07-24T00:00:00\",\"2017-07-21T00:00:00\",\"2017-07-20T00:00:00\",\"2017-07-19T00:00:00\",\"2017-07-18T00:00:00\",\"2017-07-17T00:00:00\",\"2017-07-14T00:00:00\",\"2017-07-13T00:00:00\",\"2017-07-12T00:00:00\",\"2017-07-11T00:00:00\",\"2017-07-10T00:00:00\",\"2017-07-07T00:00:00\",\"2017-07-06T00:00:00\",\"2017-07-05T00:00:00\",\"2017-07-03T00:00:00\",\"2017-06-30T00:00:00\",\"2017-06-29T00:00:00\",\"2017-06-28T00:00:00\",\"2017-06-27T00:00:00\",\"2017-06-26T00:00:00\",\"2017-06-23T00:00:00\",\"2017-06-22T00:00:00\",\"2017-06-21T00:00:00\",\"2017-06-20T00:00:00\",\"2017-06-19T00:00:00\",\"2017-06-16T00:00:00\",\"2017-06-15T00:00:00\",\"2017-06-14T00:00:00\",\"2017-06-13T00:00:00\",\"2017-06-12T00:00:00\",\"2017-06-09T00:00:00\",\"2017-06-08T00:00:00\",\"2017-06-07T00:00:00\",\"2017-06-06T00:00:00\",\"2017-06-05T00:00:00\",\"2017-06-02T00:00:00\",\"2017-06-01T00:00:00\",\"2017-05-31T00:00:00\",\"2017-05-30T00:00:00\",\"2017-05-26T00:00:00\",\"2017-05-25T00:00:00\",\"2017-05-24T00:00:00\",\"2017-05-23T00:00:00\",\"2017-05-22T00:00:00\",\"2017-05-19T00:00:00\",\"2017-05-18T00:00:00\",\"2017-05-17T00:00:00\",\"2017-05-16T00:00:00\",\"2017-05-15T00:00:00\",\"2017-05-12T00:00:00\",\"2017-05-11T00:00:00\",\"2017-05-10T00:00:00\",\"2017-05-09T00:00:00\",\"2017-05-08T00:00:00\",\"2017-05-05T00:00:00\",\"2017-05-04T00:00:00\",\"2017-05-03T00:00:00\",\"2017-05-02T00:00:00\",\"2017-05-01T00:00:00\",\"2017-04-28T00:00:00\",\"2017-04-27T00:00:00\",\"2017-04-26T00:00:00\",\"2017-04-25T00:00:00\",\"2017-04-24T00:00:00\",\"2017-04-21T00:00:00\",\"2017-04-20T00:00:00\",\"2017-04-19T00:00:00\",\"2017-04-18T00:00:00\",\"2017-04-17T00:00:00\",\"2017-04-13T00:00:00\",\"2017-04-12T00:00:00\",\"2017-04-11T00:00:00\",\"2017-04-10T00:00:00\",\"2017-04-07T00:00:00\",\"2017-04-06T00:00:00\",\"2017-04-05T00:00:00\",\"2017-04-04T00:00:00\",\"2017-04-03T00:00:00\",\"2017-03-31T00:00:00\",\"2017-03-30T00:00:00\",\"2017-03-29T00:00:00\",\"2017-03-28T00:00:00\",\"2017-03-27T00:00:00\",\"2017-03-24T00:00:00\",\"2017-03-23T00:00:00\",\"2017-03-22T00:00:00\",\"2017-03-21T00:00:00\",\"2017-03-20T00:00:00\",\"2017-03-17T00:00:00\",\"2017-03-16T00:00:00\",\"2017-03-15T00:00:00\",\"2017-03-14T00:00:00\",\"2017-03-13T00:00:00\",\"2017-03-10T00:00:00\",\"2017-03-09T00:00:00\",\"2017-03-08T00:00:00\",\"2017-03-07T00:00:00\",\"2017-03-06T00:00:00\",\"2017-03-03T00:00:00\",\"2017-03-02T00:00:00\",\"2017-03-01T00:00:00\",\"2017-02-28T00:00:00\",\"2017-02-27T00:00:00\",\"2017-02-24T00:00:00\",\"2017-02-23T00:00:00\",\"2017-02-22T00:00:00\",\"2017-02-21T00:00:00\",\"2017-02-17T00:00:00\",\"2017-02-16T00:00:00\",\"2017-02-15T00:00:00\",\"2017-02-14T00:00:00\",\"2017-02-13T00:00:00\",\"2017-02-10T00:00:00\",\"2017-02-09T00:00:00\",\"2017-02-08T00:00:00\",\"2017-02-07T00:00:00\",\"2017-02-06T00:00:00\",\"2017-02-03T00:00:00\",\"2017-02-02T00:00:00\",\"2017-02-01T00:00:00\",\"2017-01-31T00:00:00\",\"2017-01-30T00:00:00\",\"2017-01-27T00:00:00\",\"2017-01-26T00:00:00\",\"2017-01-25T00:00:00\",\"2017-01-24T00:00:00\",\"2017-01-23T00:00:00\",\"2017-01-20T00:00:00\",\"2017-01-19T00:00:00\",\"2017-01-18T00:00:00\",\"2017-01-17T00:00:00\",\"2017-01-13T00:00:00\",\"2017-01-12T00:00:00\",\"2017-01-11T00:00:00\",\"2017-01-10T00:00:00\",\"2017-01-09T00:00:00\",\"2017-01-06T00:00:00\",\"2017-01-05T00:00:00\",\"2017-01-04T00:00:00\",\"2017-01-03T00:00:00\",\"2016-12-30T00:00:00\",\"2016-12-29T00:00:00\",\"2016-12-28T00:00:00\",\"2016-12-27T00:00:00\",\"2016-12-23T00:00:00\",\"2016-12-22T00:00:00\",\"2016-12-21T00:00:00\",\"2016-12-20T00:00:00\",\"2016-12-19T00:00:00\",\"2016-12-16T00:00:00\",\"2016-12-15T00:00:00\",\"2016-12-14T00:00:00\",\"2016-12-13T00:00:00\",\"2016-12-12T00:00:00\",\"2016-12-09T00:00:00\",\"2016-12-08T00:00:00\",\"2016-12-07T00:00:00\",\"2016-12-06T00:00:00\",\"2016-12-05T00:00:00\",\"2016-12-02T00:00:00\",\"2016-12-01T00:00:00\",\"2016-11-30T00:00:00\",\"2016-11-29T00:00:00\",\"2016-11-28T00:00:00\",\"2016-11-25T00:00:00\",\"2016-11-23T00:00:00\",\"2016-11-22T00:00:00\",\"2016-11-21T00:00:00\",\"2016-11-18T00:00:00\",\"2016-11-17T00:00:00\",\"2016-11-16T00:00:00\",\"2016-11-15T00:00:00\",\"2016-11-14T00:00:00\",\"2016-11-11T00:00:00\",\"2016-11-10T00:00:00\",\"2016-11-09T00:00:00\",\"2016-11-08T00:00:00\",\"2016-11-07T00:00:00\",\"2016-11-04T00:00:00\",\"2016-11-03T00:00:00\",\"2016-11-02T00:00:00\",\"2016-11-01T00:00:00\",\"2016-10-31T00:00:00\",\"2016-10-28T00:00:00\",\"2016-10-27T00:00:00\",\"2016-10-26T00:00:00\",\"2016-10-25T00:00:00\",\"2016-10-24T00:00:00\",\"2016-10-21T00:00:00\",\"2016-10-20T00:00:00\",\"2016-10-19T00:00:00\",\"2016-10-18T00:00:00\",\"2016-10-17T00:00:00\",\"2016-10-14T00:00:00\",\"2016-10-13T00:00:00\",\"2016-10-12T00:00:00\",\"2016-10-11T00:00:00\",\"2016-10-10T00:00:00\",\"2016-10-07T00:00:00\",\"2016-10-06T00:00:00\",\"2016-10-05T00:00:00\",\"2016-10-04T00:00:00\",\"2016-10-03T00:00:00\",\"2016-09-30T00:00:00\",\"2016-09-29T00:00:00\",\"2016-09-28T00:00:00\",\"2016-09-27T00:00:00\",\"2016-09-26T00:00:00\",\"2016-09-23T00:00:00\",\"2016-09-22T00:00:00\",\"2016-09-21T00:00:00\",\"2016-09-20T00:00:00\",\"2016-09-19T00:00:00\",\"2016-09-16T00:00:00\",\"2016-09-15T00:00:00\",\"2016-09-14T00:00:00\",\"2016-09-13T00:00:00\",\"2016-09-12T00:00:00\",\"2016-09-09T00:00:00\",\"2016-09-08T00:00:00\",\"2016-09-07T00:00:00\",\"2016-09-06T00:00:00\",\"2016-09-02T00:00:00\",\"2016-09-01T00:00:00\",\"2016-08-31T00:00:00\",\"2016-08-30T00:00:00\",\"2016-08-29T00:00:00\",\"2016-08-26T00:00:00\",\"2016-08-25T00:00:00\",\"2016-08-24T00:00:00\",\"2016-08-23T00:00:00\",\"2016-08-22T00:00:00\",\"2016-08-19T00:00:00\",\"2016-08-18T00:00:00\",\"2016-08-17T00:00:00\",\"2016-08-16T00:00:00\",\"2016-08-15T00:00:00\",\"2016-08-12T00:00:00\",\"2016-08-11T00:00:00\",\"2016-08-10T00:00:00\",\"2016-08-09T00:00:00\",\"2016-08-08T00:00:00\",\"2016-08-05T00:00:00\",\"2016-08-04T00:00:00\",\"2016-08-03T00:00:00\",\"2016-08-02T00:00:00\",\"2016-08-01T00:00:00\",\"2016-07-29T00:00:00\",\"2016-07-28T00:00:00\",\"2016-07-27T00:00:00\",\"2016-07-26T00:00:00\",\"2016-07-25T00:00:00\",\"2016-07-22T00:00:00\",\"2016-07-21T00:00:00\",\"2016-07-20T00:00:00\",\"2016-07-19T00:00:00\",\"2016-07-18T00:00:00\",\"2016-07-15T00:00:00\",\"2016-07-14T00:00:00\",\"2016-07-13T00:00:00\",\"2016-07-12T00:00:00\",\"2016-07-11T00:00:00\",\"2016-07-08T00:00:00\",\"2016-07-07T00:00:00\",\"2016-07-06T00:00:00\",\"2016-07-05T00:00:00\",\"2016-07-01T00:00:00\",\"2016-06-30T00:00:00\",\"2016-06-29T00:00:00\",\"2016-06-28T00:00:00\",\"2016-06-27T00:00:00\",\"2016-06-24T00:00:00\",\"2016-06-23T00:00:00\",\"2016-06-22T00:00:00\",\"2016-06-21T00:00:00\",\"2016-06-20T00:00:00\",\"2016-06-17T00:00:00\",\"2016-06-16T00:00:00\",\"2016-06-15T00:00:00\",\"2016-06-14T00:00:00\",\"2016-06-13T00:00:00\",\"2016-06-10T00:00:00\",\"2016-06-09T00:00:00\",\"2016-06-08T00:00:00\",\"2016-06-07T00:00:00\",\"2016-06-06T00:00:00\",\"2016-06-03T00:00:00\",\"2016-06-02T00:00:00\",\"2016-06-01T00:00:00\",\"2016-05-31T00:00:00\",\"2016-05-27T00:00:00\",\"2016-05-26T00:00:00\",\"2016-05-25T00:00:00\",\"2016-05-24T00:00:00\",\"2016-05-23T00:00:00\",\"2016-05-20T00:00:00\",\"2016-05-19T00:00:00\",\"2016-05-18T00:00:00\",\"2016-05-17T00:00:00\",\"2016-05-16T00:00:00\",\"2016-05-13T00:00:00\",\"2016-05-12T00:00:00\",\"2016-05-11T00:00:00\",\"2016-05-10T00:00:00\",\"2016-05-09T00:00:00\",\"2016-05-06T00:00:00\",\"2016-05-05T00:00:00\",\"2016-05-04T00:00:00\",\"2016-05-03T00:00:00\",\"2016-05-02T00:00:00\",\"2016-04-29T00:00:00\",\"2016-04-28T00:00:00\",\"2016-04-27T00:00:00\",\"2016-04-26T00:00:00\",\"2016-04-25T00:00:00\",\"2016-04-22T00:00:00\",\"2016-04-21T00:00:00\",\"2016-04-20T00:00:00\",\"2016-04-19T00:00:00\",\"2016-04-18T00:00:00\",\"2016-04-15T00:00:00\",\"2016-04-14T00:00:00\",\"2016-04-13T00:00:00\",\"2016-04-12T00:00:00\",\"2016-04-11T00:00:00\",\"2016-04-08T00:00:00\",\"2016-04-07T00:00:00\",\"2016-04-06T00:00:00\",\"2016-04-05T00:00:00\",\"2016-04-04T00:00:00\",\"2016-04-01T00:00:00\",\"2016-03-31T00:00:00\",\"2016-03-30T00:00:00\",\"2016-03-29T00:00:00\",\"2016-03-28T00:00:00\",\"2016-03-24T00:00:00\",\"2016-03-23T00:00:00\",\"2016-03-22T00:00:00\",\"2016-03-21T00:00:00\",\"2016-03-18T00:00:00\",\"2016-03-17T00:00:00\",\"2016-03-16T00:00:00\",\"2016-03-15T00:00:00\",\"2016-03-14T00:00:00\",\"2016-03-11T00:00:00\",\"2016-03-10T00:00:00\",\"2016-03-09T00:00:00\",\"2016-03-08T00:00:00\",\"2016-03-07T00:00:00\",\"2016-03-04T00:00:00\",\"2016-03-03T00:00:00\",\"2016-03-02T00:00:00\",\"2016-03-01T00:00:00\",\"2016-02-29T00:00:00\",\"2016-02-26T00:00:00\",\"2016-02-25T00:00:00\",\"2016-02-24T00:00:00\",\"2016-02-23T00:00:00\",\"2016-02-22T00:00:00\",\"2016-02-19T00:00:00\",\"2016-02-18T00:00:00\",\"2016-02-17T00:00:00\",\"2016-02-16T00:00:00\",\"2016-02-12T00:00:00\",\"2016-02-11T00:00:00\",\"2016-02-10T00:00:00\",\"2016-02-09T00:00:00\",\"2016-02-08T00:00:00\",\"2016-02-05T00:00:00\",\"2016-02-04T00:00:00\",\"2016-02-03T00:00:00\",\"2016-02-02T00:00:00\",\"2016-02-01T00:00:00\",\"2016-01-29T00:00:00\",\"2016-01-28T00:00:00\",\"2016-01-27T00:00:00\",\"2016-01-26T00:00:00\",\"2016-01-25T00:00:00\",\"2016-01-22T00:00:00\",\"2016-01-21T00:00:00\",\"2016-01-20T00:00:00\",\"2016-01-19T00:00:00\",\"2016-01-15T00:00:00\",\"2016-01-14T00:00:00\",\"2016-01-13T00:00:00\",\"2016-01-12T00:00:00\",\"2016-01-11T00:00:00\",\"2016-01-08T00:00:00\",\"2016-01-07T00:00:00\",\"2016-01-06T00:00:00\",\"2016-01-05T00:00:00\",\"2016-01-04T00:00:00\",\"2015-12-31T00:00:00\",\"2015-12-30T00:00:00\",\"2015-12-29T00:00:00\",\"2015-12-28T00:00:00\",\"2015-12-24T00:00:00\",\"2015-12-23T00:00:00\",\"2015-12-22T00:00:00\",\"2015-12-21T00:00:00\",\"2015-12-18T00:00:00\",\"2015-12-17T00:00:00\",\"2015-12-16T00:00:00\",\"2015-12-15T00:00:00\",\"2015-12-14T00:00:00\",\"2015-12-11T00:00:00\",\"2015-12-10T00:00:00\",\"2015-12-09T00:00:00\",\"2015-12-08T00:00:00\",\"2015-12-07T00:00:00\",\"2015-12-04T00:00:00\",\"2015-12-03T00:00:00\",\"2015-12-02T00:00:00\",\"2015-12-01T00:00:00\",\"2015-11-30T00:00:00\",\"2015-11-27T00:00:00\",\"2015-11-25T00:00:00\",\"2015-11-24T00:00:00\",\"2015-11-23T00:00:00\",\"2015-11-20T00:00:00\",\"2015-11-19T00:00:00\",\"2015-11-18T00:00:00\",\"2015-11-17T00:00:00\",\"2015-11-16T00:00:00\",\"2015-11-13T00:00:00\",\"2015-11-12T00:00:00\",\"2015-11-11T00:00:00\",\"2015-11-10T00:00:00\",\"2015-11-09T00:00:00\",\"2015-11-06T00:00:00\",\"2015-11-05T00:00:00\",\"2015-11-04T00:00:00\",\"2015-11-03T00:00:00\",\"2015-11-02T00:00:00\",\"2015-10-30T00:00:00\",\"2015-10-29T00:00:00\",\"2015-10-28T00:00:00\",\"2015-10-27T00:00:00\",\"2015-10-26T00:00:00\",\"2015-10-23T00:00:00\",\"2015-10-22T00:00:00\",\"2015-10-21T00:00:00\",\"2015-10-20T00:00:00\",\"2015-10-19T00:00:00\",\"2015-10-16T00:00:00\",\"2015-10-15T00:00:00\",\"2015-10-14T00:00:00\",\"2015-10-13T00:00:00\",\"2015-10-12T00:00:00\",\"2015-10-09T00:00:00\",\"2015-10-08T00:00:00\",\"2015-10-07T00:00:00\",\"2015-10-06T00:00:00\",\"2015-10-05T00:00:00\",\"2015-10-02T00:00:00\",\"2015-10-01T00:00:00\",\"2015-09-30T00:00:00\",\"2015-09-29T00:00:00\",\"2015-09-28T00:00:00\",\"2015-09-25T00:00:00\",\"2015-09-24T00:00:00\",\"2015-09-23T00:00:00\",\"2015-09-22T00:00:00\",\"2015-09-21T00:00:00\",\"2015-09-18T00:00:00\",\"2015-09-17T00:00:00\",\"2015-09-16T00:00:00\",\"2015-09-15T00:00:00\",\"2015-09-14T00:00:00\",\"2015-09-11T00:00:00\",\"2015-09-10T00:00:00\",\"2015-09-09T00:00:00\",\"2015-09-08T00:00:00\",\"2015-09-04T00:00:00\",\"2015-09-03T00:00:00\",\"2015-09-02T00:00:00\",\"2015-09-01T00:00:00\",\"2015-08-31T00:00:00\",\"2015-08-28T00:00:00\",\"2015-08-27T00:00:00\",\"2015-08-26T00:00:00\",\"2015-08-25T00:00:00\",\"2015-08-24T00:00:00\",\"2015-08-21T00:00:00\",\"2015-08-20T00:00:00\",\"2015-08-19T00:00:00\",\"2015-08-18T00:00:00\",\"2015-08-17T00:00:00\",\"2015-08-14T00:00:00\",\"2015-08-13T00:00:00\",\"2015-08-12T00:00:00\",\"2015-08-11T00:00:00\",\"2015-08-10T00:00:00\",\"2015-08-07T00:00:00\",\"2015-08-06T00:00:00\",\"2015-08-05T00:00:00\",\"2015-08-04T00:00:00\",\"2015-08-03T00:00:00\",\"2015-07-31T00:00:00\",\"2015-07-30T00:00:00\",\"2015-07-29T00:00:00\",\"2015-07-28T00:00:00\",\"2015-07-27T00:00:00\",\"2015-07-24T00:00:00\",\"2015-07-23T00:00:00\",\"2015-07-22T00:00:00\",\"2015-07-21T00:00:00\",\"2015-07-20T00:00:00\",\"2015-07-17T00:00:00\",\"2015-07-16T00:00:00\",\"2015-07-15T00:00:00\",\"2015-07-14T00:00:00\",\"2015-07-13T00:00:00\",\"2015-07-10T00:00:00\",\"2015-07-09T00:00:00\",\"2015-07-08T00:00:00\",\"2015-07-07T00:00:00\",\"2015-07-06T00:00:00\",\"2015-07-02T00:00:00\",\"2015-07-01T00:00:00\",\"2015-06-30T00:00:00\",\"2015-06-29T00:00:00\",\"2015-06-26T00:00:00\",\"2015-06-25T00:00:00\",\"2015-06-24T00:00:00\",\"2015-06-23T00:00:00\",\"2015-06-22T00:00:00\",\"2015-06-19T00:00:00\",\"2015-06-18T00:00:00\",\"2015-06-17T00:00:00\",\"2015-06-16T00:00:00\",\"2015-06-15T00:00:00\",\"2015-06-12T00:00:00\",\"2015-06-11T00:00:00\",\"2015-06-10T00:00:00\",\"2015-06-09T00:00:00\",\"2015-06-08T00:00:00\",\"2015-06-05T00:00:00\",\"2015-06-04T00:00:00\",\"2015-06-03T00:00:00\",\"2015-06-02T00:00:00\",\"2015-06-01T00:00:00\",\"2015-05-29T00:00:00\",\"2015-05-28T00:00:00\",\"2015-05-27T00:00:00\",\"2015-05-26T00:00:00\",\"2015-05-22T00:00:00\",\"2015-05-21T00:00:00\",\"2015-05-20T00:00:00\",\"2015-05-19T00:00:00\",\"2015-05-18T00:00:00\",\"2015-05-15T00:00:00\",\"2015-05-14T00:00:00\",\"2015-05-13T00:00:00\",\"2015-05-12T00:00:00\",\"2015-05-11T00:00:00\",\"2015-05-08T00:00:00\",\"2015-05-07T00:00:00\",\"2015-05-06T00:00:00\",\"2015-05-05T00:00:00\",\"2015-05-04T00:00:00\",\"2015-05-01T00:00:00\",\"2015-04-30T00:00:00\",\"2015-04-29T00:00:00\",\"2015-04-28T00:00:00\",\"2015-04-27T00:00:00\",\"2015-04-24T00:00:00\",\"2015-04-23T00:00:00\",\"2015-04-22T00:00:00\",\"2015-04-21T00:00:00\",\"2015-04-20T00:00:00\",\"2015-04-17T00:00:00\",\"2015-04-16T00:00:00\",\"2015-04-15T00:00:00\",\"2015-04-14T00:00:00\",\"2015-04-13T00:00:00\",\"2015-04-10T00:00:00\",\"2015-04-09T00:00:00\",\"2015-04-08T00:00:00\",\"2015-04-07T00:00:00\",\"2015-04-06T00:00:00\",\"2015-04-02T00:00:00\",\"2015-04-01T00:00:00\",\"2015-03-31T00:00:00\",\"2015-03-30T00:00:00\",\"2015-03-27T00:00:00\",\"2015-03-26T00:00:00\",\"2015-03-25T00:00:00\",\"2015-03-24T00:00:00\",\"2015-03-23T00:00:00\",\"2015-03-20T00:00:00\",\"2015-03-19T00:00:00\",\"2015-03-18T00:00:00\",\"2015-03-17T00:00:00\",\"2015-03-16T00:00:00\",\"2015-03-13T00:00:00\",\"2015-03-12T00:00:00\",\"2015-03-11T00:00:00\",\"2015-03-10T00:00:00\",\"2015-03-09T00:00:00\",\"2015-03-06T00:00:00\",\"2015-03-05T00:00:00\",\"2015-03-04T00:00:00\",\"2015-03-03T00:00:00\",\"2015-03-02T00:00:00\",\"2015-02-27T00:00:00\",\"2015-02-26T00:00:00\",\"2015-02-25T00:00:00\",\"2015-02-24T00:00:00\",\"2015-02-23T00:00:00\",\"2015-02-20T00:00:00\",\"2015-02-19T00:00:00\",\"2015-02-18T00:00:00\",\"2015-02-17T00:00:00\",\"2015-02-13T00:00:00\",\"2015-02-12T00:00:00\",\"2015-02-11T00:00:00\",\"2015-02-10T00:00:00\",\"2015-02-09T00:00:00\",\"2015-02-06T00:00:00\",\"2015-02-05T00:00:00\",\"2015-02-04T00:00:00\",\"2015-02-03T00:00:00\",\"2015-02-02T00:00:00\",\"2015-01-30T00:00:00\",\"2015-01-29T00:00:00\",\"2015-01-28T00:00:00\",\"2015-01-27T00:00:00\",\"2015-01-26T00:00:00\",\"2015-01-23T00:00:00\",\"2015-01-22T00:00:00\",\"2015-01-21T00:00:00\",\"2015-01-20T00:00:00\",\"2015-01-16T00:00:00\",\"2015-01-15T00:00:00\",\"2015-01-14T00:00:00\",\"2015-01-13T00:00:00\",\"2015-01-12T00:00:00\",\"2015-01-09T00:00:00\",\"2015-01-08T00:00:00\",\"2015-01-07T00:00:00\",\"2015-01-06T00:00:00\",\"2015-01-05T00:00:00\",\"2015-01-02T00:00:00\",\"2014-12-31T00:00:00\",\"2014-12-30T00:00:00\",\"2014-12-29T00:00:00\",\"2014-12-26T00:00:00\",\"2014-12-24T00:00:00\",\"2014-12-23T00:00:00\",\"2014-12-22T00:00:00\",\"2014-12-19T00:00:00\",\"2014-12-18T00:00:00\",\"2014-12-17T00:00:00\",\"2014-12-16T00:00:00\",\"2014-12-15T00:00:00\",\"2014-12-12T00:00:00\",\"2014-12-11T00:00:00\",\"2014-12-10T00:00:00\",\"2014-12-09T00:00:00\",\"2014-12-08T00:00:00\",\"2014-12-05T00:00:00\",\"2014-12-04T00:00:00\",\"2014-12-03T00:00:00\",\"2014-12-02T00:00:00\",\"2014-12-01T00:00:00\",\"2014-11-28T00:00:00\",\"2014-11-26T00:00:00\",\"2014-11-25T00:00:00\",\"2014-11-24T00:00:00\",\"2014-11-21T00:00:00\",\"2014-11-20T00:00:00\",\"2014-11-19T00:00:00\",\"2014-11-18T00:00:00\",\"2014-11-17T00:00:00\",\"2014-11-14T00:00:00\",\"2014-11-13T00:00:00\",\"2014-11-12T00:00:00\",\"2014-11-11T00:00:00\",\"2014-11-10T00:00:00\",\"2014-11-07T00:00:00\",\"2014-11-06T00:00:00\",\"2014-11-05T00:00:00\",\"2014-11-04T00:00:00\",\"2014-11-03T00:00:00\",\"2014-10-31T00:00:00\",\"2014-10-30T00:00:00\",\"2014-10-29T00:00:00\",\"2014-10-28T00:00:00\",\"2014-10-27T00:00:00\",\"2014-10-24T00:00:00\",\"2014-10-23T00:00:00\",\"2014-10-22T00:00:00\",\"2014-10-21T00:00:00\",\"2014-10-20T00:00:00\",\"2014-10-17T00:00:00\",\"2014-10-16T00:00:00\",\"2014-10-15T00:00:00\",\"2014-10-14T00:00:00\",\"2014-10-13T00:00:00\",\"2014-10-10T00:00:00\",\"2014-10-09T00:00:00\",\"2014-10-08T00:00:00\",\"2014-10-07T00:00:00\",\"2014-10-06T00:00:00\",\"2014-10-03T00:00:00\",\"2014-10-02T00:00:00\",\"2014-10-01T00:00:00\",\"2014-09-30T00:00:00\",\"2014-09-29T00:00:00\",\"2014-09-26T00:00:00\",\"2014-09-25T00:00:00\",\"2014-09-24T00:00:00\",\"2014-09-23T00:00:00\",\"2014-09-22T00:00:00\",\"2014-09-19T00:00:00\",\"2014-09-18T00:00:00\",\"2014-09-17T00:00:00\",\"2014-09-16T00:00:00\",\"2014-09-15T00:00:00\",\"2014-09-12T00:00:00\",\"2014-09-11T00:00:00\",\"2014-09-10T00:00:00\",\"2014-09-09T00:00:00\",\"2014-09-08T00:00:00\",\"2014-09-05T00:00:00\",\"2014-09-04T00:00:00\",\"2014-09-03T00:00:00\",\"2014-09-02T00:00:00\",\"2014-08-29T00:00:00\",\"2014-08-28T00:00:00\",\"2014-08-27T00:00:00\",\"2014-08-26T00:00:00\",\"2014-08-25T00:00:00\",\"2014-08-22T00:00:00\",\"2014-08-21T00:00:00\",\"2014-08-20T00:00:00\",\"2014-08-19T00:00:00\",\"2014-08-18T00:00:00\",\"2014-08-15T00:00:00\",\"2014-08-14T00:00:00\",\"2014-08-13T00:00:00\",\"2014-08-12T00:00:00\",\"2014-08-11T00:00:00\",\"2014-08-08T00:00:00\",\"2014-08-07T00:00:00\",\"2014-08-06T00:00:00\",\"2014-08-05T00:00:00\",\"2014-08-04T00:00:00\",\"2014-08-01T00:00:00\",\"2014-07-31T00:00:00\",\"2014-07-30T00:00:00\",\"2014-07-29T00:00:00\",\"2014-07-28T00:00:00\",\"2014-07-25T00:00:00\",\"2014-07-24T00:00:00\",\"2014-07-23T00:00:00\",\"2014-07-22T00:00:00\",\"2014-07-21T00:00:00\",\"2014-07-18T00:00:00\",\"2014-07-17T00:00:00\",\"2014-07-16T00:00:00\",\"2014-07-15T00:00:00\",\"2014-07-14T00:00:00\",\"2014-07-11T00:00:00\",\"2014-07-10T00:00:00\",\"2014-07-09T00:00:00\",\"2014-07-08T00:00:00\",\"2014-07-07T00:00:00\",\"2014-07-03T00:00:00\",\"2014-07-02T00:00:00\",\"2014-07-01T00:00:00\",\"2014-06-30T00:00:00\",\"2014-06-27T00:00:00\",\"2014-06-26T00:00:00\",\"2014-06-25T00:00:00\",\"2014-06-24T00:00:00\",\"2014-06-23T00:00:00\",\"2014-06-20T00:00:00\",\"2014-06-19T00:00:00\",\"2014-06-18T00:00:00\",\"2014-06-17T00:00:00\",\"2014-06-16T00:00:00\",\"2014-06-13T00:00:00\",\"2014-06-12T00:00:00\",\"2014-06-11T00:00:00\",\"2014-06-10T00:00:00\",\"2014-06-09T00:00:00\",\"2014-06-06T00:00:00\",\"2014-06-05T00:00:00\",\"2014-06-04T00:00:00\",\"2014-06-03T00:00:00\",\"2014-06-02T00:00:00\",\"2014-05-30T00:00:00\",\"2014-05-29T00:00:00\",\"2014-05-28T00:00:00\",\"2014-05-27T00:00:00\",\"2014-05-23T00:00:00\",\"2014-05-22T00:00:00\",\"2014-05-21T00:00:00\",\"2014-05-20T00:00:00\",\"2014-05-19T00:00:00\",\"2014-05-16T00:00:00\",\"2014-05-15T00:00:00\",\"2014-05-14T00:00:00\",\"2014-05-13T00:00:00\",\"2014-05-12T00:00:00\",\"2014-05-09T00:00:00\",\"2014-05-08T00:00:00\",\"2014-05-07T00:00:00\",\"2014-05-06T00:00:00\",\"2014-05-05T00:00:00\",\"2014-05-02T00:00:00\",\"2014-05-01T00:00:00\",\"2014-04-30T00:00:00\",\"2014-04-29T00:00:00\",\"2014-04-28T00:00:00\",\"2014-04-25T00:00:00\",\"2014-04-24T00:00:00\",\"2014-04-23T00:00:00\",\"2014-04-22T00:00:00\",\"2014-04-21T00:00:00\",\"2014-04-17T00:00:00\",\"2014-04-16T00:00:00\",\"2014-04-15T00:00:00\",\"2014-04-14T00:00:00\",\"2014-04-11T00:00:00\",\"2014-04-10T00:00:00\",\"2014-04-09T00:00:00\",\"2014-04-08T00:00:00\",\"2014-04-07T00:00:00\",\"2014-04-04T00:00:00\",\"2014-04-03T00:00:00\",\"2014-04-02T00:00:00\",\"2014-04-01T00:00:00\",\"2014-03-31T00:00:00\",\"2014-03-28T00:00:00\",\"2014-03-27T00:00:00\"],\"type\":\"candlestick\"}],                        {\"template\":{\"data\":{\"bar\":[{\"error_x\":{\"color\":\"#2a3f5f\"},\"error_y\":{\"color\":\"#2a3f5f\"},\"marker\":{\"line\":{\"color\":\"#E5ECF6\",\"width\":0.5},\"pattern\":{\"fillmode\":\"overlay\",\"size\":10,\"solidity\":0.2}},\"type\":\"bar\"}],\"barpolar\":[{\"marker\":{\"line\":{\"color\":\"#E5ECF6\",\"width\":0.5},\"pattern\":{\"fillmode\":\"overlay\",\"size\":10,\"solidity\":0.2}},\"type\":\"barpolar\"}],\"carpet\":[{\"aaxis\":{\"endlinecolor\":\"#2a3f5f\",\"gridcolor\":\"white\",\"linecolor\":\"white\",\"minorgridcolor\":\"white\",\"startlinecolor\":\"#2a3f5f\"},\"baxis\":{\"endlinecolor\":\"#2a3f5f\",\"gridcolor\":\"white\",\"linecolor\":\"white\",\"minorgridcolor\":\"white\",\"startlinecolor\":\"#2a3f5f\"},\"type\":\"carpet\"}],\"choropleth\":[{\"colorbar\":{\"outlinewidth\":0,\"ticks\":\"\"},\"type\":\"choropleth\"}],\"contour\":[{\"colorbar\":{\"outlinewidth\":0,\"ticks\":\"\"},\"colorscale\":[[0.0,\"#0d0887\"],[0.1111111111111111,\"#46039f\"],[0.2222222222222222,\"#7201a8\"],[0.3333333333333333,\"#9c179e\"],[0.4444444444444444,\"#bd3786\"],[0.5555555555555556,\"#d8576b\"],[0.6666666666666666,\"#ed7953\"],[0.7777777777777778,\"#fb9f3a\"],[0.8888888888888888,\"#fdca26\"],[1.0,\"#f0f921\"]],\"type\":\"contour\"}],\"contourcarpet\":[{\"colorbar\":{\"outlinewidth\":0,\"ticks\":\"\"},\"type\":\"contourcarpet\"}],\"heatmap\":[{\"colorbar\":{\"outlinewidth\":0,\"ticks\":\"\"},\"colorscale\":[[0.0,\"#0d0887\"],[0.1111111111111111,\"#46039f\"],[0.2222222222222222,\"#7201a8\"],[0.3333333333333333,\"#9c179e\"],[0.4444444444444444,\"#bd3786\"],[0.5555555555555556,\"#d8576b\"],[0.6666666666666666,\"#ed7953\"],[0.7777777777777778,\"#fb9f3a\"],[0.8888888888888888,\"#fdca26\"],[1.0,\"#f0f921\"]],\"type\":\"heatmap\"}],\"heatmapgl\":[{\"colorbar\":{\"outlinewidth\":0,\"ticks\":\"\"},\"colorscale\":[[0.0,\"#0d0887\"],[0.1111111111111111,\"#46039f\"],[0.2222222222222222,\"#7201a8\"],[0.3333333333333333,\"#9c179e\"],[0.4444444444444444,\"#bd3786\"],[0.5555555555555556,\"#d8576b\"],[0.6666666666666666,\"#ed7953\"],[0.7777777777777778,\"#fb9f3a\"],[0.8888888888888888,\"#fdca26\"],[1.0,\"#f0f921\"]],\"type\":\"heatmapgl\"}],\"histogram\":[{\"marker\":{\"pattern\":{\"fillmode\":\"overlay\",\"size\":10,\"solidity\":0.2}},\"type\":\"histogram\"}],\"histogram2d\":[{\"colorbar\":{\"outlinewidth\":0,\"ticks\":\"\"},\"colorscale\":[[0.0,\"#0d0887\"],[0.1111111111111111,\"#46039f\"],[0.2222222222222222,\"#7201a8\"],[0.3333333333333333,\"#9c179e\"],[0.4444444444444444,\"#bd3786\"],[0.5555555555555556,\"#d8576b\"],[0.6666666666666666,\"#ed7953\"],[0.7777777777777778,\"#fb9f3a\"],[0.8888888888888888,\"#fdca26\"],[1.0,\"#f0f921\"]],\"type\":\"histogram2d\"}],\"histogram2dcontour\":[{\"colorbar\":{\"outlinewidth\":0,\"ticks\":\"\"},\"colorscale\":[[0.0,\"#0d0887\"],[0.1111111111111111,\"#46039f\"],[0.2222222222222222,\"#7201a8\"],[0.3333333333333333,\"#9c179e\"],[0.4444444444444444,\"#bd3786\"],[0.5555555555555556,\"#d8576b\"],[0.6666666666666666,\"#ed7953\"],[0.7777777777777778,\"#fb9f3a\"],[0.8888888888888888,\"#fdca26\"],[1.0,\"#f0f921\"]],\"type\":\"histogram2dcontour\"}],\"mesh3d\":[{\"colorbar\":{\"outlinewidth\":0,\"ticks\":\"\"},\"type\":\"mesh3d\"}],\"parcoords\":[{\"line\":{\"colorbar\":{\"outlinewidth\":0,\"ticks\":\"\"}},\"type\":\"parcoords\"}],\"pie\":[{\"automargin\":true,\"type\":\"pie\"}],\"scatter\":[{\"marker\":{\"colorbar\":{\"outlinewidth\":0,\"ticks\":\"\"}},\"type\":\"scatter\"}],\"scatter3d\":[{\"line\":{\"colorbar\":{\"outlinewidth\":0,\"ticks\":\"\"}},\"marker\":{\"colorbar\":{\"outlinewidth\":0,\"ticks\":\"\"}},\"type\":\"scatter3d\"}],\"scattercarpet\":[{\"marker\":{\"colorbar\":{\"outlinewidth\":0,\"ticks\":\"\"}},\"type\":\"scattercarpet\"}],\"scattergeo\":[{\"marker\":{\"colorbar\":{\"outlinewidth\":0,\"ticks\":\"\"}},\"type\":\"scattergeo\"}],\"scattergl\":[{\"marker\":{\"colorbar\":{\"outlinewidth\":0,\"ticks\":\"\"}},\"type\":\"scattergl\"}],\"scattermapbox\":[{\"marker\":{\"colorbar\":{\"outlinewidth\":0,\"ticks\":\"\"}},\"type\":\"scattermapbox\"}],\"scatterpolar\":[{\"marker\":{\"colorbar\":{\"outlinewidth\":0,\"ticks\":\"\"}},\"type\":\"scatterpolar\"}],\"scatterpolargl\":[{\"marker\":{\"colorbar\":{\"outlinewidth\":0,\"ticks\":\"\"}},\"type\":\"scatterpolargl\"}],\"scatterternary\":[{\"marker\":{\"colorbar\":{\"outlinewidth\":0,\"ticks\":\"\"}},\"type\":\"scatterternary\"}],\"surface\":[{\"colorbar\":{\"outlinewidth\":0,\"ticks\":\"\"},\"colorscale\":[[0.0,\"#0d0887\"],[0.1111111111111111,\"#46039f\"],[0.2222222222222222,\"#7201a8\"],[0.3333333333333333,\"#9c179e\"],[0.4444444444444444,\"#bd3786\"],[0.5555555555555556,\"#d8576b\"],[0.6666666666666666,\"#ed7953\"],[0.7777777777777778,\"#fb9f3a\"],[0.8888888888888888,\"#fdca26\"],[1.0,\"#f0f921\"]],\"type\":\"surface\"}],\"table\":[{\"cells\":{\"fill\":{\"color\":\"#EBF0F8\"},\"line\":{\"color\":\"white\"}},\"header\":{\"fill\":{\"color\":\"#C8D4E3\"},\"line\":{\"color\":\"white\"}},\"type\":\"table\"}]},\"layout\":{\"annotationdefaults\":{\"arrowcolor\":\"#2a3f5f\",\"arrowhead\":0,\"arrowwidth\":1},\"autotypenumbers\":\"strict\",\"coloraxis\":{\"colorbar\":{\"outlinewidth\":0,\"ticks\":\"\"}},\"colorscale\":{\"diverging\":[[0,\"#8e0152\"],[0.1,\"#c51b7d\"],[0.2,\"#de77ae\"],[0.3,\"#f1b6da\"],[0.4,\"#fde0ef\"],[0.5,\"#f7f7f7\"],[0.6,\"#e6f5d0\"],[0.7,\"#b8e186\"],[0.8,\"#7fbc41\"],[0.9,\"#4d9221\"],[1,\"#276419\"]],\"sequential\":[[0.0,\"#0d0887\"],[0.1111111111111111,\"#46039f\"],[0.2222222222222222,\"#7201a8\"],[0.3333333333333333,\"#9c179e\"],[0.4444444444444444,\"#bd3786\"],[0.5555555555555556,\"#d8576b\"],[0.6666666666666666,\"#ed7953\"],[0.7777777777777778,\"#fb9f3a\"],[0.8888888888888888,\"#fdca26\"],[1.0,\"#f0f921\"]],\"sequentialminus\":[[0.0,\"#0d0887\"],[0.1111111111111111,\"#46039f\"],[0.2222222222222222,\"#7201a8\"],[0.3333333333333333,\"#9c179e\"],[0.4444444444444444,\"#bd3786\"],[0.5555555555555556,\"#d8576b\"],[0.6666666666666666,\"#ed7953\"],[0.7777777777777778,\"#fb9f3a\"],[0.8888888888888888,\"#fdca26\"],[1.0,\"#f0f921\"]]},\"colorway\":[\"#636efa\",\"#EF553B\",\"#00cc96\",\"#ab63fa\",\"#FFA15A\",\"#19d3f3\",\"#FF6692\",\"#B6E880\",\"#FF97FF\",\"#FECB52\"],\"font\":{\"color\":\"#2a3f5f\"},\"geo\":{\"bgcolor\":\"white\",\"lakecolor\":\"white\",\"landcolor\":\"#E5ECF6\",\"showlakes\":true,\"showland\":true,\"subunitcolor\":\"white\"},\"hoverlabel\":{\"align\":\"left\"},\"hovermode\":\"closest\",\"mapbox\":{\"style\":\"light\"},\"paper_bgcolor\":\"white\",\"plot_bgcolor\":\"#E5ECF6\",\"polar\":{\"angularaxis\":{\"gridcolor\":\"white\",\"linecolor\":\"white\",\"ticks\":\"\"},\"bgcolor\":\"#E5ECF6\",\"radialaxis\":{\"gridcolor\":\"white\",\"linecolor\":\"white\",\"ticks\":\"\"}},\"scene\":{\"xaxis\":{\"backgroundcolor\":\"#E5ECF6\",\"gridcolor\":\"white\",\"gridwidth\":2,\"linecolor\":\"white\",\"showbackground\":true,\"ticks\":\"\",\"zerolinecolor\":\"white\"},\"yaxis\":{\"backgroundcolor\":\"#E5ECF6\",\"gridcolor\":\"white\",\"gridwidth\":2,\"linecolor\":\"white\",\"showbackground\":true,\"ticks\":\"\",\"zerolinecolor\":\"white\"},\"zaxis\":{\"backgroundcolor\":\"#E5ECF6\",\"gridcolor\":\"white\",\"gridwidth\":2,\"linecolor\":\"white\",\"showbackground\":true,\"ticks\":\"\",\"zerolinecolor\":\"white\"}},\"shapedefaults\":{\"line\":{\"color\":\"#2a3f5f\"}},\"ternary\":{\"aaxis\":{\"gridcolor\":\"white\",\"linecolor\":\"white\",\"ticks\":\"\"},\"baxis\":{\"gridcolor\":\"white\",\"linecolor\":\"white\",\"ticks\":\"\"},\"bgcolor\":\"#E5ECF6\",\"caxis\":{\"gridcolor\":\"white\",\"linecolor\":\"white\",\"ticks\":\"\"}},\"title\":{\"x\":0.05},\"xaxis\":{\"automargin\":true,\"gridcolor\":\"white\",\"linecolor\":\"white\",\"ticks\":\"\",\"title\":{\"standoff\":15},\"zerolinecolor\":\"white\",\"zerolinewidth\":2},\"yaxis\":{\"automargin\":true,\"gridcolor\":\"white\",\"linecolor\":\"white\",\"ticks\":\"\",\"title\":{\"standoff\":15},\"zerolinecolor\":\"white\",\"zerolinewidth\":2}}},\"title\":{\"text\":\"Candle\\u3000Google Stock\"}},                        {\"responsive\": true}                    ).then(function(){\n",
              "                            \n",
              "var gd = document.getElementById('9fd03179-1494-4cee-ac00-977d60621344');\n",
              "var x = new MutationObserver(function (mutations, observer) {{\n",
              "        var display = window.getComputedStyle(gd).display;\n",
              "        if (!display || display === 'none') {{\n",
              "            console.log([gd, 'removed!']);\n",
              "            Plotly.purge(gd);\n",
              "            observer.disconnect();\n",
              "        }}\n",
              "}});\n",
              "\n",
              "// Listen for the removal of the full notebook cells\n",
              "var notebookContainer = gd.closest('#notebook-container');\n",
              "if (notebookContainer) {{\n",
              "    x.observe(notebookContainer, {childList: true});\n",
              "}}\n",
              "\n",
              "// Listen for the clearing of the current output cell\n",
              "var outputEl = gd.closest('.output');\n",
              "if (outputEl) {{\n",
              "    x.observe(outputEl, {childList: true});\n",
              "}}\n",
              "\n",
              "                        })                };                            </script>        </div>\n",
              "</body>\n",
              "</html>"
            ]
          },
          "metadata": {},
          "output_type": "display_data"
        }
      ],
      "source": [
        "fig = go.Figure(data=[go.Candlestick(x=google_df.index,\n",
        "                open=google_df['Open'],\n",
        "                high=google_df['High'],\n",
        "                low=google_df['Low'],\n",
        "                close=google_df['Close'])])\n",
        "\n",
        "fig.update_layout(\n",
        "    title_text=\"Candle　Google Stock\"\n",
        ")\n"
      ]
    },
    {
      "attachments": {},
      "cell_type": "markdown",
      "metadata": {
        "id": "HIg4p7ItoCNK"
      },
      "source": [
        "さらに、以下のようにrangeselectorに設定することで、1ヶ月前、6ヶ月前、1年前にグラフを変更することができます。グラフの左上のボタンを押すことで変えることができます。"
      ]
    },
    {
      "cell_type": "code",
      "execution_count": null,
      "metadata": {
        "colab": {
          "base_uri": "https://localhost:8080/",
          "height": 542
        },
        "id": "oqIXhxaSn8AQ",
        "outputId": "c376e222-078d-409f-bca5-c27f38a13af1"
      },
      "outputs": [
        {
          "data": {
            "text/html": [
              "<html>\n",
              "<head><meta charset=\"utf-8\" /></head>\n",
              "<body>\n",
              "    <div>            <script src=\"https://cdnjs.cloudflare.com/ajax/libs/mathjax/2.7.5/MathJax.js?config=TeX-AMS-MML_SVG\"></script><script type=\"text/javascript\">if (window.MathJax) {MathJax.Hub.Config({SVG: {font: \"STIX-Web\"}});}</script>                <script type=\"text/javascript\">window.PlotlyConfig = {MathJaxConfig: 'local'};</script>\n",
              "        <script src=\"https://cdn.plot.ly/plotly-2.6.3.min.js\"></script>                <div id=\"4e0274f0-5797-4195-b615-3a17a744ed08\" class=\"plotly-graph-div\" style=\"height:525px; width:100%;\"></div>            <script type=\"text/javascript\">                                    window.PLOTLYENV=window.PLOTLYENV || {};                                    if (document.getElementById(\"4e0274f0-5797-4195-b615-3a17a744ed08\")) {                    Plotly.newPlot(                        \"4e0274f0-5797-4195-b615-3a17a744ed08\",                        [{\"close\":[1751.88,1739.52,1758.72,1776.09,1738.85,1732.38,1723.5,1739.37,1731.01,1747.9,1763.0,1767.77,1760.06,1781.77,1775.33,1784.13,1818.55,1819.48,1827.99,1826.77,1827.95,1798.1,1760.74,1793.19,1771.43,1768.88,1734.86,1742.19,1763.92,1746.78,1770.15,1781.38,1777.02,1749.84,1752.71,1740.39,1763.0,1761.75,1763.37,1749.13,1650.21,1626.03,1621.01,1567.24,1516.62,1604.26,1590.45,1641.0,1615.33,1593.31,1555.93,1534.61,1573.01,1559.13,1568.08,1571.68,1569.15,1515.22,1485.93,1460.29,1453.44,1486.02,1458.42,1490.09,1469.6,1469.33,1464.52,1444.96,1428.29,1415.21,1465.46,1431.16,1459.99,1495.53,1520.9,1541.44,1519.28,1520.72,1532.02,1556.96,1532.39,1591.04,1641.84,1728.28,1660.71,1634.18,1644.41,1634.33,1652.38,1608.22,1588.2,1580.42,1581.75,1547.53,1558.6,1517.98,1507.73,1518.45,1506.62,1480.32,1496.1,1494.49,1500.1,1473.61,1464.97,1474.45,1482.96,1531.45,1522.02,1500.34,1530.2,1511.87,1515.68,1568.49,1558.42,1565.72,1515.55,1518.0,1513.64,1520.58,1511.34,1541.74,1510.99,1496.0,1485.18,1495.7,1464.7,1438.04,1413.61,1394.97,1359.9,1441.33,1431.97,1464.41,1451.86,1431.72,1435.96,1451.12,1442.72,1419.85,1413.18,1403.84,1465.85,1456.16,1446.61,1438.39,1412.18,1436.38,1439.22,1431.82,1428.92,1416.73,1417.84,1417.02,1410.42,1402.8,1406.72,1373.485,1383.94,1373.19,1356.13,1349.33,1375.74,1403.26,1388.37,1372.56,1347.3,1351.11,1326.8,1320.61,1348.66,1341.48,1233.67,1275.88,1279.31,1276.31,1263.21,1216.34,1266.61,1283.25,1263.47,1262.47,1269.23,1217.56,1211.45,1210.28,1186.51,1186.92,1097.88,1120.84,1105.62,1162.81,1146.82,1110.71,1161.75,1102.49,1134.46,1056.62,1072.32,1115.29,1096.8,1119.8,1084.33,1219.73,1114.91,1215.41,1280.39,1215.56,1298.41,1319.04,1386.52,1341.39,1389.11,1339.33,1318.09,1393.18,1388.45,1421.59,1485.11,1518.15,1526.69,1519.67,1520.74,1514.66,1518.27,1508.79,1508.68,1479.23,1476.23,1448.23,1447.07,1485.94,1434.23,1455.84,1458.63,1452.56,1433.9,1466.71,1486.65,1485.95,1484.4,1480.39,1451.7,1439.2,1430.88,1439.23,1429.73,1419.83,1404.32,1393.34,1394.21,1360.66,1367.37,1337.02,1336.14,1351.89,1360.4,1343.56,1348.84,1349.59,1356.04,1352.62,1355.12,1361.17,1347.83,1350.27,1345.02,1344.66,1343.55,1340.62,1328.13,1320.54,1295.28,1289.92,1304.96,1313.5,1313.55,1306.69,1295.34,1301.35,1303.05,1315.46,1320.7,1334.87,1311.46,1298.0,1298.8,1299.19,1311.37,1308.86,1291.8,1292.03,1291.37,1273.74,1260.11,1261.29,1262.62,1290.0,1265.13,1260.99,1259.13,1242.8,1246.15,1245.49,1253.07,1243.64,1243.01,1217.14,1215.45,1208.67,1202.31,1189.13,1207.68,1209.0,1187.83,1176.63,1205.1,1219.0,1225.09,1241.39,1246.52,1218.76,1234.03,1229.93,1238.71,1232.41,1229.15,1231.3,1239.56,1234.25,1220.17,1206.0,1204.41,1204.93,1211.38,1181.41,1168.39,1188.1,1192.85,1171.02,1167.84,1168.89,1151.29,1189.53,1191.25,1182.69,1198.45,1177.6,1167.26,1164.29,1197.27,1174.71,1188.01,1204.8,1173.99,1169.95,1152.32,1193.99,1209.01,1216.68,1225.14,1239.41,1250.41,1132.12,1137.81,1146.21,1138.07,1130.1,1146.33,1146.35,1153.58,1150.34,1144.9,1144.21,1140.48,1124.83,1116.35,1131.59,1121.58,1111.25,1097.95,1080.91,1076.01,1079.8,1086.35,1115.52,1121.88,1111.42,1102.33,1103.6,1092.5,1085.35,1088.77,1077.03,1078.72,1080.38,1066.04,1044.34,1042.22,1053.05,1036.23,1103.63,1117.95,1116.46,1134.15,1133.47,1140.77,1151.42,1149.63,1138.85,1162.3,1178.98,1164.21,1120.44,1132.03,1164.27,1162.38,1166.27,1174.1,1189.39,1185.4,1162.61,1168.08,1188.48,1287.58,1272.18,1263.45,1256.0,1264.55,1248.84,1236.37,1236.34,1227.13,1221.1,1217.87,1204.62,1202.16,1197.25,1203.84,1207.15,1215.0,1205.92,1200.49,1194.43,1173.31,1168.49,1173.02,1184.62,1193.0,1205.5,1231.54,1223.97,1198.85,1184.26,1184.46,1185.55,1193.32,1193.2,1175.76,1142.32,1143.3,1157.86,1162.03,1147.8,1140.99,1119.92,1116.05,1115.13,1109.4,1110.37,1096.97,1113.8,1118.56,1113.65,1121.67,1120.16,1121.37,1095.01,1095.06,1098.71,1115.23,1145.99,1132.8,1110.75,1116.37,1089.06,1060.62,1070.08,1090.99,1073.9,1075.57,1070.52,1098.26,1089.9,1080.97,1077.15,1044.69,1057.19,1070.33,1074.66,1076.28,1068.39,1070.71,1016.06,1045.85,1035.61,1037.08,1043.88,1039.46,976.22,979.54,1009.41,1023.01,1028.71,1016.53,1042.1,1061.9,1063.68,1051.75,1039.55,1036.58,1068.73,1050.82,1106.43,1094.43,1088.3,1086.23,1044.41,1048.62,1023.88,1037.61,1025.76,1020.0,1061.49,1064.71,1043.66,1036.05,1038.63,1066.15,1082.4,1093.39,1055.81,1040.09,1057.79,1070.0,1076.77,1036.21,1020.08,1071.47,1095.57,1050.71,1103.69,1101.16,1096.46,1087.97,1115.69,1121.28,1092.25,1110.08,1079.32,1081.22,1138.82,1148.97,1157.35,1168.19,1202.95,1200.11,1195.31,1193.47,1194.64,1180.49,1184.65,1173.37,1166.09,1186.87,1171.09,1161.22,1156.05,1172.53,1175.33,1162.82,1177.36,1164.64,1164.83,1171.44,1186.48,1197.0,1218.19,1239.12,1249.3,1231.15,1241.82,1220.65,1205.38,1207.33,1201.62,1207.77,1200.96,1206.49,1214.38,1242.1,1235.01,1237.61,1249.1,1245.61,1242.22,1224.77,1223.71,1226.15,1220.01,1217.26,1219.74,1238.5,1268.33,1263.7,1248.08,1205.5,1184.91,1186.96,1195.88,1198.8,1183.86,1188.82,1183.48,1153.9,1152.84,1154.05,1140.17,1124.27,1102.89,1127.46,1115.65,1114.22,1103.98,1118.46,1124.81,1155.48,1157.66,1169.84,1168.06,1173.46,1152.26,1152.12,1134.79,1139.32,1129.99,1120.87,1123.86,1136.88,1139.66,1139.29,1119.5,1084.99,1067.8,1060.32,1075.66,1079.24,1079.69,1069.73,1079.58,1066.36,1078.59,1081.77,1079.23,1100.2,1098.26,1097.57,1082.76,1053.91,1054.79,1048.21,1023.72,1024.38,1037.31,1017.33,1030.05,1040.04,1021.18,1019.98,1067.45,1072.96,1087.7,1072.08,1074.16,1037.98,1029.27,1032.51,1019.97,1031.64,1015.45,1007.04,1027.81,1025.14,1013.41,1006.47,1031.79,1004.56,1005.1,1053.21,1021.57,1049.08,1090.88,1097.71,1099.82,1135.73,1149.58,1149.49,1138.17,1164.5,1160.04,1126.0,1109.64,1095.06,1090.93,1078.92,1069.52,1104.73,1118.29,1143.75,1126.79,1106.63,1111.34,1102.71,1094.8,1089.52,1069.71,1052.1,1052.48,1037.78,1001.52,1048.58,1080.6,1055.8,1111.9,1167.7,1169.94,1163.69,1175.58,1175.84,1170.37,1164.24,1169.97,1155.81,1137.51,1129.79,1131.98,1121.76,1122.26,1105.52,1102.61,1106.26,1106.94,1102.23,1086.4,1082.48,1064.9,1046.4,1048.14,1049.37,1056.74,1060.12,1063.63,1064.95,1070.68,1077.14,1064.19,1049.15,1040.61,1040.48,1041.1,1036.88,1030.93,1018.38,1005.15,998.68,1010.17,1021.41,1021.66,1047.41,1054.36,1040.61,1035.96,1034.49,1018.38,1019.09,1032.5,1020.91,1026.0,1025.75,1028.07,1031.05,1039.85,1033.33,1025.9,1032.48,1025.58,1025.5,1016.64,1017.11,1019.27,972.56,973.33,970.54,968.45,988.2,984.45,992.81,992.18,992.0,989.68,987.91,989.25,972.6,977.0,978.38,969.96,951.68,957.79,953.27,959.11,949.5,944.49,924.86,920.97,928.53,932.45,931.58,921.81,915.0,920.29,925.11,935.09,932.07,929.08,926.5,936.02,927.81,928.45,937.34,939.33,929.57,921.29,913.81,915.89,921.28,927.0,924.69,906.66,910.67,910.98,926.96,922.22,922.67,914.39,907.24,922.9,926.79,929.36,927.96,923.65,930.39,930.83,930.5,941.53,934.09,947.8,950.7,980.34,972.92,968.15,970.89,965.4,953.42,956.0,947.159,943.83,930.09,928.8,918.59,906.69,911.71,898.11,908.73,917.79,940.49,928.13,952.27,965.59,957.09,959.45,950.63,957.37,939.78,942.31,950.76,953.4,942.9,949.83,983.4,981.08,976.72,983.68,975.6,966.95,964.86,975.88,971.47,969.54,954.96,948.82,941.86,934.01,930.24,919.62,943.0,937.08,932.22,930.6,928.78,932.17,934.3,927.13,931.66,927.04,916.44,912.57,905.96,874.25,871.73,872.3,862.76,843.19,841.65,838.21,836.82,837.17,823.56,824.32,823.35,824.73,824.67,827.88,831.41,834.57,838.55,829.6,831.5,831.41,820.92,819.51,814.43,817.58,829.59,830.46,848.4,852.12,848.78,847.2,845.62,845.54,843.25,838.68,835.37,831.91,827.56,829.08,830.63,835.24,823.21,829.28,828.64,831.33,830.76,831.66,828.07,824.16,818.98,820.39,819.24,813.67,809.56,808.38,806.97,801.34,801.49,798.53,795.695,796.79,802.32,823.31,832.15,835.67,823.87,819.31,805.02,802.175,806.07,804.61,807.88,806.36,807.91,804.8,806.65,806.15,794.03,786.9,786.14,771.82,782.79,785.05,791.55,789.91,791.26,794.58,796.42,794.15,790.8,797.85,797.07,796.1,789.27,789.29,776.4,771.19,759.11,762.52,750.5,747.92,758.04,770.84,768.24,761.68,760.99,768.27,769.2,760.54,771.23,764.48,758.49,736.08,754.02,762.56,785.31,790.51,782.52,762.02,762.13,768.7,783.61,784.54,795.37,795.35,799.07,807.67,813.11,799.38,796.97,801.56,795.26,779.96,778.53,778.19,786.14,783.07,785.94,775.08,776.86,776.47,776.43,772.56,777.29,775.01,781.56,783.01,774.2,786.9,787.21,776.22,771.41,765.7,768.88,772.1,762.49,759.69,769.02,759.66,775.32,780.35,780.08,771.46,768.78,767.12,769.09,772.15,769.54,769.41,769.64,772.08,772.15,775.42,777.5,779.91,777.13,782.44,783.22,784.85,784.68,784.26,781.76,782.01,771.61,773.18,771.06,772.88,768.79,745.91,741.77,738.42,739.77,742.74,738.63,741.19,736.96,733.78,719.71,720.95,716.98,720.64,715.09,705.63,695.36,697.77,694.95,699.21,692.1,684.11,680.04,668.26,675.22,701.87,697.68,695.94,693.71,691.72,710.37,718.92,718.27,718.36,719.39,728.58,728.28,716.65,716.55,722.34,730.4,734.15,735.55,732.66,724.12,725.27,720.09,704.24,709.74,700.32,706.63,706.29,716.49,710.83,713.31,715.29,723.18,712.9,711.12,701.41,695.7,692.36,698.21,693.01,691.02,705.84,708.14,723.15,718.77,759.14,752.67,753.93,766.61,759.0,753.2,751.72,743.09,736.1,739.15,740.28,745.69,737.8,745.29,749.91,744.95,750.53,744.77,733.53,735.3,738.06,740.75,742.09,737.6,737.78,736.09,728.33,730.49,726.82,712.82,705.24,693.97,695.16,710.89,712.42,718.85,718.81,697.77,705.07,705.75,699.56,695.85,706.46,700.91,697.35,708.4,691.0,682.4,683.11,684.12,678.11,682.74,683.57,708.01,726.95,764.65,752.0,742.95,730.96,699.99,713.04,711.67,725.25,706.59,698.45,701.79,694.45,714.72,700.56,726.07,716.03,714.47,726.39,743.62,742.58,741.84,758.88,771.0,776.6,762.51,748.4,750.31,750.0,747.77,739.31,749.43,758.09,743.4,747.77,738.87,749.46,751.61,762.37,763.25,766.81,752.54,762.38,767.04,742.6,750.26,748.15,748.28,755.98,756.6,738.41,740.0,725.3,728.96,717.0,731.23,735.4,728.32,724.89,733.76,731.25,728.11,722.16,721.11,710.81,716.92,712.95,708.49,712.78,702.0,651.79,642.61,650.28,666.1,662.2,661.74,651.16,652.3,646.67,643.61,639.16,642.36,645.44,641.47,626.91,611.29,608.42,594.97,594.89,611.97,625.8,622.36,622.69,635.44,629.25,642.9,635.98,635.14,623.24,625.77,621.35,612.72,614.66,600.7,606.25,614.34,597.79,618.25,630.38,637.61,628.62,582.06,589.61,612.48,646.83,660.9,656.13,660.87,657.12,656.45,659.56,660.78,633.73,635.3,642.68,643.78,629.25,631.21,625.61,632.59,631.93,628.0,627.26,623.56,644.28,662.1,662.3,663.02,672.93,579.85,560.22,561.1,546.55,530.13,520.68,516.83,525.02,522.86,523.4,521.84,520.51,521.52,531.69,535.23,537.84,540.48,538.19,536.69,536.73,529.26,528.15,527.2,532.33,534.61,536.69,526.69,526.83,533.33,536.7,540.31,539.18,533.99,532.11,539.78,539.79,532.32,540.11,542.51,539.27,537.36,532.3,533.85,538.4,529.62,529.04,535.7,538.22,530.7,524.22,530.8,540.78,537.9,537.34,549.08,553.68,555.37,565.06,547.0,539.36,533.97,535.38,524.05,533.8,532.53,530.39,539.17,540.01,540.78,541.61,537.02,536.77,535.53,542.56,548.0,552.03,548.34,555.17,558.78,570.19,558.81,560.36,557.99,559.5,550.84,554.51,547.32,545.38,551.18,555.01,568.85,567.68,575.33,573.37,573.64,571.34,558.4,555.48,543.87,536.09,531.91,538.95,542.87,539.7,542.84,549.01,542.93,535.97,536.94,527.83,531.0,527.58,522.76,529.24,528.48,534.52,510.66,510.0,518.63,535.21,539.95,534.39,518.04,506.9,508.08,501.79,500.87,496.18,492.55,496.17,502.68,501.1,501.96,513.87,524.81,526.4,530.42,530.33,534.03,528.77,530.59,524.87,516.35,511.1,504.89,495.39,513.8,518.66,528.34,526.06,533.37,526.98,525.26,537.31,531.32,533.75,533.8,541.83,540.37,541.08,539.27,537.5,534.83,536.99,535.03,536.51,544.4,545.38,547.31,550.29,547.49,541.01,542.04,545.92,554.11,555.22,559.08,550.31,549.33,548.9,540.77,539.78,543.98,532.71,526.54,520.84,511.17,524.51,530.03,537.94,533.21,544.49,560.88,572.5,563.74,577.35,575.28,570.08,568.27,577.36,576.36,577.1,575.06,587.99,581.13,587.37,596.08,589.27,584.77,579.95,573.1,575.62,581.35,583.1,581.01,589.72,586.08,581.98,577.94,577.33,571.6,569.2,571.0,577.86,580.2,582.56,583.37,584.49,586.86,582.16,573.48,574.65,574.78,562.73,567.88,568.77,563.36,566.37,565.07,573.15,566.07,571.6,587.42,585.61,590.6,589.02,593.35,595.98,594.74,589.47,595.08,573.73,582.66,584.78,584.87,579.18,571.1,576.08,571.09,582.25,584.73,582.34,582.67,575.28,577.24,576.0,578.65,564.62,564.95,556.36,554.9,553.37,543.01,544.28,551.76,551.35,558.84,560.55,562.12,556.33,553.9,544.66,544.94,553.93,559.89,560.08,561.68,565.95,552.7,545.06,538.94,529.77,528.86,520.63,519.98,526.65,533.09,529.92,518.73,511.0,509.96,515.14,527.81,527.93,531.35,526.66,527.7,517.15,516.18,525.16,526.94,534.81,528.62,536.1,556.54,536.44,532.52,530.6,540.95,564.14,554.9,538.15,543.14,569.74,567.0,567.16,556.97,559.99,558.46],\"high\":[1758.93,1765.095,1792.44,1790.7276,1746.0,1747.99,1737.405,1740.85,1755.11,1771.7836,1773.0,1771.42,1797.39,1784.45,1781.31,1834.27,1821.9,1832.37,1833.16,1847.2,1835.65,1824.83,1788.065,1804.0,1778.54,1771.6,1753.9,1774.0,1769.5897,1773.47,1785.0,1799.07,1781.04,1768.27,1764.22,1763.0,1818.06,1772.43,1793.64,1771.365,1661.7,1660.77,1687.0,1593.71,1561.35,1606.845,1638.24,1642.36,1621.99,1618.73,1577.5,1588.15,1581.13,1575.105,1587.6841,1590.0,1593.86,1516.52,1490.0,1468.96,1486.76,1488.21,1483.2,1499.04,1489.75,1476.6632,1476.8,1450.0,1443.7088,1460.96,1469.52,1448.36,1503.0032,1508.2984,1562.0,1559.57,1563.9999,1575.2,1584.0810000000001,1569.0,1563.865,1645.11,1709.7143,1733.1799,1665.73,1647.965,1647.1699,1655.0,1659.22,1611.62,1614.17,1597.72,1585.87,1573.68,1562.47,1525.61,1521.9,1537.25,1512.3859,1510.0,1504.075,1516.845,1502.39,1482.41,1485.56,1490.47,1508.95,1537.87,1531.2522,1526.48,1540.97,1517.6362,1571.87,1570.0,1586.99,1570.29,1523.44,1518.69,1535.33,1522.95,1577.1316,1543.83,1522.72,1505.8799,1516.8,1506.59,1482.95,1443.0,1418.65,1395.6,1433.45,1442.9,1475.42,1475.941,1452.75,1447.8,1451.41,1460.0,1455.02,1424.7999,1437.0,1454.475,1474.259,1468.0,1447.99,1445.05,1438.96,1446.5522,1439.61,1437.96,1432.57,1440.84,1421.74,1441.0,1412.76,1415.49,1410.42,1392.0,1392.325,1374.48,1357.42,1385.4822,1415.0,1416.53,1398.76,1377.6,1371.1199,1373.94,1327.66,1352.0695,1352.82,1359.99,1288.05,1296.15,1280.4,1293.31,1285.6133,1254.27,1281.6,1294.43,1279.0,1280.46,1282.07,1220.51,1225.57,1219.07,1225.0,1194.66,1123.54,1126.86,1129.69,1175.31,1151.63,1150.6702,1169.97,1148.9,1135.0,1071.32,1143.99,1157.9699,1106.5,1130.86,1152.2665,1219.76,1193.87,1260.96,1281.15,1254.7599,1306.22,1358.91,1388.09,1410.15,1390.87,1341.14,1371.7,1415.7,1438.14,1436.97,1512.22,1529.64,1532.11,1531.63,1520.74,1527.18,1520.7,1529.63,1509.5,1485.84,1482.0,1463.84,1469.5,1490.0,1470.13,1457.28,1465.43,1456.0,1438.07,1495.5,1495.52,1503.21,1491.85,1481.3,1451.99,1441.4,1441.8,1440.52,1434.93,1427.33,1411.58,1402.99,1396.5,1372.5,1368.14,1338.0,1353.0,1364.53,1361.33,1350.26,1359.8,1363.64,1358.1,1360.47,1365.0,1364.68,1353.09,1355.78,1351.2,1349.98,1359.45,1344.0,1329.36,1325.8,1298.46,1305.83,1310.21,1318.36,1314.8,1311.31,1308.73,1312.59,1315.0,1327.7,1335.53,1334.88,1317.0,1304.3,1310.0,1306.43,1318.0,1323.74,1293.73,1298.93,1294.13,1274.62,1267.67,1269.36,1281.59,1299.31,1269.6,1264.0,1259.89,1250.6,1254.63,1258.89,1263.33,1254.74,1247.33,1226.33,1228.39,1215.0,1208.35,1206.08,1218.2,1211.44,1189.06,1196.99,1231.23,1226.0,1244.02,1245.0,1248.3,1246.74,1239.09,1243.32,1244.44,1235.61,1235.0,1239.56,1240.88,1241.86,1222.6,1210.0,1220.0,1212.02,1213.04,1183.48,1186.89,1198.5,1196.06,1176.42,1182.4,1169.47,1194.08,1198.01,1199.0,1196.06,1206.99,1182.72,1175.84,1182.3,1204.78,1184.96,1203.88,1205.01,1178.45,1179.96,1175.24,1206.9,1234.11,1234.0,1234.87,1247.37,1265.55,1141.7,1144.0,1146.9,1139.25,1151.14,1147.61,1158.36,1158.58,1150.82,1147.34,1153.07,1142.05,1128.03,1125.98,1132.88,1126.76,1111.77,1107.58,1081.0,1087.1,1092.97,1114.35,1122.0,1124.11,1120.12,1107.0,1116.39,1099.18,1092.69,1094.17,1080.93,1101.99,1092.66,1070.92,1047.49,1053.55,1056.05,1065.5,1109.6,1123.13,1129.1,1151.59,1149.77,1145.97,1158.52,1152.71,1146.8,1180.15,1188.16,1171.33,1140.42,1147.94,1172.6,1169.66,1180.42,1190.44,1190.85,1186.8,1174.19,1188.05,1192.81,1289.27,1273.07,1267.41,1268.01,1269.0,1249.09,1242.0,1240.56,1230.82,1224.2,1218.35,1207.96,1203.79,1202.29,1208.69,1216.22,1215.67,1216.3,1201.35,1196.66,1178.99,1171.57,1187.56,1202.83,1206.4,1230.0,1231.79,1227.14,1200.0,1190.0,1196.57,1197.88,1200.93,1200.0,1176.19,1147.08,1156.76,1167.57,1169.61,1158.28,1142.97,1127.65,1117.98,1119.51,1118.54,1111.24,1111.94,1123.41,1121.89,1131.67,1128.23,1134.73,1125.3,1105.95,1098.91,1104.84,1147.0,1146.85,1132.8,1125.0,1117.33,1091.0,1075.15,1083.0,1094.0,1079.48,1084.93,1091.51,1108.35,1091.8,1092.38,1080.05,1051.53,1063.78,1071.15,1082.63,1084.56,1074.0,1070.84,1056.98,1052.32,1052.7,1055.56,1043.89,1040.0,1003.54,1024.02,1034.22,1062.0,1049.48,1053.15,1062.6,1079.76,1081.65,1060.6,1048.45,1075.26,1071.2,1104.42,1124.65,1095.57,1094.25,1086.84,1057.58,1049.31,1037.59,1048.56,1031.74,1060.79,1067.0,1071.85,1054.56,1056.61,1062.12,1075.56,1093.27,1095.46,1064.35,1058.47,1082.98,1083.98,1091.94,1037.49,1097.04,1106.53,1110.98,1106.12,1107.89,1112.23,1110.36,1121.84,1128.99,1124.22,1113.45,1115.0,1106.4,1132.17,1154.35,1168.0,1173.5,1197.51,1206.41,1209.96,1209.9,1195.41,1202.1,1194.23,1186.88,1178.0,1192.21,1189.89,1173.21,1176.08,1177.24,1180.43,1178.61,1178.61,1178.68,1174.54,1175.26,1186.3,1199.01,1212.99,1238.66,1253.64,1250.66,1242.55,1243.09,1221.65,1221.28,1211.84,1217.26,1211.0,1209.02,1226.0,1235.24,1245.87,1249.27,1245.7,1255.54,1256.5,1251.17,1226.09,1230.0,1229.88,1233.47,1227.59,1234.92,1273.89,1269.77,1265.86,1266.0,1206.49,1196.86,1200.0,1204.5,1203.04,1191.0,1195.42,1184.41,1164.29,1159.59,1154.67,1140.93,1127.5,1135.82,1128.0,1128.23,1122.31,1131.84,1133.21,1143.91,1162.5,1177.3,1186.29,1171.27,1174.31,1153.42,1155.47,1146.5,1139.79,1137.26,1126.67,1135.82,1143.0,1145.74,1141.89,1120.0,1097.19,1069.21,1073.37,1082.56,1080.47,1080.78,1086.59,1088.0,1069.94,1086.87,1089.27,1090.05,1110.75,1101.33,1100.44,1085.44,1060.55,1061.68,1048.51,1029.68,1040.39,1038.47,1037.0,1049.5,1047.98,1032.49,1057.0,1082.72,1092.35,1094.17,1077.43,1077.88,1043.24,1046.42,1040.69,1031.36,1036.28,1039.6,1031.42,1042.79,1028.72,1020.99,1034.8,1043.0,1024.23,1064.84,1055.63,1063.36,1082.9,1106.3,1105.2,1121.99,1155.88,1161.08,1158.59,1176.76,1177.05,1160.8,1127.6,1112.22,1101.85,1097.1,1082.0,1110.12,1127.53,1144.04,1143.96,1127.28,1122.82,1133.97,1113.95,1104.67,1091.48,1071.72,1058.37,1061.5,1043.97,1058.62,1081.78,1081.71,1110.0,1123.07,1174.0,1173.0,1176.52,1186.89,1175.84,1175.94,1179.86,1171.63,1159.88,1137.86,1132.51,1132.6,1139.91,1124.29,1106.5,1104.6,1110.57,1111.27,1104.25,1093.57,1086.29,1066.94,1049.7,1054.75,1058.37,1058.83,1064.2,1069.33,1073.38,1076.84,1078.49,1067.62,1058.5,1046.67,1050.31,1043.8,1042.05,1034.24,1024.97,1020.61,1016.1,1022.49,1028.49,1043.59,1062.38,1055.46,1043.18,1039.71,1035.11,1022.61,1034.42,1035.92,1024.09,1026.81,1031.58,1030.76,1033.99,1043.52,1033.96,1034.87,1032.65,1028.09,1029.67,1024.0,1024.97,1048.39,987.6,976.09,972.23,989.52,991.0,988.88,996.72,996.44,993.9069999999999,997.21,994.12,990.71,981.57,985.425,979.46,970.91,960.39,958.0,962.54,959.7860000000001,950.69,949.9,930.82,926.4,934.73,936.53,933.88,922.42,922.08,926.49,932.77,937.25,933.48,938.38,936.99,936.41,930.915,937.0,942.48,941.98,930.819,923.33,919.245,925.555,930.84,929.93,925.86,913.0,915.275,926.86,932.7,926.55,924.668,917.78,919.26,925.98,935.814,931.7,930.307,932.24,932.6,937.447,943.59,943.83,951.78,955.0,959.7,986.2,973.23,975.9,973.04,968.04,960.74,956.91,954.45,946.3,931.43,930.38,921.54,914.944,914.51,913.94,926.05,931.26,942.75,948.29,973.31,966.0,960.72,960.1,961.62,959.99,942.04,943.3389999999999,961.15,959.98,949.355,984.5,984.57,984.15,988.25,986.91,975.6,971.5,979.27,976.2,974.98,972.6289999999999,955.09,951.467,941.883,937.755,933.17,939.3330000000001,943.11,938.25,933.44,932.53,932.0,937.5,936.925,934.9,935.93,928.1,920.77,915.68,916.85,875.4,876.05,875.0,863.45,843.88,845.2,842.22,838.93,837.75,826.38,826.66,827.427,829.35,828.485,836.39,842.45,835.18,840.85,831.64,833.68,832.765,825.99,821.63,821.93,822.57,835.55,853.5,850.22,853.4,850.85,848.63,847.24,848.685,844.91,842.0,838.15,833.41,828.88,831.36,834.51,836.255,828.54,830.5,829.0,832.46,833.25,833.45,828.07,824.4,823.0,823.0,820.959,815.25,810.66,811.84,810.5,801.67,806.0,802.7,801.19,801.25,815.84,841.95,838.0,835.77,825.9,820.87,806.91,809.48,806.205,807.14,811.2239999999999,807.39,808.15,809.13,809.966,807.9,794.48,791.34,789.63,782.78,785.93,794.23,797.86,792.74,793.32,796.676,798.65,797.66,800.8560000000001,803.0,804.0,804.38,791.25,789.43,778.18,771.36,768.83,763.9,754.0,759.85,772.99,778.5,779.53,765.0,768.283,776.96,769.7,775.0,772.7,766.36,764.416,757.85,760.78,791.17,791.227,795.633,785.19,770.36,769.95,781.65,789.49,796.86,815.49,803.49,806.98,816.68,815.18,799.5,803.97,804.63,801.61,785.85,783.95,781.22,788.13,792.28,789.38,779.66,780.48,782.07,778.71,776.065,780.94,785.8,781.81,785.99,782.74,788.93,789.85,777.16,773.33,774.0,769.75,773.8,767.68,766.22,770.29,773.245,780.35,782.73,782.0,773.92,771.02,769.09,774.466,774.99,776.08,771.89,774.5,776.44,774.54,777.1,782.86,780.81,780.98,787.49,783.395,789.75,786.812,788.94,782.63,783.04,774.07,773.21,775.84,780.43,778.55,748.65,744.46,741.69,742.61,743.24,741.69,742.13,736.99,736.13,725.74,722.21,724.0,722.94,716.51,705.71,698.2,701.68,696.94,700.65,692.32,687.429,680.33,672.3,689.4,701.95,700.86,702.77,702.48,708.82,716.65,722.46,722.47,725.44,725.89,729.54,728.57,721.98,724.91,729.49,733.02,737.21,739.73,733.936,728.33,727.51,720.97,711.4780000000001,714.58,706.0,711.6,721.52,718.48,716.6619999999999,719.25,724.48,723.5,718.71,711.86,702.32,699.75,697.84,700.64,697.62,714.17,708.98,725.7660000000001,723.93,736.12,760.43,758.132,769.9,768.05,761.0,757.31,754.38,743.83,745.0,745.45,747.0,746.24,742.8,752.8,750.34,750.85,757.88,747.25,738.99,737.747,745.72,745.0,742.5,742.0,743.07,737.47,732.29,735.5,726.92,716.44,705.68,703.79,708.091,716.49,719.45,720.0,718.81,710.89,713.43,705.98,700.0,708.4,713.24,703.081,712.35,709.75,698.0,693.75,689.35,701.31,699.9,684.03,703.99,727.0,774.5,789.87,757.86,744.99,733.69,718.235,718.28,729.68,728.13,719.19,706.85,709.98,706.74,721.925,734.74,728.75,718.855,733.23,738.5,747.18,752.0,744.06,769.5,777.6,779.98,762.99,751.35,754.21,754.85,750.0,754.13,762.68,760.59,758.08,748.73,745.71,755.85,764.23,764.8,768.73,768.49,768.99,775.96,768.95,754.93,753.41,752.0,755.28,762.71,757.92,742.0,741.41,731.84,729.49,731.15,737.8,741.0,730.59,734.71,735.41,739.48,733.1,724.65,721.62,718.0,718.26,712.98,713.62,719.15,730.0,657.8,655.87,664.72,666.82,664.97,663.13,659.39,657.81,648.5,645.99,644.45,650.61,649.25,643.01,627.34,612.09,608.76,605.0,614.61,629.77,627.32,628.93,627.55,636.49,640.0,650.9,637.95,638.7,625.86,625.78,624.16,626.52,616.31,603.47,619.71,614.34,612.86,635.8,636.88,643.59,631.71,617.45,614.0,640.05,662.99,667.0,664.0,661.38,659.85,664.5,665.0,674.9,643.44,642.68,645.38,647.86,634.81,633.06,632.91,635.22,633.36,632.83,634.3,648.17,663.63,678.64,673.0,668.88,674.47,580.68,566.5,565.85,547.11,532.56,523.77,522.73,526.18,525.25,524.65,525.69,526.25,528.61,537.76,540.9,540.0,541.5,543.74,538.25,538.15,530.98,529.64,528.3,533.12,538.98,538.36,529.2,534.12,537.2,540.59,543.5,543.0,536.79,538.63,540.61,540.55,539.0,544.19,543.84,542.92,540.66,534.82,539.27,539.0,534.32,533.21,541.98,541.15,533.46,532.38,539.74,544.07,539.54,548.59,553.68,556.02,565.95,571.14,550.96,541.08,539.39,536.09,529.84,535.59,534.73,537.57,544.06,542.29,541.95,543.85,542.69,538.41,540.85,551.14,554.71,553.47,555.28,558.9,572.26,574.59,562.36,561.72,560.8,559.78,553.8,556.85,558.4,556.37,558.14,564.85,570.27,576.68,577.91,577.11,575.39,572.15,564.71,556.14,546.22,536.79,536.44,543.75,543.11,545.49,550.0,549.91,544.82,538.45,537.7,532.0,537.2,528.5,532.67,533.4,533.0,539.87,511.09,522.99,530.7,539.0,542.17,536.33,519.28,512.5,508.19,505.68,503.23,502.98,495.98,504.92,503.48,507.24,516.17,524.33,531.27,532.6,531.15,535.48,534.25,531.76,534.56,526.46,517.72,513.87,507.0,513.05,523.1,528.5,533.92,536.33,534.19,531.0,532.89,537.34,536.0,535.5,541.41,542.0,541.55,543.98,542.7,542.14,535.11,538.24,541.94,543.79,546.68,549.8,550.46,551.94,549.59,546.21,546.89,556.8,555.5,557.9,559.57,552.8,554.19,548.98,544.41,544.88,547.22,539.8,526.79,521.76,530.98,529.43,532.8,547.19,549.5,565.13,571.49,573.88,575.27,581.0,577.22,571.91,577.58,579.85,578.19,579.25,587.98,589.63,586.85,593.95,596.48,589.54,587.52,581.5,574.95,581.64,581.81,583.5,589.0,591.77,586.55,586.0,582.99,577.83,572.04,573.25,578.49,581.8,585.0,585.24,584.5,586.7,587.34,584.51,579.38,577.9,575.0,565.9,570.49,570.25,569.89,570.7,571.98,575.35,575.96,583.65,589.5,589.7,592.5,591.86,599.5,597.85,599.65,594.4,596.8,580.99,588.4,585.8,585.21,580.85,576.59,576.72,579.53,586.43,585.01,585.44,584.4,579.57,579.87,582.45,579.96,572.65,565.0,557.58,555.0,553.56,545.32,549.62,552.3,557.99,559.88,563.6,562.9,558.06,554.95,548.61,552.34,560.9,561.35,564.0,567.84,566.0,553.64,547.6,539.18,536.23,529.78,521.8,525.87,533.0,536.07,530.19,519.9,517.23,516.68,526.81,528.9,534.0,532.93,528.0,529.46,518.6,524.7,531.65,533.87,537.23,536.7,549.5,557.0,538.45,544.1,540.0,565.0,565.37,555.0,548.48,577.77,587.28,604.83,568.45,567.0,566.43,568.0],\"low\":[1735.42,1725.6,1756.09,1746.335,1729.11,1725.04,1712.575,1699.0,1720.22,1738.66,1756.08,1749.95,1757.215,1760.0,1740.32,1767.81,1796.2047,1805.78,1816.99,1822.65,1789.4725,1769.37,1755.0,1772.44,1756.54,1727.69,1717.72,1741.86,1737.005,1746.14,1767.0,1767.69,1744.55,1745.6,1747.365,1717.3,1760.02,1740.35,1750.51,1706.0301,1616.6201,1616.03,1604.46,1522.24,1514.62,1582.78,1576.5,1620.51,1585.0,1571.6301,1525.67,1528.0,1563.0,1545.03,1550.53,1563.2,1532.57,1489.45,1465.09,1436.0,1448.5901,1464.27,1450.92,1479.21,1459.88,1458.805,1449.3012,1413.34,1409.85,1407.7,1434.53,1406.55,1437.13,1470.0001,1519.82,1531.835,1515.74,1497.36,1525.805,1536.0511,1528.01,1547.6125,1615.06,1666.3301,1632.22,1630.31,1630.75,1625.75,1603.6,1582.07,1580.57,1568.005,1538.2,1543.95,1523.71,1507.97,1502.88,1508.005,1485.25,1478.0,1473.08,1481.64,1466.0,1463.46,1458.65,1465.64,1454.03,1492.22,1501.33,1497.66,1515.21,1488.4,1507.3918,1546.1,1554.28,1503.6,1498.42,1486.31,1498.0,1483.5,1505.2427,1496.54,1488.085,1485.63,1483.55,1472.86,1446.42,1409.82,1383.96,1347.01,1351.99,1420.0,1429.75,1445.24,1423.21,1421.3501,1427.01,1431.38,1425.9001,1387.92,1386.02,1402.0,1456.27,1443.21,1422.34,1406.0,1404.73,1429.7772,1418.83,1418.0,1413.35,1396.0,1391.29,1412.13,1391.83,1393.45,1387.25,1373.485,1354.25,1339.0,1323.91,1328.4,1374.77,1377.152,1375.48,1355.27,1347.29,1337.46,1299.0,1311.0,1322.49,1325.34,1232.2,1269.0,1249.45,1265.67,1242.0,1209.71,1261.37,1271.23,1242.62,1240.4,1236.93,1187.5984,1196.7351,1188.16,1182.23,1130.94,1079.81,1096.4,1097.45,1138.14,1096.48,1105.91,1093.53,1086.01,1090.62,1013.5361,1065.49,1060.1075,1037.28,1056.01,1074.44,1117.1432,1113.3,1196.07,1218.77,1200.0,1261.05,1305.1,1343.11,1332.0,1326.82,1271.0,1317.17,1379.0,1382.4,1411.39,1480.44,1506.82,1521.4,1512.59,1507.34,1504.6,1508.11,1505.64,1474.32,1466.35,1449.57,1430.56,1426.3,1458.99,1428.53,1436.4,1446.74,1432.47,1421.2,1465.25,1482.1,1484.93,1471.2,1458.22,1440.92,1430.21,1428.37,1426.02,1418.35,1410.27,1390.84,1390.38,1350.0,1345.54,1341.55,1329.09,1334.02,1349.31,1344.47,1342.78,1346.51,1349.0,1348.99,1351.0,1351.32,1352.67,1343.87,1340.5,1342.67,1336.04,1337.84,1333.44,1316.44,1304.87,1279.0,1281.0,1303.97,1309.63,1305.09,1298.13,1291.41,1293.0,1291.15,1312.8,1317.5,1314.28,1295.65,1293.51,1295.77,1297.41,1304.37,1294.25,1282.5,1291.23,1276.36,1260.5,1250.84,1252.0,1257.21,1272.54,1250.01,1253.72,1242.36,1241.38,1240.6,1241.08,1249.94,1238.45,1220.4,1211.76,1213.74,1197.34,1197.63,1189.01,1203.75,1189.17,1162.43,1171.29,1203.58,1212.3,1214.45,1232.27,1210.09,1210.68,1224.17,1223.08,1232.02,1216.53,1223.69,1225.61,1227.01,1223.02,1202.2,1194.58,1192.62,1202.52,1191.53,1171.0,1163.2,1183.8,1181.12,1157.3,1161.45,1152.96,1147.75,1178.58,1187.43,1182.11,1190.09,1171.81,1162.11,1160.54,1171.46,1167.67,1183.6,1173.02,1149.62,1160.0,1140.14,1188.94,1205.72,1207.76,1223.3,1228.23,1224.0,1120.92,1126.99,1131.8,1124.24,1129.62,1132.73,1145.77,1145.0,1139.4,1138.78,1139.58,1130.97,1107.17,1111.21,1116.14,1113.86,1098.17,1093.7,1073.37,1075.29,1072.24,1083.8,1111.01,1108.08,1104.74,1093.48,1098.99,1086.28,1080.17,1080.15,1067.54,1077.6,1072.32,1048.4,1033.7,1030.49,1033.69,1025.0,1100.18,1112.12,1108.22,1133.12,1131.66,1129.22,1145.89,1137.94,1131.44,1160.01,1162.84,1116.67,1119.55,1122.11,1142.5,1150.85,1165.74,1161.04,1166.26,1169.0,1155.0,1167.18,1175.0,1266.29,1260.32,1252.03,1255.0,1246.38,1228.31,1234.61,1227.82,1220.12,1209.11,1208.11,1200.13,1196.44,1193.08,1199.86,1205.03,1204.13,1200.5,1185.71,1182.0,1162.88,1159.43,1159.37,1176.72,1187.04,1202.83,1213.15,1196.17,1185.87,1177.42,1182.61,1184.48,1191.94,1178.26,1144.45,1123.3,1134.91,1155.49,1146.2,1130.69,1124.75,1111.01,1101.0,1099.92,1107.27,1095.6,1092.52,1105.28,1110.0,1110.65,1110.45,1118.5,1105.85,1092.86,1086.55,1086.0,1112.77,1117.25,1109.02,1104.89,1095.41,1066.85,1055.86,1063.8,1081.82,1060.7,1059.75,1063.47,1090.9,1073.5,1079.34,1047.34,1041.26,1048.48,1057.71,1066.4,1060.53,1054.76,1027.42,1014.07,1015.71,1023.59,1033.1,997.0,983.0,970.11,973.69,996.36,1008.05,1021.44,1007.9,1040.79,1053.93,1062.79,1039.84,1023.29,1028.5,1030.77,1049.98,1103.66,1077.88,1076.0,1035.76,1038.49,1033.91,1022.4,1033.47,996.02,1016.26,1048.98,1031.78,1031.0,1031.15,1031.0,1053.11,1072.2,1065.9,1038.07,1021.24,1054.61,1062.46,1057.0,1000.75,995.83,1034.09,1069.55,1048.74,1070.0,1091.0,1087.75,1077.09,1102.19,1102.5,1089.0,1086.4,1068.27,1081.13,1137.57,1127.36,1145.12,1155.58,1193.83,1186.63,1190.3,1184.5,1183.63,1174.77,1168.0,1146.91,1166.04,1173.36,1154.58,1157.09,1154.03,1168.33,1162.85,1158.36,1156.24,1160.11,1157.22,1152.0,1162.0,1192.5,1211.29,1232.59,1236.36,1228.69,1225.72,1206.36,1204.24,1199.0,1200.35,1194.63,1188.24,1202.55,1209.51,1225.11,1233.64,1232.0,1246.01,1238.01,1236.17,1215.8,1215.06,1204.79,1210.21,1205.6,1211.47,1231.0,1249.02,1239.13,1235.56,1181.0,1184.22,1183.32,1190.34,1170.6,1179.28,1180.0,1155.94,1141.0,1149.59,1143.42,1120.74,1108.48,1100.02,1093.8,1115.0,1096.01,1103.62,1116.66,1112.78,1147.26,1152.23,1169.16,1154.01,1143.59,1143.49,1140.64,1133.38,1130.74,1118.6,1112.15,1116.52,1125.74,1133.19,1122.01,1098.5,1067.56,1056.83,1055.22,1073.78,1066.15,1061.71,1066.69,1073.65,1060.68,1073.5,1076.26,1073.47,1099.11,1090.91,1085.64,1056.37,1047.15,1047.1,1016.9,1006.29,1022.87,1008.21,1016.85,1025.59,1018.19,1015.31,1010.59,1060.7,1069.57,1068.18,1066.23,1048.26,1026.74,1022.98,1021.43,1015.87,1011.34,1014.08,1003.03,1020.13,993.0,994.07,990.37,1002.9,980.64,996.92,1008.4,1021.22,1045.91,1085.15,1083.46,1089.01,1131.96,1134.54,1141.44,1133.33,1157.42,1132.46,1112.8,1085.48,1089.78,1069.0,1048.12,1067.0,1103.24,1118.0,1126.7,1104.71,1102.59,1106.33,1088.52,1088.31,1064.34,1046.75,1044.09,1040.93,992.56,1000.66,1048.26,1023.1367,1052.03,1107.28,1157.52,1159.13,1163.52,1171.98,1158.11,1162.76,1161.05,1158.75,1135.11,1128.3,1117.5,1117.01,1117.83,1101.15,1099.59,1096.11,1101.23,1101.62,1092.0,1084.0,1063.21,1045.23,1044.9,1044.77,1048.05,1050.2,1059.44,1061.79,1061.52,1063.55,1062.0,1049.5,1043.11,1038.38,1033.69,1032.05,1032.52,1018.07,1001.14,988.28,995.57,1002.02,1015.0,1015.65,1040.0,1038.44,1035.0,1031.43,1022.66,1017.5,1017.75,1022.52,1015.42,1014.15,1022.57,1025.28,1019.67,1028.45,1027.12,1025.0,1020.31,1013.01,1016.95,1010.42,1007.5,1008.25,972.2,960.52,961.0,966.12,984.58,978.39,986.975,988.59,984.0,989.0,985.0,972.25,966.08,976.11,963.36,955.18,950.69,949.14,947.84,951.51,940.55,927.74,921.14,909.7,926.48,923.83,922.0,912.55,910.6,916.36,924.0,929.86,923.8610000000001,926.92,924.88,923.62,919.27,921.96,935.15,931.76,919.65,905.0,911.87,915.5,915.5,919.36,911.475,903.4,907.154,910.98,923.445,919.82,918.19,905.58,906.13,917.25,925.61,926.5,923.03,922.24,916.68,929.26,926.04,927.5,920.0,942.279,945.4,970.77,960.15,961.51,964.03,950.6,949.2410000000001,948.005,943.01,934.47,922.0,919.59,908.85,899.7,898.5,894.79,908.31,910.62,916.0,926.85,950.79,954.2,954.55,950.76,950.01,949.05,931.595,924.44,942.25,944.09,915.2330000000001,935.63,977.2,975.77,975.14,975.1,966.0,960.01,960.18,969.49,965.03,955.47,949.5,942.575,935.0,931.0,918.75,918.14,937.58,929.34,927.85,923.03,925.16,929.53,925.26,925.2,924.59,912.543,909.453,901.45,905.77,870.38,867.748,862.81,849.86,840.6,839.32,836.29,832.71,824.47,821.44,821.02,817.02,823.77,820.513,826.46,830.72,829.0360000000001,829.22,827.39,829.0,822.38,814.0269999999999,803.37,808.89,812.257,827.18,829.02,845.15,847.11,846.13,840.77,840.8,843.25,839.5,834.21,831.79,826.52,822.4,825.7510000000001,829.64,827.26,820.2,824.0,824.2,822.88,828.64,828.35,821.655,818.98,818.47,816.0,815.49,809.78,804.54,803.19,801.78,795.25,800.37,792.0,791.19,790.52,799.8,820.44,827.01,825.06,817.821,803.74,801.69,801.8,800.99,800.37,806.69,799.17,801.37,803.51,802.83,792.204,785.02,783.16,775.8,770.41,778.92,783.2,787.6569999999999,787.28,788.58,787.1,793.27,786.27,790.36,792.92,794.01,793.34,784.355,779.0210000000001,767.23,755.8,757.34,752.9,743.1,737.025,754.83,768.24,759.8,760.52,755.25,767.0,760.6,760.0,764.23,750.51,746.97,727.54,750.38,752.18,771.67,780.19,772.55,750.561,759.03,763.45,775.54,784.0,793.59,791.5,796.32,805.14,804.82,794.0,796.03,797.635,785.565,777.5,776.0,773.0,782.06,780.58,775.87,770.75,775.54,775.65,772.89,769.5,774.09,774.232,774.97,774.308,773.07,784.15,778.44,768.301,768.53,764.441,764.66,759.96,759.11,755.8,754.0,759.66,773.58,776.2,771.0,768.41,764.3,765.38,766.84,766.615,765.85,763.185,767.07,771.785,770.05,773.13,777.0,773.53,773.444,780.11,780.4,782.97,782.778,780.57,778.091,772.34,768.795,766.82,767.85,761.09,766.77,739.3,737.0,734.27,737.5,736.56,735.831,737.1,729.0,721.19,719.055,718.03,716.85,715.91,707.24,696.435,688.215,689.09,688.88,692.13,683.65,681.41,673.0,663.284,673.45,687.0,693.082,692.01,693.41,688.452,703.26,717.31,713.12,716.51,716.43,722.336,720.58,716.55,714.61,720.56,724.17,730.66,731.26,724.0,720.28,719.705,706.86,704.18,700.52,696.8,700.63,704.11,705.65,709.26,709.0,712.8,715.72,710.0,698.107,695.72,689.01,692.0,691.0,689.0,689.55,692.365,703.0260000000001,715.59,713.61,749.55,750.01,749.33,757.3,752.694,752.705,744.2610000000001,731.01,736.05,735.55,736.28,735.56,735.37,742.43,737.0,740.94,748.74,728.76,732.5,731.0,736.15,737.46,733.5160000000001,731.83,736.0,724.51,724.77,725.15,717.125,703.36,694.0,685.34,686.9,706.02,706.02,712.0,699.77,697.68,700.86,690.585,680.78,693.58,702.51,694.05,696.03,691.38,685.05,678.6,668.868,682.13,668.77,663.06,680.15,701.86,720.5,764.65,743.27,726.8,712.35,694.39,706.48,710.01,720.1210000000001,694.46,673.26,693.41,685.37,689.1,698.61,717.317,703.54,713.0,719.06,728.92,738.64,731.258,758.34,766.9,766.43,749.52,746.62,744.0,745.53,740.0,738.15,749.0,739.43,743.01,724.17,736.75,743.83,737.0,754.2,755.09,750.0,745.63,758.96,746.7,741.27,747.49,746.06,737.63,751.82,743.0,737.43,727.0,723.03,711.33,716.73,728.65,730.23,718.5,719.43,727.01,729.47,721.9,714.72,705.85,710.05,710.01,703.08,704.55,701.26,701.5,644.01,641.73,644.2,659.58,657.2,654.46,648.85,643.15,639.01,635.32,625.56,632.15,636.53,627.0,603.13,599.85,600.73,590.22,589.38,611.0,612.4,620.0,615.43,625.94,627.02,635.02,632.32,623.78,619.43,617.42,611.43,609.6,604.12,595.25,602.82,599.71,594.1,617.68,624.56,622.0,599.05,581.11,565.05,612.33,642.9,654.19,653.46,651.24,652.66,651.66,652.29,654.27,631.25,629.71,632.25,633.16,627.16,625.34,625.5,622.05,622.65,623.31,620.5,622.52,641.0,659.0,654.3,653.01,645.0,565.0,556.79,546.71,532.4,525.55,520.35,516.11,515.18,519.0,521.08,518.23,520.5,520.54,531.35,535.23,535.66,535.25,537.53,533.01,530.79,525.1,525.56,524.0,530.16,533.02,529.35,523.01,526.24,532.52,534.32,537.11,531.33,529.76,531.45,536.25,531.71,529.88,539.51,535.98,532.97,533.04,528.85,530.38,532.41,528.66,525.26,535.4,536.0,521.75,521.09,530.39,535.06,532.1,535.05,546.91,550.37,553.2,557.25,540.23,531.75,533.67,524.5,521.01,529.61,523.22,528.09,537.31,537.31,535.49,538.38,536.0,529.57,533.85,539.5,546.72,548.17,548.13,550.65,558.74,561.21,555.83,559.05,556.15,547.0,548.0,546.0,544.22,545.36,550.68,554.73,563.53,566.76,573.41,568.01,566.52,558.75,552.9,541.5,535.45,528.25,529.41,535.8,538.01,537.51,541.09,543.13,534.67,533.38,526.92,526.02,526.41,522.09,521.27,523.26,518.55,515.52,501.2,510.0,518.19,529.67,533.0,519.7,506.2,506.02,500.0,497.76,493.0,492.39,487.56,494.79,491.0,499.65,501.05,513.06,524.1,525.8,527.13,530.01,527.31,527.02,526.29,516.08,506.91,504.7,496.81,489.0,513.27,518.66,527.1,525.56,520.5,523.79,524.28,528.59,529.26,529.8,531.86,536.6,537.04,538.6,535.62,536.56,531.08,530.08,534.17,534.06,542.15,543.48,545.17,546.3,541.02,538.67,540.97,544.05,549.3,553.23,554.75,543.51,546.98,541.62,537.03,535.79,535.85,528.8,519.11,508.1,508.53,515.0,518.3,533.17,533.1,544.05,559.06,557.49,563.74,574.44,572.5,563.32,567.01,572.85,571.17,574.66,574.18,580.52,581.0,583.46,589.5,585.0,578.78,572.66,568.21,574.46,576.26,576.94,580.0,586.3,581.95,579.22,575.0,571.19,567.07,567.1,570.1,576.58,579.0,580.64,581.14,582.57,584.0,576.0,570.52,570.88,565.75,560.88,566.0,560.35,561.1,560.0,562.61,564.1,562.85,570.0,584.0,583.52,584.75,587.03,591.77,592.5,590.6,585.23,582.0,568.61,582.2,576.56,578.03,571.42,565.01,569.38,566.14,579.59,580.92,580.39,576.65,574.75,573.8,571.85,565.22,561.01,554.25,550.39,548.51,544.0,539.33,541.52,545.56,548.46,555.02,557.9,556.04,548.93,544.45,538.75,542.55,545.73,555.91,558.71,561.0,554.35,543.7,540.78,531.91,526.3,517.58,515.44,517.42,525.29,529.51,519.01,504.2,506.45,503.3,515.06,521.32,525.61,523.88,522.52,516.32,502.8,515.42,522.12,526.25,527.51,525.6,531.15,540.0,518.46,529.56,526.53,539.9,552.95,541.61,527.15,543.0,564.13,562.19,558.71,556.93,558.67,552.92],\"open\":[1735.42,1762.01,1787.79,1751.635,1735.0,1728.11,1734.43,1713.51,1754.18,1768.51,1772.88,1764.42,1775.0,1763.06,1769.8,1812.01,1810.1,1819.0,1824.52,1824.01,1798.1,1774.37,1781.1844,1773.09,1772.89,1730.5,1749.6,1765.21,1738.38,1765.23,1776.94,1771.7,1757.63,1747.63,1750.0,1731.09,1790.9,1753.95,1781.0,1710.28,1631.78,1628.16,1672.11,1522.36,1559.74,1595.67,1625.01,1626.07,1593.05,1573.33,1527.05,1580.46,1565.85,1547.15,1578.59,1583.73,1543.0,1494.7,1465.09,1464.29,1475.58,1466.21,1462.03,1484.27,1466.8,1470.39,1474.21,1432.63,1411.03,1458.78,1450.09,1440.06,1498.01,1496.0,1555.54,1536.0,1539.005,1536.0,1560.64,1557.53,1533.51,1624.26,1709.7143,1673.7754,1636.63,1647.89,1633.49,1653.68,1608.0,1582.07,1593.98,1577.03,1543.45,1553.31,1526.18,1514.67,1515.66,1510.34,1485.58,1492.44,1487.18,1500.0,1471.75,1469.3,1476.57,1486.64,1505.01,1497.0,1506.32,1525.18,1515.6,1498.93,1566.97,1560.5,1586.99,1515.26,1521.62,1500.0,1523.13,1490.31,1550.0,1506.15,1506.45,1494.32,1490.0,1480.06,1446.94,1411.1,1390.44,1358.18,1431.39,1429.9,1461.51,1455.64,1429.0,1444.0,1449.16,1447.16,1445.22,1390.8,1428.49,1442.48,1459.54,1445.36,1422.34,1413.17,1430.4,1438.3,1430.55,1418.39,1416.94,1396.86,1417.25,1437.27,1396.71,1408.0,1389.58,1386.9965,1361.75,1350.0,1335.02,1377.05,1407.12,1378.28,1383.13,1365.94,1361.69,1337.92,1308.23,1328.5,1324.88,1341.46,1287.93,1296.0,1261.17,1271.55,1245.54,1247.0,1271.0,1284.85,1274.1,1245.61,1245.09,1209.18,1224.08,1206.5,1221.0,1138.0,1119.015,1098.26,1122.0,1147.3,1125.04,1125.67,1111.8,1126.47,1103.77,1061.32,1135.72,1093.05,1056.51,1093.11,1096.0,1179.0,1126.0,1249.7,1260.0,1205.3,1277.06,1350.2,1359.23,1397.68,1351.61,1277.5,1358.77,1396.14,1433.0,1426.11,1508.03,1522.0,1525.07,1515.0,1515.6,1512.69,1514.48,1511.81,1474.32,1467.3,1450.33,1462.42,1457.07,1459.4,1468.9,1439.96,1458.8,1443.0,1431.0,1493.59,1487.64,1491.0,1479.12,1462.91,1447.44,1430.21,1439.01,1436.13,1427.56,1420.57,1392.08,1397.94,1350.0,1347.86,1341.55,1330.11,1350.0,1362.99,1346.17,1348.5,1355.87,1363.35,1351.82,1356.6,1362.89,1356.5,1347.95,1345.94,1350.84,1341.5,1338.04,1333.44,1328.0,1307.01,1279.57,1301.0,1307.12,1315.0,1309.86,1299.18,1305.62,1301.48,1311.74,1327.7,1332.22,1318.94,1297.5,1294.07,1300.0,1303.18,1305.28,1294.28,1289.46,1292.89,1276.45,1265.0,1261.28,1252.97,1276.23,1275.45,1251.03,1260.9,1242.36,1247.17,1252.26,1253.46,1250.93,1241.17,1220.4,1212.34,1222.21,1198.58,1199.35,1197.59,1204.4,1191.89,1180.0,1196.98,1219.0,1220.97,1243.01,1241.96,1215.82,1240.0,1226.0,1233.12,1232.06,1227.51,1230.4,1229.52,1231.35,1224.3,1203.41,1195.15,1204.44,1208.13,1191.53,1176.71,1177.03,1198.5,1181.12,1161.71,1180.53,1157.26,1181.99,1194.07,1193.15,1195.25,1190.09,1179.01,1164.12,1176.31,1171.46,1179.21,1197.99,1182.83,1156.0,1163.31,1170.04,1200.74,1214.03,1223.0,1225.41,1241.05,1224.04,1137.82,1137.81,1144.0,1133.45,1148.19,1141.74,1150.97,1146.0,1146.86,1143.99,1143.25,1131.22,1111.8,1125.17,1117.8,1117.41,1102.24,1098.0,1076.39,1084.0,1086.5,1112.66,1119.61,1109.24,1119.99,1105.6,1109.69,1086.28,1086.42,1083.64,1078.0,1093.98,1072.98,1050.63,1044.99,1051.54,1042.9,1065.5,1101.29,1115.54,1127.52,1134.0,1147.36,1140.5,1146.75,1148.49,1144.5,1168.47,1164.51,1117.87,1137.21,1141.96,1163.59,1159.03,1172.01,1180.47,1166.26,1173.65,1167.76,1188.05,1185.0,1274.0,1269.0,1264.77,1264.12,1250.69,1235.99,1239.18,1233.0,1225.0,1218.0,1210.0,1203.96,1200.68,1196.0,1207.89,1214.99,1205.94,1207.48,1195.32,1184.1,1174.9,1171.54,1185.5,1198.53,1196.93,1226.32,1216.0,1197.35,1188.81,1183.3,1193.38,1194.51,1200.65,1178.26,1144.45,1126.73,1155.72,1162.49,1150.06,1146.99,1124.9,1111.3,1106.95,1105.75,1116.0,1100.9,1110.84,1119.99,1110.0,1130.08,1118.05,1124.99,1106.8,1096.95,1087.0,1104.16,1139.57,1124.84,1112.66,1112.4,1103.0,1068.43,1072.68,1080.11,1085.0,1076.48,1077.35,1088.0,1100.0,1079.47,1080.0,1050.17,1046.92,1063.18,1067.66,1081.65,1076.11,1071.5,1032.59,1041.0,1016.57,1050.96,1049.62,1017.15,989.01,973.9,1015.3,1018.13,1033.99,1026.09,1037.51,1049.98,1068.07,1068.0,1056.49,1035.05,1060.01,1034.26,1103.12,1123.14,1089.07,1076.08,1048.76,1041.0,1038.35,1030.0,1036.76,1000.0,1057.2,1059.41,1044.71,1050.0,1043.29,1061.39,1073.99,1091.38,1069.0,1039.48,1055.0,1073.73,1075.8,1059.81,1008.46,1082.47,1037.03,1071.79,1104.25,1080.89,1103.06,1093.37,1121.84,1126.46,1104.59,1108.91,1108.0,1072.94,1131.08,1146.15,1150.11,1167.5,1195.33,1205.0,1190.96,1199.89,1191.87,1186.73,1185.15,1176.15,1157.17,1192.0,1179.99,1164.98,1157.09,1170.14,1179.1,1170.74,1172.72,1161.63,1172.19,1158.67,1186.3,1193.8,1204.27,1234.98,1244.23,1237.45,1241.29,1227.6,1208.82,1207.14,1200.0,1208.0,1205.02,1202.03,1224.73,1229.26,1235.19,1236.98,1243.0,1249.9,1240.47,1237.0,1225.0,1229.62,1205.9,1228.0,1220.01,1228.01,1271.0,1251.0,1239.13,1262.59,1181.01,1186.96,1191.0,1196.56,1172.22,1189.39,1185.0,1159.89,1144.59,1156.98,1148.48,1123.58,1110.53,1135.82,1099.0,1120.0,1102.09,1121.34,1128.0,1143.6,1159.14,1174.85,1175.31,1158.5,1143.65,1148.86,1143.85,1141.12,1131.07,1118.6,1118.18,1131.32,1142.17,1140.99,1122.33,1099.35,1067.56,1063.03,1064.89,1079.02,1079.0,1065.13,1083.56,1074.06,1061.86,1079.89,1077.31,1090.0,1100.0,1093.6,1086.03,1058.1,1058.54,1049.23,1016.9,1019.0,1028.1,1013.66,1030.01,1046.0,1029.51,1025.52,1052.0,1077.86,1082.0,1069.4,1077.43,1051.37,1037.0,1040.88,1025.04,1019.97,1026.44,1016.8,1020.0,1041.33,993.41,1013.91,1022.82,1011.63,998.0,1063.0,1046.0,1047.03,1081.88,1092.74,1099.0,1120.01,1154.14,1149.96,1145.21,1170.0,1163.85,1136.0,1115.32,1089.19,1099.22,1075.14,1053.08,1107.87,1123.03,1141.24,1127.8,1112.64,1116.19,1106.47,1090.57,1088.41,1079.07,1048.95,1045.0,1048.0,1017.25,1055.41,1081.54,1027.18,1090.6,1122.0,1162.61,1170.57,1167.83,1176.48,1175.08,1172.53,1177.33,1159.85,1137.49,1131.83,1131.41,1126.22,1132.51,1102.41,1106.3,1097.1,1109.4,1102.23,1094.0,1088.0,1064.31,1048.34,1046.72,1051.6,1057.39,1058.07,1061.11,1064.95,1071.78,1075.2,1066.08,1054.61,1045.0,1046.12,1039.63,1035.5,1037.49,1020.43,1001.5,995.94,1012.66,1015.8,1022.37,1042.68,1055.09,1040.0,1035.87,1035.0,1023.31,1020.26,1034.01,1022.52,1019.21,1022.59,1023.42,1026.46,1033.99,1030.52,1027.27,1028.99,1022.11,1021.76,1017.21,1015.22,1014.0,1009.11,980.0,968.37,970.0,989.52,989.44,986.0,991.77,990.29,992.1,992.0,987.45,973.72,980.0,980.0,966.7,955.49,957.0,954.0,959.98,952.0,941.36,927.74,923.72,925.45,927.75,933.0,922.98,917.42,920.01,924.66,931.25,930.66,932.59,934.25,936.49,931.73,930.15,933.08,941.13,931.76,920.05,905.1,916.0,923.49,928.66,921.93,912.72,910.0,910.31,925.78,925.29,924.23,922.53,907.97,917.55,920.61,927.09,929.06,926.64,930.34,928.61,932.38,941.89,929.4,951.78,954.68,953.81,972.22,962.25,975.0,967.84,953.0,957.0,952.0,946.29,938.68,929.54,921.77,908.85,904.12,901.76,912.18,926.05,929.92,929.0,942.46,969.9,956.83,958.7,953.64,957.52,949.96,940.0,933.97,959.92,951.91,939.56,984.5,982.35,979.65,983.16,976.55,969.46,968.95,975.02,970.31,969.7,957.33,952.98,947.92,935.0,931.47,921.0,935.67,940.0,932.95,931.53,925.32,931.98,936.95,926.12,933.54,926.07,914.86,909.62,901.94,910.66,873.6,874.23,865.0,851.2,842.88,841.44,839.79,834.22,825.01,822.14,821.93,824.71,825.39,827.96,832.4,835.51,831.36,829.22,828.97,833.5,825.0,820.41,806.95,820.08,821.0,831.91,851.4,850.01,851.61,849.03,847.59,843.64,847.753,843.28,836.0,833.51,827.4,826.95,830.56,833.85,828.85,825.61,824.55,827.73,830.12,828.66,828.66,823.02,819.93,819.36,819.0,816.0,811.7,809.51,807.0,803.99,799.7,802.99,793.8,799.68,796.86,814.66,834.71,837.81,829.62,822.3,807.25,806.91,805.12,805.81,807.08,807.48,807.14,805.0,807.86,806.4,795.26,786.08,788.36,778.81,782.75,783.33,793.7,790.68,790.9,792.36,795.84,796.76,790.22,800.4,797.34,797.4,793.9,785.04,780.0,772.48,761.0,764.73,757.71,744.59,757.44,770.07,771.53,760.0,764.26,767.73,772.63,762.61,771.37,766.92,755.2,746.97,755.6,756.54,791.17,779.94,783.4,774.5,750.66,767.25,778.2,782.89,795.47,808.35,801.0,806.34,816.68,804.9,795.0,803.3,798.86,787.85,779.8,781.65,781.22,783.76,786.66,777.71,779.66,779.0,779.31,776.03,774.25,776.33,781.44,777.85,775.5,782.74,786.59,780.0,772.66,769.0,772.42,769.75,762.89,759.61,764.48,755.13,770.1,778.59,780.0,773.45,773.01,769.25,767.01,769.33,768.74,769.0,767.0,770.58,775.48,773.27,775.0,780.01,777.32,780.3,783.75,781.5,785.0,783.75,781.1,782.0,773.78,772.22,767.18,768.69,761.09,772.71,747.04,738.28,739.04,740.67,741.86,740.36,737.33,729.89,722.71,725.73,721.58,723.62,719.12,708.05,699.5,698.08,689.98,696.06,692.2,685.47,683.0,678.97,671.0,675.17,697.45,699.06,698.4,698.77,708.65,714.91,719.0,716.48,716.51,719.47,722.87,723.96,719.84,724.91,729.27,732.5,734.53,731.74,724.01,722.87,720.76,706.86,706.53,701.62,702.36,703.67,715.99,709.13,711.93,717.06,723.41,716.75,712.0,698.38,697.7,690.49,696.87,697.63,690.7,708.26,707.29,725.42,716.1,726.3,755.38,758.0,769.51,760.46,753.98,754.01,749.16,738.0,743.02,743.97,745.37,735.77,738.0,750.06,738.6,749.25,750.1,734.59,736.79,732.01,742.36,737.46,736.5,741.86,736.45,726.37,726.92,726.81,720.0,708.12,698.47,688.59,706.9,714.99,718.68,719.0,703.62,700.32,708.58,700.01,688.92,701.45,707.45,695.03,710.0,699.0,692.98,690.26,675.0,686.86,672.32,667.85,703.87,722.81,770.22,784.5,750.46,731.53,722.22,713.67,713.85,723.58,723.6,702.18,688.61,703.3,692.29,705.38,730.85,721.68,716.61,731.45,730.31,730.0,746.45,743.0,769.5,776.6,766.69,752.92,749.55,753.47,751.65,746.13,746.51,762.42,750.0,753.0,741.79,741.16,752.85,759.17,757.89,767.77,753.1,766.01,768.9,747.11,748.81,748.46,748.14,752.0,757.45,746.53,738.74,727.58,729.29,715.6,729.17,731.0,732.46,724.4,730.2,731.5,729.47,722.0,718.86,711.06,715.73,710.5,707.33,707.38,701.55,727.5,646.7,654.15,664.04,661.18,664.11,654.66,653.21,643.15,642.09,640.0,641.36,649.24,638.84,632.0,607.2,608.37,603.28,597.28,610.34,629.77,616.64,622.05,627.0,634.4,636.79,637.79,635.47,626.7,625.7,619.75,613.1,621.22,612.49,600.0,617.0,605.59,602.36,627.54,632.82,639.4,610.35,614.91,573.0,639.78,655.46,656.6,661.9,656.8,655.01,659.32,663.08,669.2,639.48,640.23,645.0,634.33,628.42,625.34,631.38,630.0,628.8,632.83,621.0,647.0,661.27,660.89,655.21,659.24,649.0,565.12,560.13,546.76,532.88,526.29,523.12,521.05,523.13,519.5,521.08,524.73,526.2,525.41,537.26,539.66,540.0,539.64,539.59,537.21,531.0,529.37,528.4,528.0,531.63,538.42,529.4,527.56,533.31,536.35,537.76,539.91,532.21,535.6,537.04,538.01,532.8,538.12,540.15,538.68,538.49,533.55,532.05,539.18,533.76,530.56,531.47,538.37,536.61,523.99,531.24,538.21,538.53,538.43,547.87,550.02,553.85,563.12,566.1,541.1,534.4,537.51,525.6,527.27,529.9,528.7,536.06,538.41,542.29,541.03,538.74,538.08,532.22,540.85,548.6,550.0,551.62,552.91,557.59,570.5,562.56,560.43,561.65,558.11,552.5,551.71,550.0,553.5,553.63,555.14,563.71,566.86,574.96,575.26,571.87,570.45,560.53,554.24,543.0,535.9,529.7,536.3,543.13,538.04,541.4,546.83,543.35,537.11,535.3,529.3,528.0,528.13,523.79,529.24,528.0,531.46,515.86,511.0,522.78,529.97,538.17,535.59,521.49,507.25,511.0,500.01,504.0,494.65,497.75,494.94,504.76,497.99,507.0,515.0,523.26,529.01,531.25,528.17,532.19,528.77,530.51,527.0,516.68,511.51,512.35,497.0,511.56,522.74,523.51,527.8,532.96,522.65,527.13,531.0,531.16,531.44,533.95,538.9,540.15,541.47,539.0,537.65,541.61,531.25,535.0,537.5,543.58,546.68,549.63,550.38,548.49,541.46,546.21,545.73,556.8,552.72,555.5,559.35,548.95,550.0,543.0,537.03,544.36,539.32,529.89,525.0,509.45,527.25,519.0,530.45,538.9,544.99,558.34,571.17,565.57,574.4,579.0,573.05,567.31,576.01,576.93,571.8,576.06,587.56,581.46,586.85,593.82,591.5,587.3,580.01,572.76,572.94,580.95,580.36,581.5,588.9,586.6,583.98,580.0,580.22,571.85,571.37,569.56,577.27,581.26,584.72,583.59,583.74,585.88,585.0,576.11,577.86,576.18,567.3,564.52,569.99,564.0,568.0,561.78,571.03,569.04,570.4,580.6,586.55,588.75,588.07,590.4,596.45,593.23,590.72,591.75,593.0,579.53,588.0,585.74,582.6,571.91,565.91,571.58,577.66,583.76,583.35,583.35,578.32,578.66,577.18,581.0,565.26,565.19,555.0,556.89,554.24,544.86,544.2,549.26,552.25,557.63,558.0,560.51,556.99,558.06,545.62,541.5,550.65,560.7,560.8,563.47,564.57,556.0,547.26,541.13,532.9,529.74,519.7,521.39,525.7,533.0,530.89,523.51,510.75,508.41,515.79,525.23,524.73,533.76,527.15,527.6,516.91,517.55,522.51,529.97,533.79,528.64,536.1,548.81,543.0,536.82,537.74,532.5,564.99,559.77,543.07,540.74,574.65,569.85,599.99,558.71,566.89,561.2,568.0],\"x\":[\"2020-12-31T00:00:00\",\"2020-12-30T00:00:00\",\"2020-12-29T00:00:00\",\"2020-12-28T00:00:00\",\"2020-12-24T00:00:00\",\"2020-12-23T00:00:00\",\"2020-12-22T00:00:00\",\"2020-12-21T00:00:00\",\"2020-12-18T00:00:00\",\"2020-12-17T00:00:00\",\"2020-12-16T00:00:00\",\"2020-12-15T00:00:00\",\"2020-12-14T00:00:00\",\"2020-12-11T00:00:00\",\"2020-12-10T00:00:00\",\"2020-12-09T00:00:00\",\"2020-12-08T00:00:00\",\"2020-12-07T00:00:00\",\"2020-12-04T00:00:00\",\"2020-12-03T00:00:00\",\"2020-12-02T00:00:00\",\"2020-12-01T00:00:00\",\"2020-11-30T00:00:00\",\"2020-11-27T00:00:00\",\"2020-11-25T00:00:00\",\"2020-11-24T00:00:00\",\"2020-11-23T00:00:00\",\"2020-11-20T00:00:00\",\"2020-11-19T00:00:00\",\"2020-11-18T00:00:00\",\"2020-11-17T00:00:00\",\"2020-11-16T00:00:00\",\"2020-11-13T00:00:00\",\"2020-11-12T00:00:00\",\"2020-11-11T00:00:00\",\"2020-11-10T00:00:00\",\"2020-11-09T00:00:00\",\"2020-11-06T00:00:00\",\"2020-11-05T00:00:00\",\"2020-11-04T00:00:00\",\"2020-11-03T00:00:00\",\"2020-11-02T00:00:00\",\"2020-10-30T00:00:00\",\"2020-10-29T00:00:00\",\"2020-10-28T00:00:00\",\"2020-10-27T00:00:00\",\"2020-10-26T00:00:00\",\"2020-10-23T00:00:00\",\"2020-10-22T00:00:00\",\"2020-10-21T00:00:00\",\"2020-10-20T00:00:00\",\"2020-10-19T00:00:00\",\"2020-10-16T00:00:00\",\"2020-10-15T00:00:00\",\"2020-10-14T00:00:00\",\"2020-10-13T00:00:00\",\"2020-10-12T00:00:00\",\"2020-10-09T00:00:00\",\"2020-10-08T00:00:00\",\"2020-10-07T00:00:00\",\"2020-10-06T00:00:00\",\"2020-10-05T00:00:00\",\"2020-10-02T00:00:00\",\"2020-10-01T00:00:00\",\"2020-09-30T00:00:00\",\"2020-09-29T00:00:00\",\"2020-09-28T00:00:00\",\"2020-09-25T00:00:00\",\"2020-09-24T00:00:00\",\"2020-09-23T00:00:00\",\"2020-09-22T00:00:00\",\"2020-09-21T00:00:00\",\"2020-09-18T00:00:00\",\"2020-09-17T00:00:00\",\"2020-09-16T00:00:00\",\"2020-09-15T00:00:00\",\"2020-09-14T00:00:00\",\"2020-09-11T00:00:00\",\"2020-09-10T00:00:00\",\"2020-09-09T00:00:00\",\"2020-09-08T00:00:00\",\"2020-09-04T00:00:00\",\"2020-09-03T00:00:00\",\"2020-09-02T00:00:00\",\"2020-09-01T00:00:00\",\"2020-08-31T00:00:00\",\"2020-08-28T00:00:00\",\"2020-08-27T00:00:00\",\"2020-08-26T00:00:00\",\"2020-08-25T00:00:00\",\"2020-08-24T00:00:00\",\"2020-08-21T00:00:00\",\"2020-08-20T00:00:00\",\"2020-08-19T00:00:00\",\"2020-08-18T00:00:00\",\"2020-08-17T00:00:00\",\"2020-08-14T00:00:00\",\"2020-08-13T00:00:00\",\"2020-08-12T00:00:00\",\"2020-08-11T00:00:00\",\"2020-08-10T00:00:00\",\"2020-08-07T00:00:00\",\"2020-08-06T00:00:00\",\"2020-08-05T00:00:00\",\"2020-08-04T00:00:00\",\"2020-08-03T00:00:00\",\"2020-07-31T00:00:00\",\"2020-07-30T00:00:00\",\"2020-07-29T00:00:00\",\"2020-07-28T00:00:00\",\"2020-07-27T00:00:00\",\"2020-07-24T00:00:00\",\"2020-07-23T00:00:00\",\"2020-07-22T00:00:00\",\"2020-07-21T00:00:00\",\"2020-07-20T00:00:00\",\"2020-07-17T00:00:00\",\"2020-07-16T00:00:00\",\"2020-07-15T00:00:00\",\"2020-07-14T00:00:00\",\"2020-07-13T00:00:00\",\"2020-07-10T00:00:00\",\"2020-07-09T00:00:00\",\"2020-07-08T00:00:00\",\"2020-07-07T00:00:00\",\"2020-07-06T00:00:00\",\"2020-07-02T00:00:00\",\"2020-07-01T00:00:00\",\"2020-06-30T00:00:00\",\"2020-06-29T00:00:00\",\"2020-06-26T00:00:00\",\"2020-06-25T00:00:00\",\"2020-06-24T00:00:00\",\"2020-06-23T00:00:00\",\"2020-06-22T00:00:00\",\"2020-06-19T00:00:00\",\"2020-06-18T00:00:00\",\"2020-06-17T00:00:00\",\"2020-06-16T00:00:00\",\"2020-06-15T00:00:00\",\"2020-06-12T00:00:00\",\"2020-06-11T00:00:00\",\"2020-06-10T00:00:00\",\"2020-06-09T00:00:00\",\"2020-06-08T00:00:00\",\"2020-06-05T00:00:00\",\"2020-06-04T00:00:00\",\"2020-06-03T00:00:00\",\"2020-06-02T00:00:00\",\"2020-06-01T00:00:00\",\"2020-05-29T00:00:00\",\"2020-05-28T00:00:00\",\"2020-05-27T00:00:00\",\"2020-05-26T00:00:00\",\"2020-05-22T00:00:00\",\"2020-05-21T00:00:00\",\"2020-05-20T00:00:00\",\"2020-05-19T00:00:00\",\"2020-05-18T00:00:00\",\"2020-05-15T00:00:00\",\"2020-05-14T00:00:00\",\"2020-05-13T00:00:00\",\"2020-05-12T00:00:00\",\"2020-05-11T00:00:00\",\"2020-05-08T00:00:00\",\"2020-05-07T00:00:00\",\"2020-05-06T00:00:00\",\"2020-05-05T00:00:00\",\"2020-05-04T00:00:00\",\"2020-05-01T00:00:00\",\"2020-04-30T00:00:00\",\"2020-04-29T00:00:00\",\"2020-04-28T00:00:00\",\"2020-04-27T00:00:00\",\"2020-04-24T00:00:00\",\"2020-04-23T00:00:00\",\"2020-04-22T00:00:00\",\"2020-04-21T00:00:00\",\"2020-04-20T00:00:00\",\"2020-04-17T00:00:00\",\"2020-04-16T00:00:00\",\"2020-04-15T00:00:00\",\"2020-04-14T00:00:00\",\"2020-04-13T00:00:00\",\"2020-04-09T00:00:00\",\"2020-04-08T00:00:00\",\"2020-04-07T00:00:00\",\"2020-04-06T00:00:00\",\"2020-04-03T00:00:00\",\"2020-04-02T00:00:00\",\"2020-04-01T00:00:00\",\"2020-03-31T00:00:00\",\"2020-03-30T00:00:00\",\"2020-03-27T00:00:00\",\"2020-03-26T00:00:00\",\"2020-03-25T00:00:00\",\"2020-03-24T00:00:00\",\"2020-03-23T00:00:00\",\"2020-03-20T00:00:00\",\"2020-03-19T00:00:00\",\"2020-03-18T00:00:00\",\"2020-03-17T00:00:00\",\"2020-03-16T00:00:00\",\"2020-03-13T00:00:00\",\"2020-03-12T00:00:00\",\"2020-03-11T00:00:00\",\"2020-03-10T00:00:00\",\"2020-03-09T00:00:00\",\"2020-03-06T00:00:00\",\"2020-03-05T00:00:00\",\"2020-03-04T00:00:00\",\"2020-03-03T00:00:00\",\"2020-03-02T00:00:00\",\"2020-02-28T00:00:00\",\"2020-02-27T00:00:00\",\"2020-02-26T00:00:00\",\"2020-02-25T00:00:00\",\"2020-02-24T00:00:00\",\"2020-02-21T00:00:00\",\"2020-02-20T00:00:00\",\"2020-02-19T00:00:00\",\"2020-02-18T00:00:00\",\"2020-02-14T00:00:00\",\"2020-02-13T00:00:00\",\"2020-02-12T00:00:00\",\"2020-02-11T00:00:00\",\"2020-02-10T00:00:00\",\"2020-02-07T00:00:00\",\"2020-02-06T00:00:00\",\"2020-02-05T00:00:00\",\"2020-02-04T00:00:00\",\"2020-02-03T00:00:00\",\"2020-01-31T00:00:00\",\"2020-01-30T00:00:00\",\"2020-01-29T00:00:00\",\"2020-01-28T00:00:00\",\"2020-01-27T00:00:00\",\"2020-01-24T00:00:00\",\"2020-01-23T00:00:00\",\"2020-01-22T00:00:00\",\"2020-01-21T00:00:00\",\"2020-01-17T00:00:00\",\"2020-01-16T00:00:00\",\"2020-01-15T00:00:00\",\"2020-01-14T00:00:00\",\"2020-01-13T00:00:00\",\"2020-01-10T00:00:00\",\"2020-01-09T00:00:00\",\"2020-01-08T00:00:00\",\"2020-01-07T00:00:00\",\"2020-01-06T00:00:00\",\"2020-01-03T00:00:00\",\"2020-01-02T00:00:00\",\"2019-12-31T00:00:00\",\"2019-12-30T00:00:00\",\"2019-12-27T00:00:00\",\"2019-12-26T00:00:00\",\"2019-12-24T00:00:00\",\"2019-12-23T00:00:00\",\"2019-12-20T00:00:00\",\"2019-12-19T00:00:00\",\"2019-12-18T00:00:00\",\"2019-12-17T00:00:00\",\"2019-12-16T00:00:00\",\"2019-12-13T00:00:00\",\"2019-12-12T00:00:00\",\"2019-12-11T00:00:00\",\"2019-12-10T00:00:00\",\"2019-12-09T00:00:00\",\"2019-12-06T00:00:00\",\"2019-12-05T00:00:00\",\"2019-12-04T00:00:00\",\"2019-12-03T00:00:00\",\"2019-12-02T00:00:00\",\"2019-11-29T00:00:00\",\"2019-11-27T00:00:00\",\"2019-11-26T00:00:00\",\"2019-11-25T00:00:00\",\"2019-11-22T00:00:00\",\"2019-11-21T00:00:00\",\"2019-11-20T00:00:00\",\"2019-11-19T00:00:00\",\"2019-11-18T00:00:00\",\"2019-11-15T00:00:00\",\"2019-11-14T00:00:00\",\"2019-11-13T00:00:00\",\"2019-11-12T00:00:00\",\"2019-11-11T00:00:00\",\"2019-11-08T00:00:00\",\"2019-11-07T00:00:00\",\"2019-11-06T00:00:00\",\"2019-11-05T00:00:00\",\"2019-11-04T00:00:00\",\"2019-11-01T00:00:00\",\"2019-10-31T00:00:00\",\"2019-10-30T00:00:00\",\"2019-10-29T00:00:00\",\"2019-10-28T00:00:00\",\"2019-10-25T00:00:00\",\"2019-10-24T00:00:00\",\"2019-10-23T00:00:00\",\"2019-10-22T00:00:00\",\"2019-10-21T00:00:00\",\"2019-10-18T00:00:00\",\"2019-10-17T00:00:00\",\"2019-10-16T00:00:00\",\"2019-10-15T00:00:00\",\"2019-10-14T00:00:00\",\"2019-10-11T00:00:00\",\"2019-10-10T00:00:00\",\"2019-10-09T00:00:00\",\"2019-10-08T00:00:00\",\"2019-10-07T00:00:00\",\"2019-10-04T00:00:00\",\"2019-10-03T00:00:00\",\"2019-10-02T00:00:00\",\"2019-10-01T00:00:00\",\"2019-09-30T00:00:00\",\"2019-09-27T00:00:00\",\"2019-09-26T00:00:00\",\"2019-09-25T00:00:00\",\"2019-09-24T00:00:00\",\"2019-09-23T00:00:00\",\"2019-09-20T00:00:00\",\"2019-09-19T00:00:00\",\"2019-09-18T00:00:00\",\"2019-09-17T00:00:00\",\"2019-09-16T00:00:00\",\"2019-09-13T00:00:00\",\"2019-09-12T00:00:00\",\"2019-09-11T00:00:00\",\"2019-09-10T00:00:00\",\"2019-09-09T00:00:00\",\"2019-09-06T00:00:00\",\"2019-09-05T00:00:00\",\"2019-09-04T00:00:00\",\"2019-09-03T00:00:00\",\"2019-08-30T00:00:00\",\"2019-08-29T00:00:00\",\"2019-08-28T00:00:00\",\"2019-08-27T00:00:00\",\"2019-08-26T00:00:00\",\"2019-08-23T00:00:00\",\"2019-08-22T00:00:00\",\"2019-08-21T00:00:00\",\"2019-08-20T00:00:00\",\"2019-08-19T00:00:00\",\"2019-08-16T00:00:00\",\"2019-08-15T00:00:00\",\"2019-08-14T00:00:00\",\"2019-08-13T00:00:00\",\"2019-08-12T00:00:00\",\"2019-08-09T00:00:00\",\"2019-08-08T00:00:00\",\"2019-08-07T00:00:00\",\"2019-08-06T00:00:00\",\"2019-08-05T00:00:00\",\"2019-08-02T00:00:00\",\"2019-08-01T00:00:00\",\"2019-07-31T00:00:00\",\"2019-07-30T00:00:00\",\"2019-07-29T00:00:00\",\"2019-07-26T00:00:00\",\"2019-07-25T00:00:00\",\"2019-07-24T00:00:00\",\"2019-07-23T00:00:00\",\"2019-07-22T00:00:00\",\"2019-07-19T00:00:00\",\"2019-07-18T00:00:00\",\"2019-07-17T00:00:00\",\"2019-07-16T00:00:00\",\"2019-07-15T00:00:00\",\"2019-07-12T00:00:00\",\"2019-07-11T00:00:00\",\"2019-07-10T00:00:00\",\"2019-07-09T00:00:00\",\"2019-07-08T00:00:00\",\"2019-07-05T00:00:00\",\"2019-07-03T00:00:00\",\"2019-07-02T00:00:00\",\"2019-07-01T00:00:00\",\"2019-06-28T00:00:00\",\"2019-06-27T00:00:00\",\"2019-06-26T00:00:00\",\"2019-06-25T00:00:00\",\"2019-06-24T00:00:00\",\"2019-06-21T00:00:00\",\"2019-06-20T00:00:00\",\"2019-06-19T00:00:00\",\"2019-06-18T00:00:00\",\"2019-06-17T00:00:00\",\"2019-06-14T00:00:00\",\"2019-06-13T00:00:00\",\"2019-06-12T00:00:00\",\"2019-06-11T00:00:00\",\"2019-06-10T00:00:00\",\"2019-06-07T00:00:00\",\"2019-06-06T00:00:00\",\"2019-06-05T00:00:00\",\"2019-06-04T00:00:00\",\"2019-06-03T00:00:00\",\"2019-05-31T00:00:00\",\"2019-05-30T00:00:00\",\"2019-05-29T00:00:00\",\"2019-05-28T00:00:00\",\"2019-05-24T00:00:00\",\"2019-05-23T00:00:00\",\"2019-05-22T00:00:00\",\"2019-05-21T00:00:00\",\"2019-05-20T00:00:00\",\"2019-05-17T00:00:00\",\"2019-05-16T00:00:00\",\"2019-05-15T00:00:00\",\"2019-05-14T00:00:00\",\"2019-05-13T00:00:00\",\"2019-05-10T00:00:00\",\"2019-05-09T00:00:00\",\"2019-05-08T00:00:00\",\"2019-05-07T00:00:00\",\"2019-05-06T00:00:00\",\"2019-05-03T00:00:00\",\"2019-05-02T00:00:00\",\"2019-05-01T00:00:00\",\"2019-04-30T00:00:00\",\"2019-04-29T00:00:00\",\"2019-04-26T00:00:00\",\"2019-04-25T00:00:00\",\"2019-04-24T00:00:00\",\"2019-04-23T00:00:00\",\"2019-04-22T00:00:00\",\"2019-04-18T00:00:00\",\"2019-04-17T00:00:00\",\"2019-04-16T00:00:00\",\"2019-04-15T00:00:00\",\"2019-04-12T00:00:00\",\"2019-04-11T00:00:00\",\"2019-04-10T00:00:00\",\"2019-04-09T00:00:00\",\"2019-04-08T00:00:00\",\"2019-04-05T00:00:00\",\"2019-04-04T00:00:00\",\"2019-04-03T00:00:00\",\"2019-04-02T00:00:00\",\"2019-04-01T00:00:00\",\"2019-03-29T00:00:00\",\"2019-03-28T00:00:00\",\"2019-03-27T00:00:00\",\"2019-03-26T00:00:00\",\"2019-03-25T00:00:00\",\"2019-03-22T00:00:00\",\"2019-03-21T00:00:00\",\"2019-03-20T00:00:00\",\"2019-03-19T00:00:00\",\"2019-03-18T00:00:00\",\"2019-03-15T00:00:00\",\"2019-03-14T00:00:00\",\"2019-03-13T00:00:00\",\"2019-03-12T00:00:00\",\"2019-03-11T00:00:00\",\"2019-03-08T00:00:00\",\"2019-03-07T00:00:00\",\"2019-03-06T00:00:00\",\"2019-03-05T00:00:00\",\"2019-03-04T00:00:00\",\"2019-03-01T00:00:00\",\"2019-02-28T00:00:00\",\"2019-02-27T00:00:00\",\"2019-02-26T00:00:00\",\"2019-02-25T00:00:00\",\"2019-02-22T00:00:00\",\"2019-02-21T00:00:00\",\"2019-02-20T00:00:00\",\"2019-02-19T00:00:00\",\"2019-02-15T00:00:00\",\"2019-02-14T00:00:00\",\"2019-02-13T00:00:00\",\"2019-02-12T00:00:00\",\"2019-02-11T00:00:00\",\"2019-02-08T00:00:00\",\"2019-02-07T00:00:00\",\"2019-02-06T00:00:00\",\"2019-02-05T00:00:00\",\"2019-02-04T00:00:00\",\"2019-02-01T00:00:00\",\"2019-01-31T00:00:00\",\"2019-01-30T00:00:00\",\"2019-01-29T00:00:00\",\"2019-01-28T00:00:00\",\"2019-01-25T00:00:00\",\"2019-01-24T00:00:00\",\"2019-01-23T00:00:00\",\"2019-01-22T00:00:00\",\"2019-01-18T00:00:00\",\"2019-01-17T00:00:00\",\"2019-01-16T00:00:00\",\"2019-01-15T00:00:00\",\"2019-01-14T00:00:00\",\"2019-01-11T00:00:00\",\"2019-01-10T00:00:00\",\"2019-01-09T00:00:00\",\"2019-01-08T00:00:00\",\"2019-01-07T00:00:00\",\"2019-01-04T00:00:00\",\"2019-01-03T00:00:00\",\"2019-01-02T00:00:00\",\"2018-12-31T00:00:00\",\"2018-12-28T00:00:00\",\"2018-12-27T00:00:00\",\"2018-12-26T00:00:00\",\"2018-12-24T00:00:00\",\"2018-12-21T00:00:00\",\"2018-12-20T00:00:00\",\"2018-12-19T00:00:00\",\"2018-12-18T00:00:00\",\"2018-12-17T00:00:00\",\"2018-12-14T00:00:00\",\"2018-12-13T00:00:00\",\"2018-12-12T00:00:00\",\"2018-12-11T00:00:00\",\"2018-12-10T00:00:00\",\"2018-12-07T00:00:00\",\"2018-12-06T00:00:00\",\"2018-12-04T00:00:00\",\"2018-12-03T00:00:00\",\"2018-11-30T00:00:00\",\"2018-11-29T00:00:00\",\"2018-11-28T00:00:00\",\"2018-11-27T00:00:00\",\"2018-11-26T00:00:00\",\"2018-11-23T00:00:00\",\"2018-11-21T00:00:00\",\"2018-11-20T00:00:00\",\"2018-11-19T00:00:00\",\"2018-11-16T00:00:00\",\"2018-11-15T00:00:00\",\"2018-11-14T00:00:00\",\"2018-11-13T00:00:00\",\"2018-11-12T00:00:00\",\"2018-11-09T00:00:00\",\"2018-11-08T00:00:00\",\"2018-11-07T00:00:00\",\"2018-11-06T00:00:00\",\"2018-11-05T00:00:00\",\"2018-11-02T00:00:00\",\"2018-11-01T00:00:00\",\"2018-10-31T00:00:00\",\"2018-10-30T00:00:00\",\"2018-10-29T00:00:00\",\"2018-10-26T00:00:00\",\"2018-10-25T00:00:00\",\"2018-10-24T00:00:00\",\"2018-10-23T00:00:00\",\"2018-10-22T00:00:00\",\"2018-10-19T00:00:00\",\"2018-10-18T00:00:00\",\"2018-10-17T00:00:00\",\"2018-10-16T00:00:00\",\"2018-10-15T00:00:00\",\"2018-10-12T00:00:00\",\"2018-10-11T00:00:00\",\"2018-10-10T00:00:00\",\"2018-10-09T00:00:00\",\"2018-10-08T00:00:00\",\"2018-10-05T00:00:00\",\"2018-10-04T00:00:00\",\"2018-10-03T00:00:00\",\"2018-10-02T00:00:00\",\"2018-10-01T00:00:00\",\"2018-09-28T00:00:00\",\"2018-09-27T00:00:00\",\"2018-09-26T00:00:00\",\"2018-09-25T00:00:00\",\"2018-09-24T00:00:00\",\"2018-09-21T00:00:00\",\"2018-09-20T00:00:00\",\"2018-09-19T00:00:00\",\"2018-09-18T00:00:00\",\"2018-09-17T00:00:00\",\"2018-09-14T00:00:00\",\"2018-09-13T00:00:00\",\"2018-09-12T00:00:00\",\"2018-09-11T00:00:00\",\"2018-09-10T00:00:00\",\"2018-09-07T00:00:00\",\"2018-09-06T00:00:00\",\"2018-09-05T00:00:00\",\"2018-09-04T00:00:00\",\"2018-08-31T00:00:00\",\"2018-08-30T00:00:00\",\"2018-08-29T00:00:00\",\"2018-08-28T00:00:00\",\"2018-08-27T00:00:00\",\"2018-08-24T00:00:00\",\"2018-08-23T00:00:00\",\"2018-08-22T00:00:00\",\"2018-08-21T00:00:00\",\"2018-08-20T00:00:00\",\"2018-08-17T00:00:00\",\"2018-08-16T00:00:00\",\"2018-08-15T00:00:00\",\"2018-08-14T00:00:00\",\"2018-08-13T00:00:00\",\"2018-08-10T00:00:00\",\"2018-08-09T00:00:00\",\"2018-08-08T00:00:00\",\"2018-08-07T00:00:00\",\"2018-08-06T00:00:00\",\"2018-08-03T00:00:00\",\"2018-08-02T00:00:00\",\"2018-08-01T00:00:00\",\"2018-07-31T00:00:00\",\"2018-07-30T00:00:00\",\"2018-07-27T00:00:00\",\"2018-07-26T00:00:00\",\"2018-07-25T00:00:00\",\"2018-07-24T00:00:00\",\"2018-07-23T00:00:00\",\"2018-07-20T00:00:00\",\"2018-07-19T00:00:00\",\"2018-07-18T00:00:00\",\"2018-07-17T00:00:00\",\"2018-07-16T00:00:00\",\"2018-07-13T00:00:00\",\"2018-07-12T00:00:00\",\"2018-07-11T00:00:00\",\"2018-07-10T00:00:00\",\"2018-07-09T00:00:00\",\"2018-07-06T00:00:00\",\"2018-07-05T00:00:00\",\"2018-07-03T00:00:00\",\"2018-07-02T00:00:00\",\"2018-06-29T00:00:00\",\"2018-06-28T00:00:00\",\"2018-06-27T00:00:00\",\"2018-06-26T00:00:00\",\"2018-06-25T00:00:00\",\"2018-06-22T00:00:00\",\"2018-06-21T00:00:00\",\"2018-06-20T00:00:00\",\"2018-06-19T00:00:00\",\"2018-06-18T00:00:00\",\"2018-06-15T00:00:00\",\"2018-06-14T00:00:00\",\"2018-06-13T00:00:00\",\"2018-06-12T00:00:00\",\"2018-06-11T00:00:00\",\"2018-06-08T00:00:00\",\"2018-06-07T00:00:00\",\"2018-06-06T00:00:00\",\"2018-06-05T00:00:00\",\"2018-06-04T00:00:00\",\"2018-06-01T00:00:00\",\"2018-05-31T00:00:00\",\"2018-05-30T00:00:00\",\"2018-05-29T00:00:00\",\"2018-05-25T00:00:00\",\"2018-05-24T00:00:00\",\"2018-05-23T00:00:00\",\"2018-05-22T00:00:00\",\"2018-05-21T00:00:00\",\"2018-05-18T00:00:00\",\"2018-05-17T00:00:00\",\"2018-05-16T00:00:00\",\"2018-05-15T00:00:00\",\"2018-05-14T00:00:00\",\"2018-05-11T00:00:00\",\"2018-05-10T00:00:00\",\"2018-05-09T00:00:00\",\"2018-05-08T00:00:00\",\"2018-05-07T00:00:00\",\"2018-05-04T00:00:00\",\"2018-05-03T00:00:00\",\"2018-05-02T00:00:00\",\"2018-05-01T00:00:00\",\"2018-04-30T00:00:00\",\"2018-04-27T00:00:00\",\"2018-04-26T00:00:00\",\"2018-04-25T00:00:00\",\"2018-04-24T00:00:00\",\"2018-04-23T00:00:00\",\"2018-04-20T00:00:00\",\"2018-04-19T00:00:00\",\"2018-04-18T00:00:00\",\"2018-04-17T00:00:00\",\"2018-04-16T00:00:00\",\"2018-04-13T00:00:00\",\"2018-04-12T00:00:00\",\"2018-04-11T00:00:00\",\"2018-04-10T00:00:00\",\"2018-04-09T00:00:00\",\"2018-04-06T00:00:00\",\"2018-04-05T00:00:00\",\"2018-04-04T00:00:00\",\"2018-04-03T00:00:00\",\"2018-04-02T00:00:00\",\"2018-03-29T00:00:00\",\"2018-03-28T00:00:00\",\"2018-03-27T00:00:00\",\"2018-03-26T00:00:00\",\"2018-03-23T00:00:00\",\"2018-03-22T00:00:00\",\"2018-03-21T00:00:00\",\"2018-03-20T00:00:00\",\"2018-03-19T00:00:00\",\"2018-03-16T00:00:00\",\"2018-03-15T00:00:00\",\"2018-03-14T00:00:00\",\"2018-03-13T00:00:00\",\"2018-03-12T00:00:00\",\"2018-03-09T00:00:00\",\"2018-03-08T00:00:00\",\"2018-03-07T00:00:00\",\"2018-03-06T00:00:00\",\"2018-03-05T00:00:00\",\"2018-03-02T00:00:00\",\"2018-03-01T00:00:00\",\"2018-02-28T00:00:00\",\"2018-02-27T00:00:00\",\"2018-02-26T00:00:00\",\"2018-02-23T00:00:00\",\"2018-02-22T00:00:00\",\"2018-02-21T00:00:00\",\"2018-02-20T00:00:00\",\"2018-02-16T00:00:00\",\"2018-02-15T00:00:00\",\"2018-02-14T00:00:00\",\"2018-02-13T00:00:00\",\"2018-02-12T00:00:00\",\"2018-02-09T00:00:00\",\"2018-02-08T00:00:00\",\"2018-02-07T00:00:00\",\"2018-02-06T00:00:00\",\"2018-02-05T00:00:00\",\"2018-02-02T00:00:00\",\"2018-02-01T00:00:00\",\"2018-01-31T00:00:00\",\"2018-01-30T00:00:00\",\"2018-01-29T00:00:00\",\"2018-01-26T00:00:00\",\"2018-01-25T00:00:00\",\"2018-01-24T00:00:00\",\"2018-01-23T00:00:00\",\"2018-01-22T00:00:00\",\"2018-01-19T00:00:00\",\"2018-01-18T00:00:00\",\"2018-01-17T00:00:00\",\"2018-01-16T00:00:00\",\"2018-01-12T00:00:00\",\"2018-01-11T00:00:00\",\"2018-01-10T00:00:00\",\"2018-01-09T00:00:00\",\"2018-01-08T00:00:00\",\"2018-01-05T00:00:00\",\"2018-01-04T00:00:00\",\"2018-01-03T00:00:00\",\"2018-01-02T00:00:00\",\"2017-12-29T00:00:00\",\"2017-12-28T00:00:00\",\"2017-12-27T00:00:00\",\"2017-12-26T00:00:00\",\"2017-12-22T00:00:00\",\"2017-12-21T00:00:00\",\"2017-12-20T00:00:00\",\"2017-12-19T00:00:00\",\"2017-12-18T00:00:00\",\"2017-12-15T00:00:00\",\"2017-12-14T00:00:00\",\"2017-12-13T00:00:00\",\"2017-12-12T00:00:00\",\"2017-12-11T00:00:00\",\"2017-12-08T00:00:00\",\"2017-12-07T00:00:00\",\"2017-12-06T00:00:00\",\"2017-12-05T00:00:00\",\"2017-12-04T00:00:00\",\"2017-12-01T00:00:00\",\"2017-11-30T00:00:00\",\"2017-11-29T00:00:00\",\"2017-11-28T00:00:00\",\"2017-11-27T00:00:00\",\"2017-11-24T00:00:00\",\"2017-11-22T00:00:00\",\"2017-11-21T00:00:00\",\"2017-11-20T00:00:00\",\"2017-11-17T00:00:00\",\"2017-11-16T00:00:00\",\"2017-11-15T00:00:00\",\"2017-11-14T00:00:00\",\"2017-11-13T00:00:00\",\"2017-11-10T00:00:00\",\"2017-11-09T00:00:00\",\"2017-11-08T00:00:00\",\"2017-11-07T00:00:00\",\"2017-11-06T00:00:00\",\"2017-11-03T00:00:00\",\"2017-11-02T00:00:00\",\"2017-11-01T00:00:00\",\"2017-10-31T00:00:00\",\"2017-10-30T00:00:00\",\"2017-10-27T00:00:00\",\"2017-10-26T00:00:00\",\"2017-10-25T00:00:00\",\"2017-10-24T00:00:00\",\"2017-10-23T00:00:00\",\"2017-10-20T00:00:00\",\"2017-10-19T00:00:00\",\"2017-10-18T00:00:00\",\"2017-10-17T00:00:00\",\"2017-10-16T00:00:00\",\"2017-10-13T00:00:00\",\"2017-10-12T00:00:00\",\"2017-10-11T00:00:00\",\"2017-10-10T00:00:00\",\"2017-10-09T00:00:00\",\"2017-10-06T00:00:00\",\"2017-10-05T00:00:00\",\"2017-10-04T00:00:00\",\"2017-10-03T00:00:00\",\"2017-10-02T00:00:00\",\"2017-09-29T00:00:00\",\"2017-09-28T00:00:00\",\"2017-09-27T00:00:00\",\"2017-09-26T00:00:00\",\"2017-09-25T00:00:00\",\"2017-09-22T00:00:00\",\"2017-09-21T00:00:00\",\"2017-09-20T00:00:00\",\"2017-09-19T00:00:00\",\"2017-09-18T00:00:00\",\"2017-09-15T00:00:00\",\"2017-09-14T00:00:00\",\"2017-09-13T00:00:00\",\"2017-09-12T00:00:00\",\"2017-09-11T00:00:00\",\"2017-09-08T00:00:00\",\"2017-09-07T00:00:00\",\"2017-09-06T00:00:00\",\"2017-09-05T00:00:00\",\"2017-09-01T00:00:00\",\"2017-08-31T00:00:00\",\"2017-08-30T00:00:00\",\"2017-08-29T00:00:00\",\"2017-08-28T00:00:00\",\"2017-08-25T00:00:00\",\"2017-08-24T00:00:00\",\"2017-08-23T00:00:00\",\"2017-08-22T00:00:00\",\"2017-08-21T00:00:00\",\"2017-08-18T00:00:00\",\"2017-08-17T00:00:00\",\"2017-08-16T00:00:00\",\"2017-08-15T00:00:00\",\"2017-08-14T00:00:00\",\"2017-08-11T00:00:00\",\"2017-08-10T00:00:00\",\"2017-08-09T00:00:00\",\"2017-08-08T00:00:00\",\"2017-08-07T00:00:00\",\"2017-08-04T00:00:00\",\"2017-08-03T00:00:00\",\"2017-08-02T00:00:00\",\"2017-08-01T00:00:00\",\"2017-07-31T00:00:00\",\"2017-07-28T00:00:00\",\"2017-07-27T00:00:00\",\"2017-07-26T00:00:00\",\"2017-07-25T00:00:00\",\"2017-07-24T00:00:00\",\"2017-07-21T00:00:00\",\"2017-07-20T00:00:00\",\"2017-07-19T00:00:00\",\"2017-07-18T00:00:00\",\"2017-07-17T00:00:00\",\"2017-07-14T00:00:00\",\"2017-07-13T00:00:00\",\"2017-07-12T00:00:00\",\"2017-07-11T00:00:00\",\"2017-07-10T00:00:00\",\"2017-07-07T00:00:00\",\"2017-07-06T00:00:00\",\"2017-07-05T00:00:00\",\"2017-07-03T00:00:00\",\"2017-06-30T00:00:00\",\"2017-06-29T00:00:00\",\"2017-06-28T00:00:00\",\"2017-06-27T00:00:00\",\"2017-06-26T00:00:00\",\"2017-06-23T00:00:00\",\"2017-06-22T00:00:00\",\"2017-06-21T00:00:00\",\"2017-06-20T00:00:00\",\"2017-06-19T00:00:00\",\"2017-06-16T00:00:00\",\"2017-06-15T00:00:00\",\"2017-06-14T00:00:00\",\"2017-06-13T00:00:00\",\"2017-06-12T00:00:00\",\"2017-06-09T00:00:00\",\"2017-06-08T00:00:00\",\"2017-06-07T00:00:00\",\"2017-06-06T00:00:00\",\"2017-06-05T00:00:00\",\"2017-06-02T00:00:00\",\"2017-06-01T00:00:00\",\"2017-05-31T00:00:00\",\"2017-05-30T00:00:00\",\"2017-05-26T00:00:00\",\"2017-05-25T00:00:00\",\"2017-05-24T00:00:00\",\"2017-05-23T00:00:00\",\"2017-05-22T00:00:00\",\"2017-05-19T00:00:00\",\"2017-05-18T00:00:00\",\"2017-05-17T00:00:00\",\"2017-05-16T00:00:00\",\"2017-05-15T00:00:00\",\"2017-05-12T00:00:00\",\"2017-05-11T00:00:00\",\"2017-05-10T00:00:00\",\"2017-05-09T00:00:00\",\"2017-05-08T00:00:00\",\"2017-05-05T00:00:00\",\"2017-05-04T00:00:00\",\"2017-05-03T00:00:00\",\"2017-05-02T00:00:00\",\"2017-05-01T00:00:00\",\"2017-04-28T00:00:00\",\"2017-04-27T00:00:00\",\"2017-04-26T00:00:00\",\"2017-04-25T00:00:00\",\"2017-04-24T00:00:00\",\"2017-04-21T00:00:00\",\"2017-04-20T00:00:00\",\"2017-04-19T00:00:00\",\"2017-04-18T00:00:00\",\"2017-04-17T00:00:00\",\"2017-04-13T00:00:00\",\"2017-04-12T00:00:00\",\"2017-04-11T00:00:00\",\"2017-04-10T00:00:00\",\"2017-04-07T00:00:00\",\"2017-04-06T00:00:00\",\"2017-04-05T00:00:00\",\"2017-04-04T00:00:00\",\"2017-04-03T00:00:00\",\"2017-03-31T00:00:00\",\"2017-03-30T00:00:00\",\"2017-03-29T00:00:00\",\"2017-03-28T00:00:00\",\"2017-03-27T00:00:00\",\"2017-03-24T00:00:00\",\"2017-03-23T00:00:00\",\"2017-03-22T00:00:00\",\"2017-03-21T00:00:00\",\"2017-03-20T00:00:00\",\"2017-03-17T00:00:00\",\"2017-03-16T00:00:00\",\"2017-03-15T00:00:00\",\"2017-03-14T00:00:00\",\"2017-03-13T00:00:00\",\"2017-03-10T00:00:00\",\"2017-03-09T00:00:00\",\"2017-03-08T00:00:00\",\"2017-03-07T00:00:00\",\"2017-03-06T00:00:00\",\"2017-03-03T00:00:00\",\"2017-03-02T00:00:00\",\"2017-03-01T00:00:00\",\"2017-02-28T00:00:00\",\"2017-02-27T00:00:00\",\"2017-02-24T00:00:00\",\"2017-02-23T00:00:00\",\"2017-02-22T00:00:00\",\"2017-02-21T00:00:00\",\"2017-02-17T00:00:00\",\"2017-02-16T00:00:00\",\"2017-02-15T00:00:00\",\"2017-02-14T00:00:00\",\"2017-02-13T00:00:00\",\"2017-02-10T00:00:00\",\"2017-02-09T00:00:00\",\"2017-02-08T00:00:00\",\"2017-02-07T00:00:00\",\"2017-02-06T00:00:00\",\"2017-02-03T00:00:00\",\"2017-02-02T00:00:00\",\"2017-02-01T00:00:00\",\"2017-01-31T00:00:00\",\"2017-01-30T00:00:00\",\"2017-01-27T00:00:00\",\"2017-01-26T00:00:00\",\"2017-01-25T00:00:00\",\"2017-01-24T00:00:00\",\"2017-01-23T00:00:00\",\"2017-01-20T00:00:00\",\"2017-01-19T00:00:00\",\"2017-01-18T00:00:00\",\"2017-01-17T00:00:00\",\"2017-01-13T00:00:00\",\"2017-01-12T00:00:00\",\"2017-01-11T00:00:00\",\"2017-01-10T00:00:00\",\"2017-01-09T00:00:00\",\"2017-01-06T00:00:00\",\"2017-01-05T00:00:00\",\"2017-01-04T00:00:00\",\"2017-01-03T00:00:00\",\"2016-12-30T00:00:00\",\"2016-12-29T00:00:00\",\"2016-12-28T00:00:00\",\"2016-12-27T00:00:00\",\"2016-12-23T00:00:00\",\"2016-12-22T00:00:00\",\"2016-12-21T00:00:00\",\"2016-12-20T00:00:00\",\"2016-12-19T00:00:00\",\"2016-12-16T00:00:00\",\"2016-12-15T00:00:00\",\"2016-12-14T00:00:00\",\"2016-12-13T00:00:00\",\"2016-12-12T00:00:00\",\"2016-12-09T00:00:00\",\"2016-12-08T00:00:00\",\"2016-12-07T00:00:00\",\"2016-12-06T00:00:00\",\"2016-12-05T00:00:00\",\"2016-12-02T00:00:00\",\"2016-12-01T00:00:00\",\"2016-11-30T00:00:00\",\"2016-11-29T00:00:00\",\"2016-11-28T00:00:00\",\"2016-11-25T00:00:00\",\"2016-11-23T00:00:00\",\"2016-11-22T00:00:00\",\"2016-11-21T00:00:00\",\"2016-11-18T00:00:00\",\"2016-11-17T00:00:00\",\"2016-11-16T00:00:00\",\"2016-11-15T00:00:00\",\"2016-11-14T00:00:00\",\"2016-11-11T00:00:00\",\"2016-11-10T00:00:00\",\"2016-11-09T00:00:00\",\"2016-11-08T00:00:00\",\"2016-11-07T00:00:00\",\"2016-11-04T00:00:00\",\"2016-11-03T00:00:00\",\"2016-11-02T00:00:00\",\"2016-11-01T00:00:00\",\"2016-10-31T00:00:00\",\"2016-10-28T00:00:00\",\"2016-10-27T00:00:00\",\"2016-10-26T00:00:00\",\"2016-10-25T00:00:00\",\"2016-10-24T00:00:00\",\"2016-10-21T00:00:00\",\"2016-10-20T00:00:00\",\"2016-10-19T00:00:00\",\"2016-10-18T00:00:00\",\"2016-10-17T00:00:00\",\"2016-10-14T00:00:00\",\"2016-10-13T00:00:00\",\"2016-10-12T00:00:00\",\"2016-10-11T00:00:00\",\"2016-10-10T00:00:00\",\"2016-10-07T00:00:00\",\"2016-10-06T00:00:00\",\"2016-10-05T00:00:00\",\"2016-10-04T00:00:00\",\"2016-10-03T00:00:00\",\"2016-09-30T00:00:00\",\"2016-09-29T00:00:00\",\"2016-09-28T00:00:00\",\"2016-09-27T00:00:00\",\"2016-09-26T00:00:00\",\"2016-09-23T00:00:00\",\"2016-09-22T00:00:00\",\"2016-09-21T00:00:00\",\"2016-09-20T00:00:00\",\"2016-09-19T00:00:00\",\"2016-09-16T00:00:00\",\"2016-09-15T00:00:00\",\"2016-09-14T00:00:00\",\"2016-09-13T00:00:00\",\"2016-09-12T00:00:00\",\"2016-09-09T00:00:00\",\"2016-09-08T00:00:00\",\"2016-09-07T00:00:00\",\"2016-09-06T00:00:00\",\"2016-09-02T00:00:00\",\"2016-09-01T00:00:00\",\"2016-08-31T00:00:00\",\"2016-08-30T00:00:00\",\"2016-08-29T00:00:00\",\"2016-08-26T00:00:00\",\"2016-08-25T00:00:00\",\"2016-08-24T00:00:00\",\"2016-08-23T00:00:00\",\"2016-08-22T00:00:00\",\"2016-08-19T00:00:00\",\"2016-08-18T00:00:00\",\"2016-08-17T00:00:00\",\"2016-08-16T00:00:00\",\"2016-08-15T00:00:00\",\"2016-08-12T00:00:00\",\"2016-08-11T00:00:00\",\"2016-08-10T00:00:00\",\"2016-08-09T00:00:00\",\"2016-08-08T00:00:00\",\"2016-08-05T00:00:00\",\"2016-08-04T00:00:00\",\"2016-08-03T00:00:00\",\"2016-08-02T00:00:00\",\"2016-08-01T00:00:00\",\"2016-07-29T00:00:00\",\"2016-07-28T00:00:00\",\"2016-07-27T00:00:00\",\"2016-07-26T00:00:00\",\"2016-07-25T00:00:00\",\"2016-07-22T00:00:00\",\"2016-07-21T00:00:00\",\"2016-07-20T00:00:00\",\"2016-07-19T00:00:00\",\"2016-07-18T00:00:00\",\"2016-07-15T00:00:00\",\"2016-07-14T00:00:00\",\"2016-07-13T00:00:00\",\"2016-07-12T00:00:00\",\"2016-07-11T00:00:00\",\"2016-07-08T00:00:00\",\"2016-07-07T00:00:00\",\"2016-07-06T00:00:00\",\"2016-07-05T00:00:00\",\"2016-07-01T00:00:00\",\"2016-06-30T00:00:00\",\"2016-06-29T00:00:00\",\"2016-06-28T00:00:00\",\"2016-06-27T00:00:00\",\"2016-06-24T00:00:00\",\"2016-06-23T00:00:00\",\"2016-06-22T00:00:00\",\"2016-06-21T00:00:00\",\"2016-06-20T00:00:00\",\"2016-06-17T00:00:00\",\"2016-06-16T00:00:00\",\"2016-06-15T00:00:00\",\"2016-06-14T00:00:00\",\"2016-06-13T00:00:00\",\"2016-06-10T00:00:00\",\"2016-06-09T00:00:00\",\"2016-06-08T00:00:00\",\"2016-06-07T00:00:00\",\"2016-06-06T00:00:00\",\"2016-06-03T00:00:00\",\"2016-06-02T00:00:00\",\"2016-06-01T00:00:00\",\"2016-05-31T00:00:00\",\"2016-05-27T00:00:00\",\"2016-05-26T00:00:00\",\"2016-05-25T00:00:00\",\"2016-05-24T00:00:00\",\"2016-05-23T00:00:00\",\"2016-05-20T00:00:00\",\"2016-05-19T00:00:00\",\"2016-05-18T00:00:00\",\"2016-05-17T00:00:00\",\"2016-05-16T00:00:00\",\"2016-05-13T00:00:00\",\"2016-05-12T00:00:00\",\"2016-05-11T00:00:00\",\"2016-05-10T00:00:00\",\"2016-05-09T00:00:00\",\"2016-05-06T00:00:00\",\"2016-05-05T00:00:00\",\"2016-05-04T00:00:00\",\"2016-05-03T00:00:00\",\"2016-05-02T00:00:00\",\"2016-04-29T00:00:00\",\"2016-04-28T00:00:00\",\"2016-04-27T00:00:00\",\"2016-04-26T00:00:00\",\"2016-04-25T00:00:00\",\"2016-04-22T00:00:00\",\"2016-04-21T00:00:00\",\"2016-04-20T00:00:00\",\"2016-04-19T00:00:00\",\"2016-04-18T00:00:00\",\"2016-04-15T00:00:00\",\"2016-04-14T00:00:00\",\"2016-04-13T00:00:00\",\"2016-04-12T00:00:00\",\"2016-04-11T00:00:00\",\"2016-04-08T00:00:00\",\"2016-04-07T00:00:00\",\"2016-04-06T00:00:00\",\"2016-04-05T00:00:00\",\"2016-04-04T00:00:00\",\"2016-04-01T00:00:00\",\"2016-03-31T00:00:00\",\"2016-03-30T00:00:00\",\"2016-03-29T00:00:00\",\"2016-03-28T00:00:00\",\"2016-03-24T00:00:00\",\"2016-03-23T00:00:00\",\"2016-03-22T00:00:00\",\"2016-03-21T00:00:00\",\"2016-03-18T00:00:00\",\"2016-03-17T00:00:00\",\"2016-03-16T00:00:00\",\"2016-03-15T00:00:00\",\"2016-03-14T00:00:00\",\"2016-03-11T00:00:00\",\"2016-03-10T00:00:00\",\"2016-03-09T00:00:00\",\"2016-03-08T00:00:00\",\"2016-03-07T00:00:00\",\"2016-03-04T00:00:00\",\"2016-03-03T00:00:00\",\"2016-03-02T00:00:00\",\"2016-03-01T00:00:00\",\"2016-02-29T00:00:00\",\"2016-02-26T00:00:00\",\"2016-02-25T00:00:00\",\"2016-02-24T00:00:00\",\"2016-02-23T00:00:00\",\"2016-02-22T00:00:00\",\"2016-02-19T00:00:00\",\"2016-02-18T00:00:00\",\"2016-02-17T00:00:00\",\"2016-02-16T00:00:00\",\"2016-02-12T00:00:00\",\"2016-02-11T00:00:00\",\"2016-02-10T00:00:00\",\"2016-02-09T00:00:00\",\"2016-02-08T00:00:00\",\"2016-02-05T00:00:00\",\"2016-02-04T00:00:00\",\"2016-02-03T00:00:00\",\"2016-02-02T00:00:00\",\"2016-02-01T00:00:00\",\"2016-01-29T00:00:00\",\"2016-01-28T00:00:00\",\"2016-01-27T00:00:00\",\"2016-01-26T00:00:00\",\"2016-01-25T00:00:00\",\"2016-01-22T00:00:00\",\"2016-01-21T00:00:00\",\"2016-01-20T00:00:00\",\"2016-01-19T00:00:00\",\"2016-01-15T00:00:00\",\"2016-01-14T00:00:00\",\"2016-01-13T00:00:00\",\"2016-01-12T00:00:00\",\"2016-01-11T00:00:00\",\"2016-01-08T00:00:00\",\"2016-01-07T00:00:00\",\"2016-01-06T00:00:00\",\"2016-01-05T00:00:00\",\"2016-01-04T00:00:00\",\"2015-12-31T00:00:00\",\"2015-12-30T00:00:00\",\"2015-12-29T00:00:00\",\"2015-12-28T00:00:00\",\"2015-12-24T00:00:00\",\"2015-12-23T00:00:00\",\"2015-12-22T00:00:00\",\"2015-12-21T00:00:00\",\"2015-12-18T00:00:00\",\"2015-12-17T00:00:00\",\"2015-12-16T00:00:00\",\"2015-12-15T00:00:00\",\"2015-12-14T00:00:00\",\"2015-12-11T00:00:00\",\"2015-12-10T00:00:00\",\"2015-12-09T00:00:00\",\"2015-12-08T00:00:00\",\"2015-12-07T00:00:00\",\"2015-12-04T00:00:00\",\"2015-12-03T00:00:00\",\"2015-12-02T00:00:00\",\"2015-12-01T00:00:00\",\"2015-11-30T00:00:00\",\"2015-11-27T00:00:00\",\"2015-11-25T00:00:00\",\"2015-11-24T00:00:00\",\"2015-11-23T00:00:00\",\"2015-11-20T00:00:00\",\"2015-11-19T00:00:00\",\"2015-11-18T00:00:00\",\"2015-11-17T00:00:00\",\"2015-11-16T00:00:00\",\"2015-11-13T00:00:00\",\"2015-11-12T00:00:00\",\"2015-11-11T00:00:00\",\"2015-11-10T00:00:00\",\"2015-11-09T00:00:00\",\"2015-11-06T00:00:00\",\"2015-11-05T00:00:00\",\"2015-11-04T00:00:00\",\"2015-11-03T00:00:00\",\"2015-11-02T00:00:00\",\"2015-10-30T00:00:00\",\"2015-10-29T00:00:00\",\"2015-10-28T00:00:00\",\"2015-10-27T00:00:00\",\"2015-10-26T00:00:00\",\"2015-10-23T00:00:00\",\"2015-10-22T00:00:00\",\"2015-10-21T00:00:00\",\"2015-10-20T00:00:00\",\"2015-10-19T00:00:00\",\"2015-10-16T00:00:00\",\"2015-10-15T00:00:00\",\"2015-10-14T00:00:00\",\"2015-10-13T00:00:00\",\"2015-10-12T00:00:00\",\"2015-10-09T00:00:00\",\"2015-10-08T00:00:00\",\"2015-10-07T00:00:00\",\"2015-10-06T00:00:00\",\"2015-10-05T00:00:00\",\"2015-10-02T00:00:00\",\"2015-10-01T00:00:00\",\"2015-09-30T00:00:00\",\"2015-09-29T00:00:00\",\"2015-09-28T00:00:00\",\"2015-09-25T00:00:00\",\"2015-09-24T00:00:00\",\"2015-09-23T00:00:00\",\"2015-09-22T00:00:00\",\"2015-09-21T00:00:00\",\"2015-09-18T00:00:00\",\"2015-09-17T00:00:00\",\"2015-09-16T00:00:00\",\"2015-09-15T00:00:00\",\"2015-09-14T00:00:00\",\"2015-09-11T00:00:00\",\"2015-09-10T00:00:00\",\"2015-09-09T00:00:00\",\"2015-09-08T00:00:00\",\"2015-09-04T00:00:00\",\"2015-09-03T00:00:00\",\"2015-09-02T00:00:00\",\"2015-09-01T00:00:00\",\"2015-08-31T00:00:00\",\"2015-08-28T00:00:00\",\"2015-08-27T00:00:00\",\"2015-08-26T00:00:00\",\"2015-08-25T00:00:00\",\"2015-08-24T00:00:00\",\"2015-08-21T00:00:00\",\"2015-08-20T00:00:00\",\"2015-08-19T00:00:00\",\"2015-08-18T00:00:00\",\"2015-08-17T00:00:00\",\"2015-08-14T00:00:00\",\"2015-08-13T00:00:00\",\"2015-08-12T00:00:00\",\"2015-08-11T00:00:00\",\"2015-08-10T00:00:00\",\"2015-08-07T00:00:00\",\"2015-08-06T00:00:00\",\"2015-08-05T00:00:00\",\"2015-08-04T00:00:00\",\"2015-08-03T00:00:00\",\"2015-07-31T00:00:00\",\"2015-07-30T00:00:00\",\"2015-07-29T00:00:00\",\"2015-07-28T00:00:00\",\"2015-07-27T00:00:00\",\"2015-07-24T00:00:00\",\"2015-07-23T00:00:00\",\"2015-07-22T00:00:00\",\"2015-07-21T00:00:00\",\"2015-07-20T00:00:00\",\"2015-07-17T00:00:00\",\"2015-07-16T00:00:00\",\"2015-07-15T00:00:00\",\"2015-07-14T00:00:00\",\"2015-07-13T00:00:00\",\"2015-07-10T00:00:00\",\"2015-07-09T00:00:00\",\"2015-07-08T00:00:00\",\"2015-07-07T00:00:00\",\"2015-07-06T00:00:00\",\"2015-07-02T00:00:00\",\"2015-07-01T00:00:00\",\"2015-06-30T00:00:00\",\"2015-06-29T00:00:00\",\"2015-06-26T00:00:00\",\"2015-06-25T00:00:00\",\"2015-06-24T00:00:00\",\"2015-06-23T00:00:00\",\"2015-06-22T00:00:00\",\"2015-06-19T00:00:00\",\"2015-06-18T00:00:00\",\"2015-06-17T00:00:00\",\"2015-06-16T00:00:00\",\"2015-06-15T00:00:00\",\"2015-06-12T00:00:00\",\"2015-06-11T00:00:00\",\"2015-06-10T00:00:00\",\"2015-06-09T00:00:00\",\"2015-06-08T00:00:00\",\"2015-06-05T00:00:00\",\"2015-06-04T00:00:00\",\"2015-06-03T00:00:00\",\"2015-06-02T00:00:00\",\"2015-06-01T00:00:00\",\"2015-05-29T00:00:00\",\"2015-05-28T00:00:00\",\"2015-05-27T00:00:00\",\"2015-05-26T00:00:00\",\"2015-05-22T00:00:00\",\"2015-05-21T00:00:00\",\"2015-05-20T00:00:00\",\"2015-05-19T00:00:00\",\"2015-05-18T00:00:00\",\"2015-05-15T00:00:00\",\"2015-05-14T00:00:00\",\"2015-05-13T00:00:00\",\"2015-05-12T00:00:00\",\"2015-05-11T00:00:00\",\"2015-05-08T00:00:00\",\"2015-05-07T00:00:00\",\"2015-05-06T00:00:00\",\"2015-05-05T00:00:00\",\"2015-05-04T00:00:00\",\"2015-05-01T00:00:00\",\"2015-04-30T00:00:00\",\"2015-04-29T00:00:00\",\"2015-04-28T00:00:00\",\"2015-04-27T00:00:00\",\"2015-04-24T00:00:00\",\"2015-04-23T00:00:00\",\"2015-04-22T00:00:00\",\"2015-04-21T00:00:00\",\"2015-04-20T00:00:00\",\"2015-04-17T00:00:00\",\"2015-04-16T00:00:00\",\"2015-04-15T00:00:00\",\"2015-04-14T00:00:00\",\"2015-04-13T00:00:00\",\"2015-04-10T00:00:00\",\"2015-04-09T00:00:00\",\"2015-04-08T00:00:00\",\"2015-04-07T00:00:00\",\"2015-04-06T00:00:00\",\"2015-04-02T00:00:00\",\"2015-04-01T00:00:00\",\"2015-03-31T00:00:00\",\"2015-03-30T00:00:00\",\"2015-03-27T00:00:00\",\"2015-03-26T00:00:00\",\"2015-03-25T00:00:00\",\"2015-03-24T00:00:00\",\"2015-03-23T00:00:00\",\"2015-03-20T00:00:00\",\"2015-03-19T00:00:00\",\"2015-03-18T00:00:00\",\"2015-03-17T00:00:00\",\"2015-03-16T00:00:00\",\"2015-03-13T00:00:00\",\"2015-03-12T00:00:00\",\"2015-03-11T00:00:00\",\"2015-03-10T00:00:00\",\"2015-03-09T00:00:00\",\"2015-03-06T00:00:00\",\"2015-03-05T00:00:00\",\"2015-03-04T00:00:00\",\"2015-03-03T00:00:00\",\"2015-03-02T00:00:00\",\"2015-02-27T00:00:00\",\"2015-02-26T00:00:00\",\"2015-02-25T00:00:00\",\"2015-02-24T00:00:00\",\"2015-02-23T00:00:00\",\"2015-02-20T00:00:00\",\"2015-02-19T00:00:00\",\"2015-02-18T00:00:00\",\"2015-02-17T00:00:00\",\"2015-02-13T00:00:00\",\"2015-02-12T00:00:00\",\"2015-02-11T00:00:00\",\"2015-02-10T00:00:00\",\"2015-02-09T00:00:00\",\"2015-02-06T00:00:00\",\"2015-02-05T00:00:00\",\"2015-02-04T00:00:00\",\"2015-02-03T00:00:00\",\"2015-02-02T00:00:00\",\"2015-01-30T00:00:00\",\"2015-01-29T00:00:00\",\"2015-01-28T00:00:00\",\"2015-01-27T00:00:00\",\"2015-01-26T00:00:00\",\"2015-01-23T00:00:00\",\"2015-01-22T00:00:00\",\"2015-01-21T00:00:00\",\"2015-01-20T00:00:00\",\"2015-01-16T00:00:00\",\"2015-01-15T00:00:00\",\"2015-01-14T00:00:00\",\"2015-01-13T00:00:00\",\"2015-01-12T00:00:00\",\"2015-01-09T00:00:00\",\"2015-01-08T00:00:00\",\"2015-01-07T00:00:00\",\"2015-01-06T00:00:00\",\"2015-01-05T00:00:00\",\"2015-01-02T00:00:00\",\"2014-12-31T00:00:00\",\"2014-12-30T00:00:00\",\"2014-12-29T00:00:00\",\"2014-12-26T00:00:00\",\"2014-12-24T00:00:00\",\"2014-12-23T00:00:00\",\"2014-12-22T00:00:00\",\"2014-12-19T00:00:00\",\"2014-12-18T00:00:00\",\"2014-12-17T00:00:00\",\"2014-12-16T00:00:00\",\"2014-12-15T00:00:00\",\"2014-12-12T00:00:00\",\"2014-12-11T00:00:00\",\"2014-12-10T00:00:00\",\"2014-12-09T00:00:00\",\"2014-12-08T00:00:00\",\"2014-12-05T00:00:00\",\"2014-12-04T00:00:00\",\"2014-12-03T00:00:00\",\"2014-12-02T00:00:00\",\"2014-12-01T00:00:00\",\"2014-11-28T00:00:00\",\"2014-11-26T00:00:00\",\"2014-11-25T00:00:00\",\"2014-11-24T00:00:00\",\"2014-11-21T00:00:00\",\"2014-11-20T00:00:00\",\"2014-11-19T00:00:00\",\"2014-11-18T00:00:00\",\"2014-11-17T00:00:00\",\"2014-11-14T00:00:00\",\"2014-11-13T00:00:00\",\"2014-11-12T00:00:00\",\"2014-11-11T00:00:00\",\"2014-11-10T00:00:00\",\"2014-11-07T00:00:00\",\"2014-11-06T00:00:00\",\"2014-11-05T00:00:00\",\"2014-11-04T00:00:00\",\"2014-11-03T00:00:00\",\"2014-10-31T00:00:00\",\"2014-10-30T00:00:00\",\"2014-10-29T00:00:00\",\"2014-10-28T00:00:00\",\"2014-10-27T00:00:00\",\"2014-10-24T00:00:00\",\"2014-10-23T00:00:00\",\"2014-10-22T00:00:00\",\"2014-10-21T00:00:00\",\"2014-10-20T00:00:00\",\"2014-10-17T00:00:00\",\"2014-10-16T00:00:00\",\"2014-10-15T00:00:00\",\"2014-10-14T00:00:00\",\"2014-10-13T00:00:00\",\"2014-10-10T00:00:00\",\"2014-10-09T00:00:00\",\"2014-10-08T00:00:00\",\"2014-10-07T00:00:00\",\"2014-10-06T00:00:00\",\"2014-10-03T00:00:00\",\"2014-10-02T00:00:00\",\"2014-10-01T00:00:00\",\"2014-09-30T00:00:00\",\"2014-09-29T00:00:00\",\"2014-09-26T00:00:00\",\"2014-09-25T00:00:00\",\"2014-09-24T00:00:00\",\"2014-09-23T00:00:00\",\"2014-09-22T00:00:00\",\"2014-09-19T00:00:00\",\"2014-09-18T00:00:00\",\"2014-09-17T00:00:00\",\"2014-09-16T00:00:00\",\"2014-09-15T00:00:00\",\"2014-09-12T00:00:00\",\"2014-09-11T00:00:00\",\"2014-09-10T00:00:00\",\"2014-09-09T00:00:00\",\"2014-09-08T00:00:00\",\"2014-09-05T00:00:00\",\"2014-09-04T00:00:00\",\"2014-09-03T00:00:00\",\"2014-09-02T00:00:00\",\"2014-08-29T00:00:00\",\"2014-08-28T00:00:00\",\"2014-08-27T00:00:00\",\"2014-08-26T00:00:00\",\"2014-08-25T00:00:00\",\"2014-08-22T00:00:00\",\"2014-08-21T00:00:00\",\"2014-08-20T00:00:00\",\"2014-08-19T00:00:00\",\"2014-08-18T00:00:00\",\"2014-08-15T00:00:00\",\"2014-08-14T00:00:00\",\"2014-08-13T00:00:00\",\"2014-08-12T00:00:00\",\"2014-08-11T00:00:00\",\"2014-08-08T00:00:00\",\"2014-08-07T00:00:00\",\"2014-08-06T00:00:00\",\"2014-08-05T00:00:00\",\"2014-08-04T00:00:00\",\"2014-08-01T00:00:00\",\"2014-07-31T00:00:00\",\"2014-07-30T00:00:00\",\"2014-07-29T00:00:00\",\"2014-07-28T00:00:00\",\"2014-07-25T00:00:00\",\"2014-07-24T00:00:00\",\"2014-07-23T00:00:00\",\"2014-07-22T00:00:00\",\"2014-07-21T00:00:00\",\"2014-07-18T00:00:00\",\"2014-07-17T00:00:00\",\"2014-07-16T00:00:00\",\"2014-07-15T00:00:00\",\"2014-07-14T00:00:00\",\"2014-07-11T00:00:00\",\"2014-07-10T00:00:00\",\"2014-07-09T00:00:00\",\"2014-07-08T00:00:00\",\"2014-07-07T00:00:00\",\"2014-07-03T00:00:00\",\"2014-07-02T00:00:00\",\"2014-07-01T00:00:00\",\"2014-06-30T00:00:00\",\"2014-06-27T00:00:00\",\"2014-06-26T00:00:00\",\"2014-06-25T00:00:00\",\"2014-06-24T00:00:00\",\"2014-06-23T00:00:00\",\"2014-06-20T00:00:00\",\"2014-06-19T00:00:00\",\"2014-06-18T00:00:00\",\"2014-06-17T00:00:00\",\"2014-06-16T00:00:00\",\"2014-06-13T00:00:00\",\"2014-06-12T00:00:00\",\"2014-06-11T00:00:00\",\"2014-06-10T00:00:00\",\"2014-06-09T00:00:00\",\"2014-06-06T00:00:00\",\"2014-06-05T00:00:00\",\"2014-06-04T00:00:00\",\"2014-06-03T00:00:00\",\"2014-06-02T00:00:00\",\"2014-05-30T00:00:00\",\"2014-05-29T00:00:00\",\"2014-05-28T00:00:00\",\"2014-05-27T00:00:00\",\"2014-05-23T00:00:00\",\"2014-05-22T00:00:00\",\"2014-05-21T00:00:00\",\"2014-05-20T00:00:00\",\"2014-05-19T00:00:00\",\"2014-05-16T00:00:00\",\"2014-05-15T00:00:00\",\"2014-05-14T00:00:00\",\"2014-05-13T00:00:00\",\"2014-05-12T00:00:00\",\"2014-05-09T00:00:00\",\"2014-05-08T00:00:00\",\"2014-05-07T00:00:00\",\"2014-05-06T00:00:00\",\"2014-05-05T00:00:00\",\"2014-05-02T00:00:00\",\"2014-05-01T00:00:00\",\"2014-04-30T00:00:00\",\"2014-04-29T00:00:00\",\"2014-04-28T00:00:00\",\"2014-04-25T00:00:00\",\"2014-04-24T00:00:00\",\"2014-04-23T00:00:00\",\"2014-04-22T00:00:00\",\"2014-04-21T00:00:00\",\"2014-04-17T00:00:00\",\"2014-04-16T00:00:00\",\"2014-04-15T00:00:00\",\"2014-04-14T00:00:00\",\"2014-04-11T00:00:00\",\"2014-04-10T00:00:00\",\"2014-04-09T00:00:00\",\"2014-04-08T00:00:00\",\"2014-04-07T00:00:00\",\"2014-04-04T00:00:00\",\"2014-04-03T00:00:00\",\"2014-04-02T00:00:00\",\"2014-04-01T00:00:00\",\"2014-03-31T00:00:00\",\"2014-03-28T00:00:00\",\"2014-03-27T00:00:00\"],\"type\":\"candlestick\"}],                        {\"template\":{\"data\":{\"bar\":[{\"error_x\":{\"color\":\"#2a3f5f\"},\"error_y\":{\"color\":\"#2a3f5f\"},\"marker\":{\"line\":{\"color\":\"#E5ECF6\",\"width\":0.5},\"pattern\":{\"fillmode\":\"overlay\",\"size\":10,\"solidity\":0.2}},\"type\":\"bar\"}],\"barpolar\":[{\"marker\":{\"line\":{\"color\":\"#E5ECF6\",\"width\":0.5},\"pattern\":{\"fillmode\":\"overlay\",\"size\":10,\"solidity\":0.2}},\"type\":\"barpolar\"}],\"carpet\":[{\"aaxis\":{\"endlinecolor\":\"#2a3f5f\",\"gridcolor\":\"white\",\"linecolor\":\"white\",\"minorgridcolor\":\"white\",\"startlinecolor\":\"#2a3f5f\"},\"baxis\":{\"endlinecolor\":\"#2a3f5f\",\"gridcolor\":\"white\",\"linecolor\":\"white\",\"minorgridcolor\":\"white\",\"startlinecolor\":\"#2a3f5f\"},\"type\":\"carpet\"}],\"choropleth\":[{\"colorbar\":{\"outlinewidth\":0,\"ticks\":\"\"},\"type\":\"choropleth\"}],\"contour\":[{\"colorbar\":{\"outlinewidth\":0,\"ticks\":\"\"},\"colorscale\":[[0.0,\"#0d0887\"],[0.1111111111111111,\"#46039f\"],[0.2222222222222222,\"#7201a8\"],[0.3333333333333333,\"#9c179e\"],[0.4444444444444444,\"#bd3786\"],[0.5555555555555556,\"#d8576b\"],[0.6666666666666666,\"#ed7953\"],[0.7777777777777778,\"#fb9f3a\"],[0.8888888888888888,\"#fdca26\"],[1.0,\"#f0f921\"]],\"type\":\"contour\"}],\"contourcarpet\":[{\"colorbar\":{\"outlinewidth\":0,\"ticks\":\"\"},\"type\":\"contourcarpet\"}],\"heatmap\":[{\"colorbar\":{\"outlinewidth\":0,\"ticks\":\"\"},\"colorscale\":[[0.0,\"#0d0887\"],[0.1111111111111111,\"#46039f\"],[0.2222222222222222,\"#7201a8\"],[0.3333333333333333,\"#9c179e\"],[0.4444444444444444,\"#bd3786\"],[0.5555555555555556,\"#d8576b\"],[0.6666666666666666,\"#ed7953\"],[0.7777777777777778,\"#fb9f3a\"],[0.8888888888888888,\"#fdca26\"],[1.0,\"#f0f921\"]],\"type\":\"heatmap\"}],\"heatmapgl\":[{\"colorbar\":{\"outlinewidth\":0,\"ticks\":\"\"},\"colorscale\":[[0.0,\"#0d0887\"],[0.1111111111111111,\"#46039f\"],[0.2222222222222222,\"#7201a8\"],[0.3333333333333333,\"#9c179e\"],[0.4444444444444444,\"#bd3786\"],[0.5555555555555556,\"#d8576b\"],[0.6666666666666666,\"#ed7953\"],[0.7777777777777778,\"#fb9f3a\"],[0.8888888888888888,\"#fdca26\"],[1.0,\"#f0f921\"]],\"type\":\"heatmapgl\"}],\"histogram\":[{\"marker\":{\"pattern\":{\"fillmode\":\"overlay\",\"size\":10,\"solidity\":0.2}},\"type\":\"histogram\"}],\"histogram2d\":[{\"colorbar\":{\"outlinewidth\":0,\"ticks\":\"\"},\"colorscale\":[[0.0,\"#0d0887\"],[0.1111111111111111,\"#46039f\"],[0.2222222222222222,\"#7201a8\"],[0.3333333333333333,\"#9c179e\"],[0.4444444444444444,\"#bd3786\"],[0.5555555555555556,\"#d8576b\"],[0.6666666666666666,\"#ed7953\"],[0.7777777777777778,\"#fb9f3a\"],[0.8888888888888888,\"#fdca26\"],[1.0,\"#f0f921\"]],\"type\":\"histogram2d\"}],\"histogram2dcontour\":[{\"colorbar\":{\"outlinewidth\":0,\"ticks\":\"\"},\"colorscale\":[[0.0,\"#0d0887\"],[0.1111111111111111,\"#46039f\"],[0.2222222222222222,\"#7201a8\"],[0.3333333333333333,\"#9c179e\"],[0.4444444444444444,\"#bd3786\"],[0.5555555555555556,\"#d8576b\"],[0.6666666666666666,\"#ed7953\"],[0.7777777777777778,\"#fb9f3a\"],[0.8888888888888888,\"#fdca26\"],[1.0,\"#f0f921\"]],\"type\":\"histogram2dcontour\"}],\"mesh3d\":[{\"colorbar\":{\"outlinewidth\":0,\"ticks\":\"\"},\"type\":\"mesh3d\"}],\"parcoords\":[{\"line\":{\"colorbar\":{\"outlinewidth\":0,\"ticks\":\"\"}},\"type\":\"parcoords\"}],\"pie\":[{\"automargin\":true,\"type\":\"pie\"}],\"scatter\":[{\"marker\":{\"colorbar\":{\"outlinewidth\":0,\"ticks\":\"\"}},\"type\":\"scatter\"}],\"scatter3d\":[{\"line\":{\"colorbar\":{\"outlinewidth\":0,\"ticks\":\"\"}},\"marker\":{\"colorbar\":{\"outlinewidth\":0,\"ticks\":\"\"}},\"type\":\"scatter3d\"}],\"scattercarpet\":[{\"marker\":{\"colorbar\":{\"outlinewidth\":0,\"ticks\":\"\"}},\"type\":\"scattercarpet\"}],\"scattergeo\":[{\"marker\":{\"colorbar\":{\"outlinewidth\":0,\"ticks\":\"\"}},\"type\":\"scattergeo\"}],\"scattergl\":[{\"marker\":{\"colorbar\":{\"outlinewidth\":0,\"ticks\":\"\"}},\"type\":\"scattergl\"}],\"scattermapbox\":[{\"marker\":{\"colorbar\":{\"outlinewidth\":0,\"ticks\":\"\"}},\"type\":\"scattermapbox\"}],\"scatterpolar\":[{\"marker\":{\"colorbar\":{\"outlinewidth\":0,\"ticks\":\"\"}},\"type\":\"scatterpolar\"}],\"scatterpolargl\":[{\"marker\":{\"colorbar\":{\"outlinewidth\":0,\"ticks\":\"\"}},\"type\":\"scatterpolargl\"}],\"scatterternary\":[{\"marker\":{\"colorbar\":{\"outlinewidth\":0,\"ticks\":\"\"}},\"type\":\"scatterternary\"}],\"surface\":[{\"colorbar\":{\"outlinewidth\":0,\"ticks\":\"\"},\"colorscale\":[[0.0,\"#0d0887\"],[0.1111111111111111,\"#46039f\"],[0.2222222222222222,\"#7201a8\"],[0.3333333333333333,\"#9c179e\"],[0.4444444444444444,\"#bd3786\"],[0.5555555555555556,\"#d8576b\"],[0.6666666666666666,\"#ed7953\"],[0.7777777777777778,\"#fb9f3a\"],[0.8888888888888888,\"#fdca26\"],[1.0,\"#f0f921\"]],\"type\":\"surface\"}],\"table\":[{\"cells\":{\"fill\":{\"color\":\"#EBF0F8\"},\"line\":{\"color\":\"white\"}},\"header\":{\"fill\":{\"color\":\"#C8D4E3\"},\"line\":{\"color\":\"white\"}},\"type\":\"table\"}]},\"layout\":{\"annotationdefaults\":{\"arrowcolor\":\"#2a3f5f\",\"arrowhead\":0,\"arrowwidth\":1},\"autotypenumbers\":\"strict\",\"coloraxis\":{\"colorbar\":{\"outlinewidth\":0,\"ticks\":\"\"}},\"colorscale\":{\"diverging\":[[0,\"#8e0152\"],[0.1,\"#c51b7d\"],[0.2,\"#de77ae\"],[0.3,\"#f1b6da\"],[0.4,\"#fde0ef\"],[0.5,\"#f7f7f7\"],[0.6,\"#e6f5d0\"],[0.7,\"#b8e186\"],[0.8,\"#7fbc41\"],[0.9,\"#4d9221\"],[1,\"#276419\"]],\"sequential\":[[0.0,\"#0d0887\"],[0.1111111111111111,\"#46039f\"],[0.2222222222222222,\"#7201a8\"],[0.3333333333333333,\"#9c179e\"],[0.4444444444444444,\"#bd3786\"],[0.5555555555555556,\"#d8576b\"],[0.6666666666666666,\"#ed7953\"],[0.7777777777777778,\"#fb9f3a\"],[0.8888888888888888,\"#fdca26\"],[1.0,\"#f0f921\"]],\"sequentialminus\":[[0.0,\"#0d0887\"],[0.1111111111111111,\"#46039f\"],[0.2222222222222222,\"#7201a8\"],[0.3333333333333333,\"#9c179e\"],[0.4444444444444444,\"#bd3786\"],[0.5555555555555556,\"#d8576b\"],[0.6666666666666666,\"#ed7953\"],[0.7777777777777778,\"#fb9f3a\"],[0.8888888888888888,\"#fdca26\"],[1.0,\"#f0f921\"]]},\"colorway\":[\"#636efa\",\"#EF553B\",\"#00cc96\",\"#ab63fa\",\"#FFA15A\",\"#19d3f3\",\"#FF6692\",\"#B6E880\",\"#FF97FF\",\"#FECB52\"],\"font\":{\"color\":\"#2a3f5f\"},\"geo\":{\"bgcolor\":\"white\",\"lakecolor\":\"white\",\"landcolor\":\"#E5ECF6\",\"showlakes\":true,\"showland\":true,\"subunitcolor\":\"white\"},\"hoverlabel\":{\"align\":\"left\"},\"hovermode\":\"closest\",\"mapbox\":{\"style\":\"light\"},\"paper_bgcolor\":\"white\",\"plot_bgcolor\":\"#E5ECF6\",\"polar\":{\"angularaxis\":{\"gridcolor\":\"white\",\"linecolor\":\"white\",\"ticks\":\"\"},\"bgcolor\":\"#E5ECF6\",\"radialaxis\":{\"gridcolor\":\"white\",\"linecolor\":\"white\",\"ticks\":\"\"}},\"scene\":{\"xaxis\":{\"backgroundcolor\":\"#E5ECF6\",\"gridcolor\":\"white\",\"gridwidth\":2,\"linecolor\":\"white\",\"showbackground\":true,\"ticks\":\"\",\"zerolinecolor\":\"white\"},\"yaxis\":{\"backgroundcolor\":\"#E5ECF6\",\"gridcolor\":\"white\",\"gridwidth\":2,\"linecolor\":\"white\",\"showbackground\":true,\"ticks\":\"\",\"zerolinecolor\":\"white\"},\"zaxis\":{\"backgroundcolor\":\"#E5ECF6\",\"gridcolor\":\"white\",\"gridwidth\":2,\"linecolor\":\"white\",\"showbackground\":true,\"ticks\":\"\",\"zerolinecolor\":\"white\"}},\"shapedefaults\":{\"line\":{\"color\":\"#2a3f5f\"}},\"ternary\":{\"aaxis\":{\"gridcolor\":\"white\",\"linecolor\":\"white\",\"ticks\":\"\"},\"baxis\":{\"gridcolor\":\"white\",\"linecolor\":\"white\",\"ticks\":\"\"},\"bgcolor\":\"#E5ECF6\",\"caxis\":{\"gridcolor\":\"white\",\"linecolor\":\"white\",\"ticks\":\"\"}},\"title\":{\"x\":0.05},\"xaxis\":{\"automargin\":true,\"gridcolor\":\"white\",\"linecolor\":\"white\",\"ticks\":\"\",\"title\":{\"standoff\":15},\"zerolinecolor\":\"white\",\"zerolinewidth\":2},\"yaxis\":{\"automargin\":true,\"gridcolor\":\"white\",\"linecolor\":\"white\",\"ticks\":\"\",\"title\":{\"standoff\":15},\"zerolinecolor\":\"white\",\"zerolinewidth\":2}}},\"title\":{\"text\":\"Candle\\u3000Google Stock\"},\"xaxis\":{\"rangeslider\":{\"visible\":true},\"rangeselector\":{\"buttons\":[{\"count\":1,\"label\":\"1m\",\"step\":\"month\",\"stepmode\":\"backward\"},{\"count\":6,\"label\":\"6m\",\"step\":\"month\",\"stepmode\":\"backward\"},{\"count\":1,\"label\":\"1y\",\"step\":\"year\",\"stepmode\":\"backward\"},{\"step\":\"all\"}]},\"type\":\"date\"}},                        {\"responsive\": true}                    ).then(function(){\n",
              "                            \n",
              "var gd = document.getElementById('4e0274f0-5797-4195-b615-3a17a744ed08');\n",
              "var x = new MutationObserver(function (mutations, observer) {{\n",
              "        var display = window.getComputedStyle(gd).display;\n",
              "        if (!display || display === 'none') {{\n",
              "            console.log([gd, 'removed!']);\n",
              "            Plotly.purge(gd);\n",
              "            observer.disconnect();\n",
              "        }}\n",
              "}});\n",
              "\n",
              "// Listen for the removal of the full notebook cells\n",
              "var notebookContainer = gd.closest('#notebook-container');\n",
              "if (notebookContainer) {{\n",
              "    x.observe(notebookContainer, {childList: true});\n",
              "}}\n",
              "\n",
              "// Listen for the clearing of the current output cell\n",
              "var outputEl = gd.closest('.output');\n",
              "if (outputEl) {{\n",
              "    x.observe(outputEl, {childList: true});\n",
              "}}\n",
              "\n",
              "                        })                };                            </script>        </div>\n",
              "</body>\n",
              "</html>"
            ]
          },
          "metadata": {},
          "output_type": "display_data"
        }
      ],
      "source": [
        "fig.update_layout(\n",
        "    xaxis=dict(\n",
        "        rangeselector=dict(\n",
        "            buttons=list([\n",
        "                dict(count=1,\n",
        "                     label=\"1m\",\n",
        "                     step=\"month\",\n",
        "                     stepmode=\"backward\"),\n",
        "                dict(count=6,\n",
        "                     label=\"6m\",\n",
        "                     step=\"month\",\n",
        "                     stepmode=\"backward\"),\n",
        "                dict(count=1,\n",
        "                     label=\"1y\",\n",
        "                     step=\"year\",\n",
        "                     stepmode=\"backward\"),\n",
        "                dict(step=\"all\")\n",
        "            ])\n",
        "        ),\n",
        "        rangeslider=dict(\n",
        "            visible=True\n",
        "        ),\n",
        "        type=\"date\"\n",
        "    )\n",
        ")"
      ]
    },
    {
      "attachments": {},
      "cell_type": "markdown",
      "metadata": {
        "id": "PXvpn_IkHbNc"
      },
      "source": [
        "上のグラフにカーソルをあてると、いろいろとグラフの見る範囲などが変更できるます。他にも大きさを変更したり、画像で保存することもできますので、操作してみてください。"
      ]
    },
    {
      "attachments": {},
      "cell_type": "markdown",
      "metadata": {
        "id": "Jcy-m-WhtyRk"
      },
      "source": [
        "なお、上のグラフになっているファイルをHTML形式で保存することも可能です。"
      ]
    },
    {
      "cell_type": "code",
      "execution_count": null,
      "metadata": {
        "colab": {
          "base_uri": "https://localhost:8080/",
          "height": 35
        },
        "id": "AKfWMC0stNSQ",
        "outputId": "dc2c676a-63cc-4234-dccc-5dfc7a67da05"
      },
      "outputs": [
        {
          "data": {
            "application/vnd.google.colaboratory.intrinsic+json": {
              "type": "string"
            },
            "text/plain": [
              "'output.html'"
            ]
          },
          "execution_count": 56,
          "metadata": {},
          "output_type": "execute_result"
        }
      ],
      "source": [
        "# html file\n",
        "plotly.offline.plot(fig, filename='output.html')"
      ]
    },
    {
      "attachments": {},
      "cell_type": "markdown",
      "metadata": {
        "id": "XrSndG4YH6bP"
      },
      "source": [
        "そして、左のフォルダからダウンロードできますし、以下のコードを利用して、ファイル名を指定し実行することで、ウェブ上にあるgoogle colaboratoryからローカルへファイルダウンロードができます。"
      ]
    },
    {
      "cell_type": "code",
      "execution_count": null,
      "metadata": {
        "colab": {
          "base_uri": "https://localhost:8080/",
          "height": 17
        },
        "id": "Izkb8M2Ktnc6",
        "outputId": "e4467a76-1bc6-49c8-e3b4-8e83e61de78d"
      },
      "outputs": [
        {
          "data": {
            "application/javascript": "\n    async function download(id, filename, size) {\n      if (!google.colab.kernel.accessAllowed) {\n        return;\n      }\n      const div = document.createElement('div');\n      const label = document.createElement('label');\n      label.textContent = `Downloading \"${filename}\": `;\n      div.appendChild(label);\n      const progress = document.createElement('progress');\n      progress.max = size;\n      div.appendChild(progress);\n      document.body.appendChild(div);\n\n      const buffers = [];\n      let downloaded = 0;\n\n      const channel = await google.colab.kernel.comms.open(id);\n      // Send a message to notify the kernel that we're ready.\n      channel.send({})\n\n      for await (const message of channel.messages) {\n        // Send a message to notify the kernel that we're ready.\n        channel.send({})\n        if (message.buffers) {\n          for (const buffer of message.buffers) {\n            buffers.push(buffer);\n            downloaded += buffer.byteLength;\n            progress.value = downloaded;\n          }\n        }\n      }\n      const blob = new Blob(buffers, {type: 'application/binary'});\n      const a = document.createElement('a');\n      a.href = window.URL.createObjectURL(blob);\n      a.download = filename;\n      div.appendChild(a);\n      a.click();\n      div.remove();\n    }\n  ",
            "text/plain": [
              "<IPython.core.display.Javascript object>"
            ]
          },
          "metadata": {},
          "output_type": "display_data"
        },
        {
          "data": {
            "application/javascript": "download(\"download_5d0e4f78-2b09-4191-ba90-0f2442777924\", \"output.html\", 3750859)",
            "text/plain": [
              "<IPython.core.display.Javascript object>"
            ]
          },
          "metadata": {},
          "output_type": "display_data"
        }
      ],
      "source": [
        "from google.colab import files\n",
        "files.download('output.html')"
      ]
    },
    {
      "attachments": {},
      "cell_type": "markdown",
      "metadata": {
        "id": "m81qI-gXUT49"
      },
      "source": [
        "上で見ていただいたように、Plotlyを使えば、インタラクティブにグラフを操作できることがわかったと思います。次に、ウェブのアプリ開発にも使えるDashを使っていきます。必要なパッケージをインストールします。Dashとこの環境でDashを使うため、jupyter_dashをインストールします。"
      ]
    },
    {
      "cell_type": "code",
      "execution_count": null,
      "metadata": {
        "colab": {
          "base_uri": "https://localhost:8080/"
        },
        "id": "I2nP-9Q3OHV_",
        "outputId": "eca8140e-b394-4c5c-c742-923c46d0877d"
      },
      "outputs": [
        {
          "name": "stdout",
          "output_type": "stream",
          "text": [
            "Collecting dash\n",
            "  Downloading dash-2.0.0-py3-none-any.whl (7.3 MB)\n",
            "\u001b[K     |████████████████████████████████| 7.3 MB 4.1 MB/s \n",
            "\u001b[?25hRequirement already satisfied: Flask>=1.0.4 in /usr/local/lib/python3.7/dist-packages (from dash) (1.1.4)\n",
            "Collecting dash-html-components==2.0.0\n",
            "  Downloading dash_html_components-2.0.0.tar.gz (3.8 kB)\n",
            "Collecting dash-core-components==2.0.0\n",
            "  Downloading dash_core_components-2.0.0.tar.gz (3.4 kB)\n",
            "Collecting flask-compress\n",
            "  Downloading Flask_Compress-1.10.1-py3-none-any.whl (7.9 kB)\n",
            "Collecting dash-table==5.0.0\n",
            "  Downloading dash_table-5.0.0.tar.gz (3.4 kB)\n",
            "Requirement already satisfied: plotly>=5.0.0 in /usr/local/lib/python3.7/dist-packages (from dash) (5.4.0)\n",
            "Requirement already satisfied: Jinja2<3.0,>=2.10.1 in /usr/local/lib/python3.7/dist-packages (from Flask>=1.0.4->dash) (2.11.3)\n",
            "Requirement already satisfied: click<8.0,>=5.1 in /usr/local/lib/python3.7/dist-packages (from Flask>=1.0.4->dash) (7.1.2)\n",
            "Requirement already satisfied: itsdangerous<2.0,>=0.24 in /usr/local/lib/python3.7/dist-packages (from Flask>=1.0.4->dash) (1.1.0)\n",
            "Requirement already satisfied: Werkzeug<2.0,>=0.15 in /usr/local/lib/python3.7/dist-packages (from Flask>=1.0.4->dash) (1.0.1)\n",
            "Requirement already satisfied: MarkupSafe>=0.23 in /usr/local/lib/python3.7/dist-packages (from Jinja2<3.0,>=2.10.1->Flask>=1.0.4->dash) (2.0.1)\n",
            "Requirement already satisfied: six in /usr/local/lib/python3.7/dist-packages (from plotly>=5.0.0->dash) (1.15.0)\n",
            "Requirement already satisfied: tenacity>=6.2.0 in /usr/local/lib/python3.7/dist-packages (from plotly>=5.0.0->dash) (8.0.1)\n",
            "Collecting brotli\n",
            "  Downloading Brotli-1.0.9-cp37-cp37m-manylinux1_x86_64.whl (357 kB)\n",
            "\u001b[K     |████████████████████████████████| 357 kB 45.8 MB/s \n",
            "\u001b[?25hBuilding wheels for collected packages: dash-core-components, dash-html-components, dash-table\n",
            "  Building wheel for dash-core-components (setup.py) ... \u001b[?25l\u001b[?25hdone\n",
            "  Created wheel for dash-core-components: filename=dash_core_components-2.0.0-py3-none-any.whl size=3821 sha256=fe3aa176e192d8029365d01a24c2165a4ee15288ba85b2fbdd9ff0766174819b\n",
            "  Stored in directory: /root/.cache/pip/wheels/00/f9/c7/1a6437d794ed753ea9bc9079e761d4fc803a1f1f5d3697b9ec\n",
            "  Building wheel for dash-html-components (setup.py) ... \u001b[?25l\u001b[?25hdone\n",
            "  Created wheel for dash-html-components: filename=dash_html_components-2.0.0-py3-none-any.whl size=4089 sha256=5bf0a69babeab70f1a9726b646d7e6e6986329bdfe4b90c95d2e279f94086183\n",
            "  Stored in directory: /root/.cache/pip/wheels/ec/6b/81/05aceabd8b27f724e2c96784016287cc1bfbc349ebfda451de\n",
            "  Building wheel for dash-table (setup.py) ... \u001b[?25l\u001b[?25hdone\n",
            "  Created wheel for dash-table: filename=dash_table-5.0.0-py3-none-any.whl size=3911 sha256=5553599a462cd322aad0b316a6b82214084d5bb3916afe9bdd9b7ead67d33051\n",
            "  Stored in directory: /root/.cache/pip/wheels/85/5d/4e/7c276b57992951dbe770bf5caad6448d0539c510663aefd2e2\n",
            "Successfully built dash-core-components dash-html-components dash-table\n",
            "Installing collected packages: brotli, flask-compress, dash-table, dash-html-components, dash-core-components, dash\n",
            "Successfully installed brotli-1.0.9 dash-2.0.0 dash-core-components-2.0.0 dash-html-components-2.0.0 dash-table-5.0.0 flask-compress-1.10.1\n"
          ]
        }
      ],
      "source": [
        "!pip install dash"
      ]
    },
    {
      "cell_type": "code",
      "execution_count": null,
      "metadata": {
        "colab": {
          "base_uri": "https://localhost:8080/"
        },
        "id": "ti0_h6MWO5iQ",
        "outputId": "4c264781-5aae-44e4-ec8d-733d7d3f7d64"
      },
      "outputs": [
        {
          "name": "stdout",
          "output_type": "stream",
          "text": [
            "Collecting jupyter_dash\n",
            "  Downloading jupyter_dash-0.4.0-py3-none-any.whl (20 kB)\n",
            "Requirement already satisfied: ipython in /usr/local/lib/python3.7/dist-packages (from jupyter_dash) (5.5.0)\n",
            "Requirement already satisfied: dash in /usr/local/lib/python3.7/dist-packages (from jupyter_dash) (2.0.0)\n",
            "Requirement already satisfied: requests in /usr/local/lib/python3.7/dist-packages (from jupyter_dash) (2.23.0)\n",
            "Collecting ansi2html\n",
            "  Downloading ansi2html-1.6.0-py3-none-any.whl (14 kB)\n",
            "Requirement already satisfied: retrying in /usr/local/lib/python3.7/dist-packages (from jupyter_dash) (1.3.3)\n",
            "Requirement already satisfied: ipykernel in /usr/local/lib/python3.7/dist-packages (from jupyter_dash) (4.10.1)\n",
            "Requirement already satisfied: flask in /usr/local/lib/python3.7/dist-packages (from jupyter_dash) (1.1.4)\n",
            "Requirement already satisfied: flask-compress in /usr/local/lib/python3.7/dist-packages (from dash->jupyter_dash) (1.10.1)\n",
            "Requirement already satisfied: dash-table==5.0.0 in /usr/local/lib/python3.7/dist-packages (from dash->jupyter_dash) (5.0.0)\n",
            "Requirement already satisfied: dash-html-components==2.0.0 in /usr/local/lib/python3.7/dist-packages (from dash->jupyter_dash) (2.0.0)\n",
            "Requirement already satisfied: dash-core-components==2.0.0 in /usr/local/lib/python3.7/dist-packages (from dash->jupyter_dash) (2.0.0)\n",
            "Requirement already satisfied: plotly>=5.0.0 in /usr/local/lib/python3.7/dist-packages (from dash->jupyter_dash) (5.4.0)\n",
            "Requirement already satisfied: click<8.0,>=5.1 in /usr/local/lib/python3.7/dist-packages (from flask->jupyter_dash) (7.1.2)\n",
            "Requirement already satisfied: itsdangerous<2.0,>=0.24 in /usr/local/lib/python3.7/dist-packages (from flask->jupyter_dash) (1.1.0)\n",
            "Requirement already satisfied: Werkzeug<2.0,>=0.15 in /usr/local/lib/python3.7/dist-packages (from flask->jupyter_dash) (1.0.1)\n",
            "Requirement already satisfied: Jinja2<3.0,>=2.10.1 in /usr/local/lib/python3.7/dist-packages (from flask->jupyter_dash) (2.11.3)\n",
            "Requirement already satisfied: MarkupSafe>=0.23 in /usr/local/lib/python3.7/dist-packages (from Jinja2<3.0,>=2.10.1->flask->jupyter_dash) (2.0.1)\n",
            "Requirement already satisfied: tenacity>=6.2.0 in /usr/local/lib/python3.7/dist-packages (from plotly>=5.0.0->dash->jupyter_dash) (8.0.1)\n",
            "Requirement already satisfied: six in /usr/local/lib/python3.7/dist-packages (from plotly>=5.0.0->dash->jupyter_dash) (1.15.0)\n",
            "Requirement already satisfied: brotli in /usr/local/lib/python3.7/dist-packages (from flask-compress->dash->jupyter_dash) (1.0.9)\n",
            "Requirement already satisfied: jupyter-client in /usr/local/lib/python3.7/dist-packages (from ipykernel->jupyter_dash) (5.3.5)\n",
            "Requirement already satisfied: tornado>=4.0 in /usr/local/lib/python3.7/dist-packages (from ipykernel->jupyter_dash) (5.1.1)\n",
            "Requirement already satisfied: traitlets>=4.1.0 in /usr/local/lib/python3.7/dist-packages (from ipykernel->jupyter_dash) (5.1.1)\n",
            "Requirement already satisfied: setuptools>=18.5 in /usr/local/lib/python3.7/dist-packages (from ipython->jupyter_dash) (57.4.0)\n",
            "Requirement already satisfied: pygments in /usr/local/lib/python3.7/dist-packages (from ipython->jupyter_dash) (2.6.1)\n",
            "Requirement already satisfied: pexpect in /usr/local/lib/python3.7/dist-packages (from ipython->jupyter_dash) (4.8.0)\n",
            "Requirement already satisfied: simplegeneric>0.8 in /usr/local/lib/python3.7/dist-packages (from ipython->jupyter_dash) (0.8.1)\n",
            "Requirement already satisfied: prompt-toolkit<2.0.0,>=1.0.4 in /usr/local/lib/python3.7/dist-packages (from ipython->jupyter_dash) (1.0.18)\n",
            "Requirement already satisfied: pickleshare in /usr/local/lib/python3.7/dist-packages (from ipython->jupyter_dash) (0.7.5)\n",
            "Requirement already satisfied: decorator in /usr/local/lib/python3.7/dist-packages (from ipython->jupyter_dash) (4.4.2)\n",
            "Requirement already satisfied: wcwidth in /usr/local/lib/python3.7/dist-packages (from prompt-toolkit<2.0.0,>=1.0.4->ipython->jupyter_dash) (0.2.5)\n",
            "Requirement already satisfied: jupyter-core>=4.6.0 in /usr/local/lib/python3.7/dist-packages (from jupyter-client->ipykernel->jupyter_dash) (4.9.1)\n",
            "Requirement already satisfied: pyzmq>=13 in /usr/local/lib/python3.7/dist-packages (from jupyter-client->ipykernel->jupyter_dash) (22.3.0)\n",
            "Requirement already satisfied: python-dateutil>=2.1 in /usr/local/lib/python3.7/dist-packages (from jupyter-client->ipykernel->jupyter_dash) (2.8.2)\n",
            "Requirement already satisfied: ptyprocess>=0.5 in /usr/local/lib/python3.7/dist-packages (from pexpect->ipython->jupyter_dash) (0.7.0)\n",
            "Requirement already satisfied: chardet<4,>=3.0.2 in /usr/local/lib/python3.7/dist-packages (from requests->jupyter_dash) (3.0.4)\n",
            "Requirement already satisfied: idna<3,>=2.5 in /usr/local/lib/python3.7/dist-packages (from requests->jupyter_dash) (2.10)\n",
            "Requirement already satisfied: certifi>=2017.4.17 in /usr/local/lib/python3.7/dist-packages (from requests->jupyter_dash) (2021.10.8)\n",
            "Requirement already satisfied: urllib3!=1.25.0,!=1.25.1,<1.26,>=1.21.1 in /usr/local/lib/python3.7/dist-packages (from requests->jupyter_dash) (1.24.3)\n",
            "Installing collected packages: ansi2html, jupyter-dash\n",
            "Successfully installed ansi2html-1.6.0 jupyter-dash-0.4.0\n"
          ]
        }
      ],
      "source": [
        "!pip install jupyter_dash"
      ]
    },
    {
      "attachments": {},
      "cell_type": "markdown",
      "metadata": {
        "id": "ekwvh5oZVLNN"
      },
      "source": [
        "次に、グラフ化する対象のデータを処理していきます。この講座の初級編でも取り扱ったECサイトの法人POSデータです。前処理等について同じのため、説明は割愛します。"
      ]
    },
    {
      "cell_type": "code",
      "execution_count": null,
      "metadata": {
        "id": "HLkCYt_OMQZI"
      },
      "outputs": [],
      "source": [
        "# UCIのウェブサイトにあるエクセルデータを読み込む\n",
        "# UCIのウェブサイトにあるデータをダウンロード\n",
        "!wget \"http://archive.ics.uci.edu/static/public/352/online+retail.zip\"\n",
        "# ダウンロードしたデータを解凍する\n",
        "!unzip \"./online+retail.zip\"\n",
        "# 解凍したエクセルデータを読み込む\n",
        "file_url = './Online Retail.xlsx'\n",
        "all_online_retail_data = pd.ExcelFile(file_url)\n",
        "online_retail_data_table = all_online_retail_data.parse('Online Retail')\n",
        "online_retail_data_table = online_retail_data_table[(online_retail_data_table.CustomerID.notnull())]\n",
        "online_retail_data_table.CustomerID = online_retail_data_table.CustomerID.astype(int)\n",
        "online_retail_data_table['TotalPrice'] = online_retail_data_table.Quantity * online_retail_data_table.UnitPrice\n",
        "online_retail_data_table.set_index(['InvoiceDate'],inplace=True)"
      ]
    },
    {
      "attachments": {},
      "cell_type": "markdown",
      "metadata": {
        "id": "dYL3PrlcVdms"
      },
      "source": [
        "次に、ここでチェックしたい項目を定めます。ここでは、月ごとの売上を国別にみたいとします。以下は、pandasのresample機能を使って、国ごと、月ごとに売上を算出しています。"
      ]
    },
    {
      "cell_type": "code",
      "execution_count": null,
      "metadata": {
        "colab": {
          "base_uri": "https://localhost:8080/",
          "height": 206
        },
        "id": "6FJi_7pgqW4S",
        "outputId": "aa44c958-0f06-4641-c501-8616dfe08122"
      },
      "outputs": [
        {
          "data": {
            "text/html": [
              "<div>\n",
              "<style scoped>\n",
              "    .dataframe tbody tr th:only-of-type {\n",
              "        vertical-align: middle;\n",
              "    }\n",
              "\n",
              "    .dataframe tbody tr th {\n",
              "        vertical-align: top;\n",
              "    }\n",
              "\n",
              "    .dataframe thead th {\n",
              "        text-align: right;\n",
              "    }\n",
              "</style>\n",
              "<table border=\"1\" class=\"dataframe\">\n",
              "  <thead>\n",
              "    <tr style=\"text-align: right;\">\n",
              "      <th></th>\n",
              "      <th>Country</th>\n",
              "      <th>InvoiceDate</th>\n",
              "      <th>TotalPrice</th>\n",
              "    </tr>\n",
              "  </thead>\n",
              "  <tbody>\n",
              "    <tr>\n",
              "      <th>0</th>\n",
              "      <td>Australia</td>\n",
              "      <td>2010-12-31</td>\n",
              "      <td>1005.10</td>\n",
              "    </tr>\n",
              "    <tr>\n",
              "      <th>1</th>\n",
              "      <td>Australia</td>\n",
              "      <td>2011-01-31</td>\n",
              "      <td>9017.71</td>\n",
              "    </tr>\n",
              "    <tr>\n",
              "      <th>2</th>\n",
              "      <td>Australia</td>\n",
              "      <td>2011-02-28</td>\n",
              "      <td>14627.47</td>\n",
              "    </tr>\n",
              "    <tr>\n",
              "      <th>3</th>\n",
              "      <td>Australia</td>\n",
              "      <td>2011-03-31</td>\n",
              "      <td>17055.29</td>\n",
              "    </tr>\n",
              "    <tr>\n",
              "      <th>4</th>\n",
              "      <td>Australia</td>\n",
              "      <td>2011-04-30</td>\n",
              "      <td>333.40</td>\n",
              "    </tr>\n",
              "  </tbody>\n",
              "</table>\n",
              "</div>"
            ],
            "text/plain": [
              "     Country InvoiceDate  TotalPrice\n",
              "0  Australia  2010-12-31     1005.10\n",
              "1  Australia  2011-01-31     9017.71\n",
              "2  Australia  2011-02-28    14627.47\n",
              "3  Australia  2011-03-31    17055.29\n",
              "4  Australia  2011-04-30      333.40"
            ]
          },
          "execution_count": 80,
          "metadata": {},
          "output_type": "execute_result"
        }
      ],
      "source": [
        "country_totalp_m_df = online_retail_data_table.groupby([\"Country\"])['TotalPrice'].resample('M').sum().reset_index()\n",
        "country_totalp_m_df.head()"
      ]
    },
    {
      "attachments": {},
      "cell_type": "markdown",
      "metadata": {
        "id": "36Fo6fxQvBIa"
      },
      "source": [
        "もちろん、Matplotlibを使えば、これらの一気にグラフ化することはできますが、ごちゃ混ぜで見にくくなります。そこで、先程のPlotlyとこのDashを使って、プルダウンで国を選択できるようにしましょう。必要なライブラリ等をインポートします。"
      ]
    },
    {
      "cell_type": "code",
      "execution_count": null,
      "metadata": {
        "id": "bY9X7C1CvPLn"
      },
      "outputs": [],
      "source": [
        "import dash \n",
        "from jupyter_dash import JupyterDash \n",
        "import dash_core_components as dcc \n",
        "from dash import html\n",
        "import plotly.express as px\n",
        "from dash.dependencies import Input, Output"
      ]
    },
    {
      "attachments": {},
      "cell_type": "markdown",
      "metadata": {
        "id": "bEHGE97VlCVd"
      },
      "source": [
        "以下を実行すると、月ごとの売上推移が表示され、その国を変更することで、時系列の売上グラフが変更されます。オーストラリアがデフォルトになっています。HTMLやCSSなどウェブ系の言語を知らなくても、ウェブブラウザ上でインタラクティブに動くグラフを作成することが可能になります。"
      ]
    },
    {
      "cell_type": "code",
      "execution_count": null,
      "metadata": {
        "colab": {
          "base_uri": "https://localhost:8080/",
          "height": 671
        },
        "id": "2WOC6z-Tq8sp",
        "outputId": "4fc8718e-8417-4d80-b38e-bc4f3140f9d0"
      },
      "outputs": [
        {
          "data": {
            "application/javascript": "(async (port, path, width, height, cache, element) => {\n    if (!google.colab.kernel.accessAllowed && !cache) {\n      return;\n    }\n    element.appendChild(document.createTextNode(''));\n    const url = await google.colab.kernel.proxyPort(port, {cache});\n    const iframe = document.createElement('iframe');\n    iframe.src = new URL(path, url).toString();\n    iframe.height = height;\n    iframe.width = width;\n    iframe.style.border = 0;\n    element.appendChild(iframe);\n  })(8050, \"/\", \"100%\", 650, false, window.element)",
            "text/plain": [
              "<IPython.core.display.Javascript object>"
            ]
          },
          "metadata": {},
          "output_type": "display_data"
        }
      ],
      "source": [
        "app = JupyterDash(__name__)\n",
        "app.layout = html.Div([\n",
        "                       dcc.Dropdown(id=\"my_dropdown\",\n",
        "                                    options=[{\"value\": cnt, \"label\": cnt} for cnt in country_totalp_m_df.Country.unique()],\n",
        "                                    value=\"Australia\"\n",
        "                                    ),\n",
        "                       dcc.Graph(id=\"my_graph\")\n",
        "])\n",
        "\n",
        "@app.callback(Output(\"my_graph\", \"figure\"), Input(\"my_dropdown\", \"value\"))\n",
        "def update_graph(selected_country):\n",
        "  selected_country_totalp_m_df = country_totalp_m_df[country_totalp_m_df[\"Country\"] == selected_country]\n",
        "  return px.line(selected_country_totalp_m_df, x=\"InvoiceDate\", y=\"TotalPrice\")\n",
        "\n",
        "app.run_server(mode=\"inline\")"
      ]
    },
    {
      "attachments": {},
      "cell_type": "markdown",
      "metadata": {
        "id": "CMbDSYtWWdIH"
      },
      "source": [
        "@のコールバックについてはみなれない方向けに簡単に解説をします。コールバックとは、ある特定のイベントが起きた時に、別の関数を呼び出すための処理です。何かの要素がクリックされたりしたときに、グラフが変更されたりします。上の例でいうと、update_graphで定めた関数で引数がselected_countryとなっています。関数の中身を見ると、あるCountryでフィルタリングされているのがわかると思います。"
      ]
    },
    {
      "attachments": {},
      "cell_type": "markdown",
      "metadata": {
        "id": "B2xJUSfqWqHX"
      },
      "source": [
        "次に、この月ごとの売上について、各国ごとにデータがあるため、世界地図を使って売上データの可視化をしていきましょう。実は、今回のケースでいうと地域が限られているため無理をして世界地図を作成する必要ないですが、世界地図を見ることで、地域ごとの偏りやその売上傾向を把握することができますので、その練習だと思って取り組みましょう。\n",
        "\n",
        "以下は、plotlyのexpressに入っているデータです。\n",
        "\n",
        "国名、 大陸名、 データ取得年度、 寿命、 人口、 一人当たりのGDP、 iso_lpha(国の略称)、iso_num（国のひも付け番号）になります。国の略称を使って国を認識したいため、以下のデータを先ほどの月ごと売上データと結合して使うことにします。"
      ]
    },
    {
      "cell_type": "code",
      "execution_count": null,
      "metadata": {
        "colab": {
          "base_uri": "https://localhost:8080/",
          "height": 206
        },
        "id": "NeOFSHl1ILU2",
        "outputId": "361d40e7-1ae4-4004-ca02-11735ebd2215"
      },
      "outputs": [
        {
          "data": {
            "text/html": [
              "<div>\n",
              "<style scoped>\n",
              "    .dataframe tbody tr th:only-of-type {\n",
              "        vertical-align: middle;\n",
              "    }\n",
              "\n",
              "    .dataframe tbody tr th {\n",
              "        vertical-align: top;\n",
              "    }\n",
              "\n",
              "    .dataframe thead th {\n",
              "        text-align: right;\n",
              "    }\n",
              "</style>\n",
              "<table border=\"1\" class=\"dataframe\">\n",
              "  <thead>\n",
              "    <tr style=\"text-align: right;\">\n",
              "      <th></th>\n",
              "      <th>country</th>\n",
              "      <th>continent</th>\n",
              "      <th>year</th>\n",
              "      <th>lifeExp</th>\n",
              "      <th>pop</th>\n",
              "      <th>gdpPercap</th>\n",
              "      <th>iso_alpha</th>\n",
              "      <th>iso_num</th>\n",
              "    </tr>\n",
              "  </thead>\n",
              "  <tbody>\n",
              "    <tr>\n",
              "      <th>0</th>\n",
              "      <td>Afghanistan</td>\n",
              "      <td>Asia</td>\n",
              "      <td>1952</td>\n",
              "      <td>28.801</td>\n",
              "      <td>8425333</td>\n",
              "      <td>779.445314</td>\n",
              "      <td>AFG</td>\n",
              "      <td>4</td>\n",
              "    </tr>\n",
              "    <tr>\n",
              "      <th>1</th>\n",
              "      <td>Afghanistan</td>\n",
              "      <td>Asia</td>\n",
              "      <td>1957</td>\n",
              "      <td>30.332</td>\n",
              "      <td>9240934</td>\n",
              "      <td>820.853030</td>\n",
              "      <td>AFG</td>\n",
              "      <td>4</td>\n",
              "    </tr>\n",
              "    <tr>\n",
              "      <th>2</th>\n",
              "      <td>Afghanistan</td>\n",
              "      <td>Asia</td>\n",
              "      <td>1962</td>\n",
              "      <td>31.997</td>\n",
              "      <td>10267083</td>\n",
              "      <td>853.100710</td>\n",
              "      <td>AFG</td>\n",
              "      <td>4</td>\n",
              "    </tr>\n",
              "    <tr>\n",
              "      <th>3</th>\n",
              "      <td>Afghanistan</td>\n",
              "      <td>Asia</td>\n",
              "      <td>1967</td>\n",
              "      <td>34.020</td>\n",
              "      <td>11537966</td>\n",
              "      <td>836.197138</td>\n",
              "      <td>AFG</td>\n",
              "      <td>4</td>\n",
              "    </tr>\n",
              "    <tr>\n",
              "      <th>4</th>\n",
              "      <td>Afghanistan</td>\n",
              "      <td>Asia</td>\n",
              "      <td>1972</td>\n",
              "      <td>36.088</td>\n",
              "      <td>13079460</td>\n",
              "      <td>739.981106</td>\n",
              "      <td>AFG</td>\n",
              "      <td>4</td>\n",
              "    </tr>\n",
              "  </tbody>\n",
              "</table>\n",
              "</div>"
            ],
            "text/plain": [
              "       country continent  year  ...   gdpPercap  iso_alpha  iso_num\n",
              "0  Afghanistan      Asia  1952  ...  779.445314        AFG        4\n",
              "1  Afghanistan      Asia  1957  ...  820.853030        AFG        4\n",
              "2  Afghanistan      Asia  1962  ...  853.100710        AFG        4\n",
              "3  Afghanistan      Asia  1967  ...  836.197138        AFG        4\n",
              "4  Afghanistan      Asia  1972  ...  739.981106        AFG        4\n",
              "\n",
              "[5 rows x 8 columns]"
            ]
          },
          "execution_count": 83,
          "metadata": {},
          "output_type": "execute_result"
        }
      ],
      "source": [
        "gapminder = px.data.gapminder()\n",
        "gapminder.head()"
      ]
    },
    {
      "attachments": {},
      "cell_type": "markdown",
      "metadata": {
        "id": "IzmnWJgB42NB"
      },
      "source": [
        "また、先ほどの売上データと結合するため、データカラム名を変更します。"
      ]
    },
    {
      "cell_type": "code",
      "execution_count": null,
      "metadata": {
        "id": "2UItQoJ3ft2B"
      },
      "outputs": [],
      "source": [
        "country_totalp_m_df.columns = [\"country\",\"invicedate\",\"totalprice\"]"
      ]
    },
    {
      "attachments": {},
      "cell_type": "markdown",
      "metadata": {
        "id": "dy_sDhIC49HP"
      },
      "source": [
        "以下では、それぞれの国ごとにレコードを絞るためにデータを処理しています。\n"
      ]
    },
    {
      "cell_type": "code",
      "execution_count": null,
      "metadata": {
        "colab": {
          "base_uri": "https://localhost:8080/",
          "height": 424
        },
        "id": "LZJuT83XftEP",
        "outputId": "c71ac88f-bdd0-4d99-808e-01bf571295d6"
      },
      "outputs": [
        {
          "data": {
            "text/html": [
              "<div>\n",
              "<style scoped>\n",
              "    .dataframe tbody tr th:only-of-type {\n",
              "        vertical-align: middle;\n",
              "    }\n",
              "\n",
              "    .dataframe tbody tr th {\n",
              "        vertical-align: top;\n",
              "    }\n",
              "\n",
              "    .dataframe thead th {\n",
              "        text-align: right;\n",
              "    }\n",
              "</style>\n",
              "<table border=\"1\" class=\"dataframe\">\n",
              "  <thead>\n",
              "    <tr style=\"text-align: right;\">\n",
              "      <th></th>\n",
              "      <th>country</th>\n",
              "      <th>continent</th>\n",
              "      <th>iso_num</th>\n",
              "      <th>iso_alpha</th>\n",
              "      <th>year</th>\n",
              "    </tr>\n",
              "  </thead>\n",
              "  <tbody>\n",
              "    <tr>\n",
              "      <th>0</th>\n",
              "      <td>Afghanistan</td>\n",
              "      <td>Asia</td>\n",
              "      <td>4</td>\n",
              "      <td>AFG</td>\n",
              "      <td>12</td>\n",
              "    </tr>\n",
              "    <tr>\n",
              "      <th>1</th>\n",
              "      <td>Albania</td>\n",
              "      <td>Europe</td>\n",
              "      <td>8</td>\n",
              "      <td>ALB</td>\n",
              "      <td>12</td>\n",
              "    </tr>\n",
              "    <tr>\n",
              "      <th>2</th>\n",
              "      <td>Algeria</td>\n",
              "      <td>Africa</td>\n",
              "      <td>12</td>\n",
              "      <td>DZA</td>\n",
              "      <td>12</td>\n",
              "    </tr>\n",
              "    <tr>\n",
              "      <th>3</th>\n",
              "      <td>Angola</td>\n",
              "      <td>Africa</td>\n",
              "      <td>24</td>\n",
              "      <td>AGO</td>\n",
              "      <td>12</td>\n",
              "    </tr>\n",
              "    <tr>\n",
              "      <th>4</th>\n",
              "      <td>Argentina</td>\n",
              "      <td>Americas</td>\n",
              "      <td>32</td>\n",
              "      <td>ARG</td>\n",
              "      <td>12</td>\n",
              "    </tr>\n",
              "    <tr>\n",
              "      <th>...</th>\n",
              "      <td>...</td>\n",
              "      <td>...</td>\n",
              "      <td>...</td>\n",
              "      <td>...</td>\n",
              "      <td>...</td>\n",
              "    </tr>\n",
              "    <tr>\n",
              "      <th>137</th>\n",
              "      <td>Vietnam</td>\n",
              "      <td>Asia</td>\n",
              "      <td>704</td>\n",
              "      <td>VNM</td>\n",
              "      <td>12</td>\n",
              "    </tr>\n",
              "    <tr>\n",
              "      <th>138</th>\n",
              "      <td>West Bank and Gaza</td>\n",
              "      <td>Asia</td>\n",
              "      <td>275</td>\n",
              "      <td>PSE</td>\n",
              "      <td>12</td>\n",
              "    </tr>\n",
              "    <tr>\n",
              "      <th>139</th>\n",
              "      <td>Yemen, Rep.</td>\n",
              "      <td>Asia</td>\n",
              "      <td>887</td>\n",
              "      <td>YEM</td>\n",
              "      <td>12</td>\n",
              "    </tr>\n",
              "    <tr>\n",
              "      <th>140</th>\n",
              "      <td>Zambia</td>\n",
              "      <td>Africa</td>\n",
              "      <td>894</td>\n",
              "      <td>ZMB</td>\n",
              "      <td>12</td>\n",
              "    </tr>\n",
              "    <tr>\n",
              "      <th>141</th>\n",
              "      <td>Zimbabwe</td>\n",
              "      <td>Africa</td>\n",
              "      <td>716</td>\n",
              "      <td>ZWE</td>\n",
              "      <td>12</td>\n",
              "    </tr>\n",
              "  </tbody>\n",
              "</table>\n",
              "<p>142 rows × 5 columns</p>\n",
              "</div>"
            ],
            "text/plain": [
              "                country continent  iso_num iso_alpha  year\n",
              "0           Afghanistan      Asia        4       AFG    12\n",
              "1               Albania    Europe        8       ALB    12\n",
              "2               Algeria    Africa       12       DZA    12\n",
              "3                Angola    Africa       24       AGO    12\n",
              "4             Argentina  Americas       32       ARG    12\n",
              "..                  ...       ...      ...       ...   ...\n",
              "137             Vietnam      Asia      704       VNM    12\n",
              "138  West Bank and Gaza      Asia      275       PSE    12\n",
              "139         Yemen, Rep.      Asia      887       YEM    12\n",
              "140              Zambia    Africa      894       ZMB    12\n",
              "141            Zimbabwe    Africa      716       ZWE    12\n",
              "\n",
              "[142 rows x 5 columns]"
            ]
          },
          "execution_count": 85,
          "metadata": {},
          "output_type": "execute_result"
        }
      ],
      "source": [
        "new_information_tb = gapminder.groupby([\"country\",\"continent\",\"iso_num\",\"iso_alpha\"])[\"year\"].count().reset_index()\n",
        "new_information_tb"
      ]
    },
    {
      "attachments": {},
      "cell_type": "markdown",
      "metadata": {
        "id": "YoLrYEMP5V3s"
      },
      "source": [
        "以下で、データのマージをします。さらに、naのレコードもあるため、ここでは一旦対象外とするため、削除します。"
      ]
    },
    {
      "cell_type": "code",
      "execution_count": null,
      "metadata": {
        "id": "sbZZFXd4gmhU"
      },
      "outputs": [],
      "source": [
        "merge_df = country_totalp_m_df.merge(new_information_tb, how='left',on=\"country\")"
      ]
    },
    {
      "cell_type": "code",
      "execution_count": null,
      "metadata": {
        "colab": {
          "base_uri": "https://localhost:8080/",
          "height": 424
        },
        "id": "RpRNle7jcv89",
        "outputId": "2c640c7e-4158-4e34-f9f9-c0fbbda970b5"
      },
      "outputs": [
        {
          "data": {
            "text/html": [
              "<div>\n",
              "<style scoped>\n",
              "    .dataframe tbody tr th:only-of-type {\n",
              "        vertical-align: middle;\n",
              "    }\n",
              "\n",
              "    .dataframe tbody tr th {\n",
              "        vertical-align: top;\n",
              "    }\n",
              "\n",
              "    .dataframe thead th {\n",
              "        text-align: right;\n",
              "    }\n",
              "</style>\n",
              "<table border=\"1\" class=\"dataframe\">\n",
              "  <thead>\n",
              "    <tr style=\"text-align: right;\">\n",
              "      <th></th>\n",
              "      <th>country</th>\n",
              "      <th>invicedate</th>\n",
              "      <th>totalprice</th>\n",
              "      <th>continent</th>\n",
              "      <th>iso_num</th>\n",
              "      <th>iso_alpha</th>\n",
              "      <th>year</th>\n",
              "    </tr>\n",
              "  </thead>\n",
              "  <tbody>\n",
              "    <tr>\n",
              "      <th>0</th>\n",
              "      <td>Australia</td>\n",
              "      <td>2010-12-31</td>\n",
              "      <td>1005.100</td>\n",
              "      <td>Oceania</td>\n",
              "      <td>36.0</td>\n",
              "      <td>AUS</td>\n",
              "      <td>12.0</td>\n",
              "    </tr>\n",
              "    <tr>\n",
              "      <th>1</th>\n",
              "      <td>Australia</td>\n",
              "      <td>2011-01-31</td>\n",
              "      <td>9017.710</td>\n",
              "      <td>Oceania</td>\n",
              "      <td>36.0</td>\n",
              "      <td>AUS</td>\n",
              "      <td>12.0</td>\n",
              "    </tr>\n",
              "    <tr>\n",
              "      <th>2</th>\n",
              "      <td>Australia</td>\n",
              "      <td>2011-02-28</td>\n",
              "      <td>14627.470</td>\n",
              "      <td>Oceania</td>\n",
              "      <td>36.0</td>\n",
              "      <td>AUS</td>\n",
              "      <td>12.0</td>\n",
              "    </tr>\n",
              "    <tr>\n",
              "      <th>3</th>\n",
              "      <td>Australia</td>\n",
              "      <td>2011-03-31</td>\n",
              "      <td>17055.290</td>\n",
              "      <td>Oceania</td>\n",
              "      <td>36.0</td>\n",
              "      <td>AUS</td>\n",
              "      <td>12.0</td>\n",
              "    </tr>\n",
              "    <tr>\n",
              "      <th>4</th>\n",
              "      <td>Australia</td>\n",
              "      <td>2011-04-30</td>\n",
              "      <td>333.400</td>\n",
              "      <td>Oceania</td>\n",
              "      <td>36.0</td>\n",
              "      <td>AUS</td>\n",
              "      <td>12.0</td>\n",
              "    </tr>\n",
              "    <tr>\n",
              "      <th>...</th>\n",
              "      <td>...</td>\n",
              "      <td>...</td>\n",
              "      <td>...</td>\n",
              "      <td>...</td>\n",
              "      <td>...</td>\n",
              "      <td>...</td>\n",
              "      <td>...</td>\n",
              "    </tr>\n",
              "    <tr>\n",
              "      <th>349</th>\n",
              "      <td>United Kingdom</td>\n",
              "      <td>2011-08-31</td>\n",
              "      <td>477008.410</td>\n",
              "      <td>Europe</td>\n",
              "      <td>826.0</td>\n",
              "      <td>GBR</td>\n",
              "      <td>12.0</td>\n",
              "    </tr>\n",
              "    <tr>\n",
              "      <th>350</th>\n",
              "      <td>United Kingdom</td>\n",
              "      <td>2011-09-30</td>\n",
              "      <td>776529.842</td>\n",
              "      <td>Europe</td>\n",
              "      <td>826.0</td>\n",
              "      <td>GBR</td>\n",
              "      <td>12.0</td>\n",
              "    </tr>\n",
              "    <tr>\n",
              "      <th>351</th>\n",
              "      <td>United Kingdom</td>\n",
              "      <td>2011-10-31</td>\n",
              "      <td>782777.880</td>\n",
              "      <td>Europe</td>\n",
              "      <td>826.0</td>\n",
              "      <td>GBR</td>\n",
              "      <td>12.0</td>\n",
              "    </tr>\n",
              "    <tr>\n",
              "      <th>352</th>\n",
              "      <td>United Kingdom</td>\n",
              "      <td>2011-11-30</td>\n",
              "      <td>956109.660</td>\n",
              "      <td>Europe</td>\n",
              "      <td>826.0</td>\n",
              "      <td>GBR</td>\n",
              "      <td>12.0</td>\n",
              "    </tr>\n",
              "    <tr>\n",
              "      <th>353</th>\n",
              "      <td>United Kingdom</td>\n",
              "      <td>2011-12-31</td>\n",
              "      <td>297920.470</td>\n",
              "      <td>Europe</td>\n",
              "      <td>826.0</td>\n",
              "      <td>GBR</td>\n",
              "      <td>12.0</td>\n",
              "    </tr>\n",
              "  </tbody>\n",
              "</table>\n",
              "<p>285 rows × 7 columns</p>\n",
              "</div>"
            ],
            "text/plain": [
              "            country invicedate  totalprice continent  iso_num iso_alpha  year\n",
              "0         Australia 2010-12-31    1005.100   Oceania     36.0       AUS  12.0\n",
              "1         Australia 2011-01-31    9017.710   Oceania     36.0       AUS  12.0\n",
              "2         Australia 2011-02-28   14627.470   Oceania     36.0       AUS  12.0\n",
              "3         Australia 2011-03-31   17055.290   Oceania     36.0       AUS  12.0\n",
              "4         Australia 2011-04-30     333.400   Oceania     36.0       AUS  12.0\n",
              "..              ...        ...         ...       ...      ...       ...   ...\n",
              "349  United Kingdom 2011-08-31  477008.410    Europe    826.0       GBR  12.0\n",
              "350  United Kingdom 2011-09-30  776529.842    Europe    826.0       GBR  12.0\n",
              "351  United Kingdom 2011-10-31  782777.880    Europe    826.0       GBR  12.0\n",
              "352  United Kingdom 2011-11-30  956109.660    Europe    826.0       GBR  12.0\n",
              "353  United Kingdom 2011-12-31  297920.470    Europe    826.0       GBR  12.0\n",
              "\n",
              "[285 rows x 7 columns]"
            ]
          },
          "execution_count": 87,
          "metadata": {},
          "output_type": "execute_result"
        }
      ],
      "source": [
        "merge_df.dropna(inplace=True)\n",
        "merge_df"
      ]
    },
    {
      "attachments": {},
      "cell_type": "markdown",
      "metadata": {
        "id": "qAWFIF6XInm4"
      },
      "source": [
        "そして、ここでは、以前見たようにイギリスの売上が大きすぎるので、一旦イギリスは省きます。また、一部売上がマイナスになっているため、それも排除します。"
      ]
    },
    {
      "cell_type": "code",
      "execution_count": null,
      "metadata": {
        "id": "89hDACvPkS0G"
      },
      "outputs": [],
      "source": [
        "new_merge_df = merge_df[(merge_df.totalprice>0) &(merge_df.country!=\"United Kingdom\")]"
      ]
    },
    {
      "attachments": {},
      "cell_type": "markdown",
      "metadata": {
        "id": "JH1athiS52Vc"
      },
      "source": [
        "次に、年月の表示形式するために型を変更します。"
      ]
    },
    {
      "cell_type": "code",
      "execution_count": null,
      "metadata": {
        "colab": {
          "base_uri": "https://localhost:8080/"
        },
        "id": "VYgfSU3m6B4L",
        "outputId": "842f841c-c641-41c7-b708-812dee57a8f5"
      },
      "outputs": [
        {
          "name": "stderr",
          "output_type": "stream",
          "text": [
            "/usr/local/lib/python3.7/dist-packages/ipykernel_launcher.py:1: SettingWithCopyWarning:\n",
            "\n",
            "\n",
            "A value is trying to be set on a copy of a slice from a DataFrame.\n",
            "Try using .loc[row_indexer,col_indexer] = value instead\n",
            "\n",
            "See the caveats in the documentation: https://pandas.pydata.org/pandas-docs/stable/user_guide/indexing.html#returning-a-view-versus-a-copy\n",
            "\n"
          ]
        }
      ],
      "source": [
        "new_merge_df[\"YYYYMM\"] = pd.to_datetime(new_merge_df[\"invicedate\"]).dt.strftime(\"%Y%m\")"
      ]
    },
    {
      "attachments": {},
      "cell_type": "markdown",
      "metadata": {
        "id": "hhvE7482vCTX"
      },
      "source": [
        "これでデータの前処理が終わりました。世界地図は、scatter_geoを使いまして、それぞれ対象となるデータ、区分するカラムやバブルの対象など設定します。\n",
        "\n",
        "\n",
        "以下でそれぞれの国ごとに、売上の大きさをバブルチャートの大きさにした世界地図になります。さらに、住んでいる地域も色分けされています。"
      ]
    },
    {
      "cell_type": "code",
      "execution_count": null,
      "metadata": {
        "colab": {
          "base_uri": "https://localhost:8080/",
          "height": 542
        },
        "id": "XK-hTir5kH6Q",
        "outputId": "9d71ead6-f738-40e5-aa7f-f8d1029743a1"
      },
      "outputs": [
        {
          "data": {
            "text/html": [
              "<html>\n",
              "<head><meta charset=\"utf-8\" /></head>\n",
              "<body>\n",
              "    <div>            <script src=\"https://cdnjs.cloudflare.com/ajax/libs/mathjax/2.7.5/MathJax.js?config=TeX-AMS-MML_SVG\"></script><script type=\"text/javascript\">if (window.MathJax) {MathJax.Hub.Config({SVG: {font: \"STIX-Web\"}});}</script>                <script type=\"text/javascript\">window.PlotlyConfig = {MathJaxConfig: 'local'};</script>\n",
              "        <script src=\"https://cdn.plot.ly/plotly-2.6.3.min.js\"></script>                <div id=\"acb49bcc-2281-46fc-bef1-df73effc6bcc\" class=\"plotly-graph-div\" style=\"height:525px; width:100%;\"></div>            <script type=\"text/javascript\">                                    window.PLOTLYENV=window.PLOTLYENV || {};                                    if (document.getElementById(\"acb49bcc-2281-46fc-bef1-df73effc6bcc\")) {                    Plotly.newPlot(                        \"acb49bcc-2281-46fc-bef1-df73effc6bcc\",                        [{\"geo\":\"geo\",\"hovertemplate\":\"<b>%{hovertext}</b><br><br>continent=Oceania<br>YYYYMM=201012<br>totalprice=%{marker.size}<br>iso_alpha=%{location}<extra></extra>\",\"hovertext\":[\"Australia\"],\"legendgroup\":\"Oceania\",\"locations\":[\"AUS\"],\"marker\":{\"color\":\"#636efa\",\"size\":[1005.0999999999999],\"sizemode\":\"area\",\"sizeref\":101.77162499999997,\"symbol\":\"circle\"},\"mode\":\"markers\",\"name\":\"Oceania\",\"showlegend\":true,\"type\":\"scattergeo\"},{\"geo\":\"geo\",\"hovertemplate\":\"<b>%{hovertext}</b><br><br>continent=Europe<br>YYYYMM=201012<br>totalprice=%{marker.size}<br>iso_alpha=%{location}<extra></extra>\",\"hovertext\":[\"Austria\",\"Belgium\",\"Denmark\",\"Finland\",\"France\",\"Germany\",\"Iceland\",\"Italy\",\"Netherlands\",\"Norway\",\"Poland\",\"Portugal\",\"Spain\",\"Sweden\",\"Switzerland\"],\"legendgroup\":\"Europe\",\"locations\":[\"AUT\",\"BEL\",\"DNK\",\"FIN\",\"FRA\",\"DEU\",\"ISL\",\"ITA\",\"NLD\",\"NOR\",\"POL\",\"PRT\",\"ESP\",\"SWE\",\"CHE\"],\"marker\":{\"color\":\"#EF553B\",\"size\":[257.04,1809.9099999999999,1281.5000000000002,892.8000000000001,9575.35999999999,14562.839999999995,711.79,794.5000000000001,8784.48,3787.1199999999994,248.16,2380.119999999999,1843.7299999999998,2646.2999999999997,1304.9199999999996],\"sizemode\":\"area\",\"sizeref\":101.77162499999997,\"symbol\":\"circle\"},\"mode\":\"markers\",\"name\":\"Europe\",\"showlegend\":true,\"type\":\"scattergeo\"},{\"geo\":\"geo\",\"hovertemplate\":\"<b>%{hovertext}</b><br><br>continent=Asia<br>YYYYMM=201012<br>totalprice=%{marker.size}<br>iso_alpha=%{location}<extra></extra>\",\"hovertext\":[\"Japan\"],\"legendgroup\":\"Asia\",\"locations\":[\"JPN\"],\"marker\":{\"color\":\"#00cc96\",\"size\":[7705.0700000000015],\"sizemode\":\"area\",\"sizeref\":101.77162499999997,\"symbol\":\"circle\"},\"mode\":\"markers\",\"name\":\"Asia\",\"showlegend\":true,\"type\":\"scattergeo\"}],                        {\"template\":{\"data\":{\"bar\":[{\"error_x\":{\"color\":\"#2a3f5f\"},\"error_y\":{\"color\":\"#2a3f5f\"},\"marker\":{\"line\":{\"color\":\"#E5ECF6\",\"width\":0.5},\"pattern\":{\"fillmode\":\"overlay\",\"size\":10,\"solidity\":0.2}},\"type\":\"bar\"}],\"barpolar\":[{\"marker\":{\"line\":{\"color\":\"#E5ECF6\",\"width\":0.5},\"pattern\":{\"fillmode\":\"overlay\",\"size\":10,\"solidity\":0.2}},\"type\":\"barpolar\"}],\"carpet\":[{\"aaxis\":{\"endlinecolor\":\"#2a3f5f\",\"gridcolor\":\"white\",\"linecolor\":\"white\",\"minorgridcolor\":\"white\",\"startlinecolor\":\"#2a3f5f\"},\"baxis\":{\"endlinecolor\":\"#2a3f5f\",\"gridcolor\":\"white\",\"linecolor\":\"white\",\"minorgridcolor\":\"white\",\"startlinecolor\":\"#2a3f5f\"},\"type\":\"carpet\"}],\"choropleth\":[{\"colorbar\":{\"outlinewidth\":0,\"ticks\":\"\"},\"type\":\"choropleth\"}],\"contour\":[{\"colorbar\":{\"outlinewidth\":0,\"ticks\":\"\"},\"colorscale\":[[0.0,\"#0d0887\"],[0.1111111111111111,\"#46039f\"],[0.2222222222222222,\"#7201a8\"],[0.3333333333333333,\"#9c179e\"],[0.4444444444444444,\"#bd3786\"],[0.5555555555555556,\"#d8576b\"],[0.6666666666666666,\"#ed7953\"],[0.7777777777777778,\"#fb9f3a\"],[0.8888888888888888,\"#fdca26\"],[1.0,\"#f0f921\"]],\"type\":\"contour\"}],\"contourcarpet\":[{\"colorbar\":{\"outlinewidth\":0,\"ticks\":\"\"},\"type\":\"contourcarpet\"}],\"heatmap\":[{\"colorbar\":{\"outlinewidth\":0,\"ticks\":\"\"},\"colorscale\":[[0.0,\"#0d0887\"],[0.1111111111111111,\"#46039f\"],[0.2222222222222222,\"#7201a8\"],[0.3333333333333333,\"#9c179e\"],[0.4444444444444444,\"#bd3786\"],[0.5555555555555556,\"#d8576b\"],[0.6666666666666666,\"#ed7953\"],[0.7777777777777778,\"#fb9f3a\"],[0.8888888888888888,\"#fdca26\"],[1.0,\"#f0f921\"]],\"type\":\"heatmap\"}],\"heatmapgl\":[{\"colorbar\":{\"outlinewidth\":0,\"ticks\":\"\"},\"colorscale\":[[0.0,\"#0d0887\"],[0.1111111111111111,\"#46039f\"],[0.2222222222222222,\"#7201a8\"],[0.3333333333333333,\"#9c179e\"],[0.4444444444444444,\"#bd3786\"],[0.5555555555555556,\"#d8576b\"],[0.6666666666666666,\"#ed7953\"],[0.7777777777777778,\"#fb9f3a\"],[0.8888888888888888,\"#fdca26\"],[1.0,\"#f0f921\"]],\"type\":\"heatmapgl\"}],\"histogram\":[{\"marker\":{\"pattern\":{\"fillmode\":\"overlay\",\"size\":10,\"solidity\":0.2}},\"type\":\"histogram\"}],\"histogram2d\":[{\"colorbar\":{\"outlinewidth\":0,\"ticks\":\"\"},\"colorscale\":[[0.0,\"#0d0887\"],[0.1111111111111111,\"#46039f\"],[0.2222222222222222,\"#7201a8\"],[0.3333333333333333,\"#9c179e\"],[0.4444444444444444,\"#bd3786\"],[0.5555555555555556,\"#d8576b\"],[0.6666666666666666,\"#ed7953\"],[0.7777777777777778,\"#fb9f3a\"],[0.8888888888888888,\"#fdca26\"],[1.0,\"#f0f921\"]],\"type\":\"histogram2d\"}],\"histogram2dcontour\":[{\"colorbar\":{\"outlinewidth\":0,\"ticks\":\"\"},\"colorscale\":[[0.0,\"#0d0887\"],[0.1111111111111111,\"#46039f\"],[0.2222222222222222,\"#7201a8\"],[0.3333333333333333,\"#9c179e\"],[0.4444444444444444,\"#bd3786\"],[0.5555555555555556,\"#d8576b\"],[0.6666666666666666,\"#ed7953\"],[0.7777777777777778,\"#fb9f3a\"],[0.8888888888888888,\"#fdca26\"],[1.0,\"#f0f921\"]],\"type\":\"histogram2dcontour\"}],\"mesh3d\":[{\"colorbar\":{\"outlinewidth\":0,\"ticks\":\"\"},\"type\":\"mesh3d\"}],\"parcoords\":[{\"line\":{\"colorbar\":{\"outlinewidth\":0,\"ticks\":\"\"}},\"type\":\"parcoords\"}],\"pie\":[{\"automargin\":true,\"type\":\"pie\"}],\"scatter\":[{\"marker\":{\"colorbar\":{\"outlinewidth\":0,\"ticks\":\"\"}},\"type\":\"scatter\"}],\"scatter3d\":[{\"line\":{\"colorbar\":{\"outlinewidth\":0,\"ticks\":\"\"}},\"marker\":{\"colorbar\":{\"outlinewidth\":0,\"ticks\":\"\"}},\"type\":\"scatter3d\"}],\"scattercarpet\":[{\"marker\":{\"colorbar\":{\"outlinewidth\":0,\"ticks\":\"\"}},\"type\":\"scattercarpet\"}],\"scattergeo\":[{\"marker\":{\"colorbar\":{\"outlinewidth\":0,\"ticks\":\"\"}},\"type\":\"scattergeo\"}],\"scattergl\":[{\"marker\":{\"colorbar\":{\"outlinewidth\":0,\"ticks\":\"\"}},\"type\":\"scattergl\"}],\"scattermapbox\":[{\"marker\":{\"colorbar\":{\"outlinewidth\":0,\"ticks\":\"\"}},\"type\":\"scattermapbox\"}],\"scatterpolar\":[{\"marker\":{\"colorbar\":{\"outlinewidth\":0,\"ticks\":\"\"}},\"type\":\"scatterpolar\"}],\"scatterpolargl\":[{\"marker\":{\"colorbar\":{\"outlinewidth\":0,\"ticks\":\"\"}},\"type\":\"scatterpolargl\"}],\"scatterternary\":[{\"marker\":{\"colorbar\":{\"outlinewidth\":0,\"ticks\":\"\"}},\"type\":\"scatterternary\"}],\"surface\":[{\"colorbar\":{\"outlinewidth\":0,\"ticks\":\"\"},\"colorscale\":[[0.0,\"#0d0887\"],[0.1111111111111111,\"#46039f\"],[0.2222222222222222,\"#7201a8\"],[0.3333333333333333,\"#9c179e\"],[0.4444444444444444,\"#bd3786\"],[0.5555555555555556,\"#d8576b\"],[0.6666666666666666,\"#ed7953\"],[0.7777777777777778,\"#fb9f3a\"],[0.8888888888888888,\"#fdca26\"],[1.0,\"#f0f921\"]],\"type\":\"surface\"}],\"table\":[{\"cells\":{\"fill\":{\"color\":\"#EBF0F8\"},\"line\":{\"color\":\"white\"}},\"header\":{\"fill\":{\"color\":\"#C8D4E3\"},\"line\":{\"color\":\"white\"}},\"type\":\"table\"}]},\"layout\":{\"annotationdefaults\":{\"arrowcolor\":\"#2a3f5f\",\"arrowhead\":0,\"arrowwidth\":1},\"autotypenumbers\":\"strict\",\"coloraxis\":{\"colorbar\":{\"outlinewidth\":0,\"ticks\":\"\"}},\"colorscale\":{\"diverging\":[[0,\"#8e0152\"],[0.1,\"#c51b7d\"],[0.2,\"#de77ae\"],[0.3,\"#f1b6da\"],[0.4,\"#fde0ef\"],[0.5,\"#f7f7f7\"],[0.6,\"#e6f5d0\"],[0.7,\"#b8e186\"],[0.8,\"#7fbc41\"],[0.9,\"#4d9221\"],[1,\"#276419\"]],\"sequential\":[[0.0,\"#0d0887\"],[0.1111111111111111,\"#46039f\"],[0.2222222222222222,\"#7201a8\"],[0.3333333333333333,\"#9c179e\"],[0.4444444444444444,\"#bd3786\"],[0.5555555555555556,\"#d8576b\"],[0.6666666666666666,\"#ed7953\"],[0.7777777777777778,\"#fb9f3a\"],[0.8888888888888888,\"#fdca26\"],[1.0,\"#f0f921\"]],\"sequentialminus\":[[0.0,\"#0d0887\"],[0.1111111111111111,\"#46039f\"],[0.2222222222222222,\"#7201a8\"],[0.3333333333333333,\"#9c179e\"],[0.4444444444444444,\"#bd3786\"],[0.5555555555555556,\"#d8576b\"],[0.6666666666666666,\"#ed7953\"],[0.7777777777777778,\"#fb9f3a\"],[0.8888888888888888,\"#fdca26\"],[1.0,\"#f0f921\"]]},\"colorway\":[\"#636efa\",\"#EF553B\",\"#00cc96\",\"#ab63fa\",\"#FFA15A\",\"#19d3f3\",\"#FF6692\",\"#B6E880\",\"#FF97FF\",\"#FECB52\"],\"font\":{\"color\":\"#2a3f5f\"},\"geo\":{\"bgcolor\":\"white\",\"lakecolor\":\"white\",\"landcolor\":\"#E5ECF6\",\"showlakes\":true,\"showland\":true,\"subunitcolor\":\"white\"},\"hoverlabel\":{\"align\":\"left\"},\"hovermode\":\"closest\",\"mapbox\":{\"style\":\"light\"},\"paper_bgcolor\":\"white\",\"plot_bgcolor\":\"#E5ECF6\",\"polar\":{\"angularaxis\":{\"gridcolor\":\"white\",\"linecolor\":\"white\",\"ticks\":\"\"},\"bgcolor\":\"#E5ECF6\",\"radialaxis\":{\"gridcolor\":\"white\",\"linecolor\":\"white\",\"ticks\":\"\"}},\"scene\":{\"xaxis\":{\"backgroundcolor\":\"#E5ECF6\",\"gridcolor\":\"white\",\"gridwidth\":2,\"linecolor\":\"white\",\"showbackground\":true,\"ticks\":\"\",\"zerolinecolor\":\"white\"},\"yaxis\":{\"backgroundcolor\":\"#E5ECF6\",\"gridcolor\":\"white\",\"gridwidth\":2,\"linecolor\":\"white\",\"showbackground\":true,\"ticks\":\"\",\"zerolinecolor\":\"white\"},\"zaxis\":{\"backgroundcolor\":\"#E5ECF6\",\"gridcolor\":\"white\",\"gridwidth\":2,\"linecolor\":\"white\",\"showbackground\":true,\"ticks\":\"\",\"zerolinecolor\":\"white\"}},\"shapedefaults\":{\"line\":{\"color\":\"#2a3f5f\"}},\"ternary\":{\"aaxis\":{\"gridcolor\":\"white\",\"linecolor\":\"white\",\"ticks\":\"\"},\"baxis\":{\"gridcolor\":\"white\",\"linecolor\":\"white\",\"ticks\":\"\"},\"bgcolor\":\"#E5ECF6\",\"caxis\":{\"gridcolor\":\"white\",\"linecolor\":\"white\",\"ticks\":\"\"}},\"title\":{\"x\":0.05},\"xaxis\":{\"automargin\":true,\"gridcolor\":\"white\",\"linecolor\":\"white\",\"ticks\":\"\",\"title\":{\"standoff\":15},\"zerolinecolor\":\"white\",\"zerolinewidth\":2},\"yaxis\":{\"automargin\":true,\"gridcolor\":\"white\",\"linecolor\":\"white\",\"ticks\":\"\",\"title\":{\"standoff\":15},\"zerolinecolor\":\"white\",\"zerolinewidth\":2}}},\"geo\":{\"domain\":{\"x\":[0.0,1.0],\"y\":[0.0,1.0]},\"projection\":{\"type\":\"natural earth\"},\"center\":{}},\"legend\":{\"title\":{\"text\":\"continent\"},\"tracegroupgap\":0,\"itemsizing\":\"constant\"},\"margin\":{\"t\":60},\"updatemenus\":[{\"buttons\":[{\"args\":[null,{\"frame\":{\"duration\":500,\"redraw\":true},\"mode\":\"immediate\",\"fromcurrent\":true,\"transition\":{\"duration\":500,\"easing\":\"linear\"}}],\"label\":\"&#9654;\",\"method\":\"animate\"},{\"args\":[[null],{\"frame\":{\"duration\":0,\"redraw\":true},\"mode\":\"immediate\",\"fromcurrent\":true,\"transition\":{\"duration\":0,\"easing\":\"linear\"}}],\"label\":\"&#9724;\",\"method\":\"animate\"}],\"direction\":\"left\",\"pad\":{\"r\":10,\"t\":70},\"showactive\":false,\"type\":\"buttons\",\"x\":0.1,\"xanchor\":\"right\",\"y\":0,\"yanchor\":\"top\"}],\"sliders\":[{\"active\":0,\"currentvalue\":{\"prefix\":\"YYYYMM=\"},\"len\":0.9,\"pad\":{\"b\":10,\"t\":60},\"steps\":[{\"args\":[[\"201012\"],{\"frame\":{\"duration\":0,\"redraw\":true},\"mode\":\"immediate\",\"fromcurrent\":true,\"transition\":{\"duration\":0,\"easing\":\"linear\"}}],\"label\":\"201012\",\"method\":\"animate\"},{\"args\":[[\"201101\"],{\"frame\":{\"duration\":0,\"redraw\":true},\"mode\":\"immediate\",\"fromcurrent\":true,\"transition\":{\"duration\":0,\"easing\":\"linear\"}}],\"label\":\"201101\",\"method\":\"animate\"},{\"args\":[[\"201102\"],{\"frame\":{\"duration\":0,\"redraw\":true},\"mode\":\"immediate\",\"fromcurrent\":true,\"transition\":{\"duration\":0,\"easing\":\"linear\"}}],\"label\":\"201102\",\"method\":\"animate\"},{\"args\":[[\"201103\"],{\"frame\":{\"duration\":0,\"redraw\":true},\"mode\":\"immediate\",\"fromcurrent\":true,\"transition\":{\"duration\":0,\"easing\":\"linear\"}}],\"label\":\"201103\",\"method\":\"animate\"},{\"args\":[[\"201104\"],{\"frame\":{\"duration\":0,\"redraw\":true},\"mode\":\"immediate\",\"fromcurrent\":true,\"transition\":{\"duration\":0,\"easing\":\"linear\"}}],\"label\":\"201104\",\"method\":\"animate\"},{\"args\":[[\"201105\"],{\"frame\":{\"duration\":0,\"redraw\":true},\"mode\":\"immediate\",\"fromcurrent\":true,\"transition\":{\"duration\":0,\"easing\":\"linear\"}}],\"label\":\"201105\",\"method\":\"animate\"},{\"args\":[[\"201106\"],{\"frame\":{\"duration\":0,\"redraw\":true},\"mode\":\"immediate\",\"fromcurrent\":true,\"transition\":{\"duration\":0,\"easing\":\"linear\"}}],\"label\":\"201106\",\"method\":\"animate\"},{\"args\":[[\"201107\"],{\"frame\":{\"duration\":0,\"redraw\":true},\"mode\":\"immediate\",\"fromcurrent\":true,\"transition\":{\"duration\":0,\"easing\":\"linear\"}}],\"label\":\"201107\",\"method\":\"animate\"},{\"args\":[[\"201108\"],{\"frame\":{\"duration\":0,\"redraw\":true},\"mode\":\"immediate\",\"fromcurrent\":true,\"transition\":{\"duration\":0,\"easing\":\"linear\"}}],\"label\":\"201108\",\"method\":\"animate\"},{\"args\":[[\"201109\"],{\"frame\":{\"duration\":0,\"redraw\":true},\"mode\":\"immediate\",\"fromcurrent\":true,\"transition\":{\"duration\":0,\"easing\":\"linear\"}}],\"label\":\"201109\",\"method\":\"animate\"},{\"args\":[[\"201110\"],{\"frame\":{\"duration\":0,\"redraw\":true},\"mode\":\"immediate\",\"fromcurrent\":true,\"transition\":{\"duration\":0,\"easing\":\"linear\"}}],\"label\":\"201110\",\"method\":\"animate\"},{\"args\":[[\"201111\"],{\"frame\":{\"duration\":0,\"redraw\":true},\"mode\":\"immediate\",\"fromcurrent\":true,\"transition\":{\"duration\":0,\"easing\":\"linear\"}}],\"label\":\"201111\",\"method\":\"animate\"},{\"args\":[[\"201112\"],{\"frame\":{\"duration\":0,\"redraw\":true},\"mode\":\"immediate\",\"fromcurrent\":true,\"transition\":{\"duration\":0,\"easing\":\"linear\"}}],\"label\":\"201112\",\"method\":\"animate\"}],\"x\":0.1,\"xanchor\":\"left\",\"y\":0,\"yanchor\":\"top\"}]},                        {\"responsive\": true}                    ).then(function(){\n",
              "                            Plotly.addFrames('acb49bcc-2281-46fc-bef1-df73effc6bcc', [{\"data\":[{\"geo\":\"geo\",\"hovertemplate\":\"<b>%{hovertext}</b><br><br>continent=Oceania<br>YYYYMM=201012<br>totalprice=%{marker.size}<br>iso_alpha=%{location}<extra></extra>\",\"hovertext\":[\"Australia\"],\"legendgroup\":\"Oceania\",\"locations\":[\"AUS\"],\"marker\":{\"color\":\"#636efa\",\"size\":[1005.0999999999999],\"sizemode\":\"area\",\"sizeref\":101.77162499999997,\"symbol\":\"circle\"},\"mode\":\"markers\",\"name\":\"Oceania\",\"showlegend\":true,\"type\":\"scattergeo\"},{\"geo\":\"geo\",\"hovertemplate\":\"<b>%{hovertext}</b><br><br>continent=Europe<br>YYYYMM=201012<br>totalprice=%{marker.size}<br>iso_alpha=%{location}<extra></extra>\",\"hovertext\":[\"Austria\",\"Belgium\",\"Denmark\",\"Finland\",\"France\",\"Germany\",\"Iceland\",\"Italy\",\"Netherlands\",\"Norway\",\"Poland\",\"Portugal\",\"Spain\",\"Sweden\",\"Switzerland\"],\"legendgroup\":\"Europe\",\"locations\":[\"AUT\",\"BEL\",\"DNK\",\"FIN\",\"FRA\",\"DEU\",\"ISL\",\"ITA\",\"NLD\",\"NOR\",\"POL\",\"PRT\",\"ESP\",\"SWE\",\"CHE\"],\"marker\":{\"color\":\"#EF553B\",\"size\":[257.04,1809.9099999999999,1281.5000000000002,892.8000000000001,9575.35999999999,14562.839999999995,711.79,794.5000000000001,8784.48,3787.1199999999994,248.16,2380.119999999999,1843.7299999999998,2646.2999999999997,1304.9199999999996],\"sizemode\":\"area\",\"sizeref\":101.77162499999997,\"symbol\":\"circle\"},\"mode\":\"markers\",\"name\":\"Europe\",\"showlegend\":true,\"type\":\"scattergeo\"},{\"geo\":\"geo\",\"hovertemplate\":\"<b>%{hovertext}</b><br><br>continent=Asia<br>YYYYMM=201012<br>totalprice=%{marker.size}<br>iso_alpha=%{location}<extra></extra>\",\"hovertext\":[\"Japan\"],\"legendgroup\":\"Asia\",\"locations\":[\"JPN\"],\"marker\":{\"color\":\"#00cc96\",\"size\":[7705.0700000000015],\"sizemode\":\"area\",\"sizeref\":101.77162499999997,\"symbol\":\"circle\"},\"mode\":\"markers\",\"name\":\"Asia\",\"showlegend\":true,\"type\":\"scattergeo\"}],\"name\":\"201012\"},{\"data\":[{\"geo\":\"geo\",\"hovertemplate\":\"<b>%{hovertext}</b><br><br>continent=Oceania<br>YYYYMM=201101<br>totalprice=%{marker.size}<br>iso_alpha=%{location}<extra></extra>\",\"hovertext\":[\"Australia\"],\"legendgroup\":\"Oceania\",\"locations\":[\"AUS\"],\"marker\":{\"color\":\"#636efa\",\"size\":[9017.709999999995],\"sizemode\":\"area\",\"sizeref\":101.77162499999997,\"symbol\":\"circle\"},\"mode\":\"markers\",\"name\":\"Oceania\",\"showlegend\":true,\"type\":\"scattergeo\"},{\"geo\":\"geo\",\"hovertemplate\":\"<b>%{hovertext}</b><br><br>continent=Europe<br>YYYYMM=201101<br>totalprice=%{marker.size}<br>iso_alpha=%{location}<extra></extra>\",\"hovertext\":[\"Belgium\",\"Finland\",\"France\",\"Germany\",\"Greece\",\"Iceland\",\"Italy\",\"Netherlands\",\"Poland\",\"Portugal\",\"Spain\",\"Sweden\",\"Switzerland\"],\"legendgroup\":\"Europe\",\"locations\":[\"BEL\",\"FIN\",\"FRA\",\"DEU\",\"GRC\",\"ISL\",\"ITA\",\"NLD\",\"POL\",\"PRT\",\"ESP\",\"SWE\",\"CHE\"],\"marker\":{\"color\":\"#EF553B\",\"size\":[1154.05,889.02,17503.07000000001,16451.43,2661.24,475.39,2361.359999999998,26611.16000000001,613.22,3998.1099999999997,7178.540000000003,3446.3199999999997,4231.229999999998],\"sizemode\":\"area\",\"sizeref\":101.77162499999997,\"symbol\":\"circle\"},\"mode\":\"markers\",\"name\":\"Europe\",\"showlegend\":true,\"type\":\"scattergeo\"},{\"geo\":\"geo\",\"hovertemplate\":\"<b>%{hovertext}</b><br><br>continent=Asia<br>YYYYMM=201101<br>totalprice=%{marker.size}<br>iso_alpha=%{location}<extra></extra>\",\"hovertext\":[\"Lebanon\",\"Singapore\"],\"legendgroup\":\"Asia\",\"locations\":[\"LBN\",\"SGP\"],\"marker\":{\"color\":\"#00cc96\",\"size\":[1693.8800000000003,2053.07],\"sizemode\":\"area\",\"sizeref\":101.77162499999997,\"symbol\":\"circle\"},\"mode\":\"markers\",\"name\":\"Asia\",\"showlegend\":true,\"type\":\"scattergeo\"}],\"name\":\"201101\"},{\"data\":[{\"geo\":\"geo\",\"hovertemplate\":\"<b>%{hovertext}</b><br><br>continent=Oceania<br>YYYYMM=201102<br>totalprice=%{marker.size}<br>iso_alpha=%{location}<extra></extra>\",\"hovertext\":[\"Australia\"],\"legendgroup\":\"Oceania\",\"locations\":[\"AUS\"],\"marker\":{\"color\":\"#636efa\",\"size\":[14627.469999999996],\"sizemode\":\"area\",\"sizeref\":101.77162499999997,\"symbol\":\"circle\"},\"mode\":\"markers\",\"name\":\"Oceania\",\"showlegend\":true,\"type\":\"scattergeo\"},{\"geo\":\"geo\",\"hovertemplate\":\"<b>%{hovertext}</b><br><br>continent=Europe<br>YYYYMM=201102<br>totalprice=%{marker.size}<br>iso_alpha=%{location}<extra></extra>\",\"hovertext\":[\"Austria\",\"Belgium\",\"Czech Republic\",\"Denmark\",\"Finland\",\"France\",\"Germany\",\"Italy\",\"Netherlands\",\"Norway\",\"Poland\",\"Portugal\",\"Spain\",\"Sweden\",\"Switzerland\"],\"legendgroup\":\"Europe\",\"locations\":[\"AUT\",\"BEL\",\"CZE\",\"DNK\",\"FIN\",\"FRA\",\"DEU\",\"ITA\",\"NLD\",\"NOR\",\"POL\",\"PRT\",\"ESP\",\"SWE\",\"CHE\"],\"marker\":{\"color\":\"#EF553B\",\"size\":[518.3600000000001,2161.320000000001,549.26,399.22,205.15999999999997,8438.909999999998,8969.239999999993,251.50000000000003,22932.110000000004,630.9000000000001,604.0499999999998,1213.9,2093.700000000002,509.5,2642.6699999999996],\"sizemode\":\"area\",\"sizeref\":101.77162499999997,\"symbol\":\"circle\"},\"mode\":\"markers\",\"name\":\"Europe\",\"showlegend\":true,\"type\":\"scattergeo\"},{\"geo\":\"geo\",\"hovertemplate\":\"<b>%{hovertext}</b><br><br>continent=Asia<br>YYYYMM=201102<br>totalprice=%{marker.size}<br>iso_alpha=%{location}<extra></extra>\",\"hovertext\":[\"Israel\",\"Japan\",\"Saudi Arabia\"],\"legendgroup\":\"Asia\",\"locations\":[\"ISR\",\"JPN\",\"SAU\"],\"marker\":{\"color\":\"#00cc96\",\"size\":[779.1,5780.8099999999995,145.92],\"sizemode\":\"area\",\"sizeref\":101.77162499999997,\"symbol\":\"circle\"},\"mode\":\"markers\",\"name\":\"Asia\",\"showlegend\":true,\"type\":\"scattergeo\"}],\"name\":\"201102\"},{\"data\":[{\"geo\":\"geo\",\"hovertemplate\":\"<b>%{hovertext}</b><br><br>continent=Oceania<br>YYYYMM=201103<br>totalprice=%{marker.size}<br>iso_alpha=%{location}<extra></extra>\",\"hovertext\":[\"Australia\"],\"legendgroup\":\"Oceania\",\"locations\":[\"AUS\"],\"marker\":{\"color\":\"#636efa\",\"size\":[17055.29000000001],\"sizemode\":\"area\",\"sizeref\":101.77162499999997,\"symbol\":\"circle\"},\"mode\":\"markers\",\"name\":\"Oceania\",\"showlegend\":true,\"type\":\"scattergeo\"},{\"geo\":\"geo\",\"hovertemplate\":\"<b>%{hovertext}</b><br><br>continent=Europe<br>YYYYMM=201103<br>totalprice=%{marker.size}<br>iso_alpha=%{location}<extra></extra>\",\"hovertext\":[\"Austria\",\"Belgium\",\"Denmark\",\"Finland\",\"France\",\"Germany\",\"Greece\",\"Italy\",\"Netherlands\",\"Norway\",\"Poland\",\"Portugal\",\"Spain\",\"Sweden\",\"Switzerland\"],\"legendgroup\":\"Europe\",\"locations\":[\"AUT\",\"BEL\",\"DNK\",\"FIN\",\"FRA\",\"DEU\",\"GRC\",\"ITA\",\"NLD\",\"NOR\",\"POL\",\"PRT\",\"ESP\",\"SWE\",\"CHE\"],\"marker\":{\"color\":\"#EF553B\",\"size\":[1708.1200000000001,3333.5799999999995,3978.9899999999993,5924.62,14516.900000000005,14170.019999999988,387.31,1778.9100000000005,22416.489999999994,304.67999999999995,303.39,2660.8500000000017,5326.65,4540.58,1870.230000000001],\"sizemode\":\"area\",\"sizeref\":101.77162499999997,\"symbol\":\"circle\"},\"mode\":\"markers\",\"name\":\"Europe\",\"showlegend\":true,\"type\":\"scattergeo\"},{\"geo\":\"geo\",\"hovertemplate\":\"<b>%{hovertext}</b><br><br>continent=Americas<br>YYYYMM=201103<br>totalprice=%{marker.size}<br>iso_alpha=%{location}<extra></extra>\",\"hovertext\":[\"Canada\"],\"legendgroup\":\"Americas\",\"locations\":[\"CAN\"],\"marker\":{\"color\":\"#ab63fa\",\"size\":[140.54],\"sizemode\":\"area\",\"sizeref\":101.77162499999997,\"symbol\":\"circle\"},\"mode\":\"markers\",\"name\":\"Americas\",\"showlegend\":true,\"type\":\"scattergeo\"}],\"name\":\"201103\"},{\"data\":[{\"geo\":\"geo\",\"hovertemplate\":\"<b>%{hovertext}</b><br><br>continent=Oceania<br>YYYYMM=201104<br>totalprice=%{marker.size}<br>iso_alpha=%{location}<extra></extra>\",\"hovertext\":[\"Australia\"],\"legendgroup\":\"Oceania\",\"locations\":[\"AUS\"],\"marker\":{\"color\":\"#636efa\",\"size\":[333.4000000000002],\"sizemode\":\"area\",\"sizeref\":101.77162499999997,\"symbol\":\"circle\"},\"mode\":\"markers\",\"name\":\"Oceania\",\"showlegend\":true,\"type\":\"scattergeo\"},{\"geo\":\"geo\",\"hovertemplate\":\"<b>%{hovertext}</b><br><br>continent=Europe<br>YYYYMM=201104<br>totalprice=%{marker.size}<br>iso_alpha=%{location}<extra></extra>\",\"hovertext\":[\"Austria\",\"Belgium\",\"Finland\",\"France\",\"Germany\",\"Greece\",\"Iceland\",\"Italy\",\"Netherlands\",\"Poland\",\"Portugal\",\"Spain\",\"Sweden\",\"Switzerland\"],\"legendgroup\":\"Europe\",\"locations\":[\"AUT\",\"BEL\",\"FIN\",\"FRA\",\"DEU\",\"GRC\",\"ISL\",\"ITA\",\"NLD\",\"POL\",\"PRT\",\"ESP\",\"SWE\",\"CHE\"],\"marker\":{\"color\":\"#EF553B\",\"size\":[680.7800000000002,1954.1499999999999,1626.8100000000004,4195.209999999998,11963.369999999992,609.74,636.25,737.8299999999999,2976.5600000000004,705.8399999999999,1687.750000000001,1785.6500000000008,809.1000000000001,1822.19],\"sizemode\":\"area\",\"sizeref\":101.77162499999997,\"symbol\":\"circle\"},\"mode\":\"markers\",\"name\":\"Europe\",\"showlegend\":true,\"type\":\"scattergeo\"},{\"geo\":\"geo\",\"hovertemplate\":\"<b>%{hovertext}</b><br><br>continent=Asia<br>YYYYMM=201104<br>totalprice=%{marker.size}<br>iso_alpha=%{location}<extra></extra>\",\"hovertext\":[\"Japan\",\"Singapore\"],\"legendgroup\":\"Asia\",\"locations\":[\"JPN\",\"SGP\"],\"marker\":{\"color\":\"#00cc96\",\"size\":[4871.830000000001,2118.7399999999984],\"sizemode\":\"area\",\"sizeref\":101.77162499999997,\"symbol\":\"circle\"},\"mode\":\"markers\",\"name\":\"Asia\",\"showlegend\":true,\"type\":\"scattergeo\"},{\"geo\":\"geo\",\"hovertemplate\":\"<b>%{hovertext}</b><br><br>continent=Americas<br>YYYYMM=201104<br>totalprice=%{marker.size}<br>iso_alpha=%{location}<extra></extra>\",\"hovertext\":[\"Brazil\"],\"legendgroup\":\"Americas\",\"locations\":[\"BRA\"],\"marker\":{\"color\":\"#ab63fa\",\"size\":[1143.6000000000001],\"sizemode\":\"area\",\"sizeref\":101.77162499999997,\"symbol\":\"circle\"},\"mode\":\"markers\",\"name\":\"Americas\",\"showlegend\":true,\"type\":\"scattergeo\"}],\"name\":\"201104\"},{\"data\":[{\"geo\":\"geo\",\"hovertemplate\":\"<b>%{hovertext}</b><br><br>continent=Oceania<br>YYYYMM=201105<br>totalprice=%{marker.size}<br>iso_alpha=%{location}<extra></extra>\",\"hovertext\":[\"Australia\"],\"legendgroup\":\"Oceania\",\"locations\":[\"AUS\"],\"marker\":{\"color\":\"#636efa\",\"size\":[13628.510000000006],\"sizemode\":\"area\",\"sizeref\":101.77162499999997,\"symbol\":\"circle\"},\"mode\":\"markers\",\"name\":\"Oceania\",\"showlegend\":true,\"type\":\"scattergeo\"},{\"geo\":\"geo\",\"hovertemplate\":\"<b>%{hovertext}</b><br><br>continent=Europe<br>YYYYMM=201105<br>totalprice=%{marker.size}<br>iso_alpha=%{location}<extra></extra>\",\"hovertext\":[\"Austria\",\"Belgium\",\"Denmark\",\"France\",\"Germany\",\"Italy\",\"Netherlands\",\"Poland\",\"Portugal\",\"Spain\",\"Sweden\",\"Switzerland\"],\"legendgroup\":\"Europe\",\"locations\":[\"AUT\",\"BEL\",\"DNK\",\"FRA\",\"DEU\",\"ITA\",\"NLD\",\"POL\",\"PRT\",\"ESP\",\"SWE\",\"CHE\"],\"marker\":{\"color\":\"#EF553B\",\"size\":[1249.4299999999998,2727.0000000000005,515.7,17527.079999999976,25571.349999999977,587.45,29185.88,1522.3700000000003,587.8300000000002,3257.6,2664.98,3567.2100000000005],\"sizemode\":\"area\",\"sizeref\":101.77162499999997,\"symbol\":\"circle\"},\"mode\":\"markers\",\"name\":\"Europe\",\"showlegend\":true,\"type\":\"scattergeo\"},{\"geo\":\"geo\",\"hovertemplate\":\"<b>%{hovertext}</b><br><br>continent=Asia<br>YYYYMM=201105<br>totalprice=%{marker.size}<br>iso_alpha=%{location}<extra></extra>\",\"hovertext\":[\"Bahrain\",\"Japan\"],\"legendgroup\":\"Asia\",\"locations\":[\"BHR\",\"JPN\"],\"marker\":{\"color\":\"#00cc96\",\"size\":[548.4,1351.4499999999998],\"sizemode\":\"area\",\"sizeref\":101.77162499999997,\"symbol\":\"circle\"},\"mode\":\"markers\",\"name\":\"Asia\",\"showlegend\":true,\"type\":\"scattergeo\"},{\"geo\":\"geo\",\"hovertemplate\":\"<b>%{hovertext}</b><br><br>continent=Americas<br>YYYYMM=201105<br>totalprice=%{marker.size}<br>iso_alpha=%{location}<extra></extra>\",\"hovertext\":[\"Canada\"],\"legendgroup\":\"Americas\",\"locations\":[\"CAN\"],\"marker\":{\"color\":\"#ab63fa\",\"size\":[534.24],\"sizemode\":\"area\",\"sizeref\":101.77162499999997,\"symbol\":\"circle\"},\"mode\":\"markers\",\"name\":\"Americas\",\"showlegend\":true,\"type\":\"scattergeo\"}],\"name\":\"201105\"},{\"data\":[{\"geo\":\"geo\",\"hovertemplate\":\"<b>%{hovertext}</b><br><br>continent=Oceania<br>YYYYMM=201106<br>totalprice=%{marker.size}<br>iso_alpha=%{location}<extra></extra>\",\"hovertext\":[\"Australia\"],\"legendgroup\":\"Oceania\",\"locations\":[\"AUS\"],\"marker\":{\"color\":\"#636efa\",\"size\":[25164.769999999997],\"sizemode\":\"area\",\"sizeref\":101.77162499999997,\"symbol\":\"circle\"},\"mode\":\"markers\",\"name\":\"Oceania\",\"showlegend\":true,\"type\":\"scattergeo\"},{\"geo\":\"geo\",\"hovertemplate\":\"<b>%{hovertext}</b><br><br>continent=Europe<br>YYYYMM=201106<br>totalprice=%{marker.size}<br>iso_alpha=%{location}<extra></extra>\",\"hovertext\":[\"Belgium\",\"Denmark\",\"Finland\",\"France\",\"Germany\",\"Iceland\",\"Italy\",\"Netherlands\",\"Norway\",\"Poland\",\"Portugal\",\"Spain\",\"Sweden\",\"Switzerland\"],\"legendgroup\":\"Europe\",\"locations\":[\"BEL\",\"DNK\",\"FIN\",\"FRA\",\"DEU\",\"ISL\",\"ITA\",\"NLD\",\"NOR\",\"POL\",\"PRT\",\"ESP\",\"SWE\",\"CHE\"],\"marker\":{\"color\":\"#EF553B\",\"size\":[4273.170000000001,3261.1500000000005,329.56,15722.429999999982,13081.019999999991,382.52,162.27,26843.090000000015,5886.860000000001,264.74,879.51,3332.4400000000005,831.9999999999997,7882.2],\"sizemode\":\"area\",\"sizeref\":101.77162499999997,\"symbol\":\"circle\"},\"mode\":\"markers\",\"name\":\"Europe\",\"showlegend\":true,\"type\":\"scattergeo\"},{\"geo\":\"geo\",\"hovertemplate\":\"<b>%{hovertext}</b><br><br>continent=Asia<br>YYYYMM=201106<br>totalprice=%{marker.size}<br>iso_alpha=%{location}<extra></extra>\",\"hovertext\":[\"Japan\"],\"legendgroup\":\"Asia\",\"locations\":[\"JPN\"],\"marker\":{\"color\":\"#00cc96\",\"size\":[1607.0399999999997],\"sizemode\":\"area\",\"sizeref\":101.77162499999997,\"symbol\":\"circle\"},\"mode\":\"markers\",\"name\":\"Asia\",\"showlegend\":true,\"type\":\"scattergeo\"},{\"geo\":\"geo\",\"hovertemplate\":\"<b>%{hovertext}</b><br><br>continent=Americas<br>YYYYMM=201106<br>totalprice=%{marker.size}<br>iso_alpha=%{location}<extra></extra>\",\"hovertext\":[\"Canada\"],\"legendgroup\":\"Americas\",\"locations\":[\"CAN\"],\"marker\":{\"color\":\"#ab63fa\",\"size\":[1171.4600000000003],\"sizemode\":\"area\",\"sizeref\":101.77162499999997,\"symbol\":\"circle\"},\"mode\":\"markers\",\"name\":\"Americas\",\"showlegend\":true,\"type\":\"scattergeo\"}],\"name\":\"201106\"},{\"data\":[{\"geo\":\"geo\",\"hovertemplate\":\"<b>%{hovertext}</b><br><br>continent=Oceania<br>YYYYMM=201107<br>totalprice=%{marker.size}<br>iso_alpha=%{location}<extra></extra>\",\"hovertext\":[\"Australia\"],\"legendgroup\":\"Oceania\",\"locations\":[\"AUS\"],\"marker\":{\"color\":\"#636efa\",\"size\":[4767.569999999998],\"sizemode\":\"area\",\"sizeref\":101.77162499999997,\"symbol\":\"circle\"},\"mode\":\"markers\",\"name\":\"Oceania\",\"showlegend\":true,\"type\":\"scattergeo\"},{\"geo\":\"geo\",\"hovertemplate\":\"<b>%{hovertext}</b><br><br>continent=Europe<br>YYYYMM=201107<br>totalprice=%{marker.size}<br>iso_alpha=%{location}<extra></extra>\",\"hovertext\":[\"Austria\",\"Belgium\",\"Denmark\",\"Finland\",\"France\",\"Germany\",\"Greece\",\"Italy\",\"Netherlands\",\"Norway\",\"Poland\",\"Portugal\",\"Spain\",\"Sweden\",\"Switzerland\"],\"legendgroup\":\"Europe\",\"locations\":[\"AUT\",\"BEL\",\"DNK\",\"FIN\",\"FRA\",\"DEU\",\"GRC\",\"ITA\",\"NLD\",\"NOR\",\"POL\",\"PRT\",\"ESP\",\"SWE\",\"CHE\"],\"marker\":{\"color\":\"#EF553B\",\"size\":[1191.9499999999998,2473.62,376.24,2996.7300000000014,9888.990000000002,15721.659999999974,371.23999999999995,147.10000000000002,26.02,890.0699999999998,678.4499999999998,2287.8499999999995,7578.169999999995,6802.090000000002,3540.6500000000015],\"sizemode\":\"area\",\"sizeref\":101.77162499999997,\"symbol\":\"circle\"},\"mode\":\"markers\",\"name\":\"Europe\",\"showlegend\":true,\"type\":\"scattergeo\"},{\"geo\":\"geo\",\"hovertemplate\":\"<b>%{hovertext}</b><br><br>continent=Asia<br>YYYYMM=201107<br>totalprice=%{marker.size}<br>iso_alpha=%{location}<extra></extra>\",\"hovertext\":[\"Israel\",\"Japan\",\"Singapore\"],\"legendgroup\":\"Asia\",\"locations\":[\"ISR\",\"JPN\",\"SGP\"],\"marker\":{\"color\":\"#00cc96\",\"size\":[1430.75,3854.4,3949.32],\"sizemode\":\"area\",\"sizeref\":101.77162499999997,\"symbol\":\"circle\"},\"mode\":\"markers\",\"name\":\"Asia\",\"showlegend\":true,\"type\":\"scattergeo\"},{\"geo\":\"geo\",\"hovertemplate\":\"<b>%{hovertext}</b><br><br>continent=Americas<br>YYYYMM=201107<br>totalprice=%{marker.size}<br>iso_alpha=%{location}<extra></extra>\",\"hovertext\":[\"Canada\"],\"legendgroup\":\"Americas\",\"locations\":[\"CAN\"],\"marker\":{\"color\":\"#ab63fa\",\"size\":[1768.58],\"sizemode\":\"area\",\"sizeref\":101.77162499999997,\"symbol\":\"circle\"},\"mode\":\"markers\",\"name\":\"Americas\",\"showlegend\":true,\"type\":\"scattergeo\"}],\"name\":\"201107\"},{\"data\":[{\"geo\":\"geo\",\"hovertemplate\":\"<b>%{hovertext}</b><br><br>continent=Oceania<br>YYYYMM=201108<br>totalprice=%{marker.size}<br>iso_alpha=%{location}<extra></extra>\",\"hovertext\":[\"Australia\"],\"legendgroup\":\"Oceania\",\"locations\":[\"AUS\"],\"marker\":{\"color\":\"#636efa\",\"size\":[22489.199999999993],\"sizemode\":\"area\",\"sizeref\":101.77162499999997,\"symbol\":\"circle\"},\"mode\":\"markers\",\"name\":\"Oceania\",\"showlegend\":true,\"type\":\"scattergeo\"},{\"geo\":\"geo\",\"hovertemplate\":\"<b>%{hovertext}</b><br><br>continent=Europe<br>YYYYMM=201108<br>totalprice=%{marker.size}<br>iso_alpha=%{location}<extra></extra>\",\"hovertext\":[\"Austria\",\"Belgium\",\"Denmark\",\"Finland\",\"France\",\"Germany\",\"Iceland\",\"Italy\",\"Netherlands\",\"Norway\",\"Poland\",\"Portugal\",\"Spain\",\"Sweden\",\"Switzerland\"],\"legendgroup\":\"Europe\",\"locations\":[\"AUT\",\"BEL\",\"DNK\",\"FIN\",\"FRA\",\"DEU\",\"ISL\",\"ITA\",\"NLD\",\"NOR\",\"POL\",\"PRT\",\"ESP\",\"SWE\",\"CHE\"],\"marker\":{\"color\":\"#EF553B\",\"size\":[1516.0799999999988,3536.1200000000003,78.59999999999998,1371.5500000000004,13789.259999999993,19023.64999999996,584.91,1934.8000000000006,39655.80999999997,1984.4600000000003,401.8,1206.4,3330.4100000000003,1390.9599999999998,4882.19],\"sizemode\":\"area\",\"sizeref\":101.77162499999997,\"symbol\":\"circle\"},\"mode\":\"markers\",\"name\":\"Europe\",\"showlegend\":true,\"type\":\"scattergeo\"},{\"geo\":\"geo\",\"hovertemplate\":\"<b>%{hovertext}</b><br><br>continent=Asia<br>YYYYMM=201108<br>totalprice=%{marker.size}<br>iso_alpha=%{location}<extra></extra>\",\"hovertext\":[\"Israel\"],\"legendgroup\":\"Asia\",\"locations\":[\"ISR\"],\"marker\":{\"color\":\"#00cc96\",\"size\":[4873.810000000005],\"sizemode\":\"area\",\"sizeref\":101.77162499999997,\"symbol\":\"circle\"},\"mode\":\"markers\",\"name\":\"Asia\",\"showlegend\":true,\"type\":\"scattergeo\"},{\"geo\":\"geo\",\"hovertemplate\":\"<b>%{hovertext}</b><br><br>continent=Americas<br>YYYYMM=201108<br>totalprice=%{marker.size}<br>iso_alpha=%{location}<extra></extra>\",\"hovertext\":[\"Canada\"],\"legendgroup\":\"Americas\",\"locations\":[\"CAN\"],\"marker\":{\"color\":\"#ab63fa\",\"size\":[51.56],\"sizemode\":\"area\",\"sizeref\":101.77162499999997,\"symbol\":\"circle\"},\"mode\":\"markers\",\"name\":\"Americas\",\"showlegend\":true,\"type\":\"scattergeo\"}],\"name\":\"201108\"},{\"data\":[{\"geo\":\"geo\",\"hovertemplate\":\"<b>%{hovertext}</b><br><br>continent=Oceania<br>YYYYMM=201109<br>totalprice=%{marker.size}<br>iso_alpha=%{location}<extra></extra>\",\"hovertext\":[\"Australia\"],\"legendgroup\":\"Oceania\",\"locations\":[\"AUS\"],\"marker\":{\"color\":\"#636efa\",\"size\":[5031.7300000000005],\"sizemode\":\"area\",\"sizeref\":101.77162499999997,\"symbol\":\"circle\"},\"mode\":\"markers\",\"name\":\"Oceania\",\"showlegend\":true,\"type\":\"scattergeo\"},{\"geo\":\"geo\",\"hovertemplate\":\"<b>%{hovertext}</b><br><br>continent=Europe<br>YYYYMM=201109<br>totalprice=%{marker.size}<br>iso_alpha=%{location}<extra></extra>\",\"hovertext\":[\"Belgium\",\"Denmark\",\"Finland\",\"France\",\"Germany\",\"Italy\",\"Netherlands\",\"Norway\",\"Poland\",\"Portugal\",\"Spain\",\"Sweden\",\"Switzerland\"],\"legendgroup\":\"Europe\",\"locations\":[\"BEL\",\"DNK\",\"FIN\",\"FRA\",\"DEU\",\"ITA\",\"NLD\",\"NOR\",\"POL\",\"PRT\",\"ESP\",\"SWE\",\"CHE\"],\"marker\":{\"color\":\"#EF553B\",\"size\":[4197.82,4570.159999999997,1105.45,23198.870000000003,17720.310000000012,279.8,26937.26000000001,8678.939999999997,529.25,1433.22,5163.739999999996,4575.209999999998,8254.959999999997],\"sizemode\":\"area\",\"sizeref\":101.77162499999997,\"symbol\":\"circle\"},\"mode\":\"markers\",\"name\":\"Europe\",\"showlegend\":true,\"type\":\"scattergeo\"},{\"geo\":\"geo\",\"hovertemplate\":\"<b>%{hovertext}</b><br><br>continent=Asia<br>YYYYMM=201109<br>totalprice=%{marker.size}<br>iso_alpha=%{location}<extra></extra>\",\"hovertext\":[\"Japan\"],\"legendgroup\":\"Asia\",\"locations\":[\"JPN\"],\"marker\":{\"color\":\"#00cc96\",\"size\":[112.08000000000001],\"sizemode\":\"area\",\"sizeref\":101.77162499999997,\"symbol\":\"circle\"},\"mode\":\"markers\",\"name\":\"Asia\",\"showlegend\":true,\"type\":\"scattergeo\"}],\"name\":\"201109\"},{\"data\":[{\"geo\":\"geo\",\"hovertemplate\":\"<b>%{hovertext}</b><br><br>continent=Oceania<br>YYYYMM=201110<br>totalprice=%{marker.size}<br>iso_alpha=%{location}<extra></extra>\",\"hovertext\":[\"Australia\"],\"legendgroup\":\"Oceania\",\"locations\":[\"AUS\"],\"marker\":{\"color\":\"#636efa\",\"size\":[17150.53],\"sizemode\":\"area\",\"sizeref\":101.77162499999997,\"symbol\":\"circle\"},\"mode\":\"markers\",\"name\":\"Oceania\",\"showlegend\":true,\"type\":\"scattergeo\"},{\"geo\":\"geo\",\"hovertemplate\":\"<b>%{hovertext}</b><br><br>continent=Europe<br>YYYYMM=201110<br>totalprice=%{marker.size}<br>iso_alpha=%{location}<extra></extra>\",\"hovertext\":[\"Austria\",\"Belgium\",\"Czech Republic\",\"Denmark\",\"Finland\",\"France\",\"Germany\",\"Iceland\",\"Italy\",\"Netherlands\",\"Norway\",\"Portugal\",\"Spain\",\"Sweden\",\"Switzerland\"],\"legendgroup\":\"Europe\",\"locations\":[\"AUT\",\"BEL\",\"CZE\",\"DNK\",\"FIN\",\"FRA\",\"DEU\",\"ISL\",\"ITA\",\"NLD\",\"NOR\",\"PRT\",\"ESP\",\"SWE\",\"CHE\"],\"marker\":{\"color\":\"#EF553B\",\"size\":[1043.7799999999997,5651.379999999998,277.47999999999996,1438.11,2804.1200000000003,25032.03999999997,30614.27000000002,1294.3200000000002,3410.789999999999,40708.64999999999,3687.23,5277.419999999998,5078.649999999996,5766.160000000002,7623.989999999993],\"sizemode\":\"area\",\"sizeref\":101.77162499999997,\"symbol\":\"circle\"},\"mode\":\"markers\",\"name\":\"Europe\",\"showlegend\":true,\"type\":\"scattergeo\"},{\"geo\":\"geo\",\"hovertemplate\":\"<b>%{hovertext}</b><br><br>continent=Asia<br>YYYYMM=201110<br>totalprice=%{marker.size}<br>iso_alpha=%{location}<extra></extra>\",\"hovertext\":[\"Israel\",\"Japan\",\"Singapore\"],\"legendgroup\":\"Asia\",\"locations\":[\"ISR\",\"JPN\",\"SGP\"],\"marker\":{\"color\":\"#00cc96\",\"size\":[138.03000000000006,1948.04,999.2600000000007],\"sizemode\":\"area\",\"sizeref\":101.77162499999997,\"symbol\":\"circle\"},\"mode\":\"markers\",\"name\":\"Asia\",\"showlegend\":true,\"type\":\"scattergeo\"}],\"name\":\"201110\"},{\"data\":[{\"geo\":\"geo\",\"hovertemplate\":\"<b>%{hovertext}</b><br><br>continent=Oceania<br>YYYYMM=201111<br>totalprice=%{marker.size}<br>iso_alpha=%{location}<extra></extra>\",\"hovertext\":[\"Australia\"],\"legendgroup\":\"Oceania\",\"locations\":[\"AUS\"],\"marker\":{\"color\":\"#636efa\",\"size\":[6805.989999999999],\"sizemode\":\"area\",\"sizeref\":101.77162499999997,\"symbol\":\"circle\"},\"mode\":\"markers\",\"name\":\"Oceania\",\"showlegend\":true,\"type\":\"scattergeo\"},{\"geo\":\"geo\",\"hovertemplate\":\"<b>%{hovertext}</b><br><br>continent=Europe<br>YYYYMM=201111<br>totalprice=%{marker.size}<br>iso_alpha=%{location}<extra></extra>\",\"hovertext\":[\"Austria\",\"Belgium\",\"Denmark\",\"Finland\",\"France\",\"Germany\",\"Italy\",\"Netherlands\",\"Norway\",\"Poland\",\"Portugal\",\"Spain\",\"Sweden\",\"Switzerland\"],\"legendgroup\":\"Europe\",\"locations\":[\"AUT\",\"BEL\",\"DNK\",\"FIN\",\"FRA\",\"DEU\",\"ITA\",\"NLD\",\"NOR\",\"POL\",\"PRT\",\"ESP\",\"SWE\",\"CHE\"],\"marker\":{\"color\":\"#EF553B\",\"size\":[1329.7799999999997,6229.410000000001,2699.570000000001,2950.239999999999,30275.89000000002,26044.34999999997,4243.75,25856.01,6527.5,1341.8699999999997,2644.900000000001,8533.869999999999,2612.71,8116.959999999995],\"sizemode\":\"area\",\"sizeref\":101.77162499999997,\"symbol\":\"circle\"},\"mode\":\"markers\",\"name\":\"Europe\",\"showlegend\":true,\"type\":\"scattergeo\"},{\"geo\":\"geo\",\"hovertemplate\":\"<b>%{hovertext}</b><br><br>continent=Asia<br>YYYYMM=201111<br>totalprice=%{marker.size}<br>iso_alpha=%{location}<extra></extra>\",\"hovertext\":[\"Japan\"],\"legendgroup\":\"Asia\",\"locations\":[\"JPN\"],\"marker\":{\"color\":\"#00cc96\",\"size\":[8460.08],\"sizemode\":\"area\",\"sizeref\":101.77162499999997,\"symbol\":\"circle\"},\"mode\":\"markers\",\"name\":\"Asia\",\"showlegend\":true,\"type\":\"scattergeo\"}],\"name\":\"201111\"},{\"data\":[{\"geo\":\"geo\",\"hovertemplate\":\"<b>%{hovertext}</b><br><br>continent=Europe<br>YYYYMM=201112<br>totalprice=%{marker.size}<br>iso_alpha=%{location}<extra></extra>\",\"hovertext\":[\"Austria\",\"Belgium\",\"Denmark\",\"Finland\",\"France\",\"Germany\",\"Greece\",\"Iceland\",\"Italy\",\"Netherlands\",\"Norway\",\"Portugal\",\"Spain\"],\"legendgroup\":\"Europe\",\"locations\":[\"AUT\",\"BEL\",\"DNK\",\"FIN\",\"FRA\",\"DEU\",\"GRC\",\"ISL\",\"ITA\",\"NLD\",\"NOR\",\"PRT\",\"ESP\"],\"marker\":{\"color\":\"#EF553B\",\"size\":[683.2,1409.43,168.9,1230.68,7048.830000000007,7804.699999999999,680.9900000000002,224.82000000000002,200.45000000000005,11728.020000000002,2785.700000000002,2801.95,271.43],\"sizemode\":\"area\",\"sizeref\":101.77162499999997,\"symbol\":\"circle\"},\"mode\":\"markers\",\"name\":\"Europe\",\"showlegend\":true,\"type\":\"scattergeo\"}],\"name\":\"201112\"}]);\n",
              "                        }).then(function(){\n",
              "                            \n",
              "var gd = document.getElementById('acb49bcc-2281-46fc-bef1-df73effc6bcc');\n",
              "var x = new MutationObserver(function (mutations, observer) {{\n",
              "        var display = window.getComputedStyle(gd).display;\n",
              "        if (!display || display === 'none') {{\n",
              "            console.log([gd, 'removed!']);\n",
              "            Plotly.purge(gd);\n",
              "            observer.disconnect();\n",
              "        }}\n",
              "}});\n",
              "\n",
              "// Listen for the removal of the full notebook cells\n",
              "var notebookContainer = gd.closest('#notebook-container');\n",
              "if (notebookContainer) {{\n",
              "    x.observe(notebookContainer, {childList: true});\n",
              "}}\n",
              "\n",
              "// Listen for the clearing of the current output cell\n",
              "var outputEl = gd.closest('.output');\n",
              "if (outputEl) {{\n",
              "    x.observe(outputEl, {childList: true});\n",
              "}}\n",
              "\n",
              "                        })                };                            </script>        </div>\n",
              "</body>\n",
              "</html>"
            ]
          },
          "metadata": {},
          "output_type": "display_data"
        }
      ],
      "source": [
        "fig = px.scatter_geo(new_merge_df, locations=\"iso_alpha\", color=\"continent\",\n",
        "                     hover_name=\"country\", size=\"totalprice\",\n",
        "                     animation_frame=\"YYYYMM\",\n",
        "                     projection=\"natural earth\")\n",
        "fig.show()"
      ]
    },
    {
      "attachments": {},
      "cell_type": "markdown",
      "metadata": {
        "id": "LtL155Ij7pcw"
      },
      "source": [
        "上のグラフにおける再生ボタンを押すと月ごとの結果をアニメーションとして見ることもできますし、plotlyでやった時と同じように拡大縮小したり、画像を保存等することもできます。\n",
        "\n",
        "以上でBIツール的なダッシュボードを作成する簡単な紹介は終わりになります。もちろん、市販されているソフトやクラウドサービスを使うことでデータの可視化はやりやすくなっていますが、Pythonによる実装はそんなに難しくなく、高価なソフトを買う必要もなく、細かな修正など既存のBIツールでは対応できないデータ処理や可視化もpythonを使えば可能です。こういった可視化ツールも自社で開発していれば、修正も容易にでき、よりPDCAサイクルを早くまわすこともできます。"
      ]
    },
    {
      "attachments": {},
      "cell_type": "markdown",
      "metadata": {
        "id": "ii38yyRxwx7J"
      },
      "source": [
        "#### 練習問題\n",
        "1.   上記で読み込んだ、gapminderのデータに対して、上のような世界地図を作成し(バブルの大きさはlifeExp\tとしてください)、グラフ化して動かせるようにしましょう。また、バブルの大きさを一人当たりのGDPや人口に変更したグラフも作成してみましょう。\n",
        "\n"
      ]
    },
    {
      "attachments": {},
      "cell_type": "markdown",
      "metadata": {
        "id": "zbCgUrOUX1To"
      },
      "source": [
        "#### 解答"
      ]
    },
    {
      "cell_type": "code",
      "execution_count": null,
      "metadata": {
        "colab": {
          "base_uri": "https://localhost:8080/",
          "height": 206
        },
        "id": "nz6BhogcX8SZ",
        "outputId": "ab2f47c7-28bb-4652-9d68-cb81bc229ebe"
      },
      "outputs": [
        {
          "data": {
            "text/html": [
              "<div>\n",
              "<style scoped>\n",
              "    .dataframe tbody tr th:only-of-type {\n",
              "        vertical-align: middle;\n",
              "    }\n",
              "\n",
              "    .dataframe tbody tr th {\n",
              "        vertical-align: top;\n",
              "    }\n",
              "\n",
              "    .dataframe thead th {\n",
              "        text-align: right;\n",
              "    }\n",
              "</style>\n",
              "<table border=\"1\" class=\"dataframe\">\n",
              "  <thead>\n",
              "    <tr style=\"text-align: right;\">\n",
              "      <th></th>\n",
              "      <th>country</th>\n",
              "      <th>continent</th>\n",
              "      <th>year</th>\n",
              "      <th>lifeExp</th>\n",
              "      <th>pop</th>\n",
              "      <th>gdpPercap</th>\n",
              "      <th>iso_alpha</th>\n",
              "      <th>iso_num</th>\n",
              "    </tr>\n",
              "  </thead>\n",
              "  <tbody>\n",
              "    <tr>\n",
              "      <th>0</th>\n",
              "      <td>Afghanistan</td>\n",
              "      <td>Asia</td>\n",
              "      <td>1952</td>\n",
              "      <td>28.801</td>\n",
              "      <td>8425333</td>\n",
              "      <td>779.445314</td>\n",
              "      <td>AFG</td>\n",
              "      <td>4</td>\n",
              "    </tr>\n",
              "    <tr>\n",
              "      <th>1</th>\n",
              "      <td>Afghanistan</td>\n",
              "      <td>Asia</td>\n",
              "      <td>1957</td>\n",
              "      <td>30.332</td>\n",
              "      <td>9240934</td>\n",
              "      <td>820.853030</td>\n",
              "      <td>AFG</td>\n",
              "      <td>4</td>\n",
              "    </tr>\n",
              "    <tr>\n",
              "      <th>2</th>\n",
              "      <td>Afghanistan</td>\n",
              "      <td>Asia</td>\n",
              "      <td>1962</td>\n",
              "      <td>31.997</td>\n",
              "      <td>10267083</td>\n",
              "      <td>853.100710</td>\n",
              "      <td>AFG</td>\n",
              "      <td>4</td>\n",
              "    </tr>\n",
              "    <tr>\n",
              "      <th>3</th>\n",
              "      <td>Afghanistan</td>\n",
              "      <td>Asia</td>\n",
              "      <td>1967</td>\n",
              "      <td>34.020</td>\n",
              "      <td>11537966</td>\n",
              "      <td>836.197138</td>\n",
              "      <td>AFG</td>\n",
              "      <td>4</td>\n",
              "    </tr>\n",
              "    <tr>\n",
              "      <th>4</th>\n",
              "      <td>Afghanistan</td>\n",
              "      <td>Asia</td>\n",
              "      <td>1972</td>\n",
              "      <td>36.088</td>\n",
              "      <td>13079460</td>\n",
              "      <td>739.981106</td>\n",
              "      <td>AFG</td>\n",
              "      <td>4</td>\n",
              "    </tr>\n",
              "  </tbody>\n",
              "</table>\n",
              "</div>"
            ],
            "text/plain": [
              "       country continent  year  ...   gdpPercap  iso_alpha  iso_num\n",
              "0  Afghanistan      Asia  1952  ...  779.445314        AFG        4\n",
              "1  Afghanistan      Asia  1957  ...  820.853030        AFG        4\n",
              "2  Afghanistan      Asia  1962  ...  853.100710        AFG        4\n",
              "3  Afghanistan      Asia  1967  ...  836.197138        AFG        4\n",
              "4  Afghanistan      Asia  1972  ...  739.981106        AFG        4\n",
              "\n",
              "[5 rows x 8 columns]"
            ]
          },
          "execution_count": 72,
          "metadata": {},
          "output_type": "execute_result"
        }
      ],
      "source": [
        "gapminder.head()"
      ]
    },
    {
      "attachments": {},
      "cell_type": "markdown",
      "metadata": {
        "id": "SSjppQ9bd6H9"
      },
      "source": [
        "平均寿命"
      ]
    },
    {
      "cell_type": "code",
      "execution_count": null,
      "metadata": {
        "colab": {
          "base_uri": "https://localhost:8080/",
          "height": 542
        },
        "id": "k3r6Qx1WX8Xa",
        "outputId": "48d00449-7884-46fe-c14f-8b8ef11de6a0"
      },
      "outputs": [
        {
          "data": {
            "text/html": [
              "<html>\n",
              "<head><meta charset=\"utf-8\" /></head>\n",
              "<body>\n",
              "    <div>            <script src=\"https://cdnjs.cloudflare.com/ajax/libs/mathjax/2.7.5/MathJax.js?config=TeX-AMS-MML_SVG\"></script><script type=\"text/javascript\">if (window.MathJax) {MathJax.Hub.Config({SVG: {font: \"STIX-Web\"}});}</script>                <script type=\"text/javascript\">window.PlotlyConfig = {MathJaxConfig: 'local'};</script>\n",
              "        <script src=\"https://cdn.plot.ly/plotly-2.6.3.min.js\"></script>                <div id=\"40883623-f3d0-472b-a08e-7f568ecf2025\" class=\"plotly-graph-div\" style=\"height:525px; width:100%;\"></div>            <script type=\"text/javascript\">                                    window.PLOTLYENV=window.PLOTLYENV || {};                                    if (document.getElementById(\"40883623-f3d0-472b-a08e-7f568ecf2025\")) {                    Plotly.newPlot(                        \"40883623-f3d0-472b-a08e-7f568ecf2025\",                        [{\"geo\":\"geo\",\"hovertemplate\":\"<b>%{hovertext}</b><br><br>continent=Asia<br>year=1952<br>lifeExp=%{marker.size}<br>iso_alpha=%{location}<extra></extra>\",\"hovertext\":[\"Afghanistan\",\"Bahrain\",\"Bangladesh\",\"Cambodia\",\"China\",\"Hong Kong, China\",\"India\",\"Indonesia\",\"Iran\",\"Iraq\",\"Israel\",\"Japan\",\"Jordan\",\"Korea, Dem. Rep.\",\"Korea, Rep.\",\"Kuwait\",\"Lebanon\",\"Malaysia\",\"Mongolia\",\"Myanmar\",\"Nepal\",\"Oman\",\"Pakistan\",\"Philippines\",\"Saudi Arabia\",\"Singapore\",\"Sri Lanka\",\"Syria\",\"Taiwan\",\"Thailand\",\"Vietnam\",\"West Bank and Gaza\",\"Yemen, Rep.\"],\"legendgroup\":\"Asia\",\"locations\":[\"AFG\",\"BHR\",\"BGD\",\"KHM\",\"CHN\",\"HKG\",\"IND\",\"IDN\",\"IRN\",\"IRQ\",\"ISR\",\"JPN\",\"JOR\",\"KOR\",\"KOR\",\"KWT\",\"LBN\",\"MYS\",\"MNG\",\"MMR\",\"NPL\",\"OMN\",\"PAK\",\"PHL\",\"SAU\",\"SGP\",\"LKA\",\"SYR\",\"TWN\",\"THA\",\"VNM\",\"PSE\",\"YEM\"],\"marker\":{\"color\":\"#636efa\",\"size\":[28.801,50.93899999999999,37.484,39.417,44.0,60.96,37.37300000000001,37.468,44.869,45.32,65.39,63.03,43.158,50.056000000000004,47.453,55.565,55.928000000000004,48.463,42.244,36.319,36.157,37.578,43.43600000000001,47.751999999999995,39.875,60.396,57.593,45.883,58.5,50.848,40.412,43.16,32.548],\"sizemode\":\"area\",\"sizeref\":0.20650749999999998,\"symbol\":\"circle\"},\"mode\":\"markers\",\"name\":\"Asia\",\"showlegend\":true,\"type\":\"scattergeo\"},{\"geo\":\"geo\",\"hovertemplate\":\"<b>%{hovertext}</b><br><br>continent=Europe<br>year=1952<br>lifeExp=%{marker.size}<br>iso_alpha=%{location}<extra></extra>\",\"hovertext\":[\"Albania\",\"Austria\",\"Belgium\",\"Bosnia and Herzegovina\",\"Bulgaria\",\"Croatia\",\"Czech Republic\",\"Denmark\",\"Finland\",\"France\",\"Germany\",\"Greece\",\"Hungary\",\"Iceland\",\"Ireland\",\"Italy\",\"Montenegro\",\"Netherlands\",\"Norway\",\"Poland\",\"Portugal\",\"Romania\",\"Serbia\",\"Slovak Republic\",\"Slovenia\",\"Spain\",\"Sweden\",\"Switzerland\",\"Turkey\",\"United Kingdom\"],\"legendgroup\":\"Europe\",\"locations\":[\"ALB\",\"AUT\",\"BEL\",\"BIH\",\"BGR\",\"HRV\",\"CZE\",\"DNK\",\"FIN\",\"FRA\",\"DEU\",\"GRC\",\"HUN\",\"ISL\",\"IRL\",\"ITA\",\"MNE\",\"NLD\",\"NOR\",\"POL\",\"PRT\",\"ROU\",\"SRB\",\"SVK\",\"SVN\",\"ESP\",\"SWE\",\"CHE\",\"TUR\",\"GBR\"],\"marker\":{\"color\":\"#EF553B\",\"size\":[55.23,66.8,68.0,53.82,59.6,61.21,66.87,70.78,66.55,67.41,67.5,65.86,64.03,72.49,66.91,65.94,59.163999999999994,72.13,72.67,61.31,59.82,61.05,57.996,64.36,65.57,64.94,71.86,69.62,43.585,69.18],\"sizemode\":\"area\",\"sizeref\":0.20650749999999998,\"symbol\":\"circle\"},\"mode\":\"markers\",\"name\":\"Europe\",\"showlegend\":true,\"type\":\"scattergeo\"},{\"geo\":\"geo\",\"hovertemplate\":\"<b>%{hovertext}</b><br><br>continent=Africa<br>year=1952<br>lifeExp=%{marker.size}<br>iso_alpha=%{location}<extra></extra>\",\"hovertext\":[\"Algeria\",\"Angola\",\"Benin\",\"Botswana\",\"Burkina Faso\",\"Burundi\",\"Cameroon\",\"Central African Republic\",\"Chad\",\"Comoros\",\"Congo, Dem. Rep.\",\"Congo, Rep.\",\"Cote d'Ivoire\",\"Djibouti\",\"Egypt\",\"Equatorial Guinea\",\"Eritrea\",\"Ethiopia\",\"Gabon\",\"Gambia\",\"Ghana\",\"Guinea\",\"Guinea-Bissau\",\"Kenya\",\"Lesotho\",\"Liberia\",\"Libya\",\"Madagascar\",\"Malawi\",\"Mali\",\"Mauritania\",\"Mauritius\",\"Morocco\",\"Mozambique\",\"Namibia\",\"Niger\",\"Nigeria\",\"Reunion\",\"Rwanda\",\"Sao Tome and Principe\",\"Senegal\",\"Sierra Leone\",\"Somalia\",\"South Africa\",\"Sudan\",\"Swaziland\",\"Tanzania\",\"Togo\",\"Tunisia\",\"Uganda\",\"Zambia\",\"Zimbabwe\"],\"legendgroup\":\"Africa\",\"locations\":[\"DZA\",\"AGO\",\"BEN\",\"BWA\",\"BFA\",\"BDI\",\"CMR\",\"CAF\",\"TCD\",\"COM\",\"COD\",\"COG\",\"CIV\",\"DJI\",\"EGY\",\"GNQ\",\"ERI\",\"ETH\",\"GAB\",\"GMB\",\"GHA\",\"GIN\",\"GNB\",\"KEN\",\"LSO\",\"LBR\",\"LBY\",\"MDG\",\"MWI\",\"MLI\",\"MRT\",\"MUS\",\"MAR\",\"MOZ\",\"NAM\",\"NER\",\"NGA\",\"REU\",\"RWA\",\"STP\",\"SEN\",\"SLE\",\"SOM\",\"ZAF\",\"SDN\",\"SWZ\",\"TZA\",\"TGO\",\"TUN\",\"UGA\",\"ZMB\",\"ZWE\"],\"marker\":{\"color\":\"#00cc96\",\"size\":[43.077,30.015,38.223,47.622,31.975,39.031,38.523,35.463,38.092,40.715,39.143,42.111000000000004,40.477,34.812,41.893,34.482,35.92800000000001,34.078,37.003,30.0,43.148999999999994,33.609,32.5,42.27,42.13800000000001,38.48,42.723,36.681,36.256,33.685,40.543,50.986000000000004,42.87300000000001,31.285999999999998,41.725,37.444,36.324,52.724,40.0,46.471000000000004,37.278,30.331,32.978,45.00899999999999,38.635,41.407,41.215,38.596,44.6,39.978,42.038000000000004,48.451],\"sizemode\":\"area\",\"sizeref\":0.20650749999999998,\"symbol\":\"circle\"},\"mode\":\"markers\",\"name\":\"Africa\",\"showlegend\":true,\"type\":\"scattergeo\"},{\"geo\":\"geo\",\"hovertemplate\":\"<b>%{hovertext}</b><br><br>continent=Americas<br>year=1952<br>lifeExp=%{marker.size}<br>iso_alpha=%{location}<extra></extra>\",\"hovertext\":[\"Argentina\",\"Bolivia\",\"Brazil\",\"Canada\",\"Chile\",\"Colombia\",\"Costa Rica\",\"Cuba\",\"Dominican Republic\",\"Ecuador\",\"El Salvador\",\"Guatemala\",\"Haiti\",\"Honduras\",\"Jamaica\",\"Mexico\",\"Nicaragua\",\"Panama\",\"Paraguay\",\"Peru\",\"Puerto Rico\",\"Trinidad and Tobago\",\"United States\",\"Uruguay\",\"Venezuela\"],\"legendgroup\":\"Americas\",\"locations\":[\"ARG\",\"BOL\",\"BRA\",\"CAN\",\"CHL\",\"COL\",\"CRI\",\"CUB\",\"DOM\",\"ECU\",\"SLV\",\"GTM\",\"HTI\",\"HND\",\"JAM\",\"MEX\",\"NIC\",\"PAN\",\"PRY\",\"PER\",\"PRI\",\"TTO\",\"USA\",\"URY\",\"VEN\"],\"marker\":{\"color\":\"#ab63fa\",\"size\":[62.485,40.414,50.917,68.75,54.745,50.643,57.206,59.42100000000001,45.928000000000004,48.357,45.262,42.023,37.579,41.912,58.53,50.788999999999994,42.31399999999999,55.191,62.648999999999994,43.902,64.28,59.1,68.44,66.071,55.088],\"sizemode\":\"area\",\"sizeref\":0.20650749999999998,\"symbol\":\"circle\"},\"mode\":\"markers\",\"name\":\"Americas\",\"showlegend\":true,\"type\":\"scattergeo\"},{\"geo\":\"geo\",\"hovertemplate\":\"<b>%{hovertext}</b><br><br>continent=Oceania<br>year=1952<br>lifeExp=%{marker.size}<br>iso_alpha=%{location}<extra></extra>\",\"hovertext\":[\"Australia\",\"New Zealand\"],\"legendgroup\":\"Oceania\",\"locations\":[\"AUS\",\"NZL\"],\"marker\":{\"color\":\"#FFA15A\",\"size\":[69.12,69.39],\"sizemode\":\"area\",\"sizeref\":0.20650749999999998,\"symbol\":\"circle\"},\"mode\":\"markers\",\"name\":\"Oceania\",\"showlegend\":true,\"type\":\"scattergeo\"}],                        {\"template\":{\"data\":{\"bar\":[{\"error_x\":{\"color\":\"#2a3f5f\"},\"error_y\":{\"color\":\"#2a3f5f\"},\"marker\":{\"line\":{\"color\":\"#E5ECF6\",\"width\":0.5},\"pattern\":{\"fillmode\":\"overlay\",\"size\":10,\"solidity\":0.2}},\"type\":\"bar\"}],\"barpolar\":[{\"marker\":{\"line\":{\"color\":\"#E5ECF6\",\"width\":0.5},\"pattern\":{\"fillmode\":\"overlay\",\"size\":10,\"solidity\":0.2}},\"type\":\"barpolar\"}],\"carpet\":[{\"aaxis\":{\"endlinecolor\":\"#2a3f5f\",\"gridcolor\":\"white\",\"linecolor\":\"white\",\"minorgridcolor\":\"white\",\"startlinecolor\":\"#2a3f5f\"},\"baxis\":{\"endlinecolor\":\"#2a3f5f\",\"gridcolor\":\"white\",\"linecolor\":\"white\",\"minorgridcolor\":\"white\",\"startlinecolor\":\"#2a3f5f\"},\"type\":\"carpet\"}],\"choropleth\":[{\"colorbar\":{\"outlinewidth\":0,\"ticks\":\"\"},\"type\":\"choropleth\"}],\"contour\":[{\"colorbar\":{\"outlinewidth\":0,\"ticks\":\"\"},\"colorscale\":[[0.0,\"#0d0887\"],[0.1111111111111111,\"#46039f\"],[0.2222222222222222,\"#7201a8\"],[0.3333333333333333,\"#9c179e\"],[0.4444444444444444,\"#bd3786\"],[0.5555555555555556,\"#d8576b\"],[0.6666666666666666,\"#ed7953\"],[0.7777777777777778,\"#fb9f3a\"],[0.8888888888888888,\"#fdca26\"],[1.0,\"#f0f921\"]],\"type\":\"contour\"}],\"contourcarpet\":[{\"colorbar\":{\"outlinewidth\":0,\"ticks\":\"\"},\"type\":\"contourcarpet\"}],\"heatmap\":[{\"colorbar\":{\"outlinewidth\":0,\"ticks\":\"\"},\"colorscale\":[[0.0,\"#0d0887\"],[0.1111111111111111,\"#46039f\"],[0.2222222222222222,\"#7201a8\"],[0.3333333333333333,\"#9c179e\"],[0.4444444444444444,\"#bd3786\"],[0.5555555555555556,\"#d8576b\"],[0.6666666666666666,\"#ed7953\"],[0.7777777777777778,\"#fb9f3a\"],[0.8888888888888888,\"#fdca26\"],[1.0,\"#f0f921\"]],\"type\":\"heatmap\"}],\"heatmapgl\":[{\"colorbar\":{\"outlinewidth\":0,\"ticks\":\"\"},\"colorscale\":[[0.0,\"#0d0887\"],[0.1111111111111111,\"#46039f\"],[0.2222222222222222,\"#7201a8\"],[0.3333333333333333,\"#9c179e\"],[0.4444444444444444,\"#bd3786\"],[0.5555555555555556,\"#d8576b\"],[0.6666666666666666,\"#ed7953\"],[0.7777777777777778,\"#fb9f3a\"],[0.8888888888888888,\"#fdca26\"],[1.0,\"#f0f921\"]],\"type\":\"heatmapgl\"}],\"histogram\":[{\"marker\":{\"pattern\":{\"fillmode\":\"overlay\",\"size\":10,\"solidity\":0.2}},\"type\":\"histogram\"}],\"histogram2d\":[{\"colorbar\":{\"outlinewidth\":0,\"ticks\":\"\"},\"colorscale\":[[0.0,\"#0d0887\"],[0.1111111111111111,\"#46039f\"],[0.2222222222222222,\"#7201a8\"],[0.3333333333333333,\"#9c179e\"],[0.4444444444444444,\"#bd3786\"],[0.5555555555555556,\"#d8576b\"],[0.6666666666666666,\"#ed7953\"],[0.7777777777777778,\"#fb9f3a\"],[0.8888888888888888,\"#fdca26\"],[1.0,\"#f0f921\"]],\"type\":\"histogram2d\"}],\"histogram2dcontour\":[{\"colorbar\":{\"outlinewidth\":0,\"ticks\":\"\"},\"colorscale\":[[0.0,\"#0d0887\"],[0.1111111111111111,\"#46039f\"],[0.2222222222222222,\"#7201a8\"],[0.3333333333333333,\"#9c179e\"],[0.4444444444444444,\"#bd3786\"],[0.5555555555555556,\"#d8576b\"],[0.6666666666666666,\"#ed7953\"],[0.7777777777777778,\"#fb9f3a\"],[0.8888888888888888,\"#fdca26\"],[1.0,\"#f0f921\"]],\"type\":\"histogram2dcontour\"}],\"mesh3d\":[{\"colorbar\":{\"outlinewidth\":0,\"ticks\":\"\"},\"type\":\"mesh3d\"}],\"parcoords\":[{\"line\":{\"colorbar\":{\"outlinewidth\":0,\"ticks\":\"\"}},\"type\":\"parcoords\"}],\"pie\":[{\"automargin\":true,\"type\":\"pie\"}],\"scatter\":[{\"marker\":{\"colorbar\":{\"outlinewidth\":0,\"ticks\":\"\"}},\"type\":\"scatter\"}],\"scatter3d\":[{\"line\":{\"colorbar\":{\"outlinewidth\":0,\"ticks\":\"\"}},\"marker\":{\"colorbar\":{\"outlinewidth\":0,\"ticks\":\"\"}},\"type\":\"scatter3d\"}],\"scattercarpet\":[{\"marker\":{\"colorbar\":{\"outlinewidth\":0,\"ticks\":\"\"}},\"type\":\"scattercarpet\"}],\"scattergeo\":[{\"marker\":{\"colorbar\":{\"outlinewidth\":0,\"ticks\":\"\"}},\"type\":\"scattergeo\"}],\"scattergl\":[{\"marker\":{\"colorbar\":{\"outlinewidth\":0,\"ticks\":\"\"}},\"type\":\"scattergl\"}],\"scattermapbox\":[{\"marker\":{\"colorbar\":{\"outlinewidth\":0,\"ticks\":\"\"}},\"type\":\"scattermapbox\"}],\"scatterpolar\":[{\"marker\":{\"colorbar\":{\"outlinewidth\":0,\"ticks\":\"\"}},\"type\":\"scatterpolar\"}],\"scatterpolargl\":[{\"marker\":{\"colorbar\":{\"outlinewidth\":0,\"ticks\":\"\"}},\"type\":\"scatterpolargl\"}],\"scatterternary\":[{\"marker\":{\"colorbar\":{\"outlinewidth\":0,\"ticks\":\"\"}},\"type\":\"scatterternary\"}],\"surface\":[{\"colorbar\":{\"outlinewidth\":0,\"ticks\":\"\"},\"colorscale\":[[0.0,\"#0d0887\"],[0.1111111111111111,\"#46039f\"],[0.2222222222222222,\"#7201a8\"],[0.3333333333333333,\"#9c179e\"],[0.4444444444444444,\"#bd3786\"],[0.5555555555555556,\"#d8576b\"],[0.6666666666666666,\"#ed7953\"],[0.7777777777777778,\"#fb9f3a\"],[0.8888888888888888,\"#fdca26\"],[1.0,\"#f0f921\"]],\"type\":\"surface\"}],\"table\":[{\"cells\":{\"fill\":{\"color\":\"#EBF0F8\"},\"line\":{\"color\":\"white\"}},\"header\":{\"fill\":{\"color\":\"#C8D4E3\"},\"line\":{\"color\":\"white\"}},\"type\":\"table\"}]},\"layout\":{\"annotationdefaults\":{\"arrowcolor\":\"#2a3f5f\",\"arrowhead\":0,\"arrowwidth\":1},\"autotypenumbers\":\"strict\",\"coloraxis\":{\"colorbar\":{\"outlinewidth\":0,\"ticks\":\"\"}},\"colorscale\":{\"diverging\":[[0,\"#8e0152\"],[0.1,\"#c51b7d\"],[0.2,\"#de77ae\"],[0.3,\"#f1b6da\"],[0.4,\"#fde0ef\"],[0.5,\"#f7f7f7\"],[0.6,\"#e6f5d0\"],[0.7,\"#b8e186\"],[0.8,\"#7fbc41\"],[0.9,\"#4d9221\"],[1,\"#276419\"]],\"sequential\":[[0.0,\"#0d0887\"],[0.1111111111111111,\"#46039f\"],[0.2222222222222222,\"#7201a8\"],[0.3333333333333333,\"#9c179e\"],[0.4444444444444444,\"#bd3786\"],[0.5555555555555556,\"#d8576b\"],[0.6666666666666666,\"#ed7953\"],[0.7777777777777778,\"#fb9f3a\"],[0.8888888888888888,\"#fdca26\"],[1.0,\"#f0f921\"]],\"sequentialminus\":[[0.0,\"#0d0887\"],[0.1111111111111111,\"#46039f\"],[0.2222222222222222,\"#7201a8\"],[0.3333333333333333,\"#9c179e\"],[0.4444444444444444,\"#bd3786\"],[0.5555555555555556,\"#d8576b\"],[0.6666666666666666,\"#ed7953\"],[0.7777777777777778,\"#fb9f3a\"],[0.8888888888888888,\"#fdca26\"],[1.0,\"#f0f921\"]]},\"colorway\":[\"#636efa\",\"#EF553B\",\"#00cc96\",\"#ab63fa\",\"#FFA15A\",\"#19d3f3\",\"#FF6692\",\"#B6E880\",\"#FF97FF\",\"#FECB52\"],\"font\":{\"color\":\"#2a3f5f\"},\"geo\":{\"bgcolor\":\"white\",\"lakecolor\":\"white\",\"landcolor\":\"#E5ECF6\",\"showlakes\":true,\"showland\":true,\"subunitcolor\":\"white\"},\"hoverlabel\":{\"align\":\"left\"},\"hovermode\":\"closest\",\"mapbox\":{\"style\":\"light\"},\"paper_bgcolor\":\"white\",\"plot_bgcolor\":\"#E5ECF6\",\"polar\":{\"angularaxis\":{\"gridcolor\":\"white\",\"linecolor\":\"white\",\"ticks\":\"\"},\"bgcolor\":\"#E5ECF6\",\"radialaxis\":{\"gridcolor\":\"white\",\"linecolor\":\"white\",\"ticks\":\"\"}},\"scene\":{\"xaxis\":{\"backgroundcolor\":\"#E5ECF6\",\"gridcolor\":\"white\",\"gridwidth\":2,\"linecolor\":\"white\",\"showbackground\":true,\"ticks\":\"\",\"zerolinecolor\":\"white\"},\"yaxis\":{\"backgroundcolor\":\"#E5ECF6\",\"gridcolor\":\"white\",\"gridwidth\":2,\"linecolor\":\"white\",\"showbackground\":true,\"ticks\":\"\",\"zerolinecolor\":\"white\"},\"zaxis\":{\"backgroundcolor\":\"#E5ECF6\",\"gridcolor\":\"white\",\"gridwidth\":2,\"linecolor\":\"white\",\"showbackground\":true,\"ticks\":\"\",\"zerolinecolor\":\"white\"}},\"shapedefaults\":{\"line\":{\"color\":\"#2a3f5f\"}},\"ternary\":{\"aaxis\":{\"gridcolor\":\"white\",\"linecolor\":\"white\",\"ticks\":\"\"},\"baxis\":{\"gridcolor\":\"white\",\"linecolor\":\"white\",\"ticks\":\"\"},\"bgcolor\":\"#E5ECF6\",\"caxis\":{\"gridcolor\":\"white\",\"linecolor\":\"white\",\"ticks\":\"\"}},\"title\":{\"x\":0.05},\"xaxis\":{\"automargin\":true,\"gridcolor\":\"white\",\"linecolor\":\"white\",\"ticks\":\"\",\"title\":{\"standoff\":15},\"zerolinecolor\":\"white\",\"zerolinewidth\":2},\"yaxis\":{\"automargin\":true,\"gridcolor\":\"white\",\"linecolor\":\"white\",\"ticks\":\"\",\"title\":{\"standoff\":15},\"zerolinecolor\":\"white\",\"zerolinewidth\":2}}},\"geo\":{\"domain\":{\"x\":[0.0,1.0],\"y\":[0.0,1.0]},\"projection\":{\"type\":\"natural earth\"},\"center\":{}},\"legend\":{\"title\":{\"text\":\"continent\"},\"tracegroupgap\":0,\"itemsizing\":\"constant\"},\"margin\":{\"t\":60},\"updatemenus\":[{\"buttons\":[{\"args\":[null,{\"frame\":{\"duration\":500,\"redraw\":true},\"mode\":\"immediate\",\"fromcurrent\":true,\"transition\":{\"duration\":500,\"easing\":\"linear\"}}],\"label\":\"&#9654;\",\"method\":\"animate\"},{\"args\":[[null],{\"frame\":{\"duration\":0,\"redraw\":true},\"mode\":\"immediate\",\"fromcurrent\":true,\"transition\":{\"duration\":0,\"easing\":\"linear\"}}],\"label\":\"&#9724;\",\"method\":\"animate\"}],\"direction\":\"left\",\"pad\":{\"r\":10,\"t\":70},\"showactive\":false,\"type\":\"buttons\",\"x\":0.1,\"xanchor\":\"right\",\"y\":0,\"yanchor\":\"top\"}],\"sliders\":[{\"active\":0,\"currentvalue\":{\"prefix\":\"year=\"},\"len\":0.9,\"pad\":{\"b\":10,\"t\":60},\"steps\":[{\"args\":[[\"1952\"],{\"frame\":{\"duration\":0,\"redraw\":true},\"mode\":\"immediate\",\"fromcurrent\":true,\"transition\":{\"duration\":0,\"easing\":\"linear\"}}],\"label\":\"1952\",\"method\":\"animate\"},{\"args\":[[\"1957\"],{\"frame\":{\"duration\":0,\"redraw\":true},\"mode\":\"immediate\",\"fromcurrent\":true,\"transition\":{\"duration\":0,\"easing\":\"linear\"}}],\"label\":\"1957\",\"method\":\"animate\"},{\"args\":[[\"1962\"],{\"frame\":{\"duration\":0,\"redraw\":true},\"mode\":\"immediate\",\"fromcurrent\":true,\"transition\":{\"duration\":0,\"easing\":\"linear\"}}],\"label\":\"1962\",\"method\":\"animate\"},{\"args\":[[\"1967\"],{\"frame\":{\"duration\":0,\"redraw\":true},\"mode\":\"immediate\",\"fromcurrent\":true,\"transition\":{\"duration\":0,\"easing\":\"linear\"}}],\"label\":\"1967\",\"method\":\"animate\"},{\"args\":[[\"1972\"],{\"frame\":{\"duration\":0,\"redraw\":true},\"mode\":\"immediate\",\"fromcurrent\":true,\"transition\":{\"duration\":0,\"easing\":\"linear\"}}],\"label\":\"1972\",\"method\":\"animate\"},{\"args\":[[\"1977\"],{\"frame\":{\"duration\":0,\"redraw\":true},\"mode\":\"immediate\",\"fromcurrent\":true,\"transition\":{\"duration\":0,\"easing\":\"linear\"}}],\"label\":\"1977\",\"method\":\"animate\"},{\"args\":[[\"1982\"],{\"frame\":{\"duration\":0,\"redraw\":true},\"mode\":\"immediate\",\"fromcurrent\":true,\"transition\":{\"duration\":0,\"easing\":\"linear\"}}],\"label\":\"1982\",\"method\":\"animate\"},{\"args\":[[\"1987\"],{\"frame\":{\"duration\":0,\"redraw\":true},\"mode\":\"immediate\",\"fromcurrent\":true,\"transition\":{\"duration\":0,\"easing\":\"linear\"}}],\"label\":\"1987\",\"method\":\"animate\"},{\"args\":[[\"1992\"],{\"frame\":{\"duration\":0,\"redraw\":true},\"mode\":\"immediate\",\"fromcurrent\":true,\"transition\":{\"duration\":0,\"easing\":\"linear\"}}],\"label\":\"1992\",\"method\":\"animate\"},{\"args\":[[\"1997\"],{\"frame\":{\"duration\":0,\"redraw\":true},\"mode\":\"immediate\",\"fromcurrent\":true,\"transition\":{\"duration\":0,\"easing\":\"linear\"}}],\"label\":\"1997\",\"method\":\"animate\"},{\"args\":[[\"2002\"],{\"frame\":{\"duration\":0,\"redraw\":true},\"mode\":\"immediate\",\"fromcurrent\":true,\"transition\":{\"duration\":0,\"easing\":\"linear\"}}],\"label\":\"2002\",\"method\":\"animate\"},{\"args\":[[\"2007\"],{\"frame\":{\"duration\":0,\"redraw\":true},\"mode\":\"immediate\",\"fromcurrent\":true,\"transition\":{\"duration\":0,\"easing\":\"linear\"}}],\"label\":\"2007\",\"method\":\"animate\"}],\"x\":0.1,\"xanchor\":\"left\",\"y\":0,\"yanchor\":\"top\"}]},                        {\"responsive\": true}                    ).then(function(){\n",
              "                            Plotly.addFrames('40883623-f3d0-472b-a08e-7f568ecf2025', [{\"data\":[{\"geo\":\"geo\",\"hovertemplate\":\"<b>%{hovertext}</b><br><br>continent=Asia<br>year=1952<br>lifeExp=%{marker.size}<br>iso_alpha=%{location}<extra></extra>\",\"hovertext\":[\"Afghanistan\",\"Bahrain\",\"Bangladesh\",\"Cambodia\",\"China\",\"Hong Kong, China\",\"India\",\"Indonesia\",\"Iran\",\"Iraq\",\"Israel\",\"Japan\",\"Jordan\",\"Korea, Dem. Rep.\",\"Korea, Rep.\",\"Kuwait\",\"Lebanon\",\"Malaysia\",\"Mongolia\",\"Myanmar\",\"Nepal\",\"Oman\",\"Pakistan\",\"Philippines\",\"Saudi Arabia\",\"Singapore\",\"Sri Lanka\",\"Syria\",\"Taiwan\",\"Thailand\",\"Vietnam\",\"West Bank and Gaza\",\"Yemen, Rep.\"],\"legendgroup\":\"Asia\",\"locations\":[\"AFG\",\"BHR\",\"BGD\",\"KHM\",\"CHN\",\"HKG\",\"IND\",\"IDN\",\"IRN\",\"IRQ\",\"ISR\",\"JPN\",\"JOR\",\"KOR\",\"KOR\",\"KWT\",\"LBN\",\"MYS\",\"MNG\",\"MMR\",\"NPL\",\"OMN\",\"PAK\",\"PHL\",\"SAU\",\"SGP\",\"LKA\",\"SYR\",\"TWN\",\"THA\",\"VNM\",\"PSE\",\"YEM\"],\"marker\":{\"color\":\"#636efa\",\"size\":[28.801,50.93899999999999,37.484,39.417,44.0,60.96,37.37300000000001,37.468,44.869,45.32,65.39,63.03,43.158,50.056000000000004,47.453,55.565,55.928000000000004,48.463,42.244,36.319,36.157,37.578,43.43600000000001,47.751999999999995,39.875,60.396,57.593,45.883,58.5,50.848,40.412,43.16,32.548],\"sizemode\":\"area\",\"sizeref\":0.20650749999999998,\"symbol\":\"circle\"},\"mode\":\"markers\",\"name\":\"Asia\",\"showlegend\":true,\"type\":\"scattergeo\"},{\"geo\":\"geo\",\"hovertemplate\":\"<b>%{hovertext}</b><br><br>continent=Europe<br>year=1952<br>lifeExp=%{marker.size}<br>iso_alpha=%{location}<extra></extra>\",\"hovertext\":[\"Albania\",\"Austria\",\"Belgium\",\"Bosnia and Herzegovina\",\"Bulgaria\",\"Croatia\",\"Czech Republic\",\"Denmark\",\"Finland\",\"France\",\"Germany\",\"Greece\",\"Hungary\",\"Iceland\",\"Ireland\",\"Italy\",\"Montenegro\",\"Netherlands\",\"Norway\",\"Poland\",\"Portugal\",\"Romania\",\"Serbia\",\"Slovak Republic\",\"Slovenia\",\"Spain\",\"Sweden\",\"Switzerland\",\"Turkey\",\"United Kingdom\"],\"legendgroup\":\"Europe\",\"locations\":[\"ALB\",\"AUT\",\"BEL\",\"BIH\",\"BGR\",\"HRV\",\"CZE\",\"DNK\",\"FIN\",\"FRA\",\"DEU\",\"GRC\",\"HUN\",\"ISL\",\"IRL\",\"ITA\",\"MNE\",\"NLD\",\"NOR\",\"POL\",\"PRT\",\"ROU\",\"SRB\",\"SVK\",\"SVN\",\"ESP\",\"SWE\",\"CHE\",\"TUR\",\"GBR\"],\"marker\":{\"color\":\"#EF553B\",\"size\":[55.23,66.8,68.0,53.82,59.6,61.21,66.87,70.78,66.55,67.41,67.5,65.86,64.03,72.49,66.91,65.94,59.163999999999994,72.13,72.67,61.31,59.82,61.05,57.996,64.36,65.57,64.94,71.86,69.62,43.585,69.18],\"sizemode\":\"area\",\"sizeref\":0.20650749999999998,\"symbol\":\"circle\"},\"mode\":\"markers\",\"name\":\"Europe\",\"showlegend\":true,\"type\":\"scattergeo\"},{\"geo\":\"geo\",\"hovertemplate\":\"<b>%{hovertext}</b><br><br>continent=Africa<br>year=1952<br>lifeExp=%{marker.size}<br>iso_alpha=%{location}<extra></extra>\",\"hovertext\":[\"Algeria\",\"Angola\",\"Benin\",\"Botswana\",\"Burkina Faso\",\"Burundi\",\"Cameroon\",\"Central African Republic\",\"Chad\",\"Comoros\",\"Congo, Dem. Rep.\",\"Congo, Rep.\",\"Cote d'Ivoire\",\"Djibouti\",\"Egypt\",\"Equatorial Guinea\",\"Eritrea\",\"Ethiopia\",\"Gabon\",\"Gambia\",\"Ghana\",\"Guinea\",\"Guinea-Bissau\",\"Kenya\",\"Lesotho\",\"Liberia\",\"Libya\",\"Madagascar\",\"Malawi\",\"Mali\",\"Mauritania\",\"Mauritius\",\"Morocco\",\"Mozambique\",\"Namibia\",\"Niger\",\"Nigeria\",\"Reunion\",\"Rwanda\",\"Sao Tome and Principe\",\"Senegal\",\"Sierra Leone\",\"Somalia\",\"South Africa\",\"Sudan\",\"Swaziland\",\"Tanzania\",\"Togo\",\"Tunisia\",\"Uganda\",\"Zambia\",\"Zimbabwe\"],\"legendgroup\":\"Africa\",\"locations\":[\"DZA\",\"AGO\",\"BEN\",\"BWA\",\"BFA\",\"BDI\",\"CMR\",\"CAF\",\"TCD\",\"COM\",\"COD\",\"COG\",\"CIV\",\"DJI\",\"EGY\",\"GNQ\",\"ERI\",\"ETH\",\"GAB\",\"GMB\",\"GHA\",\"GIN\",\"GNB\",\"KEN\",\"LSO\",\"LBR\",\"LBY\",\"MDG\",\"MWI\",\"MLI\",\"MRT\",\"MUS\",\"MAR\",\"MOZ\",\"NAM\",\"NER\",\"NGA\",\"REU\",\"RWA\",\"STP\",\"SEN\",\"SLE\",\"SOM\",\"ZAF\",\"SDN\",\"SWZ\",\"TZA\",\"TGO\",\"TUN\",\"UGA\",\"ZMB\",\"ZWE\"],\"marker\":{\"color\":\"#00cc96\",\"size\":[43.077,30.015,38.223,47.622,31.975,39.031,38.523,35.463,38.092,40.715,39.143,42.111000000000004,40.477,34.812,41.893,34.482,35.92800000000001,34.078,37.003,30.0,43.148999999999994,33.609,32.5,42.27,42.13800000000001,38.48,42.723,36.681,36.256,33.685,40.543,50.986000000000004,42.87300000000001,31.285999999999998,41.725,37.444,36.324,52.724,40.0,46.471000000000004,37.278,30.331,32.978,45.00899999999999,38.635,41.407,41.215,38.596,44.6,39.978,42.038000000000004,48.451],\"sizemode\":\"area\",\"sizeref\":0.20650749999999998,\"symbol\":\"circle\"},\"mode\":\"markers\",\"name\":\"Africa\",\"showlegend\":true,\"type\":\"scattergeo\"},{\"geo\":\"geo\",\"hovertemplate\":\"<b>%{hovertext}</b><br><br>continent=Americas<br>year=1952<br>lifeExp=%{marker.size}<br>iso_alpha=%{location}<extra></extra>\",\"hovertext\":[\"Argentina\",\"Bolivia\",\"Brazil\",\"Canada\",\"Chile\",\"Colombia\",\"Costa Rica\",\"Cuba\",\"Dominican Republic\",\"Ecuador\",\"El Salvador\",\"Guatemala\",\"Haiti\",\"Honduras\",\"Jamaica\",\"Mexico\",\"Nicaragua\",\"Panama\",\"Paraguay\",\"Peru\",\"Puerto Rico\",\"Trinidad and Tobago\",\"United States\",\"Uruguay\",\"Venezuela\"],\"legendgroup\":\"Americas\",\"locations\":[\"ARG\",\"BOL\",\"BRA\",\"CAN\",\"CHL\",\"COL\",\"CRI\",\"CUB\",\"DOM\",\"ECU\",\"SLV\",\"GTM\",\"HTI\",\"HND\",\"JAM\",\"MEX\",\"NIC\",\"PAN\",\"PRY\",\"PER\",\"PRI\",\"TTO\",\"USA\",\"URY\",\"VEN\"],\"marker\":{\"color\":\"#ab63fa\",\"size\":[62.485,40.414,50.917,68.75,54.745,50.643,57.206,59.42100000000001,45.928000000000004,48.357,45.262,42.023,37.579,41.912,58.53,50.788999999999994,42.31399999999999,55.191,62.648999999999994,43.902,64.28,59.1,68.44,66.071,55.088],\"sizemode\":\"area\",\"sizeref\":0.20650749999999998,\"symbol\":\"circle\"},\"mode\":\"markers\",\"name\":\"Americas\",\"showlegend\":true,\"type\":\"scattergeo\"},{\"geo\":\"geo\",\"hovertemplate\":\"<b>%{hovertext}</b><br><br>continent=Oceania<br>year=1952<br>lifeExp=%{marker.size}<br>iso_alpha=%{location}<extra></extra>\",\"hovertext\":[\"Australia\",\"New Zealand\"],\"legendgroup\":\"Oceania\",\"locations\":[\"AUS\",\"NZL\"],\"marker\":{\"color\":\"#FFA15A\",\"size\":[69.12,69.39],\"sizemode\":\"area\",\"sizeref\":0.20650749999999998,\"symbol\":\"circle\"},\"mode\":\"markers\",\"name\":\"Oceania\",\"showlegend\":true,\"type\":\"scattergeo\"}],\"name\":\"1952\"},{\"data\":[{\"geo\":\"geo\",\"hovertemplate\":\"<b>%{hovertext}</b><br><br>continent=Asia<br>year=1957<br>lifeExp=%{marker.size}<br>iso_alpha=%{location}<extra></extra>\",\"hovertext\":[\"Afghanistan\",\"Bahrain\",\"Bangladesh\",\"Cambodia\",\"China\",\"Hong Kong, China\",\"India\",\"Indonesia\",\"Iran\",\"Iraq\",\"Israel\",\"Japan\",\"Jordan\",\"Korea, Dem. Rep.\",\"Korea, Rep.\",\"Kuwait\",\"Lebanon\",\"Malaysia\",\"Mongolia\",\"Myanmar\",\"Nepal\",\"Oman\",\"Pakistan\",\"Philippines\",\"Saudi Arabia\",\"Singapore\",\"Sri Lanka\",\"Syria\",\"Taiwan\",\"Thailand\",\"Vietnam\",\"West Bank and Gaza\",\"Yemen, Rep.\"],\"legendgroup\":\"Asia\",\"locations\":[\"AFG\",\"BHR\",\"BGD\",\"KHM\",\"CHN\",\"HKG\",\"IND\",\"IDN\",\"IRN\",\"IRQ\",\"ISR\",\"JPN\",\"JOR\",\"KOR\",\"KOR\",\"KWT\",\"LBN\",\"MYS\",\"MNG\",\"MMR\",\"NPL\",\"OMN\",\"PAK\",\"PHL\",\"SAU\",\"SGP\",\"LKA\",\"SYR\",\"TWN\",\"THA\",\"VNM\",\"PSE\",\"YEM\"],\"marker\":{\"color\":\"#636efa\",\"size\":[30.331999999999997,53.832,39.348,41.36600000000001,50.54896,64.75,40.249,39.918,47.181000000000004,48.437,67.84,65.5,45.669,54.081,52.681000000000004,58.033,59.489,52.102,45.24800000000001,41.905,37.686,40.08,45.556999999999995,51.333999999999996,42.868,63.178999999999995,61.456,48.284,62.4,53.63,42.887,45.67100000000001,33.97],\"sizemode\":\"area\",\"sizeref\":0.20650749999999998,\"symbol\":\"circle\"},\"mode\":\"markers\",\"name\":\"Asia\",\"showlegend\":true,\"type\":\"scattergeo\"},{\"geo\":\"geo\",\"hovertemplate\":\"<b>%{hovertext}</b><br><br>continent=Europe<br>year=1957<br>lifeExp=%{marker.size}<br>iso_alpha=%{location}<extra></extra>\",\"hovertext\":[\"Albania\",\"Austria\",\"Belgium\",\"Bosnia and Herzegovina\",\"Bulgaria\",\"Croatia\",\"Czech Republic\",\"Denmark\",\"Finland\",\"France\",\"Germany\",\"Greece\",\"Hungary\",\"Iceland\",\"Ireland\",\"Italy\",\"Montenegro\",\"Netherlands\",\"Norway\",\"Poland\",\"Portugal\",\"Romania\",\"Serbia\",\"Slovak Republic\",\"Slovenia\",\"Spain\",\"Sweden\",\"Switzerland\",\"Turkey\",\"United Kingdom\"],\"legendgroup\":\"Europe\",\"locations\":[\"ALB\",\"AUT\",\"BEL\",\"BIH\",\"BGR\",\"HRV\",\"CZE\",\"DNK\",\"FIN\",\"FRA\",\"DEU\",\"GRC\",\"HUN\",\"ISL\",\"IRL\",\"ITA\",\"MNE\",\"NLD\",\"NOR\",\"POL\",\"PRT\",\"ROU\",\"SRB\",\"SVK\",\"SVN\",\"ESP\",\"SWE\",\"CHE\",\"TUR\",\"GBR\"],\"marker\":{\"color\":\"#EF553B\",\"size\":[59.28,67.48,69.24,58.45,66.61,64.77,69.03,71.81,67.49,68.93,69.1,67.86,66.41,73.47,68.9,67.81,61.448,72.99,73.44,65.77,61.51,64.1,61.685,67.45,67.85,66.66,72.49,70.56,48.07899999999999,70.42],\"sizemode\":\"area\",\"sizeref\":0.20650749999999998,\"symbol\":\"circle\"},\"mode\":\"markers\",\"name\":\"Europe\",\"showlegend\":true,\"type\":\"scattergeo\"},{\"geo\":\"geo\",\"hovertemplate\":\"<b>%{hovertext}</b><br><br>continent=Africa<br>year=1957<br>lifeExp=%{marker.size}<br>iso_alpha=%{location}<extra></extra>\",\"hovertext\":[\"Algeria\",\"Angola\",\"Benin\",\"Botswana\",\"Burkina Faso\",\"Burundi\",\"Cameroon\",\"Central African Republic\",\"Chad\",\"Comoros\",\"Congo, Dem. Rep.\",\"Congo, Rep.\",\"Cote d'Ivoire\",\"Djibouti\",\"Egypt\",\"Equatorial Guinea\",\"Eritrea\",\"Ethiopia\",\"Gabon\",\"Gambia\",\"Ghana\",\"Guinea\",\"Guinea-Bissau\",\"Kenya\",\"Lesotho\",\"Liberia\",\"Libya\",\"Madagascar\",\"Malawi\",\"Mali\",\"Mauritania\",\"Mauritius\",\"Morocco\",\"Mozambique\",\"Namibia\",\"Niger\",\"Nigeria\",\"Reunion\",\"Rwanda\",\"Sao Tome and Principe\",\"Senegal\",\"Sierra Leone\",\"Somalia\",\"South Africa\",\"Sudan\",\"Swaziland\",\"Tanzania\",\"Togo\",\"Tunisia\",\"Uganda\",\"Zambia\",\"Zimbabwe\"],\"legendgroup\":\"Africa\",\"locations\":[\"DZA\",\"AGO\",\"BEN\",\"BWA\",\"BFA\",\"BDI\",\"CMR\",\"CAF\",\"TCD\",\"COM\",\"COD\",\"COG\",\"CIV\",\"DJI\",\"EGY\",\"GNQ\",\"ERI\",\"ETH\",\"GAB\",\"GMB\",\"GHA\",\"GIN\",\"GNB\",\"KEN\",\"LSO\",\"LBR\",\"LBY\",\"MDG\",\"MWI\",\"MLI\",\"MRT\",\"MUS\",\"MAR\",\"MOZ\",\"NAM\",\"NER\",\"NGA\",\"REU\",\"RWA\",\"STP\",\"SEN\",\"SLE\",\"SOM\",\"ZAF\",\"SDN\",\"SWZ\",\"TZA\",\"TGO\",\"TUN\",\"UGA\",\"ZMB\",\"ZWE\"],\"marker\":{\"color\":\"#00cc96\",\"size\":[45.685,31.999000000000002,40.358000000000004,49.618,34.906,40.533,40.428000000000004,37.464,39.881,42.46,40.652,45.053000000000004,42.468999999999994,37.328,44.443999999999996,35.98300000000001,38.047,36.667,38.999,32.065,44.778999999999996,34.558,33.489000000000004,44.68600000000001,45.047,39.486,45.288999999999994,38.865,37.207,35.30699999999999,42.338,58.089,45.423,33.779,45.226000000000006,38.598,37.802,55.09,41.5,48.945,39.329,31.57,34.977,47.985,39.624,43.424,42.974,41.208,47.1,42.57100000000001,44.077,50.468999999999994],\"sizemode\":\"area\",\"sizeref\":0.20650749999999998,\"symbol\":\"circle\"},\"mode\":\"markers\",\"name\":\"Africa\",\"showlegend\":true,\"type\":\"scattergeo\"},{\"geo\":\"geo\",\"hovertemplate\":\"<b>%{hovertext}</b><br><br>continent=Americas<br>year=1957<br>lifeExp=%{marker.size}<br>iso_alpha=%{location}<extra></extra>\",\"hovertext\":[\"Argentina\",\"Bolivia\",\"Brazil\",\"Canada\",\"Chile\",\"Colombia\",\"Costa Rica\",\"Cuba\",\"Dominican Republic\",\"Ecuador\",\"El Salvador\",\"Guatemala\",\"Haiti\",\"Honduras\",\"Jamaica\",\"Mexico\",\"Nicaragua\",\"Panama\",\"Paraguay\",\"Peru\",\"Puerto Rico\",\"Trinidad and Tobago\",\"United States\",\"Uruguay\",\"Venezuela\"],\"legendgroup\":\"Americas\",\"locations\":[\"ARG\",\"BOL\",\"BRA\",\"CAN\",\"CHL\",\"COL\",\"CRI\",\"CUB\",\"DOM\",\"ECU\",\"SLV\",\"GTM\",\"HTI\",\"HND\",\"JAM\",\"MEX\",\"NIC\",\"PAN\",\"PRY\",\"PER\",\"PRI\",\"TTO\",\"USA\",\"URY\",\"VEN\"],\"marker\":{\"color\":\"#ab63fa\",\"size\":[64.399,41.89,53.285,69.96,56.074,55.118,60.026,62.325,49.828,51.356,48.57,44.141999999999996,40.696,44.665,62.61,55.19,45.431999999999995,59.201,63.19600000000001,46.26300000000001,68.54,61.8,69.49,67.044,57.907],\"sizemode\":\"area\",\"sizeref\":0.20650749999999998,\"symbol\":\"circle\"},\"mode\":\"markers\",\"name\":\"Americas\",\"showlegend\":true,\"type\":\"scattergeo\"},{\"geo\":\"geo\",\"hovertemplate\":\"<b>%{hovertext}</b><br><br>continent=Oceania<br>year=1957<br>lifeExp=%{marker.size}<br>iso_alpha=%{location}<extra></extra>\",\"hovertext\":[\"Australia\",\"New Zealand\"],\"legendgroup\":\"Oceania\",\"locations\":[\"AUS\",\"NZL\"],\"marker\":{\"color\":\"#FFA15A\",\"size\":[70.33,70.26],\"sizemode\":\"area\",\"sizeref\":0.20650749999999998,\"symbol\":\"circle\"},\"mode\":\"markers\",\"name\":\"Oceania\",\"showlegend\":true,\"type\":\"scattergeo\"}],\"name\":\"1957\"},{\"data\":[{\"geo\":\"geo\",\"hovertemplate\":\"<b>%{hovertext}</b><br><br>continent=Asia<br>year=1962<br>lifeExp=%{marker.size}<br>iso_alpha=%{location}<extra></extra>\",\"hovertext\":[\"Afghanistan\",\"Bahrain\",\"Bangladesh\",\"Cambodia\",\"China\",\"Hong Kong, China\",\"India\",\"Indonesia\",\"Iran\",\"Iraq\",\"Israel\",\"Japan\",\"Jordan\",\"Korea, Dem. Rep.\",\"Korea, Rep.\",\"Kuwait\",\"Lebanon\",\"Malaysia\",\"Mongolia\",\"Myanmar\",\"Nepal\",\"Oman\",\"Pakistan\",\"Philippines\",\"Saudi Arabia\",\"Singapore\",\"Sri Lanka\",\"Syria\",\"Taiwan\",\"Thailand\",\"Vietnam\",\"West Bank and Gaza\",\"Yemen, Rep.\"],\"legendgroup\":\"Asia\",\"locations\":[\"AFG\",\"BHR\",\"BGD\",\"KHM\",\"CHN\",\"HKG\",\"IND\",\"IDN\",\"IRN\",\"IRQ\",\"ISR\",\"JPN\",\"JOR\",\"KOR\",\"KOR\",\"KWT\",\"LBN\",\"MYS\",\"MNG\",\"MMR\",\"NPL\",\"OMN\",\"PAK\",\"PHL\",\"SAU\",\"SGP\",\"LKA\",\"SYR\",\"TWN\",\"THA\",\"VNM\",\"PSE\",\"YEM\"],\"marker\":{\"color\":\"#636efa\",\"size\":[31.997,56.923,41.216,43.415,44.50136,67.65,43.605,42.518,49.325,51.457,69.39,68.73,48.12600000000001,56.65600000000001,55.292,60.47,62.093999999999994,55.736999999999995,48.25100000000001,45.108000000000004,39.393,43.165,47.67,54.757,45.913999999999994,65.798,62.192,50.305,65.2,56.06100000000001,45.363,48.126999999999995,35.18],\"sizemode\":\"area\",\"sizeref\":0.20650749999999998,\"symbol\":\"circle\"},\"mode\":\"markers\",\"name\":\"Asia\",\"showlegend\":true,\"type\":\"scattergeo\"},{\"geo\":\"geo\",\"hovertemplate\":\"<b>%{hovertext}</b><br><br>continent=Europe<br>year=1962<br>lifeExp=%{marker.size}<br>iso_alpha=%{location}<extra></extra>\",\"hovertext\":[\"Albania\",\"Austria\",\"Belgium\",\"Bosnia and Herzegovina\",\"Bulgaria\",\"Croatia\",\"Czech Republic\",\"Denmark\",\"Finland\",\"France\",\"Germany\",\"Greece\",\"Hungary\",\"Iceland\",\"Ireland\",\"Italy\",\"Montenegro\",\"Netherlands\",\"Norway\",\"Poland\",\"Portugal\",\"Romania\",\"Serbia\",\"Slovak Republic\",\"Slovenia\",\"Spain\",\"Sweden\",\"Switzerland\",\"Turkey\",\"United Kingdom\"],\"legendgroup\":\"Europe\",\"locations\":[\"ALB\",\"AUT\",\"BEL\",\"BIH\",\"BGR\",\"HRV\",\"CZE\",\"DNK\",\"FIN\",\"FRA\",\"DEU\",\"GRC\",\"HUN\",\"ISL\",\"IRL\",\"ITA\",\"MNE\",\"NLD\",\"NOR\",\"POL\",\"PRT\",\"ROU\",\"SRB\",\"SVK\",\"SVN\",\"ESP\",\"SWE\",\"CHE\",\"TUR\",\"GBR\"],\"marker\":{\"color\":\"#EF553B\",\"size\":[64.82,69.54,70.25,61.93,69.51,67.13,69.9,72.35,68.75,70.51,70.3,69.51,67.96,73.68,70.29,69.24,63.728,73.23,73.47,67.64,64.39,66.8,64.531,70.33,69.15,69.69,73.37,71.32,52.098,70.76],\"sizemode\":\"area\",\"sizeref\":0.20650749999999998,\"symbol\":\"circle\"},\"mode\":\"markers\",\"name\":\"Europe\",\"showlegend\":true,\"type\":\"scattergeo\"},{\"geo\":\"geo\",\"hovertemplate\":\"<b>%{hovertext}</b><br><br>continent=Africa<br>year=1962<br>lifeExp=%{marker.size}<br>iso_alpha=%{location}<extra></extra>\",\"hovertext\":[\"Algeria\",\"Angola\",\"Benin\",\"Botswana\",\"Burkina Faso\",\"Burundi\",\"Cameroon\",\"Central African Republic\",\"Chad\",\"Comoros\",\"Congo, Dem. Rep.\",\"Congo, Rep.\",\"Cote d'Ivoire\",\"Djibouti\",\"Egypt\",\"Equatorial Guinea\",\"Eritrea\",\"Ethiopia\",\"Gabon\",\"Gambia\",\"Ghana\",\"Guinea\",\"Guinea-Bissau\",\"Kenya\",\"Lesotho\",\"Liberia\",\"Libya\",\"Madagascar\",\"Malawi\",\"Mali\",\"Mauritania\",\"Mauritius\",\"Morocco\",\"Mozambique\",\"Namibia\",\"Niger\",\"Nigeria\",\"Reunion\",\"Rwanda\",\"Sao Tome and Principe\",\"Senegal\",\"Sierra Leone\",\"Somalia\",\"South Africa\",\"Sudan\",\"Swaziland\",\"Tanzania\",\"Togo\",\"Tunisia\",\"Uganda\",\"Zambia\",\"Zimbabwe\"],\"legendgroup\":\"Africa\",\"locations\":[\"DZA\",\"AGO\",\"BEN\",\"BWA\",\"BFA\",\"BDI\",\"CMR\",\"CAF\",\"TCD\",\"COM\",\"COD\",\"COG\",\"CIV\",\"DJI\",\"EGY\",\"GNQ\",\"ERI\",\"ETH\",\"GAB\",\"GMB\",\"GHA\",\"GIN\",\"GNB\",\"KEN\",\"LSO\",\"LBR\",\"LBY\",\"MDG\",\"MWI\",\"MLI\",\"MRT\",\"MUS\",\"MAR\",\"MOZ\",\"NAM\",\"NER\",\"NGA\",\"REU\",\"RWA\",\"STP\",\"SEN\",\"SLE\",\"SOM\",\"ZAF\",\"SDN\",\"SWZ\",\"TZA\",\"TGO\",\"TUN\",\"UGA\",\"ZMB\",\"ZWE\"],\"marker\":{\"color\":\"#00cc96\",\"size\":[48.303000000000004,34.0,42.618,51.52,37.814,42.045,42.643,39.475,41.716,44.467,42.122,48.435,44.93,39.69300000000001,46.992,37.485,40.158,40.059,40.489000000000004,33.896,46.452,35.753,34.488,47.949,47.747,40.501999999999995,47.808,40.848,38.41,36.936,44.24800000000001,60.246,47.924,36.161,48.386,39.486999999999995,39.36,57.666000000000004,43.0,51.893,41.45399999999999,32.766999999999996,36.981,49.951,40.87,44.992,44.246,43.922,49.57899999999999,45.343999999999994,46.023,52.358000000000004],\"sizemode\":\"area\",\"sizeref\":0.20650749999999998,\"symbol\":\"circle\"},\"mode\":\"markers\",\"name\":\"Africa\",\"showlegend\":true,\"type\":\"scattergeo\"},{\"geo\":\"geo\",\"hovertemplate\":\"<b>%{hovertext}</b><br><br>continent=Americas<br>year=1962<br>lifeExp=%{marker.size}<br>iso_alpha=%{location}<extra></extra>\",\"hovertext\":[\"Argentina\",\"Bolivia\",\"Brazil\",\"Canada\",\"Chile\",\"Colombia\",\"Costa Rica\",\"Cuba\",\"Dominican Republic\",\"Ecuador\",\"El Salvador\",\"Guatemala\",\"Haiti\",\"Honduras\",\"Jamaica\",\"Mexico\",\"Nicaragua\",\"Panama\",\"Paraguay\",\"Peru\",\"Puerto Rico\",\"Trinidad and Tobago\",\"United States\",\"Uruguay\",\"Venezuela\"],\"legendgroup\":\"Americas\",\"locations\":[\"ARG\",\"BOL\",\"BRA\",\"CAN\",\"CHL\",\"COL\",\"CRI\",\"CUB\",\"DOM\",\"ECU\",\"SLV\",\"GTM\",\"HTI\",\"HND\",\"JAM\",\"MEX\",\"NIC\",\"PAN\",\"PRY\",\"PER\",\"PRI\",\"TTO\",\"USA\",\"URY\",\"VEN\"],\"marker\":{\"color\":\"#ab63fa\",\"size\":[65.142,43.428000000000004,55.665,71.3,57.924,57.863,62.842,65.24600000000001,53.458999999999996,54.64,52.306999999999995,46.95399999999999,43.59,48.041000000000004,65.61,58.299,48.632,61.817,64.361,49.096000000000004,69.62,64.9,70.21,68.253,60.77],\"sizemode\":\"area\",\"sizeref\":0.20650749999999998,\"symbol\":\"circle\"},\"mode\":\"markers\",\"name\":\"Americas\",\"showlegend\":true,\"type\":\"scattergeo\"},{\"geo\":\"geo\",\"hovertemplate\":\"<b>%{hovertext}</b><br><br>continent=Oceania<br>year=1962<br>lifeExp=%{marker.size}<br>iso_alpha=%{location}<extra></extra>\",\"hovertext\":[\"Australia\",\"New Zealand\"],\"legendgroup\":\"Oceania\",\"locations\":[\"AUS\",\"NZL\"],\"marker\":{\"color\":\"#FFA15A\",\"size\":[70.93,71.24],\"sizemode\":\"area\",\"sizeref\":0.20650749999999998,\"symbol\":\"circle\"},\"mode\":\"markers\",\"name\":\"Oceania\",\"showlegend\":true,\"type\":\"scattergeo\"}],\"name\":\"1962\"},{\"data\":[{\"geo\":\"geo\",\"hovertemplate\":\"<b>%{hovertext}</b><br><br>continent=Asia<br>year=1967<br>lifeExp=%{marker.size}<br>iso_alpha=%{location}<extra></extra>\",\"hovertext\":[\"Afghanistan\",\"Bahrain\",\"Bangladesh\",\"Cambodia\",\"China\",\"Hong Kong, China\",\"India\",\"Indonesia\",\"Iran\",\"Iraq\",\"Israel\",\"Japan\",\"Jordan\",\"Korea, Dem. Rep.\",\"Korea, Rep.\",\"Kuwait\",\"Lebanon\",\"Malaysia\",\"Mongolia\",\"Myanmar\",\"Nepal\",\"Oman\",\"Pakistan\",\"Philippines\",\"Saudi Arabia\",\"Singapore\",\"Sri Lanka\",\"Syria\",\"Taiwan\",\"Thailand\",\"Vietnam\",\"West Bank and Gaza\",\"Yemen, Rep.\"],\"legendgroup\":\"Asia\",\"locations\":[\"AFG\",\"BHR\",\"BGD\",\"KHM\",\"CHN\",\"HKG\",\"IND\",\"IDN\",\"IRN\",\"IRQ\",\"ISR\",\"JPN\",\"JOR\",\"KOR\",\"KOR\",\"KWT\",\"LBN\",\"MYS\",\"MNG\",\"MMR\",\"NPL\",\"OMN\",\"PAK\",\"PHL\",\"SAU\",\"SGP\",\"LKA\",\"SYR\",\"TWN\",\"THA\",\"VNM\",\"PSE\",\"YEM\"],\"marker\":{\"color\":\"#636efa\",\"size\":[34.02,59.923,43.453,45.415,58.381119999999996,70.0,47.19300000000001,45.964,52.468999999999994,54.458999999999996,70.75,71.43,51.629,59.942,57.716,64.624,63.87,59.371,51.253,49.379,41.472,46.988,49.8,56.393,49.901,67.946,64.266,53.655,67.5,58.285,47.838,51.631,36.984],\"sizemode\":\"area\",\"sizeref\":0.20650749999999998,\"symbol\":\"circle\"},\"mode\":\"markers\",\"name\":\"Asia\",\"showlegend\":true,\"type\":\"scattergeo\"},{\"geo\":\"geo\",\"hovertemplate\":\"<b>%{hovertext}</b><br><br>continent=Europe<br>year=1967<br>lifeExp=%{marker.size}<br>iso_alpha=%{location}<extra></extra>\",\"hovertext\":[\"Albania\",\"Austria\",\"Belgium\",\"Bosnia and Herzegovina\",\"Bulgaria\",\"Croatia\",\"Czech Republic\",\"Denmark\",\"Finland\",\"France\",\"Germany\",\"Greece\",\"Hungary\",\"Iceland\",\"Ireland\",\"Italy\",\"Montenegro\",\"Netherlands\",\"Norway\",\"Poland\",\"Portugal\",\"Romania\",\"Serbia\",\"Slovak Republic\",\"Slovenia\",\"Spain\",\"Sweden\",\"Switzerland\",\"Turkey\",\"United Kingdom\"],\"legendgroup\":\"Europe\",\"locations\":[\"ALB\",\"AUT\",\"BEL\",\"BIH\",\"BGR\",\"HRV\",\"CZE\",\"DNK\",\"FIN\",\"FRA\",\"DEU\",\"GRC\",\"HUN\",\"ISL\",\"IRL\",\"ITA\",\"MNE\",\"NLD\",\"NOR\",\"POL\",\"PRT\",\"ROU\",\"SRB\",\"SVK\",\"SVN\",\"ESP\",\"SWE\",\"CHE\",\"TUR\",\"GBR\"],\"marker\":{\"color\":\"#EF553B\",\"size\":[66.22,70.14,70.94,64.79,70.42,68.5,70.38,72.96,69.83,71.55,70.8,71.0,69.5,73.73,71.08,71.06,67.178,73.82,74.08,69.61,66.6,66.8,66.914,70.98,69.18,71.44,74.16,72.77,54.33600000000001,71.36],\"sizemode\":\"area\",\"sizeref\":0.20650749999999998,\"symbol\":\"circle\"},\"mode\":\"markers\",\"name\":\"Europe\",\"showlegend\":true,\"type\":\"scattergeo\"},{\"geo\":\"geo\",\"hovertemplate\":\"<b>%{hovertext}</b><br><br>continent=Africa<br>year=1967<br>lifeExp=%{marker.size}<br>iso_alpha=%{location}<extra></extra>\",\"hovertext\":[\"Algeria\",\"Angola\",\"Benin\",\"Botswana\",\"Burkina Faso\",\"Burundi\",\"Cameroon\",\"Central African Republic\",\"Chad\",\"Comoros\",\"Congo, Dem. Rep.\",\"Congo, Rep.\",\"Cote d'Ivoire\",\"Djibouti\",\"Egypt\",\"Equatorial Guinea\",\"Eritrea\",\"Ethiopia\",\"Gabon\",\"Gambia\",\"Ghana\",\"Guinea\",\"Guinea-Bissau\",\"Kenya\",\"Lesotho\",\"Liberia\",\"Libya\",\"Madagascar\",\"Malawi\",\"Mali\",\"Mauritania\",\"Mauritius\",\"Morocco\",\"Mozambique\",\"Namibia\",\"Niger\",\"Nigeria\",\"Reunion\",\"Rwanda\",\"Sao Tome and Principe\",\"Senegal\",\"Sierra Leone\",\"Somalia\",\"South Africa\",\"Sudan\",\"Swaziland\",\"Tanzania\",\"Togo\",\"Tunisia\",\"Uganda\",\"Zambia\",\"Zimbabwe\"],\"legendgroup\":\"Africa\",\"locations\":[\"DZA\",\"AGO\",\"BEN\",\"BWA\",\"BFA\",\"BDI\",\"CMR\",\"CAF\",\"TCD\",\"COM\",\"COD\",\"COG\",\"CIV\",\"DJI\",\"EGY\",\"GNQ\",\"ERI\",\"ETH\",\"GAB\",\"GMB\",\"GHA\",\"GIN\",\"GNB\",\"KEN\",\"LSO\",\"LBR\",\"LBY\",\"MDG\",\"MWI\",\"MLI\",\"MRT\",\"MUS\",\"MAR\",\"MOZ\",\"NAM\",\"NER\",\"NGA\",\"REU\",\"RWA\",\"STP\",\"SEN\",\"SLE\",\"SOM\",\"ZAF\",\"SDN\",\"SWZ\",\"TZA\",\"TGO\",\"TUN\",\"UGA\",\"ZMB\",\"ZWE\"],\"marker\":{\"color\":\"#00cc96\",\"size\":[51.407,35.985,44.885,53.298,40.696999999999996,43.548,44.799,41.478,43.601000000000006,46.472,44.056000000000004,52.04,47.35,42.074,49.293,38.986999999999995,42.18899999999999,42.115,44.598,35.857,48.071999999999996,37.196999999999996,35.492,50.653999999999996,48.492,41.536,50.227,42.881,39.486999999999995,38.486999999999995,46.288999999999994,61.556999999999995,50.335,38.113,51.159,40.118,41.04,60.542,44.1,54.425,43.563,34.113,38.977,51.927,42.858000000000004,46.633,45.757,46.769,52.053000000000004,48.051,47.768,53.995],\"sizemode\":\"area\",\"sizeref\":0.20650749999999998,\"symbol\":\"circle\"},\"mode\":\"markers\",\"name\":\"Africa\",\"showlegend\":true,\"type\":\"scattergeo\"},{\"geo\":\"geo\",\"hovertemplate\":\"<b>%{hovertext}</b><br><br>continent=Americas<br>year=1967<br>lifeExp=%{marker.size}<br>iso_alpha=%{location}<extra></extra>\",\"hovertext\":[\"Argentina\",\"Bolivia\",\"Brazil\",\"Canada\",\"Chile\",\"Colombia\",\"Costa Rica\",\"Cuba\",\"Dominican Republic\",\"Ecuador\",\"El Salvador\",\"Guatemala\",\"Haiti\",\"Honduras\",\"Jamaica\",\"Mexico\",\"Nicaragua\",\"Panama\",\"Paraguay\",\"Peru\",\"Puerto Rico\",\"Trinidad and Tobago\",\"United States\",\"Uruguay\",\"Venezuela\"],\"legendgroup\":\"Americas\",\"locations\":[\"ARG\",\"BOL\",\"BRA\",\"CAN\",\"CHL\",\"COL\",\"CRI\",\"CUB\",\"DOM\",\"ECU\",\"SLV\",\"GTM\",\"HTI\",\"HND\",\"JAM\",\"MEX\",\"NIC\",\"PAN\",\"PRY\",\"PER\",\"PRI\",\"TTO\",\"USA\",\"URY\",\"VEN\"],\"marker\":{\"color\":\"#ab63fa\",\"size\":[65.634,45.032,57.632,72.13,60.523,59.963,65.42399999999999,68.29,56.75100000000001,56.678000000000004,55.855,50.01600000000001,46.243,50.924,67.51,60.11,51.88399999999999,64.071,64.95100000000001,51.445,71.1,65.4,70.76,68.468,63.479],\"sizemode\":\"area\",\"sizeref\":0.20650749999999998,\"symbol\":\"circle\"},\"mode\":\"markers\",\"name\":\"Americas\",\"showlegend\":true,\"type\":\"scattergeo\"},{\"geo\":\"geo\",\"hovertemplate\":\"<b>%{hovertext}</b><br><br>continent=Oceania<br>year=1967<br>lifeExp=%{marker.size}<br>iso_alpha=%{location}<extra></extra>\",\"hovertext\":[\"Australia\",\"New Zealand\"],\"legendgroup\":\"Oceania\",\"locations\":[\"AUS\",\"NZL\"],\"marker\":{\"color\":\"#FFA15A\",\"size\":[71.1,71.52],\"sizemode\":\"area\",\"sizeref\":0.20650749999999998,\"symbol\":\"circle\"},\"mode\":\"markers\",\"name\":\"Oceania\",\"showlegend\":true,\"type\":\"scattergeo\"}],\"name\":\"1967\"},{\"data\":[{\"geo\":\"geo\",\"hovertemplate\":\"<b>%{hovertext}</b><br><br>continent=Asia<br>year=1972<br>lifeExp=%{marker.size}<br>iso_alpha=%{location}<extra></extra>\",\"hovertext\":[\"Afghanistan\",\"Bahrain\",\"Bangladesh\",\"Cambodia\",\"China\",\"Hong Kong, China\",\"India\",\"Indonesia\",\"Iran\",\"Iraq\",\"Israel\",\"Japan\",\"Jordan\",\"Korea, Dem. Rep.\",\"Korea, Rep.\",\"Kuwait\",\"Lebanon\",\"Malaysia\",\"Mongolia\",\"Myanmar\",\"Nepal\",\"Oman\",\"Pakistan\",\"Philippines\",\"Saudi Arabia\",\"Singapore\",\"Sri Lanka\",\"Syria\",\"Taiwan\",\"Thailand\",\"Vietnam\",\"West Bank and Gaza\",\"Yemen, Rep.\"],\"legendgroup\":\"Asia\",\"locations\":[\"AFG\",\"BHR\",\"BGD\",\"KHM\",\"CHN\",\"HKG\",\"IND\",\"IDN\",\"IRN\",\"IRQ\",\"ISR\",\"JPN\",\"JOR\",\"KOR\",\"KOR\",\"KWT\",\"LBN\",\"MYS\",\"MNG\",\"MMR\",\"NPL\",\"OMN\",\"PAK\",\"PHL\",\"SAU\",\"SGP\",\"LKA\",\"SYR\",\"TWN\",\"THA\",\"VNM\",\"PSE\",\"YEM\"],\"marker\":{\"color\":\"#636efa\",\"size\":[36.088,63.3,45.251999999999995,40.317,63.118880000000004,72.0,50.651,49.203,55.233999999999995,56.95,71.63,73.42,56.528,63.983000000000004,62.611999999999995,67.712,65.421,63.01,53.754,53.07,43.971000000000004,52.143,51.928999999999995,58.065,53.886,69.521,65.042,57.29600000000001,69.39,60.405,50.254,56.532,39.848],\"sizemode\":\"area\",\"sizeref\":0.20650749999999998,\"symbol\":\"circle\"},\"mode\":\"markers\",\"name\":\"Asia\",\"showlegend\":true,\"type\":\"scattergeo\"},{\"geo\":\"geo\",\"hovertemplate\":\"<b>%{hovertext}</b><br><br>continent=Europe<br>year=1972<br>lifeExp=%{marker.size}<br>iso_alpha=%{location}<extra></extra>\",\"hovertext\":[\"Albania\",\"Austria\",\"Belgium\",\"Bosnia and Herzegovina\",\"Bulgaria\",\"Croatia\",\"Czech Republic\",\"Denmark\",\"Finland\",\"France\",\"Germany\",\"Greece\",\"Hungary\",\"Iceland\",\"Ireland\",\"Italy\",\"Montenegro\",\"Netherlands\",\"Norway\",\"Poland\",\"Portugal\",\"Romania\",\"Serbia\",\"Slovak Republic\",\"Slovenia\",\"Spain\",\"Sweden\",\"Switzerland\",\"Turkey\",\"United Kingdom\"],\"legendgroup\":\"Europe\",\"locations\":[\"ALB\",\"AUT\",\"BEL\",\"BIH\",\"BGR\",\"HRV\",\"CZE\",\"DNK\",\"FIN\",\"FRA\",\"DEU\",\"GRC\",\"HUN\",\"ISL\",\"IRL\",\"ITA\",\"MNE\",\"NLD\",\"NOR\",\"POL\",\"PRT\",\"ROU\",\"SRB\",\"SVK\",\"SVN\",\"ESP\",\"SWE\",\"CHE\",\"TUR\",\"GBR\"],\"marker\":{\"color\":\"#EF553B\",\"size\":[67.69,70.63,71.44,67.45,70.9,69.61,70.29,73.47,70.87,72.38,71.0,72.34,69.76,74.46,71.28,72.19,70.63600000000002,73.75,74.34,70.85,69.26,69.21,68.7,70.35,69.82,73.06,74.72,73.78,57.005,72.01],\"sizemode\":\"area\",\"sizeref\":0.20650749999999998,\"symbol\":\"circle\"},\"mode\":\"markers\",\"name\":\"Europe\",\"showlegend\":true,\"type\":\"scattergeo\"},{\"geo\":\"geo\",\"hovertemplate\":\"<b>%{hovertext}</b><br><br>continent=Africa<br>year=1972<br>lifeExp=%{marker.size}<br>iso_alpha=%{location}<extra></extra>\",\"hovertext\":[\"Algeria\",\"Angola\",\"Benin\",\"Botswana\",\"Burkina Faso\",\"Burundi\",\"Cameroon\",\"Central African Republic\",\"Chad\",\"Comoros\",\"Congo, Dem. Rep.\",\"Congo, Rep.\",\"Cote d'Ivoire\",\"Djibouti\",\"Egypt\",\"Equatorial Guinea\",\"Eritrea\",\"Ethiopia\",\"Gabon\",\"Gambia\",\"Ghana\",\"Guinea\",\"Guinea-Bissau\",\"Kenya\",\"Lesotho\",\"Liberia\",\"Libya\",\"Madagascar\",\"Malawi\",\"Mali\",\"Mauritania\",\"Mauritius\",\"Morocco\",\"Mozambique\",\"Namibia\",\"Niger\",\"Nigeria\",\"Reunion\",\"Rwanda\",\"Sao Tome and Principe\",\"Senegal\",\"Sierra Leone\",\"Somalia\",\"South Africa\",\"Sudan\",\"Swaziland\",\"Tanzania\",\"Togo\",\"Tunisia\",\"Uganda\",\"Zambia\",\"Zimbabwe\"],\"legendgroup\":\"Africa\",\"locations\":[\"DZA\",\"AGO\",\"BEN\",\"BWA\",\"BFA\",\"BDI\",\"CMR\",\"CAF\",\"TCD\",\"COM\",\"COD\",\"COG\",\"CIV\",\"DJI\",\"EGY\",\"GNQ\",\"ERI\",\"ETH\",\"GAB\",\"GMB\",\"GHA\",\"GIN\",\"GNB\",\"KEN\",\"LSO\",\"LBR\",\"LBY\",\"MDG\",\"MWI\",\"MLI\",\"MRT\",\"MUS\",\"MAR\",\"MOZ\",\"NAM\",\"NER\",\"NGA\",\"REU\",\"RWA\",\"STP\",\"SEN\",\"SLE\",\"SOM\",\"ZAF\",\"SDN\",\"SWZ\",\"TZA\",\"TGO\",\"TUN\",\"UGA\",\"ZMB\",\"ZWE\"],\"marker\":{\"color\":\"#00cc96\",\"size\":[54.518,37.928000000000004,47.013999999999996,56.023999999999994,43.591,44.056999999999995,47.049,43.457,45.568999999999996,48.943999999999996,45.989,54.907,49.801,44.36600000000001,51.137,40.516,44.141999999999996,43.515,48.69,38.308,49.875,38.842,36.486,53.559,49.766999999999996,42.614,52.773,44.851000000000006,41.76600000000001,39.977,48.437,62.943999999999996,52.861999999999995,40.328,53.867,40.546,42.82100000000001,64.274,44.6,56.48,45.815,35.4,40.973,53.69600000000001,45.083,49.552,47.62,49.75899999999999,55.602,51.01600000000001,50.107,55.635],\"sizemode\":\"area\",\"sizeref\":0.20650749999999998,\"symbol\":\"circle\"},\"mode\":\"markers\",\"name\":\"Africa\",\"showlegend\":true,\"type\":\"scattergeo\"},{\"geo\":\"geo\",\"hovertemplate\":\"<b>%{hovertext}</b><br><br>continent=Americas<br>year=1972<br>lifeExp=%{marker.size}<br>iso_alpha=%{location}<extra></extra>\",\"hovertext\":[\"Argentina\",\"Bolivia\",\"Brazil\",\"Canada\",\"Chile\",\"Colombia\",\"Costa Rica\",\"Cuba\",\"Dominican Republic\",\"Ecuador\",\"El Salvador\",\"Guatemala\",\"Haiti\",\"Honduras\",\"Jamaica\",\"Mexico\",\"Nicaragua\",\"Panama\",\"Paraguay\",\"Peru\",\"Puerto Rico\",\"Trinidad and Tobago\",\"United States\",\"Uruguay\",\"Venezuela\"],\"legendgroup\":\"Americas\",\"locations\":[\"ARG\",\"BOL\",\"BRA\",\"CAN\",\"CHL\",\"COL\",\"CRI\",\"CUB\",\"DOM\",\"ECU\",\"SLV\",\"GTM\",\"HTI\",\"HND\",\"JAM\",\"MEX\",\"NIC\",\"PAN\",\"PRY\",\"PER\",\"PRI\",\"TTO\",\"USA\",\"URY\",\"VEN\"],\"marker\":{\"color\":\"#ab63fa\",\"size\":[67.065,46.714,59.504,72.88,63.441,61.62300000000001,67.84899999999999,70.723,59.631,58.79600000000001,58.207,53.738,48.042,53.88399999999999,69.0,62.361000000000004,55.151,66.21600000000001,65.815,55.448,72.16,65.9,71.34,68.673,65.712],\"sizemode\":\"area\",\"sizeref\":0.20650749999999998,\"symbol\":\"circle\"},\"mode\":\"markers\",\"name\":\"Americas\",\"showlegend\":true,\"type\":\"scattergeo\"},{\"geo\":\"geo\",\"hovertemplate\":\"<b>%{hovertext}</b><br><br>continent=Oceania<br>year=1972<br>lifeExp=%{marker.size}<br>iso_alpha=%{location}<extra></extra>\",\"hovertext\":[\"Australia\",\"New Zealand\"],\"legendgroup\":\"Oceania\",\"locations\":[\"AUS\",\"NZL\"],\"marker\":{\"color\":\"#FFA15A\",\"size\":[71.93,71.89],\"sizemode\":\"area\",\"sizeref\":0.20650749999999998,\"symbol\":\"circle\"},\"mode\":\"markers\",\"name\":\"Oceania\",\"showlegend\":true,\"type\":\"scattergeo\"}],\"name\":\"1972\"},{\"data\":[{\"geo\":\"geo\",\"hovertemplate\":\"<b>%{hovertext}</b><br><br>continent=Asia<br>year=1977<br>lifeExp=%{marker.size}<br>iso_alpha=%{location}<extra></extra>\",\"hovertext\":[\"Afghanistan\",\"Bahrain\",\"Bangladesh\",\"Cambodia\",\"China\",\"Hong Kong, China\",\"India\",\"Indonesia\",\"Iran\",\"Iraq\",\"Israel\",\"Japan\",\"Jordan\",\"Korea, Dem. Rep.\",\"Korea, Rep.\",\"Kuwait\",\"Lebanon\",\"Malaysia\",\"Mongolia\",\"Myanmar\",\"Nepal\",\"Oman\",\"Pakistan\",\"Philippines\",\"Saudi Arabia\",\"Singapore\",\"Sri Lanka\",\"Syria\",\"Taiwan\",\"Thailand\",\"Vietnam\",\"West Bank and Gaza\",\"Yemen, Rep.\"],\"legendgroup\":\"Asia\",\"locations\":[\"AFG\",\"BHR\",\"BGD\",\"KHM\",\"CHN\",\"HKG\",\"IND\",\"IDN\",\"IRN\",\"IRQ\",\"ISR\",\"JPN\",\"JOR\",\"KOR\",\"KOR\",\"KWT\",\"LBN\",\"MYS\",\"MNG\",\"MMR\",\"NPL\",\"OMN\",\"PAK\",\"PHL\",\"SAU\",\"SGP\",\"LKA\",\"SYR\",\"TWN\",\"THA\",\"VNM\",\"PSE\",\"YEM\"],\"marker\":{\"color\":\"#636efa\",\"size\":[38.438,65.593,46.923,31.22,63.96736,73.6,54.208,52.702,57.702,60.413000000000004,73.06,75.38,61.13399999999999,67.15899999999999,64.766,69.343,66.09899999999999,65.256,55.49100000000001,56.059,46.74800000000001,57.367,54.043,60.06,58.69,70.795,65.949,61.195,70.59,62.494,55.763999999999996,60.765,44.175],\"sizemode\":\"area\",\"sizeref\":0.20650749999999998,\"symbol\":\"circle\"},\"mode\":\"markers\",\"name\":\"Asia\",\"showlegend\":true,\"type\":\"scattergeo\"},{\"geo\":\"geo\",\"hovertemplate\":\"<b>%{hovertext}</b><br><br>continent=Europe<br>year=1977<br>lifeExp=%{marker.size}<br>iso_alpha=%{location}<extra></extra>\",\"hovertext\":[\"Albania\",\"Austria\",\"Belgium\",\"Bosnia and Herzegovina\",\"Bulgaria\",\"Croatia\",\"Czech Republic\",\"Denmark\",\"Finland\",\"France\",\"Germany\",\"Greece\",\"Hungary\",\"Iceland\",\"Ireland\",\"Italy\",\"Montenegro\",\"Netherlands\",\"Norway\",\"Poland\",\"Portugal\",\"Romania\",\"Serbia\",\"Slovak Republic\",\"Slovenia\",\"Spain\",\"Sweden\",\"Switzerland\",\"Turkey\",\"United Kingdom\"],\"legendgroup\":\"Europe\",\"locations\":[\"ALB\",\"AUT\",\"BEL\",\"BIH\",\"BGR\",\"HRV\",\"CZE\",\"DNK\",\"FIN\",\"FRA\",\"DEU\",\"GRC\",\"HUN\",\"ISL\",\"IRL\",\"ITA\",\"MNE\",\"NLD\",\"NOR\",\"POL\",\"PRT\",\"ROU\",\"SRB\",\"SVK\",\"SVN\",\"ESP\",\"SWE\",\"CHE\",\"TUR\",\"GBR\"],\"marker\":{\"color\":\"#EF553B\",\"size\":[68.93,72.17,72.8,69.86,70.81,70.64,70.71,74.69,72.52,73.83,72.5,73.68,69.95,76.11,72.03,73.48,73.066,75.24,75.37,70.67,70.41,69.46,70.3,70.45,70.97,74.39,75.44,75.39,59.507,72.76],\"sizemode\":\"area\",\"sizeref\":0.20650749999999998,\"symbol\":\"circle\"},\"mode\":\"markers\",\"name\":\"Europe\",\"showlegend\":true,\"type\":\"scattergeo\"},{\"geo\":\"geo\",\"hovertemplate\":\"<b>%{hovertext}</b><br><br>continent=Africa<br>year=1977<br>lifeExp=%{marker.size}<br>iso_alpha=%{location}<extra></extra>\",\"hovertext\":[\"Algeria\",\"Angola\",\"Benin\",\"Botswana\",\"Burkina Faso\",\"Burundi\",\"Cameroon\",\"Central African Republic\",\"Chad\",\"Comoros\",\"Congo, Dem. Rep.\",\"Congo, Rep.\",\"Cote d'Ivoire\",\"Djibouti\",\"Egypt\",\"Equatorial Guinea\",\"Eritrea\",\"Ethiopia\",\"Gabon\",\"Gambia\",\"Ghana\",\"Guinea\",\"Guinea-Bissau\",\"Kenya\",\"Lesotho\",\"Liberia\",\"Libya\",\"Madagascar\",\"Malawi\",\"Mali\",\"Mauritania\",\"Mauritius\",\"Morocco\",\"Mozambique\",\"Namibia\",\"Niger\",\"Nigeria\",\"Reunion\",\"Rwanda\",\"Sao Tome and Principe\",\"Senegal\",\"Sierra Leone\",\"Somalia\",\"South Africa\",\"Sudan\",\"Swaziland\",\"Tanzania\",\"Togo\",\"Tunisia\",\"Uganda\",\"Zambia\",\"Zimbabwe\"],\"legendgroup\":\"Africa\",\"locations\":[\"DZA\",\"AGO\",\"BEN\",\"BWA\",\"BFA\",\"BDI\",\"CMR\",\"CAF\",\"TCD\",\"COM\",\"COD\",\"COG\",\"CIV\",\"DJI\",\"EGY\",\"GNQ\",\"ERI\",\"ETH\",\"GAB\",\"GMB\",\"GHA\",\"GIN\",\"GNB\",\"KEN\",\"LSO\",\"LBR\",\"LBY\",\"MDG\",\"MWI\",\"MLI\",\"MRT\",\"MUS\",\"MAR\",\"MOZ\",\"NAM\",\"NER\",\"NGA\",\"REU\",\"RWA\",\"STP\",\"SEN\",\"SLE\",\"SOM\",\"ZAF\",\"SDN\",\"SWZ\",\"TZA\",\"TGO\",\"TUN\",\"UGA\",\"ZMB\",\"ZWE\"],\"marker\":{\"color\":\"#00cc96\",\"size\":[58.013999999999996,39.483000000000004,49.19,59.318999999999996,46.137,45.91,49.355,46.775,47.383,50.93899999999999,47.803999999999995,55.625,52.373999999999995,46.519,53.318999999999996,42.023999999999994,44.535,44.51,52.79,41.842,51.756,40.762,37.465,56.155,52.208,43.763999999999996,57.442,46.881,43.766999999999996,41.714,50.852,64.93,55.73,42.495,56.437,41.291000000000004,44.513999999999996,67.064,45.0,58.55,48.879,36.788000000000004,41.974,55.527,47.8,52.537,49.919,52.887,59.836999999999996,50.35,51.386,57.674],\"sizemode\":\"area\",\"sizeref\":0.20650749999999998,\"symbol\":\"circle\"},\"mode\":\"markers\",\"name\":\"Africa\",\"showlegend\":true,\"type\":\"scattergeo\"},{\"geo\":\"geo\",\"hovertemplate\":\"<b>%{hovertext}</b><br><br>continent=Americas<br>year=1977<br>lifeExp=%{marker.size}<br>iso_alpha=%{location}<extra></extra>\",\"hovertext\":[\"Argentina\",\"Bolivia\",\"Brazil\",\"Canada\",\"Chile\",\"Colombia\",\"Costa Rica\",\"Cuba\",\"Dominican Republic\",\"Ecuador\",\"El Salvador\",\"Guatemala\",\"Haiti\",\"Honduras\",\"Jamaica\",\"Mexico\",\"Nicaragua\",\"Panama\",\"Paraguay\",\"Peru\",\"Puerto Rico\",\"Trinidad and Tobago\",\"United States\",\"Uruguay\",\"Venezuela\"],\"legendgroup\":\"Americas\",\"locations\":[\"ARG\",\"BOL\",\"BRA\",\"CAN\",\"CHL\",\"COL\",\"CRI\",\"CUB\",\"DOM\",\"ECU\",\"SLV\",\"GTM\",\"HTI\",\"HND\",\"JAM\",\"MEX\",\"NIC\",\"PAN\",\"PRY\",\"PER\",\"PRI\",\"TTO\",\"USA\",\"URY\",\"VEN\"],\"marker\":{\"color\":\"#ab63fa\",\"size\":[68.48100000000001,50.023,61.489,74.21,67.05199999999999,63.836999999999996,70.75,72.649,61.788000000000004,61.31,56.69600000000001,56.028999999999996,49.923,57.402,70.11,65.032,57.47,68.681,66.35300000000001,58.446999999999996,73.44,68.3,73.38,69.48100000000001,67.456],\"sizemode\":\"area\",\"sizeref\":0.20650749999999998,\"symbol\":\"circle\"},\"mode\":\"markers\",\"name\":\"Americas\",\"showlegend\":true,\"type\":\"scattergeo\"},{\"geo\":\"geo\",\"hovertemplate\":\"<b>%{hovertext}</b><br><br>continent=Oceania<br>year=1977<br>lifeExp=%{marker.size}<br>iso_alpha=%{location}<extra></extra>\",\"hovertext\":[\"Australia\",\"New Zealand\"],\"legendgroup\":\"Oceania\",\"locations\":[\"AUS\",\"NZL\"],\"marker\":{\"color\":\"#FFA15A\",\"size\":[73.49,72.22],\"sizemode\":\"area\",\"sizeref\":0.20650749999999998,\"symbol\":\"circle\"},\"mode\":\"markers\",\"name\":\"Oceania\",\"showlegend\":true,\"type\":\"scattergeo\"}],\"name\":\"1977\"},{\"data\":[{\"geo\":\"geo\",\"hovertemplate\":\"<b>%{hovertext}</b><br><br>continent=Asia<br>year=1982<br>lifeExp=%{marker.size}<br>iso_alpha=%{location}<extra></extra>\",\"hovertext\":[\"Afghanistan\",\"Bahrain\",\"Bangladesh\",\"Cambodia\",\"China\",\"Hong Kong, China\",\"India\",\"Indonesia\",\"Iran\",\"Iraq\",\"Israel\",\"Japan\",\"Jordan\",\"Korea, Dem. Rep.\",\"Korea, Rep.\",\"Kuwait\",\"Lebanon\",\"Malaysia\",\"Mongolia\",\"Myanmar\",\"Nepal\",\"Oman\",\"Pakistan\",\"Philippines\",\"Saudi Arabia\",\"Singapore\",\"Sri Lanka\",\"Syria\",\"Taiwan\",\"Thailand\",\"Vietnam\",\"West Bank and Gaza\",\"Yemen, Rep.\"],\"legendgroup\":\"Asia\",\"locations\":[\"AFG\",\"BHR\",\"BGD\",\"KHM\",\"CHN\",\"HKG\",\"IND\",\"IDN\",\"IRN\",\"IRQ\",\"ISR\",\"JPN\",\"JOR\",\"KOR\",\"KOR\",\"KWT\",\"LBN\",\"MYS\",\"MNG\",\"MMR\",\"NPL\",\"OMN\",\"PAK\",\"PHL\",\"SAU\",\"SGP\",\"LKA\",\"SYR\",\"TWN\",\"THA\",\"VNM\",\"PSE\",\"YEM\"],\"marker\":{\"color\":\"#636efa\",\"size\":[39.854,69.05199999999999,50.00899999999999,50.957,65.525,75.45,56.596000000000004,56.159,59.62,62.038000000000004,74.45,77.11,63.739,69.1,67.123,71.309,66.983,68.0,57.489,58.056000000000004,49.593999999999994,62.728,56.158,62.082,63.012,71.76,68.757,64.59,72.16,64.597,58.816,64.406,49.113],\"sizemode\":\"area\",\"sizeref\":0.20650749999999998,\"symbol\":\"circle\"},\"mode\":\"markers\",\"name\":\"Asia\",\"showlegend\":true,\"type\":\"scattergeo\"},{\"geo\":\"geo\",\"hovertemplate\":\"<b>%{hovertext}</b><br><br>continent=Europe<br>year=1982<br>lifeExp=%{marker.size}<br>iso_alpha=%{location}<extra></extra>\",\"hovertext\":[\"Albania\",\"Austria\",\"Belgium\",\"Bosnia and Herzegovina\",\"Bulgaria\",\"Croatia\",\"Czech Republic\",\"Denmark\",\"Finland\",\"France\",\"Germany\",\"Greece\",\"Hungary\",\"Iceland\",\"Ireland\",\"Italy\",\"Montenegro\",\"Netherlands\",\"Norway\",\"Poland\",\"Portugal\",\"Romania\",\"Serbia\",\"Slovak Republic\",\"Slovenia\",\"Spain\",\"Sweden\",\"Switzerland\",\"Turkey\",\"United Kingdom\"],\"legendgroup\":\"Europe\",\"locations\":[\"ALB\",\"AUT\",\"BEL\",\"BIH\",\"BGR\",\"HRV\",\"CZE\",\"DNK\",\"FIN\",\"FRA\",\"DEU\",\"GRC\",\"HUN\",\"ISL\",\"IRL\",\"ITA\",\"MNE\",\"NLD\",\"NOR\",\"POL\",\"PRT\",\"ROU\",\"SRB\",\"SVK\",\"SVN\",\"ESP\",\"SWE\",\"CHE\",\"TUR\",\"GBR\"],\"marker\":{\"color\":\"#EF553B\",\"size\":[70.42,73.18,73.93,70.69,71.08,70.46,70.96,74.63,74.55,74.89,73.8,75.24,69.39,76.99,73.1,74.98,74.101,76.05,75.97,71.32,72.77,69.66,70.16199999999999,70.8,71.063,76.3,76.42,76.21,61.036,74.04],\"sizemode\":\"area\",\"sizeref\":0.20650749999999998,\"symbol\":\"circle\"},\"mode\":\"markers\",\"name\":\"Europe\",\"showlegend\":true,\"type\":\"scattergeo\"},{\"geo\":\"geo\",\"hovertemplate\":\"<b>%{hovertext}</b><br><br>continent=Africa<br>year=1982<br>lifeExp=%{marker.size}<br>iso_alpha=%{location}<extra></extra>\",\"hovertext\":[\"Algeria\",\"Angola\",\"Benin\",\"Botswana\",\"Burkina Faso\",\"Burundi\",\"Cameroon\",\"Central African Republic\",\"Chad\",\"Comoros\",\"Congo, Dem. Rep.\",\"Congo, Rep.\",\"Cote d'Ivoire\",\"Djibouti\",\"Egypt\",\"Equatorial Guinea\",\"Eritrea\",\"Ethiopia\",\"Gabon\",\"Gambia\",\"Ghana\",\"Guinea\",\"Guinea-Bissau\",\"Kenya\",\"Lesotho\",\"Liberia\",\"Libya\",\"Madagascar\",\"Malawi\",\"Mali\",\"Mauritania\",\"Mauritius\",\"Morocco\",\"Mozambique\",\"Namibia\",\"Niger\",\"Nigeria\",\"Reunion\",\"Rwanda\",\"Sao Tome and Principe\",\"Senegal\",\"Sierra Leone\",\"Somalia\",\"South Africa\",\"Sudan\",\"Swaziland\",\"Tanzania\",\"Togo\",\"Tunisia\",\"Uganda\",\"Zambia\",\"Zimbabwe\"],\"legendgroup\":\"Africa\",\"locations\":[\"DZA\",\"AGO\",\"BEN\",\"BWA\",\"BFA\",\"BDI\",\"CMR\",\"CAF\",\"TCD\",\"COM\",\"COD\",\"COG\",\"CIV\",\"DJI\",\"EGY\",\"GNQ\",\"ERI\",\"ETH\",\"GAB\",\"GMB\",\"GHA\",\"GIN\",\"GNB\",\"KEN\",\"LSO\",\"LBR\",\"LBY\",\"MDG\",\"MWI\",\"MLI\",\"MRT\",\"MUS\",\"MAR\",\"MOZ\",\"NAM\",\"NER\",\"NGA\",\"REU\",\"RWA\",\"STP\",\"SEN\",\"SLE\",\"SOM\",\"ZAF\",\"SDN\",\"SWZ\",\"TZA\",\"TGO\",\"TUN\",\"UGA\",\"ZMB\",\"ZWE\"],\"marker\":{\"color\":\"#00cc96\",\"size\":[61.368,39.942,50.903999999999996,61.483999999999995,48.122,47.471000000000004,52.96100000000001,48.295,49.516999999999996,52.933,47.784,56.695,53.983000000000004,48.812,56.006,43.662,43.89,44.916000000000004,56.56399999999999,45.58,53.744,42.89100000000001,39.327,58.76600000000001,55.078,44.852,62.155,48.968999999999994,45.641999999999996,43.916000000000004,53.599,66.711,59.65,42.795,58.968,42.598,45.826,69.885,46.218,60.351000000000006,52.379,38.445,42.955,58.161,50.338,55.56100000000001,50.608000000000004,55.471000000000004,64.048,49.849,51.82100000000001,60.363],\"sizemode\":\"area\",\"sizeref\":0.20650749999999998,\"symbol\":\"circle\"},\"mode\":\"markers\",\"name\":\"Africa\",\"showlegend\":true,\"type\":\"scattergeo\"},{\"geo\":\"geo\",\"hovertemplate\":\"<b>%{hovertext}</b><br><br>continent=Americas<br>year=1982<br>lifeExp=%{marker.size}<br>iso_alpha=%{location}<extra></extra>\",\"hovertext\":[\"Argentina\",\"Bolivia\",\"Brazil\",\"Canada\",\"Chile\",\"Colombia\",\"Costa Rica\",\"Cuba\",\"Dominican Republic\",\"Ecuador\",\"El Salvador\",\"Guatemala\",\"Haiti\",\"Honduras\",\"Jamaica\",\"Mexico\",\"Nicaragua\",\"Panama\",\"Paraguay\",\"Peru\",\"Puerto Rico\",\"Trinidad and Tobago\",\"United States\",\"Uruguay\",\"Venezuela\"],\"legendgroup\":\"Americas\",\"locations\":[\"ARG\",\"BOL\",\"BRA\",\"CAN\",\"CHL\",\"COL\",\"CRI\",\"CUB\",\"DOM\",\"ECU\",\"SLV\",\"GTM\",\"HTI\",\"HND\",\"JAM\",\"MEX\",\"NIC\",\"PAN\",\"PRY\",\"PER\",\"PRI\",\"TTO\",\"USA\",\"URY\",\"VEN\"],\"marker\":{\"color\":\"#ab63fa\",\"size\":[69.942,53.858999999999995,63.33600000000001,75.76,70.565,66.653,73.45,73.717,63.727,64.342,56.604,58.137,51.46100000000001,60.909,71.21,67.405,59.298,70.472,66.874,61.40600000000001,73.75,68.832,74.65,70.805,68.557],\"sizemode\":\"area\",\"sizeref\":0.20650749999999998,\"symbol\":\"circle\"},\"mode\":\"markers\",\"name\":\"Americas\",\"showlegend\":true,\"type\":\"scattergeo\"},{\"geo\":\"geo\",\"hovertemplate\":\"<b>%{hovertext}</b><br><br>continent=Oceania<br>year=1982<br>lifeExp=%{marker.size}<br>iso_alpha=%{location}<extra></extra>\",\"hovertext\":[\"Australia\",\"New Zealand\"],\"legendgroup\":\"Oceania\",\"locations\":[\"AUS\",\"NZL\"],\"marker\":{\"color\":\"#FFA15A\",\"size\":[74.74,73.84],\"sizemode\":\"area\",\"sizeref\":0.20650749999999998,\"symbol\":\"circle\"},\"mode\":\"markers\",\"name\":\"Oceania\",\"showlegend\":true,\"type\":\"scattergeo\"}],\"name\":\"1982\"},{\"data\":[{\"geo\":\"geo\",\"hovertemplate\":\"<b>%{hovertext}</b><br><br>continent=Asia<br>year=1987<br>lifeExp=%{marker.size}<br>iso_alpha=%{location}<extra></extra>\",\"hovertext\":[\"Afghanistan\",\"Bahrain\",\"Bangladesh\",\"Cambodia\",\"China\",\"Hong Kong, China\",\"India\",\"Indonesia\",\"Iran\",\"Iraq\",\"Israel\",\"Japan\",\"Jordan\",\"Korea, Dem. Rep.\",\"Korea, Rep.\",\"Kuwait\",\"Lebanon\",\"Malaysia\",\"Mongolia\",\"Myanmar\",\"Nepal\",\"Oman\",\"Pakistan\",\"Philippines\",\"Saudi Arabia\",\"Singapore\",\"Sri Lanka\",\"Syria\",\"Taiwan\",\"Thailand\",\"Vietnam\",\"West Bank and Gaza\",\"Yemen, Rep.\"],\"legendgroup\":\"Asia\",\"locations\":[\"AFG\",\"BHR\",\"BGD\",\"KHM\",\"CHN\",\"HKG\",\"IND\",\"IDN\",\"IRN\",\"IRQ\",\"ISR\",\"JPN\",\"JOR\",\"KOR\",\"KOR\",\"KWT\",\"LBN\",\"MYS\",\"MNG\",\"MMR\",\"NPL\",\"OMN\",\"PAK\",\"PHL\",\"SAU\",\"SGP\",\"LKA\",\"SYR\",\"TWN\",\"THA\",\"VNM\",\"PSE\",\"YEM\"],\"marker\":{\"color\":\"#636efa\",\"size\":[40.821999999999996,70.75,52.818999999999996,53.913999999999994,67.274,76.2,58.553000000000004,60.137,63.04,65.044,75.6,78.67,65.869,70.64699999999998,69.81,74.17399999999998,67.926,69.5,60.222,58.339,52.537,67.734,58.245,64.15100000000001,66.295,73.56,69.01100000000001,66.97399999999999,73.4,66.084,62.82,67.046,52.922],\"sizemode\":\"area\",\"sizeref\":0.20650749999999998,\"symbol\":\"circle\"},\"mode\":\"markers\",\"name\":\"Asia\",\"showlegend\":true,\"type\":\"scattergeo\"},{\"geo\":\"geo\",\"hovertemplate\":\"<b>%{hovertext}</b><br><br>continent=Europe<br>year=1987<br>lifeExp=%{marker.size}<br>iso_alpha=%{location}<extra></extra>\",\"hovertext\":[\"Albania\",\"Austria\",\"Belgium\",\"Bosnia and Herzegovina\",\"Bulgaria\",\"Croatia\",\"Czech Republic\",\"Denmark\",\"Finland\",\"France\",\"Germany\",\"Greece\",\"Hungary\",\"Iceland\",\"Ireland\",\"Italy\",\"Montenegro\",\"Netherlands\",\"Norway\",\"Poland\",\"Portugal\",\"Romania\",\"Serbia\",\"Slovak Republic\",\"Slovenia\",\"Spain\",\"Sweden\",\"Switzerland\",\"Turkey\",\"United Kingdom\"],\"legendgroup\":\"Europe\",\"locations\":[\"ALB\",\"AUT\",\"BEL\",\"BIH\",\"BGR\",\"HRV\",\"CZE\",\"DNK\",\"FIN\",\"FRA\",\"DEU\",\"GRC\",\"HUN\",\"ISL\",\"IRL\",\"ITA\",\"MNE\",\"NLD\",\"NOR\",\"POL\",\"PRT\",\"ROU\",\"SRB\",\"SVK\",\"SVN\",\"ESP\",\"SWE\",\"CHE\",\"TUR\",\"GBR\"],\"marker\":{\"color\":\"#EF553B\",\"size\":[72.0,74.94,75.35,71.14,71.34,71.52,71.58,74.8,74.83,76.34,74.847,76.67,69.58,77.23,74.36,76.42,74.865,76.83,75.89,70.98,74.06,69.53,71.218,71.08,72.25,76.9,77.19,77.41,63.108000000000004,75.007],\"sizemode\":\"area\",\"sizeref\":0.20650749999999998,\"symbol\":\"circle\"},\"mode\":\"markers\",\"name\":\"Europe\",\"showlegend\":true,\"type\":\"scattergeo\"},{\"geo\":\"geo\",\"hovertemplate\":\"<b>%{hovertext}</b><br><br>continent=Africa<br>year=1987<br>lifeExp=%{marker.size}<br>iso_alpha=%{location}<extra></extra>\",\"hovertext\":[\"Algeria\",\"Angola\",\"Benin\",\"Botswana\",\"Burkina Faso\",\"Burundi\",\"Cameroon\",\"Central African Republic\",\"Chad\",\"Comoros\",\"Congo, Dem. Rep.\",\"Congo, Rep.\",\"Cote d'Ivoire\",\"Djibouti\",\"Egypt\",\"Equatorial Guinea\",\"Eritrea\",\"Ethiopia\",\"Gabon\",\"Gambia\",\"Ghana\",\"Guinea\",\"Guinea-Bissau\",\"Kenya\",\"Lesotho\",\"Liberia\",\"Libya\",\"Madagascar\",\"Malawi\",\"Mali\",\"Mauritania\",\"Mauritius\",\"Morocco\",\"Mozambique\",\"Namibia\",\"Niger\",\"Nigeria\",\"Reunion\",\"Rwanda\",\"Sao Tome and Principe\",\"Senegal\",\"Sierra Leone\",\"Somalia\",\"South Africa\",\"Sudan\",\"Swaziland\",\"Tanzania\",\"Togo\",\"Tunisia\",\"Uganda\",\"Zambia\",\"Zimbabwe\"],\"legendgroup\":\"Africa\",\"locations\":[\"DZA\",\"AGO\",\"BEN\",\"BWA\",\"BFA\",\"BDI\",\"CMR\",\"CAF\",\"TCD\",\"COM\",\"COD\",\"COG\",\"CIV\",\"DJI\",\"EGY\",\"GNQ\",\"ERI\",\"ETH\",\"GAB\",\"GMB\",\"GHA\",\"GIN\",\"GNB\",\"KEN\",\"LSO\",\"LBR\",\"LBY\",\"MDG\",\"MWI\",\"MLI\",\"MRT\",\"MUS\",\"MAR\",\"MOZ\",\"NAM\",\"NER\",\"NGA\",\"REU\",\"RWA\",\"STP\",\"SEN\",\"SLE\",\"SOM\",\"ZAF\",\"SDN\",\"SWZ\",\"TZA\",\"TGO\",\"TUN\",\"UGA\",\"ZMB\",\"ZWE\"],\"marker\":{\"color\":\"#00cc96\",\"size\":[65.79899999999999,39.906,52.336999999999996,63.622,49.556999999999995,48.21100000000001,54.985,50.485,51.051,54.926,47.412,57.47,54.655,50.04,59.797,45.663999999999994,46.453,46.684,60.19,49.265,55.729,45.552,41.245,59.339,57.18,46.027,66.234,49.35,47.457,46.364,56.145,68.74,62.677,42.861000000000004,60.835,44.555,46.886,71.913,44.02,61.728,55.769,40.006,44.50100000000001,60.833999999999996,51.744,57.678000000000004,51.535,56.941,66.89399999999999,51.50899999999999,50.82100000000001,62.351000000000006],\"sizemode\":\"area\",\"sizeref\":0.20650749999999998,\"symbol\":\"circle\"},\"mode\":\"markers\",\"name\":\"Africa\",\"showlegend\":true,\"type\":\"scattergeo\"},{\"geo\":\"geo\",\"hovertemplate\":\"<b>%{hovertext}</b><br><br>continent=Americas<br>year=1987<br>lifeExp=%{marker.size}<br>iso_alpha=%{location}<extra></extra>\",\"hovertext\":[\"Argentina\",\"Bolivia\",\"Brazil\",\"Canada\",\"Chile\",\"Colombia\",\"Costa Rica\",\"Cuba\",\"Dominican Republic\",\"Ecuador\",\"El Salvador\",\"Guatemala\",\"Haiti\",\"Honduras\",\"Jamaica\",\"Mexico\",\"Nicaragua\",\"Panama\",\"Paraguay\",\"Peru\",\"Puerto Rico\",\"Trinidad and Tobago\",\"United States\",\"Uruguay\",\"Venezuela\"],\"legendgroup\":\"Americas\",\"locations\":[\"ARG\",\"BOL\",\"BRA\",\"CAN\",\"CHL\",\"COL\",\"CRI\",\"CUB\",\"DOM\",\"ECU\",\"SLV\",\"GTM\",\"HTI\",\"HND\",\"JAM\",\"MEX\",\"NIC\",\"PAN\",\"PRY\",\"PER\",\"PRI\",\"TTO\",\"USA\",\"URY\",\"VEN\"],\"marker\":{\"color\":\"#ab63fa\",\"size\":[70.774,57.25100000000001,65.205,76.86,72.492,67.768,74.752,74.17399999999998,66.046,67.23100000000001,63.153999999999996,60.782,53.636,64.492,71.77,69.498,62.008,71.523,67.378,64.134,74.63,69.582,75.02,71.918,70.19],\"sizemode\":\"area\",\"sizeref\":0.20650749999999998,\"symbol\":\"circle\"},\"mode\":\"markers\",\"name\":\"Americas\",\"showlegend\":true,\"type\":\"scattergeo\"},{\"geo\":\"geo\",\"hovertemplate\":\"<b>%{hovertext}</b><br><br>continent=Oceania<br>year=1987<br>lifeExp=%{marker.size}<br>iso_alpha=%{location}<extra></extra>\",\"hovertext\":[\"Australia\",\"New Zealand\"],\"legendgroup\":\"Oceania\",\"locations\":[\"AUS\",\"NZL\"],\"marker\":{\"color\":\"#FFA15A\",\"size\":[76.32,74.32],\"sizemode\":\"area\",\"sizeref\":0.20650749999999998,\"symbol\":\"circle\"},\"mode\":\"markers\",\"name\":\"Oceania\",\"showlegend\":true,\"type\":\"scattergeo\"}],\"name\":\"1987\"},{\"data\":[{\"geo\":\"geo\",\"hovertemplate\":\"<b>%{hovertext}</b><br><br>continent=Asia<br>year=1992<br>lifeExp=%{marker.size}<br>iso_alpha=%{location}<extra></extra>\",\"hovertext\":[\"Afghanistan\",\"Bahrain\",\"Bangladesh\",\"Cambodia\",\"China\",\"Hong Kong, China\",\"India\",\"Indonesia\",\"Iran\",\"Iraq\",\"Israel\",\"Japan\",\"Jordan\",\"Korea, Dem. Rep.\",\"Korea, Rep.\",\"Kuwait\",\"Lebanon\",\"Malaysia\",\"Mongolia\",\"Myanmar\",\"Nepal\",\"Oman\",\"Pakistan\",\"Philippines\",\"Saudi Arabia\",\"Singapore\",\"Sri Lanka\",\"Syria\",\"Taiwan\",\"Thailand\",\"Vietnam\",\"West Bank and Gaza\",\"Yemen, Rep.\"],\"legendgroup\":\"Asia\",\"locations\":[\"AFG\",\"BHR\",\"BGD\",\"KHM\",\"CHN\",\"HKG\",\"IND\",\"IDN\",\"IRN\",\"IRQ\",\"ISR\",\"JPN\",\"JOR\",\"KOR\",\"KOR\",\"KWT\",\"LBN\",\"MYS\",\"MNG\",\"MMR\",\"NPL\",\"OMN\",\"PAK\",\"PHL\",\"SAU\",\"SGP\",\"LKA\",\"SYR\",\"TWN\",\"THA\",\"VNM\",\"PSE\",\"YEM\"],\"marker\":{\"color\":\"#636efa\",\"size\":[41.674,72.601,56.018,55.803000000000004,68.69,77.601,60.223,62.681000000000004,65.742,59.46100000000001,76.93,79.36,68.015,69.97800000000001,72.244,75.19,69.292,70.693,61.271,59.32,55.727,71.197,60.838,66.458,68.768,75.788,70.37899999999998,69.249,74.26,67.298,67.66199999999999,69.718,55.599],\"sizemode\":\"area\",\"sizeref\":0.20650749999999998,\"symbol\":\"circle\"},\"mode\":\"markers\",\"name\":\"Asia\",\"showlegend\":true,\"type\":\"scattergeo\"},{\"geo\":\"geo\",\"hovertemplate\":\"<b>%{hovertext}</b><br><br>continent=Europe<br>year=1992<br>lifeExp=%{marker.size}<br>iso_alpha=%{location}<extra></extra>\",\"hovertext\":[\"Albania\",\"Austria\",\"Belgium\",\"Bosnia and Herzegovina\",\"Bulgaria\",\"Croatia\",\"Czech Republic\",\"Denmark\",\"Finland\",\"France\",\"Germany\",\"Greece\",\"Hungary\",\"Iceland\",\"Ireland\",\"Italy\",\"Montenegro\",\"Netherlands\",\"Norway\",\"Poland\",\"Portugal\",\"Romania\",\"Serbia\",\"Slovak Republic\",\"Slovenia\",\"Spain\",\"Sweden\",\"Switzerland\",\"Turkey\",\"United Kingdom\"],\"legendgroup\":\"Europe\",\"locations\":[\"ALB\",\"AUT\",\"BEL\",\"BIH\",\"BGR\",\"HRV\",\"CZE\",\"DNK\",\"FIN\",\"FRA\",\"DEU\",\"GRC\",\"HUN\",\"ISL\",\"IRL\",\"ITA\",\"MNE\",\"NLD\",\"NOR\",\"POL\",\"PRT\",\"ROU\",\"SRB\",\"SVK\",\"SVN\",\"ESP\",\"SWE\",\"CHE\",\"TUR\",\"GBR\"],\"marker\":{\"color\":\"#EF553B\",\"size\":[71.581,76.04,76.46,72.178,71.19,72.527,72.4,75.33,75.7,77.46,76.07,77.03,69.17,78.77,75.467,77.44,75.435,77.42,77.32,70.99,74.86,69.36,71.65899999999998,71.38,73.64,77.57,78.16,78.03,66.146,76.42],\"sizemode\":\"area\",\"sizeref\":0.20650749999999998,\"symbol\":\"circle\"},\"mode\":\"markers\",\"name\":\"Europe\",\"showlegend\":true,\"type\":\"scattergeo\"},{\"geo\":\"geo\",\"hovertemplate\":\"<b>%{hovertext}</b><br><br>continent=Africa<br>year=1992<br>lifeExp=%{marker.size}<br>iso_alpha=%{location}<extra></extra>\",\"hovertext\":[\"Algeria\",\"Angola\",\"Benin\",\"Botswana\",\"Burkina Faso\",\"Burundi\",\"Cameroon\",\"Central African Republic\",\"Chad\",\"Comoros\",\"Congo, Dem. Rep.\",\"Congo, Rep.\",\"Cote d'Ivoire\",\"Djibouti\",\"Egypt\",\"Equatorial Guinea\",\"Eritrea\",\"Ethiopia\",\"Gabon\",\"Gambia\",\"Ghana\",\"Guinea\",\"Guinea-Bissau\",\"Kenya\",\"Lesotho\",\"Liberia\",\"Libya\",\"Madagascar\",\"Malawi\",\"Mali\",\"Mauritania\",\"Mauritius\",\"Morocco\",\"Mozambique\",\"Namibia\",\"Niger\",\"Nigeria\",\"Reunion\",\"Rwanda\",\"Sao Tome and Principe\",\"Senegal\",\"Sierra Leone\",\"Somalia\",\"South Africa\",\"Sudan\",\"Swaziland\",\"Tanzania\",\"Togo\",\"Tunisia\",\"Uganda\",\"Zambia\",\"Zimbabwe\"],\"legendgroup\":\"Africa\",\"locations\":[\"DZA\",\"AGO\",\"BEN\",\"BWA\",\"BFA\",\"BDI\",\"CMR\",\"CAF\",\"TCD\",\"COM\",\"COD\",\"COG\",\"CIV\",\"DJI\",\"EGY\",\"GNQ\",\"ERI\",\"ETH\",\"GAB\",\"GMB\",\"GHA\",\"GIN\",\"GNB\",\"KEN\",\"LSO\",\"LBR\",\"LBY\",\"MDG\",\"MWI\",\"MLI\",\"MRT\",\"MUS\",\"MAR\",\"MOZ\",\"NAM\",\"NER\",\"NGA\",\"REU\",\"RWA\",\"STP\",\"SEN\",\"SLE\",\"SOM\",\"ZAF\",\"SDN\",\"SWZ\",\"TZA\",\"TGO\",\"TUN\",\"UGA\",\"ZMB\",\"ZWE\"],\"marker\":{\"color\":\"#00cc96\",\"size\":[67.744,40.647,53.919,62.745,50.26,44.736000000000004,54.31399999999999,49.396,51.724,57.93899999999999,45.548,56.433,52.044,51.604,63.674,47.545,49.99100000000001,48.091,61.36600000000001,52.644,57.50100000000001,48.576,43.26600000000001,59.285,59.685,40.802,68.755,52.214,49.42,48.38800000000001,58.333,69.745,65.393,44.284,61.998999999999995,47.39100000000001,47.472,73.615,23.599,62.742,58.19600000000001,38.333,39.658,61.88800000000001,53.556000000000004,58.474,50.44,58.06100000000001,70.001,48.825,46.1,60.376999999999995],\"sizemode\":\"area\",\"sizeref\":0.20650749999999998,\"symbol\":\"circle\"},\"mode\":\"markers\",\"name\":\"Africa\",\"showlegend\":true,\"type\":\"scattergeo\"},{\"geo\":\"geo\",\"hovertemplate\":\"<b>%{hovertext}</b><br><br>continent=Americas<br>year=1992<br>lifeExp=%{marker.size}<br>iso_alpha=%{location}<extra></extra>\",\"hovertext\":[\"Argentina\",\"Bolivia\",\"Brazil\",\"Canada\",\"Chile\",\"Colombia\",\"Costa Rica\",\"Cuba\",\"Dominican Republic\",\"Ecuador\",\"El Salvador\",\"Guatemala\",\"Haiti\",\"Honduras\",\"Jamaica\",\"Mexico\",\"Nicaragua\",\"Panama\",\"Paraguay\",\"Peru\",\"Puerto Rico\",\"Trinidad and Tobago\",\"United States\",\"Uruguay\",\"Venezuela\"],\"legendgroup\":\"Americas\",\"locations\":[\"ARG\",\"BOL\",\"BRA\",\"CAN\",\"CHL\",\"COL\",\"CRI\",\"CUB\",\"DOM\",\"ECU\",\"SLV\",\"GTM\",\"HTI\",\"HND\",\"JAM\",\"MEX\",\"NIC\",\"PAN\",\"PRY\",\"PER\",\"PRI\",\"TTO\",\"USA\",\"URY\",\"VEN\"],\"marker\":{\"color\":\"#ab63fa\",\"size\":[71.868,59.957,67.057,77.95,74.126,68.421,75.71300000000002,74.414,68.457,69.613,66.798,63.37300000000001,55.089,66.399,71.766,71.455,65.843,72.462,68.225,66.458,73.911,69.862,76.09,72.752,71.15],\"sizemode\":\"area\",\"sizeref\":0.20650749999999998,\"symbol\":\"circle\"},\"mode\":\"markers\",\"name\":\"Americas\",\"showlegend\":true,\"type\":\"scattergeo\"},{\"geo\":\"geo\",\"hovertemplate\":\"<b>%{hovertext}</b><br><br>continent=Oceania<br>year=1992<br>lifeExp=%{marker.size}<br>iso_alpha=%{location}<extra></extra>\",\"hovertext\":[\"Australia\",\"New Zealand\"],\"legendgroup\":\"Oceania\",\"locations\":[\"AUS\",\"NZL\"],\"marker\":{\"color\":\"#FFA15A\",\"size\":[77.56,76.33],\"sizemode\":\"area\",\"sizeref\":0.20650749999999998,\"symbol\":\"circle\"},\"mode\":\"markers\",\"name\":\"Oceania\",\"showlegend\":true,\"type\":\"scattergeo\"}],\"name\":\"1992\"},{\"data\":[{\"geo\":\"geo\",\"hovertemplate\":\"<b>%{hovertext}</b><br><br>continent=Asia<br>year=1997<br>lifeExp=%{marker.size}<br>iso_alpha=%{location}<extra></extra>\",\"hovertext\":[\"Afghanistan\",\"Bahrain\",\"Bangladesh\",\"Cambodia\",\"China\",\"Hong Kong, China\",\"India\",\"Indonesia\",\"Iran\",\"Iraq\",\"Israel\",\"Japan\",\"Jordan\",\"Korea, Dem. Rep.\",\"Korea, Rep.\",\"Kuwait\",\"Lebanon\",\"Malaysia\",\"Mongolia\",\"Myanmar\",\"Nepal\",\"Oman\",\"Pakistan\",\"Philippines\",\"Saudi Arabia\",\"Singapore\",\"Sri Lanka\",\"Syria\",\"Taiwan\",\"Thailand\",\"Vietnam\",\"West Bank and Gaza\",\"Yemen, Rep.\"],\"legendgroup\":\"Asia\",\"locations\":[\"AFG\",\"BHR\",\"BGD\",\"KHM\",\"CHN\",\"HKG\",\"IND\",\"IDN\",\"IRN\",\"IRQ\",\"ISR\",\"JPN\",\"JOR\",\"KOR\",\"KOR\",\"KWT\",\"LBN\",\"MYS\",\"MNG\",\"MMR\",\"NPL\",\"OMN\",\"PAK\",\"PHL\",\"SAU\",\"SGP\",\"LKA\",\"SYR\",\"TWN\",\"THA\",\"VNM\",\"PSE\",\"YEM\"],\"marker\":{\"color\":\"#636efa\",\"size\":[41.76300000000001,73.925,59.412,56.534,70.426,80.0,61.765,66.041,68.042,58.81100000000001,78.26899999999998,80.69,69.77199999999999,67.727,74.64699999999998,76.156,70.265,71.938,63.625,60.328,59.426,72.499,61.81800000000001,68.564,70.533,77.158,70.457,71.527,75.25,67.521,70.672,71.096,58.02],\"sizemode\":\"area\",\"sizeref\":0.20650749999999998,\"symbol\":\"circle\"},\"mode\":\"markers\",\"name\":\"Asia\",\"showlegend\":true,\"type\":\"scattergeo\"},{\"geo\":\"geo\",\"hovertemplate\":\"<b>%{hovertext}</b><br><br>continent=Europe<br>year=1997<br>lifeExp=%{marker.size}<br>iso_alpha=%{location}<extra></extra>\",\"hovertext\":[\"Albania\",\"Austria\",\"Belgium\",\"Bosnia and Herzegovina\",\"Bulgaria\",\"Croatia\",\"Czech Republic\",\"Denmark\",\"Finland\",\"France\",\"Germany\",\"Greece\",\"Hungary\",\"Iceland\",\"Ireland\",\"Italy\",\"Montenegro\",\"Netherlands\",\"Norway\",\"Poland\",\"Portugal\",\"Romania\",\"Serbia\",\"Slovak Republic\",\"Slovenia\",\"Spain\",\"Sweden\",\"Switzerland\",\"Turkey\",\"United Kingdom\"],\"legendgroup\":\"Europe\",\"locations\":[\"ALB\",\"AUT\",\"BEL\",\"BIH\",\"BGR\",\"HRV\",\"CZE\",\"DNK\",\"FIN\",\"FRA\",\"DEU\",\"GRC\",\"HUN\",\"ISL\",\"IRL\",\"ITA\",\"MNE\",\"NLD\",\"NOR\",\"POL\",\"PRT\",\"ROU\",\"SRB\",\"SVK\",\"SVN\",\"ESP\",\"SWE\",\"CHE\",\"TUR\",\"GBR\"],\"marker\":{\"color\":\"#EF553B\",\"size\":[72.95,77.51,77.53,73.244,70.32,73.68,74.01,76.11,77.13,78.64,77.34,77.869,71.04,78.95,76.122,78.82,75.445,78.03,78.32,72.75,75.97,69.72,72.232,72.71,75.13,78.77,79.39,79.37,68.835,77.218],\"sizemode\":\"area\",\"sizeref\":0.20650749999999998,\"symbol\":\"circle\"},\"mode\":\"markers\",\"name\":\"Europe\",\"showlegend\":true,\"type\":\"scattergeo\"},{\"geo\":\"geo\",\"hovertemplate\":\"<b>%{hovertext}</b><br><br>continent=Africa<br>year=1997<br>lifeExp=%{marker.size}<br>iso_alpha=%{location}<extra></extra>\",\"hovertext\":[\"Algeria\",\"Angola\",\"Benin\",\"Botswana\",\"Burkina Faso\",\"Burundi\",\"Cameroon\",\"Central African Republic\",\"Chad\",\"Comoros\",\"Congo, Dem. Rep.\",\"Congo, Rep.\",\"Cote d'Ivoire\",\"Djibouti\",\"Egypt\",\"Equatorial Guinea\",\"Eritrea\",\"Ethiopia\",\"Gabon\",\"Gambia\",\"Ghana\",\"Guinea\",\"Guinea-Bissau\",\"Kenya\",\"Lesotho\",\"Liberia\",\"Libya\",\"Madagascar\",\"Malawi\",\"Mali\",\"Mauritania\",\"Mauritius\",\"Morocco\",\"Mozambique\",\"Namibia\",\"Niger\",\"Nigeria\",\"Reunion\",\"Rwanda\",\"Sao Tome and Principe\",\"Senegal\",\"Sierra Leone\",\"Somalia\",\"South Africa\",\"Sudan\",\"Swaziland\",\"Tanzania\",\"Togo\",\"Tunisia\",\"Uganda\",\"Zambia\",\"Zimbabwe\"],\"legendgroup\":\"Africa\",\"locations\":[\"DZA\",\"AGO\",\"BEN\",\"BWA\",\"BFA\",\"BDI\",\"CMR\",\"CAF\",\"TCD\",\"COM\",\"COD\",\"COG\",\"CIV\",\"DJI\",\"EGY\",\"GNQ\",\"ERI\",\"ETH\",\"GAB\",\"GMB\",\"GHA\",\"GIN\",\"GNB\",\"KEN\",\"LSO\",\"LBR\",\"LBY\",\"MDG\",\"MWI\",\"MLI\",\"MRT\",\"MUS\",\"MAR\",\"MOZ\",\"NAM\",\"NER\",\"NGA\",\"REU\",\"RWA\",\"STP\",\"SEN\",\"SLE\",\"SOM\",\"ZAF\",\"SDN\",\"SWZ\",\"TZA\",\"TGO\",\"TUN\",\"UGA\",\"ZMB\",\"ZWE\"],\"marker\":{\"color\":\"#00cc96\",\"size\":[69.152,40.963,54.777,52.556000000000004,50.324,45.326,52.199,46.066,51.573,60.66,42.586999999999996,52.961999999999996,47.99100000000001,53.157,67.217,48.245,53.378,49.402,60.46100000000001,55.861000000000004,58.556000000000004,51.455,44.87300000000001,54.407,55.558,42.221000000000004,71.555,54.978,47.495,49.903,60.43,70.736,67.66,46.343999999999994,58.909,51.313,47.464,74.77199999999998,36.086999999999996,63.306000000000004,60.187,39.897,43.795,60.236000000000004,55.37300000000001,54.288999999999994,48.466,58.39,71.973,44.578,40.238,46.809],\"sizemode\":\"area\",\"sizeref\":0.20650749999999998,\"symbol\":\"circle\"},\"mode\":\"markers\",\"name\":\"Africa\",\"showlegend\":true,\"type\":\"scattergeo\"},{\"geo\":\"geo\",\"hovertemplate\":\"<b>%{hovertext}</b><br><br>continent=Americas<br>year=1997<br>lifeExp=%{marker.size}<br>iso_alpha=%{location}<extra></extra>\",\"hovertext\":[\"Argentina\",\"Bolivia\",\"Brazil\",\"Canada\",\"Chile\",\"Colombia\",\"Costa Rica\",\"Cuba\",\"Dominican Republic\",\"Ecuador\",\"El Salvador\",\"Guatemala\",\"Haiti\",\"Honduras\",\"Jamaica\",\"Mexico\",\"Nicaragua\",\"Panama\",\"Paraguay\",\"Peru\",\"Puerto Rico\",\"Trinidad and Tobago\",\"United States\",\"Uruguay\",\"Venezuela\"],\"legendgroup\":\"Americas\",\"locations\":[\"ARG\",\"BOL\",\"BRA\",\"CAN\",\"CHL\",\"COL\",\"CRI\",\"CUB\",\"DOM\",\"ECU\",\"SLV\",\"GTM\",\"HTI\",\"HND\",\"JAM\",\"MEX\",\"NIC\",\"PAN\",\"PRY\",\"PER\",\"PRI\",\"TTO\",\"USA\",\"URY\",\"VEN\"],\"marker\":{\"color\":\"#ab63fa\",\"size\":[73.275,62.05,69.388,78.61,75.816,70.313,77.26,76.15100000000002,69.957,72.312,69.535,66.322,56.67100000000001,67.65899999999999,72.262,73.67,68.426,73.738,69.4,68.38600000000001,74.917,69.465,76.81,74.223,72.146],\"sizemode\":\"area\",\"sizeref\":0.20650749999999998,\"symbol\":\"circle\"},\"mode\":\"markers\",\"name\":\"Americas\",\"showlegend\":true,\"type\":\"scattergeo\"},{\"geo\":\"geo\",\"hovertemplate\":\"<b>%{hovertext}</b><br><br>continent=Oceania<br>year=1997<br>lifeExp=%{marker.size}<br>iso_alpha=%{location}<extra></extra>\",\"hovertext\":[\"Australia\",\"New Zealand\"],\"legendgroup\":\"Oceania\",\"locations\":[\"AUS\",\"NZL\"],\"marker\":{\"color\":\"#FFA15A\",\"size\":[78.83,77.55],\"sizemode\":\"area\",\"sizeref\":0.20650749999999998,\"symbol\":\"circle\"},\"mode\":\"markers\",\"name\":\"Oceania\",\"showlegend\":true,\"type\":\"scattergeo\"}],\"name\":\"1997\"},{\"data\":[{\"geo\":\"geo\",\"hovertemplate\":\"<b>%{hovertext}</b><br><br>continent=Asia<br>year=2002<br>lifeExp=%{marker.size}<br>iso_alpha=%{location}<extra></extra>\",\"hovertext\":[\"Afghanistan\",\"Bahrain\",\"Bangladesh\",\"Cambodia\",\"China\",\"Hong Kong, China\",\"India\",\"Indonesia\",\"Iran\",\"Iraq\",\"Israel\",\"Japan\",\"Jordan\",\"Korea, Dem. Rep.\",\"Korea, Rep.\",\"Kuwait\",\"Lebanon\",\"Malaysia\",\"Mongolia\",\"Myanmar\",\"Nepal\",\"Oman\",\"Pakistan\",\"Philippines\",\"Saudi Arabia\",\"Singapore\",\"Sri Lanka\",\"Syria\",\"Taiwan\",\"Thailand\",\"Vietnam\",\"West Bank and Gaza\",\"Yemen, Rep.\"],\"legendgroup\":\"Asia\",\"locations\":[\"AFG\",\"BHR\",\"BGD\",\"KHM\",\"CHN\",\"HKG\",\"IND\",\"IDN\",\"IRN\",\"IRQ\",\"ISR\",\"JPN\",\"JOR\",\"KOR\",\"KOR\",\"KWT\",\"LBN\",\"MYS\",\"MNG\",\"MMR\",\"NPL\",\"OMN\",\"PAK\",\"PHL\",\"SAU\",\"SGP\",\"LKA\",\"SYR\",\"TWN\",\"THA\",\"VNM\",\"PSE\",\"YEM\"],\"marker\":{\"color\":\"#636efa\",\"size\":[42.129,74.795,62.01300000000001,56.751999999999995,72.028,81.495,62.879,68.58800000000001,69.45100000000001,57.04600000000001,79.696,82.0,71.263,66.66199999999999,77.045,76.904,71.028,73.044,65.033,59.908,61.34,74.193,63.61,70.303,71.626,78.77,70.815,73.053,76.99,68.564,73.017,72.37,60.308],\"sizemode\":\"area\",\"sizeref\":0.20650749999999998,\"symbol\":\"circle\"},\"mode\":\"markers\",\"name\":\"Asia\",\"showlegend\":true,\"type\":\"scattergeo\"},{\"geo\":\"geo\",\"hovertemplate\":\"<b>%{hovertext}</b><br><br>continent=Europe<br>year=2002<br>lifeExp=%{marker.size}<br>iso_alpha=%{location}<extra></extra>\",\"hovertext\":[\"Albania\",\"Austria\",\"Belgium\",\"Bosnia and Herzegovina\",\"Bulgaria\",\"Croatia\",\"Czech Republic\",\"Denmark\",\"Finland\",\"France\",\"Germany\",\"Greece\",\"Hungary\",\"Iceland\",\"Ireland\",\"Italy\",\"Montenegro\",\"Netherlands\",\"Norway\",\"Poland\",\"Portugal\",\"Romania\",\"Serbia\",\"Slovak Republic\",\"Slovenia\",\"Spain\",\"Sweden\",\"Switzerland\",\"Turkey\",\"United Kingdom\"],\"legendgroup\":\"Europe\",\"locations\":[\"ALB\",\"AUT\",\"BEL\",\"BIH\",\"BGR\",\"HRV\",\"CZE\",\"DNK\",\"FIN\",\"FRA\",\"DEU\",\"GRC\",\"HUN\",\"ISL\",\"IRL\",\"ITA\",\"MNE\",\"NLD\",\"NOR\",\"POL\",\"PRT\",\"ROU\",\"SRB\",\"SVK\",\"SVN\",\"ESP\",\"SWE\",\"CHE\",\"TUR\",\"GBR\"],\"marker\":{\"color\":\"#EF553B\",\"size\":[75.65100000000002,78.98,78.32,74.09,72.14,74.876,75.51,77.18,78.37,79.59,78.67,78.256,72.59,80.5,77.783,80.24,73.98100000000002,78.53,79.05,74.67,77.29,71.322,73.21300000000002,73.8,76.66,79.78,80.04,80.62,70.845,78.471],\"sizemode\":\"area\",\"sizeref\":0.20650749999999998,\"symbol\":\"circle\"},\"mode\":\"markers\",\"name\":\"Europe\",\"showlegend\":true,\"type\":\"scattergeo\"},{\"geo\":\"geo\",\"hovertemplate\":\"<b>%{hovertext}</b><br><br>continent=Africa<br>year=2002<br>lifeExp=%{marker.size}<br>iso_alpha=%{location}<extra></extra>\",\"hovertext\":[\"Algeria\",\"Angola\",\"Benin\",\"Botswana\",\"Burkina Faso\",\"Burundi\",\"Cameroon\",\"Central African Republic\",\"Chad\",\"Comoros\",\"Congo, Dem. Rep.\",\"Congo, Rep.\",\"Cote d'Ivoire\",\"Djibouti\",\"Egypt\",\"Equatorial Guinea\",\"Eritrea\",\"Ethiopia\",\"Gabon\",\"Gambia\",\"Ghana\",\"Guinea\",\"Guinea-Bissau\",\"Kenya\",\"Lesotho\",\"Liberia\",\"Libya\",\"Madagascar\",\"Malawi\",\"Mali\",\"Mauritania\",\"Mauritius\",\"Morocco\",\"Mozambique\",\"Namibia\",\"Niger\",\"Nigeria\",\"Reunion\",\"Rwanda\",\"Sao Tome and Principe\",\"Senegal\",\"Sierra Leone\",\"Somalia\",\"South Africa\",\"Sudan\",\"Swaziland\",\"Tanzania\",\"Togo\",\"Tunisia\",\"Uganda\",\"Zambia\",\"Zimbabwe\"],\"legendgroup\":\"Africa\",\"locations\":[\"DZA\",\"AGO\",\"BEN\",\"BWA\",\"BFA\",\"BDI\",\"CMR\",\"CAF\",\"TCD\",\"COM\",\"COD\",\"COG\",\"CIV\",\"DJI\",\"EGY\",\"GNQ\",\"ERI\",\"ETH\",\"GAB\",\"GMB\",\"GHA\",\"GIN\",\"GNB\",\"KEN\",\"LSO\",\"LBR\",\"LBY\",\"MDG\",\"MWI\",\"MLI\",\"MRT\",\"MUS\",\"MAR\",\"MOZ\",\"NAM\",\"NER\",\"NGA\",\"REU\",\"RWA\",\"STP\",\"SEN\",\"SLE\",\"SOM\",\"ZAF\",\"SDN\",\"SWZ\",\"TZA\",\"TGO\",\"TUN\",\"UGA\",\"ZMB\",\"ZWE\"],\"marker\":{\"color\":\"#00cc96\",\"size\":[70.994,41.003,54.40600000000001,46.63399999999999,50.65,47.36,49.856,43.308,50.525,62.974,44.966,52.97,46.832,53.37300000000001,69.806,49.348,55.24,50.725,56.761,58.041000000000004,58.453,53.676,45.504,50.992,44.593,43.753,72.737,57.286,45.00899999999999,51.81800000000001,62.247,71.954,69.615,44.026,51.479,54.496,46.608000000000004,75.744,43.413000000000004,64.337,61.6,41.012,45.93600000000001,53.365,56.369,43.869,49.651,57.56100000000001,73.042,47.813,39.19300000000001,39.989000000000004],\"sizemode\":\"area\",\"sizeref\":0.20650749999999998,\"symbol\":\"circle\"},\"mode\":\"markers\",\"name\":\"Africa\",\"showlegend\":true,\"type\":\"scattergeo\"},{\"geo\":\"geo\",\"hovertemplate\":\"<b>%{hovertext}</b><br><br>continent=Americas<br>year=2002<br>lifeExp=%{marker.size}<br>iso_alpha=%{location}<extra></extra>\",\"hovertext\":[\"Argentina\",\"Bolivia\",\"Brazil\",\"Canada\",\"Chile\",\"Colombia\",\"Costa Rica\",\"Cuba\",\"Dominican Republic\",\"Ecuador\",\"El Salvador\",\"Guatemala\",\"Haiti\",\"Honduras\",\"Jamaica\",\"Mexico\",\"Nicaragua\",\"Panama\",\"Paraguay\",\"Peru\",\"Puerto Rico\",\"Trinidad and Tobago\",\"United States\",\"Uruguay\",\"Venezuela\"],\"legendgroup\":\"Americas\",\"locations\":[\"ARG\",\"BOL\",\"BRA\",\"CAN\",\"CHL\",\"COL\",\"CRI\",\"CUB\",\"DOM\",\"ECU\",\"SLV\",\"GTM\",\"HTI\",\"HND\",\"JAM\",\"MEX\",\"NIC\",\"PAN\",\"PRY\",\"PER\",\"PRI\",\"TTO\",\"USA\",\"URY\",\"VEN\"],\"marker\":{\"color\":\"#ab63fa\",\"size\":[74.34,63.883,71.006,79.77,77.86,71.682,78.123,77.158,70.847,74.173,70.734,68.97800000000001,58.137,68.565,72.047,74.902,70.836,74.712,70.755,69.906,77.778,68.976,77.31,75.307,72.766],\"sizemode\":\"area\",\"sizeref\":0.20650749999999998,\"symbol\":\"circle\"},\"mode\":\"markers\",\"name\":\"Americas\",\"showlegend\":true,\"type\":\"scattergeo\"},{\"geo\":\"geo\",\"hovertemplate\":\"<b>%{hovertext}</b><br><br>continent=Oceania<br>year=2002<br>lifeExp=%{marker.size}<br>iso_alpha=%{location}<extra></extra>\",\"hovertext\":[\"Australia\",\"New Zealand\"],\"legendgroup\":\"Oceania\",\"locations\":[\"AUS\",\"NZL\"],\"marker\":{\"color\":\"#FFA15A\",\"size\":[80.37,79.11],\"sizemode\":\"area\",\"sizeref\":0.20650749999999998,\"symbol\":\"circle\"},\"mode\":\"markers\",\"name\":\"Oceania\",\"showlegend\":true,\"type\":\"scattergeo\"}],\"name\":\"2002\"},{\"data\":[{\"geo\":\"geo\",\"hovertemplate\":\"<b>%{hovertext}</b><br><br>continent=Asia<br>year=2007<br>lifeExp=%{marker.size}<br>iso_alpha=%{location}<extra></extra>\",\"hovertext\":[\"Afghanistan\",\"Bahrain\",\"Bangladesh\",\"Cambodia\",\"China\",\"Hong Kong, China\",\"India\",\"Indonesia\",\"Iran\",\"Iraq\",\"Israel\",\"Japan\",\"Jordan\",\"Korea, Dem. Rep.\",\"Korea, Rep.\",\"Kuwait\",\"Lebanon\",\"Malaysia\",\"Mongolia\",\"Myanmar\",\"Nepal\",\"Oman\",\"Pakistan\",\"Philippines\",\"Saudi Arabia\",\"Singapore\",\"Sri Lanka\",\"Syria\",\"Taiwan\",\"Thailand\",\"Vietnam\",\"West Bank and Gaza\",\"Yemen, Rep.\"],\"legendgroup\":\"Asia\",\"locations\":[\"AFG\",\"BHR\",\"BGD\",\"KHM\",\"CHN\",\"HKG\",\"IND\",\"IDN\",\"IRN\",\"IRQ\",\"ISR\",\"JPN\",\"JOR\",\"KOR\",\"KOR\",\"KWT\",\"LBN\",\"MYS\",\"MNG\",\"MMR\",\"NPL\",\"OMN\",\"PAK\",\"PHL\",\"SAU\",\"SGP\",\"LKA\",\"SYR\",\"TWN\",\"THA\",\"VNM\",\"PSE\",\"YEM\"],\"marker\":{\"color\":\"#636efa\",\"size\":[43.828,75.635,64.062,59.723,72.961,82.208,64.69800000000001,70.65,70.964,59.545,80.745,82.603,72.535,67.297,78.623,77.58800000000002,71.993,74.241,66.803,62.068999999999996,63.785,75.64,65.483,71.688,72.777,79.972,72.396,74.143,78.4,70.616,74.249,73.422,62.698],\"sizemode\":\"area\",\"sizeref\":0.20650749999999998,\"symbol\":\"circle\"},\"mode\":\"markers\",\"name\":\"Asia\",\"showlegend\":true,\"type\":\"scattergeo\"},{\"geo\":\"geo\",\"hovertemplate\":\"<b>%{hovertext}</b><br><br>continent=Europe<br>year=2007<br>lifeExp=%{marker.size}<br>iso_alpha=%{location}<extra></extra>\",\"hovertext\":[\"Albania\",\"Austria\",\"Belgium\",\"Bosnia and Herzegovina\",\"Bulgaria\",\"Croatia\",\"Czech Republic\",\"Denmark\",\"Finland\",\"France\",\"Germany\",\"Greece\",\"Hungary\",\"Iceland\",\"Ireland\",\"Italy\",\"Montenegro\",\"Netherlands\",\"Norway\",\"Poland\",\"Portugal\",\"Romania\",\"Serbia\",\"Slovak Republic\",\"Slovenia\",\"Spain\",\"Sweden\",\"Switzerland\",\"Turkey\",\"United Kingdom\"],\"legendgroup\":\"Europe\",\"locations\":[\"ALB\",\"AUT\",\"BEL\",\"BIH\",\"BGR\",\"HRV\",\"CZE\",\"DNK\",\"FIN\",\"FRA\",\"DEU\",\"GRC\",\"HUN\",\"ISL\",\"IRL\",\"ITA\",\"MNE\",\"NLD\",\"NOR\",\"POL\",\"PRT\",\"ROU\",\"SRB\",\"SVK\",\"SVN\",\"ESP\",\"SWE\",\"CHE\",\"TUR\",\"GBR\"],\"marker\":{\"color\":\"#EF553B\",\"size\":[76.423,79.829,79.441,74.852,73.005,75.748,76.486,78.332,79.313,80.657,79.406,79.483,73.33800000000002,81.757,78.885,80.546,74.543,79.762,80.196,75.563,78.098,72.476,74.002,74.663,77.926,80.941,80.884,81.70100000000002,71.777,79.425],\"sizemode\":\"area\",\"sizeref\":0.20650749999999998,\"symbol\":\"circle\"},\"mode\":\"markers\",\"name\":\"Europe\",\"showlegend\":true,\"type\":\"scattergeo\"},{\"geo\":\"geo\",\"hovertemplate\":\"<b>%{hovertext}</b><br><br>continent=Africa<br>year=2007<br>lifeExp=%{marker.size}<br>iso_alpha=%{location}<extra></extra>\",\"hovertext\":[\"Algeria\",\"Angola\",\"Benin\",\"Botswana\",\"Burkina Faso\",\"Burundi\",\"Cameroon\",\"Central African Republic\",\"Chad\",\"Comoros\",\"Congo, Dem. Rep.\",\"Congo, Rep.\",\"Cote d'Ivoire\",\"Djibouti\",\"Egypt\",\"Equatorial Guinea\",\"Eritrea\",\"Ethiopia\",\"Gabon\",\"Gambia\",\"Ghana\",\"Guinea\",\"Guinea-Bissau\",\"Kenya\",\"Lesotho\",\"Liberia\",\"Libya\",\"Madagascar\",\"Malawi\",\"Mali\",\"Mauritania\",\"Mauritius\",\"Morocco\",\"Mozambique\",\"Namibia\",\"Niger\",\"Nigeria\",\"Reunion\",\"Rwanda\",\"Sao Tome and Principe\",\"Senegal\",\"Sierra Leone\",\"Somalia\",\"South Africa\",\"Sudan\",\"Swaziland\",\"Tanzania\",\"Togo\",\"Tunisia\",\"Uganda\",\"Zambia\",\"Zimbabwe\"],\"legendgroup\":\"Africa\",\"locations\":[\"DZA\",\"AGO\",\"BEN\",\"BWA\",\"BFA\",\"BDI\",\"CMR\",\"CAF\",\"TCD\",\"COM\",\"COD\",\"COG\",\"CIV\",\"DJI\",\"EGY\",\"GNQ\",\"ERI\",\"ETH\",\"GAB\",\"GMB\",\"GHA\",\"GIN\",\"GNB\",\"KEN\",\"LSO\",\"LBR\",\"LBY\",\"MDG\",\"MWI\",\"MLI\",\"MRT\",\"MUS\",\"MAR\",\"MOZ\",\"NAM\",\"NER\",\"NGA\",\"REU\",\"RWA\",\"STP\",\"SEN\",\"SLE\",\"SOM\",\"ZAF\",\"SDN\",\"SWZ\",\"TZA\",\"TGO\",\"TUN\",\"UGA\",\"ZMB\",\"ZWE\"],\"marker\":{\"color\":\"#00cc96\",\"size\":[72.301,42.731,56.728,50.728,52.295,49.58,50.43,44.74100000000001,50.651,65.152,46.461999999999996,55.321999999999996,48.328,54.791000000000004,71.33800000000002,51.57899999999999,58.04,52.946999999999996,56.735,59.448,60.022,56.007,46.38800000000001,54.11,42.592,45.678000000000004,73.952,59.44300000000001,48.303000000000004,54.467,64.164,72.801,71.164,42.082,52.90600000000001,56.867,46.858999999999995,76.442,46.242,65.528,63.062,42.56800000000001,48.159,49.339,58.556000000000004,39.613,52.516999999999996,58.42,73.923,51.542,42.38399999999999,43.486999999999995],\"sizemode\":\"area\",\"sizeref\":0.20650749999999998,\"symbol\":\"circle\"},\"mode\":\"markers\",\"name\":\"Africa\",\"showlegend\":true,\"type\":\"scattergeo\"},{\"geo\":\"geo\",\"hovertemplate\":\"<b>%{hovertext}</b><br><br>continent=Americas<br>year=2007<br>lifeExp=%{marker.size}<br>iso_alpha=%{location}<extra></extra>\",\"hovertext\":[\"Argentina\",\"Bolivia\",\"Brazil\",\"Canada\",\"Chile\",\"Colombia\",\"Costa Rica\",\"Cuba\",\"Dominican Republic\",\"Ecuador\",\"El Salvador\",\"Guatemala\",\"Haiti\",\"Honduras\",\"Jamaica\",\"Mexico\",\"Nicaragua\",\"Panama\",\"Paraguay\",\"Peru\",\"Puerto Rico\",\"Trinidad and Tobago\",\"United States\",\"Uruguay\",\"Venezuela\"],\"legendgroup\":\"Americas\",\"locations\":[\"ARG\",\"BOL\",\"BRA\",\"CAN\",\"CHL\",\"COL\",\"CRI\",\"CUB\",\"DOM\",\"ECU\",\"SLV\",\"GTM\",\"HTI\",\"HND\",\"JAM\",\"MEX\",\"NIC\",\"PAN\",\"PRY\",\"PER\",\"PRI\",\"TTO\",\"USA\",\"URY\",\"VEN\"],\"marker\":{\"color\":\"#ab63fa\",\"size\":[75.32,65.554,72.39,80.653,78.553,72.889,78.782,78.273,72.235,74.994,71.878,70.259,60.916000000000004,70.19800000000001,72.567,76.195,72.899,75.53699999999998,71.752,71.421,78.74600000000002,69.819,78.242,76.384,73.747],\"sizemode\":\"area\",\"sizeref\":0.20650749999999998,\"symbol\":\"circle\"},\"mode\":\"markers\",\"name\":\"Americas\",\"showlegend\":true,\"type\":\"scattergeo\"},{\"geo\":\"geo\",\"hovertemplate\":\"<b>%{hovertext}</b><br><br>continent=Oceania<br>year=2007<br>lifeExp=%{marker.size}<br>iso_alpha=%{location}<extra></extra>\",\"hovertext\":[\"Australia\",\"New Zealand\"],\"legendgroup\":\"Oceania\",\"locations\":[\"AUS\",\"NZL\"],\"marker\":{\"color\":\"#FFA15A\",\"size\":[81.235,80.204],\"sizemode\":\"area\",\"sizeref\":0.20650749999999998,\"symbol\":\"circle\"},\"mode\":\"markers\",\"name\":\"Oceania\",\"showlegend\":true,\"type\":\"scattergeo\"}],\"name\":\"2007\"}]);\n",
              "                        }).then(function(){\n",
              "                            \n",
              "var gd = document.getElementById('40883623-f3d0-472b-a08e-7f568ecf2025');\n",
              "var x = new MutationObserver(function (mutations, observer) {{\n",
              "        var display = window.getComputedStyle(gd).display;\n",
              "        if (!display || display === 'none') {{\n",
              "            console.log([gd, 'removed!']);\n",
              "            Plotly.purge(gd);\n",
              "            observer.disconnect();\n",
              "        }}\n",
              "}});\n",
              "\n",
              "// Listen for the removal of the full notebook cells\n",
              "var notebookContainer = gd.closest('#notebook-container');\n",
              "if (notebookContainer) {{\n",
              "    x.observe(notebookContainer, {childList: true});\n",
              "}}\n",
              "\n",
              "// Listen for the clearing of the current output cell\n",
              "var outputEl = gd.closest('.output');\n",
              "if (outputEl) {{\n",
              "    x.observe(outputEl, {childList: true});\n",
              "}}\n",
              "\n",
              "                        })                };                            </script>        </div>\n",
              "</body>\n",
              "</html>"
            ]
          },
          "metadata": {},
          "output_type": "display_data"
        }
      ],
      "source": [
        "fig2 = px.scatter_geo(gapminder, locations=\"iso_alpha\", color=\"continent\",\n",
        "                     hover_name=\"country\", size=\"lifeExp\",\n",
        "                     animation_frame=\"year\",\n",
        "                     projection=\"natural earth\")\n",
        "fig2.show()"
      ]
    },
    {
      "attachments": {},
      "cell_type": "markdown",
      "metadata": {
        "id": "uKJC0rtJd_AQ"
      },
      "source": [
        "一人当たりのGDP"
      ]
    },
    {
      "cell_type": "code",
      "execution_count": null,
      "metadata": {
        "colab": {
          "base_uri": "https://localhost:8080/",
          "height": 542
        },
        "id": "PT1gt9g1di_B",
        "outputId": "6e84fe5d-808a-4ca8-ef1d-4870eef31519"
      },
      "outputs": [
        {
          "data": {
            "text/html": [
              "<html>\n",
              "<head><meta charset=\"utf-8\" /></head>\n",
              "<body>\n",
              "    <div>            <script src=\"https://cdnjs.cloudflare.com/ajax/libs/mathjax/2.7.5/MathJax.js?config=TeX-AMS-MML_SVG\"></script><script type=\"text/javascript\">if (window.MathJax) {MathJax.Hub.Config({SVG: {font: \"STIX-Web\"}});}</script>                <script type=\"text/javascript\">window.PlotlyConfig = {MathJaxConfig: 'local'};</script>\n",
              "        <script src=\"https://cdn.plot.ly/plotly-2.6.3.min.js\"></script>                <div id=\"1e45e1ba-ef18-4abe-aea4-d9f609d922c0\" class=\"plotly-graph-div\" style=\"height:525px; width:100%;\"></div>            <script type=\"text/javascript\">                                    window.PLOTLYENV=window.PLOTLYENV || {};                                    if (document.getElementById(\"1e45e1ba-ef18-4abe-aea4-d9f609d922c0\")) {                    Plotly.newPlot(                        \"1e45e1ba-ef18-4abe-aea4-d9f609d922c0\",                        [{\"geo\":\"geo\",\"hovertemplate\":\"<b>%{hovertext}</b><br><br>continent=Asia<br>year=1952<br>gdpPercap=%{marker.size}<br>iso_alpha=%{location}<extra></extra>\",\"hovertext\":[\"Afghanistan\",\"Bahrain\",\"Bangladesh\",\"Cambodia\",\"China\",\"Hong Kong, China\",\"India\",\"Indonesia\",\"Iran\",\"Iraq\",\"Israel\",\"Japan\",\"Jordan\",\"Korea, Dem. Rep.\",\"Korea, Rep.\",\"Kuwait\",\"Lebanon\",\"Malaysia\",\"Mongolia\",\"Myanmar\",\"Nepal\",\"Oman\",\"Pakistan\",\"Philippines\",\"Saudi Arabia\",\"Singapore\",\"Sri Lanka\",\"Syria\",\"Taiwan\",\"Thailand\",\"Vietnam\",\"West Bank and Gaza\",\"Yemen, Rep.\"],\"legendgroup\":\"Asia\",\"locations\":[\"AFG\",\"BHR\",\"BGD\",\"KHM\",\"CHN\",\"HKG\",\"IND\",\"IDN\",\"IRN\",\"IRQ\",\"ISR\",\"JPN\",\"JOR\",\"KOR\",\"KOR\",\"KWT\",\"LBN\",\"MYS\",\"MNG\",\"MMR\",\"NPL\",\"OMN\",\"PAK\",\"PHL\",\"SAU\",\"SGP\",\"LKA\",\"SYR\",\"TWN\",\"THA\",\"VNM\",\"PSE\",\"YEM\"],\"marker\":{\"color\":\"#636efa\",\"size\":[779.4453145,9867.084765000001,684.2441716,368.46928560000003,400.44861099999997,3054.421209,546.5657493,749.6816546,3035.326002,4129.766056,4086.522128,3216.956347,1546.907807,1088.277758,1030.592226,108382.3529,4834.804067,1831.132894,786.5668575,331.0,545.8657228999998,1828.230307,684.5971437999998,1272.880995,6459.5548229999995,2315.138227,1083.53203,1643.485354,1206.947913,757.7974177,605.0664917,1515.5923289999994,781.7175761],\"sizemode\":\"area\",\"sizeref\":283.80783225,\"symbol\":\"circle\"},\"mode\":\"markers\",\"name\":\"Asia\",\"showlegend\":true,\"type\":\"scattergeo\"},{\"geo\":\"geo\",\"hovertemplate\":\"<b>%{hovertext}</b><br><br>continent=Europe<br>year=1952<br>gdpPercap=%{marker.size}<br>iso_alpha=%{location}<extra></extra>\",\"hovertext\":[\"Albania\",\"Austria\",\"Belgium\",\"Bosnia and Herzegovina\",\"Bulgaria\",\"Croatia\",\"Czech Republic\",\"Denmark\",\"Finland\",\"France\",\"Germany\",\"Greece\",\"Hungary\",\"Iceland\",\"Ireland\",\"Italy\",\"Montenegro\",\"Netherlands\",\"Norway\",\"Poland\",\"Portugal\",\"Romania\",\"Serbia\",\"Slovak Republic\",\"Slovenia\",\"Spain\",\"Sweden\",\"Switzerland\",\"Turkey\",\"United Kingdom\"],\"legendgroup\":\"Europe\",\"locations\":[\"ALB\",\"AUT\",\"BEL\",\"BIH\",\"BGR\",\"HRV\",\"CZE\",\"DNK\",\"FIN\",\"FRA\",\"DEU\",\"GRC\",\"HUN\",\"ISL\",\"IRL\",\"ITA\",\"MNE\",\"NLD\",\"NOR\",\"POL\",\"PRT\",\"ROU\",\"SRB\",\"SVK\",\"SVN\",\"ESP\",\"SWE\",\"CHE\",\"TUR\",\"GBR\"],\"marker\":{\"color\":\"#EF553B\",\"size\":[1601.056136,6137.076492,8343.105126999999,973.5331947999999,2444.2866480000002,3119.23652,6876.14025,9692.385245,6424.519071,7029.809327,7144.114393000003,3530.690067,5263.6738159999995,7267.688428,5210.280328,4931.404154999998,2647.585601,8941.571858,10095.42172,4029.3296990000003,3068.319867,3144.613186,3581.4594479999996,5074.659104,4215.041741,3834.0347420000003,8527.844662000001,14734.23275,1969.1009800000002,9979.508487000001],\"sizemode\":\"area\",\"sizeref\":283.80783225,\"symbol\":\"circle\"},\"mode\":\"markers\",\"name\":\"Europe\",\"showlegend\":true,\"type\":\"scattergeo\"},{\"geo\":\"geo\",\"hovertemplate\":\"<b>%{hovertext}</b><br><br>continent=Africa<br>year=1952<br>gdpPercap=%{marker.size}<br>iso_alpha=%{location}<extra></extra>\",\"hovertext\":[\"Algeria\",\"Angola\",\"Benin\",\"Botswana\",\"Burkina Faso\",\"Burundi\",\"Cameroon\",\"Central African Republic\",\"Chad\",\"Comoros\",\"Congo, Dem. Rep.\",\"Congo, Rep.\",\"Cote d'Ivoire\",\"Djibouti\",\"Egypt\",\"Equatorial Guinea\",\"Eritrea\",\"Ethiopia\",\"Gabon\",\"Gambia\",\"Ghana\",\"Guinea\",\"Guinea-Bissau\",\"Kenya\",\"Lesotho\",\"Liberia\",\"Libya\",\"Madagascar\",\"Malawi\",\"Mali\",\"Mauritania\",\"Mauritius\",\"Morocco\",\"Mozambique\",\"Namibia\",\"Niger\",\"Nigeria\",\"Reunion\",\"Rwanda\",\"Sao Tome and Principe\",\"Senegal\",\"Sierra Leone\",\"Somalia\",\"South Africa\",\"Sudan\",\"Swaziland\",\"Tanzania\",\"Togo\",\"Tunisia\",\"Uganda\",\"Zambia\",\"Zimbabwe\"],\"legendgroup\":\"Africa\",\"locations\":[\"DZA\",\"AGO\",\"BEN\",\"BWA\",\"BFA\",\"BDI\",\"CMR\",\"CAF\",\"TCD\",\"COM\",\"COD\",\"COG\",\"CIV\",\"DJI\",\"EGY\",\"GNQ\",\"ERI\",\"ETH\",\"GAB\",\"GMB\",\"GHA\",\"GIN\",\"GNB\",\"KEN\",\"LSO\",\"LBR\",\"LBY\",\"MDG\",\"MWI\",\"MLI\",\"MRT\",\"MUS\",\"MAR\",\"MOZ\",\"NAM\",\"NER\",\"NGA\",\"REU\",\"RWA\",\"STP\",\"SEN\",\"SLE\",\"SOM\",\"ZAF\",\"SDN\",\"SWZ\",\"TZA\",\"TGO\",\"TUN\",\"UGA\",\"ZMB\",\"ZWE\"],\"marker\":{\"color\":\"#00cc96\",\"size\":[2449.008185,3520.610273,1062.7522,851.2411407,543.2552413,339.29645869999996,1172.667655,1071.310713,1178.665927,1102.990936,780.5423257,2125.621418,1388.594732,2669.529475,1418.822445,375.6431231,328.9405571000001,362.1462796,4293.476475,485.2306591,911.2989371,510.19649230000016,299.850319,853.5409189999997,298.8462121,575.5729961000002,2387.54806,1443.011715,369.1650802,452.3369807,743.1159097,1967.955707,1688.20357,468.5260381,2423.780443,761.879376,1077.281856,2718.885295,493.32387520000003,879.5835855,1450.356983,879.7877358,1135.749842,4725.295531000002,1615.991129,1148.376626,716.6500721,859.8086567,1468.475631,734.753484,1147.388831,406.8841148],\"sizemode\":\"area\",\"sizeref\":283.80783225,\"symbol\":\"circle\"},\"mode\":\"markers\",\"name\":\"Africa\",\"showlegend\":true,\"type\":\"scattergeo\"},{\"geo\":\"geo\",\"hovertemplate\":\"<b>%{hovertext}</b><br><br>continent=Americas<br>year=1952<br>gdpPercap=%{marker.size}<br>iso_alpha=%{location}<extra></extra>\",\"hovertext\":[\"Argentina\",\"Bolivia\",\"Brazil\",\"Canada\",\"Chile\",\"Colombia\",\"Costa Rica\",\"Cuba\",\"Dominican Republic\",\"Ecuador\",\"El Salvador\",\"Guatemala\",\"Haiti\",\"Honduras\",\"Jamaica\",\"Mexico\",\"Nicaragua\",\"Panama\",\"Paraguay\",\"Peru\",\"Puerto Rico\",\"Trinidad and Tobago\",\"United States\",\"Uruguay\",\"Venezuela\"],\"legendgroup\":\"Americas\",\"locations\":[\"ARG\",\"BOL\",\"BRA\",\"CAN\",\"CHL\",\"COL\",\"CRI\",\"CUB\",\"DOM\",\"ECU\",\"SLV\",\"GTM\",\"HTI\",\"HND\",\"JAM\",\"MEX\",\"NIC\",\"PAN\",\"PRY\",\"PER\",\"PRI\",\"TTO\",\"USA\",\"URY\",\"VEN\"],\"marker\":{\"color\":\"#ab63fa\",\"size\":[5911.315053,2677.3263469999997,2108.944355,11367.16112,3939.9787890000002,2144.115096,2627.0094710000008,5586.53878,1397.7171369999999,3522.110717,3048.3029,2428.2377690000008,1840.366939,2194.926204,2898.5308809999997,3478.125529,3112.363948,2480.380334,1952.3087010000002,3758.523437,3081.959785,3023.271928,13990.482080000002,5716.766744,7689.799761],\"sizemode\":\"area\",\"sizeref\":283.80783225,\"symbol\":\"circle\"},\"mode\":\"markers\",\"name\":\"Americas\",\"showlegend\":true,\"type\":\"scattergeo\"},{\"geo\":\"geo\",\"hovertemplate\":\"<b>%{hovertext}</b><br><br>continent=Oceania<br>year=1952<br>gdpPercap=%{marker.size}<br>iso_alpha=%{location}<extra></extra>\",\"hovertext\":[\"Australia\",\"New Zealand\"],\"legendgroup\":\"Oceania\",\"locations\":[\"AUS\",\"NZL\"],\"marker\":{\"color\":\"#FFA15A\",\"size\":[10039.595640000001,10556.575659999999],\"sizemode\":\"area\",\"sizeref\":283.80783225,\"symbol\":\"circle\"},\"mode\":\"markers\",\"name\":\"Oceania\",\"showlegend\":true,\"type\":\"scattergeo\"}],                        {\"template\":{\"data\":{\"bar\":[{\"error_x\":{\"color\":\"#2a3f5f\"},\"error_y\":{\"color\":\"#2a3f5f\"},\"marker\":{\"line\":{\"color\":\"#E5ECF6\",\"width\":0.5},\"pattern\":{\"fillmode\":\"overlay\",\"size\":10,\"solidity\":0.2}},\"type\":\"bar\"}],\"barpolar\":[{\"marker\":{\"line\":{\"color\":\"#E5ECF6\",\"width\":0.5},\"pattern\":{\"fillmode\":\"overlay\",\"size\":10,\"solidity\":0.2}},\"type\":\"barpolar\"}],\"carpet\":[{\"aaxis\":{\"endlinecolor\":\"#2a3f5f\",\"gridcolor\":\"white\",\"linecolor\":\"white\",\"minorgridcolor\":\"white\",\"startlinecolor\":\"#2a3f5f\"},\"baxis\":{\"endlinecolor\":\"#2a3f5f\",\"gridcolor\":\"white\",\"linecolor\":\"white\",\"minorgridcolor\":\"white\",\"startlinecolor\":\"#2a3f5f\"},\"type\":\"carpet\"}],\"choropleth\":[{\"colorbar\":{\"outlinewidth\":0,\"ticks\":\"\"},\"type\":\"choropleth\"}],\"contour\":[{\"colorbar\":{\"outlinewidth\":0,\"ticks\":\"\"},\"colorscale\":[[0.0,\"#0d0887\"],[0.1111111111111111,\"#46039f\"],[0.2222222222222222,\"#7201a8\"],[0.3333333333333333,\"#9c179e\"],[0.4444444444444444,\"#bd3786\"],[0.5555555555555556,\"#d8576b\"],[0.6666666666666666,\"#ed7953\"],[0.7777777777777778,\"#fb9f3a\"],[0.8888888888888888,\"#fdca26\"],[1.0,\"#f0f921\"]],\"type\":\"contour\"}],\"contourcarpet\":[{\"colorbar\":{\"outlinewidth\":0,\"ticks\":\"\"},\"type\":\"contourcarpet\"}],\"heatmap\":[{\"colorbar\":{\"outlinewidth\":0,\"ticks\":\"\"},\"colorscale\":[[0.0,\"#0d0887\"],[0.1111111111111111,\"#46039f\"],[0.2222222222222222,\"#7201a8\"],[0.3333333333333333,\"#9c179e\"],[0.4444444444444444,\"#bd3786\"],[0.5555555555555556,\"#d8576b\"],[0.6666666666666666,\"#ed7953\"],[0.7777777777777778,\"#fb9f3a\"],[0.8888888888888888,\"#fdca26\"],[1.0,\"#f0f921\"]],\"type\":\"heatmap\"}],\"heatmapgl\":[{\"colorbar\":{\"outlinewidth\":0,\"ticks\":\"\"},\"colorscale\":[[0.0,\"#0d0887\"],[0.1111111111111111,\"#46039f\"],[0.2222222222222222,\"#7201a8\"],[0.3333333333333333,\"#9c179e\"],[0.4444444444444444,\"#bd3786\"],[0.5555555555555556,\"#d8576b\"],[0.6666666666666666,\"#ed7953\"],[0.7777777777777778,\"#fb9f3a\"],[0.8888888888888888,\"#fdca26\"],[1.0,\"#f0f921\"]],\"type\":\"heatmapgl\"}],\"histogram\":[{\"marker\":{\"pattern\":{\"fillmode\":\"overlay\",\"size\":10,\"solidity\":0.2}},\"type\":\"histogram\"}],\"histogram2d\":[{\"colorbar\":{\"outlinewidth\":0,\"ticks\":\"\"},\"colorscale\":[[0.0,\"#0d0887\"],[0.1111111111111111,\"#46039f\"],[0.2222222222222222,\"#7201a8\"],[0.3333333333333333,\"#9c179e\"],[0.4444444444444444,\"#bd3786\"],[0.5555555555555556,\"#d8576b\"],[0.6666666666666666,\"#ed7953\"],[0.7777777777777778,\"#fb9f3a\"],[0.8888888888888888,\"#fdca26\"],[1.0,\"#f0f921\"]],\"type\":\"histogram2d\"}],\"histogram2dcontour\":[{\"colorbar\":{\"outlinewidth\":0,\"ticks\":\"\"},\"colorscale\":[[0.0,\"#0d0887\"],[0.1111111111111111,\"#46039f\"],[0.2222222222222222,\"#7201a8\"],[0.3333333333333333,\"#9c179e\"],[0.4444444444444444,\"#bd3786\"],[0.5555555555555556,\"#d8576b\"],[0.6666666666666666,\"#ed7953\"],[0.7777777777777778,\"#fb9f3a\"],[0.8888888888888888,\"#fdca26\"],[1.0,\"#f0f921\"]],\"type\":\"histogram2dcontour\"}],\"mesh3d\":[{\"colorbar\":{\"outlinewidth\":0,\"ticks\":\"\"},\"type\":\"mesh3d\"}],\"parcoords\":[{\"line\":{\"colorbar\":{\"outlinewidth\":0,\"ticks\":\"\"}},\"type\":\"parcoords\"}],\"pie\":[{\"automargin\":true,\"type\":\"pie\"}],\"scatter\":[{\"marker\":{\"colorbar\":{\"outlinewidth\":0,\"ticks\":\"\"}},\"type\":\"scatter\"}],\"scatter3d\":[{\"line\":{\"colorbar\":{\"outlinewidth\":0,\"ticks\":\"\"}},\"marker\":{\"colorbar\":{\"outlinewidth\":0,\"ticks\":\"\"}},\"type\":\"scatter3d\"}],\"scattercarpet\":[{\"marker\":{\"colorbar\":{\"outlinewidth\":0,\"ticks\":\"\"}},\"type\":\"scattercarpet\"}],\"scattergeo\":[{\"marker\":{\"colorbar\":{\"outlinewidth\":0,\"ticks\":\"\"}},\"type\":\"scattergeo\"}],\"scattergl\":[{\"marker\":{\"colorbar\":{\"outlinewidth\":0,\"ticks\":\"\"}},\"type\":\"scattergl\"}],\"scattermapbox\":[{\"marker\":{\"colorbar\":{\"outlinewidth\":0,\"ticks\":\"\"}},\"type\":\"scattermapbox\"}],\"scatterpolar\":[{\"marker\":{\"colorbar\":{\"outlinewidth\":0,\"ticks\":\"\"}},\"type\":\"scatterpolar\"}],\"scatterpolargl\":[{\"marker\":{\"colorbar\":{\"outlinewidth\":0,\"ticks\":\"\"}},\"type\":\"scatterpolargl\"}],\"scatterternary\":[{\"marker\":{\"colorbar\":{\"outlinewidth\":0,\"ticks\":\"\"}},\"type\":\"scatterternary\"}],\"surface\":[{\"colorbar\":{\"outlinewidth\":0,\"ticks\":\"\"},\"colorscale\":[[0.0,\"#0d0887\"],[0.1111111111111111,\"#46039f\"],[0.2222222222222222,\"#7201a8\"],[0.3333333333333333,\"#9c179e\"],[0.4444444444444444,\"#bd3786\"],[0.5555555555555556,\"#d8576b\"],[0.6666666666666666,\"#ed7953\"],[0.7777777777777778,\"#fb9f3a\"],[0.8888888888888888,\"#fdca26\"],[1.0,\"#f0f921\"]],\"type\":\"surface\"}],\"table\":[{\"cells\":{\"fill\":{\"color\":\"#EBF0F8\"},\"line\":{\"color\":\"white\"}},\"header\":{\"fill\":{\"color\":\"#C8D4E3\"},\"line\":{\"color\":\"white\"}},\"type\":\"table\"}]},\"layout\":{\"annotationdefaults\":{\"arrowcolor\":\"#2a3f5f\",\"arrowhead\":0,\"arrowwidth\":1},\"autotypenumbers\":\"strict\",\"coloraxis\":{\"colorbar\":{\"outlinewidth\":0,\"ticks\":\"\"}},\"colorscale\":{\"diverging\":[[0,\"#8e0152\"],[0.1,\"#c51b7d\"],[0.2,\"#de77ae\"],[0.3,\"#f1b6da\"],[0.4,\"#fde0ef\"],[0.5,\"#f7f7f7\"],[0.6,\"#e6f5d0\"],[0.7,\"#b8e186\"],[0.8,\"#7fbc41\"],[0.9,\"#4d9221\"],[1,\"#276419\"]],\"sequential\":[[0.0,\"#0d0887\"],[0.1111111111111111,\"#46039f\"],[0.2222222222222222,\"#7201a8\"],[0.3333333333333333,\"#9c179e\"],[0.4444444444444444,\"#bd3786\"],[0.5555555555555556,\"#d8576b\"],[0.6666666666666666,\"#ed7953\"],[0.7777777777777778,\"#fb9f3a\"],[0.8888888888888888,\"#fdca26\"],[1.0,\"#f0f921\"]],\"sequentialminus\":[[0.0,\"#0d0887\"],[0.1111111111111111,\"#46039f\"],[0.2222222222222222,\"#7201a8\"],[0.3333333333333333,\"#9c179e\"],[0.4444444444444444,\"#bd3786\"],[0.5555555555555556,\"#d8576b\"],[0.6666666666666666,\"#ed7953\"],[0.7777777777777778,\"#fb9f3a\"],[0.8888888888888888,\"#fdca26\"],[1.0,\"#f0f921\"]]},\"colorway\":[\"#636efa\",\"#EF553B\",\"#00cc96\",\"#ab63fa\",\"#FFA15A\",\"#19d3f3\",\"#FF6692\",\"#B6E880\",\"#FF97FF\",\"#FECB52\"],\"font\":{\"color\":\"#2a3f5f\"},\"geo\":{\"bgcolor\":\"white\",\"lakecolor\":\"white\",\"landcolor\":\"#E5ECF6\",\"showlakes\":true,\"showland\":true,\"subunitcolor\":\"white\"},\"hoverlabel\":{\"align\":\"left\"},\"hovermode\":\"closest\",\"mapbox\":{\"style\":\"light\"},\"paper_bgcolor\":\"white\",\"plot_bgcolor\":\"#E5ECF6\",\"polar\":{\"angularaxis\":{\"gridcolor\":\"white\",\"linecolor\":\"white\",\"ticks\":\"\"},\"bgcolor\":\"#E5ECF6\",\"radialaxis\":{\"gridcolor\":\"white\",\"linecolor\":\"white\",\"ticks\":\"\"}},\"scene\":{\"xaxis\":{\"backgroundcolor\":\"#E5ECF6\",\"gridcolor\":\"white\",\"gridwidth\":2,\"linecolor\":\"white\",\"showbackground\":true,\"ticks\":\"\",\"zerolinecolor\":\"white\"},\"yaxis\":{\"backgroundcolor\":\"#E5ECF6\",\"gridcolor\":\"white\",\"gridwidth\":2,\"linecolor\":\"white\",\"showbackground\":true,\"ticks\":\"\",\"zerolinecolor\":\"white\"},\"zaxis\":{\"backgroundcolor\":\"#E5ECF6\",\"gridcolor\":\"white\",\"gridwidth\":2,\"linecolor\":\"white\",\"showbackground\":true,\"ticks\":\"\",\"zerolinecolor\":\"white\"}},\"shapedefaults\":{\"line\":{\"color\":\"#2a3f5f\"}},\"ternary\":{\"aaxis\":{\"gridcolor\":\"white\",\"linecolor\":\"white\",\"ticks\":\"\"},\"baxis\":{\"gridcolor\":\"white\",\"linecolor\":\"white\",\"ticks\":\"\"},\"bgcolor\":\"#E5ECF6\",\"caxis\":{\"gridcolor\":\"white\",\"linecolor\":\"white\",\"ticks\":\"\"}},\"title\":{\"x\":0.05},\"xaxis\":{\"automargin\":true,\"gridcolor\":\"white\",\"linecolor\":\"white\",\"ticks\":\"\",\"title\":{\"standoff\":15},\"zerolinecolor\":\"white\",\"zerolinewidth\":2},\"yaxis\":{\"automargin\":true,\"gridcolor\":\"white\",\"linecolor\":\"white\",\"ticks\":\"\",\"title\":{\"standoff\":15},\"zerolinecolor\":\"white\",\"zerolinewidth\":2}}},\"geo\":{\"domain\":{\"x\":[0.0,1.0],\"y\":[0.0,1.0]},\"projection\":{\"type\":\"natural earth\"},\"center\":{}},\"legend\":{\"title\":{\"text\":\"continent\"},\"tracegroupgap\":0,\"itemsizing\":\"constant\"},\"margin\":{\"t\":60},\"updatemenus\":[{\"buttons\":[{\"args\":[null,{\"frame\":{\"duration\":500,\"redraw\":true},\"mode\":\"immediate\",\"fromcurrent\":true,\"transition\":{\"duration\":500,\"easing\":\"linear\"}}],\"label\":\"&#9654;\",\"method\":\"animate\"},{\"args\":[[null],{\"frame\":{\"duration\":0,\"redraw\":true},\"mode\":\"immediate\",\"fromcurrent\":true,\"transition\":{\"duration\":0,\"easing\":\"linear\"}}],\"label\":\"&#9724;\",\"method\":\"animate\"}],\"direction\":\"left\",\"pad\":{\"r\":10,\"t\":70},\"showactive\":false,\"type\":\"buttons\",\"x\":0.1,\"xanchor\":\"right\",\"y\":0,\"yanchor\":\"top\"}],\"sliders\":[{\"active\":0,\"currentvalue\":{\"prefix\":\"year=\"},\"len\":0.9,\"pad\":{\"b\":10,\"t\":60},\"steps\":[{\"args\":[[\"1952\"],{\"frame\":{\"duration\":0,\"redraw\":true},\"mode\":\"immediate\",\"fromcurrent\":true,\"transition\":{\"duration\":0,\"easing\":\"linear\"}}],\"label\":\"1952\",\"method\":\"animate\"},{\"args\":[[\"1957\"],{\"frame\":{\"duration\":0,\"redraw\":true},\"mode\":\"immediate\",\"fromcurrent\":true,\"transition\":{\"duration\":0,\"easing\":\"linear\"}}],\"label\":\"1957\",\"method\":\"animate\"},{\"args\":[[\"1962\"],{\"frame\":{\"duration\":0,\"redraw\":true},\"mode\":\"immediate\",\"fromcurrent\":true,\"transition\":{\"duration\":0,\"easing\":\"linear\"}}],\"label\":\"1962\",\"method\":\"animate\"},{\"args\":[[\"1967\"],{\"frame\":{\"duration\":0,\"redraw\":true},\"mode\":\"immediate\",\"fromcurrent\":true,\"transition\":{\"duration\":0,\"easing\":\"linear\"}}],\"label\":\"1967\",\"method\":\"animate\"},{\"args\":[[\"1972\"],{\"frame\":{\"duration\":0,\"redraw\":true},\"mode\":\"immediate\",\"fromcurrent\":true,\"transition\":{\"duration\":0,\"easing\":\"linear\"}}],\"label\":\"1972\",\"method\":\"animate\"},{\"args\":[[\"1977\"],{\"frame\":{\"duration\":0,\"redraw\":true},\"mode\":\"immediate\",\"fromcurrent\":true,\"transition\":{\"duration\":0,\"easing\":\"linear\"}}],\"label\":\"1977\",\"method\":\"animate\"},{\"args\":[[\"1982\"],{\"frame\":{\"duration\":0,\"redraw\":true},\"mode\":\"immediate\",\"fromcurrent\":true,\"transition\":{\"duration\":0,\"easing\":\"linear\"}}],\"label\":\"1982\",\"method\":\"animate\"},{\"args\":[[\"1987\"],{\"frame\":{\"duration\":0,\"redraw\":true},\"mode\":\"immediate\",\"fromcurrent\":true,\"transition\":{\"duration\":0,\"easing\":\"linear\"}}],\"label\":\"1987\",\"method\":\"animate\"},{\"args\":[[\"1992\"],{\"frame\":{\"duration\":0,\"redraw\":true},\"mode\":\"immediate\",\"fromcurrent\":true,\"transition\":{\"duration\":0,\"easing\":\"linear\"}}],\"label\":\"1992\",\"method\":\"animate\"},{\"args\":[[\"1997\"],{\"frame\":{\"duration\":0,\"redraw\":true},\"mode\":\"immediate\",\"fromcurrent\":true,\"transition\":{\"duration\":0,\"easing\":\"linear\"}}],\"label\":\"1997\",\"method\":\"animate\"},{\"args\":[[\"2002\"],{\"frame\":{\"duration\":0,\"redraw\":true},\"mode\":\"immediate\",\"fromcurrent\":true,\"transition\":{\"duration\":0,\"easing\":\"linear\"}}],\"label\":\"2002\",\"method\":\"animate\"},{\"args\":[[\"2007\"],{\"frame\":{\"duration\":0,\"redraw\":true},\"mode\":\"immediate\",\"fromcurrent\":true,\"transition\":{\"duration\":0,\"easing\":\"linear\"}}],\"label\":\"2007\",\"method\":\"animate\"}],\"x\":0.1,\"xanchor\":\"left\",\"y\":0,\"yanchor\":\"top\"}]},                        {\"responsive\": true}                    ).then(function(){\n",
              "                            Plotly.addFrames('1e45e1ba-ef18-4abe-aea4-d9f609d922c0', [{\"data\":[{\"geo\":\"geo\",\"hovertemplate\":\"<b>%{hovertext}</b><br><br>continent=Asia<br>year=1952<br>gdpPercap=%{marker.size}<br>iso_alpha=%{location}<extra></extra>\",\"hovertext\":[\"Afghanistan\",\"Bahrain\",\"Bangladesh\",\"Cambodia\",\"China\",\"Hong Kong, China\",\"India\",\"Indonesia\",\"Iran\",\"Iraq\",\"Israel\",\"Japan\",\"Jordan\",\"Korea, Dem. Rep.\",\"Korea, Rep.\",\"Kuwait\",\"Lebanon\",\"Malaysia\",\"Mongolia\",\"Myanmar\",\"Nepal\",\"Oman\",\"Pakistan\",\"Philippines\",\"Saudi Arabia\",\"Singapore\",\"Sri Lanka\",\"Syria\",\"Taiwan\",\"Thailand\",\"Vietnam\",\"West Bank and Gaza\",\"Yemen, Rep.\"],\"legendgroup\":\"Asia\",\"locations\":[\"AFG\",\"BHR\",\"BGD\",\"KHM\",\"CHN\",\"HKG\",\"IND\",\"IDN\",\"IRN\",\"IRQ\",\"ISR\",\"JPN\",\"JOR\",\"KOR\",\"KOR\",\"KWT\",\"LBN\",\"MYS\",\"MNG\",\"MMR\",\"NPL\",\"OMN\",\"PAK\",\"PHL\",\"SAU\",\"SGP\",\"LKA\",\"SYR\",\"TWN\",\"THA\",\"VNM\",\"PSE\",\"YEM\"],\"marker\":{\"color\":\"#636efa\",\"size\":[779.4453145,9867.084765000001,684.2441716,368.46928560000003,400.44861099999997,3054.421209,546.5657493,749.6816546,3035.326002,4129.766056,4086.522128,3216.956347,1546.907807,1088.277758,1030.592226,108382.3529,4834.804067,1831.132894,786.5668575,331.0,545.8657228999998,1828.230307,684.5971437999998,1272.880995,6459.5548229999995,2315.138227,1083.53203,1643.485354,1206.947913,757.7974177,605.0664917,1515.5923289999994,781.7175761],\"sizemode\":\"area\",\"sizeref\":283.80783225,\"symbol\":\"circle\"},\"mode\":\"markers\",\"name\":\"Asia\",\"showlegend\":true,\"type\":\"scattergeo\"},{\"geo\":\"geo\",\"hovertemplate\":\"<b>%{hovertext}</b><br><br>continent=Europe<br>year=1952<br>gdpPercap=%{marker.size}<br>iso_alpha=%{location}<extra></extra>\",\"hovertext\":[\"Albania\",\"Austria\",\"Belgium\",\"Bosnia and Herzegovina\",\"Bulgaria\",\"Croatia\",\"Czech Republic\",\"Denmark\",\"Finland\",\"France\",\"Germany\",\"Greece\",\"Hungary\",\"Iceland\",\"Ireland\",\"Italy\",\"Montenegro\",\"Netherlands\",\"Norway\",\"Poland\",\"Portugal\",\"Romania\",\"Serbia\",\"Slovak Republic\",\"Slovenia\",\"Spain\",\"Sweden\",\"Switzerland\",\"Turkey\",\"United Kingdom\"],\"legendgroup\":\"Europe\",\"locations\":[\"ALB\",\"AUT\",\"BEL\",\"BIH\",\"BGR\",\"HRV\",\"CZE\",\"DNK\",\"FIN\",\"FRA\",\"DEU\",\"GRC\",\"HUN\",\"ISL\",\"IRL\",\"ITA\",\"MNE\",\"NLD\",\"NOR\",\"POL\",\"PRT\",\"ROU\",\"SRB\",\"SVK\",\"SVN\",\"ESP\",\"SWE\",\"CHE\",\"TUR\",\"GBR\"],\"marker\":{\"color\":\"#EF553B\",\"size\":[1601.056136,6137.076492,8343.105126999999,973.5331947999999,2444.2866480000002,3119.23652,6876.14025,9692.385245,6424.519071,7029.809327,7144.114393000003,3530.690067,5263.6738159999995,7267.688428,5210.280328,4931.404154999998,2647.585601,8941.571858,10095.42172,4029.3296990000003,3068.319867,3144.613186,3581.4594479999996,5074.659104,4215.041741,3834.0347420000003,8527.844662000001,14734.23275,1969.1009800000002,9979.508487000001],\"sizemode\":\"area\",\"sizeref\":283.80783225,\"symbol\":\"circle\"},\"mode\":\"markers\",\"name\":\"Europe\",\"showlegend\":true,\"type\":\"scattergeo\"},{\"geo\":\"geo\",\"hovertemplate\":\"<b>%{hovertext}</b><br><br>continent=Africa<br>year=1952<br>gdpPercap=%{marker.size}<br>iso_alpha=%{location}<extra></extra>\",\"hovertext\":[\"Algeria\",\"Angola\",\"Benin\",\"Botswana\",\"Burkina Faso\",\"Burundi\",\"Cameroon\",\"Central African Republic\",\"Chad\",\"Comoros\",\"Congo, Dem. Rep.\",\"Congo, Rep.\",\"Cote d'Ivoire\",\"Djibouti\",\"Egypt\",\"Equatorial Guinea\",\"Eritrea\",\"Ethiopia\",\"Gabon\",\"Gambia\",\"Ghana\",\"Guinea\",\"Guinea-Bissau\",\"Kenya\",\"Lesotho\",\"Liberia\",\"Libya\",\"Madagascar\",\"Malawi\",\"Mali\",\"Mauritania\",\"Mauritius\",\"Morocco\",\"Mozambique\",\"Namibia\",\"Niger\",\"Nigeria\",\"Reunion\",\"Rwanda\",\"Sao Tome and Principe\",\"Senegal\",\"Sierra Leone\",\"Somalia\",\"South Africa\",\"Sudan\",\"Swaziland\",\"Tanzania\",\"Togo\",\"Tunisia\",\"Uganda\",\"Zambia\",\"Zimbabwe\"],\"legendgroup\":\"Africa\",\"locations\":[\"DZA\",\"AGO\",\"BEN\",\"BWA\",\"BFA\",\"BDI\",\"CMR\",\"CAF\",\"TCD\",\"COM\",\"COD\",\"COG\",\"CIV\",\"DJI\",\"EGY\",\"GNQ\",\"ERI\",\"ETH\",\"GAB\",\"GMB\",\"GHA\",\"GIN\",\"GNB\",\"KEN\",\"LSO\",\"LBR\",\"LBY\",\"MDG\",\"MWI\",\"MLI\",\"MRT\",\"MUS\",\"MAR\",\"MOZ\",\"NAM\",\"NER\",\"NGA\",\"REU\",\"RWA\",\"STP\",\"SEN\",\"SLE\",\"SOM\",\"ZAF\",\"SDN\",\"SWZ\",\"TZA\",\"TGO\",\"TUN\",\"UGA\",\"ZMB\",\"ZWE\"],\"marker\":{\"color\":\"#00cc96\",\"size\":[2449.008185,3520.610273,1062.7522,851.2411407,543.2552413,339.29645869999996,1172.667655,1071.310713,1178.665927,1102.990936,780.5423257,2125.621418,1388.594732,2669.529475,1418.822445,375.6431231,328.9405571000001,362.1462796,4293.476475,485.2306591,911.2989371,510.19649230000016,299.850319,853.5409189999997,298.8462121,575.5729961000002,2387.54806,1443.011715,369.1650802,452.3369807,743.1159097,1967.955707,1688.20357,468.5260381,2423.780443,761.879376,1077.281856,2718.885295,493.32387520000003,879.5835855,1450.356983,879.7877358,1135.749842,4725.295531000002,1615.991129,1148.376626,716.6500721,859.8086567,1468.475631,734.753484,1147.388831,406.8841148],\"sizemode\":\"area\",\"sizeref\":283.80783225,\"symbol\":\"circle\"},\"mode\":\"markers\",\"name\":\"Africa\",\"showlegend\":true,\"type\":\"scattergeo\"},{\"geo\":\"geo\",\"hovertemplate\":\"<b>%{hovertext}</b><br><br>continent=Americas<br>year=1952<br>gdpPercap=%{marker.size}<br>iso_alpha=%{location}<extra></extra>\",\"hovertext\":[\"Argentina\",\"Bolivia\",\"Brazil\",\"Canada\",\"Chile\",\"Colombia\",\"Costa Rica\",\"Cuba\",\"Dominican Republic\",\"Ecuador\",\"El Salvador\",\"Guatemala\",\"Haiti\",\"Honduras\",\"Jamaica\",\"Mexico\",\"Nicaragua\",\"Panama\",\"Paraguay\",\"Peru\",\"Puerto Rico\",\"Trinidad and Tobago\",\"United States\",\"Uruguay\",\"Venezuela\"],\"legendgroup\":\"Americas\",\"locations\":[\"ARG\",\"BOL\",\"BRA\",\"CAN\",\"CHL\",\"COL\",\"CRI\",\"CUB\",\"DOM\",\"ECU\",\"SLV\",\"GTM\",\"HTI\",\"HND\",\"JAM\",\"MEX\",\"NIC\",\"PAN\",\"PRY\",\"PER\",\"PRI\",\"TTO\",\"USA\",\"URY\",\"VEN\"],\"marker\":{\"color\":\"#ab63fa\",\"size\":[5911.315053,2677.3263469999997,2108.944355,11367.16112,3939.9787890000002,2144.115096,2627.0094710000008,5586.53878,1397.7171369999999,3522.110717,3048.3029,2428.2377690000008,1840.366939,2194.926204,2898.5308809999997,3478.125529,3112.363948,2480.380334,1952.3087010000002,3758.523437,3081.959785,3023.271928,13990.482080000002,5716.766744,7689.799761],\"sizemode\":\"area\",\"sizeref\":283.80783225,\"symbol\":\"circle\"},\"mode\":\"markers\",\"name\":\"Americas\",\"showlegend\":true,\"type\":\"scattergeo\"},{\"geo\":\"geo\",\"hovertemplate\":\"<b>%{hovertext}</b><br><br>continent=Oceania<br>year=1952<br>gdpPercap=%{marker.size}<br>iso_alpha=%{location}<extra></extra>\",\"hovertext\":[\"Australia\",\"New Zealand\"],\"legendgroup\":\"Oceania\",\"locations\":[\"AUS\",\"NZL\"],\"marker\":{\"color\":\"#FFA15A\",\"size\":[10039.595640000001,10556.575659999999],\"sizemode\":\"area\",\"sizeref\":283.80783225,\"symbol\":\"circle\"},\"mode\":\"markers\",\"name\":\"Oceania\",\"showlegend\":true,\"type\":\"scattergeo\"}],\"name\":\"1952\"},{\"data\":[{\"geo\":\"geo\",\"hovertemplate\":\"<b>%{hovertext}</b><br><br>continent=Asia<br>year=1957<br>gdpPercap=%{marker.size}<br>iso_alpha=%{location}<extra></extra>\",\"hovertext\":[\"Afghanistan\",\"Bahrain\",\"Bangladesh\",\"Cambodia\",\"China\",\"Hong Kong, China\",\"India\",\"Indonesia\",\"Iran\",\"Iraq\",\"Israel\",\"Japan\",\"Jordan\",\"Korea, Dem. Rep.\",\"Korea, Rep.\",\"Kuwait\",\"Lebanon\",\"Malaysia\",\"Mongolia\",\"Myanmar\",\"Nepal\",\"Oman\",\"Pakistan\",\"Philippines\",\"Saudi Arabia\",\"Singapore\",\"Sri Lanka\",\"Syria\",\"Taiwan\",\"Thailand\",\"Vietnam\",\"West Bank and Gaza\",\"Yemen, Rep.\"],\"legendgroup\":\"Asia\",\"locations\":[\"AFG\",\"BHR\",\"BGD\",\"KHM\",\"CHN\",\"HKG\",\"IND\",\"IDN\",\"IRN\",\"IRQ\",\"ISR\",\"JPN\",\"JOR\",\"KOR\",\"KOR\",\"KWT\",\"LBN\",\"MYS\",\"MNG\",\"MMR\",\"NPL\",\"OMN\",\"PAK\",\"PHL\",\"SAU\",\"SGP\",\"LKA\",\"SYR\",\"TWN\",\"THA\",\"VNM\",\"PSE\",\"YEM\"],\"marker\":{\"color\":\"#636efa\",\"size\":[820.8530296,11635.79945,661.6374577,434.0383364,575.9870009,3629.076457,590.061996,858.9002707000003,3290.257643,6229.333562,5385.278451,4317.694365,1886.080591,1571.134655,1487.593537,113523.1329,6089.7869340000025,1810.0669920000007,912.6626085,350.0,597.9363557999999,2242.746551,747.0835292,1547.9448439999999,8157.591248000002,2843.104409,1072.546602,2117.234893,1507.86129,793.5774147999997,676.2854477999998,1827.0677420000002,804.8304547],\"sizemode\":\"area\",\"sizeref\":283.80783225,\"symbol\":\"circle\"},\"mode\":\"markers\",\"name\":\"Asia\",\"showlegend\":true,\"type\":\"scattergeo\"},{\"geo\":\"geo\",\"hovertemplate\":\"<b>%{hovertext}</b><br><br>continent=Europe<br>year=1957<br>gdpPercap=%{marker.size}<br>iso_alpha=%{location}<extra></extra>\",\"hovertext\":[\"Albania\",\"Austria\",\"Belgium\",\"Bosnia and Herzegovina\",\"Bulgaria\",\"Croatia\",\"Czech Republic\",\"Denmark\",\"Finland\",\"France\",\"Germany\",\"Greece\",\"Hungary\",\"Iceland\",\"Ireland\",\"Italy\",\"Montenegro\",\"Netherlands\",\"Norway\",\"Poland\",\"Portugal\",\"Romania\",\"Serbia\",\"Slovak Republic\",\"Slovenia\",\"Spain\",\"Sweden\",\"Switzerland\",\"Turkey\",\"United Kingdom\"],\"legendgroup\":\"Europe\",\"locations\":[\"ALB\",\"AUT\",\"BEL\",\"BIH\",\"BGR\",\"HRV\",\"CZE\",\"DNK\",\"FIN\",\"FRA\",\"DEU\",\"GRC\",\"HUN\",\"ISL\",\"IRL\",\"ITA\",\"MNE\",\"NLD\",\"NOR\",\"POL\",\"PRT\",\"ROU\",\"SRB\",\"SVK\",\"SVN\",\"ESP\",\"SWE\",\"CHE\",\"TUR\",\"GBR\"],\"marker\":{\"color\":\"#EF553B\",\"size\":[1942.2842440000002,8842.59803,9714.960623,1353.989176,3008.670727,4338.231617,8256.343918,11099.65935,7545.415386,8662.834898000001,10187.82665,4916.299889,6040.180011,9244.001412,5599.077872,6248.656232,3682.259903,11276.193440000001,11653.97304,4734.253019,3774.571743,3943.370225,4981.090891,6093.2629799999995,5862.276629,4564.80241,9911.878226,17909.48973,2218.754257,11283.17795],\"sizemode\":\"area\",\"sizeref\":283.80783225,\"symbol\":\"circle\"},\"mode\":\"markers\",\"name\":\"Europe\",\"showlegend\":true,\"type\":\"scattergeo\"},{\"geo\":\"geo\",\"hovertemplate\":\"<b>%{hovertext}</b><br><br>continent=Africa<br>year=1957<br>gdpPercap=%{marker.size}<br>iso_alpha=%{location}<extra></extra>\",\"hovertext\":[\"Algeria\",\"Angola\",\"Benin\",\"Botswana\",\"Burkina Faso\",\"Burundi\",\"Cameroon\",\"Central African Republic\",\"Chad\",\"Comoros\",\"Congo, Dem. Rep.\",\"Congo, Rep.\",\"Cote d'Ivoire\",\"Djibouti\",\"Egypt\",\"Equatorial Guinea\",\"Eritrea\",\"Ethiopia\",\"Gabon\",\"Gambia\",\"Ghana\",\"Guinea\",\"Guinea-Bissau\",\"Kenya\",\"Lesotho\",\"Liberia\",\"Libya\",\"Madagascar\",\"Malawi\",\"Mali\",\"Mauritania\",\"Mauritius\",\"Morocco\",\"Mozambique\",\"Namibia\",\"Niger\",\"Nigeria\",\"Reunion\",\"Rwanda\",\"Sao Tome and Principe\",\"Senegal\",\"Sierra Leone\",\"Somalia\",\"South Africa\",\"Sudan\",\"Swaziland\",\"Tanzania\",\"Togo\",\"Tunisia\",\"Uganda\",\"Zambia\",\"Zimbabwe\"],\"legendgroup\":\"Africa\",\"locations\":[\"DZA\",\"AGO\",\"BEN\",\"BWA\",\"BFA\",\"BDI\",\"CMR\",\"CAF\",\"TCD\",\"COM\",\"COD\",\"COG\",\"CIV\",\"DJI\",\"EGY\",\"GNQ\",\"ERI\",\"ETH\",\"GAB\",\"GMB\",\"GHA\",\"GIN\",\"GNB\",\"KEN\",\"LSO\",\"LBR\",\"LBY\",\"MDG\",\"MWI\",\"MLI\",\"MRT\",\"MUS\",\"MAR\",\"MOZ\",\"NAM\",\"NER\",\"NGA\",\"REU\",\"RWA\",\"STP\",\"SEN\",\"SLE\",\"SOM\",\"ZAF\",\"SDN\",\"SWZ\",\"TZA\",\"TGO\",\"TUN\",\"UGA\",\"ZMB\",\"ZWE\"],\"marker\":{\"color\":\"#00cc96\",\"size\":[3013.976023,3827.9404649999997,959.6010805,918.2325348999999,617.1834647999998,379.56462810000005,1313.048099,1190.844328,1308.495577,1211.1485480000001,905.8602302999999,2315.056572,1500.895925,2864.969076000001,1458.915272,426.0964081,344.16188589999996,378.90416319999997,4976.198099,520.9267111,1043.5615369999996,576.2670245,431.79045660000014,944.4383152,335.9971151000001,620.9699901,3448.284395,1589.20275,416.36980639999996,490.3821867,846.1202613,2034.037981,1642.002314,495.58683330000014,2621.448058,835.5234025000003,1100.5925630000004,2769.451844,540.2893982999999,860.7369026,1567.653006,1004.484437,1258.1474130000001,5487.104219,1770.3370739999998,1244.708364,698.5356073,925.9083201999999,1395.232468,774.3710692000003,1311.956766,518.7642681],\"sizemode\":\"area\",\"sizeref\":283.80783225,\"symbol\":\"circle\"},\"mode\":\"markers\",\"name\":\"Africa\",\"showlegend\":true,\"type\":\"scattergeo\"},{\"geo\":\"geo\",\"hovertemplate\":\"<b>%{hovertext}</b><br><br>continent=Americas<br>year=1957<br>gdpPercap=%{marker.size}<br>iso_alpha=%{location}<extra></extra>\",\"hovertext\":[\"Argentina\",\"Bolivia\",\"Brazil\",\"Canada\",\"Chile\",\"Colombia\",\"Costa Rica\",\"Cuba\",\"Dominican Republic\",\"Ecuador\",\"El Salvador\",\"Guatemala\",\"Haiti\",\"Honduras\",\"Jamaica\",\"Mexico\",\"Nicaragua\",\"Panama\",\"Paraguay\",\"Peru\",\"Puerto Rico\",\"Trinidad and Tobago\",\"United States\",\"Uruguay\",\"Venezuela\"],\"legendgroup\":\"Americas\",\"locations\":[\"ARG\",\"BOL\",\"BRA\",\"CAN\",\"CHL\",\"COL\",\"CRI\",\"CUB\",\"DOM\",\"ECU\",\"SLV\",\"GTM\",\"HTI\",\"HND\",\"JAM\",\"MEX\",\"NIC\",\"PAN\",\"PRY\",\"PER\",\"PRI\",\"TTO\",\"USA\",\"URY\",\"VEN\"],\"marker\":{\"color\":\"#ab63fa\",\"size\":[6856.856212000002,2127.686326,2487.365989,12489.95006,4315.6227229999995,2323.805581,2990.010802,6092.174359000002,1544.402995,3780.5466509999997,3421.523218,2617.155967,1726.887882,2220.487682,4756.525781,4131.546641,3457.415947,2961.800905,2046.1547059999998,4245.256697999999,3907.1561890000003,4100.3934,14847.12712,6150.772969,9802.466526],\"sizemode\":\"area\",\"sizeref\":283.80783225,\"symbol\":\"circle\"},\"mode\":\"markers\",\"name\":\"Americas\",\"showlegend\":true,\"type\":\"scattergeo\"},{\"geo\":\"geo\",\"hovertemplate\":\"<b>%{hovertext}</b><br><br>continent=Oceania<br>year=1957<br>gdpPercap=%{marker.size}<br>iso_alpha=%{location}<extra></extra>\",\"hovertext\":[\"Australia\",\"New Zealand\"],\"legendgroup\":\"Oceania\",\"locations\":[\"AUS\",\"NZL\"],\"marker\":{\"color\":\"#FFA15A\",\"size\":[10949.64959,12247.39532],\"sizemode\":\"area\",\"sizeref\":283.80783225,\"symbol\":\"circle\"},\"mode\":\"markers\",\"name\":\"Oceania\",\"showlegend\":true,\"type\":\"scattergeo\"}],\"name\":\"1957\"},{\"data\":[{\"geo\":\"geo\",\"hovertemplate\":\"<b>%{hovertext}</b><br><br>continent=Asia<br>year=1962<br>gdpPercap=%{marker.size}<br>iso_alpha=%{location}<extra></extra>\",\"hovertext\":[\"Afghanistan\",\"Bahrain\",\"Bangladesh\",\"Cambodia\",\"China\",\"Hong Kong, China\",\"India\",\"Indonesia\",\"Iran\",\"Iraq\",\"Israel\",\"Japan\",\"Jordan\",\"Korea, Dem. Rep.\",\"Korea, Rep.\",\"Kuwait\",\"Lebanon\",\"Malaysia\",\"Mongolia\",\"Myanmar\",\"Nepal\",\"Oman\",\"Pakistan\",\"Philippines\",\"Saudi Arabia\",\"Singapore\",\"Sri Lanka\",\"Syria\",\"Taiwan\",\"Thailand\",\"Vietnam\",\"West Bank and Gaza\",\"Yemen, Rep.\"],\"legendgroup\":\"Asia\",\"locations\":[\"AFG\",\"BHR\",\"BGD\",\"KHM\",\"CHN\",\"HKG\",\"IND\",\"IDN\",\"IRN\",\"IRQ\",\"ISR\",\"JPN\",\"JOR\",\"KOR\",\"KOR\",\"KWT\",\"LBN\",\"MYS\",\"MNG\",\"MMR\",\"NPL\",\"OMN\",\"PAK\",\"PHL\",\"SAU\",\"SGP\",\"LKA\",\"SYR\",\"TWN\",\"THA\",\"VNM\",\"PSE\",\"YEM\"],\"marker\":{\"color\":\"#636efa\",\"size\":[853.1007099999997,12753.27514,686.3415537999998,496.9136476,487.6740183,4692.6482719999985,658.3471509,849.2897700999997,4187.329802,8341.737815,7105.630706,6576.649461,2348.009158,1621.693598,1536.3443869999999,95458.11176,5714.560611,2036.8849440000001,1056.353958,388.0,652.3968593,2924.638113,803.3427418,1649.5521529999999,11626.41975,3674.735572,1074.4719599999999,2193.037133,1822.879028,1002.1991720000001,772.0491602000003,2198.9563120000007,825.6232006],\"sizemode\":\"area\",\"sizeref\":283.80783225,\"symbol\":\"circle\"},\"mode\":\"markers\",\"name\":\"Asia\",\"showlegend\":true,\"type\":\"scattergeo\"},{\"geo\":\"geo\",\"hovertemplate\":\"<b>%{hovertext}</b><br><br>continent=Europe<br>year=1962<br>gdpPercap=%{marker.size}<br>iso_alpha=%{location}<extra></extra>\",\"hovertext\":[\"Albania\",\"Austria\",\"Belgium\",\"Bosnia and Herzegovina\",\"Bulgaria\",\"Croatia\",\"Czech Republic\",\"Denmark\",\"Finland\",\"France\",\"Germany\",\"Greece\",\"Hungary\",\"Iceland\",\"Ireland\",\"Italy\",\"Montenegro\",\"Netherlands\",\"Norway\",\"Poland\",\"Portugal\",\"Romania\",\"Serbia\",\"Slovak Republic\",\"Slovenia\",\"Spain\",\"Sweden\",\"Switzerland\",\"Turkey\",\"United Kingdom\"],\"legendgroup\":\"Europe\",\"locations\":[\"ALB\",\"AUT\",\"BEL\",\"BIH\",\"BGR\",\"HRV\",\"CZE\",\"DNK\",\"FIN\",\"FRA\",\"DEU\",\"GRC\",\"HUN\",\"ISL\",\"IRL\",\"ITA\",\"MNE\",\"NLD\",\"NOR\",\"POL\",\"PRT\",\"ROU\",\"SRB\",\"SVK\",\"SVN\",\"ESP\",\"SWE\",\"CHE\",\"TUR\",\"GBR\"],\"marker\":{\"color\":\"#EF553B\",\"size\":[2312.888958,10750.721109999999,10991.20676,1709.683679,4254.337839,5477.890018,10136.86713,13583.31351,9371.842561,10560.48553,12902.46291,6017.1907329999985,7550.359877,10350.15906,6631.597314,8243.58234,4649.593785,12790.849559999999,13450.40151,5338.752143,4727.954889,4734.9975859999995,6289.629157,7481.1075980000005,7402.303395,5693.843879,12329.441920000001,20431.0927,2322.8699079999997,12477.17707],\"sizemode\":\"area\",\"sizeref\":283.80783225,\"symbol\":\"circle\"},\"mode\":\"markers\",\"name\":\"Europe\",\"showlegend\":true,\"type\":\"scattergeo\"},{\"geo\":\"geo\",\"hovertemplate\":\"<b>%{hovertext}</b><br><br>continent=Africa<br>year=1962<br>gdpPercap=%{marker.size}<br>iso_alpha=%{location}<extra></extra>\",\"hovertext\":[\"Algeria\",\"Angola\",\"Benin\",\"Botswana\",\"Burkina Faso\",\"Burundi\",\"Cameroon\",\"Central African Republic\",\"Chad\",\"Comoros\",\"Congo, Dem. Rep.\",\"Congo, Rep.\",\"Cote d'Ivoire\",\"Djibouti\",\"Egypt\",\"Equatorial Guinea\",\"Eritrea\",\"Ethiopia\",\"Gabon\",\"Gambia\",\"Ghana\",\"Guinea\",\"Guinea-Bissau\",\"Kenya\",\"Lesotho\",\"Liberia\",\"Libya\",\"Madagascar\",\"Malawi\",\"Mali\",\"Mauritania\",\"Mauritius\",\"Morocco\",\"Mozambique\",\"Namibia\",\"Niger\",\"Nigeria\",\"Reunion\",\"Rwanda\",\"Sao Tome and Principe\",\"Senegal\",\"Sierra Leone\",\"Somalia\",\"South Africa\",\"Sudan\",\"Swaziland\",\"Tanzania\",\"Togo\",\"Tunisia\",\"Uganda\",\"Zambia\",\"Zimbabwe\"],\"legendgroup\":\"Africa\",\"locations\":[\"DZA\",\"AGO\",\"BEN\",\"BWA\",\"BFA\",\"BDI\",\"CMR\",\"CAF\",\"TCD\",\"COM\",\"COD\",\"COG\",\"CIV\",\"DJI\",\"EGY\",\"GNQ\",\"ERI\",\"ETH\",\"GAB\",\"GMB\",\"GHA\",\"GIN\",\"GNB\",\"KEN\",\"LSO\",\"LBR\",\"LBY\",\"MDG\",\"MWI\",\"MLI\",\"MRT\",\"MUS\",\"MAR\",\"MOZ\",\"NAM\",\"NER\",\"NGA\",\"REU\",\"RWA\",\"STP\",\"SEN\",\"SLE\",\"SOM\",\"ZAF\",\"SDN\",\"SWZ\",\"TZA\",\"TGO\",\"TUN\",\"UGA\",\"ZMB\",\"ZWE\"],\"marker\":{\"color\":\"#00cc96\",\"size\":[2550.81688,4269.276742,949.4990641,983.6539764,722.5120206,355.2032273,1399.607441,1193.068753,1389.817618,1406.648278,896.3146335000001,2464.783157,1728.8694280000002,3020.989263,1693.335853,582.8419713999998,380.99584330000016,419.4564161,6631.4592219999995,599.650276,1190.0411179999999,686.3736739,522.0343725,896.9663732,411.80062660000004,634.1951625,6757.0308159999995,1643.38711,427.90108560000004,496.17434280000003,1055.8960359999999,2529.0674870000007,1566.353493,556.6863539,3173.215595,997.7661127,1150.9274779999996,3173.72334,597.4730727000001,1071.551119,1654.988723,1116.6398769999996,1369.488336,5768.729717,1959.593767,1856.182125,722.0038073,1067.5348099999999,1660.30321,767.2717397999999,1452.725766,527.2721818],\"sizemode\":\"area\",\"sizeref\":283.80783225,\"symbol\":\"circle\"},\"mode\":\"markers\",\"name\":\"Africa\",\"showlegend\":true,\"type\":\"scattergeo\"},{\"geo\":\"geo\",\"hovertemplate\":\"<b>%{hovertext}</b><br><br>continent=Americas<br>year=1962<br>gdpPercap=%{marker.size}<br>iso_alpha=%{location}<extra></extra>\",\"hovertext\":[\"Argentina\",\"Bolivia\",\"Brazil\",\"Canada\",\"Chile\",\"Colombia\",\"Costa Rica\",\"Cuba\",\"Dominican Republic\",\"Ecuador\",\"El Salvador\",\"Guatemala\",\"Haiti\",\"Honduras\",\"Jamaica\",\"Mexico\",\"Nicaragua\",\"Panama\",\"Paraguay\",\"Peru\",\"Puerto Rico\",\"Trinidad and Tobago\",\"United States\",\"Uruguay\",\"Venezuela\"],\"legendgroup\":\"Americas\",\"locations\":[\"ARG\",\"BOL\",\"BRA\",\"CAN\",\"CHL\",\"COL\",\"CRI\",\"CUB\",\"DOM\",\"ECU\",\"SLV\",\"GTM\",\"HTI\",\"HND\",\"JAM\",\"MEX\",\"NIC\",\"PAN\",\"PRY\",\"PER\",\"PRI\",\"TTO\",\"USA\",\"URY\",\"VEN\"],\"marker\":{\"color\":\"#ab63fa\",\"size\":[7133.1660230000025,2180.972546,3336.585802,13462.48555,4519.094331,2492.351109,3460.937025,5180.75591,1662.137359,4086.114078,3776.8036270000002,2750.364446,1796.589032,2291.1568350000002,5246.107524,4581.609385,3634.364406,3536.540301,2148.027146,4957.037982,5108.34463,4997.523971000001,16173.145859999999,5603.357717,8422.974165000001],\"sizemode\":\"area\",\"sizeref\":283.80783225,\"symbol\":\"circle\"},\"mode\":\"markers\",\"name\":\"Americas\",\"showlegend\":true,\"type\":\"scattergeo\"},{\"geo\":\"geo\",\"hovertemplate\":\"<b>%{hovertext}</b><br><br>continent=Oceania<br>year=1962<br>gdpPercap=%{marker.size}<br>iso_alpha=%{location}<extra></extra>\",\"hovertext\":[\"Australia\",\"New Zealand\"],\"legendgroup\":\"Oceania\",\"locations\":[\"AUS\",\"NZL\"],\"marker\":{\"color\":\"#FFA15A\",\"size\":[12217.226859999999,13175.678],\"sizemode\":\"area\",\"sizeref\":283.80783225,\"symbol\":\"circle\"},\"mode\":\"markers\",\"name\":\"Oceania\",\"showlegend\":true,\"type\":\"scattergeo\"}],\"name\":\"1962\"},{\"data\":[{\"geo\":\"geo\",\"hovertemplate\":\"<b>%{hovertext}</b><br><br>continent=Asia<br>year=1967<br>gdpPercap=%{marker.size}<br>iso_alpha=%{location}<extra></extra>\",\"hovertext\":[\"Afghanistan\",\"Bahrain\",\"Bangladesh\",\"Cambodia\",\"China\",\"Hong Kong, China\",\"India\",\"Indonesia\",\"Iran\",\"Iraq\",\"Israel\",\"Japan\",\"Jordan\",\"Korea, Dem. Rep.\",\"Korea, Rep.\",\"Kuwait\",\"Lebanon\",\"Malaysia\",\"Mongolia\",\"Myanmar\",\"Nepal\",\"Oman\",\"Pakistan\",\"Philippines\",\"Saudi Arabia\",\"Singapore\",\"Sri Lanka\",\"Syria\",\"Taiwan\",\"Thailand\",\"Vietnam\",\"West Bank and Gaza\",\"Yemen, Rep.\"],\"legendgroup\":\"Asia\",\"locations\":[\"AFG\",\"BHR\",\"BGD\",\"KHM\",\"CHN\",\"HKG\",\"IND\",\"IDN\",\"IRN\",\"IRQ\",\"ISR\",\"JPN\",\"JOR\",\"KOR\",\"KOR\",\"KWT\",\"LBN\",\"MYS\",\"MNG\",\"MMR\",\"NPL\",\"OMN\",\"PAK\",\"PHL\",\"SAU\",\"SGP\",\"LKA\",\"SYR\",\"TWN\",\"THA\",\"VNM\",\"PSE\",\"YEM\"],\"marker\":{\"color\":\"#636efa\",\"size\":[836.1971382,14804.6727,721.1860862000003,523.4323142,612.7056934,6197.962814,700.7706107000001,762.4317721,5906.7318049999985,8931.459811,8393.741404,9847.788606999999,2741.796252,2143.540609,2029.2281420000002,80894.88326,6006.983042,2277.742396,1226.04113,349.0,676.4422254,4720.942687,942.4082588,1814.12743,16903.04886,4977.41854,1135.514326,1881.923632,2643.8586809999997,1295.46066,637.1232887,2649.7150070000002,862.4421463],\"sizemode\":\"area\",\"sizeref\":283.80783225,\"symbol\":\"circle\"},\"mode\":\"markers\",\"name\":\"Asia\",\"showlegend\":true,\"type\":\"scattergeo\"},{\"geo\":\"geo\",\"hovertemplate\":\"<b>%{hovertext}</b><br><br>continent=Europe<br>year=1967<br>gdpPercap=%{marker.size}<br>iso_alpha=%{location}<extra></extra>\",\"hovertext\":[\"Albania\",\"Austria\",\"Belgium\",\"Bosnia and Herzegovina\",\"Bulgaria\",\"Croatia\",\"Czech Republic\",\"Denmark\",\"Finland\",\"France\",\"Germany\",\"Greece\",\"Hungary\",\"Iceland\",\"Ireland\",\"Italy\",\"Montenegro\",\"Netherlands\",\"Norway\",\"Poland\",\"Portugal\",\"Romania\",\"Serbia\",\"Slovak Republic\",\"Slovenia\",\"Spain\",\"Sweden\",\"Switzerland\",\"Turkey\",\"United Kingdom\"],\"legendgroup\":\"Europe\",\"locations\":[\"ALB\",\"AUT\",\"BEL\",\"BIH\",\"BGR\",\"HRV\",\"CZE\",\"DNK\",\"FIN\",\"FRA\",\"DEU\",\"GRC\",\"HUN\",\"ISL\",\"IRL\",\"ITA\",\"MNE\",\"NLD\",\"NOR\",\"POL\",\"PRT\",\"ROU\",\"SRB\",\"SVK\",\"SVN\",\"ESP\",\"SWE\",\"CHE\",\"TUR\",\"GBR\"],\"marker\":{\"color\":\"#EF553B\",\"size\":[2760.196931,12834.6024,13149.04119,2172.3524230000007,5577.0028,6960.297861,11399.44489,15937.21123,10921.63626,12999.91766,14745.62561,8513.097016,9326.64467,13319.89568,7655.568963,10022.40131,5907.850937,15363.25136,16361.87647,6557.152776,6361.517993,6470.866545,7991.707066,8412.902397,9405.489397,7993.512294,15258.29697,22966.14432,2826.356387000001,14142.85089],\"sizemode\":\"area\",\"sizeref\":283.80783225,\"symbol\":\"circle\"},\"mode\":\"markers\",\"name\":\"Europe\",\"showlegend\":true,\"type\":\"scattergeo\"},{\"geo\":\"geo\",\"hovertemplate\":\"<b>%{hovertext}</b><br><br>continent=Africa<br>year=1967<br>gdpPercap=%{marker.size}<br>iso_alpha=%{location}<extra></extra>\",\"hovertext\":[\"Algeria\",\"Angola\",\"Benin\",\"Botswana\",\"Burkina Faso\",\"Burundi\",\"Cameroon\",\"Central African Republic\",\"Chad\",\"Comoros\",\"Congo, Dem. Rep.\",\"Congo, Rep.\",\"Cote d'Ivoire\",\"Djibouti\",\"Egypt\",\"Equatorial Guinea\",\"Eritrea\",\"Ethiopia\",\"Gabon\",\"Gambia\",\"Ghana\",\"Guinea\",\"Guinea-Bissau\",\"Kenya\",\"Lesotho\",\"Liberia\",\"Libya\",\"Madagascar\",\"Malawi\",\"Mali\",\"Mauritania\",\"Mauritius\",\"Morocco\",\"Mozambique\",\"Namibia\",\"Niger\",\"Nigeria\",\"Reunion\",\"Rwanda\",\"Sao Tome and Principe\",\"Senegal\",\"Sierra Leone\",\"Somalia\",\"South Africa\",\"Sudan\",\"Swaziland\",\"Tanzania\",\"Togo\",\"Tunisia\",\"Uganda\",\"Zambia\",\"Zimbabwe\"],\"legendgroup\":\"Africa\",\"locations\":[\"DZA\",\"AGO\",\"BEN\",\"BWA\",\"BFA\",\"BDI\",\"CMR\",\"CAF\",\"TCD\",\"COM\",\"COD\",\"COG\",\"CIV\",\"DJI\",\"EGY\",\"GNQ\",\"ERI\",\"ETH\",\"GAB\",\"GMB\",\"GHA\",\"GIN\",\"GNB\",\"KEN\",\"LSO\",\"LBR\",\"LBY\",\"MDG\",\"MWI\",\"MLI\",\"MRT\",\"MUS\",\"MAR\",\"MOZ\",\"NAM\",\"NER\",\"NGA\",\"REU\",\"RWA\",\"STP\",\"SEN\",\"SLE\",\"SOM\",\"ZAF\",\"SDN\",\"SWZ\",\"TZA\",\"TGO\",\"TUN\",\"UGA\",\"ZMB\",\"ZWE\"],\"marker\":{\"color\":\"#00cc96\",\"size\":[3246.991771,5522.776375,1035.831411,1214.709294,794.8265597,412.97751360000007,1508.453148,1136.056615,1196.810565,1876.029643,861.5932424,2677.9396420000007,2052.0504730000002,3020.0505129999997,1814.880728,915.5960025,468.7949699,516.1186438,8358.761987,734.7829124,1125.69716,708.7595409,715.5806402000003,1056.736457,498.63902649999994,713.6036482999997,18772.75169,1634.047282,495.5147806,545.0098873,1421.145193,2475.387562,1711.04477,566.6691539,3793.694753,1054.384891,1014.5141039999999,4021.1757390000002,510.9637142,1384.840593,1612.404632,1206.043465,1284.7331800000004,7114.4779709999975,1687.997641,2613.1016649999997,848.2186575,1477.59676,1932.3601670000005,908.9185217,1777.0773179999999,569.7950712],\"sizemode\":\"area\",\"sizeref\":283.80783225,\"symbol\":\"circle\"},\"mode\":\"markers\",\"name\":\"Africa\",\"showlegend\":true,\"type\":\"scattergeo\"},{\"geo\":\"geo\",\"hovertemplate\":\"<b>%{hovertext}</b><br><br>continent=Americas<br>year=1967<br>gdpPercap=%{marker.size}<br>iso_alpha=%{location}<extra></extra>\",\"hovertext\":[\"Argentina\",\"Bolivia\",\"Brazil\",\"Canada\",\"Chile\",\"Colombia\",\"Costa Rica\",\"Cuba\",\"Dominican Republic\",\"Ecuador\",\"El Salvador\",\"Guatemala\",\"Haiti\",\"Honduras\",\"Jamaica\",\"Mexico\",\"Nicaragua\",\"Panama\",\"Paraguay\",\"Peru\",\"Puerto Rico\",\"Trinidad and Tobago\",\"United States\",\"Uruguay\",\"Venezuela\"],\"legendgroup\":\"Americas\",\"locations\":[\"ARG\",\"BOL\",\"BRA\",\"CAN\",\"CHL\",\"COL\",\"CRI\",\"CUB\",\"DOM\",\"ECU\",\"SLV\",\"GTM\",\"HTI\",\"HND\",\"JAM\",\"MEX\",\"NIC\",\"PAN\",\"PRY\",\"PER\",\"PRI\",\"TTO\",\"USA\",\"URY\",\"VEN\"],\"marker\":{\"color\":\"#ab63fa\",\"size\":[8052.9530209999975,2586.886053,3429.864357,16076.58803,5106.654313,2678.729839,4161.727834,5690.268015,1653.7230029999994,4579.074215,4358.595393,3242.5311469999997,1452.057666,2538.269358,6124.7034509999985,5754.733883,4643.393534000002,4421.009084,2299.376311,5788.09333,6929.277714,5621.368472,19530.365569999998,5444.61962,9541.474188],\"sizemode\":\"area\",\"sizeref\":283.80783225,\"symbol\":\"circle\"},\"mode\":\"markers\",\"name\":\"Americas\",\"showlegend\":true,\"type\":\"scattergeo\"},{\"geo\":\"geo\",\"hovertemplate\":\"<b>%{hovertext}</b><br><br>continent=Oceania<br>year=1967<br>gdpPercap=%{marker.size}<br>iso_alpha=%{location}<extra></extra>\",\"hovertext\":[\"Australia\",\"New Zealand\"],\"legendgroup\":\"Oceania\",\"locations\":[\"AUS\",\"NZL\"],\"marker\":{\"color\":\"#FFA15A\",\"size\":[14526.12465,14463.918930000002],\"sizemode\":\"area\",\"sizeref\":283.80783225,\"symbol\":\"circle\"},\"mode\":\"markers\",\"name\":\"Oceania\",\"showlegend\":true,\"type\":\"scattergeo\"}],\"name\":\"1967\"},{\"data\":[{\"geo\":\"geo\",\"hovertemplate\":\"<b>%{hovertext}</b><br><br>continent=Asia<br>year=1972<br>gdpPercap=%{marker.size}<br>iso_alpha=%{location}<extra></extra>\",\"hovertext\":[\"Afghanistan\",\"Bahrain\",\"Bangladesh\",\"Cambodia\",\"China\",\"Hong Kong, China\",\"India\",\"Indonesia\",\"Iran\",\"Iraq\",\"Israel\",\"Japan\",\"Jordan\",\"Korea, Dem. Rep.\",\"Korea, Rep.\",\"Kuwait\",\"Lebanon\",\"Malaysia\",\"Mongolia\",\"Myanmar\",\"Nepal\",\"Oman\",\"Pakistan\",\"Philippines\",\"Saudi Arabia\",\"Singapore\",\"Sri Lanka\",\"Syria\",\"Taiwan\",\"Thailand\",\"Vietnam\",\"West Bank and Gaza\",\"Yemen, Rep.\"],\"legendgroup\":\"Asia\",\"locations\":[\"AFG\",\"BHR\",\"BGD\",\"KHM\",\"CHN\",\"HKG\",\"IND\",\"IDN\",\"IRN\",\"IRQ\",\"ISR\",\"JPN\",\"JOR\",\"KOR\",\"KOR\",\"KWT\",\"LBN\",\"MYS\",\"MNG\",\"MMR\",\"NPL\",\"OMN\",\"PAK\",\"PHL\",\"SAU\",\"SGP\",\"LKA\",\"SYR\",\"TWN\",\"THA\",\"VNM\",\"PSE\",\"YEM\"],\"marker\":{\"color\":\"#636efa\",\"size\":[739.9811057999997,18268.65839,630.2336265,421.6240257,676.9000921,8315.928145,724.032527,1111.107907,9613.818607,9576.037596,12786.93223,14778.78636,2110.856309,3701.6215030000003,3030.87665,109347.867,7486.384341,2849.09478,1421.741975,357.0,674.7881296,10618.03855,1049.938981,1989.3740699999998,24837.42865,8597.756202,1213.39553,2571.423014,4062.523897,1524.3589359999999,699.5016441,3133.4092769999997,1265.047031],\"sizemode\":\"area\",\"sizeref\":283.80783225,\"symbol\":\"circle\"},\"mode\":\"markers\",\"name\":\"Asia\",\"showlegend\":true,\"type\":\"scattergeo\"},{\"geo\":\"geo\",\"hovertemplate\":\"<b>%{hovertext}</b><br><br>continent=Europe<br>year=1972<br>gdpPercap=%{marker.size}<br>iso_alpha=%{location}<extra></extra>\",\"hovertext\":[\"Albania\",\"Austria\",\"Belgium\",\"Bosnia and Herzegovina\",\"Bulgaria\",\"Croatia\",\"Czech Republic\",\"Denmark\",\"Finland\",\"France\",\"Germany\",\"Greece\",\"Hungary\",\"Iceland\",\"Ireland\",\"Italy\",\"Montenegro\",\"Netherlands\",\"Norway\",\"Poland\",\"Portugal\",\"Romania\",\"Serbia\",\"Slovak Republic\",\"Slovenia\",\"Spain\",\"Sweden\",\"Switzerland\",\"Turkey\",\"United Kingdom\"],\"legendgroup\":\"Europe\",\"locations\":[\"ALB\",\"AUT\",\"BEL\",\"BIH\",\"BGR\",\"HRV\",\"CZE\",\"DNK\",\"FIN\",\"FRA\",\"DEU\",\"GRC\",\"HUN\",\"ISL\",\"IRL\",\"ITA\",\"MNE\",\"NLD\",\"NOR\",\"POL\",\"PRT\",\"ROU\",\"SRB\",\"SVK\",\"SVN\",\"ESP\",\"SWE\",\"CHE\",\"TUR\",\"GBR\"],\"marker\":{\"color\":\"#EF553B\",\"size\":[3313.422188,16661.6256,16672.14356,2860.16975,6597.494398,9164.090127,13108.4536,18866.20721,14358.8759,16107.19171,18016.180269999997,12724.82957,10168.65611,15798.063619999999,9530.772895999999,12269.27378,7778.414017,18794.74567,18965.05551,8006.506993000001,9022.247417,8011.414401999998,10522.067490000001,9674.167626,12383.4862,10638.75131,17832.02464,27195.113039999997,3450.69638,15895.116409999999],\"sizemode\":\"area\",\"sizeref\":283.80783225,\"symbol\":\"circle\"},\"mode\":\"markers\",\"name\":\"Europe\",\"showlegend\":true,\"type\":\"scattergeo\"},{\"geo\":\"geo\",\"hovertemplate\":\"<b>%{hovertext}</b><br><br>continent=Africa<br>year=1972<br>gdpPercap=%{marker.size}<br>iso_alpha=%{location}<extra></extra>\",\"hovertext\":[\"Algeria\",\"Angola\",\"Benin\",\"Botswana\",\"Burkina Faso\",\"Burundi\",\"Cameroon\",\"Central African Republic\",\"Chad\",\"Comoros\",\"Congo, Dem. Rep.\",\"Congo, Rep.\",\"Cote d'Ivoire\",\"Djibouti\",\"Egypt\",\"Equatorial Guinea\",\"Eritrea\",\"Ethiopia\",\"Gabon\",\"Gambia\",\"Ghana\",\"Guinea\",\"Guinea-Bissau\",\"Kenya\",\"Lesotho\",\"Liberia\",\"Libya\",\"Madagascar\",\"Malawi\",\"Mali\",\"Mauritania\",\"Mauritius\",\"Morocco\",\"Mozambique\",\"Namibia\",\"Niger\",\"Nigeria\",\"Reunion\",\"Rwanda\",\"Sao Tome and Principe\",\"Senegal\",\"Sierra Leone\",\"Somalia\",\"South Africa\",\"Sudan\",\"Swaziland\",\"Tanzania\",\"Togo\",\"Tunisia\",\"Uganda\",\"Zambia\",\"Zimbabwe\"],\"legendgroup\":\"Africa\",\"locations\":[\"DZA\",\"AGO\",\"BEN\",\"BWA\",\"BFA\",\"BDI\",\"CMR\",\"CAF\",\"TCD\",\"COM\",\"COD\",\"COG\",\"CIV\",\"DJI\",\"EGY\",\"GNQ\",\"ERI\",\"ETH\",\"GAB\",\"GMB\",\"GHA\",\"GIN\",\"GNB\",\"KEN\",\"LSO\",\"LBR\",\"LBY\",\"MDG\",\"MWI\",\"MLI\",\"MRT\",\"MUS\",\"MAR\",\"MOZ\",\"NAM\",\"NER\",\"NGA\",\"REU\",\"RWA\",\"STP\",\"SEN\",\"SLE\",\"SOM\",\"ZAF\",\"SDN\",\"SWZ\",\"TZA\",\"TGO\",\"TUN\",\"UGA\",\"ZMB\",\"ZWE\"],\"marker\":{\"color\":\"#00cc96\",\"size\":[4182.663766,5473.2880049999985,1085.796879,2263.6111140000007,854.7359763000003,464.0995039,1684.1465280000002,1070.013275,1104.103987,1937.577675,904.8960685000001,3213.152683,2378.201111,3694.2123520000014,2024.0081469999998,672.4122571,514.3242081999998,566.2439442000001,11401.948409999999,756.0868363,1178.223708,741.6662307,820.2245876000003,1222.359968,496.58159220000016,803.0054535,21011.497209999998,1748.562982,584.6219709,581.3688761,1586.851781,2575.4841579999998,1930.194975,724.9178037,3746.080948,954.2092363,1698.3888379999999,5047.658563,590.5806637999998,1532.985254,1597.712056,1353.759762,1254.576127,7765.962636,1659.652775,3364.836625,915.9850592,1649.660188,2753.285994000001,950.735869,1773.498265,799.3621757999997],\"sizemode\":\"area\",\"sizeref\":283.80783225,\"symbol\":\"circle\"},\"mode\":\"markers\",\"name\":\"Africa\",\"showlegend\":true,\"type\":\"scattergeo\"},{\"geo\":\"geo\",\"hovertemplate\":\"<b>%{hovertext}</b><br><br>continent=Americas<br>year=1972<br>gdpPercap=%{marker.size}<br>iso_alpha=%{location}<extra></extra>\",\"hovertext\":[\"Argentina\",\"Bolivia\",\"Brazil\",\"Canada\",\"Chile\",\"Colombia\",\"Costa Rica\",\"Cuba\",\"Dominican Republic\",\"Ecuador\",\"El Salvador\",\"Guatemala\",\"Haiti\",\"Honduras\",\"Jamaica\",\"Mexico\",\"Nicaragua\",\"Panama\",\"Paraguay\",\"Peru\",\"Puerto Rico\",\"Trinidad and Tobago\",\"United States\",\"Uruguay\",\"Venezuela\"],\"legendgroup\":\"Americas\",\"locations\":[\"ARG\",\"BOL\",\"BRA\",\"CAN\",\"CHL\",\"COL\",\"CRI\",\"CUB\",\"DOM\",\"ECU\",\"SLV\",\"GTM\",\"HTI\",\"HND\",\"JAM\",\"MEX\",\"NIC\",\"PAN\",\"PRY\",\"PER\",\"PRI\",\"TTO\",\"USA\",\"URY\",\"VEN\"],\"marker\":{\"color\":\"#ab63fa\",\"size\":[9443.038526,2980.331339,4985.711467,18970.57086,5494.024437,3264.660041,5118.146939,5305.445256,2189.874499,5280.99471,4520.246008,4031.4082710000002,1654.456946,2529.842345,7433.889293000001,6809.4066900000025,4688.593267,5364.249663000001,2523.337977,5937.827283,9123.041742,6619.5514189999985,21806.03594,5703.408898,10505.25966],\"sizemode\":\"area\",\"sizeref\":283.80783225,\"symbol\":\"circle\"},\"mode\":\"markers\",\"name\":\"Americas\",\"showlegend\":true,\"type\":\"scattergeo\"},{\"geo\":\"geo\",\"hovertemplate\":\"<b>%{hovertext}</b><br><br>continent=Oceania<br>year=1972<br>gdpPercap=%{marker.size}<br>iso_alpha=%{location}<extra></extra>\",\"hovertext\":[\"Australia\",\"New Zealand\"],\"legendgroup\":\"Oceania\",\"locations\":[\"AUS\",\"NZL\"],\"marker\":{\"color\":\"#FFA15A\",\"size\":[16788.62948,16046.03728],\"sizemode\":\"area\",\"sizeref\":283.80783225,\"symbol\":\"circle\"},\"mode\":\"markers\",\"name\":\"Oceania\",\"showlegend\":true,\"type\":\"scattergeo\"}],\"name\":\"1972\"},{\"data\":[{\"geo\":\"geo\",\"hovertemplate\":\"<b>%{hovertext}</b><br><br>continent=Asia<br>year=1977<br>gdpPercap=%{marker.size}<br>iso_alpha=%{location}<extra></extra>\",\"hovertext\":[\"Afghanistan\",\"Bahrain\",\"Bangladesh\",\"Cambodia\",\"China\",\"Hong Kong, China\",\"India\",\"Indonesia\",\"Iran\",\"Iraq\",\"Israel\",\"Japan\",\"Jordan\",\"Korea, Dem. Rep.\",\"Korea, Rep.\",\"Kuwait\",\"Lebanon\",\"Malaysia\",\"Mongolia\",\"Myanmar\",\"Nepal\",\"Oman\",\"Pakistan\",\"Philippines\",\"Saudi Arabia\",\"Singapore\",\"Sri Lanka\",\"Syria\",\"Taiwan\",\"Thailand\",\"Vietnam\",\"West Bank and Gaza\",\"Yemen, Rep.\"],\"legendgroup\":\"Asia\",\"locations\":[\"AFG\",\"BHR\",\"BGD\",\"KHM\",\"CHN\",\"HKG\",\"IND\",\"IDN\",\"IRN\",\"IRQ\",\"ISR\",\"JPN\",\"JOR\",\"KOR\",\"KOR\",\"KWT\",\"LBN\",\"MYS\",\"MNG\",\"MMR\",\"NPL\",\"OMN\",\"PAK\",\"PHL\",\"SAU\",\"SGP\",\"LKA\",\"SYR\",\"TWN\",\"THA\",\"VNM\",\"PSE\",\"YEM\"],\"marker\":{\"color\":\"#636efa\",\"size\":[786.11336,19340.10196,659.8772322000002,524.9721831999999,741.2374699,11186.14125,813.3373230000003,1382.702056,11888.59508,14688.235069999999,13306.619209999999,16610.37701,2852.351568,4106.301249,4657.22102,59265.477139999995,8659.696836,3827.9215710000003,1647.511665,371.0,694.1124398,11848.343920000001,1175.921193,2373.204287,34167.7626,11210.08948,1348.775651,3195.484582,5596.519826,1961.2246350000007,713.5371196000001,3682.8314939999996,1829.765177],\"sizemode\":\"area\",\"sizeref\":283.80783225,\"symbol\":\"circle\"},\"mode\":\"markers\",\"name\":\"Asia\",\"showlegend\":true,\"type\":\"scattergeo\"},{\"geo\":\"geo\",\"hovertemplate\":\"<b>%{hovertext}</b><br><br>continent=Europe<br>year=1977<br>gdpPercap=%{marker.size}<br>iso_alpha=%{location}<extra></extra>\",\"hovertext\":[\"Albania\",\"Austria\",\"Belgium\",\"Bosnia and Herzegovina\",\"Bulgaria\",\"Croatia\",\"Czech Republic\",\"Denmark\",\"Finland\",\"France\",\"Germany\",\"Greece\",\"Hungary\",\"Iceland\",\"Ireland\",\"Italy\",\"Montenegro\",\"Netherlands\",\"Norway\",\"Poland\",\"Portugal\",\"Romania\",\"Serbia\",\"Slovak Republic\",\"Slovenia\",\"Spain\",\"Sweden\",\"Switzerland\",\"Turkey\",\"United Kingdom\"],\"legendgroup\":\"Europe\",\"locations\":[\"ALB\",\"AUT\",\"BEL\",\"BIH\",\"BGR\",\"HRV\",\"CZE\",\"DNK\",\"FIN\",\"FRA\",\"DEU\",\"GRC\",\"HUN\",\"ISL\",\"IRL\",\"ITA\",\"MNE\",\"NLD\",\"NOR\",\"POL\",\"PRT\",\"ROU\",\"SRB\",\"SVK\",\"SVN\",\"ESP\",\"SWE\",\"CHE\",\"TUR\",\"GBR\"],\"marker\":{\"color\":\"#EF553B\",\"size\":[3533.0039100000013,19749.4223,19117.97448,3528.481305,7612.240438,11305.38517,14800.160619999999,20422.9015,15605.422830000001,18292.635140000002,20512.92123,14195.524280000001,11674.837370000001,19654.96247,11150.98113,14255.98475,9595.929904999999,21209.0592,23311.34939,9508.141454,10172.48572,9356.39724,12980.66956,10922.664040000001,15277.030169999998,13236.92117,18855.72521,26982.29052,4269.122326,17428.74846],\"sizemode\":\"area\",\"sizeref\":283.80783225,\"symbol\":\"circle\"},\"mode\":\"markers\",\"name\":\"Europe\",\"showlegend\":true,\"type\":\"scattergeo\"},{\"geo\":\"geo\",\"hovertemplate\":\"<b>%{hovertext}</b><br><br>continent=Africa<br>year=1977<br>gdpPercap=%{marker.size}<br>iso_alpha=%{location}<extra></extra>\",\"hovertext\":[\"Algeria\",\"Angola\",\"Benin\",\"Botswana\",\"Burkina Faso\",\"Burundi\",\"Cameroon\",\"Central African Republic\",\"Chad\",\"Comoros\",\"Congo, Dem. Rep.\",\"Congo, Rep.\",\"Cote d'Ivoire\",\"Djibouti\",\"Egypt\",\"Equatorial Guinea\",\"Eritrea\",\"Ethiopia\",\"Gabon\",\"Gambia\",\"Ghana\",\"Guinea\",\"Guinea-Bissau\",\"Kenya\",\"Lesotho\",\"Liberia\",\"Libya\",\"Madagascar\",\"Malawi\",\"Mali\",\"Mauritania\",\"Mauritius\",\"Morocco\",\"Mozambique\",\"Namibia\",\"Niger\",\"Nigeria\",\"Reunion\",\"Rwanda\",\"Sao Tome and Principe\",\"Senegal\",\"Sierra Leone\",\"Somalia\",\"South Africa\",\"Sudan\",\"Swaziland\",\"Tanzania\",\"Togo\",\"Tunisia\",\"Uganda\",\"Zambia\",\"Zimbabwe\"],\"legendgroup\":\"Africa\",\"locations\":[\"DZA\",\"AGO\",\"BEN\",\"BWA\",\"BFA\",\"BDI\",\"CMR\",\"CAF\",\"TCD\",\"COM\",\"COD\",\"COG\",\"CIV\",\"DJI\",\"EGY\",\"GNQ\",\"ERI\",\"ETH\",\"GAB\",\"GMB\",\"GHA\",\"GIN\",\"GNB\",\"KEN\",\"LSO\",\"LBR\",\"LBY\",\"MDG\",\"MWI\",\"MLI\",\"MRT\",\"MUS\",\"MAR\",\"MOZ\",\"NAM\",\"NER\",\"NGA\",\"REU\",\"RWA\",\"STP\",\"SEN\",\"SLE\",\"SOM\",\"ZAF\",\"SDN\",\"SWZ\",\"TZA\",\"TGO\",\"TUN\",\"UGA\",\"ZMB\",\"ZWE\"],\"marker\":{\"color\":\"#00cc96\",\"size\":[4910.416756000001,3008.647355,1029.161251,3214.857818,743.3870368,556.1032651,1783.432873,1109.374338,1133.98495,1172.603047,795.757282,3259.178978,2517.736547,3081.7610219999997,2785.493582,958.5668124,505.7538077,556.8083834,21745.57328,884.7552507000001,993.2239571,874.6858642999997,764.7259627999997,1267.613204,745.3695408,640.3224382999998,21951.21176,1544.228586,663.2236766,686.3952693,1497.492223,3710.9829630000004,2370.619976,502.31973339999996,3876.4859579999998,808.8970727999997,1981.9518059999998,4319.804067,670.0806011,1737.561657,1561.769116,1348.285159,1450.9925130000001,8028.651439,2202.9884230000002,3781.410618,962.4922932,1532.776998,3120.876811,843.7331372000001,1588.688299,685.5876821],\"sizemode\":\"area\",\"sizeref\":283.80783225,\"symbol\":\"circle\"},\"mode\":\"markers\",\"name\":\"Africa\",\"showlegend\":true,\"type\":\"scattergeo\"},{\"geo\":\"geo\",\"hovertemplate\":\"<b>%{hovertext}</b><br><br>continent=Americas<br>year=1977<br>gdpPercap=%{marker.size}<br>iso_alpha=%{location}<extra></extra>\",\"hovertext\":[\"Argentina\",\"Bolivia\",\"Brazil\",\"Canada\",\"Chile\",\"Colombia\",\"Costa Rica\",\"Cuba\",\"Dominican Republic\",\"Ecuador\",\"El Salvador\",\"Guatemala\",\"Haiti\",\"Honduras\",\"Jamaica\",\"Mexico\",\"Nicaragua\",\"Panama\",\"Paraguay\",\"Peru\",\"Puerto Rico\",\"Trinidad and Tobago\",\"United States\",\"Uruguay\",\"Venezuela\"],\"legendgroup\":\"Americas\",\"locations\":[\"ARG\",\"BOL\",\"BRA\",\"CAN\",\"CHL\",\"COL\",\"CRI\",\"CUB\",\"DOM\",\"ECU\",\"SLV\",\"GTM\",\"HTI\",\"HND\",\"JAM\",\"MEX\",\"NIC\",\"PAN\",\"PRY\",\"PER\",\"PRI\",\"TTO\",\"USA\",\"URY\",\"VEN\"],\"marker\":{\"color\":\"#ab63fa\",\"size\":[10079.026740000001,3548.097832,6660.118654,22090.88306,4756.763836,3815.80787,5926.876967,6380.4949659999975,2681.9889,6679.62326,5138.922374,4879.992748,1874.2989309999998,3203.208066,6650.195573,7674.929108,5486.371089,5351.912144,3248.373311,6281.2908549999975,9770.524921,7899.554209000001,24072.63213,6504.3396630000025,13143.95095],\"sizemode\":\"area\",\"sizeref\":283.80783225,\"symbol\":\"circle\"},\"mode\":\"markers\",\"name\":\"Americas\",\"showlegend\":true,\"type\":\"scattergeo\"},{\"geo\":\"geo\",\"hovertemplate\":\"<b>%{hovertext}</b><br><br>continent=Oceania<br>year=1977<br>gdpPercap=%{marker.size}<br>iso_alpha=%{location}<extra></extra>\",\"hovertext\":[\"Australia\",\"New Zealand\"],\"legendgroup\":\"Oceania\",\"locations\":[\"AUS\",\"NZL\"],\"marker\":{\"color\":\"#FFA15A\",\"size\":[18334.197509999998,16233.7177],\"sizemode\":\"area\",\"sizeref\":283.80783225,\"symbol\":\"circle\"},\"mode\":\"markers\",\"name\":\"Oceania\",\"showlegend\":true,\"type\":\"scattergeo\"}],\"name\":\"1977\"},{\"data\":[{\"geo\":\"geo\",\"hovertemplate\":\"<b>%{hovertext}</b><br><br>continent=Asia<br>year=1982<br>gdpPercap=%{marker.size}<br>iso_alpha=%{location}<extra></extra>\",\"hovertext\":[\"Afghanistan\",\"Bahrain\",\"Bangladesh\",\"Cambodia\",\"China\",\"Hong Kong, China\",\"India\",\"Indonesia\",\"Iran\",\"Iraq\",\"Israel\",\"Japan\",\"Jordan\",\"Korea, Dem. Rep.\",\"Korea, Rep.\",\"Kuwait\",\"Lebanon\",\"Malaysia\",\"Mongolia\",\"Myanmar\",\"Nepal\",\"Oman\",\"Pakistan\",\"Philippines\",\"Saudi Arabia\",\"Singapore\",\"Sri Lanka\",\"Syria\",\"Taiwan\",\"Thailand\",\"Vietnam\",\"West Bank and Gaza\",\"Yemen, Rep.\"],\"legendgroup\":\"Asia\",\"locations\":[\"AFG\",\"BHR\",\"BGD\",\"KHM\",\"CHN\",\"HKG\",\"IND\",\"IDN\",\"IRN\",\"IRQ\",\"ISR\",\"JPN\",\"JOR\",\"KOR\",\"KOR\",\"KWT\",\"LBN\",\"MYS\",\"MNG\",\"MMR\",\"NPL\",\"OMN\",\"PAK\",\"PHL\",\"SAU\",\"SGP\",\"LKA\",\"SYR\",\"TWN\",\"THA\",\"VNM\",\"PSE\",\"YEM\"],\"marker\":{\"color\":\"#636efa\",\"size\":[978.0114388000001,19211.14731,676.9818656,624.4754784,962.4213804999999,14560.530509999999,855.7235377000003,1516.872988,7608.334602,14517.90711,15367.0292,19384.10571,4161.415959,4106.525293,5622.942464,31354.03573,7640.519520999997,4920.355951,2000.603139,424.0,718.3730947,12954.791009999999,1443.429832,2603.273765,33693.17525,15169.161119999999,1648.0797890000001,3761.8377149999997,7426.354773999998,2393.219781,707.2357863,4336.032082,1977.5570100000002],\"sizemode\":\"area\",\"sizeref\":283.80783225,\"symbol\":\"circle\"},\"mode\":\"markers\",\"name\":\"Asia\",\"showlegend\":true,\"type\":\"scattergeo\"},{\"geo\":\"geo\",\"hovertemplate\":\"<b>%{hovertext}</b><br><br>continent=Europe<br>year=1982<br>gdpPercap=%{marker.size}<br>iso_alpha=%{location}<extra></extra>\",\"hovertext\":[\"Albania\",\"Austria\",\"Belgium\",\"Bosnia and Herzegovina\",\"Bulgaria\",\"Croatia\",\"Czech Republic\",\"Denmark\",\"Finland\",\"France\",\"Germany\",\"Greece\",\"Hungary\",\"Iceland\",\"Ireland\",\"Italy\",\"Montenegro\",\"Netherlands\",\"Norway\",\"Poland\",\"Portugal\",\"Romania\",\"Serbia\",\"Slovak Republic\",\"Slovenia\",\"Spain\",\"Sweden\",\"Switzerland\",\"Turkey\",\"United Kingdom\"],\"legendgroup\":\"Europe\",\"locations\":[\"ALB\",\"AUT\",\"BEL\",\"BIH\",\"BGR\",\"HRV\",\"CZE\",\"DNK\",\"FIN\",\"FRA\",\"DEU\",\"GRC\",\"HUN\",\"ISL\",\"IRL\",\"ITA\",\"MNE\",\"NLD\",\"NOR\",\"POL\",\"PRT\",\"ROU\",\"SRB\",\"SVK\",\"SVN\",\"ESP\",\"SWE\",\"CHE\",\"TUR\",\"GBR\"],\"marker\":{\"color\":\"#EF553B\",\"size\":[3630.880722,21597.083619999998,20979.84589,4126.613157,8224.191647,13221.82184,15377.22855,21688.04048,18533.15761,20293.89746,22031.532740000002,15268.420890000001,12545.99066,23269.6075,12618.321409999999,16537.4835,11222.58762,21399.46046,26298.635309999998,8451.531004,11753.84291,9605.314053,15181.0927,11348.54585,17866.72175,13926.169969999999,20667.38125,28397.715119999997,4241.356344,18232.42452],\"sizemode\":\"area\",\"sizeref\":283.80783225,\"symbol\":\"circle\"},\"mode\":\"markers\",\"name\":\"Europe\",\"showlegend\":true,\"type\":\"scattergeo\"},{\"geo\":\"geo\",\"hovertemplate\":\"<b>%{hovertext}</b><br><br>continent=Africa<br>year=1982<br>gdpPercap=%{marker.size}<br>iso_alpha=%{location}<extra></extra>\",\"hovertext\":[\"Algeria\",\"Angola\",\"Benin\",\"Botswana\",\"Burkina Faso\",\"Burundi\",\"Cameroon\",\"Central African Republic\",\"Chad\",\"Comoros\",\"Congo, Dem. Rep.\",\"Congo, Rep.\",\"Cote d'Ivoire\",\"Djibouti\",\"Egypt\",\"Equatorial Guinea\",\"Eritrea\",\"Ethiopia\",\"Gabon\",\"Gambia\",\"Ghana\",\"Guinea\",\"Guinea-Bissau\",\"Kenya\",\"Lesotho\",\"Liberia\",\"Libya\",\"Madagascar\",\"Malawi\",\"Mali\",\"Mauritania\",\"Mauritius\",\"Morocco\",\"Mozambique\",\"Namibia\",\"Niger\",\"Nigeria\",\"Reunion\",\"Rwanda\",\"Sao Tome and Principe\",\"Senegal\",\"Sierra Leone\",\"Somalia\",\"South Africa\",\"Sudan\",\"Swaziland\",\"Tanzania\",\"Togo\",\"Tunisia\",\"Uganda\",\"Zambia\",\"Zimbabwe\"],\"legendgroup\":\"Africa\",\"locations\":[\"DZA\",\"AGO\",\"BEN\",\"BWA\",\"BFA\",\"BDI\",\"CMR\",\"CAF\",\"TCD\",\"COM\",\"COD\",\"COG\",\"CIV\",\"DJI\",\"EGY\",\"GNQ\",\"ERI\",\"ETH\",\"GAB\",\"GMB\",\"GHA\",\"GIN\",\"GNB\",\"KEN\",\"LSO\",\"LBR\",\"LBY\",\"MDG\",\"MWI\",\"MLI\",\"MRT\",\"MUS\",\"MAR\",\"MOZ\",\"NAM\",\"NER\",\"NGA\",\"REU\",\"RWA\",\"STP\",\"SEN\",\"SLE\",\"SOM\",\"ZAF\",\"SDN\",\"SWZ\",\"TZA\",\"TGO\",\"TUN\",\"UGA\",\"ZMB\",\"ZWE\"],\"marker\":{\"color\":\"#00cc96\",\"size\":[5745.160213,2756.953672,1277.897616,4551.14215,807.1985855,559.6032309999998,2367.983282,956.7529906999999,797.9081006,1267.100083,673.7478181,4879.507522,2602.710169,2879.4680670000002,3503.729636,927.8253427000001,524.8758493,577.8607471,15113.36194,835.8096107999999,876.032569,857.2503577,838.1239671,1348.225791,797.2631074,572.1995694,17364.275380000006,1302.878658,632.8039209,618.0140640999998,1481.150189,3688.037739,2702.620356,462.2114149,4191.100511,909.7221354000001,1576.97375,5267.219353,881.5706467,1890.2181170000001,1518.479984,1465.010784,1176.807031,8568.266228,1895.544073,3895.384018,874.2426069,1344.577953,3560.2331740000004,682.2662267999998,1408.678565,788.8550411],\"sizemode\":\"area\",\"sizeref\":283.80783225,\"symbol\":\"circle\"},\"mode\":\"markers\",\"name\":\"Africa\",\"showlegend\":true,\"type\":\"scattergeo\"},{\"geo\":\"geo\",\"hovertemplate\":\"<b>%{hovertext}</b><br><br>continent=Americas<br>year=1982<br>gdpPercap=%{marker.size}<br>iso_alpha=%{location}<extra></extra>\",\"hovertext\":[\"Argentina\",\"Bolivia\",\"Brazil\",\"Canada\",\"Chile\",\"Colombia\",\"Costa Rica\",\"Cuba\",\"Dominican Republic\",\"Ecuador\",\"El Salvador\",\"Guatemala\",\"Haiti\",\"Honduras\",\"Jamaica\",\"Mexico\",\"Nicaragua\",\"Panama\",\"Paraguay\",\"Peru\",\"Puerto Rico\",\"Trinidad and Tobago\",\"United States\",\"Uruguay\",\"Venezuela\"],\"legendgroup\":\"Americas\",\"locations\":[\"ARG\",\"BOL\",\"BRA\",\"CAN\",\"CHL\",\"COL\",\"CRI\",\"CUB\",\"DOM\",\"ECU\",\"SLV\",\"GTM\",\"HTI\",\"HND\",\"JAM\",\"MEX\",\"NIC\",\"PAN\",\"PRY\",\"PER\",\"PRI\",\"TTO\",\"USA\",\"URY\",\"VEN\"],\"marker\":{\"color\":\"#ab63fa\",\"size\":[8997.897412,3156.510452,7030.835878,22898.79214,5095.6657380000015,4397.575659,5262.734751,7316.918106999998,2861.092386,7213.7912670000005,4098.344175,4820.49479,2011.1595489999997,3121.760794000001,6068.05135,9611.147541,3470.338156000001,7009.601598,4258.5036039999995,6434.501797,10330.98915,9119.528607,25009.55914,6920.223051000001,11152.410109999999],\"sizemode\":\"area\",\"sizeref\":283.80783225,\"symbol\":\"circle\"},\"mode\":\"markers\",\"name\":\"Americas\",\"showlegend\":true,\"type\":\"scattergeo\"},{\"geo\":\"geo\",\"hovertemplate\":\"<b>%{hovertext}</b><br><br>continent=Oceania<br>year=1982<br>gdpPercap=%{marker.size}<br>iso_alpha=%{location}<extra></extra>\",\"hovertext\":[\"Australia\",\"New Zealand\"],\"legendgroup\":\"Oceania\",\"locations\":[\"AUS\",\"NZL\"],\"marker\":{\"color\":\"#FFA15A\",\"size\":[19477.009280000002,17632.4104],\"sizemode\":\"area\",\"sizeref\":283.80783225,\"symbol\":\"circle\"},\"mode\":\"markers\",\"name\":\"Oceania\",\"showlegend\":true,\"type\":\"scattergeo\"}],\"name\":\"1982\"},{\"data\":[{\"geo\":\"geo\",\"hovertemplate\":\"<b>%{hovertext}</b><br><br>continent=Asia<br>year=1987<br>gdpPercap=%{marker.size}<br>iso_alpha=%{location}<extra></extra>\",\"hovertext\":[\"Afghanistan\",\"Bahrain\",\"Bangladesh\",\"Cambodia\",\"China\",\"Hong Kong, China\",\"India\",\"Indonesia\",\"Iran\",\"Iraq\",\"Israel\",\"Japan\",\"Jordan\",\"Korea, Dem. Rep.\",\"Korea, Rep.\",\"Kuwait\",\"Lebanon\",\"Malaysia\",\"Mongolia\",\"Myanmar\",\"Nepal\",\"Oman\",\"Pakistan\",\"Philippines\",\"Saudi Arabia\",\"Singapore\",\"Sri Lanka\",\"Syria\",\"Taiwan\",\"Thailand\",\"Vietnam\",\"West Bank and Gaza\",\"Yemen, Rep.\"],\"legendgroup\":\"Asia\",\"locations\":[\"AFG\",\"BHR\",\"BGD\",\"KHM\",\"CHN\",\"HKG\",\"IND\",\"IDN\",\"IRN\",\"IRQ\",\"ISR\",\"JPN\",\"JOR\",\"KOR\",\"KOR\",\"KWT\",\"LBN\",\"MYS\",\"MNG\",\"MMR\",\"NPL\",\"OMN\",\"PAK\",\"PHL\",\"SAU\",\"SGP\",\"LKA\",\"SYR\",\"TWN\",\"THA\",\"VNM\",\"PSE\",\"YEM\"],\"marker\":{\"color\":\"#636efa\",\"size\":[852.3959447999997,18524.02406,751.9794035,683.8955732000003,1378.904018,20038.472690000002,976.5126756000001,1748.356961,6642.881371,11643.57268,17122.47986,22375.941890000002,4448.679912,4106.4923149999995,8533.088805,28118.42998,5377.091329,5249.802653,2338.008304,385.0,775.6324501,18115.223130000002,1704.686583,2189.634995,21198.26136,18861.53081,1876.766827,3116.774285,11054.56175,2982.653773,820.7994449,5107.197384,1971.741538],\"sizemode\":\"area\",\"sizeref\":283.80783225,\"symbol\":\"circle\"},\"mode\":\"markers\",\"name\":\"Asia\",\"showlegend\":true,\"type\":\"scattergeo\"},{\"geo\":\"geo\",\"hovertemplate\":\"<b>%{hovertext}</b><br><br>continent=Europe<br>year=1987<br>gdpPercap=%{marker.size}<br>iso_alpha=%{location}<extra></extra>\",\"hovertext\":[\"Albania\",\"Austria\",\"Belgium\",\"Bosnia and Herzegovina\",\"Bulgaria\",\"Croatia\",\"Czech Republic\",\"Denmark\",\"Finland\",\"France\",\"Germany\",\"Greece\",\"Hungary\",\"Iceland\",\"Ireland\",\"Italy\",\"Montenegro\",\"Netherlands\",\"Norway\",\"Poland\",\"Portugal\",\"Romania\",\"Serbia\",\"Slovak Republic\",\"Slovenia\",\"Spain\",\"Sweden\",\"Switzerland\",\"Turkey\",\"United Kingdom\"],\"legendgroup\":\"Europe\",\"locations\":[\"ALB\",\"AUT\",\"BEL\",\"BIH\",\"BGR\",\"HRV\",\"CZE\",\"DNK\",\"FIN\",\"FRA\",\"DEU\",\"GRC\",\"HUN\",\"ISL\",\"IRL\",\"ITA\",\"MNE\",\"NLD\",\"NOR\",\"POL\",\"PRT\",\"ROU\",\"SRB\",\"SVK\",\"SVN\",\"ESP\",\"SWE\",\"CHE\",\"TUR\",\"GBR\"],\"marker\":{\"color\":\"#EF553B\",\"size\":[3738.9327350000003,23687.82607,22525.56308,4314.114757,8239.854824,13822.58394,16310.4434,25116.17581,21141.01223,22066.44214,24639.18566,16120.528390000001,12986.47998,26923.206280000002,13872.86652,19207.234819999998,11732.51017,23651.32361,31540.9748,9082.351172,13039.30876,9696.273295,15870.878509999999,12037.26758,18678.53492,15764.98313,23586.92927,30281.704589999998,5089.043686,21664.787669999998],\"sizemode\":\"area\",\"sizeref\":283.80783225,\"symbol\":\"circle\"},\"mode\":\"markers\",\"name\":\"Europe\",\"showlegend\":true,\"type\":\"scattergeo\"},{\"geo\":\"geo\",\"hovertemplate\":\"<b>%{hovertext}</b><br><br>continent=Africa<br>year=1987<br>gdpPercap=%{marker.size}<br>iso_alpha=%{location}<extra></extra>\",\"hovertext\":[\"Algeria\",\"Angola\",\"Benin\",\"Botswana\",\"Burkina Faso\",\"Burundi\",\"Cameroon\",\"Central African Republic\",\"Chad\",\"Comoros\",\"Congo, Dem. Rep.\",\"Congo, Rep.\",\"Cote d'Ivoire\",\"Djibouti\",\"Egypt\",\"Equatorial Guinea\",\"Eritrea\",\"Ethiopia\",\"Gabon\",\"Gambia\",\"Ghana\",\"Guinea\",\"Guinea-Bissau\",\"Kenya\",\"Lesotho\",\"Liberia\",\"Libya\",\"Madagascar\",\"Malawi\",\"Mali\",\"Mauritania\",\"Mauritius\",\"Morocco\",\"Mozambique\",\"Namibia\",\"Niger\",\"Nigeria\",\"Reunion\",\"Rwanda\",\"Sao Tome and Principe\",\"Senegal\",\"Sierra Leone\",\"Somalia\",\"South Africa\",\"Sudan\",\"Swaziland\",\"Tanzania\",\"Togo\",\"Tunisia\",\"Uganda\",\"Zambia\",\"Zimbabwe\"],\"legendgroup\":\"Africa\",\"locations\":[\"DZA\",\"AGO\",\"BEN\",\"BWA\",\"BFA\",\"BDI\",\"CMR\",\"CAF\",\"TCD\",\"COM\",\"COD\",\"COG\",\"CIV\",\"DJI\",\"EGY\",\"GNQ\",\"ERI\",\"ETH\",\"GAB\",\"GMB\",\"GHA\",\"GIN\",\"GNB\",\"KEN\",\"LSO\",\"LBR\",\"LBY\",\"MDG\",\"MWI\",\"MLI\",\"MRT\",\"MUS\",\"MAR\",\"MOZ\",\"NAM\",\"NER\",\"NGA\",\"REU\",\"RWA\",\"STP\",\"SEN\",\"SLE\",\"SOM\",\"ZAF\",\"SDN\",\"SWZ\",\"TZA\",\"TGO\",\"TUN\",\"UGA\",\"ZMB\",\"ZWE\"],\"marker\":{\"color\":\"#00cc96\",\"size\":[5681.358539,2430.208311,1225.85601,6205.88385,912.0631417000001,621.8188188999999,2602.664206,844.8763504000003,952.3861289999999,1315.980812,672.774812,4201.194936999998,2156.9560690000008,2880.102568,3885.4607100000003,966.8968149,521.1341333,573.7413142000001,11864.408440000001,611.6588611000002,847.0061135,805.5724717999999,736.4153921,1361.936856,773.9932140999997,506.1138573,11770.5898,1155.4419480000001,635.5173633999998,684.1715576,1421.603576,4783.586903,2755.046991,389.87618460000004,3693.7313369999997,668.3000228,1385.029563,5303.377488,847.991217,1516.525457,1441.72072,1294.4477880000004,1093.244963,7825.823398,1507.819159,3984.8398119999997,831.8220794,1202.201361,3810.419296,617.7244065,1213.315116,706.1573059],\"sizemode\":\"area\",\"sizeref\":283.80783225,\"symbol\":\"circle\"},\"mode\":\"markers\",\"name\":\"Africa\",\"showlegend\":true,\"type\":\"scattergeo\"},{\"geo\":\"geo\",\"hovertemplate\":\"<b>%{hovertext}</b><br><br>continent=Americas<br>year=1987<br>gdpPercap=%{marker.size}<br>iso_alpha=%{location}<extra></extra>\",\"hovertext\":[\"Argentina\",\"Bolivia\",\"Brazil\",\"Canada\",\"Chile\",\"Colombia\",\"Costa Rica\",\"Cuba\",\"Dominican Republic\",\"Ecuador\",\"El Salvador\",\"Guatemala\",\"Haiti\",\"Honduras\",\"Jamaica\",\"Mexico\",\"Nicaragua\",\"Panama\",\"Paraguay\",\"Peru\",\"Puerto Rico\",\"Trinidad and Tobago\",\"United States\",\"Uruguay\",\"Venezuela\"],\"legendgroup\":\"Americas\",\"locations\":[\"ARG\",\"BOL\",\"BRA\",\"CAN\",\"CHL\",\"COL\",\"CRI\",\"CUB\",\"DOM\",\"ECU\",\"SLV\",\"GTM\",\"HTI\",\"HND\",\"JAM\",\"MEX\",\"NIC\",\"PAN\",\"PRY\",\"PER\",\"PRI\",\"TTO\",\"USA\",\"URY\",\"VEN\"],\"marker\":{\"color\":\"#ab63fa\",\"size\":[9139.671389,2753.6914899999997,7807.0958180000025,26626.515030000002,5547.063754,4903.2191,5629.915318,7532.924762999999,2899.842175,6481.776993,4140.442097,4246.485974,1823.015995,3023.0966989999997,6351.237495,8688.156003,2955.984375,7034.779161,3998.875695,6360.9434439999995,12281.34191,7388.597823,29884.35041000001,7452.398969,9883.584648],\"sizemode\":\"area\",\"sizeref\":283.80783225,\"symbol\":\"circle\"},\"mode\":\"markers\",\"name\":\"Americas\",\"showlegend\":true,\"type\":\"scattergeo\"},{\"geo\":\"geo\",\"hovertemplate\":\"<b>%{hovertext}</b><br><br>continent=Oceania<br>year=1987<br>gdpPercap=%{marker.size}<br>iso_alpha=%{location}<extra></extra>\",\"hovertext\":[\"Australia\",\"New Zealand\"],\"legendgroup\":\"Oceania\",\"locations\":[\"AUS\",\"NZL\"],\"marker\":{\"color\":\"#FFA15A\",\"size\":[21888.889030000002,19007.19129],\"sizemode\":\"area\",\"sizeref\":283.80783225,\"symbol\":\"circle\"},\"mode\":\"markers\",\"name\":\"Oceania\",\"showlegend\":true,\"type\":\"scattergeo\"}],\"name\":\"1987\"},{\"data\":[{\"geo\":\"geo\",\"hovertemplate\":\"<b>%{hovertext}</b><br><br>continent=Asia<br>year=1992<br>gdpPercap=%{marker.size}<br>iso_alpha=%{location}<extra></extra>\",\"hovertext\":[\"Afghanistan\",\"Bahrain\",\"Bangladesh\",\"Cambodia\",\"China\",\"Hong Kong, China\",\"India\",\"Indonesia\",\"Iran\",\"Iraq\",\"Israel\",\"Japan\",\"Jordan\",\"Korea, Dem. Rep.\",\"Korea, Rep.\",\"Kuwait\",\"Lebanon\",\"Malaysia\",\"Mongolia\",\"Myanmar\",\"Nepal\",\"Oman\",\"Pakistan\",\"Philippines\",\"Saudi Arabia\",\"Singapore\",\"Sri Lanka\",\"Syria\",\"Taiwan\",\"Thailand\",\"Vietnam\",\"West Bank and Gaza\",\"Yemen, Rep.\"],\"legendgroup\":\"Asia\",\"locations\":[\"AFG\",\"BHR\",\"BGD\",\"KHM\",\"CHN\",\"HKG\",\"IND\",\"IDN\",\"IRN\",\"IRQ\",\"ISR\",\"JPN\",\"JOR\",\"KOR\",\"KOR\",\"KWT\",\"LBN\",\"MYS\",\"MNG\",\"MMR\",\"NPL\",\"OMN\",\"PAK\",\"PHL\",\"SAU\",\"SGP\",\"LKA\",\"SYR\",\"TWN\",\"THA\",\"VNM\",\"PSE\",\"YEM\"],\"marker\":{\"color\":\"#636efa\",\"size\":[649.3413952000002,19035.579169999997,837.8101642999999,682.3031755,1655.784158,24757.60301,1164.406809,2383.140898,7235.6531879999975,3745.6406869999996,18051.52254,26824.895109999998,3431.5936469999997,3726.063507,12104.27872,34932.91959,6890.806854,7277.912802,1785.402016,347.0,897.7403604,18616.70691,1971.8294640000001,2279.324017000001,24841.617769999997,24769.8912,2153.7392219999997,3340.542768,15215.6579,4616.896545000001,989.0231487,6017.654756,1879.496673],\"sizemode\":\"area\",\"sizeref\":283.80783225,\"symbol\":\"circle\"},\"mode\":\"markers\",\"name\":\"Asia\",\"showlegend\":true,\"type\":\"scattergeo\"},{\"geo\":\"geo\",\"hovertemplate\":\"<b>%{hovertext}</b><br><br>continent=Europe<br>year=1992<br>gdpPercap=%{marker.size}<br>iso_alpha=%{location}<extra></extra>\",\"hovertext\":[\"Albania\",\"Austria\",\"Belgium\",\"Bosnia and Herzegovina\",\"Bulgaria\",\"Croatia\",\"Czech Republic\",\"Denmark\",\"Finland\",\"France\",\"Germany\",\"Greece\",\"Hungary\",\"Iceland\",\"Ireland\",\"Italy\",\"Montenegro\",\"Netherlands\",\"Norway\",\"Poland\",\"Portugal\",\"Romania\",\"Serbia\",\"Slovak Republic\",\"Slovenia\",\"Spain\",\"Sweden\",\"Switzerland\",\"Turkey\",\"United Kingdom\"],\"legendgroup\":\"Europe\",\"locations\":[\"ALB\",\"AUT\",\"BEL\",\"BIH\",\"BGR\",\"HRV\",\"CZE\",\"DNK\",\"FIN\",\"FRA\",\"DEU\",\"GRC\",\"HUN\",\"ISL\",\"IRL\",\"ITA\",\"MNE\",\"NLD\",\"NOR\",\"POL\",\"PRT\",\"ROU\",\"SRB\",\"SVK\",\"SVN\",\"ESP\",\"SWE\",\"CHE\",\"TUR\",\"GBR\"],\"marker\":{\"color\":\"#EF553B\",\"size\":[2497.4379010000002,27042.01868,25575.57069,2546.781445,6302.623438000001,8447.794873,14297.021219999999,26406.73985,20647.16499,24703.79615,26505.30317,17541.49634,10535.62855,25144.39201,17558.81555,22013.64486,7003.3390370000025,26790.94961,33965.66115,7738.881247,16207.266630000002,6598.409903,9325.068238,9498.467723,14214.71681,18603.06452,23880.01683,31871.5303,5678.348271,22705.09254],\"sizemode\":\"area\",\"sizeref\":283.80783225,\"symbol\":\"circle\"},\"mode\":\"markers\",\"name\":\"Europe\",\"showlegend\":true,\"type\":\"scattergeo\"},{\"geo\":\"geo\",\"hovertemplate\":\"<b>%{hovertext}</b><br><br>continent=Africa<br>year=1992<br>gdpPercap=%{marker.size}<br>iso_alpha=%{location}<extra></extra>\",\"hovertext\":[\"Algeria\",\"Angola\",\"Benin\",\"Botswana\",\"Burkina Faso\",\"Burundi\",\"Cameroon\",\"Central African Republic\",\"Chad\",\"Comoros\",\"Congo, Dem. Rep.\",\"Congo, Rep.\",\"Cote d'Ivoire\",\"Djibouti\",\"Egypt\",\"Equatorial Guinea\",\"Eritrea\",\"Ethiopia\",\"Gabon\",\"Gambia\",\"Ghana\",\"Guinea\",\"Guinea-Bissau\",\"Kenya\",\"Lesotho\",\"Liberia\",\"Libya\",\"Madagascar\",\"Malawi\",\"Mali\",\"Mauritania\",\"Mauritius\",\"Morocco\",\"Mozambique\",\"Namibia\",\"Niger\",\"Nigeria\",\"Reunion\",\"Rwanda\",\"Sao Tome and Principe\",\"Senegal\",\"Sierra Leone\",\"Somalia\",\"South Africa\",\"Sudan\",\"Swaziland\",\"Tanzania\",\"Togo\",\"Tunisia\",\"Uganda\",\"Zambia\",\"Zimbabwe\"],\"legendgroup\":\"Africa\",\"locations\":[\"DZA\",\"AGO\",\"BEN\",\"BWA\",\"BFA\",\"BDI\",\"CMR\",\"CAF\",\"TCD\",\"COM\",\"COD\",\"COG\",\"CIV\",\"DJI\",\"EGY\",\"GNQ\",\"ERI\",\"ETH\",\"GAB\",\"GMB\",\"GHA\",\"GIN\",\"GNB\",\"KEN\",\"LSO\",\"LBR\",\"LBY\",\"MDG\",\"MWI\",\"MLI\",\"MRT\",\"MUS\",\"MAR\",\"MOZ\",\"NAM\",\"NER\",\"NGA\",\"REU\",\"RWA\",\"STP\",\"SEN\",\"SLE\",\"SOM\",\"ZAF\",\"SDN\",\"SWZ\",\"TZA\",\"TGO\",\"TUN\",\"UGA\",\"ZMB\",\"ZWE\"],\"marker\":{\"color\":\"#00cc96\",\"size\":[5023.216647,2627.8456850000002,1191.207681,7954.111645,931.7527731,631.6998778,1793.1632780000002,747.9055252,1058.0643,1246.90737,457.7191807,4016.239529,1648.073791,2377.156192000001,3794.755195,1132.055034,582.8585102000002,421.3534653,13522.157519999999,665.6244126,925.0601539999999,794.3484384,745.5398706,1341.9217210000004,977.4862724999999,636.6229191000001,9640.138501000001,1040.6761900000001,563.2000145,739.014375,1361.369784,6058.253846000001,2948.047252,410.89682389999996,3804.537999,581.182725,1619.848217,6101.2558229999995,737.0685949,1428.777814,1367.899369,1068.696278,926.9602964,7225.069257999998,1492.197043,3553.0224,825.682454,1034.298904,4332.720164,644.1707968999998,1210.884633,693.4207856],\"sizemode\":\"area\",\"sizeref\":283.80783225,\"symbol\":\"circle\"},\"mode\":\"markers\",\"name\":\"Africa\",\"showlegend\":true,\"type\":\"scattergeo\"},{\"geo\":\"geo\",\"hovertemplate\":\"<b>%{hovertext}</b><br><br>continent=Americas<br>year=1992<br>gdpPercap=%{marker.size}<br>iso_alpha=%{location}<extra></extra>\",\"hovertext\":[\"Argentina\",\"Bolivia\",\"Brazil\",\"Canada\",\"Chile\",\"Colombia\",\"Costa Rica\",\"Cuba\",\"Dominican Republic\",\"Ecuador\",\"El Salvador\",\"Guatemala\",\"Haiti\",\"Honduras\",\"Jamaica\",\"Mexico\",\"Nicaragua\",\"Panama\",\"Paraguay\",\"Peru\",\"Puerto Rico\",\"Trinidad and Tobago\",\"United States\",\"Uruguay\",\"Venezuela\"],\"legendgroup\":\"Americas\",\"locations\":[\"ARG\",\"BOL\",\"BRA\",\"CAN\",\"CHL\",\"COL\",\"CRI\",\"CUB\",\"DOM\",\"ECU\",\"SLV\",\"GTM\",\"HTI\",\"HND\",\"JAM\",\"MEX\",\"NIC\",\"PAN\",\"PRY\",\"PER\",\"PRI\",\"TTO\",\"USA\",\"URY\",\"VEN\"],\"marker\":{\"color\":\"#ab63fa\",\"size\":[9308.41871,2961.699694,6950.2830209999975,26342.88426,7596.125964,5444.648617,6160.416317,5592.843963,3044.214214,7103.7025950000025,4444.2317,4439.4508399999995,1456.309517,3081.694603,7404.923685,9472.384295,2170.151724,6618.74305,4196.411078,4446.380924,14641.587109999999,7370.990932,32003.93224,8137.004775,10733.926309999999],\"sizemode\":\"area\",\"sizeref\":283.80783225,\"symbol\":\"circle\"},\"mode\":\"markers\",\"name\":\"Americas\",\"showlegend\":true,\"type\":\"scattergeo\"},{\"geo\":\"geo\",\"hovertemplate\":\"<b>%{hovertext}</b><br><br>continent=Oceania<br>year=1992<br>gdpPercap=%{marker.size}<br>iso_alpha=%{location}<extra></extra>\",\"hovertext\":[\"Australia\",\"New Zealand\"],\"legendgroup\":\"Oceania\",\"locations\":[\"AUS\",\"NZL\"],\"marker\":{\"color\":\"#FFA15A\",\"size\":[23424.76683,18363.324940000002],\"sizemode\":\"area\",\"sizeref\":283.80783225,\"symbol\":\"circle\"},\"mode\":\"markers\",\"name\":\"Oceania\",\"showlegend\":true,\"type\":\"scattergeo\"}],\"name\":\"1992\"},{\"data\":[{\"geo\":\"geo\",\"hovertemplate\":\"<b>%{hovertext}</b><br><br>continent=Asia<br>year=1997<br>gdpPercap=%{marker.size}<br>iso_alpha=%{location}<extra></extra>\",\"hovertext\":[\"Afghanistan\",\"Bahrain\",\"Bangladesh\",\"Cambodia\",\"China\",\"Hong Kong, China\",\"India\",\"Indonesia\",\"Iran\",\"Iraq\",\"Israel\",\"Japan\",\"Jordan\",\"Korea, Dem. Rep.\",\"Korea, Rep.\",\"Kuwait\",\"Lebanon\",\"Malaysia\",\"Mongolia\",\"Myanmar\",\"Nepal\",\"Oman\",\"Pakistan\",\"Philippines\",\"Saudi Arabia\",\"Singapore\",\"Sri Lanka\",\"Syria\",\"Taiwan\",\"Thailand\",\"Vietnam\",\"West Bank and Gaza\",\"Yemen, Rep.\"],\"legendgroup\":\"Asia\",\"locations\":[\"AFG\",\"BHR\",\"BGD\",\"KHM\",\"CHN\",\"HKG\",\"IND\",\"IDN\",\"IRN\",\"IRQ\",\"ISR\",\"JPN\",\"JOR\",\"KOR\",\"KOR\",\"KWT\",\"LBN\",\"MYS\",\"MNG\",\"MMR\",\"NPL\",\"OMN\",\"PAK\",\"PHL\",\"SAU\",\"SGP\",\"LKA\",\"SYR\",\"TWN\",\"THA\",\"VNM\",\"PSE\",\"YEM\"],\"marker\":{\"color\":\"#636efa\",\"size\":[635.341351,20292.01679,972.7700352,734.28517,2289.234136,28377.632189999997,1458.817442,3119.335603,8263.590301,3076.239795,20896.60924,28816.58499,3645.379572,1690.756814,15993.52796,40300.61996,8754.96385,10132.90964,1902.2521,415.0,1010.892138,19702.055809999998,2049.3505210000008,2536.534925,20586.69019,33519.4766,2664.477257,4014.238972,20206.82098,5852.625497,1385.896769,7110.667619,2117.484526],\"sizemode\":\"area\",\"sizeref\":283.80783225,\"symbol\":\"circle\"},\"mode\":\"markers\",\"name\":\"Asia\",\"showlegend\":true,\"type\":\"scattergeo\"},{\"geo\":\"geo\",\"hovertemplate\":\"<b>%{hovertext}</b><br><br>continent=Europe<br>year=1997<br>gdpPercap=%{marker.size}<br>iso_alpha=%{location}<extra></extra>\",\"hovertext\":[\"Albania\",\"Austria\",\"Belgium\",\"Bosnia and Herzegovina\",\"Bulgaria\",\"Croatia\",\"Czech Republic\",\"Denmark\",\"Finland\",\"France\",\"Germany\",\"Greece\",\"Hungary\",\"Iceland\",\"Ireland\",\"Italy\",\"Montenegro\",\"Netherlands\",\"Norway\",\"Poland\",\"Portugal\",\"Romania\",\"Serbia\",\"Slovak Republic\",\"Slovenia\",\"Spain\",\"Sweden\",\"Switzerland\",\"Turkey\",\"United Kingdom\"],\"legendgroup\":\"Europe\",\"locations\":[\"ALB\",\"AUT\",\"BEL\",\"BIH\",\"BGR\",\"HRV\",\"CZE\",\"DNK\",\"FIN\",\"FRA\",\"DEU\",\"GRC\",\"HUN\",\"ISL\",\"IRL\",\"ITA\",\"MNE\",\"NLD\",\"NOR\",\"POL\",\"PRT\",\"ROU\",\"SRB\",\"SVK\",\"SVN\",\"ESP\",\"SWE\",\"CHE\",\"TUR\",\"GBR\"],\"marker\":{\"color\":\"#EF553B\",\"size\":[3193.054604,29095.920660000003,27561.196630000002,4766.355904,5970.38876,9875.604515,16048.51424,29804.34567,23723.9502,25889.78487,27788.88416,18747.69814,11712.7768,28061.099660000003,24521.94713,24675.02446,6465.613349,30246.13063,41283.16433,10159.58368,17641.03156,7346.547556999999,7914.320304000003,12126.23065,17161.10735,20445.29896,25266.59499,32135.323010000004,6601.429915,26074.53136],\"sizemode\":\"area\",\"sizeref\":283.80783225,\"symbol\":\"circle\"},\"mode\":\"markers\",\"name\":\"Europe\",\"showlegend\":true,\"type\":\"scattergeo\"},{\"geo\":\"geo\",\"hovertemplate\":\"<b>%{hovertext}</b><br><br>continent=Africa<br>year=1997<br>gdpPercap=%{marker.size}<br>iso_alpha=%{location}<extra></extra>\",\"hovertext\":[\"Algeria\",\"Angola\",\"Benin\",\"Botswana\",\"Burkina Faso\",\"Burundi\",\"Cameroon\",\"Central African Republic\",\"Chad\",\"Comoros\",\"Congo, Dem. Rep.\",\"Congo, Rep.\",\"Cote d'Ivoire\",\"Djibouti\",\"Egypt\",\"Equatorial Guinea\",\"Eritrea\",\"Ethiopia\",\"Gabon\",\"Gambia\",\"Ghana\",\"Guinea\",\"Guinea-Bissau\",\"Kenya\",\"Lesotho\",\"Liberia\",\"Libya\",\"Madagascar\",\"Malawi\",\"Mali\",\"Mauritania\",\"Mauritius\",\"Morocco\",\"Mozambique\",\"Namibia\",\"Niger\",\"Nigeria\",\"Reunion\",\"Rwanda\",\"Sao Tome and Principe\",\"Senegal\",\"Sierra Leone\",\"Somalia\",\"South Africa\",\"Sudan\",\"Swaziland\",\"Tanzania\",\"Togo\",\"Tunisia\",\"Uganda\",\"Zambia\",\"Zimbabwe\"],\"legendgroup\":\"Africa\",\"locations\":[\"DZA\",\"AGO\",\"BEN\",\"BWA\",\"BFA\",\"BDI\",\"CMR\",\"CAF\",\"TCD\",\"COM\",\"COD\",\"COG\",\"CIV\",\"DJI\",\"EGY\",\"GNQ\",\"ERI\",\"ETH\",\"GAB\",\"GMB\",\"GHA\",\"GIN\",\"GNB\",\"KEN\",\"LSO\",\"LBR\",\"LBY\",\"MDG\",\"MWI\",\"MLI\",\"MRT\",\"MUS\",\"MAR\",\"MOZ\",\"NAM\",\"NER\",\"NGA\",\"REU\",\"RWA\",\"STP\",\"SEN\",\"SLE\",\"SOM\",\"ZAF\",\"SDN\",\"SWZ\",\"TZA\",\"TGO\",\"TUN\",\"UGA\",\"ZMB\",\"ZWE\"],\"marker\":{\"color\":\"#00cc96\",\"size\":[4797.295051,2277.140884,1232.975292,8647.142313,946.2949617999999,463.1151478,1694.337469,740.5063317,1004.9613529999999,1173.618235,312.188423,3484.1643759999997,1786.265407,1895.016984,4173.181797,2814.480755,913.4707900000001,515.8894013,14722.841880000002,653.7301704,1005.2458119999999,869.4497667999997,796.6644681,1360.4850210000004,1186.147994,609.1739508,9467.446056,986.2958956,692.2758102999999,790.2579846,1483.1361359999999,7425.7052950000025,2982.101858,472.34607710000006,3899.52426,580.3052092,1624.941275,6071.941411,589.9445051,1339.076036,1392.368347,574.6481576,930.5964284,7479.188244,1632.2107640000006,3876.7684600000002,789.1862231,982.2869242999999,4876.798614,816.559081,1071.353818,792.4499602999997],\"sizemode\":\"area\",\"sizeref\":283.80783225,\"symbol\":\"circle\"},\"mode\":\"markers\",\"name\":\"Africa\",\"showlegend\":true,\"type\":\"scattergeo\"},{\"geo\":\"geo\",\"hovertemplate\":\"<b>%{hovertext}</b><br><br>continent=Americas<br>year=1997<br>gdpPercap=%{marker.size}<br>iso_alpha=%{location}<extra></extra>\",\"hovertext\":[\"Argentina\",\"Bolivia\",\"Brazil\",\"Canada\",\"Chile\",\"Colombia\",\"Costa Rica\",\"Cuba\",\"Dominican Republic\",\"Ecuador\",\"El Salvador\",\"Guatemala\",\"Haiti\",\"Honduras\",\"Jamaica\",\"Mexico\",\"Nicaragua\",\"Panama\",\"Paraguay\",\"Peru\",\"Puerto Rico\",\"Trinidad and Tobago\",\"United States\",\"Uruguay\",\"Venezuela\"],\"legendgroup\":\"Americas\",\"locations\":[\"ARG\",\"BOL\",\"BRA\",\"CAN\",\"CHL\",\"COL\",\"CRI\",\"CUB\",\"DOM\",\"ECU\",\"SLV\",\"GTM\",\"HTI\",\"HND\",\"JAM\",\"MEX\",\"NIC\",\"PAN\",\"PRY\",\"PER\",\"PRI\",\"TTO\",\"USA\",\"URY\",\"VEN\"],\"marker\":{\"color\":\"#ab63fa\",\"size\":[10967.28195,3326.143191,7957.9808239999975,28954.92589,10118.053179999999,6117.361746000001,6677.045314,5431.990415,3614.101285,7429.455876999998,5154.825496,4684.313807,1341.7269310000001,3160.454906,7121.924704000001,9767.29753,2253.023004,7113.692252,4247.400261,5838.347657,16999.4333,8792.573126000001,35767.43303,9230.240708,10165.49518],\"sizemode\":\"area\",\"sizeref\":283.80783225,\"symbol\":\"circle\"},\"mode\":\"markers\",\"name\":\"Americas\",\"showlegend\":true,\"type\":\"scattergeo\"},{\"geo\":\"geo\",\"hovertemplate\":\"<b>%{hovertext}</b><br><br>continent=Oceania<br>year=1997<br>gdpPercap=%{marker.size}<br>iso_alpha=%{location}<extra></extra>\",\"hovertext\":[\"Australia\",\"New Zealand\"],\"legendgroup\":\"Oceania\",\"locations\":[\"AUS\",\"NZL\"],\"marker\":{\"color\":\"#FFA15A\",\"size\":[26997.936569999998,21050.41377],\"sizemode\":\"area\",\"sizeref\":283.80783225,\"symbol\":\"circle\"},\"mode\":\"markers\",\"name\":\"Oceania\",\"showlegend\":true,\"type\":\"scattergeo\"}],\"name\":\"1997\"},{\"data\":[{\"geo\":\"geo\",\"hovertemplate\":\"<b>%{hovertext}</b><br><br>continent=Asia<br>year=2002<br>gdpPercap=%{marker.size}<br>iso_alpha=%{location}<extra></extra>\",\"hovertext\":[\"Afghanistan\",\"Bahrain\",\"Bangladesh\",\"Cambodia\",\"China\",\"Hong Kong, China\",\"India\",\"Indonesia\",\"Iran\",\"Iraq\",\"Israel\",\"Japan\",\"Jordan\",\"Korea, Dem. Rep.\",\"Korea, Rep.\",\"Kuwait\",\"Lebanon\",\"Malaysia\",\"Mongolia\",\"Myanmar\",\"Nepal\",\"Oman\",\"Pakistan\",\"Philippines\",\"Saudi Arabia\",\"Singapore\",\"Sri Lanka\",\"Syria\",\"Taiwan\",\"Thailand\",\"Vietnam\",\"West Bank and Gaza\",\"Yemen, Rep.\"],\"legendgroup\":\"Asia\",\"locations\":[\"AFG\",\"BHR\",\"BGD\",\"KHM\",\"CHN\",\"HKG\",\"IND\",\"IDN\",\"IRN\",\"IRQ\",\"ISR\",\"JPN\",\"JOR\",\"KOR\",\"KOR\",\"KWT\",\"LBN\",\"MYS\",\"MNG\",\"MMR\",\"NPL\",\"OMN\",\"PAK\",\"PHL\",\"SAU\",\"SGP\",\"LKA\",\"SYR\",\"TWN\",\"THA\",\"VNM\",\"PSE\",\"YEM\"],\"marker\":{\"color\":\"#636efa\",\"size\":[726.7340548,23403.559269999998,1136.3904300000004,896.2260152999999,3119.280896,30209.01516000001,1746.769454,2873.91287,9240.761975,4390.717312,21905.59514,28604.5919,3844.9171939999997,1646.758151,19233.98818,35110.10566,9313.93883,10206.97794,2140.7393230000002,611.0,1057.206311,19774.83687,2092.712441,2650.921068,19014.54118,36023.1054,3015.3788329999998,4090.9253310000004,23235.42329,5913.187529,1764.456677,4515.487575,2234.820827],\"sizemode\":\"area\",\"sizeref\":283.80783225,\"symbol\":\"circle\"},\"mode\":\"markers\",\"name\":\"Asia\",\"showlegend\":true,\"type\":\"scattergeo\"},{\"geo\":\"geo\",\"hovertemplate\":\"<b>%{hovertext}</b><br><br>continent=Europe<br>year=2002<br>gdpPercap=%{marker.size}<br>iso_alpha=%{location}<extra></extra>\",\"hovertext\":[\"Albania\",\"Austria\",\"Belgium\",\"Bosnia and Herzegovina\",\"Bulgaria\",\"Croatia\",\"Czech Republic\",\"Denmark\",\"Finland\",\"France\",\"Germany\",\"Greece\",\"Hungary\",\"Iceland\",\"Ireland\",\"Italy\",\"Montenegro\",\"Netherlands\",\"Norway\",\"Poland\",\"Portugal\",\"Romania\",\"Serbia\",\"Slovak Republic\",\"Slovenia\",\"Spain\",\"Sweden\",\"Switzerland\",\"Turkey\",\"United Kingdom\"],\"legendgroup\":\"Europe\",\"locations\":[\"ALB\",\"AUT\",\"BEL\",\"BIH\",\"BGR\",\"HRV\",\"CZE\",\"DNK\",\"FIN\",\"FRA\",\"DEU\",\"GRC\",\"HUN\",\"ISL\",\"IRL\",\"ITA\",\"MNE\",\"NLD\",\"NOR\",\"POL\",\"PRT\",\"ROU\",\"SRB\",\"SVK\",\"SVN\",\"ESP\",\"SWE\",\"CHE\",\"TUR\",\"GBR\"],\"marker\":{\"color\":\"#EF553B\",\"size\":[4604.211737,32417.607689999997,30485.88375,6018.975239,7696.777725,11628.38895,17596.210219999994,32166.500060000002,28204.59057,28926.032339999998,30035.80198,22514.2548,14843.93556,31163.201960000002,34077.04939,27968.098169999997,6557.194282,33724.75778,44683.97525,12002.23908,19970.90787,7885.360081,7236.075251,13638.778369999998,20660.01936,24835.47166,29341.63093000001,34480.95771,6508.085718,29478.99919],\"sizemode\":\"area\",\"sizeref\":283.80783225,\"symbol\":\"circle\"},\"mode\":\"markers\",\"name\":\"Europe\",\"showlegend\":true,\"type\":\"scattergeo\"},{\"geo\":\"geo\",\"hovertemplate\":\"<b>%{hovertext}</b><br><br>continent=Africa<br>year=2002<br>gdpPercap=%{marker.size}<br>iso_alpha=%{location}<extra></extra>\",\"hovertext\":[\"Algeria\",\"Angola\",\"Benin\",\"Botswana\",\"Burkina Faso\",\"Burundi\",\"Cameroon\",\"Central African Republic\",\"Chad\",\"Comoros\",\"Congo, Dem. Rep.\",\"Congo, Rep.\",\"Cote d'Ivoire\",\"Djibouti\",\"Egypt\",\"Equatorial Guinea\",\"Eritrea\",\"Ethiopia\",\"Gabon\",\"Gambia\",\"Ghana\",\"Guinea\",\"Guinea-Bissau\",\"Kenya\",\"Lesotho\",\"Liberia\",\"Libya\",\"Madagascar\",\"Malawi\",\"Mali\",\"Mauritania\",\"Mauritius\",\"Morocco\",\"Mozambique\",\"Namibia\",\"Niger\",\"Nigeria\",\"Reunion\",\"Rwanda\",\"Sao Tome and Principe\",\"Senegal\",\"Sierra Leone\",\"Somalia\",\"South Africa\",\"Sudan\",\"Swaziland\",\"Tanzania\",\"Togo\",\"Tunisia\",\"Uganda\",\"Zambia\",\"Zimbabwe\"],\"legendgroup\":\"Africa\",\"locations\":[\"DZA\",\"AGO\",\"BEN\",\"BWA\",\"BFA\",\"BDI\",\"CMR\",\"CAF\",\"TCD\",\"COM\",\"COD\",\"COG\",\"CIV\",\"DJI\",\"EGY\",\"GNQ\",\"ERI\",\"ETH\",\"GAB\",\"GMB\",\"GHA\",\"GIN\",\"GNB\",\"KEN\",\"LSO\",\"LBR\",\"LBY\",\"MDG\",\"MWI\",\"MLI\",\"MRT\",\"MUS\",\"MAR\",\"MOZ\",\"NAM\",\"NER\",\"NGA\",\"REU\",\"RWA\",\"STP\",\"SEN\",\"SLE\",\"SOM\",\"ZAF\",\"SDN\",\"SWZ\",\"TZA\",\"TGO\",\"TUN\",\"UGA\",\"ZMB\",\"ZWE\"],\"marker\":{\"color\":\"#00cc96\",\"size\":[5288.040382,2773.287312,1372.877931,11003.60508,1037.645221,446.4035126,1934.0114489999999,738.6906068,1156.18186,1075.811558,241.16587650000002,3484.06197,1648.800823,1908.2608670000002,4754.604414,7703.4959,765.3500015,530.0535319,12521.71392,660.5855997,1111.9845779999996,945.5835837000001,575.7047176,1287.514732,1275.184575,531.4823679,9534.677467,894.6370822,665.4231186000002,951.4097517999999,1579.0195429999999,9021.815894,3258.495584,633.6179466,4072.3247509999997,601.0745012,1615.2863949999999,6316.1652,785.6537647999999,1353.09239,1519.635262,699.4897129999997,882.0818218000003,7710.946444,1993.398314,4128.116943,899.0742111,886.2205765000001,5722.8956549999975,927.7210018,1071.6139380000004,672.0386227000001],\"sizemode\":\"area\",\"sizeref\":283.80783225,\"symbol\":\"circle\"},\"mode\":\"markers\",\"name\":\"Africa\",\"showlegend\":true,\"type\":\"scattergeo\"},{\"geo\":\"geo\",\"hovertemplate\":\"<b>%{hovertext}</b><br><br>continent=Americas<br>year=2002<br>gdpPercap=%{marker.size}<br>iso_alpha=%{location}<extra></extra>\",\"hovertext\":[\"Argentina\",\"Bolivia\",\"Brazil\",\"Canada\",\"Chile\",\"Colombia\",\"Costa Rica\",\"Cuba\",\"Dominican Republic\",\"Ecuador\",\"El Salvador\",\"Guatemala\",\"Haiti\",\"Honduras\",\"Jamaica\",\"Mexico\",\"Nicaragua\",\"Panama\",\"Paraguay\",\"Peru\",\"Puerto Rico\",\"Trinidad and Tobago\",\"United States\",\"Uruguay\",\"Venezuela\"],\"legendgroup\":\"Americas\",\"locations\":[\"ARG\",\"BOL\",\"BRA\",\"CAN\",\"CHL\",\"COL\",\"CRI\",\"CUB\",\"DOM\",\"ECU\",\"SLV\",\"GTM\",\"HTI\",\"HND\",\"JAM\",\"MEX\",\"NIC\",\"PAN\",\"PRY\",\"PER\",\"PRI\",\"TTO\",\"USA\",\"URY\",\"VEN\"],\"marker\":{\"color\":\"#ab63fa\",\"size\":[8797.640716,3413.26269,8131.212843000001,33328.96507,10778.78385,5755.259962,7723.4471950000025,6340.646683,4563.808154,5773.0445119999995,5351.568665999999,4858.347495,1270.364932,3099.72866,6994.774861,10742.44053,2474.548819,7356.031934000002,3783.674243,5909.020073,18855.606180000002,11460.60023,39097.09955,7727.002004000001,8605.047831],\"sizemode\":\"area\",\"sizeref\":283.80783225,\"symbol\":\"circle\"},\"mode\":\"markers\",\"name\":\"Americas\",\"showlegend\":true,\"type\":\"scattergeo\"},{\"geo\":\"geo\",\"hovertemplate\":\"<b>%{hovertext}</b><br><br>continent=Oceania<br>year=2002<br>gdpPercap=%{marker.size}<br>iso_alpha=%{location}<extra></extra>\",\"hovertext\":[\"Australia\",\"New Zealand\"],\"legendgroup\":\"Oceania\",\"locations\":[\"AUS\",\"NZL\"],\"marker\":{\"color\":\"#FFA15A\",\"size\":[30687.75473,23189.80135],\"sizemode\":\"area\",\"sizeref\":283.80783225,\"symbol\":\"circle\"},\"mode\":\"markers\",\"name\":\"Oceania\",\"showlegend\":true,\"type\":\"scattergeo\"}],\"name\":\"2002\"},{\"data\":[{\"geo\":\"geo\",\"hovertemplate\":\"<b>%{hovertext}</b><br><br>continent=Asia<br>year=2007<br>gdpPercap=%{marker.size}<br>iso_alpha=%{location}<extra></extra>\",\"hovertext\":[\"Afghanistan\",\"Bahrain\",\"Bangladesh\",\"Cambodia\",\"China\",\"Hong Kong, China\",\"India\",\"Indonesia\",\"Iran\",\"Iraq\",\"Israel\",\"Japan\",\"Jordan\",\"Korea, Dem. Rep.\",\"Korea, Rep.\",\"Kuwait\",\"Lebanon\",\"Malaysia\",\"Mongolia\",\"Myanmar\",\"Nepal\",\"Oman\",\"Pakistan\",\"Philippines\",\"Saudi Arabia\",\"Singapore\",\"Sri Lanka\",\"Syria\",\"Taiwan\",\"Thailand\",\"Vietnam\",\"West Bank and Gaza\",\"Yemen, Rep.\"],\"legendgroup\":\"Asia\",\"locations\":[\"AFG\",\"BHR\",\"BGD\",\"KHM\",\"CHN\",\"HKG\",\"IND\",\"IDN\",\"IRN\",\"IRQ\",\"ISR\",\"JPN\",\"JOR\",\"KOR\",\"KOR\",\"KWT\",\"LBN\",\"MYS\",\"MNG\",\"MMR\",\"NPL\",\"OMN\",\"PAK\",\"PHL\",\"SAU\",\"SGP\",\"LKA\",\"SYR\",\"TWN\",\"THA\",\"VNM\",\"PSE\",\"YEM\"],\"marker\":{\"color\":\"#636efa\",\"size\":[974.5803384,29796.048339999998,1391.253792,1713.7786859999999,4959.1148539999995,39724.97867,2452.210407,3540.6515640000002,11605.71449,4471.061906,25523.2771,31656.06806,4519.461171,1593.06548,23348.13973000001,47306.98978,10461.05868,12451.6558,3095.772271000001,944.0,1091.359778,22316.19287,2605.94758,3190.481016,21654.83194,47143.179639999995,3970.0954070000003,4184.548089,28718.27684,7458.396326999998,2441.576404,3025.349798,2280.769906],\"sizemode\":\"area\",\"sizeref\":283.80783225,\"symbol\":\"circle\"},\"mode\":\"markers\",\"name\":\"Asia\",\"showlegend\":true,\"type\":\"scattergeo\"},{\"geo\":\"geo\",\"hovertemplate\":\"<b>%{hovertext}</b><br><br>continent=Europe<br>year=2007<br>gdpPercap=%{marker.size}<br>iso_alpha=%{location}<extra></extra>\",\"hovertext\":[\"Albania\",\"Austria\",\"Belgium\",\"Bosnia and Herzegovina\",\"Bulgaria\",\"Croatia\",\"Czech Republic\",\"Denmark\",\"Finland\",\"France\",\"Germany\",\"Greece\",\"Hungary\",\"Iceland\",\"Ireland\",\"Italy\",\"Montenegro\",\"Netherlands\",\"Norway\",\"Poland\",\"Portugal\",\"Romania\",\"Serbia\",\"Slovak Republic\",\"Slovenia\",\"Spain\",\"Sweden\",\"Switzerland\",\"Turkey\",\"United Kingdom\"],\"legendgroup\":\"Europe\",\"locations\":[\"ALB\",\"AUT\",\"BEL\",\"BIH\",\"BGR\",\"HRV\",\"CZE\",\"DNK\",\"FIN\",\"FRA\",\"DEU\",\"GRC\",\"HUN\",\"ISL\",\"IRL\",\"ITA\",\"MNE\",\"NLD\",\"NOR\",\"POL\",\"PRT\",\"ROU\",\"SRB\",\"SVK\",\"SVN\",\"ESP\",\"SWE\",\"CHE\",\"TUR\",\"GBR\"],\"marker\":{\"color\":\"#EF553B\",\"size\":[5937.0295259999975,36126.4927,33692.60508,7446.298803,10680.79282,14619.222719999998,22833.30851,35278.41874,33207.0844,30470.0167,32170.37442,27538.41188,18008.94444,36180.789189999996,40675.99635,28569.7197,9253.896111,36797.93332,49357.19017,15389.924680000002,20509.64777,10808.47561,9786.534714,18678.31435,25768.25759,28821.0637,33859.74835,37506.419069999996,8458.276384,33203.26128],\"sizemode\":\"area\",\"sizeref\":283.80783225,\"symbol\":\"circle\"},\"mode\":\"markers\",\"name\":\"Europe\",\"showlegend\":true,\"type\":\"scattergeo\"},{\"geo\":\"geo\",\"hovertemplate\":\"<b>%{hovertext}</b><br><br>continent=Africa<br>year=2007<br>gdpPercap=%{marker.size}<br>iso_alpha=%{location}<extra></extra>\",\"hovertext\":[\"Algeria\",\"Angola\",\"Benin\",\"Botswana\",\"Burkina Faso\",\"Burundi\",\"Cameroon\",\"Central African Republic\",\"Chad\",\"Comoros\",\"Congo, Dem. Rep.\",\"Congo, Rep.\",\"Cote d'Ivoire\",\"Djibouti\",\"Egypt\",\"Equatorial Guinea\",\"Eritrea\",\"Ethiopia\",\"Gabon\",\"Gambia\",\"Ghana\",\"Guinea\",\"Guinea-Bissau\",\"Kenya\",\"Lesotho\",\"Liberia\",\"Libya\",\"Madagascar\",\"Malawi\",\"Mali\",\"Mauritania\",\"Mauritius\",\"Morocco\",\"Mozambique\",\"Namibia\",\"Niger\",\"Nigeria\",\"Reunion\",\"Rwanda\",\"Sao Tome and Principe\",\"Senegal\",\"Sierra Leone\",\"Somalia\",\"South Africa\",\"Sudan\",\"Swaziland\",\"Tanzania\",\"Togo\",\"Tunisia\",\"Uganda\",\"Zambia\",\"Zimbabwe\"],\"legendgroup\":\"Africa\",\"locations\":[\"DZA\",\"AGO\",\"BEN\",\"BWA\",\"BFA\",\"BDI\",\"CMR\",\"CAF\",\"TCD\",\"COM\",\"COD\",\"COG\",\"CIV\",\"DJI\",\"EGY\",\"GNQ\",\"ERI\",\"ETH\",\"GAB\",\"GMB\",\"GHA\",\"GIN\",\"GNB\",\"KEN\",\"LSO\",\"LBR\",\"LBY\",\"MDG\",\"MWI\",\"MLI\",\"MRT\",\"MUS\",\"MAR\",\"MOZ\",\"NAM\",\"NER\",\"NGA\",\"REU\",\"RWA\",\"STP\",\"SEN\",\"SLE\",\"SOM\",\"ZAF\",\"SDN\",\"SWZ\",\"TZA\",\"TGO\",\"TUN\",\"UGA\",\"ZMB\",\"ZWE\"],\"marker\":{\"color\":\"#00cc96\",\"size\":[6223.367465,4797.231267,1441.284873,12569.851770000001,1217.032994,430.07069160000003,2042.0952399999999,706.016537,1704.0637239999999,986.1478792000001,277.55185869999997,3632.557798,1544.750112,2082.4815670000007,5581.180998,12154.08975,641.3695236000002,690.8055759,13206.48452,752.7497265,1327.60891,942.6542111,579.2317429999998,1463.249282,1569.331442,414.5073415,12057.49928,1044.770126,759.3499101,1042.581557,1803.1514960000002,10956.99112,3820.17523,823.6856205,4811.060429,619.6768923999998,2013.9773050000001,7670.122558,863.0884639000003,1598.435089,1712.4721359999999,862.5407561000003,926.1410683,9269.657808,2602.394995,4513.480643,1107.482182,882.9699437999999,7092.923025,1056.3801210000001,1271.211593,469.70929810000007],\"sizemode\":\"area\",\"sizeref\":283.80783225,\"symbol\":\"circle\"},\"mode\":\"markers\",\"name\":\"Africa\",\"showlegend\":true,\"type\":\"scattergeo\"},{\"geo\":\"geo\",\"hovertemplate\":\"<b>%{hovertext}</b><br><br>continent=Americas<br>year=2007<br>gdpPercap=%{marker.size}<br>iso_alpha=%{location}<extra></extra>\",\"hovertext\":[\"Argentina\",\"Bolivia\",\"Brazil\",\"Canada\",\"Chile\",\"Colombia\",\"Costa Rica\",\"Cuba\",\"Dominican Republic\",\"Ecuador\",\"El Salvador\",\"Guatemala\",\"Haiti\",\"Honduras\",\"Jamaica\",\"Mexico\",\"Nicaragua\",\"Panama\",\"Paraguay\",\"Peru\",\"Puerto Rico\",\"Trinidad and Tobago\",\"United States\",\"Uruguay\",\"Venezuela\"],\"legendgroup\":\"Americas\",\"locations\":[\"ARG\",\"BOL\",\"BRA\",\"CAN\",\"CHL\",\"COL\",\"CRI\",\"CUB\",\"DOM\",\"ECU\",\"SLV\",\"GTM\",\"HTI\",\"HND\",\"JAM\",\"MEX\",\"NIC\",\"PAN\",\"PRY\",\"PER\",\"PRI\",\"TTO\",\"USA\",\"URY\",\"VEN\"],\"marker\":{\"color\":\"#ab63fa\",\"size\":[12779.379640000001,3822.1370840000004,9065.800825,36319.235010000004,13171.63885,7006.580419,9645.06142,8948.102923,6025.374752000002,6873.262326000001,5728.353514,5186.050003,1201.637154,3548.330846000001,7320.880262000002,11977.57496,2749.320965,9809.185636,4172.838464,7408.905561,19328.70901,18008.50924,42951.65309,10611.46299,11415.805690000001],\"sizemode\":\"area\",\"sizeref\":283.80783225,\"symbol\":\"circle\"},\"mode\":\"markers\",\"name\":\"Americas\",\"showlegend\":true,\"type\":\"scattergeo\"},{\"geo\":\"geo\",\"hovertemplate\":\"<b>%{hovertext}</b><br><br>continent=Oceania<br>year=2007<br>gdpPercap=%{marker.size}<br>iso_alpha=%{location}<extra></extra>\",\"hovertext\":[\"Australia\",\"New Zealand\"],\"legendgroup\":\"Oceania\",\"locations\":[\"AUS\",\"NZL\"],\"marker\":{\"color\":\"#FFA15A\",\"size\":[34435.367439999995,25185.00911],\"sizemode\":\"area\",\"sizeref\":283.80783225,\"symbol\":\"circle\"},\"mode\":\"markers\",\"name\":\"Oceania\",\"showlegend\":true,\"type\":\"scattergeo\"}],\"name\":\"2007\"}]);\n",
              "                        }).then(function(){\n",
              "                            \n",
              "var gd = document.getElementById('1e45e1ba-ef18-4abe-aea4-d9f609d922c0');\n",
              "var x = new MutationObserver(function (mutations, observer) {{\n",
              "        var display = window.getComputedStyle(gd).display;\n",
              "        if (!display || display === 'none') {{\n",
              "            console.log([gd, 'removed!']);\n",
              "            Plotly.purge(gd);\n",
              "            observer.disconnect();\n",
              "        }}\n",
              "}});\n",
              "\n",
              "// Listen for the removal of the full notebook cells\n",
              "var notebookContainer = gd.closest('#notebook-container');\n",
              "if (notebookContainer) {{\n",
              "    x.observe(notebookContainer, {childList: true});\n",
              "}}\n",
              "\n",
              "// Listen for the clearing of the current output cell\n",
              "var outputEl = gd.closest('.output');\n",
              "if (outputEl) {{\n",
              "    x.observe(outputEl, {childList: true});\n",
              "}}\n",
              "\n",
              "                        })                };                            </script>        </div>\n",
              "</body>\n",
              "</html>"
            ]
          },
          "metadata": {},
          "output_type": "display_data"
        }
      ],
      "source": [
        "fig2 = px.scatter_geo(gapminder, locations=\"iso_alpha\", color=\"continent\",\n",
        "                     hover_name=\"country\", size=\"gdpPercap\",\n",
        "                     animation_frame=\"year\",\n",
        "                     projection=\"natural earth\")\n",
        "fig2.show()"
      ]
    },
    {
      "attachments": {},
      "cell_type": "markdown",
      "metadata": {
        "id": "sPUUOnYld3Rk"
      },
      "source": [
        "人口"
      ]
    },
    {
      "cell_type": "code",
      "execution_count": null,
      "metadata": {
        "colab": {
          "base_uri": "https://localhost:8080/",
          "height": 542
        },
        "id": "9g-Rn8Dwd1RC",
        "outputId": "e72be1f1-e60d-45c1-b6fe-397d88dbc48e"
      },
      "outputs": [
        {
          "data": {
            "text/html": [
              "<html>\n",
              "<head><meta charset=\"utf-8\" /></head>\n",
              "<body>\n",
              "    <div>            <script src=\"https://cdnjs.cloudflare.com/ajax/libs/mathjax/2.7.5/MathJax.js?config=TeX-AMS-MML_SVG\"></script><script type=\"text/javascript\">if (window.MathJax) {MathJax.Hub.Config({SVG: {font: \"STIX-Web\"}});}</script>                <script type=\"text/javascript\">window.PlotlyConfig = {MathJaxConfig: 'local'};</script>\n",
              "        <script src=\"https://cdn.plot.ly/plotly-2.6.3.min.js\"></script>                <div id=\"3a37a56e-7f9c-4017-b3a7-5f886576d8f5\" class=\"plotly-graph-div\" style=\"height:525px; width:100%;\"></div>            <script type=\"text/javascript\">                                    window.PLOTLYENV=window.PLOTLYENV || {};                                    if (document.getElementById(\"3a37a56e-7f9c-4017-b3a7-5f886576d8f5\")) {                    Plotly.newPlot(                        \"3a37a56e-7f9c-4017-b3a7-5f886576d8f5\",                        [{\"geo\":\"geo\",\"hovertemplate\":\"<b>%{hovertext}</b><br><br>continent=Asia<br>year=1952<br>pop=%{marker.size}<br>iso_alpha=%{location}<extra></extra>\",\"hovertext\":[\"Afghanistan\",\"Bahrain\",\"Bangladesh\",\"Cambodia\",\"China\",\"Hong Kong, China\",\"India\",\"Indonesia\",\"Iran\",\"Iraq\",\"Israel\",\"Japan\",\"Jordan\",\"Korea, Dem. Rep.\",\"Korea, Rep.\",\"Kuwait\",\"Lebanon\",\"Malaysia\",\"Mongolia\",\"Myanmar\",\"Nepal\",\"Oman\",\"Pakistan\",\"Philippines\",\"Saudi Arabia\",\"Singapore\",\"Sri Lanka\",\"Syria\",\"Taiwan\",\"Thailand\",\"Vietnam\",\"West Bank and Gaza\",\"Yemen, Rep.\"],\"legendgroup\":\"Asia\",\"locations\":[\"AFG\",\"BHR\",\"BGD\",\"KHM\",\"CHN\",\"HKG\",\"IND\",\"IDN\",\"IRN\",\"IRQ\",\"ISR\",\"JPN\",\"JOR\",\"KOR\",\"KOR\",\"KWT\",\"LBN\",\"MYS\",\"MNG\",\"MMR\",\"NPL\",\"OMN\",\"PAK\",\"PHL\",\"SAU\",\"SGP\",\"LKA\",\"SYR\",\"TWN\",\"THA\",\"VNM\",\"PSE\",\"YEM\"],\"marker\":{\"color\":\"#636efa\",\"size\":[8425333,120447,46886859,4693836,556263527,2125900,372000000,82052000,17272000,5441766,1620914,86459025,607914,8865488,20947571,160000,1439529,6748378,800663,20092996,9182536,507833,41346560,22438691,4005677,1127000,7982342,3661549,8550362,21289402,26246839,1030585,4963829],\"sizemode\":\"area\",\"sizeref\":3296707.74,\"symbol\":\"circle\"},\"mode\":\"markers\",\"name\":\"Asia\",\"showlegend\":true,\"type\":\"scattergeo\"},{\"geo\":\"geo\",\"hovertemplate\":\"<b>%{hovertext}</b><br><br>continent=Europe<br>year=1952<br>pop=%{marker.size}<br>iso_alpha=%{location}<extra></extra>\",\"hovertext\":[\"Albania\",\"Austria\",\"Belgium\",\"Bosnia and Herzegovina\",\"Bulgaria\",\"Croatia\",\"Czech Republic\",\"Denmark\",\"Finland\",\"France\",\"Germany\",\"Greece\",\"Hungary\",\"Iceland\",\"Ireland\",\"Italy\",\"Montenegro\",\"Netherlands\",\"Norway\",\"Poland\",\"Portugal\",\"Romania\",\"Serbia\",\"Slovak Republic\",\"Slovenia\",\"Spain\",\"Sweden\",\"Switzerland\",\"Turkey\",\"United Kingdom\"],\"legendgroup\":\"Europe\",\"locations\":[\"ALB\",\"AUT\",\"BEL\",\"BIH\",\"BGR\",\"HRV\",\"CZE\",\"DNK\",\"FIN\",\"FRA\",\"DEU\",\"GRC\",\"HUN\",\"ISL\",\"IRL\",\"ITA\",\"MNE\",\"NLD\",\"NOR\",\"POL\",\"PRT\",\"ROU\",\"SRB\",\"SVK\",\"SVN\",\"ESP\",\"SWE\",\"CHE\",\"TUR\",\"GBR\"],\"marker\":{\"color\":\"#EF553B\",\"size\":[1282697,6927772,8730405,2791000,7274900,3882229,9125183,4334000,4090500,42459667,69145952,7733250,9504000,147962,2952156,47666000,413834,10381988,3327728,25730551,8526050,16630000,6860147,3558137,1489518,28549870,7124673,4815000,22235677,50430000],\"sizemode\":\"area\",\"sizeref\":3296707.74,\"symbol\":\"circle\"},\"mode\":\"markers\",\"name\":\"Europe\",\"showlegend\":true,\"type\":\"scattergeo\"},{\"geo\":\"geo\",\"hovertemplate\":\"<b>%{hovertext}</b><br><br>continent=Africa<br>year=1952<br>pop=%{marker.size}<br>iso_alpha=%{location}<extra></extra>\",\"hovertext\":[\"Algeria\",\"Angola\",\"Benin\",\"Botswana\",\"Burkina Faso\",\"Burundi\",\"Cameroon\",\"Central African Republic\",\"Chad\",\"Comoros\",\"Congo, Dem. Rep.\",\"Congo, Rep.\",\"Cote d'Ivoire\",\"Djibouti\",\"Egypt\",\"Equatorial Guinea\",\"Eritrea\",\"Ethiopia\",\"Gabon\",\"Gambia\",\"Ghana\",\"Guinea\",\"Guinea-Bissau\",\"Kenya\",\"Lesotho\",\"Liberia\",\"Libya\",\"Madagascar\",\"Malawi\",\"Mali\",\"Mauritania\",\"Mauritius\",\"Morocco\",\"Mozambique\",\"Namibia\",\"Niger\",\"Nigeria\",\"Reunion\",\"Rwanda\",\"Sao Tome and Principe\",\"Senegal\",\"Sierra Leone\",\"Somalia\",\"South Africa\",\"Sudan\",\"Swaziland\",\"Tanzania\",\"Togo\",\"Tunisia\",\"Uganda\",\"Zambia\",\"Zimbabwe\"],\"legendgroup\":\"Africa\",\"locations\":[\"DZA\",\"AGO\",\"BEN\",\"BWA\",\"BFA\",\"BDI\",\"CMR\",\"CAF\",\"TCD\",\"COM\",\"COD\",\"COG\",\"CIV\",\"DJI\",\"EGY\",\"GNQ\",\"ERI\",\"ETH\",\"GAB\",\"GMB\",\"GHA\",\"GIN\",\"GNB\",\"KEN\",\"LSO\",\"LBR\",\"LBY\",\"MDG\",\"MWI\",\"MLI\",\"MRT\",\"MUS\",\"MAR\",\"MOZ\",\"NAM\",\"NER\",\"NGA\",\"REU\",\"RWA\",\"STP\",\"SEN\",\"SLE\",\"SOM\",\"ZAF\",\"SDN\",\"SWZ\",\"TZA\",\"TGO\",\"TUN\",\"UGA\",\"ZMB\",\"ZWE\"],\"marker\":{\"color\":\"#00cc96\",\"size\":[9279525,4232095,1738315,442308,4469979,2445618,5009067,1291695,2682462,153936,14100005,854885,2977019,63149,22223309,216964,1438760,20860941,420702,284320,5581001,2664249,580653,6464046,748747,863308,1019729,4762912,2917802,3838168,1022556,516556,9939217,6446316,485831,3379468,33119096,257700,2534927,60011,2755589,2143249,2526994,14264935,8504667,290243,8322925,1219113,3647735,5824797,2672000,3080907],\"sizemode\":\"area\",\"sizeref\":3296707.74,\"symbol\":\"circle\"},\"mode\":\"markers\",\"name\":\"Africa\",\"showlegend\":true,\"type\":\"scattergeo\"},{\"geo\":\"geo\",\"hovertemplate\":\"<b>%{hovertext}</b><br><br>continent=Americas<br>year=1952<br>pop=%{marker.size}<br>iso_alpha=%{location}<extra></extra>\",\"hovertext\":[\"Argentina\",\"Bolivia\",\"Brazil\",\"Canada\",\"Chile\",\"Colombia\",\"Costa Rica\",\"Cuba\",\"Dominican Republic\",\"Ecuador\",\"El Salvador\",\"Guatemala\",\"Haiti\",\"Honduras\",\"Jamaica\",\"Mexico\",\"Nicaragua\",\"Panama\",\"Paraguay\",\"Peru\",\"Puerto Rico\",\"Trinidad and Tobago\",\"United States\",\"Uruguay\",\"Venezuela\"],\"legendgroup\":\"Americas\",\"locations\":[\"ARG\",\"BOL\",\"BRA\",\"CAN\",\"CHL\",\"COL\",\"CRI\",\"CUB\",\"DOM\",\"ECU\",\"SLV\",\"GTM\",\"HTI\",\"HND\",\"JAM\",\"MEX\",\"NIC\",\"PAN\",\"PRY\",\"PER\",\"PRI\",\"TTO\",\"USA\",\"URY\",\"VEN\"],\"marker\":{\"color\":\"#ab63fa\",\"size\":[17876956,2883315,56602560,14785584,6377619,12350771,926317,6007797,2491346,3548753,2042865,3146381,3201488,1517453,1426095,30144317,1165790,940080,1555876,8025700,2227000,662850,157553000,2252965,5439568],\"sizemode\":\"area\",\"sizeref\":3296707.74,\"symbol\":\"circle\"},\"mode\":\"markers\",\"name\":\"Americas\",\"showlegend\":true,\"type\":\"scattergeo\"},{\"geo\":\"geo\",\"hovertemplate\":\"<b>%{hovertext}</b><br><br>continent=Oceania<br>year=1952<br>pop=%{marker.size}<br>iso_alpha=%{location}<extra></extra>\",\"hovertext\":[\"Australia\",\"New Zealand\"],\"legendgroup\":\"Oceania\",\"locations\":[\"AUS\",\"NZL\"],\"marker\":{\"color\":\"#FFA15A\",\"size\":[8691212,1994794],\"sizemode\":\"area\",\"sizeref\":3296707.74,\"symbol\":\"circle\"},\"mode\":\"markers\",\"name\":\"Oceania\",\"showlegend\":true,\"type\":\"scattergeo\"}],                        {\"template\":{\"data\":{\"bar\":[{\"error_x\":{\"color\":\"#2a3f5f\"},\"error_y\":{\"color\":\"#2a3f5f\"},\"marker\":{\"line\":{\"color\":\"#E5ECF6\",\"width\":0.5},\"pattern\":{\"fillmode\":\"overlay\",\"size\":10,\"solidity\":0.2}},\"type\":\"bar\"}],\"barpolar\":[{\"marker\":{\"line\":{\"color\":\"#E5ECF6\",\"width\":0.5},\"pattern\":{\"fillmode\":\"overlay\",\"size\":10,\"solidity\":0.2}},\"type\":\"barpolar\"}],\"carpet\":[{\"aaxis\":{\"endlinecolor\":\"#2a3f5f\",\"gridcolor\":\"white\",\"linecolor\":\"white\",\"minorgridcolor\":\"white\",\"startlinecolor\":\"#2a3f5f\"},\"baxis\":{\"endlinecolor\":\"#2a3f5f\",\"gridcolor\":\"white\",\"linecolor\":\"white\",\"minorgridcolor\":\"white\",\"startlinecolor\":\"#2a3f5f\"},\"type\":\"carpet\"}],\"choropleth\":[{\"colorbar\":{\"outlinewidth\":0,\"ticks\":\"\"},\"type\":\"choropleth\"}],\"contour\":[{\"colorbar\":{\"outlinewidth\":0,\"ticks\":\"\"},\"colorscale\":[[0.0,\"#0d0887\"],[0.1111111111111111,\"#46039f\"],[0.2222222222222222,\"#7201a8\"],[0.3333333333333333,\"#9c179e\"],[0.4444444444444444,\"#bd3786\"],[0.5555555555555556,\"#d8576b\"],[0.6666666666666666,\"#ed7953\"],[0.7777777777777778,\"#fb9f3a\"],[0.8888888888888888,\"#fdca26\"],[1.0,\"#f0f921\"]],\"type\":\"contour\"}],\"contourcarpet\":[{\"colorbar\":{\"outlinewidth\":0,\"ticks\":\"\"},\"type\":\"contourcarpet\"}],\"heatmap\":[{\"colorbar\":{\"outlinewidth\":0,\"ticks\":\"\"},\"colorscale\":[[0.0,\"#0d0887\"],[0.1111111111111111,\"#46039f\"],[0.2222222222222222,\"#7201a8\"],[0.3333333333333333,\"#9c179e\"],[0.4444444444444444,\"#bd3786\"],[0.5555555555555556,\"#d8576b\"],[0.6666666666666666,\"#ed7953\"],[0.7777777777777778,\"#fb9f3a\"],[0.8888888888888888,\"#fdca26\"],[1.0,\"#f0f921\"]],\"type\":\"heatmap\"}],\"heatmapgl\":[{\"colorbar\":{\"outlinewidth\":0,\"ticks\":\"\"},\"colorscale\":[[0.0,\"#0d0887\"],[0.1111111111111111,\"#46039f\"],[0.2222222222222222,\"#7201a8\"],[0.3333333333333333,\"#9c179e\"],[0.4444444444444444,\"#bd3786\"],[0.5555555555555556,\"#d8576b\"],[0.6666666666666666,\"#ed7953\"],[0.7777777777777778,\"#fb9f3a\"],[0.8888888888888888,\"#fdca26\"],[1.0,\"#f0f921\"]],\"type\":\"heatmapgl\"}],\"histogram\":[{\"marker\":{\"pattern\":{\"fillmode\":\"overlay\",\"size\":10,\"solidity\":0.2}},\"type\":\"histogram\"}],\"histogram2d\":[{\"colorbar\":{\"outlinewidth\":0,\"ticks\":\"\"},\"colorscale\":[[0.0,\"#0d0887\"],[0.1111111111111111,\"#46039f\"],[0.2222222222222222,\"#7201a8\"],[0.3333333333333333,\"#9c179e\"],[0.4444444444444444,\"#bd3786\"],[0.5555555555555556,\"#d8576b\"],[0.6666666666666666,\"#ed7953\"],[0.7777777777777778,\"#fb9f3a\"],[0.8888888888888888,\"#fdca26\"],[1.0,\"#f0f921\"]],\"type\":\"histogram2d\"}],\"histogram2dcontour\":[{\"colorbar\":{\"outlinewidth\":0,\"ticks\":\"\"},\"colorscale\":[[0.0,\"#0d0887\"],[0.1111111111111111,\"#46039f\"],[0.2222222222222222,\"#7201a8\"],[0.3333333333333333,\"#9c179e\"],[0.4444444444444444,\"#bd3786\"],[0.5555555555555556,\"#d8576b\"],[0.6666666666666666,\"#ed7953\"],[0.7777777777777778,\"#fb9f3a\"],[0.8888888888888888,\"#fdca26\"],[1.0,\"#f0f921\"]],\"type\":\"histogram2dcontour\"}],\"mesh3d\":[{\"colorbar\":{\"outlinewidth\":0,\"ticks\":\"\"},\"type\":\"mesh3d\"}],\"parcoords\":[{\"line\":{\"colorbar\":{\"outlinewidth\":0,\"ticks\":\"\"}},\"type\":\"parcoords\"}],\"pie\":[{\"automargin\":true,\"type\":\"pie\"}],\"scatter\":[{\"marker\":{\"colorbar\":{\"outlinewidth\":0,\"ticks\":\"\"}},\"type\":\"scatter\"}],\"scatter3d\":[{\"line\":{\"colorbar\":{\"outlinewidth\":0,\"ticks\":\"\"}},\"marker\":{\"colorbar\":{\"outlinewidth\":0,\"ticks\":\"\"}},\"type\":\"scatter3d\"}],\"scattercarpet\":[{\"marker\":{\"colorbar\":{\"outlinewidth\":0,\"ticks\":\"\"}},\"type\":\"scattercarpet\"}],\"scattergeo\":[{\"marker\":{\"colorbar\":{\"outlinewidth\":0,\"ticks\":\"\"}},\"type\":\"scattergeo\"}],\"scattergl\":[{\"marker\":{\"colorbar\":{\"outlinewidth\":0,\"ticks\":\"\"}},\"type\":\"scattergl\"}],\"scattermapbox\":[{\"marker\":{\"colorbar\":{\"outlinewidth\":0,\"ticks\":\"\"}},\"type\":\"scattermapbox\"}],\"scatterpolar\":[{\"marker\":{\"colorbar\":{\"outlinewidth\":0,\"ticks\":\"\"}},\"type\":\"scatterpolar\"}],\"scatterpolargl\":[{\"marker\":{\"colorbar\":{\"outlinewidth\":0,\"ticks\":\"\"}},\"type\":\"scatterpolargl\"}],\"scatterternary\":[{\"marker\":{\"colorbar\":{\"outlinewidth\":0,\"ticks\":\"\"}},\"type\":\"scatterternary\"}],\"surface\":[{\"colorbar\":{\"outlinewidth\":0,\"ticks\":\"\"},\"colorscale\":[[0.0,\"#0d0887\"],[0.1111111111111111,\"#46039f\"],[0.2222222222222222,\"#7201a8\"],[0.3333333333333333,\"#9c179e\"],[0.4444444444444444,\"#bd3786\"],[0.5555555555555556,\"#d8576b\"],[0.6666666666666666,\"#ed7953\"],[0.7777777777777778,\"#fb9f3a\"],[0.8888888888888888,\"#fdca26\"],[1.0,\"#f0f921\"]],\"type\":\"surface\"}],\"table\":[{\"cells\":{\"fill\":{\"color\":\"#EBF0F8\"},\"line\":{\"color\":\"white\"}},\"header\":{\"fill\":{\"color\":\"#C8D4E3\"},\"line\":{\"color\":\"white\"}},\"type\":\"table\"}]},\"layout\":{\"annotationdefaults\":{\"arrowcolor\":\"#2a3f5f\",\"arrowhead\":0,\"arrowwidth\":1},\"autotypenumbers\":\"strict\",\"coloraxis\":{\"colorbar\":{\"outlinewidth\":0,\"ticks\":\"\"}},\"colorscale\":{\"diverging\":[[0,\"#8e0152\"],[0.1,\"#c51b7d\"],[0.2,\"#de77ae\"],[0.3,\"#f1b6da\"],[0.4,\"#fde0ef\"],[0.5,\"#f7f7f7\"],[0.6,\"#e6f5d0\"],[0.7,\"#b8e186\"],[0.8,\"#7fbc41\"],[0.9,\"#4d9221\"],[1,\"#276419\"]],\"sequential\":[[0.0,\"#0d0887\"],[0.1111111111111111,\"#46039f\"],[0.2222222222222222,\"#7201a8\"],[0.3333333333333333,\"#9c179e\"],[0.4444444444444444,\"#bd3786\"],[0.5555555555555556,\"#d8576b\"],[0.6666666666666666,\"#ed7953\"],[0.7777777777777778,\"#fb9f3a\"],[0.8888888888888888,\"#fdca26\"],[1.0,\"#f0f921\"]],\"sequentialminus\":[[0.0,\"#0d0887\"],[0.1111111111111111,\"#46039f\"],[0.2222222222222222,\"#7201a8\"],[0.3333333333333333,\"#9c179e\"],[0.4444444444444444,\"#bd3786\"],[0.5555555555555556,\"#d8576b\"],[0.6666666666666666,\"#ed7953\"],[0.7777777777777778,\"#fb9f3a\"],[0.8888888888888888,\"#fdca26\"],[1.0,\"#f0f921\"]]},\"colorway\":[\"#636efa\",\"#EF553B\",\"#00cc96\",\"#ab63fa\",\"#FFA15A\",\"#19d3f3\",\"#FF6692\",\"#B6E880\",\"#FF97FF\",\"#FECB52\"],\"font\":{\"color\":\"#2a3f5f\"},\"geo\":{\"bgcolor\":\"white\",\"lakecolor\":\"white\",\"landcolor\":\"#E5ECF6\",\"showlakes\":true,\"showland\":true,\"subunitcolor\":\"white\"},\"hoverlabel\":{\"align\":\"left\"},\"hovermode\":\"closest\",\"mapbox\":{\"style\":\"light\"},\"paper_bgcolor\":\"white\",\"plot_bgcolor\":\"#E5ECF6\",\"polar\":{\"angularaxis\":{\"gridcolor\":\"white\",\"linecolor\":\"white\",\"ticks\":\"\"},\"bgcolor\":\"#E5ECF6\",\"radialaxis\":{\"gridcolor\":\"white\",\"linecolor\":\"white\",\"ticks\":\"\"}},\"scene\":{\"xaxis\":{\"backgroundcolor\":\"#E5ECF6\",\"gridcolor\":\"white\",\"gridwidth\":2,\"linecolor\":\"white\",\"showbackground\":true,\"ticks\":\"\",\"zerolinecolor\":\"white\"},\"yaxis\":{\"backgroundcolor\":\"#E5ECF6\",\"gridcolor\":\"white\",\"gridwidth\":2,\"linecolor\":\"white\",\"showbackground\":true,\"ticks\":\"\",\"zerolinecolor\":\"white\"},\"zaxis\":{\"backgroundcolor\":\"#E5ECF6\",\"gridcolor\":\"white\",\"gridwidth\":2,\"linecolor\":\"white\",\"showbackground\":true,\"ticks\":\"\",\"zerolinecolor\":\"white\"}},\"shapedefaults\":{\"line\":{\"color\":\"#2a3f5f\"}},\"ternary\":{\"aaxis\":{\"gridcolor\":\"white\",\"linecolor\":\"white\",\"ticks\":\"\"},\"baxis\":{\"gridcolor\":\"white\",\"linecolor\":\"white\",\"ticks\":\"\"},\"bgcolor\":\"#E5ECF6\",\"caxis\":{\"gridcolor\":\"white\",\"linecolor\":\"white\",\"ticks\":\"\"}},\"title\":{\"x\":0.05},\"xaxis\":{\"automargin\":true,\"gridcolor\":\"white\",\"linecolor\":\"white\",\"ticks\":\"\",\"title\":{\"standoff\":15},\"zerolinecolor\":\"white\",\"zerolinewidth\":2},\"yaxis\":{\"automargin\":true,\"gridcolor\":\"white\",\"linecolor\":\"white\",\"ticks\":\"\",\"title\":{\"standoff\":15},\"zerolinecolor\":\"white\",\"zerolinewidth\":2}}},\"geo\":{\"domain\":{\"x\":[0.0,1.0],\"y\":[0.0,1.0]},\"projection\":{\"type\":\"natural earth\"},\"center\":{}},\"legend\":{\"title\":{\"text\":\"continent\"},\"tracegroupgap\":0,\"itemsizing\":\"constant\"},\"margin\":{\"t\":60},\"updatemenus\":[{\"buttons\":[{\"args\":[null,{\"frame\":{\"duration\":500,\"redraw\":true},\"mode\":\"immediate\",\"fromcurrent\":true,\"transition\":{\"duration\":500,\"easing\":\"linear\"}}],\"label\":\"&#9654;\",\"method\":\"animate\"},{\"args\":[[null],{\"frame\":{\"duration\":0,\"redraw\":true},\"mode\":\"immediate\",\"fromcurrent\":true,\"transition\":{\"duration\":0,\"easing\":\"linear\"}}],\"label\":\"&#9724;\",\"method\":\"animate\"}],\"direction\":\"left\",\"pad\":{\"r\":10,\"t\":70},\"showactive\":false,\"type\":\"buttons\",\"x\":0.1,\"xanchor\":\"right\",\"y\":0,\"yanchor\":\"top\"}],\"sliders\":[{\"active\":0,\"currentvalue\":{\"prefix\":\"year=\"},\"len\":0.9,\"pad\":{\"b\":10,\"t\":60},\"steps\":[{\"args\":[[\"1952\"],{\"frame\":{\"duration\":0,\"redraw\":true},\"mode\":\"immediate\",\"fromcurrent\":true,\"transition\":{\"duration\":0,\"easing\":\"linear\"}}],\"label\":\"1952\",\"method\":\"animate\"},{\"args\":[[\"1957\"],{\"frame\":{\"duration\":0,\"redraw\":true},\"mode\":\"immediate\",\"fromcurrent\":true,\"transition\":{\"duration\":0,\"easing\":\"linear\"}}],\"label\":\"1957\",\"method\":\"animate\"},{\"args\":[[\"1962\"],{\"frame\":{\"duration\":0,\"redraw\":true},\"mode\":\"immediate\",\"fromcurrent\":true,\"transition\":{\"duration\":0,\"easing\":\"linear\"}}],\"label\":\"1962\",\"method\":\"animate\"},{\"args\":[[\"1967\"],{\"frame\":{\"duration\":0,\"redraw\":true},\"mode\":\"immediate\",\"fromcurrent\":true,\"transition\":{\"duration\":0,\"easing\":\"linear\"}}],\"label\":\"1967\",\"method\":\"animate\"},{\"args\":[[\"1972\"],{\"frame\":{\"duration\":0,\"redraw\":true},\"mode\":\"immediate\",\"fromcurrent\":true,\"transition\":{\"duration\":0,\"easing\":\"linear\"}}],\"label\":\"1972\",\"method\":\"animate\"},{\"args\":[[\"1977\"],{\"frame\":{\"duration\":0,\"redraw\":true},\"mode\":\"immediate\",\"fromcurrent\":true,\"transition\":{\"duration\":0,\"easing\":\"linear\"}}],\"label\":\"1977\",\"method\":\"animate\"},{\"args\":[[\"1982\"],{\"frame\":{\"duration\":0,\"redraw\":true},\"mode\":\"immediate\",\"fromcurrent\":true,\"transition\":{\"duration\":0,\"easing\":\"linear\"}}],\"label\":\"1982\",\"method\":\"animate\"},{\"args\":[[\"1987\"],{\"frame\":{\"duration\":0,\"redraw\":true},\"mode\":\"immediate\",\"fromcurrent\":true,\"transition\":{\"duration\":0,\"easing\":\"linear\"}}],\"label\":\"1987\",\"method\":\"animate\"},{\"args\":[[\"1992\"],{\"frame\":{\"duration\":0,\"redraw\":true},\"mode\":\"immediate\",\"fromcurrent\":true,\"transition\":{\"duration\":0,\"easing\":\"linear\"}}],\"label\":\"1992\",\"method\":\"animate\"},{\"args\":[[\"1997\"],{\"frame\":{\"duration\":0,\"redraw\":true},\"mode\":\"immediate\",\"fromcurrent\":true,\"transition\":{\"duration\":0,\"easing\":\"linear\"}}],\"label\":\"1997\",\"method\":\"animate\"},{\"args\":[[\"2002\"],{\"frame\":{\"duration\":0,\"redraw\":true},\"mode\":\"immediate\",\"fromcurrent\":true,\"transition\":{\"duration\":0,\"easing\":\"linear\"}}],\"label\":\"2002\",\"method\":\"animate\"},{\"args\":[[\"2007\"],{\"frame\":{\"duration\":0,\"redraw\":true},\"mode\":\"immediate\",\"fromcurrent\":true,\"transition\":{\"duration\":0,\"easing\":\"linear\"}}],\"label\":\"2007\",\"method\":\"animate\"}],\"x\":0.1,\"xanchor\":\"left\",\"y\":0,\"yanchor\":\"top\"}]},                        {\"responsive\": true}                    ).then(function(){\n",
              "                            Plotly.addFrames('3a37a56e-7f9c-4017-b3a7-5f886576d8f5', [{\"data\":[{\"geo\":\"geo\",\"hovertemplate\":\"<b>%{hovertext}</b><br><br>continent=Asia<br>year=1952<br>pop=%{marker.size}<br>iso_alpha=%{location}<extra></extra>\",\"hovertext\":[\"Afghanistan\",\"Bahrain\",\"Bangladesh\",\"Cambodia\",\"China\",\"Hong Kong, China\",\"India\",\"Indonesia\",\"Iran\",\"Iraq\",\"Israel\",\"Japan\",\"Jordan\",\"Korea, Dem. Rep.\",\"Korea, Rep.\",\"Kuwait\",\"Lebanon\",\"Malaysia\",\"Mongolia\",\"Myanmar\",\"Nepal\",\"Oman\",\"Pakistan\",\"Philippines\",\"Saudi Arabia\",\"Singapore\",\"Sri Lanka\",\"Syria\",\"Taiwan\",\"Thailand\",\"Vietnam\",\"West Bank and Gaza\",\"Yemen, Rep.\"],\"legendgroup\":\"Asia\",\"locations\":[\"AFG\",\"BHR\",\"BGD\",\"KHM\",\"CHN\",\"HKG\",\"IND\",\"IDN\",\"IRN\",\"IRQ\",\"ISR\",\"JPN\",\"JOR\",\"KOR\",\"KOR\",\"KWT\",\"LBN\",\"MYS\",\"MNG\",\"MMR\",\"NPL\",\"OMN\",\"PAK\",\"PHL\",\"SAU\",\"SGP\",\"LKA\",\"SYR\",\"TWN\",\"THA\",\"VNM\",\"PSE\",\"YEM\"],\"marker\":{\"color\":\"#636efa\",\"size\":[8425333,120447,46886859,4693836,556263527,2125900,372000000,82052000,17272000,5441766,1620914,86459025,607914,8865488,20947571,160000,1439529,6748378,800663,20092996,9182536,507833,41346560,22438691,4005677,1127000,7982342,3661549,8550362,21289402,26246839,1030585,4963829],\"sizemode\":\"area\",\"sizeref\":3296707.74,\"symbol\":\"circle\"},\"mode\":\"markers\",\"name\":\"Asia\",\"showlegend\":true,\"type\":\"scattergeo\"},{\"geo\":\"geo\",\"hovertemplate\":\"<b>%{hovertext}</b><br><br>continent=Europe<br>year=1952<br>pop=%{marker.size}<br>iso_alpha=%{location}<extra></extra>\",\"hovertext\":[\"Albania\",\"Austria\",\"Belgium\",\"Bosnia and Herzegovina\",\"Bulgaria\",\"Croatia\",\"Czech Republic\",\"Denmark\",\"Finland\",\"France\",\"Germany\",\"Greece\",\"Hungary\",\"Iceland\",\"Ireland\",\"Italy\",\"Montenegro\",\"Netherlands\",\"Norway\",\"Poland\",\"Portugal\",\"Romania\",\"Serbia\",\"Slovak Republic\",\"Slovenia\",\"Spain\",\"Sweden\",\"Switzerland\",\"Turkey\",\"United Kingdom\"],\"legendgroup\":\"Europe\",\"locations\":[\"ALB\",\"AUT\",\"BEL\",\"BIH\",\"BGR\",\"HRV\",\"CZE\",\"DNK\",\"FIN\",\"FRA\",\"DEU\",\"GRC\",\"HUN\",\"ISL\",\"IRL\",\"ITA\",\"MNE\",\"NLD\",\"NOR\",\"POL\",\"PRT\",\"ROU\",\"SRB\",\"SVK\",\"SVN\",\"ESP\",\"SWE\",\"CHE\",\"TUR\",\"GBR\"],\"marker\":{\"color\":\"#EF553B\",\"size\":[1282697,6927772,8730405,2791000,7274900,3882229,9125183,4334000,4090500,42459667,69145952,7733250,9504000,147962,2952156,47666000,413834,10381988,3327728,25730551,8526050,16630000,6860147,3558137,1489518,28549870,7124673,4815000,22235677,50430000],\"sizemode\":\"area\",\"sizeref\":3296707.74,\"symbol\":\"circle\"},\"mode\":\"markers\",\"name\":\"Europe\",\"showlegend\":true,\"type\":\"scattergeo\"},{\"geo\":\"geo\",\"hovertemplate\":\"<b>%{hovertext}</b><br><br>continent=Africa<br>year=1952<br>pop=%{marker.size}<br>iso_alpha=%{location}<extra></extra>\",\"hovertext\":[\"Algeria\",\"Angola\",\"Benin\",\"Botswana\",\"Burkina Faso\",\"Burundi\",\"Cameroon\",\"Central African Republic\",\"Chad\",\"Comoros\",\"Congo, Dem. Rep.\",\"Congo, Rep.\",\"Cote d'Ivoire\",\"Djibouti\",\"Egypt\",\"Equatorial Guinea\",\"Eritrea\",\"Ethiopia\",\"Gabon\",\"Gambia\",\"Ghana\",\"Guinea\",\"Guinea-Bissau\",\"Kenya\",\"Lesotho\",\"Liberia\",\"Libya\",\"Madagascar\",\"Malawi\",\"Mali\",\"Mauritania\",\"Mauritius\",\"Morocco\",\"Mozambique\",\"Namibia\",\"Niger\",\"Nigeria\",\"Reunion\",\"Rwanda\",\"Sao Tome and Principe\",\"Senegal\",\"Sierra Leone\",\"Somalia\",\"South Africa\",\"Sudan\",\"Swaziland\",\"Tanzania\",\"Togo\",\"Tunisia\",\"Uganda\",\"Zambia\",\"Zimbabwe\"],\"legendgroup\":\"Africa\",\"locations\":[\"DZA\",\"AGO\",\"BEN\",\"BWA\",\"BFA\",\"BDI\",\"CMR\",\"CAF\",\"TCD\",\"COM\",\"COD\",\"COG\",\"CIV\",\"DJI\",\"EGY\",\"GNQ\",\"ERI\",\"ETH\",\"GAB\",\"GMB\",\"GHA\",\"GIN\",\"GNB\",\"KEN\",\"LSO\",\"LBR\",\"LBY\",\"MDG\",\"MWI\",\"MLI\",\"MRT\",\"MUS\",\"MAR\",\"MOZ\",\"NAM\",\"NER\",\"NGA\",\"REU\",\"RWA\",\"STP\",\"SEN\",\"SLE\",\"SOM\",\"ZAF\",\"SDN\",\"SWZ\",\"TZA\",\"TGO\",\"TUN\",\"UGA\",\"ZMB\",\"ZWE\"],\"marker\":{\"color\":\"#00cc96\",\"size\":[9279525,4232095,1738315,442308,4469979,2445618,5009067,1291695,2682462,153936,14100005,854885,2977019,63149,22223309,216964,1438760,20860941,420702,284320,5581001,2664249,580653,6464046,748747,863308,1019729,4762912,2917802,3838168,1022556,516556,9939217,6446316,485831,3379468,33119096,257700,2534927,60011,2755589,2143249,2526994,14264935,8504667,290243,8322925,1219113,3647735,5824797,2672000,3080907],\"sizemode\":\"area\",\"sizeref\":3296707.74,\"symbol\":\"circle\"},\"mode\":\"markers\",\"name\":\"Africa\",\"showlegend\":true,\"type\":\"scattergeo\"},{\"geo\":\"geo\",\"hovertemplate\":\"<b>%{hovertext}</b><br><br>continent=Americas<br>year=1952<br>pop=%{marker.size}<br>iso_alpha=%{location}<extra></extra>\",\"hovertext\":[\"Argentina\",\"Bolivia\",\"Brazil\",\"Canada\",\"Chile\",\"Colombia\",\"Costa Rica\",\"Cuba\",\"Dominican Republic\",\"Ecuador\",\"El Salvador\",\"Guatemala\",\"Haiti\",\"Honduras\",\"Jamaica\",\"Mexico\",\"Nicaragua\",\"Panama\",\"Paraguay\",\"Peru\",\"Puerto Rico\",\"Trinidad and Tobago\",\"United States\",\"Uruguay\",\"Venezuela\"],\"legendgroup\":\"Americas\",\"locations\":[\"ARG\",\"BOL\",\"BRA\",\"CAN\",\"CHL\",\"COL\",\"CRI\",\"CUB\",\"DOM\",\"ECU\",\"SLV\",\"GTM\",\"HTI\",\"HND\",\"JAM\",\"MEX\",\"NIC\",\"PAN\",\"PRY\",\"PER\",\"PRI\",\"TTO\",\"USA\",\"URY\",\"VEN\"],\"marker\":{\"color\":\"#ab63fa\",\"size\":[17876956,2883315,56602560,14785584,6377619,12350771,926317,6007797,2491346,3548753,2042865,3146381,3201488,1517453,1426095,30144317,1165790,940080,1555876,8025700,2227000,662850,157553000,2252965,5439568],\"sizemode\":\"area\",\"sizeref\":3296707.74,\"symbol\":\"circle\"},\"mode\":\"markers\",\"name\":\"Americas\",\"showlegend\":true,\"type\":\"scattergeo\"},{\"geo\":\"geo\",\"hovertemplate\":\"<b>%{hovertext}</b><br><br>continent=Oceania<br>year=1952<br>pop=%{marker.size}<br>iso_alpha=%{location}<extra></extra>\",\"hovertext\":[\"Australia\",\"New Zealand\"],\"legendgroup\":\"Oceania\",\"locations\":[\"AUS\",\"NZL\"],\"marker\":{\"color\":\"#FFA15A\",\"size\":[8691212,1994794],\"sizemode\":\"area\",\"sizeref\":3296707.74,\"symbol\":\"circle\"},\"mode\":\"markers\",\"name\":\"Oceania\",\"showlegend\":true,\"type\":\"scattergeo\"}],\"name\":\"1952\"},{\"data\":[{\"geo\":\"geo\",\"hovertemplate\":\"<b>%{hovertext}</b><br><br>continent=Asia<br>year=1957<br>pop=%{marker.size}<br>iso_alpha=%{location}<extra></extra>\",\"hovertext\":[\"Afghanistan\",\"Bahrain\",\"Bangladesh\",\"Cambodia\",\"China\",\"Hong Kong, China\",\"India\",\"Indonesia\",\"Iran\",\"Iraq\",\"Israel\",\"Japan\",\"Jordan\",\"Korea, Dem. Rep.\",\"Korea, Rep.\",\"Kuwait\",\"Lebanon\",\"Malaysia\",\"Mongolia\",\"Myanmar\",\"Nepal\",\"Oman\",\"Pakistan\",\"Philippines\",\"Saudi Arabia\",\"Singapore\",\"Sri Lanka\",\"Syria\",\"Taiwan\",\"Thailand\",\"Vietnam\",\"West Bank and Gaza\",\"Yemen, Rep.\"],\"legendgroup\":\"Asia\",\"locations\":[\"AFG\",\"BHR\",\"BGD\",\"KHM\",\"CHN\",\"HKG\",\"IND\",\"IDN\",\"IRN\",\"IRQ\",\"ISR\",\"JPN\",\"JOR\",\"KOR\",\"KOR\",\"KWT\",\"LBN\",\"MYS\",\"MNG\",\"MMR\",\"NPL\",\"OMN\",\"PAK\",\"PHL\",\"SAU\",\"SGP\",\"LKA\",\"SYR\",\"TWN\",\"THA\",\"VNM\",\"PSE\",\"YEM\"],\"marker\":{\"color\":\"#636efa\",\"size\":[9240934,138655,51365468,5322536,637408000,2736300,409000000,90124000,19792000,6248643,1944401,91563009,746559,9411381,22611552,212846,1647412,7739235,882134,21731844,9682338,561977,46679944,26072194,4419650,1445929,9128546,4149908,10164215,25041917,28998543,1070439,5498090],\"sizemode\":\"area\",\"sizeref\":3296707.74,\"symbol\":\"circle\"},\"mode\":\"markers\",\"name\":\"Asia\",\"showlegend\":true,\"type\":\"scattergeo\"},{\"geo\":\"geo\",\"hovertemplate\":\"<b>%{hovertext}</b><br><br>continent=Europe<br>year=1957<br>pop=%{marker.size}<br>iso_alpha=%{location}<extra></extra>\",\"hovertext\":[\"Albania\",\"Austria\",\"Belgium\",\"Bosnia and Herzegovina\",\"Bulgaria\",\"Croatia\",\"Czech Republic\",\"Denmark\",\"Finland\",\"France\",\"Germany\",\"Greece\",\"Hungary\",\"Iceland\",\"Ireland\",\"Italy\",\"Montenegro\",\"Netherlands\",\"Norway\",\"Poland\",\"Portugal\",\"Romania\",\"Serbia\",\"Slovak Republic\",\"Slovenia\",\"Spain\",\"Sweden\",\"Switzerland\",\"Turkey\",\"United Kingdom\"],\"legendgroup\":\"Europe\",\"locations\":[\"ALB\",\"AUT\",\"BEL\",\"BIH\",\"BGR\",\"HRV\",\"CZE\",\"DNK\",\"FIN\",\"FRA\",\"DEU\",\"GRC\",\"HUN\",\"ISL\",\"IRL\",\"ITA\",\"MNE\",\"NLD\",\"NOR\",\"POL\",\"PRT\",\"ROU\",\"SRB\",\"SVK\",\"SVN\",\"ESP\",\"SWE\",\"CHE\",\"TUR\",\"GBR\"],\"marker\":{\"color\":\"#EF553B\",\"size\":[1476505,6965860,8989111,3076000,7651254,3991242,9513758,4487831,4324000,44310863,71019069,8096218,9839000,165110,2878220,49182000,442829,11026383,3491938,28235346,8817650,17829327,7271135,3844277,1533070,29841614,7363802,5126000,25670939,51430000],\"sizemode\":\"area\",\"sizeref\":3296707.74,\"symbol\":\"circle\"},\"mode\":\"markers\",\"name\":\"Europe\",\"showlegend\":true,\"type\":\"scattergeo\"},{\"geo\":\"geo\",\"hovertemplate\":\"<b>%{hovertext}</b><br><br>continent=Africa<br>year=1957<br>pop=%{marker.size}<br>iso_alpha=%{location}<extra></extra>\",\"hovertext\":[\"Algeria\",\"Angola\",\"Benin\",\"Botswana\",\"Burkina Faso\",\"Burundi\",\"Cameroon\",\"Central African Republic\",\"Chad\",\"Comoros\",\"Congo, Dem. Rep.\",\"Congo, Rep.\",\"Cote d'Ivoire\",\"Djibouti\",\"Egypt\",\"Equatorial Guinea\",\"Eritrea\",\"Ethiopia\",\"Gabon\",\"Gambia\",\"Ghana\",\"Guinea\",\"Guinea-Bissau\",\"Kenya\",\"Lesotho\",\"Liberia\",\"Libya\",\"Madagascar\",\"Malawi\",\"Mali\",\"Mauritania\",\"Mauritius\",\"Morocco\",\"Mozambique\",\"Namibia\",\"Niger\",\"Nigeria\",\"Reunion\",\"Rwanda\",\"Sao Tome and Principe\",\"Senegal\",\"Sierra Leone\",\"Somalia\",\"South Africa\",\"Sudan\",\"Swaziland\",\"Tanzania\",\"Togo\",\"Tunisia\",\"Uganda\",\"Zambia\",\"Zimbabwe\"],\"legendgroup\":\"Africa\",\"locations\":[\"DZA\",\"AGO\",\"BEN\",\"BWA\",\"BFA\",\"BDI\",\"CMR\",\"CAF\",\"TCD\",\"COM\",\"COD\",\"COG\",\"CIV\",\"DJI\",\"EGY\",\"GNQ\",\"ERI\",\"ETH\",\"GAB\",\"GMB\",\"GHA\",\"GIN\",\"GNB\",\"KEN\",\"LSO\",\"LBR\",\"LBY\",\"MDG\",\"MWI\",\"MLI\",\"MRT\",\"MUS\",\"MAR\",\"MOZ\",\"NAM\",\"NER\",\"NGA\",\"REU\",\"RWA\",\"STP\",\"SEN\",\"SLE\",\"SOM\",\"ZAF\",\"SDN\",\"SWZ\",\"TZA\",\"TGO\",\"TUN\",\"UGA\",\"ZMB\",\"ZWE\"],\"marker\":{\"color\":\"#00cc96\",\"size\":[10270856,4561361,1925173,474639,4713416,2667518,5359923,1392284,2894855,170928,15577932,940458,3300000,71851,25009741,232922,1542611,22815614,434904,323150,6391288,2876726,601095,7454779,813338,975950,1201578,5181679,3221238,4241884,1076852,609816,11406350,7038035,548080,3692184,37173340,308700,2822082,61325,3054547,2295678,2780415,16151549,9753392,326741,9452826,1357445,3950849,6675501,3016000,3646340],\"sizemode\":\"area\",\"sizeref\":3296707.74,\"symbol\":\"circle\"},\"mode\":\"markers\",\"name\":\"Africa\",\"showlegend\":true,\"type\":\"scattergeo\"},{\"geo\":\"geo\",\"hovertemplate\":\"<b>%{hovertext}</b><br><br>continent=Americas<br>year=1957<br>pop=%{marker.size}<br>iso_alpha=%{location}<extra></extra>\",\"hovertext\":[\"Argentina\",\"Bolivia\",\"Brazil\",\"Canada\",\"Chile\",\"Colombia\",\"Costa Rica\",\"Cuba\",\"Dominican Republic\",\"Ecuador\",\"El Salvador\",\"Guatemala\",\"Haiti\",\"Honduras\",\"Jamaica\",\"Mexico\",\"Nicaragua\",\"Panama\",\"Paraguay\",\"Peru\",\"Puerto Rico\",\"Trinidad and Tobago\",\"United States\",\"Uruguay\",\"Venezuela\"],\"legendgroup\":\"Americas\",\"locations\":[\"ARG\",\"BOL\",\"BRA\",\"CAN\",\"CHL\",\"COL\",\"CRI\",\"CUB\",\"DOM\",\"ECU\",\"SLV\",\"GTM\",\"HTI\",\"HND\",\"JAM\",\"MEX\",\"NIC\",\"PAN\",\"PRY\",\"PER\",\"PRI\",\"TTO\",\"USA\",\"URY\",\"VEN\"],\"marker\":{\"color\":\"#ab63fa\",\"size\":[19610538,3211738,65551171,17010154,7048426,14485993,1112300,6640752,2923186,4058385,2355805,3640876,3507701,1770390,1535090,35015548,1358828,1063506,1770902,9146100,2260000,764900,171984000,2424959,6702668],\"sizemode\":\"area\",\"sizeref\":3296707.74,\"symbol\":\"circle\"},\"mode\":\"markers\",\"name\":\"Americas\",\"showlegend\":true,\"type\":\"scattergeo\"},{\"geo\":\"geo\",\"hovertemplate\":\"<b>%{hovertext}</b><br><br>continent=Oceania<br>year=1957<br>pop=%{marker.size}<br>iso_alpha=%{location}<extra></extra>\",\"hovertext\":[\"Australia\",\"New Zealand\"],\"legendgroup\":\"Oceania\",\"locations\":[\"AUS\",\"NZL\"],\"marker\":{\"color\":\"#FFA15A\",\"size\":[9712569,2229407],\"sizemode\":\"area\",\"sizeref\":3296707.74,\"symbol\":\"circle\"},\"mode\":\"markers\",\"name\":\"Oceania\",\"showlegend\":true,\"type\":\"scattergeo\"}],\"name\":\"1957\"},{\"data\":[{\"geo\":\"geo\",\"hovertemplate\":\"<b>%{hovertext}</b><br><br>continent=Asia<br>year=1962<br>pop=%{marker.size}<br>iso_alpha=%{location}<extra></extra>\",\"hovertext\":[\"Afghanistan\",\"Bahrain\",\"Bangladesh\",\"Cambodia\",\"China\",\"Hong Kong, China\",\"India\",\"Indonesia\",\"Iran\",\"Iraq\",\"Israel\",\"Japan\",\"Jordan\",\"Korea, Dem. Rep.\",\"Korea, Rep.\",\"Kuwait\",\"Lebanon\",\"Malaysia\",\"Mongolia\",\"Myanmar\",\"Nepal\",\"Oman\",\"Pakistan\",\"Philippines\",\"Saudi Arabia\",\"Singapore\",\"Sri Lanka\",\"Syria\",\"Taiwan\",\"Thailand\",\"Vietnam\",\"West Bank and Gaza\",\"Yemen, Rep.\"],\"legendgroup\":\"Asia\",\"locations\":[\"AFG\",\"BHR\",\"BGD\",\"KHM\",\"CHN\",\"HKG\",\"IND\",\"IDN\",\"IRN\",\"IRQ\",\"ISR\",\"JPN\",\"JOR\",\"KOR\",\"KOR\",\"KWT\",\"LBN\",\"MYS\",\"MNG\",\"MMR\",\"NPL\",\"OMN\",\"PAK\",\"PHL\",\"SAU\",\"SGP\",\"LKA\",\"SYR\",\"TWN\",\"THA\",\"VNM\",\"PSE\",\"YEM\"],\"marker\":{\"color\":\"#636efa\",\"size\":[10267083,171863,56839289,6083619,665770000,3305200,454000000,99028000,22874000,7240260,2310904,95831757,933559,10917494,26420307,358266,1886848,8906385,1010280,23634436,10332057,628164,53100671,30325264,4943029,1750200,10421936,4834621,11918938,29263397,33796140,1133134,6120081],\"sizemode\":\"area\",\"sizeref\":3296707.74,\"symbol\":\"circle\"},\"mode\":\"markers\",\"name\":\"Asia\",\"showlegend\":true,\"type\":\"scattergeo\"},{\"geo\":\"geo\",\"hovertemplate\":\"<b>%{hovertext}</b><br><br>continent=Europe<br>year=1962<br>pop=%{marker.size}<br>iso_alpha=%{location}<extra></extra>\",\"hovertext\":[\"Albania\",\"Austria\",\"Belgium\",\"Bosnia and Herzegovina\",\"Bulgaria\",\"Croatia\",\"Czech Republic\",\"Denmark\",\"Finland\",\"France\",\"Germany\",\"Greece\",\"Hungary\",\"Iceland\",\"Ireland\",\"Italy\",\"Montenegro\",\"Netherlands\",\"Norway\",\"Poland\",\"Portugal\",\"Romania\",\"Serbia\",\"Slovak Republic\",\"Slovenia\",\"Spain\",\"Sweden\",\"Switzerland\",\"Turkey\",\"United Kingdom\"],\"legendgroup\":\"Europe\",\"locations\":[\"ALB\",\"AUT\",\"BEL\",\"BIH\",\"BGR\",\"HRV\",\"CZE\",\"DNK\",\"FIN\",\"FRA\",\"DEU\",\"GRC\",\"HUN\",\"ISL\",\"IRL\",\"ITA\",\"MNE\",\"NLD\",\"NOR\",\"POL\",\"PRT\",\"ROU\",\"SRB\",\"SVK\",\"SVN\",\"ESP\",\"SWE\",\"CHE\",\"TUR\",\"GBR\"],\"marker\":{\"color\":\"#EF553B\",\"size\":[1728137,7129864,9218400,3349000,8012946,4076557,9620282,4646899,4491443,47124000,73739117,8448233,10063000,182053,2830000,50843200,474528,11805689,3638919,30329617,9019800,18680721,7616060,4237384,1582962,31158061,7561588,5666000,29788695,53292000],\"sizemode\":\"area\",\"sizeref\":3296707.74,\"symbol\":\"circle\"},\"mode\":\"markers\",\"name\":\"Europe\",\"showlegend\":true,\"type\":\"scattergeo\"},{\"geo\":\"geo\",\"hovertemplate\":\"<b>%{hovertext}</b><br><br>continent=Africa<br>year=1962<br>pop=%{marker.size}<br>iso_alpha=%{location}<extra></extra>\",\"hovertext\":[\"Algeria\",\"Angola\",\"Benin\",\"Botswana\",\"Burkina Faso\",\"Burundi\",\"Cameroon\",\"Central African Republic\",\"Chad\",\"Comoros\",\"Congo, Dem. Rep.\",\"Congo, Rep.\",\"Cote d'Ivoire\",\"Djibouti\",\"Egypt\",\"Equatorial Guinea\",\"Eritrea\",\"Ethiopia\",\"Gabon\",\"Gambia\",\"Ghana\",\"Guinea\",\"Guinea-Bissau\",\"Kenya\",\"Lesotho\",\"Liberia\",\"Libya\",\"Madagascar\",\"Malawi\",\"Mali\",\"Mauritania\",\"Mauritius\",\"Morocco\",\"Mozambique\",\"Namibia\",\"Niger\",\"Nigeria\",\"Reunion\",\"Rwanda\",\"Sao Tome and Principe\",\"Senegal\",\"Sierra Leone\",\"Somalia\",\"South Africa\",\"Sudan\",\"Swaziland\",\"Tanzania\",\"Togo\",\"Tunisia\",\"Uganda\",\"Zambia\",\"Zimbabwe\"],\"legendgroup\":\"Africa\",\"locations\":[\"DZA\",\"AGO\",\"BEN\",\"BWA\",\"BFA\",\"BDI\",\"CMR\",\"CAF\",\"TCD\",\"COM\",\"COD\",\"COG\",\"CIV\",\"DJI\",\"EGY\",\"GNQ\",\"ERI\",\"ETH\",\"GAB\",\"GMB\",\"GHA\",\"GIN\",\"GNB\",\"KEN\",\"LSO\",\"LBR\",\"LBY\",\"MDG\",\"MWI\",\"MLI\",\"MRT\",\"MUS\",\"MAR\",\"MOZ\",\"NAM\",\"NER\",\"NGA\",\"REU\",\"RWA\",\"STP\",\"SEN\",\"SLE\",\"SOM\",\"ZAF\",\"SDN\",\"SWZ\",\"TZA\",\"TGO\",\"TUN\",\"UGA\",\"ZMB\",\"ZWE\"],\"marker\":{\"color\":\"#00cc96\",\"size\":[11000948,4826015,2151895,512764,4919632,2961915,5793633,1523478,3150417,191689,17486434,1047924,3832408,89898,28173309,249220,1666618,25145372,455661,374020,7355248,3140003,627820,8678557,893143,1112796,1441863,5703324,3628608,4690372,1146757,701016,13056604,7788944,621392,4076008,41871351,358900,3051242,65345,3430243,2467895,3080153,18356657,11183227,370006,10863958,1528098,4286552,7688797,3421000,4277736],\"sizemode\":\"area\",\"sizeref\":3296707.74,\"symbol\":\"circle\"},\"mode\":\"markers\",\"name\":\"Africa\",\"showlegend\":true,\"type\":\"scattergeo\"},{\"geo\":\"geo\",\"hovertemplate\":\"<b>%{hovertext}</b><br><br>continent=Americas<br>year=1962<br>pop=%{marker.size}<br>iso_alpha=%{location}<extra></extra>\",\"hovertext\":[\"Argentina\",\"Bolivia\",\"Brazil\",\"Canada\",\"Chile\",\"Colombia\",\"Costa Rica\",\"Cuba\",\"Dominican Republic\",\"Ecuador\",\"El Salvador\",\"Guatemala\",\"Haiti\",\"Honduras\",\"Jamaica\",\"Mexico\",\"Nicaragua\",\"Panama\",\"Paraguay\",\"Peru\",\"Puerto Rico\",\"Trinidad and Tobago\",\"United States\",\"Uruguay\",\"Venezuela\"],\"legendgroup\":\"Americas\",\"locations\":[\"ARG\",\"BOL\",\"BRA\",\"CAN\",\"CHL\",\"COL\",\"CRI\",\"CUB\",\"DOM\",\"ECU\",\"SLV\",\"GTM\",\"HTI\",\"HND\",\"JAM\",\"MEX\",\"NIC\",\"PAN\",\"PRY\",\"PER\",\"PRI\",\"TTO\",\"USA\",\"URY\",\"VEN\"],\"marker\":{\"color\":\"#ab63fa\",\"size\":[21283783,3593918,76039390,18985849,7961258,17009885,1345187,7254373,3453434,4681707,2747687,4208858,3880130,2090162,1665128,41121485,1590597,1215725,2009813,10516500,2448046,887498,186538000,2598466,8143375],\"sizemode\":\"area\",\"sizeref\":3296707.74,\"symbol\":\"circle\"},\"mode\":\"markers\",\"name\":\"Americas\",\"showlegend\":true,\"type\":\"scattergeo\"},{\"geo\":\"geo\",\"hovertemplate\":\"<b>%{hovertext}</b><br><br>continent=Oceania<br>year=1962<br>pop=%{marker.size}<br>iso_alpha=%{location}<extra></extra>\",\"hovertext\":[\"Australia\",\"New Zealand\"],\"legendgroup\":\"Oceania\",\"locations\":[\"AUS\",\"NZL\"],\"marker\":{\"color\":\"#FFA15A\",\"size\":[10794968,2488550],\"sizemode\":\"area\",\"sizeref\":3296707.74,\"symbol\":\"circle\"},\"mode\":\"markers\",\"name\":\"Oceania\",\"showlegend\":true,\"type\":\"scattergeo\"}],\"name\":\"1962\"},{\"data\":[{\"geo\":\"geo\",\"hovertemplate\":\"<b>%{hovertext}</b><br><br>continent=Asia<br>year=1967<br>pop=%{marker.size}<br>iso_alpha=%{location}<extra></extra>\",\"hovertext\":[\"Afghanistan\",\"Bahrain\",\"Bangladesh\",\"Cambodia\",\"China\",\"Hong Kong, China\",\"India\",\"Indonesia\",\"Iran\",\"Iraq\",\"Israel\",\"Japan\",\"Jordan\",\"Korea, Dem. Rep.\",\"Korea, Rep.\",\"Kuwait\",\"Lebanon\",\"Malaysia\",\"Mongolia\",\"Myanmar\",\"Nepal\",\"Oman\",\"Pakistan\",\"Philippines\",\"Saudi Arabia\",\"Singapore\",\"Sri Lanka\",\"Syria\",\"Taiwan\",\"Thailand\",\"Vietnam\",\"West Bank and Gaza\",\"Yemen, Rep.\"],\"legendgroup\":\"Asia\",\"locations\":[\"AFG\",\"BHR\",\"BGD\",\"KHM\",\"CHN\",\"HKG\",\"IND\",\"IDN\",\"IRN\",\"IRQ\",\"ISR\",\"JPN\",\"JOR\",\"KOR\",\"KOR\",\"KWT\",\"LBN\",\"MYS\",\"MNG\",\"MMR\",\"NPL\",\"OMN\",\"PAK\",\"PHL\",\"SAU\",\"SGP\",\"LKA\",\"SYR\",\"TWN\",\"THA\",\"VNM\",\"PSE\",\"YEM\"],\"marker\":{\"color\":\"#636efa\",\"size\":[11537966,202182,62821884,6960067,754550000,3722800,506000000,109343000,26538000,8519282,2693585,100825279,1255058,12617009,30131000,575003,2186894,10154878,1149500,25870271,11261690,714775,60641899,35356600,5618198,1977600,11737396,5680812,13648692,34024249,39463910,1142636,6740785],\"sizemode\":\"area\",\"sizeref\":3296707.74,\"symbol\":\"circle\"},\"mode\":\"markers\",\"name\":\"Asia\",\"showlegend\":true,\"type\":\"scattergeo\"},{\"geo\":\"geo\",\"hovertemplate\":\"<b>%{hovertext}</b><br><br>continent=Europe<br>year=1967<br>pop=%{marker.size}<br>iso_alpha=%{location}<extra></extra>\",\"hovertext\":[\"Albania\",\"Austria\",\"Belgium\",\"Bosnia and Herzegovina\",\"Bulgaria\",\"Croatia\",\"Czech Republic\",\"Denmark\",\"Finland\",\"France\",\"Germany\",\"Greece\",\"Hungary\",\"Iceland\",\"Ireland\",\"Italy\",\"Montenegro\",\"Netherlands\",\"Norway\",\"Poland\",\"Portugal\",\"Romania\",\"Serbia\",\"Slovak Republic\",\"Slovenia\",\"Spain\",\"Sweden\",\"Switzerland\",\"Turkey\",\"United Kingdom\"],\"legendgroup\":\"Europe\",\"locations\":[\"ALB\",\"AUT\",\"BEL\",\"BIH\",\"BGR\",\"HRV\",\"CZE\",\"DNK\",\"FIN\",\"FRA\",\"DEU\",\"GRC\",\"HUN\",\"ISL\",\"IRL\",\"ITA\",\"MNE\",\"NLD\",\"NOR\",\"POL\",\"PRT\",\"ROU\",\"SRB\",\"SVK\",\"SVN\",\"ESP\",\"SWE\",\"CHE\",\"TUR\",\"GBR\"],\"marker\":{\"color\":\"#EF553B\",\"size\":[1984060,7376998,9556500,3585000,8310226,4174366,9835109,4838800,4605744,49569000,76368453,8716441,10223422,198676,2900100,52667100,501035,12596822,3786019,31785378,9103000,19284814,7971222,4442238,1646912,32850275,7867931,6063000,33411317,54959000],\"sizemode\":\"area\",\"sizeref\":3296707.74,\"symbol\":\"circle\"},\"mode\":\"markers\",\"name\":\"Europe\",\"showlegend\":true,\"type\":\"scattergeo\"},{\"geo\":\"geo\",\"hovertemplate\":\"<b>%{hovertext}</b><br><br>continent=Africa<br>year=1967<br>pop=%{marker.size}<br>iso_alpha=%{location}<extra></extra>\",\"hovertext\":[\"Algeria\",\"Angola\",\"Benin\",\"Botswana\",\"Burkina Faso\",\"Burundi\",\"Cameroon\",\"Central African Republic\",\"Chad\",\"Comoros\",\"Congo, Dem. Rep.\",\"Congo, Rep.\",\"Cote d'Ivoire\",\"Djibouti\",\"Egypt\",\"Equatorial Guinea\",\"Eritrea\",\"Ethiopia\",\"Gabon\",\"Gambia\",\"Ghana\",\"Guinea\",\"Guinea-Bissau\",\"Kenya\",\"Lesotho\",\"Liberia\",\"Libya\",\"Madagascar\",\"Malawi\",\"Mali\",\"Mauritania\",\"Mauritius\",\"Morocco\",\"Mozambique\",\"Namibia\",\"Niger\",\"Nigeria\",\"Reunion\",\"Rwanda\",\"Sao Tome and Principe\",\"Senegal\",\"Sierra Leone\",\"Somalia\",\"South Africa\",\"Sudan\",\"Swaziland\",\"Tanzania\",\"Togo\",\"Tunisia\",\"Uganda\",\"Zambia\",\"Zimbabwe\"],\"legendgroup\":\"Africa\",\"locations\":[\"DZA\",\"AGO\",\"BEN\",\"BWA\",\"BFA\",\"BDI\",\"CMR\",\"CAF\",\"TCD\",\"COM\",\"COD\",\"COG\",\"CIV\",\"DJI\",\"EGY\",\"GNQ\",\"ERI\",\"ETH\",\"GAB\",\"GMB\",\"GHA\",\"GIN\",\"GNB\",\"KEN\",\"LSO\",\"LBR\",\"LBY\",\"MDG\",\"MWI\",\"MLI\",\"MRT\",\"MUS\",\"MAR\",\"MOZ\",\"NAM\",\"NER\",\"NGA\",\"REU\",\"RWA\",\"STP\",\"SEN\",\"SLE\",\"SOM\",\"ZAF\",\"SDN\",\"SWZ\",\"TZA\",\"TGO\",\"TUN\",\"UGA\",\"ZMB\",\"ZWE\"],\"marker\":{\"color\":\"#00cc96\",\"size\":[12760499,5247469,2427334,553541,5127935,3330989,6335506,1733638,3495967,217378,19941073,1179760,4744870,127617,31681188,259864,1820319,27860297,489004,439593,8490213,3451418,601287,10191512,996380,1279406,1759224,6334556,4147252,5212416,1230542,789309,14770296,8680909,706640,4534062,47287752,414024,3451079,70787,3965841,2662190,3428839,20997321,12716129,420690,12607312,1735550,4786986,8900294,3900000,4995432],\"sizemode\":\"area\",\"sizeref\":3296707.74,\"symbol\":\"circle\"},\"mode\":\"markers\",\"name\":\"Africa\",\"showlegend\":true,\"type\":\"scattergeo\"},{\"geo\":\"geo\",\"hovertemplate\":\"<b>%{hovertext}</b><br><br>continent=Americas<br>year=1967<br>pop=%{marker.size}<br>iso_alpha=%{location}<extra></extra>\",\"hovertext\":[\"Argentina\",\"Bolivia\",\"Brazil\",\"Canada\",\"Chile\",\"Colombia\",\"Costa Rica\",\"Cuba\",\"Dominican Republic\",\"Ecuador\",\"El Salvador\",\"Guatemala\",\"Haiti\",\"Honduras\",\"Jamaica\",\"Mexico\",\"Nicaragua\",\"Panama\",\"Paraguay\",\"Peru\",\"Puerto Rico\",\"Trinidad and Tobago\",\"United States\",\"Uruguay\",\"Venezuela\"],\"legendgroup\":\"Americas\",\"locations\":[\"ARG\",\"BOL\",\"BRA\",\"CAN\",\"CHL\",\"COL\",\"CRI\",\"CUB\",\"DOM\",\"ECU\",\"SLV\",\"GTM\",\"HTI\",\"HND\",\"JAM\",\"MEX\",\"NIC\",\"PAN\",\"PRY\",\"PER\",\"PRI\",\"TTO\",\"USA\",\"URY\",\"VEN\"],\"marker\":{\"color\":\"#ab63fa\",\"size\":[22934225,4040665,88049823,20819767,8858908,19764027,1588717,8139332,4049146,5432424,3232927,4690773,4318137,2500689,1861096,47995559,1865490,1405486,2287985,12132200,2648961,960155,198712000,2748579,9709552],\"sizemode\":\"area\",\"sizeref\":3296707.74,\"symbol\":\"circle\"},\"mode\":\"markers\",\"name\":\"Americas\",\"showlegend\":true,\"type\":\"scattergeo\"},{\"geo\":\"geo\",\"hovertemplate\":\"<b>%{hovertext}</b><br><br>continent=Oceania<br>year=1967<br>pop=%{marker.size}<br>iso_alpha=%{location}<extra></extra>\",\"hovertext\":[\"Australia\",\"New Zealand\"],\"legendgroup\":\"Oceania\",\"locations\":[\"AUS\",\"NZL\"],\"marker\":{\"color\":\"#FFA15A\",\"size\":[11872264,2728150],\"sizemode\":\"area\",\"sizeref\":3296707.74,\"symbol\":\"circle\"},\"mode\":\"markers\",\"name\":\"Oceania\",\"showlegend\":true,\"type\":\"scattergeo\"}],\"name\":\"1967\"},{\"data\":[{\"geo\":\"geo\",\"hovertemplate\":\"<b>%{hovertext}</b><br><br>continent=Asia<br>year=1972<br>pop=%{marker.size}<br>iso_alpha=%{location}<extra></extra>\",\"hovertext\":[\"Afghanistan\",\"Bahrain\",\"Bangladesh\",\"Cambodia\",\"China\",\"Hong Kong, China\",\"India\",\"Indonesia\",\"Iran\",\"Iraq\",\"Israel\",\"Japan\",\"Jordan\",\"Korea, Dem. Rep.\",\"Korea, Rep.\",\"Kuwait\",\"Lebanon\",\"Malaysia\",\"Mongolia\",\"Myanmar\",\"Nepal\",\"Oman\",\"Pakistan\",\"Philippines\",\"Saudi Arabia\",\"Singapore\",\"Sri Lanka\",\"Syria\",\"Taiwan\",\"Thailand\",\"Vietnam\",\"West Bank and Gaza\",\"Yemen, Rep.\"],\"legendgroup\":\"Asia\",\"locations\":[\"AFG\",\"BHR\",\"BGD\",\"KHM\",\"CHN\",\"HKG\",\"IND\",\"IDN\",\"IRN\",\"IRQ\",\"ISR\",\"JPN\",\"JOR\",\"KOR\",\"KOR\",\"KWT\",\"LBN\",\"MYS\",\"MNG\",\"MMR\",\"NPL\",\"OMN\",\"PAK\",\"PHL\",\"SAU\",\"SGP\",\"LKA\",\"SYR\",\"TWN\",\"THA\",\"VNM\",\"PSE\",\"YEM\"],\"marker\":{\"color\":\"#636efa\",\"size\":[13079460,230800,70759295,7450606,862030000,4115700,567000000,121282000,30614000,10061506,3095893,107188273,1613551,14781241,33505000,841934,2680018,11441462,1320500,28466390,12412593,829050,69325921,40850141,6472756,2152400,13016733,6701172,15226039,39276153,44655014,1089572,7407075],\"sizemode\":\"area\",\"sizeref\":3296707.74,\"symbol\":\"circle\"},\"mode\":\"markers\",\"name\":\"Asia\",\"showlegend\":true,\"type\":\"scattergeo\"},{\"geo\":\"geo\",\"hovertemplate\":\"<b>%{hovertext}</b><br><br>continent=Europe<br>year=1972<br>pop=%{marker.size}<br>iso_alpha=%{location}<extra></extra>\",\"hovertext\":[\"Albania\",\"Austria\",\"Belgium\",\"Bosnia and Herzegovina\",\"Bulgaria\",\"Croatia\",\"Czech Republic\",\"Denmark\",\"Finland\",\"France\",\"Germany\",\"Greece\",\"Hungary\",\"Iceland\",\"Ireland\",\"Italy\",\"Montenegro\",\"Netherlands\",\"Norway\",\"Poland\",\"Portugal\",\"Romania\",\"Serbia\",\"Slovak Republic\",\"Slovenia\",\"Spain\",\"Sweden\",\"Switzerland\",\"Turkey\",\"United Kingdom\"],\"legendgroup\":\"Europe\",\"locations\":[\"ALB\",\"AUT\",\"BEL\",\"BIH\",\"BGR\",\"HRV\",\"CZE\",\"DNK\",\"FIN\",\"FRA\",\"DEU\",\"GRC\",\"HUN\",\"ISL\",\"IRL\",\"ITA\",\"MNE\",\"NLD\",\"NOR\",\"POL\",\"PRT\",\"ROU\",\"SRB\",\"SVK\",\"SVN\",\"ESP\",\"SWE\",\"CHE\",\"TUR\",\"GBR\"],\"marker\":{\"color\":\"#EF553B\",\"size\":[2263554,7544201,9709100,3819000,8576200,4225310,9862158,4991596,4639657,51732000,78717088,8888628,10394091,209275,3024400,54365564,527678,13329874,3933004,33039545,8970450,20662648,8313288,4593433,1694510,34513161,8122293,6401400,37492953,56079000],\"sizemode\":\"area\",\"sizeref\":3296707.74,\"symbol\":\"circle\"},\"mode\":\"markers\",\"name\":\"Europe\",\"showlegend\":true,\"type\":\"scattergeo\"},{\"geo\":\"geo\",\"hovertemplate\":\"<b>%{hovertext}</b><br><br>continent=Africa<br>year=1972<br>pop=%{marker.size}<br>iso_alpha=%{location}<extra></extra>\",\"hovertext\":[\"Algeria\",\"Angola\",\"Benin\",\"Botswana\",\"Burkina Faso\",\"Burundi\",\"Cameroon\",\"Central African Republic\",\"Chad\",\"Comoros\",\"Congo, Dem. Rep.\",\"Congo, Rep.\",\"Cote d'Ivoire\",\"Djibouti\",\"Egypt\",\"Equatorial Guinea\",\"Eritrea\",\"Ethiopia\",\"Gabon\",\"Gambia\",\"Ghana\",\"Guinea\",\"Guinea-Bissau\",\"Kenya\",\"Lesotho\",\"Liberia\",\"Libya\",\"Madagascar\",\"Malawi\",\"Mali\",\"Mauritania\",\"Mauritius\",\"Morocco\",\"Mozambique\",\"Namibia\",\"Niger\",\"Nigeria\",\"Reunion\",\"Rwanda\",\"Sao Tome and Principe\",\"Senegal\",\"Sierra Leone\",\"Somalia\",\"South Africa\",\"Sudan\",\"Swaziland\",\"Tanzania\",\"Togo\",\"Tunisia\",\"Uganda\",\"Zambia\",\"Zimbabwe\"],\"legendgroup\":\"Africa\",\"locations\":[\"DZA\",\"AGO\",\"BEN\",\"BWA\",\"BFA\",\"BDI\",\"CMR\",\"CAF\",\"TCD\",\"COM\",\"COD\",\"COG\",\"CIV\",\"DJI\",\"EGY\",\"GNQ\",\"ERI\",\"ETH\",\"GAB\",\"GMB\",\"GHA\",\"GIN\",\"GNB\",\"KEN\",\"LSO\",\"LBR\",\"LBY\",\"MDG\",\"MWI\",\"MLI\",\"MRT\",\"MUS\",\"MAR\",\"MOZ\",\"NAM\",\"NER\",\"NGA\",\"REU\",\"RWA\",\"STP\",\"SEN\",\"SLE\",\"SOM\",\"ZAF\",\"SDN\",\"SWZ\",\"TZA\",\"TGO\",\"TUN\",\"UGA\",\"ZMB\",\"ZWE\"],\"marker\":{\"color\":\"#00cc96\",\"size\":[14760787,5894858,2761407,619351,5433886,3529983,7021028,1927260,3899068,250027,23007669,1340458,6071696,178848,34807417,277603,2260187,30770372,537977,517101,9354120,3811387,625361,12044785,1116779,1482628,2183877,7082430,4730997,5828158,1332786,851334,16660670,9809596,821782,5060262,53740085,461633,3992121,76595,4588696,2879013,3840161,23935810,14597019,480105,14706593,2056351,5303507,10190285,4506497,5861135],\"sizemode\":\"area\",\"sizeref\":3296707.74,\"symbol\":\"circle\"},\"mode\":\"markers\",\"name\":\"Africa\",\"showlegend\":true,\"type\":\"scattergeo\"},{\"geo\":\"geo\",\"hovertemplate\":\"<b>%{hovertext}</b><br><br>continent=Americas<br>year=1972<br>pop=%{marker.size}<br>iso_alpha=%{location}<extra></extra>\",\"hovertext\":[\"Argentina\",\"Bolivia\",\"Brazil\",\"Canada\",\"Chile\",\"Colombia\",\"Costa Rica\",\"Cuba\",\"Dominican Republic\",\"Ecuador\",\"El Salvador\",\"Guatemala\",\"Haiti\",\"Honduras\",\"Jamaica\",\"Mexico\",\"Nicaragua\",\"Panama\",\"Paraguay\",\"Peru\",\"Puerto Rico\",\"Trinidad and Tobago\",\"United States\",\"Uruguay\",\"Venezuela\"],\"legendgroup\":\"Americas\",\"locations\":[\"ARG\",\"BOL\",\"BRA\",\"CAN\",\"CHL\",\"COL\",\"CRI\",\"CUB\",\"DOM\",\"ECU\",\"SLV\",\"GTM\",\"HTI\",\"HND\",\"JAM\",\"MEX\",\"NIC\",\"PAN\",\"PRY\",\"PER\",\"PRI\",\"TTO\",\"USA\",\"URY\",\"VEN\"],\"marker\":{\"color\":\"#ab63fa\",\"size\":[24779799,4565872,100840058,22284500,9717524,22542890,1834796,8831348,4671329,6298651,3790903,5149581,4698301,2965146,1997616,55984294,2182908,1616384,2614104,13954700,2847132,975199,209896000,2829526,11515649],\"sizemode\":\"area\",\"sizeref\":3296707.74,\"symbol\":\"circle\"},\"mode\":\"markers\",\"name\":\"Americas\",\"showlegend\":true,\"type\":\"scattergeo\"},{\"geo\":\"geo\",\"hovertemplate\":\"<b>%{hovertext}</b><br><br>continent=Oceania<br>year=1972<br>pop=%{marker.size}<br>iso_alpha=%{location}<extra></extra>\",\"hovertext\":[\"Australia\",\"New Zealand\"],\"legendgroup\":\"Oceania\",\"locations\":[\"AUS\",\"NZL\"],\"marker\":{\"color\":\"#FFA15A\",\"size\":[13177000,2929100],\"sizemode\":\"area\",\"sizeref\":3296707.74,\"symbol\":\"circle\"},\"mode\":\"markers\",\"name\":\"Oceania\",\"showlegend\":true,\"type\":\"scattergeo\"}],\"name\":\"1972\"},{\"data\":[{\"geo\":\"geo\",\"hovertemplate\":\"<b>%{hovertext}</b><br><br>continent=Asia<br>year=1977<br>pop=%{marker.size}<br>iso_alpha=%{location}<extra></extra>\",\"hovertext\":[\"Afghanistan\",\"Bahrain\",\"Bangladesh\",\"Cambodia\",\"China\",\"Hong Kong, China\",\"India\",\"Indonesia\",\"Iran\",\"Iraq\",\"Israel\",\"Japan\",\"Jordan\",\"Korea, Dem. Rep.\",\"Korea, Rep.\",\"Kuwait\",\"Lebanon\",\"Malaysia\",\"Mongolia\",\"Myanmar\",\"Nepal\",\"Oman\",\"Pakistan\",\"Philippines\",\"Saudi Arabia\",\"Singapore\",\"Sri Lanka\",\"Syria\",\"Taiwan\",\"Thailand\",\"Vietnam\",\"West Bank and Gaza\",\"Yemen, Rep.\"],\"legendgroup\":\"Asia\",\"locations\":[\"AFG\",\"BHR\",\"BGD\",\"KHM\",\"CHN\",\"HKG\",\"IND\",\"IDN\",\"IRN\",\"IRQ\",\"ISR\",\"JPN\",\"JOR\",\"KOR\",\"KOR\",\"KWT\",\"LBN\",\"MYS\",\"MNG\",\"MMR\",\"NPL\",\"OMN\",\"PAK\",\"PHL\",\"SAU\",\"SGP\",\"LKA\",\"SYR\",\"TWN\",\"THA\",\"VNM\",\"PSE\",\"YEM\"],\"marker\":{\"color\":\"#636efa\",\"size\":[14880372,297410,80428306,6978607,943455000,4583700,634000000,136725000,35480679,11882916,3495918,113872473,1937652,16325320,36436000,1140357,3115787,12845381,1528000,31528087,13933198,1004533,78152686,46850962,8128505,2325300,14116836,7932503,16785196,44148285,50533506,1261091,8403990],\"sizemode\":\"area\",\"sizeref\":3296707.74,\"symbol\":\"circle\"},\"mode\":\"markers\",\"name\":\"Asia\",\"showlegend\":true,\"type\":\"scattergeo\"},{\"geo\":\"geo\",\"hovertemplate\":\"<b>%{hovertext}</b><br><br>continent=Europe<br>year=1977<br>pop=%{marker.size}<br>iso_alpha=%{location}<extra></extra>\",\"hovertext\":[\"Albania\",\"Austria\",\"Belgium\",\"Bosnia and Herzegovina\",\"Bulgaria\",\"Croatia\",\"Czech Republic\",\"Denmark\",\"Finland\",\"France\",\"Germany\",\"Greece\",\"Hungary\",\"Iceland\",\"Ireland\",\"Italy\",\"Montenegro\",\"Netherlands\",\"Norway\",\"Poland\",\"Portugal\",\"Romania\",\"Serbia\",\"Slovak Republic\",\"Slovenia\",\"Spain\",\"Sweden\",\"Switzerland\",\"Turkey\",\"United Kingdom\"],\"legendgroup\":\"Europe\",\"locations\":[\"ALB\",\"AUT\",\"BEL\",\"BIH\",\"BGR\",\"HRV\",\"CZE\",\"DNK\",\"FIN\",\"FRA\",\"DEU\",\"GRC\",\"HUN\",\"ISL\",\"IRL\",\"ITA\",\"MNE\",\"NLD\",\"NOR\",\"POL\",\"PRT\",\"ROU\",\"SRB\",\"SVK\",\"SVN\",\"ESP\",\"SWE\",\"CHE\",\"TUR\",\"GBR\"],\"marker\":{\"color\":\"#EF553B\",\"size\":[2509048,7568430,9821800,4086000,8797022,4318673,10161915,5088419,4738902,53165019,78160773,9308479,10637171,221823,3271900,56059245,560073,13852989,4043205,34621254,9662600,21658597,8686367,4827803,1746919,36439000,8251648,6316424,42404033,56179000],\"sizemode\":\"area\",\"sizeref\":3296707.74,\"symbol\":\"circle\"},\"mode\":\"markers\",\"name\":\"Europe\",\"showlegend\":true,\"type\":\"scattergeo\"},{\"geo\":\"geo\",\"hovertemplate\":\"<b>%{hovertext}</b><br><br>continent=Africa<br>year=1977<br>pop=%{marker.size}<br>iso_alpha=%{location}<extra></extra>\",\"hovertext\":[\"Algeria\",\"Angola\",\"Benin\",\"Botswana\",\"Burkina Faso\",\"Burundi\",\"Cameroon\",\"Central African Republic\",\"Chad\",\"Comoros\",\"Congo, Dem. Rep.\",\"Congo, Rep.\",\"Cote d'Ivoire\",\"Djibouti\",\"Egypt\",\"Equatorial Guinea\",\"Eritrea\",\"Ethiopia\",\"Gabon\",\"Gambia\",\"Ghana\",\"Guinea\",\"Guinea-Bissau\",\"Kenya\",\"Lesotho\",\"Liberia\",\"Libya\",\"Madagascar\",\"Malawi\",\"Mali\",\"Mauritania\",\"Mauritius\",\"Morocco\",\"Mozambique\",\"Namibia\",\"Niger\",\"Nigeria\",\"Reunion\",\"Rwanda\",\"Sao Tome and Principe\",\"Senegal\",\"Sierra Leone\",\"Somalia\",\"South Africa\",\"Sudan\",\"Swaziland\",\"Tanzania\",\"Togo\",\"Tunisia\",\"Uganda\",\"Zambia\",\"Zimbabwe\"],\"legendgroup\":\"Africa\",\"locations\":[\"DZA\",\"AGO\",\"BEN\",\"BWA\",\"BFA\",\"BDI\",\"CMR\",\"CAF\",\"TCD\",\"COM\",\"COD\",\"COG\",\"CIV\",\"DJI\",\"EGY\",\"GNQ\",\"ERI\",\"ETH\",\"GAB\",\"GMB\",\"GHA\",\"GIN\",\"GNB\",\"KEN\",\"LSO\",\"LBR\",\"LBY\",\"MDG\",\"MWI\",\"MLI\",\"MRT\",\"MUS\",\"MAR\",\"MOZ\",\"NAM\",\"NER\",\"NGA\",\"REU\",\"RWA\",\"STP\",\"SEN\",\"SLE\",\"SOM\",\"ZAF\",\"SDN\",\"SWZ\",\"TZA\",\"TGO\",\"TUN\",\"UGA\",\"ZMB\",\"ZWE\"],\"marker\":{\"color\":\"#00cc96\",\"size\":[17152804,6162675,3168267,781472,5889574,3834415,7959865,2167533,4388260,304739,26480870,1536769,7459574,228694,38783863,192675,2512642,34617799,706367,608274,10538093,4227026,745228,14500404,1251524,1703617,2721783,8007166,5637246,6491649,1456688,913025,18396941,11127868,977026,5682086,62209173,492095,4657072,86796,5260855,3140897,4353666,27129932,17104986,551425,17129565,2308582,6005061,11457758,5216550,6642107],\"sizemode\":\"area\",\"sizeref\":3296707.74,\"symbol\":\"circle\"},\"mode\":\"markers\",\"name\":\"Africa\",\"showlegend\":true,\"type\":\"scattergeo\"},{\"geo\":\"geo\",\"hovertemplate\":\"<b>%{hovertext}</b><br><br>continent=Americas<br>year=1977<br>pop=%{marker.size}<br>iso_alpha=%{location}<extra></extra>\",\"hovertext\":[\"Argentina\",\"Bolivia\",\"Brazil\",\"Canada\",\"Chile\",\"Colombia\",\"Costa Rica\",\"Cuba\",\"Dominican Republic\",\"Ecuador\",\"El Salvador\",\"Guatemala\",\"Haiti\",\"Honduras\",\"Jamaica\",\"Mexico\",\"Nicaragua\",\"Panama\",\"Paraguay\",\"Peru\",\"Puerto Rico\",\"Trinidad and Tobago\",\"United States\",\"Uruguay\",\"Venezuela\"],\"legendgroup\":\"Americas\",\"locations\":[\"ARG\",\"BOL\",\"BRA\",\"CAN\",\"CHL\",\"COL\",\"CRI\",\"CUB\",\"DOM\",\"ECU\",\"SLV\",\"GTM\",\"HTI\",\"HND\",\"JAM\",\"MEX\",\"NIC\",\"PAN\",\"PRY\",\"PER\",\"PRI\",\"TTO\",\"USA\",\"URY\",\"VEN\"],\"marker\":{\"color\":\"#ab63fa\",\"size\":[26983828,5079716,114313951,23796400,10599793,25094412,2108457,9537988,5302800,7278866,4282586,5703430,4908554,3055235,2156814,63759976,2554598,1839782,2984494,15990099,3080828,1039009,220239000,2873520,13503563],\"sizemode\":\"area\",\"sizeref\":3296707.74,\"symbol\":\"circle\"},\"mode\":\"markers\",\"name\":\"Americas\",\"showlegend\":true,\"type\":\"scattergeo\"},{\"geo\":\"geo\",\"hovertemplate\":\"<b>%{hovertext}</b><br><br>continent=Oceania<br>year=1977<br>pop=%{marker.size}<br>iso_alpha=%{location}<extra></extra>\",\"hovertext\":[\"Australia\",\"New Zealand\"],\"legendgroup\":\"Oceania\",\"locations\":[\"AUS\",\"NZL\"],\"marker\":{\"color\":\"#FFA15A\",\"size\":[14074100,3164900],\"sizemode\":\"area\",\"sizeref\":3296707.74,\"symbol\":\"circle\"},\"mode\":\"markers\",\"name\":\"Oceania\",\"showlegend\":true,\"type\":\"scattergeo\"}],\"name\":\"1977\"},{\"data\":[{\"geo\":\"geo\",\"hovertemplate\":\"<b>%{hovertext}</b><br><br>continent=Asia<br>year=1982<br>pop=%{marker.size}<br>iso_alpha=%{location}<extra></extra>\",\"hovertext\":[\"Afghanistan\",\"Bahrain\",\"Bangladesh\",\"Cambodia\",\"China\",\"Hong Kong, China\",\"India\",\"Indonesia\",\"Iran\",\"Iraq\",\"Israel\",\"Japan\",\"Jordan\",\"Korea, Dem. Rep.\",\"Korea, Rep.\",\"Kuwait\",\"Lebanon\",\"Malaysia\",\"Mongolia\",\"Myanmar\",\"Nepal\",\"Oman\",\"Pakistan\",\"Philippines\",\"Saudi Arabia\",\"Singapore\",\"Sri Lanka\",\"Syria\",\"Taiwan\",\"Thailand\",\"Vietnam\",\"West Bank and Gaza\",\"Yemen, Rep.\"],\"legendgroup\":\"Asia\",\"locations\":[\"AFG\",\"BHR\",\"BGD\",\"KHM\",\"CHN\",\"HKG\",\"IND\",\"IDN\",\"IRN\",\"IRQ\",\"ISR\",\"JPN\",\"JOR\",\"KOR\",\"KOR\",\"KWT\",\"LBN\",\"MYS\",\"MNG\",\"MMR\",\"NPL\",\"OMN\",\"PAK\",\"PHL\",\"SAU\",\"SGP\",\"LKA\",\"SYR\",\"TWN\",\"THA\",\"VNM\",\"PSE\",\"YEM\"],\"marker\":{\"color\":\"#636efa\",\"size\":[12881816,377967,93074406,7272485,1000281000,5264500,708000000,153343000,43072751,14173318,3858421,118454974,2347031,17647518,39326000,1497494,3086876,14441916,1756032,34680442,15796314,1301048,91462088,53456774,11254672,2651869,15410151,9410494,18501390,48827160,56142181,1425876,9657618],\"sizemode\":\"area\",\"sizeref\":3296707.74,\"symbol\":\"circle\"},\"mode\":\"markers\",\"name\":\"Asia\",\"showlegend\":true,\"type\":\"scattergeo\"},{\"geo\":\"geo\",\"hovertemplate\":\"<b>%{hovertext}</b><br><br>continent=Europe<br>year=1982<br>pop=%{marker.size}<br>iso_alpha=%{location}<extra></extra>\",\"hovertext\":[\"Albania\",\"Austria\",\"Belgium\",\"Bosnia and Herzegovina\",\"Bulgaria\",\"Croatia\",\"Czech Republic\",\"Denmark\",\"Finland\",\"France\",\"Germany\",\"Greece\",\"Hungary\",\"Iceland\",\"Ireland\",\"Italy\",\"Montenegro\",\"Netherlands\",\"Norway\",\"Poland\",\"Portugal\",\"Romania\",\"Serbia\",\"Slovak Republic\",\"Slovenia\",\"Spain\",\"Sweden\",\"Switzerland\",\"Turkey\",\"United Kingdom\"],\"legendgroup\":\"Europe\",\"locations\":[\"ALB\",\"AUT\",\"BEL\",\"BIH\",\"BGR\",\"HRV\",\"CZE\",\"DNK\",\"FIN\",\"FRA\",\"DEU\",\"GRC\",\"HUN\",\"ISL\",\"IRL\",\"ITA\",\"MNE\",\"NLD\",\"NOR\",\"POL\",\"PRT\",\"ROU\",\"SRB\",\"SVK\",\"SVN\",\"ESP\",\"SWE\",\"CHE\",\"TUR\",\"GBR\"],\"marker\":{\"color\":\"#EF553B\",\"size\":[2780097,7574613,9856303,4172693,8892098,4413368,10303704,5117810,4826933,54433565,78335266,9786480,10705535,233997,3480000,56535636,562548,14310401,4114787,36227381,9859650,22356726,9032824,5048043,1861252,37983310,8325260,6468126,47328791,56339704],\"sizemode\":\"area\",\"sizeref\":3296707.74,\"symbol\":\"circle\"},\"mode\":\"markers\",\"name\":\"Europe\",\"showlegend\":true,\"type\":\"scattergeo\"},{\"geo\":\"geo\",\"hovertemplate\":\"<b>%{hovertext}</b><br><br>continent=Africa<br>year=1982<br>pop=%{marker.size}<br>iso_alpha=%{location}<extra></extra>\",\"hovertext\":[\"Algeria\",\"Angola\",\"Benin\",\"Botswana\",\"Burkina Faso\",\"Burundi\",\"Cameroon\",\"Central African Republic\",\"Chad\",\"Comoros\",\"Congo, Dem. Rep.\",\"Congo, Rep.\",\"Cote d'Ivoire\",\"Djibouti\",\"Egypt\",\"Equatorial Guinea\",\"Eritrea\",\"Ethiopia\",\"Gabon\",\"Gambia\",\"Ghana\",\"Guinea\",\"Guinea-Bissau\",\"Kenya\",\"Lesotho\",\"Liberia\",\"Libya\",\"Madagascar\",\"Malawi\",\"Mali\",\"Mauritania\",\"Mauritius\",\"Morocco\",\"Mozambique\",\"Namibia\",\"Niger\",\"Nigeria\",\"Reunion\",\"Rwanda\",\"Sao Tome and Principe\",\"Senegal\",\"Sierra Leone\",\"Somalia\",\"South Africa\",\"Sudan\",\"Swaziland\",\"Tanzania\",\"Togo\",\"Tunisia\",\"Uganda\",\"Zambia\",\"Zimbabwe\"],\"legendgroup\":\"Africa\",\"locations\":[\"DZA\",\"AGO\",\"BEN\",\"BWA\",\"BFA\",\"BDI\",\"CMR\",\"CAF\",\"TCD\",\"COM\",\"COD\",\"COG\",\"CIV\",\"DJI\",\"EGY\",\"GNQ\",\"ERI\",\"ETH\",\"GAB\",\"GMB\",\"GHA\",\"GIN\",\"GNB\",\"KEN\",\"LSO\",\"LBR\",\"LBY\",\"MDG\",\"MWI\",\"MLI\",\"MRT\",\"MUS\",\"MAR\",\"MOZ\",\"NAM\",\"NER\",\"NGA\",\"REU\",\"RWA\",\"STP\",\"SEN\",\"SLE\",\"SOM\",\"ZAF\",\"SDN\",\"SWZ\",\"TZA\",\"TGO\",\"TUN\",\"UGA\",\"ZMB\",\"ZWE\"],\"marker\":{\"color\":\"#00cc96\",\"size\":[20033753,7016384,3641603,970347,6634596,4580410,9250831,2476971,4875118,348643,30646495,1774735,9025951,305991,45681811,285483,2637297,38111756,753874,715523,11400338,4710497,825987,17661452,1411807,1956875,3344074,9171477,6502825,6998256,1622136,992040,20198730,12587223,1099010,6437188,73039376,517810,5507565,98593,6147783,3464522,5828892,31140029,20367053,649901,19844382,2644765,6734098,12939400,6100407,7636524],\"sizemode\":\"area\",\"sizeref\":3296707.74,\"symbol\":\"circle\"},\"mode\":\"markers\",\"name\":\"Africa\",\"showlegend\":true,\"type\":\"scattergeo\"},{\"geo\":\"geo\",\"hovertemplate\":\"<b>%{hovertext}</b><br><br>continent=Americas<br>year=1982<br>pop=%{marker.size}<br>iso_alpha=%{location}<extra></extra>\",\"hovertext\":[\"Argentina\",\"Bolivia\",\"Brazil\",\"Canada\",\"Chile\",\"Colombia\",\"Costa Rica\",\"Cuba\",\"Dominican Republic\",\"Ecuador\",\"El Salvador\",\"Guatemala\",\"Haiti\",\"Honduras\",\"Jamaica\",\"Mexico\",\"Nicaragua\",\"Panama\",\"Paraguay\",\"Peru\",\"Puerto Rico\",\"Trinidad and Tobago\",\"United States\",\"Uruguay\",\"Venezuela\"],\"legendgroup\":\"Americas\",\"locations\":[\"ARG\",\"BOL\",\"BRA\",\"CAN\",\"CHL\",\"COL\",\"CRI\",\"CUB\",\"DOM\",\"ECU\",\"SLV\",\"GTM\",\"HTI\",\"HND\",\"JAM\",\"MEX\",\"NIC\",\"PAN\",\"PRY\",\"PER\",\"PRI\",\"TTO\",\"USA\",\"URY\",\"VEN\"],\"marker\":{\"color\":\"#ab63fa\",\"size\":[29341374,5642224,128962939,25201900,11487112,27764644,2424367,9789224,5968349,8365850,4474873,6395630,5198399,3669448,2298309,71640904,2979423,2036305,3366439,18125129,3279001,1116479,232187835,2953997,15620766],\"sizemode\":\"area\",\"sizeref\":3296707.74,\"symbol\":\"circle\"},\"mode\":\"markers\",\"name\":\"Americas\",\"showlegend\":true,\"type\":\"scattergeo\"},{\"geo\":\"geo\",\"hovertemplate\":\"<b>%{hovertext}</b><br><br>continent=Oceania<br>year=1982<br>pop=%{marker.size}<br>iso_alpha=%{location}<extra></extra>\",\"hovertext\":[\"Australia\",\"New Zealand\"],\"legendgroup\":\"Oceania\",\"locations\":[\"AUS\",\"NZL\"],\"marker\":{\"color\":\"#FFA15A\",\"size\":[15184200,3210650],\"sizemode\":\"area\",\"sizeref\":3296707.74,\"symbol\":\"circle\"},\"mode\":\"markers\",\"name\":\"Oceania\",\"showlegend\":true,\"type\":\"scattergeo\"}],\"name\":\"1982\"},{\"data\":[{\"geo\":\"geo\",\"hovertemplate\":\"<b>%{hovertext}</b><br><br>continent=Asia<br>year=1987<br>pop=%{marker.size}<br>iso_alpha=%{location}<extra></extra>\",\"hovertext\":[\"Afghanistan\",\"Bahrain\",\"Bangladesh\",\"Cambodia\",\"China\",\"Hong Kong, China\",\"India\",\"Indonesia\",\"Iran\",\"Iraq\",\"Israel\",\"Japan\",\"Jordan\",\"Korea, Dem. Rep.\",\"Korea, Rep.\",\"Kuwait\",\"Lebanon\",\"Malaysia\",\"Mongolia\",\"Myanmar\",\"Nepal\",\"Oman\",\"Pakistan\",\"Philippines\",\"Saudi Arabia\",\"Singapore\",\"Sri Lanka\",\"Syria\",\"Taiwan\",\"Thailand\",\"Vietnam\",\"West Bank and Gaza\",\"Yemen, Rep.\"],\"legendgroup\":\"Asia\",\"locations\":[\"AFG\",\"BHR\",\"BGD\",\"KHM\",\"CHN\",\"HKG\",\"IND\",\"IDN\",\"IRN\",\"IRQ\",\"ISR\",\"JPN\",\"JOR\",\"KOR\",\"KOR\",\"KWT\",\"LBN\",\"MYS\",\"MNG\",\"MMR\",\"NPL\",\"OMN\",\"PAK\",\"PHL\",\"SAU\",\"SGP\",\"LKA\",\"SYR\",\"TWN\",\"THA\",\"VNM\",\"PSE\",\"YEM\"],\"marker\":{\"color\":\"#636efa\",\"size\":[13867957,454612,103764241,8371791,1084035000,5584510,788000000,169276000,51889696,16543189,4203148,122091325,2820042,19067554,41622000,1891487,3089353,16331785,2015133,38028578,17917180,1593882,105186881,60017788,14619745,2794552,16495304,11242847,19757799,52910342,62826491,1691210,11219340],\"sizemode\":\"area\",\"sizeref\":3296707.74,\"symbol\":\"circle\"},\"mode\":\"markers\",\"name\":\"Asia\",\"showlegend\":true,\"type\":\"scattergeo\"},{\"geo\":\"geo\",\"hovertemplate\":\"<b>%{hovertext}</b><br><br>continent=Europe<br>year=1987<br>pop=%{marker.size}<br>iso_alpha=%{location}<extra></extra>\",\"hovertext\":[\"Albania\",\"Austria\",\"Belgium\",\"Bosnia and Herzegovina\",\"Bulgaria\",\"Croatia\",\"Czech Republic\",\"Denmark\",\"Finland\",\"France\",\"Germany\",\"Greece\",\"Hungary\",\"Iceland\",\"Ireland\",\"Italy\",\"Montenegro\",\"Netherlands\",\"Norway\",\"Poland\",\"Portugal\",\"Romania\",\"Serbia\",\"Slovak Republic\",\"Slovenia\",\"Spain\",\"Sweden\",\"Switzerland\",\"Turkey\",\"United Kingdom\"],\"legendgroup\":\"Europe\",\"locations\":[\"ALB\",\"AUT\",\"BEL\",\"BIH\",\"BGR\",\"HRV\",\"CZE\",\"DNK\",\"FIN\",\"FRA\",\"DEU\",\"GRC\",\"HUN\",\"ISL\",\"IRL\",\"ITA\",\"MNE\",\"NLD\",\"NOR\",\"POL\",\"PRT\",\"ROU\",\"SRB\",\"SVK\",\"SVN\",\"ESP\",\"SWE\",\"CHE\",\"TUR\",\"GBR\"],\"marker\":{\"color\":\"#EF553B\",\"size\":[3075321,7578903,9870200,4338977,8971958,4484310,10311597,5127024,4931729,55630100,77718298,9974490,10612740,244676,3539900,56729703,569473,14665278,4186147,37740710,9915289,22686371,9230783,5199318,1945870,38880702,8421403,6649942,52881328,56981620],\"sizemode\":\"area\",\"sizeref\":3296707.74,\"symbol\":\"circle\"},\"mode\":\"markers\",\"name\":\"Europe\",\"showlegend\":true,\"type\":\"scattergeo\"},{\"geo\":\"geo\",\"hovertemplate\":\"<b>%{hovertext}</b><br><br>continent=Africa<br>year=1987<br>pop=%{marker.size}<br>iso_alpha=%{location}<extra></extra>\",\"hovertext\":[\"Algeria\",\"Angola\",\"Benin\",\"Botswana\",\"Burkina Faso\",\"Burundi\",\"Cameroon\",\"Central African Republic\",\"Chad\",\"Comoros\",\"Congo, Dem. Rep.\",\"Congo, Rep.\",\"Cote d'Ivoire\",\"Djibouti\",\"Egypt\",\"Equatorial Guinea\",\"Eritrea\",\"Ethiopia\",\"Gabon\",\"Gambia\",\"Ghana\",\"Guinea\",\"Guinea-Bissau\",\"Kenya\",\"Lesotho\",\"Liberia\",\"Libya\",\"Madagascar\",\"Malawi\",\"Mali\",\"Mauritania\",\"Mauritius\",\"Morocco\",\"Mozambique\",\"Namibia\",\"Niger\",\"Nigeria\",\"Reunion\",\"Rwanda\",\"Sao Tome and Principe\",\"Senegal\",\"Sierra Leone\",\"Somalia\",\"South Africa\",\"Sudan\",\"Swaziland\",\"Tanzania\",\"Togo\",\"Tunisia\",\"Uganda\",\"Zambia\",\"Zimbabwe\"],\"legendgroup\":\"Africa\",\"locations\":[\"DZA\",\"AGO\",\"BEN\",\"BWA\",\"BFA\",\"BDI\",\"CMR\",\"CAF\",\"TCD\",\"COM\",\"COD\",\"COG\",\"CIV\",\"DJI\",\"EGY\",\"GNQ\",\"ERI\",\"ETH\",\"GAB\",\"GMB\",\"GHA\",\"GIN\",\"GNB\",\"KEN\",\"LSO\",\"LBR\",\"LBY\",\"MDG\",\"MWI\",\"MLI\",\"MRT\",\"MUS\",\"MAR\",\"MOZ\",\"NAM\",\"NER\",\"NGA\",\"REU\",\"RWA\",\"STP\",\"SEN\",\"SLE\",\"SOM\",\"ZAF\",\"SDN\",\"SWZ\",\"TZA\",\"TGO\",\"TUN\",\"UGA\",\"ZMB\",\"ZWE\"],\"marker\":{\"color\":\"#00cc96\",\"size\":[23254956,7874230,4243788,1151184,7586551,5126023,10780667,2840009,5498955,395114,35481645,2064095,10761098,311025,52799062,341244,2915959,42999530,880397,848406,14168101,5650262,927524,21198082,1599200,2269414,3799845,10568642,7824747,7634008,1841240,1042663,22987397,12891952,1278184,7332638,81551520,562035,6349365,110812,7171347,3868905,6921858,35933379,24725960,779348,23040630,3154264,7724976,15283050,7272406,9216418],\"sizemode\":\"area\",\"sizeref\":3296707.74,\"symbol\":\"circle\"},\"mode\":\"markers\",\"name\":\"Africa\",\"showlegend\":true,\"type\":\"scattergeo\"},{\"geo\":\"geo\",\"hovertemplate\":\"<b>%{hovertext}</b><br><br>continent=Americas<br>year=1987<br>pop=%{marker.size}<br>iso_alpha=%{location}<extra></extra>\",\"hovertext\":[\"Argentina\",\"Bolivia\",\"Brazil\",\"Canada\",\"Chile\",\"Colombia\",\"Costa Rica\",\"Cuba\",\"Dominican Republic\",\"Ecuador\",\"El Salvador\",\"Guatemala\",\"Haiti\",\"Honduras\",\"Jamaica\",\"Mexico\",\"Nicaragua\",\"Panama\",\"Paraguay\",\"Peru\",\"Puerto Rico\",\"Trinidad and Tobago\",\"United States\",\"Uruguay\",\"Venezuela\"],\"legendgroup\":\"Americas\",\"locations\":[\"ARG\",\"BOL\",\"BRA\",\"CAN\",\"CHL\",\"COL\",\"CRI\",\"CUB\",\"DOM\",\"ECU\",\"SLV\",\"GTM\",\"HTI\",\"HND\",\"JAM\",\"MEX\",\"NIC\",\"PAN\",\"PRY\",\"PER\",\"PRI\",\"TTO\",\"USA\",\"URY\",\"VEN\"],\"marker\":{\"color\":\"#ab63fa\",\"size\":[31620918,6156369,142938076,26549700,12463354,30964245,2799811,10239839,6655297,9545158,4842194,7326406,5756203,4372203,2326606,80122492,3344353,2253639,3886512,20195924,3444468,1191336,242803533,3045153,17910182],\"sizemode\":\"area\",\"sizeref\":3296707.74,\"symbol\":\"circle\"},\"mode\":\"markers\",\"name\":\"Americas\",\"showlegend\":true,\"type\":\"scattergeo\"},{\"geo\":\"geo\",\"hovertemplate\":\"<b>%{hovertext}</b><br><br>continent=Oceania<br>year=1987<br>pop=%{marker.size}<br>iso_alpha=%{location}<extra></extra>\",\"hovertext\":[\"Australia\",\"New Zealand\"],\"legendgroup\":\"Oceania\",\"locations\":[\"AUS\",\"NZL\"],\"marker\":{\"color\":\"#FFA15A\",\"size\":[16257249,3317166],\"sizemode\":\"area\",\"sizeref\":3296707.74,\"symbol\":\"circle\"},\"mode\":\"markers\",\"name\":\"Oceania\",\"showlegend\":true,\"type\":\"scattergeo\"}],\"name\":\"1987\"},{\"data\":[{\"geo\":\"geo\",\"hovertemplate\":\"<b>%{hovertext}</b><br><br>continent=Asia<br>year=1992<br>pop=%{marker.size}<br>iso_alpha=%{location}<extra></extra>\",\"hovertext\":[\"Afghanistan\",\"Bahrain\",\"Bangladesh\",\"Cambodia\",\"China\",\"Hong Kong, China\",\"India\",\"Indonesia\",\"Iran\",\"Iraq\",\"Israel\",\"Japan\",\"Jordan\",\"Korea, Dem. Rep.\",\"Korea, Rep.\",\"Kuwait\",\"Lebanon\",\"Malaysia\",\"Mongolia\",\"Myanmar\",\"Nepal\",\"Oman\",\"Pakistan\",\"Philippines\",\"Saudi Arabia\",\"Singapore\",\"Sri Lanka\",\"Syria\",\"Taiwan\",\"Thailand\",\"Vietnam\",\"West Bank and Gaza\",\"Yemen, Rep.\"],\"legendgroup\":\"Asia\",\"locations\":[\"AFG\",\"BHR\",\"BGD\",\"KHM\",\"CHN\",\"HKG\",\"IND\",\"IDN\",\"IRN\",\"IRQ\",\"ISR\",\"JPN\",\"JOR\",\"KOR\",\"KOR\",\"KWT\",\"LBN\",\"MYS\",\"MNG\",\"MMR\",\"NPL\",\"OMN\",\"PAK\",\"PHL\",\"SAU\",\"SGP\",\"LKA\",\"SYR\",\"TWN\",\"THA\",\"VNM\",\"PSE\",\"YEM\"],\"marker\":{\"color\":\"#636efa\",\"size\":[16317921,529491,113704579,10150094,1164970000,5829696,872000000,184816000,60397973,17861905,4936550,124329269,3867409,20711375,43805450,1418095,3219994,18319502,2312802,40546538,20326209,1915208,120065004,67185766,16945857,3235865,17587060,13219062,20686918,56667095,69940728,2104779,13367997],\"sizemode\":\"area\",\"sizeref\":3296707.74,\"symbol\":\"circle\"},\"mode\":\"markers\",\"name\":\"Asia\",\"showlegend\":true,\"type\":\"scattergeo\"},{\"geo\":\"geo\",\"hovertemplate\":\"<b>%{hovertext}</b><br><br>continent=Europe<br>year=1992<br>pop=%{marker.size}<br>iso_alpha=%{location}<extra></extra>\",\"hovertext\":[\"Albania\",\"Austria\",\"Belgium\",\"Bosnia and Herzegovina\",\"Bulgaria\",\"Croatia\",\"Czech Republic\",\"Denmark\",\"Finland\",\"France\",\"Germany\",\"Greece\",\"Hungary\",\"Iceland\",\"Ireland\",\"Italy\",\"Montenegro\",\"Netherlands\",\"Norway\",\"Poland\",\"Portugal\",\"Romania\",\"Serbia\",\"Slovak Republic\",\"Slovenia\",\"Spain\",\"Sweden\",\"Switzerland\",\"Turkey\",\"United Kingdom\"],\"legendgroup\":\"Europe\",\"locations\":[\"ALB\",\"AUT\",\"BEL\",\"BIH\",\"BGR\",\"HRV\",\"CZE\",\"DNK\",\"FIN\",\"FRA\",\"DEU\",\"GRC\",\"HUN\",\"ISL\",\"IRL\",\"ITA\",\"MNE\",\"NLD\",\"NOR\",\"POL\",\"PRT\",\"ROU\",\"SRB\",\"SVK\",\"SVN\",\"ESP\",\"SWE\",\"CHE\",\"TUR\",\"GBR\"],\"marker\":{\"color\":\"#EF553B\",\"size\":[3326498,7914969,10045622,4256013,8658506,4494013,10315702,5171393,5041039,57374179,80597764,10325429,10348684,259012,3557761,56840847,621621,15174244,4286357,38370697,9927680,22797027,9826397,5302888,1999210,39549438,8718867,6995447,58179144,57866349],\"sizemode\":\"area\",\"sizeref\":3296707.74,\"symbol\":\"circle\"},\"mode\":\"markers\",\"name\":\"Europe\",\"showlegend\":true,\"type\":\"scattergeo\"},{\"geo\":\"geo\",\"hovertemplate\":\"<b>%{hovertext}</b><br><br>continent=Africa<br>year=1992<br>pop=%{marker.size}<br>iso_alpha=%{location}<extra></extra>\",\"hovertext\":[\"Algeria\",\"Angola\",\"Benin\",\"Botswana\",\"Burkina Faso\",\"Burundi\",\"Cameroon\",\"Central African Republic\",\"Chad\",\"Comoros\",\"Congo, Dem. Rep.\",\"Congo, Rep.\",\"Cote d'Ivoire\",\"Djibouti\",\"Egypt\",\"Equatorial Guinea\",\"Eritrea\",\"Ethiopia\",\"Gabon\",\"Gambia\",\"Ghana\",\"Guinea\",\"Guinea-Bissau\",\"Kenya\",\"Lesotho\",\"Liberia\",\"Libya\",\"Madagascar\",\"Malawi\",\"Mali\",\"Mauritania\",\"Mauritius\",\"Morocco\",\"Mozambique\",\"Namibia\",\"Niger\",\"Nigeria\",\"Reunion\",\"Rwanda\",\"Sao Tome and Principe\",\"Senegal\",\"Sierra Leone\",\"Somalia\",\"South Africa\",\"Sudan\",\"Swaziland\",\"Tanzania\",\"Togo\",\"Tunisia\",\"Uganda\",\"Zambia\",\"Zimbabwe\"],\"legendgroup\":\"Africa\",\"locations\":[\"DZA\",\"AGO\",\"BEN\",\"BWA\",\"BFA\",\"BDI\",\"CMR\",\"CAF\",\"TCD\",\"COM\",\"COD\",\"COG\",\"CIV\",\"DJI\",\"EGY\",\"GNQ\",\"ERI\",\"ETH\",\"GAB\",\"GMB\",\"GHA\",\"GIN\",\"GNB\",\"KEN\",\"LSO\",\"LBR\",\"LBY\",\"MDG\",\"MWI\",\"MLI\",\"MRT\",\"MUS\",\"MAR\",\"MOZ\",\"NAM\",\"NER\",\"NGA\",\"REU\",\"RWA\",\"STP\",\"SEN\",\"SLE\",\"SOM\",\"ZAF\",\"SDN\",\"SWZ\",\"TZA\",\"TGO\",\"TUN\",\"UGA\",\"ZMB\",\"ZWE\"],\"marker\":{\"color\":\"#00cc96\",\"size\":[26298373,8735988,4981671,1342614,8878303,5809236,12467171,3265124,6429417,454429,41672143,2409073,12772596,384156,59402198,387838,3668440,52088559,985739,1025384,16278738,6990574,1050938,25020539,1803195,1912974,4364501,12210395,10014249,8416215,2119465,1096202,25798239,13160731,1554253,8392818,93364244,622191,7290203,125911,8307920,4260884,6099799,39964159,28227588,962344,26605473,3747553,8523077,18252190,8381163,10704340],\"sizemode\":\"area\",\"sizeref\":3296707.74,\"symbol\":\"circle\"},\"mode\":\"markers\",\"name\":\"Africa\",\"showlegend\":true,\"type\":\"scattergeo\"},{\"geo\":\"geo\",\"hovertemplate\":\"<b>%{hovertext}</b><br><br>continent=Americas<br>year=1992<br>pop=%{marker.size}<br>iso_alpha=%{location}<extra></extra>\",\"hovertext\":[\"Argentina\",\"Bolivia\",\"Brazil\",\"Canada\",\"Chile\",\"Colombia\",\"Costa Rica\",\"Cuba\",\"Dominican Republic\",\"Ecuador\",\"El Salvador\",\"Guatemala\",\"Haiti\",\"Honduras\",\"Jamaica\",\"Mexico\",\"Nicaragua\",\"Panama\",\"Paraguay\",\"Peru\",\"Puerto Rico\",\"Trinidad and Tobago\",\"United States\",\"Uruguay\",\"Venezuela\"],\"legendgroup\":\"Americas\",\"locations\":[\"ARG\",\"BOL\",\"BRA\",\"CAN\",\"CHL\",\"COL\",\"CRI\",\"CUB\",\"DOM\",\"ECU\",\"SLV\",\"GTM\",\"HTI\",\"HND\",\"JAM\",\"MEX\",\"NIC\",\"PAN\",\"PRY\",\"PER\",\"PRI\",\"TTO\",\"USA\",\"URY\",\"VEN\"],\"marker\":{\"color\":\"#ab63fa\",\"size\":[33958947,6893451,155975974,28523502,13572994,34202721,3173216,10723260,7351181,10748394,5274649,8486949,6326682,5077347,2378618,88111030,4017939,2484997,4483945,22430449,3585176,1183669,256894189,3149262,20265563],\"sizemode\":\"area\",\"sizeref\":3296707.74,\"symbol\":\"circle\"},\"mode\":\"markers\",\"name\":\"Americas\",\"showlegend\":true,\"type\":\"scattergeo\"},{\"geo\":\"geo\",\"hovertemplate\":\"<b>%{hovertext}</b><br><br>continent=Oceania<br>year=1992<br>pop=%{marker.size}<br>iso_alpha=%{location}<extra></extra>\",\"hovertext\":[\"Australia\",\"New Zealand\"],\"legendgroup\":\"Oceania\",\"locations\":[\"AUS\",\"NZL\"],\"marker\":{\"color\":\"#FFA15A\",\"size\":[17481977,3437674],\"sizemode\":\"area\",\"sizeref\":3296707.74,\"symbol\":\"circle\"},\"mode\":\"markers\",\"name\":\"Oceania\",\"showlegend\":true,\"type\":\"scattergeo\"}],\"name\":\"1992\"},{\"data\":[{\"geo\":\"geo\",\"hovertemplate\":\"<b>%{hovertext}</b><br><br>continent=Asia<br>year=1997<br>pop=%{marker.size}<br>iso_alpha=%{location}<extra></extra>\",\"hovertext\":[\"Afghanistan\",\"Bahrain\",\"Bangladesh\",\"Cambodia\",\"China\",\"Hong Kong, China\",\"India\",\"Indonesia\",\"Iran\",\"Iraq\",\"Israel\",\"Japan\",\"Jordan\",\"Korea, Dem. Rep.\",\"Korea, Rep.\",\"Kuwait\",\"Lebanon\",\"Malaysia\",\"Mongolia\",\"Myanmar\",\"Nepal\",\"Oman\",\"Pakistan\",\"Philippines\",\"Saudi Arabia\",\"Singapore\",\"Sri Lanka\",\"Syria\",\"Taiwan\",\"Thailand\",\"Vietnam\",\"West Bank and Gaza\",\"Yemen, Rep.\"],\"legendgroup\":\"Asia\",\"locations\":[\"AFG\",\"BHR\",\"BGD\",\"KHM\",\"CHN\",\"HKG\",\"IND\",\"IDN\",\"IRN\",\"IRQ\",\"ISR\",\"JPN\",\"JOR\",\"KOR\",\"KOR\",\"KWT\",\"LBN\",\"MYS\",\"MNG\",\"MMR\",\"NPL\",\"OMN\",\"PAK\",\"PHL\",\"SAU\",\"SGP\",\"LKA\",\"SYR\",\"TWN\",\"THA\",\"VNM\",\"PSE\",\"YEM\"],\"marker\":{\"color\":\"#636efa\",\"size\":[22227415,598561,123315288,11782962,1230075000,6495918,959000000,199278000,63327987,20775703,5531387,125956499,4526235,21585105,46173816,1765345,3430388,20476091,2494803,43247867,23001113,2283635,135564834,75012988,21229759,3802309,18698655,15081016,21628605,60216677,76048996,2826046,15826497],\"sizemode\":\"area\",\"sizeref\":3296707.74,\"symbol\":\"circle\"},\"mode\":\"markers\",\"name\":\"Asia\",\"showlegend\":true,\"type\":\"scattergeo\"},{\"geo\":\"geo\",\"hovertemplate\":\"<b>%{hovertext}</b><br><br>continent=Europe<br>year=1997<br>pop=%{marker.size}<br>iso_alpha=%{location}<extra></extra>\",\"hovertext\":[\"Albania\",\"Austria\",\"Belgium\",\"Bosnia and Herzegovina\",\"Bulgaria\",\"Croatia\",\"Czech Republic\",\"Denmark\",\"Finland\",\"France\",\"Germany\",\"Greece\",\"Hungary\",\"Iceland\",\"Ireland\",\"Italy\",\"Montenegro\",\"Netherlands\",\"Norway\",\"Poland\",\"Portugal\",\"Romania\",\"Serbia\",\"Slovak Republic\",\"Slovenia\",\"Spain\",\"Sweden\",\"Switzerland\",\"Turkey\",\"United Kingdom\"],\"legendgroup\":\"Europe\",\"locations\":[\"ALB\",\"AUT\",\"BEL\",\"BIH\",\"BGR\",\"HRV\",\"CZE\",\"DNK\",\"FIN\",\"FRA\",\"DEU\",\"GRC\",\"HUN\",\"ISL\",\"IRL\",\"ITA\",\"MNE\",\"NLD\",\"NOR\",\"POL\",\"PRT\",\"ROU\",\"SRB\",\"SVK\",\"SVN\",\"ESP\",\"SWE\",\"CHE\",\"TUR\",\"GBR\"],\"marker\":{\"color\":\"#EF553B\",\"size\":[3428038,8069876,10199787,3607000,8066057,4444595,10300707,5283663,5134406,58623428,82011073,10502372,10244684,271192,3667233,57479469,692651,15604464,4405672,38654957,10156415,22562458,10336594,5383010,2011612,39855442,8897619,7193761,63047647,58808266],\"sizemode\":\"area\",\"sizeref\":3296707.74,\"symbol\":\"circle\"},\"mode\":\"markers\",\"name\":\"Europe\",\"showlegend\":true,\"type\":\"scattergeo\"},{\"geo\":\"geo\",\"hovertemplate\":\"<b>%{hovertext}</b><br><br>continent=Africa<br>year=1997<br>pop=%{marker.size}<br>iso_alpha=%{location}<extra></extra>\",\"hovertext\":[\"Algeria\",\"Angola\",\"Benin\",\"Botswana\",\"Burkina Faso\",\"Burundi\",\"Cameroon\",\"Central African Republic\",\"Chad\",\"Comoros\",\"Congo, Dem. Rep.\",\"Congo, Rep.\",\"Cote d'Ivoire\",\"Djibouti\",\"Egypt\",\"Equatorial Guinea\",\"Eritrea\",\"Ethiopia\",\"Gabon\",\"Gambia\",\"Ghana\",\"Guinea\",\"Guinea-Bissau\",\"Kenya\",\"Lesotho\",\"Liberia\",\"Libya\",\"Madagascar\",\"Malawi\",\"Mali\",\"Mauritania\",\"Mauritius\",\"Morocco\",\"Mozambique\",\"Namibia\",\"Niger\",\"Nigeria\",\"Reunion\",\"Rwanda\",\"Sao Tome and Principe\",\"Senegal\",\"Sierra Leone\",\"Somalia\",\"South Africa\",\"Sudan\",\"Swaziland\",\"Tanzania\",\"Togo\",\"Tunisia\",\"Uganda\",\"Zambia\",\"Zimbabwe\"],\"legendgroup\":\"Africa\",\"locations\":[\"DZA\",\"AGO\",\"BEN\",\"BWA\",\"BFA\",\"BDI\",\"CMR\",\"CAF\",\"TCD\",\"COM\",\"COD\",\"COG\",\"CIV\",\"DJI\",\"EGY\",\"GNQ\",\"ERI\",\"ETH\",\"GAB\",\"GMB\",\"GHA\",\"GIN\",\"GNB\",\"KEN\",\"LSO\",\"LBR\",\"LBY\",\"MDG\",\"MWI\",\"MLI\",\"MRT\",\"MUS\",\"MAR\",\"MOZ\",\"NAM\",\"NER\",\"NGA\",\"REU\",\"RWA\",\"STP\",\"SEN\",\"SLE\",\"SOM\",\"ZAF\",\"SDN\",\"SWZ\",\"TZA\",\"TGO\",\"TUN\",\"UGA\",\"ZMB\",\"ZWE\"],\"marker\":{\"color\":\"#00cc96\",\"size\":[29072015,9875024,6066080,1536536,10352843,6121610,14195809,3696513,7562011,527982,47798986,2800947,14625967,417908,66134291,439971,4058319,59861301,1126189,1235767,18418288,8048834,1193708,28263827,1982823,2200725,4759670,14165114,10419991,9384984,2444741,1149818,28529501,16603334,1774766,9666252,106207839,684810,7212583,145608,9535314,4578212,6633514,42835005,32160729,1054486,30686889,4320890,9231669,21210254,9417789,11404948],\"sizemode\":\"area\",\"sizeref\":3296707.74,\"symbol\":\"circle\"},\"mode\":\"markers\",\"name\":\"Africa\",\"showlegend\":true,\"type\":\"scattergeo\"},{\"geo\":\"geo\",\"hovertemplate\":\"<b>%{hovertext}</b><br><br>continent=Americas<br>year=1997<br>pop=%{marker.size}<br>iso_alpha=%{location}<extra></extra>\",\"hovertext\":[\"Argentina\",\"Bolivia\",\"Brazil\",\"Canada\",\"Chile\",\"Colombia\",\"Costa Rica\",\"Cuba\",\"Dominican Republic\",\"Ecuador\",\"El Salvador\",\"Guatemala\",\"Haiti\",\"Honduras\",\"Jamaica\",\"Mexico\",\"Nicaragua\",\"Panama\",\"Paraguay\",\"Peru\",\"Puerto Rico\",\"Trinidad and Tobago\",\"United States\",\"Uruguay\",\"Venezuela\"],\"legendgroup\":\"Americas\",\"locations\":[\"ARG\",\"BOL\",\"BRA\",\"CAN\",\"CHL\",\"COL\",\"CRI\",\"CUB\",\"DOM\",\"ECU\",\"SLV\",\"GTM\",\"HTI\",\"HND\",\"JAM\",\"MEX\",\"NIC\",\"PAN\",\"PRY\",\"PER\",\"PRI\",\"TTO\",\"USA\",\"URY\",\"VEN\"],\"marker\":{\"color\":\"#ab63fa\",\"size\":[36203463,7693188,168546719,30305843,14599929,37657830,3518107,10983007,7992357,11911819,5783439,9803875,6913545,5867957,2531311,95895146,4609572,2734531,5154123,24748122,3759430,1138101,272911760,3262838,22374398],\"sizemode\":\"area\",\"sizeref\":3296707.74,\"symbol\":\"circle\"},\"mode\":\"markers\",\"name\":\"Americas\",\"showlegend\":true,\"type\":\"scattergeo\"},{\"geo\":\"geo\",\"hovertemplate\":\"<b>%{hovertext}</b><br><br>continent=Oceania<br>year=1997<br>pop=%{marker.size}<br>iso_alpha=%{location}<extra></extra>\",\"hovertext\":[\"Australia\",\"New Zealand\"],\"legendgroup\":\"Oceania\",\"locations\":[\"AUS\",\"NZL\"],\"marker\":{\"color\":\"#FFA15A\",\"size\":[18565243,3676187],\"sizemode\":\"area\",\"sizeref\":3296707.74,\"symbol\":\"circle\"},\"mode\":\"markers\",\"name\":\"Oceania\",\"showlegend\":true,\"type\":\"scattergeo\"}],\"name\":\"1997\"},{\"data\":[{\"geo\":\"geo\",\"hovertemplate\":\"<b>%{hovertext}</b><br><br>continent=Asia<br>year=2002<br>pop=%{marker.size}<br>iso_alpha=%{location}<extra></extra>\",\"hovertext\":[\"Afghanistan\",\"Bahrain\",\"Bangladesh\",\"Cambodia\",\"China\",\"Hong Kong, China\",\"India\",\"Indonesia\",\"Iran\",\"Iraq\",\"Israel\",\"Japan\",\"Jordan\",\"Korea, Dem. Rep.\",\"Korea, Rep.\",\"Kuwait\",\"Lebanon\",\"Malaysia\",\"Mongolia\",\"Myanmar\",\"Nepal\",\"Oman\",\"Pakistan\",\"Philippines\",\"Saudi Arabia\",\"Singapore\",\"Sri Lanka\",\"Syria\",\"Taiwan\",\"Thailand\",\"Vietnam\",\"West Bank and Gaza\",\"Yemen, Rep.\"],\"legendgroup\":\"Asia\",\"locations\":[\"AFG\",\"BHR\",\"BGD\",\"KHM\",\"CHN\",\"HKG\",\"IND\",\"IDN\",\"IRN\",\"IRQ\",\"ISR\",\"JPN\",\"JOR\",\"KOR\",\"KOR\",\"KWT\",\"LBN\",\"MYS\",\"MNG\",\"MMR\",\"NPL\",\"OMN\",\"PAK\",\"PHL\",\"SAU\",\"SGP\",\"LKA\",\"SYR\",\"TWN\",\"THA\",\"VNM\",\"PSE\",\"YEM\"],\"marker\":{\"color\":\"#636efa\",\"size\":[25268405,656397,135656790,12926707,1280400000,6762476,1034172547,211060000,66907826,24001816,6029529,127065841,5307470,22215365,47969150,2111561,3677780,22662365,2674234,45598081,25873917,2713462,153403524,82995088,24501530,4197776,19576783,17155814,22454239,62806748,80908147,3389578,18701257],\"sizemode\":\"area\",\"sizeref\":3296707.74,\"symbol\":\"circle\"},\"mode\":\"markers\",\"name\":\"Asia\",\"showlegend\":true,\"type\":\"scattergeo\"},{\"geo\":\"geo\",\"hovertemplate\":\"<b>%{hovertext}</b><br><br>continent=Europe<br>year=2002<br>pop=%{marker.size}<br>iso_alpha=%{location}<extra></extra>\",\"hovertext\":[\"Albania\",\"Austria\",\"Belgium\",\"Bosnia and Herzegovina\",\"Bulgaria\",\"Croatia\",\"Czech Republic\",\"Denmark\",\"Finland\",\"France\",\"Germany\",\"Greece\",\"Hungary\",\"Iceland\",\"Ireland\",\"Italy\",\"Montenegro\",\"Netherlands\",\"Norway\",\"Poland\",\"Portugal\",\"Romania\",\"Serbia\",\"Slovak Republic\",\"Slovenia\",\"Spain\",\"Sweden\",\"Switzerland\",\"Turkey\",\"United Kingdom\"],\"legendgroup\":\"Europe\",\"locations\":[\"ALB\",\"AUT\",\"BEL\",\"BIH\",\"BGR\",\"HRV\",\"CZE\",\"DNK\",\"FIN\",\"FRA\",\"DEU\",\"GRC\",\"HUN\",\"ISL\",\"IRL\",\"ITA\",\"MNE\",\"NLD\",\"NOR\",\"POL\",\"PRT\",\"ROU\",\"SRB\",\"SVK\",\"SVN\",\"ESP\",\"SWE\",\"CHE\",\"TUR\",\"GBR\"],\"marker\":{\"color\":\"#EF553B\",\"size\":[3508512,8148312,10311970,4165416,7661799,4481020,10256295,5374693,5193039,59925035,82350671,10603863,10083313,288030,3879155,57926999,720230,16122830,4535591,38625976,10433867,22404337,10111559,5410052,2011497,40152517,8954175,7361757,67308928,59912431],\"sizemode\":\"area\",\"sizeref\":3296707.74,\"symbol\":\"circle\"},\"mode\":\"markers\",\"name\":\"Europe\",\"showlegend\":true,\"type\":\"scattergeo\"},{\"geo\":\"geo\",\"hovertemplate\":\"<b>%{hovertext}</b><br><br>continent=Africa<br>year=2002<br>pop=%{marker.size}<br>iso_alpha=%{location}<extra></extra>\",\"hovertext\":[\"Algeria\",\"Angola\",\"Benin\",\"Botswana\",\"Burkina Faso\",\"Burundi\",\"Cameroon\",\"Central African Republic\",\"Chad\",\"Comoros\",\"Congo, Dem. Rep.\",\"Congo, Rep.\",\"Cote d'Ivoire\",\"Djibouti\",\"Egypt\",\"Equatorial Guinea\",\"Eritrea\",\"Ethiopia\",\"Gabon\",\"Gambia\",\"Ghana\",\"Guinea\",\"Guinea-Bissau\",\"Kenya\",\"Lesotho\",\"Liberia\",\"Libya\",\"Madagascar\",\"Malawi\",\"Mali\",\"Mauritania\",\"Mauritius\",\"Morocco\",\"Mozambique\",\"Namibia\",\"Niger\",\"Nigeria\",\"Reunion\",\"Rwanda\",\"Sao Tome and Principe\",\"Senegal\",\"Sierra Leone\",\"Somalia\",\"South Africa\",\"Sudan\",\"Swaziland\",\"Tanzania\",\"Togo\",\"Tunisia\",\"Uganda\",\"Zambia\",\"Zimbabwe\"],\"legendgroup\":\"Africa\",\"locations\":[\"DZA\",\"AGO\",\"BEN\",\"BWA\",\"BFA\",\"BDI\",\"CMR\",\"CAF\",\"TCD\",\"COM\",\"COD\",\"COG\",\"CIV\",\"DJI\",\"EGY\",\"GNQ\",\"ERI\",\"ETH\",\"GAB\",\"GMB\",\"GHA\",\"GIN\",\"GNB\",\"KEN\",\"LSO\",\"LBR\",\"LBY\",\"MDG\",\"MWI\",\"MLI\",\"MRT\",\"MUS\",\"MAR\",\"MOZ\",\"NAM\",\"NER\",\"NGA\",\"REU\",\"RWA\",\"STP\",\"SEN\",\"SLE\",\"SOM\",\"ZAF\",\"SDN\",\"SWZ\",\"TZA\",\"TGO\",\"TUN\",\"UGA\",\"ZMB\",\"ZWE\"],\"marker\":{\"color\":\"#00cc96\",\"size\":[31287142,10866106,7026113,1630347,12251209,7021078,15929988,4048013,8835739,614382,55379852,3328795,16252726,447416,73312559,495627,4414865,67946797,1299304,1457766,20550751,8807818,1332459,31386842,2046772,2814651,5368585,16473477,11824495,10580176,2828858,1200206,31167783,18473780,1972153,11140655,119901274,743981,7852401,170372,10870037,5359092,7753310,44433622,37090298,1130269,34593779,4977378,9770575,24739869,10595811,11926563],\"sizemode\":\"area\",\"sizeref\":3296707.74,\"symbol\":\"circle\"},\"mode\":\"markers\",\"name\":\"Africa\",\"showlegend\":true,\"type\":\"scattergeo\"},{\"geo\":\"geo\",\"hovertemplate\":\"<b>%{hovertext}</b><br><br>continent=Americas<br>year=2002<br>pop=%{marker.size}<br>iso_alpha=%{location}<extra></extra>\",\"hovertext\":[\"Argentina\",\"Bolivia\",\"Brazil\",\"Canada\",\"Chile\",\"Colombia\",\"Costa Rica\",\"Cuba\",\"Dominican Republic\",\"Ecuador\",\"El Salvador\",\"Guatemala\",\"Haiti\",\"Honduras\",\"Jamaica\",\"Mexico\",\"Nicaragua\",\"Panama\",\"Paraguay\",\"Peru\",\"Puerto Rico\",\"Trinidad and Tobago\",\"United States\",\"Uruguay\",\"Venezuela\"],\"legendgroup\":\"Americas\",\"locations\":[\"ARG\",\"BOL\",\"BRA\",\"CAN\",\"CHL\",\"COL\",\"CRI\",\"CUB\",\"DOM\",\"ECU\",\"SLV\",\"GTM\",\"HTI\",\"HND\",\"JAM\",\"MEX\",\"NIC\",\"PAN\",\"PRY\",\"PER\",\"PRI\",\"TTO\",\"USA\",\"URY\",\"VEN\"],\"marker\":{\"color\":\"#ab63fa\",\"size\":[38331121,8445134,179914212,31902268,15497046,41008227,3834934,11226999,8650322,12921234,6353681,11178650,7607651,6677328,2664659,102479927,5146848,2990875,5884491,26769436,3859606,1101832,287675526,3363085,24287670],\"sizemode\":\"area\",\"sizeref\":3296707.74,\"symbol\":\"circle\"},\"mode\":\"markers\",\"name\":\"Americas\",\"showlegend\":true,\"type\":\"scattergeo\"},{\"geo\":\"geo\",\"hovertemplate\":\"<b>%{hovertext}</b><br><br>continent=Oceania<br>year=2002<br>pop=%{marker.size}<br>iso_alpha=%{location}<extra></extra>\",\"hovertext\":[\"Australia\",\"New Zealand\"],\"legendgroup\":\"Oceania\",\"locations\":[\"AUS\",\"NZL\"],\"marker\":{\"color\":\"#FFA15A\",\"size\":[19546792,3908037],\"sizemode\":\"area\",\"sizeref\":3296707.74,\"symbol\":\"circle\"},\"mode\":\"markers\",\"name\":\"Oceania\",\"showlegend\":true,\"type\":\"scattergeo\"}],\"name\":\"2002\"},{\"data\":[{\"geo\":\"geo\",\"hovertemplate\":\"<b>%{hovertext}</b><br><br>continent=Asia<br>year=2007<br>pop=%{marker.size}<br>iso_alpha=%{location}<extra></extra>\",\"hovertext\":[\"Afghanistan\",\"Bahrain\",\"Bangladesh\",\"Cambodia\",\"China\",\"Hong Kong, China\",\"India\",\"Indonesia\",\"Iran\",\"Iraq\",\"Israel\",\"Japan\",\"Jordan\",\"Korea, Dem. Rep.\",\"Korea, Rep.\",\"Kuwait\",\"Lebanon\",\"Malaysia\",\"Mongolia\",\"Myanmar\",\"Nepal\",\"Oman\",\"Pakistan\",\"Philippines\",\"Saudi Arabia\",\"Singapore\",\"Sri Lanka\",\"Syria\",\"Taiwan\",\"Thailand\",\"Vietnam\",\"West Bank and Gaza\",\"Yemen, Rep.\"],\"legendgroup\":\"Asia\",\"locations\":[\"AFG\",\"BHR\",\"BGD\",\"KHM\",\"CHN\",\"HKG\",\"IND\",\"IDN\",\"IRN\",\"IRQ\",\"ISR\",\"JPN\",\"JOR\",\"KOR\",\"KOR\",\"KWT\",\"LBN\",\"MYS\",\"MNG\",\"MMR\",\"NPL\",\"OMN\",\"PAK\",\"PHL\",\"SAU\",\"SGP\",\"LKA\",\"SYR\",\"TWN\",\"THA\",\"VNM\",\"PSE\",\"YEM\"],\"marker\":{\"color\":\"#636efa\",\"size\":[31889923,708573,150448339,14131858,1318683096,6980412,1110396331,223547000,69453570,27499638,6426679,127467972,6053193,23301725,49044790,2505559,3921278,24821286,2874127,47761980,28901790,3204897,169270617,91077287,27601038,4553009,20378239,19314747,23174294,65068149,85262356,4018332,22211743],\"sizemode\":\"area\",\"sizeref\":3296707.74,\"symbol\":\"circle\"},\"mode\":\"markers\",\"name\":\"Asia\",\"showlegend\":true,\"type\":\"scattergeo\"},{\"geo\":\"geo\",\"hovertemplate\":\"<b>%{hovertext}</b><br><br>continent=Europe<br>year=2007<br>pop=%{marker.size}<br>iso_alpha=%{location}<extra></extra>\",\"hovertext\":[\"Albania\",\"Austria\",\"Belgium\",\"Bosnia and Herzegovina\",\"Bulgaria\",\"Croatia\",\"Czech Republic\",\"Denmark\",\"Finland\",\"France\",\"Germany\",\"Greece\",\"Hungary\",\"Iceland\",\"Ireland\",\"Italy\",\"Montenegro\",\"Netherlands\",\"Norway\",\"Poland\",\"Portugal\",\"Romania\",\"Serbia\",\"Slovak Republic\",\"Slovenia\",\"Spain\",\"Sweden\",\"Switzerland\",\"Turkey\",\"United Kingdom\"],\"legendgroup\":\"Europe\",\"locations\":[\"ALB\",\"AUT\",\"BEL\",\"BIH\",\"BGR\",\"HRV\",\"CZE\",\"DNK\",\"FIN\",\"FRA\",\"DEU\",\"GRC\",\"HUN\",\"ISL\",\"IRL\",\"ITA\",\"MNE\",\"NLD\",\"NOR\",\"POL\",\"PRT\",\"ROU\",\"SRB\",\"SVK\",\"SVN\",\"ESP\",\"SWE\",\"CHE\",\"TUR\",\"GBR\"],\"marker\":{\"color\":\"#EF553B\",\"size\":[3600523,8199783,10392226,4552198,7322858,4493312,10228744,5468120,5238460,61083916,82400996,10706290,9956108,301931,4109086,58147733,684736,16570613,4627926,38518241,10642836,22276056,10150265,5447502,2009245,40448191,9031088,7554661,71158647,60776238],\"sizemode\":\"area\",\"sizeref\":3296707.74,\"symbol\":\"circle\"},\"mode\":\"markers\",\"name\":\"Europe\",\"showlegend\":true,\"type\":\"scattergeo\"},{\"geo\":\"geo\",\"hovertemplate\":\"<b>%{hovertext}</b><br><br>continent=Africa<br>year=2007<br>pop=%{marker.size}<br>iso_alpha=%{location}<extra></extra>\",\"hovertext\":[\"Algeria\",\"Angola\",\"Benin\",\"Botswana\",\"Burkina Faso\",\"Burundi\",\"Cameroon\",\"Central African Republic\",\"Chad\",\"Comoros\",\"Congo, Dem. Rep.\",\"Congo, Rep.\",\"Cote d'Ivoire\",\"Djibouti\",\"Egypt\",\"Equatorial Guinea\",\"Eritrea\",\"Ethiopia\",\"Gabon\",\"Gambia\",\"Ghana\",\"Guinea\",\"Guinea-Bissau\",\"Kenya\",\"Lesotho\",\"Liberia\",\"Libya\",\"Madagascar\",\"Malawi\",\"Mali\",\"Mauritania\",\"Mauritius\",\"Morocco\",\"Mozambique\",\"Namibia\",\"Niger\",\"Nigeria\",\"Reunion\",\"Rwanda\",\"Sao Tome and Principe\",\"Senegal\",\"Sierra Leone\",\"Somalia\",\"South Africa\",\"Sudan\",\"Swaziland\",\"Tanzania\",\"Togo\",\"Tunisia\",\"Uganda\",\"Zambia\",\"Zimbabwe\"],\"legendgroup\":\"Africa\",\"locations\":[\"DZA\",\"AGO\",\"BEN\",\"BWA\",\"BFA\",\"BDI\",\"CMR\",\"CAF\",\"TCD\",\"COM\",\"COD\",\"COG\",\"CIV\",\"DJI\",\"EGY\",\"GNQ\",\"ERI\",\"ETH\",\"GAB\",\"GMB\",\"GHA\",\"GIN\",\"GNB\",\"KEN\",\"LSO\",\"LBR\",\"LBY\",\"MDG\",\"MWI\",\"MLI\",\"MRT\",\"MUS\",\"MAR\",\"MOZ\",\"NAM\",\"NER\",\"NGA\",\"REU\",\"RWA\",\"STP\",\"SEN\",\"SLE\",\"SOM\",\"ZAF\",\"SDN\",\"SWZ\",\"TZA\",\"TGO\",\"TUN\",\"UGA\",\"ZMB\",\"ZWE\"],\"marker\":{\"color\":\"#00cc96\",\"size\":[33333216,12420476,8078314,1639131,14326203,8390505,17696293,4369038,10238807,710960,64606759,3800610,18013409,496374,80264543,551201,4906585,76511887,1454867,1688359,22873338,9947814,1472041,35610177,2012649,3193942,6036914,19167654,13327079,12031795,3270065,1250882,33757175,19951656,2055080,12894865,135031164,798094,8860588,199579,12267493,6144562,9118773,43997828,42292929,1133066,38139640,5701579,10276158,29170398,11746035,12311143],\"sizemode\":\"area\",\"sizeref\":3296707.74,\"symbol\":\"circle\"},\"mode\":\"markers\",\"name\":\"Africa\",\"showlegend\":true,\"type\":\"scattergeo\"},{\"geo\":\"geo\",\"hovertemplate\":\"<b>%{hovertext}</b><br><br>continent=Americas<br>year=2007<br>pop=%{marker.size}<br>iso_alpha=%{location}<extra></extra>\",\"hovertext\":[\"Argentina\",\"Bolivia\",\"Brazil\",\"Canada\",\"Chile\",\"Colombia\",\"Costa Rica\",\"Cuba\",\"Dominican Republic\",\"Ecuador\",\"El Salvador\",\"Guatemala\",\"Haiti\",\"Honduras\",\"Jamaica\",\"Mexico\",\"Nicaragua\",\"Panama\",\"Paraguay\",\"Peru\",\"Puerto Rico\",\"Trinidad and Tobago\",\"United States\",\"Uruguay\",\"Venezuela\"],\"legendgroup\":\"Americas\",\"locations\":[\"ARG\",\"BOL\",\"BRA\",\"CAN\",\"CHL\",\"COL\",\"CRI\",\"CUB\",\"DOM\",\"ECU\",\"SLV\",\"GTM\",\"HTI\",\"HND\",\"JAM\",\"MEX\",\"NIC\",\"PAN\",\"PRY\",\"PER\",\"PRI\",\"TTO\",\"USA\",\"URY\",\"VEN\"],\"marker\":{\"color\":\"#ab63fa\",\"size\":[40301927,9119152,190010647,33390141,16284741,44227550,4133884,11416987,9319622,13755680,6939688,12572928,8502814,7483763,2780132,108700891,5675356,3242173,6667147,28674757,3942491,1056608,301139947,3447496,26084662],\"sizemode\":\"area\",\"sizeref\":3296707.74,\"symbol\":\"circle\"},\"mode\":\"markers\",\"name\":\"Americas\",\"showlegend\":true,\"type\":\"scattergeo\"},{\"geo\":\"geo\",\"hovertemplate\":\"<b>%{hovertext}</b><br><br>continent=Oceania<br>year=2007<br>pop=%{marker.size}<br>iso_alpha=%{location}<extra></extra>\",\"hovertext\":[\"Australia\",\"New Zealand\"],\"legendgroup\":\"Oceania\",\"locations\":[\"AUS\",\"NZL\"],\"marker\":{\"color\":\"#FFA15A\",\"size\":[20434176,4115771],\"sizemode\":\"area\",\"sizeref\":3296707.74,\"symbol\":\"circle\"},\"mode\":\"markers\",\"name\":\"Oceania\",\"showlegend\":true,\"type\":\"scattergeo\"}],\"name\":\"2007\"}]);\n",
              "                        }).then(function(){\n",
              "                            \n",
              "var gd = document.getElementById('3a37a56e-7f9c-4017-b3a7-5f886576d8f5');\n",
              "var x = new MutationObserver(function (mutations, observer) {{\n",
              "        var display = window.getComputedStyle(gd).display;\n",
              "        if (!display || display === 'none') {{\n",
              "            console.log([gd, 'removed!']);\n",
              "            Plotly.purge(gd);\n",
              "            observer.disconnect();\n",
              "        }}\n",
              "}});\n",
              "\n",
              "// Listen for the removal of the full notebook cells\n",
              "var notebookContainer = gd.closest('#notebook-container');\n",
              "if (notebookContainer) {{\n",
              "    x.observe(notebookContainer, {childList: true});\n",
              "}}\n",
              "\n",
              "// Listen for the clearing of the current output cell\n",
              "var outputEl = gd.closest('.output');\n",
              "if (outputEl) {{\n",
              "    x.observe(outputEl, {childList: true});\n",
              "}}\n",
              "\n",
              "                        })                };                            </script>        </div>\n",
              "</body>\n",
              "</html>"
            ]
          },
          "metadata": {},
          "output_type": "display_data"
        }
      ],
      "source": [
        "fig2 = px.scatter_geo(gapminder, locations=\"iso_alpha\", color=\"continent\",\n",
        "                     hover_name=\"country\", size=\"pop\",\n",
        "                     animation_frame=\"year\",\n",
        "                     projection=\"natural earth\")\n",
        "fig2.show()"
      ]
    },
    {
      "attachments": {},
      "cell_type": "markdown",
      "metadata": {
        "id": "fZfiESIYdgOB"
      },
      "source": [
        "#### 補足事項1　日本地図を使う\n"
      ]
    },
    {
      "attachments": {},
      "cell_type": "markdown",
      "metadata": {
        "id": "TG_rLh3xdjwv"
      },
      "source": [
        "地図に関するpythonのライブラリとして、日本地図の都道府県を表示してくれるjapanpanmapがあります。都道府県ごとに色を変更するなど可能です。"
      ]
    },
    {
      "cell_type": "code",
      "execution_count": null,
      "metadata": {
        "colab": {
          "base_uri": "https://localhost:8080/"
        },
        "id": "XxwfjynJYb5G",
        "outputId": "67e17bb7-5aff-4106-dddb-4ee14292584c"
      },
      "outputs": [
        {
          "name": "stdout",
          "output_type": "stream",
          "text": [
            "Collecting japanmap\n",
            "  Downloading japanmap-0.0.23-py3-none-any.whl (167 kB)\n",
            "\u001b[K     |████████████████████████████████| 167 kB 4.0 MB/s \n",
            "\u001b[?25hCollecting opencv-python<5.0.0,>=4.2.0\n",
            "  Downloading opencv_python-4.5.4.60-cp37-cp37m-manylinux_2_17_x86_64.manylinux2014_x86_64.whl (60.3 MB)\n",
            "\u001b[K     |████████████████████████████████| 60.3 MB 1.3 MB/s \n",
            "\u001b[?25hRequirement already satisfied: Pillow<8.0.0,>=7.1.1 in /usr/local/lib/python3.7/dist-packages (from japanmap) (7.1.2)\n",
            "Requirement already satisfied: numpy<2.0.0,>=1.18.2 in /usr/local/lib/python3.7/dist-packages (from japanmap) (1.19.5)\n",
            "Installing collected packages: opencv-python, japanmap\n",
            "  Attempting uninstall: opencv-python\n",
            "    Found existing installation: opencv-python 4.1.2.30\n",
            "    Uninstalling opencv-python-4.1.2.30:\n",
            "      Successfully uninstalled opencv-python-4.1.2.30\n",
            "\u001b[31mERROR: pip's dependency resolver does not currently take into account all the packages that are installed. This behaviour is the source of the following dependency conflicts.\n",
            "albumentations 0.1.12 requires imgaug<0.2.7,>=0.2.5, but you have imgaug 0.2.9 which is incompatible.\u001b[0m\n",
            "Successfully installed japanmap-0.0.23 opencv-python-4.5.4.60\n"
          ]
        }
      ],
      "source": [
        "!pip install japanmap"
      ]
    },
    {
      "attachments": {},
      "cell_type": "markdown",
      "metadata": {
        "id": "I-ttlFB-ePrr"
      },
      "source": [
        "以下はpictureをインポートして、日本地図を表示して、東京都を青で（色名）指定し、大阪府を黄色で（RGB値）指定して表示しています。"
      ]
    },
    {
      "cell_type": "code",
      "execution_count": null,
      "metadata": {
        "colab": {
          "base_uri": "https://localhost:8080/",
          "height": 273
        },
        "id": "TtlkbJ3KYvFQ",
        "outputId": "4357aa4c-a216-40a4-ceb6-abc8dcd21c25"
      },
      "outputs": [
        {
          "data": {
            "image/png": "[encoded data removed]",
            "text/plain": [
              "<Figure size 432x288 with 1 Axes>"
            ]
          },
          "metadata": {
            "needs_background": "light"
          },
          "output_type": "display_data"
        }
      ],
      "source": [
        "from japanmap import picture\n",
        "\n",
        "plt.imshow(picture({'東京都':'blue','大阪府':(255,255,0)}));"
      ]
    },
    {
      "attachments": {},
      "cell_type": "markdown",
      "metadata": {
        "id": "NJeoHfqpe5vw"
      },
      "source": [
        "他のライブラリとして、より詳細な地図を使いたい場合や、より拡大や縮小を柔軟に実行したい場合にはfoliumを使うと便利です。"
      ]
    },
    {
      "attachments": {},
      "cell_type": "markdown",
      "metadata": {
        "id": "ZUz3uwuGhf6Z"
      },
      "source": [
        "公式サイト：https://python-visualization.github.io/folium/"
      ]
    },
    {
      "cell_type": "code",
      "execution_count": null,
      "metadata": {
        "colab": {
          "base_uri": "https://localhost:8080/"
        },
        "id": "5M9kp89FbuGg",
        "outputId": "38519b93-161d-4352-fe6c-87f5eb1bac3d"
      },
      "outputs": [
        {
          "name": "stdout",
          "output_type": "stream",
          "text": [
            "Requirement already satisfied: folium in /usr/local/lib/python3.7/dist-packages (0.8.3)\n",
            "Requirement already satisfied: six in /usr/local/lib/python3.7/dist-packages (from folium) (1.15.0)\n",
            "Requirement already satisfied: branca>=0.3.0 in /usr/local/lib/python3.7/dist-packages (from folium) (0.4.2)\n",
            "Requirement already satisfied: requests in /usr/local/lib/python3.7/dist-packages (from folium) (2.23.0)\n",
            "Requirement already satisfied: jinja2 in /usr/local/lib/python3.7/dist-packages (from folium) (2.11.3)\n",
            "Requirement already satisfied: numpy in /usr/local/lib/python3.7/dist-packages (from folium) (1.19.5)\n",
            "Requirement already satisfied: MarkupSafe>=0.23 in /usr/local/lib/python3.7/dist-packages (from jinja2->folium) (2.0.1)\n",
            "Requirement already satisfied: urllib3!=1.25.0,!=1.25.1,<1.26,>=1.21.1 in /usr/local/lib/python3.7/dist-packages (from requests->folium) (1.24.3)\n",
            "Requirement already satisfied: certifi>=2017.4.17 in /usr/local/lib/python3.7/dist-packages (from requests->folium) (2021.10.8)\n",
            "Requirement already satisfied: idna<3,>=2.5 in /usr/local/lib/python3.7/dist-packages (from requests->folium) (2.10)\n",
            "Requirement already satisfied: chardet<4,>=3.0.2 in /usr/local/lib/python3.7/dist-packages (from requests->folium) (3.0.4)\n"
          ]
        }
      ],
      "source": [
        "!pip install folium"
      ]
    },
    {
      "attachments": {},
      "cell_type": "markdown",
      "metadata": {
        "id": "saaCrh5efpqM"
      },
      "source": [
        "東京駅周辺の地図を表示してみます。東京駅の緯度経度を調べてみると、(35.6809591,139.7673068)になりますので、それをlocationのパラメータとしてセットします。また、東京駅にマークを付ける場合は、Markerを使います。"
      ]
    },
    {
      "cell_type": "code",
      "execution_count": null,
      "metadata": {
        "colab": {
          "base_uri": "https://localhost:8080/",
          "height": 878
        },
        "id": "T8pdswPHb0Q9",
        "outputId": "e6014210-c168-4f81-9a33-94707591e748"
      },
      "outputs": [
        {
          "data": {
            "text/html": [
              "<div style=\"width:100%;\"><div style=\"position:relative;width:100%;height:0;padding-bottom:60%;\"><span style=\"color:#565656\">Make this Notebook Trusted to load map: File -> Trust Notebook</span><iframe src=\"about:blank\" style=\"position:absolute;width:100%;height:100%;left:0;top:0;border:none !important;\" data-html=%3C%21DOCTYPE%20html%3E%0A%3Chead%3E%20%20%20%20%0A%20%20%20%20%3Cmeta%20http-equiv%3D%22content-type%22%20content%3D%22text/html%3B%20charset%3DUTF-8%22%20/%3E%0A%20%20%20%20%3Cscript%3EL_PREFER_CANVAS%3Dfalse%3B%20L_NO_TOUCH%3Dfalse%3B%20L_DISABLE_3D%3Dfalse%3B%3C/script%3E%0A%20%20%20%20%3Cscript%20src%3D%22https%3A//cdn.jsdelivr.net/npm/leaflet%401.4.0/dist/leaflet.js%22%3E%3C/script%3E%0A%20%20%20%20%3Cscript%20src%3D%22https%3A//code.jquery.com/jquery-1.12.4.min.js%22%3E%3C/script%3E%0A%20%20%20%20%3Cscript%20src%3D%22https%3A//maxcdn.bootstrapcdn.com/bootstrap/3.2.0/js/bootstrap.min.js%22%3E%3C/script%3E%0A%20%20%20%20%3Cscript%20src%3D%22https%3A//cdnjs.cloudflare.com/ajax/libs/Leaflet.awesome-markers/2.0.2/leaflet.awesome-markers.js%22%3E%3C/script%3E%0A%20%20%20%20%3Clink%20rel%3D%22stylesheet%22%20href%3D%22https%3A//cdn.jsdelivr.net/npm/leaflet%401.4.0/dist/leaflet.css%22/%3E%0A%20%20%20%20%3Clink%20rel%3D%22stylesheet%22%20href%3D%22https%3A//maxcdn.bootstrapcdn.com/bootstrap/3.2.0/css/bootstrap.min.css%22/%3E%0A%20%20%20%20%3Clink%20rel%3D%22stylesheet%22%20href%3D%22https%3A//maxcdn.bootstrapcdn.com/bootstrap/3.2.0/css/bootstrap-theme.min.css%22/%3E%0A%20%20%20%20%3Clink%20rel%3D%22stylesheet%22%20href%3D%22https%3A//maxcdn.bootstrapcdn.com/font-awesome/4.6.3/css/font-awesome.min.css%22/%3E%0A%20%20%20%20%3Clink%20rel%3D%22stylesheet%22%20href%3D%22https%3A//cdnjs.cloudflare.com/ajax/libs/Leaflet.awesome-markers/2.0.2/leaflet.awesome-markers.css%22/%3E%0A%20%20%20%20%3Clink%20rel%3D%22stylesheet%22%20href%3D%22https%3A//rawcdn.githack.com/python-visualization/folium/master/folium/templates/leaflet.awesome.rotate.css%22/%3E%0A%20%20%20%20%3Cstyle%3Ehtml%2C%20body%20%7Bwidth%3A%20100%25%3Bheight%3A%20100%25%3Bmargin%3A%200%3Bpadding%3A%200%3B%7D%3C/style%3E%0A%20%20%20%20%3Cstyle%3E%23map%20%7Bposition%3Aabsolute%3Btop%3A0%3Bbottom%3A0%3Bright%3A0%3Bleft%3A0%3B%7D%3C/style%3E%0A%20%20%20%20%0A%20%20%20%20%3Cmeta%20name%3D%22viewport%22%20content%3D%22width%3Ddevice-width%2C%0A%20%20%20%20%20%20%20%20initial-scale%3D1.0%2C%20maximum-scale%3D1.0%2C%20user-scalable%3Dno%22%20/%3E%0A%20%20%20%20%3Cstyle%3E%23map_d33b5a996b874fa687840f7d886a3b50%20%7B%0A%20%20%20%20%20%20%20%20position%3A%20relative%3B%0A%20%20%20%20%20%20%20%20width%3A%20100.0%25%3B%0A%20%20%20%20%20%20%20%20height%3A%20100.0%25%3B%0A%20%20%20%20%20%20%20%20left%3A%200.0%25%3B%0A%20%20%20%20%20%20%20%20top%3A%200.0%25%3B%0A%20%20%20%20%20%20%20%20%7D%0A%20%20%20%20%3C/style%3E%0A%3C/head%3E%0A%3Cbody%3E%20%20%20%20%0A%20%20%20%20%0A%20%20%20%20%3Cdiv%20class%3D%22folium-map%22%20id%3D%22map_d33b5a996b874fa687840f7d886a3b50%22%20%3E%3C/div%3E%0A%3C/body%3E%0A%3Cscript%3E%20%20%20%20%0A%20%20%20%20%0A%20%20%20%20%0A%20%20%20%20%20%20%20%20var%20bounds%20%3D%20null%3B%0A%20%20%20%20%0A%0A%20%20%20%20var%20map_d33b5a996b874fa687840f7d886a3b50%20%3D%20L.map%28%0A%20%20%20%20%20%20%20%20%27map_d33b5a996b874fa687840f7d886a3b50%27%2C%20%7B%0A%20%20%20%20%20%20%20%20center%3A%20%5B35.6809591%2C%20139.7673068%5D%2C%0A%20%20%20%20%20%20%20%20zoom%3A%2016%2C%0A%20%20%20%20%20%20%20%20maxBounds%3A%20bounds%2C%0A%20%20%20%20%20%20%20%20layers%3A%20%5B%5D%2C%0A%20%20%20%20%20%20%20%20worldCopyJump%3A%20false%2C%0A%20%20%20%20%20%20%20%20crs%3A%20L.CRS.EPSG3857%2C%0A%20%20%20%20%20%20%20%20zoomControl%3A%20true%2C%0A%20%20%20%20%20%20%20%20%7D%29%3B%0A%0A%0A%20%20%20%20%0A%20%20%20%20var%20tile_layer_dad487831762425686d113f04fa22a69%20%3D%20L.tileLayer%28%0A%20%20%20%20%20%20%20%20%27https%3A//%7Bs%7D.tile.openstreetmap.org/%7Bz%7D/%7Bx%7D/%7By%7D.png%27%2C%0A%20%20%20%20%20%20%20%20%7B%0A%20%20%20%20%20%20%20%20%22attribution%22%3A%20null%2C%0A%20%20%20%20%20%20%20%20%22detectRetina%22%3A%20false%2C%0A%20%20%20%20%20%20%20%20%22maxNativeZoom%22%3A%2018%2C%0A%20%20%20%20%20%20%20%20%22maxZoom%22%3A%2018%2C%0A%20%20%20%20%20%20%20%20%22minZoom%22%3A%200%2C%0A%20%20%20%20%20%20%20%20%22noWrap%22%3A%20false%2C%0A%20%20%20%20%20%20%20%20%22opacity%22%3A%201%2C%0A%20%20%20%20%20%20%20%20%22subdomains%22%3A%20%22abc%22%2C%0A%20%20%20%20%20%20%20%20%22tms%22%3A%20false%0A%7D%29.addTo%28map_d33b5a996b874fa687840f7d886a3b50%29%3B%0A%20%20%20%20%0A%20%20%20%20%20%20%20%20var%20marker_7a3a7d9766754d9b83eeef93be9e9860%20%3D%20L.marker%28%0A%20%20%20%20%20%20%20%20%20%20%20%20%5B35.6809591%2C%20139.7673068%5D%2C%0A%20%20%20%20%20%20%20%20%20%20%20%20%7B%0A%20%20%20%20%20%20%20%20%20%20%20%20%20%20%20%20icon%3A%20new%20L.Icon.Default%28%29%2C%0A%20%20%20%20%20%20%20%20%20%20%20%20%20%20%20%20%7D%0A%20%20%20%20%20%20%20%20%20%20%20%20%29.addTo%28map_d33b5a996b874fa687840f7d886a3b50%29%3B%0A%20%20%20%20%20%20%20%20%0A%3C/script%3E onload=\"this.contentDocument.open();this.contentDocument.write(    decodeURIComponent(this.getAttribute('data-html')));this.contentDocument.close();\" allowfullscreen webkitallowfullscreen mozallowfullscreen></iframe></div></div>"
            ],
            "text/plain": [
              "<folium.folium.Map at 0x7fb949148a50>"
            ]
          },
          "execution_count": 92,
          "metadata": {},
          "output_type": "execute_result"
        }
      ],
      "source": [
        "import folium\n",
        "\n",
        "# 地図作成とマークの付与\n",
        "folium_map = folium.Map(location=[35.6809591,139.7673068], zoom_start=16)\n",
        "folium.Marker(location=[35.6809591,139.7673068]).add_to(folium_map)\n",
        "\n",
        "# 地図の表示\n",
        "folium_map"
      ]
    },
    {
      "attachments": {},
      "cell_type": "markdown",
      "metadata": {
        "id": "_8I6bk4YiAqJ"
      },
      "source": [
        "この詳細な地図は粒度がかなり細かいので、分析でざっくり可視化する場面としてはそれほど多くはないかもしれませんが、以下のようにPolyLineを使って経路のマークもできますので、例えば、流通の最短経路の計算などに使えるかもしれません。"
      ]
    },
    {
      "cell_type": "code",
      "execution_count": null,
      "metadata": {
        "colab": {
          "base_uri": "https://localhost:8080/",
          "height": 878
        },
        "id": "fi-O_sPzilU0",
        "outputId": "3bbd8847-c6b6-44c1-d242-96f98f27d9dc"
      },
      "outputs": [
        {
          "data": {
            "text/html": [
              "<div style=\"width:100%;\"><div style=\"position:relative;width:100%;height:0;padding-bottom:60%;\"><span style=\"color:#565656\">Make this Notebook Trusted to load map: File -> Trust Notebook</span><iframe src=\"about:blank\" style=\"position:absolute;width:100%;height:100%;left:0;top:0;border:none !important;\" data-html=%3C%21DOCTYPE%20html%3E%0A%3Chead%3E%20%20%20%20%0A%20%20%20%20%3Cmeta%20http-equiv%3D%22content-type%22%20content%3D%22text/html%3B%20charset%3DUTF-8%22%20/%3E%0A%20%20%20%20%3Cscript%3EL_PREFER_CANVAS%3Dfalse%3B%20L_NO_TOUCH%3Dfalse%3B%20L_DISABLE_3D%3Dfalse%3B%3C/script%3E%0A%20%20%20%20%3Cscript%20src%3D%22https%3A//cdn.jsdelivr.net/npm/leaflet%401.4.0/dist/leaflet.js%22%3E%3C/script%3E%0A%20%20%20%20%3Cscript%20src%3D%22https%3A//code.jquery.com/jquery-1.12.4.min.js%22%3E%3C/script%3E%0A%20%20%20%20%3Cscript%20src%3D%22https%3A//maxcdn.bootstrapcdn.com/bootstrap/3.2.0/js/bootstrap.min.js%22%3E%3C/script%3E%0A%20%20%20%20%3Cscript%20src%3D%22https%3A//cdnjs.cloudflare.com/ajax/libs/Leaflet.awesome-markers/2.0.2/leaflet.awesome-markers.js%22%3E%3C/script%3E%0A%20%20%20%20%3Clink%20rel%3D%22stylesheet%22%20href%3D%22https%3A//cdn.jsdelivr.net/npm/leaflet%401.4.0/dist/leaflet.css%22/%3E%0A%20%20%20%20%3Clink%20rel%3D%22stylesheet%22%20href%3D%22https%3A//maxcdn.bootstrapcdn.com/bootstrap/3.2.0/css/bootstrap.min.css%22/%3E%0A%20%20%20%20%3Clink%20rel%3D%22stylesheet%22%20href%3D%22https%3A//maxcdn.bootstrapcdn.com/bootstrap/3.2.0/css/bootstrap-theme.min.css%22/%3E%0A%20%20%20%20%3Clink%20rel%3D%22stylesheet%22%20href%3D%22https%3A//maxcdn.bootstrapcdn.com/font-awesome/4.6.3/css/font-awesome.min.css%22/%3E%0A%20%20%20%20%3Clink%20rel%3D%22stylesheet%22%20href%3D%22https%3A//cdnjs.cloudflare.com/ajax/libs/Leaflet.awesome-markers/2.0.2/leaflet.awesome-markers.css%22/%3E%0A%20%20%20%20%3Clink%20rel%3D%22stylesheet%22%20href%3D%22https%3A//rawcdn.githack.com/python-visualization/folium/master/folium/templates/leaflet.awesome.rotate.css%22/%3E%0A%20%20%20%20%3Cstyle%3Ehtml%2C%20body%20%7Bwidth%3A%20100%25%3Bheight%3A%20100%25%3Bmargin%3A%200%3Bpadding%3A%200%3B%7D%3C/style%3E%0A%20%20%20%20%3Cstyle%3E%23map%20%7Bposition%3Aabsolute%3Btop%3A0%3Bbottom%3A0%3Bright%3A0%3Bleft%3A0%3B%7D%3C/style%3E%0A%20%20%20%20%0A%20%20%20%20%3Cmeta%20name%3D%22viewport%22%20content%3D%22width%3Ddevice-width%2C%0A%20%20%20%20%20%20%20%20initial-scale%3D1.0%2C%20maximum-scale%3D1.0%2C%20user-scalable%3Dno%22%20/%3E%0A%20%20%20%20%3Cstyle%3E%23map_d33b5a996b874fa687840f7d886a3b50%20%7B%0A%20%20%20%20%20%20%20%20position%3A%20relative%3B%0A%20%20%20%20%20%20%20%20width%3A%20100.0%25%3B%0A%20%20%20%20%20%20%20%20height%3A%20100.0%25%3B%0A%20%20%20%20%20%20%20%20left%3A%200.0%25%3B%0A%20%20%20%20%20%20%20%20top%3A%200.0%25%3B%0A%20%20%20%20%20%20%20%20%7D%0A%20%20%20%20%3C/style%3E%0A%3C/head%3E%0A%3Cbody%3E%20%20%20%20%0A%20%20%20%20%0A%20%20%20%20%3Cdiv%20class%3D%22folium-map%22%20id%3D%22map_d33b5a996b874fa687840f7d886a3b50%22%20%3E%3C/div%3E%0A%3C/body%3E%0A%3Cscript%3E%20%20%20%20%0A%20%20%20%20%0A%20%20%20%20%0A%20%20%20%20%20%20%20%20var%20bounds%20%3D%20null%3B%0A%20%20%20%20%0A%0A%20%20%20%20var%20map_d33b5a996b874fa687840f7d886a3b50%20%3D%20L.map%28%0A%20%20%20%20%20%20%20%20%27map_d33b5a996b874fa687840f7d886a3b50%27%2C%20%7B%0A%20%20%20%20%20%20%20%20center%3A%20%5B35.6809591%2C%20139.7673068%5D%2C%0A%20%20%20%20%20%20%20%20zoom%3A%2016%2C%0A%20%20%20%20%20%20%20%20maxBounds%3A%20bounds%2C%0A%20%20%20%20%20%20%20%20layers%3A%20%5B%5D%2C%0A%20%20%20%20%20%20%20%20worldCopyJump%3A%20false%2C%0A%20%20%20%20%20%20%20%20crs%3A%20L.CRS.EPSG3857%2C%0A%20%20%20%20%20%20%20%20zoomControl%3A%20true%2C%0A%20%20%20%20%20%20%20%20%7D%29%3B%0A%0A%0A%20%20%20%20%0A%20%20%20%20var%20tile_layer_dad487831762425686d113f04fa22a69%20%3D%20L.tileLayer%28%0A%20%20%20%20%20%20%20%20%27https%3A//%7Bs%7D.tile.openstreetmap.org/%7Bz%7D/%7Bx%7D/%7By%7D.png%27%2C%0A%20%20%20%20%20%20%20%20%7B%0A%20%20%20%20%20%20%20%20%22attribution%22%3A%20null%2C%0A%20%20%20%20%20%20%20%20%22detectRetina%22%3A%20false%2C%0A%20%20%20%20%20%20%20%20%22maxNativeZoom%22%3A%2018%2C%0A%20%20%20%20%20%20%20%20%22maxZoom%22%3A%2018%2C%0A%20%20%20%20%20%20%20%20%22minZoom%22%3A%200%2C%0A%20%20%20%20%20%20%20%20%22noWrap%22%3A%20false%2C%0A%20%20%20%20%20%20%20%20%22opacity%22%3A%201%2C%0A%20%20%20%20%20%20%20%20%22subdomains%22%3A%20%22abc%22%2C%0A%20%20%20%20%20%20%20%20%22tms%22%3A%20false%0A%7D%29.addTo%28map_d33b5a996b874fa687840f7d886a3b50%29%3B%0A%20%20%20%20%0A%20%20%20%20%20%20%20%20var%20marker_7a3a7d9766754d9b83eeef93be9e9860%20%3D%20L.marker%28%0A%20%20%20%20%20%20%20%20%20%20%20%20%5B35.6809591%2C%20139.7673068%5D%2C%0A%20%20%20%20%20%20%20%20%20%20%20%20%7B%0A%20%20%20%20%20%20%20%20%20%20%20%20%20%20%20%20icon%3A%20new%20L.Icon.Default%28%29%2C%0A%20%20%20%20%20%20%20%20%20%20%20%20%20%20%20%20%7D%0A%20%20%20%20%20%20%20%20%20%20%20%20%29.addTo%28map_d33b5a996b874fa687840f7d886a3b50%29%3B%0A%20%20%20%20%20%20%20%20%0A%20%20%20%20%0A%20%20%20%20%20%20%20%20%20%20%20%20%20%20%20%20var%20poly_line_73a1a318da754badb8ee629eba272d6c%20%3D%20L.polyline%28%0A%20%20%20%20%20%20%20%20%20%20%20%20%20%20%20%20%20%20%20%20%5B%5B35.6809591%2C%20139.7673068%5D%2C%20%5B35.6809117%2C%20139.7576692%5D%5D%2C%0A%20%20%20%20%20%20%20%20%20%20%20%20%20%20%20%20%20%20%20%20%7B%0A%20%20%22bubblingMouseEvents%22%3A%20true%2C%0A%20%20%22color%22%3A%20%22red%22%2C%0A%20%20%22dashArray%22%3A%20null%2C%0A%20%20%22dashOffset%22%3A%20null%2C%0A%20%20%22fill%22%3A%20false%2C%0A%20%20%22fillColor%22%3A%20%22red%22%2C%0A%20%20%22fillOpacity%22%3A%200.2%2C%0A%20%20%22fillRule%22%3A%20%22evenodd%22%2C%0A%20%20%22lineCap%22%3A%20%22round%22%2C%0A%20%20%22lineJoin%22%3A%20%22round%22%2C%0A%20%20%22noClip%22%3A%20false%2C%0A%20%20%22opacity%22%3A%200.8%2C%0A%20%20%22smoothFactor%22%3A%201.0%2C%0A%20%20%22stroke%22%3A%20true%2C%0A%20%20%22weight%22%3A%2015%0A%7D%0A%20%20%20%20%20%20%20%20%20%20%20%20%20%20%20%20%20%20%20%20%29%0A%20%20%20%20%20%20%20%20%20%20%20%20%20%20%20%20%20%20%20%20.addTo%28map_d33b5a996b874fa687840f7d886a3b50%29%3B%0A%20%20%20%20%20%20%20%20%20%20%20%20%0A%3C/script%3E onload=\"this.contentDocument.open();this.contentDocument.write(    decodeURIComponent(this.getAttribute('data-html')));this.contentDocument.close();\" allowfullscreen webkitallowfullscreen mozallowfullscreen></iframe></div></div>"
            ],
            "text/plain": [
              "<folium.folium.Map at 0x7fb949148a50>"
            ]
          },
          "execution_count": 93,
          "metadata": {},
          "output_type": "execute_result"
        }
      ],
      "source": [
        "loc = [(35.6809591,139.7673068),\n",
        "       (35.6809117,139.7576692)]\n",
        "\n",
        "folium.PolyLine(loc,\n",
        "                color='red',\n",
        "                weight=15,\n",
        "                opacity=0.8).add_to(folium_map)\n",
        "folium_map"
      ]
    },
    {
      "attachments": {},
      "cell_type": "markdown",
      "metadata": {
        "id": "x0ZKVLTKurid"
      },
      "source": [
        "\n",
        "### 10.4.4 Pythonで操るGoogle Spread Sheet（セキュリティ注意）\n",
        "\n",
        "次に、Pythonを使ってGoogle Spread Sheetを操る方法を紹介します。エクセルの操作については、消費者分析の初級編や上のデータ処理から、Pandasの操作と合わせて、比較的容易にデータ処理できると思います。近年はエクセルの他に、クラウドにあるGoogle Spread Sheetを使っている企業も増えてきています。ここでは、そのGoogle Spread Sheetを直接Pythonで処理していく方法を紹介していきます。この手法を知ることによって、Googleのクラウドで管理していたファイル操作（シートにある数字処理など）も自動化できます。\n",
        "\n",
        "まず、そのための使うパッケージをインストールします。"
      ]
    },
    {
      "attachments": {},
      "cell_type": "markdown",
      "metadata": {
        "id": "YCAw9Xnfkkir"
      },
      "source": [
        "\n",
        "\n",
        "https://qiita.com/safa/items/bfa52430f920ac562bec"
      ]
    },
    {
      "cell_type": "code",
      "execution_count": null,
      "metadata": {
        "colab": {
          "base_uri": "https://localhost:8080/"
        },
        "id": "_tN1LE8Nkwv3",
        "outputId": "dc268065-1bca-4d44-a240-6122b7d2b781"
      },
      "outputs": [
        {
          "name": "stdout",
          "output_type": "stream",
          "text": [
            "Requirement already satisfied: gspread in /usr/local/lib/python3.7/dist-packages (3.0.1)\n",
            "Requirement already satisfied: requests>=2.2.1 in /usr/local/lib/python3.7/dist-packages (from gspread) (2.23.0)\n",
            "Requirement already satisfied: chardet<4,>=3.0.2 in /usr/local/lib/python3.7/dist-packages (from requests>=2.2.1->gspread) (3.0.4)\n",
            "Requirement already satisfied: idna<3,>=2.5 in /usr/local/lib/python3.7/dist-packages (from requests>=2.2.1->gspread) (2.10)\n",
            "Requirement already satisfied: urllib3!=1.25.0,!=1.25.1,<1.26,>=1.21.1 in /usr/local/lib/python3.7/dist-packages (from requests>=2.2.1->gspread) (1.24.3)\n",
            "Requirement already satisfied: certifi>=2017.4.17 in /usr/local/lib/python3.7/dist-packages (from requests>=2.2.1->gspread) (2021.10.8)\n"
          ]
        }
      ],
      "source": [
        "!pip install gspread"
      ]
    },
    {
      "attachments": {},
      "cell_type": "markdown",
      "metadata": {
        "id": "mGeVQJ5mlGbJ"
      },
      "source": [
        "以下が必要なライブラリ等になります。\n",
        "\n",
        "**注意：ここから一部、Googleのアカウントを持っていなかったり、企業のセキュリティのため実行できない場合がありますのでご了承ください。またセキュリティ情報を扱うため、実行の際には各情報セキュリティポリシーに従って、パスワード情報などは十分に注意して扱ってください。**\n",
        "\n",
        "\n",
        "全て実行すると、認証のためのURLが表示されるため、そのURLクリックして、「Google Cloud SDK が Google アカウントへのアクセスをリクエストしています」と出るため許可をします。そのあとに「このコードをコピーし、アプリケーションに切り替えて貼り付けてください。」と出てくるための、コードをコピーして、以下の入力欄にペーストしてEnterすれば認証が完了します。"
      ]
    },
    {
      "cell_type": "code",
      "execution_count": null,
      "metadata": {
        "id": "Bomf4Q2hk4-A"
      },
      "outputs": [],
      "source": [
        "from google.colab import auth\n",
        "auth.authenticate_user()\n",
        "\n",
        "import gspread\n",
        "from google.auth import default\n",
        "creds, _ = default()\n",
        "\n",
        "gc = gspread.authorize(creds)"
      ]
    },
    {
      "attachments": {},
      "cell_type": "markdown",
      "metadata": {
        "id": "zAlUlLnAhS5p"
      },
      "source": [
        "以下でアカウトにあるGoogleDriveにあるファイル一覧を表示しています。なお、筆者の環境にて、あらかじめ、passという今後使うパスワードの情報ファイルと、サンプルとしてのデータ(sample_data_2021)を用意しています。"
      ]
    },
    {
      "cell_type": "code",
      "execution_count": null,
      "metadata": {
        "colab": {
          "base_uri": "https://localhost:8080/"
        },
        "id": "uIdoK5Qmluu9",
        "outputId": "dea44cff-c927-443a-bc45-8b84691ec632"
      },
      "outputs": [
        {
          "name": "stdout",
          "output_type": "stream",
          "text": [
            "pass\n",
            "sample_data_2021\n"
          ]
        }
      ],
      "source": [
        "workbook_list = gc.openall()\n",
        "for workbook in workbook_list:\n",
        "  print(workbook.title) # 取得したファイルのタイトルを表示"
      ]
    },
    {
      "attachments": {},
      "cell_type": "markdown",
      "metadata": {
        "id": "xZX8wCexj84e"
      },
      "source": [
        "以下でGoogleスプレッドシートを指定して、処理していきます。"
      ]
    },
    {
      "cell_type": "code",
      "execution_count": null,
      "metadata": {
        "id": "ZPx1jR3Ysv8M"
      },
      "outputs": [],
      "source": [
        "ss_name = \"sample_data_2021\"\n",
        "workbook = gc.open(ss_name)"
      ]
    },
    {
      "cell_type": "code",
      "execution_count": null,
      "metadata": {
        "id": "X6FGuSU8ljGd"
      },
      "outputs": [],
      "source": [
        "worksheet = workbook.get_worksheet(0)"
      ]
    },
    {
      "cell_type": "code",
      "execution_count": null,
      "metadata": {
        "colab": {
          "base_uri": "https://localhost:8080/"
        },
        "id": "mFDOypeSl1qQ",
        "outputId": "0df20e67-f09a-48fb-f4d2-57606e0a214c"
      },
      "outputs": [
        {
          "name": "stdout",
          "output_type": "stream",
          "text": [
            "0.8046137243\n"
          ]
        }
      ],
      "source": [
        "print(worksheet.acell(\"C2\").value)"
      ]
    },
    {
      "attachments": {},
      "cell_type": "markdown",
      "metadata": {
        "id": "51kDZBz8wAVK"
      },
      "source": [
        "他にも、スプレッドシートのIDやURLを指定して処理したり、もちろん、シートへの書き込みや削除などもできます。何か数値などGoogleSpreadSheetで管理され、定期的に数値を集計したり、加工する必要がある場合には、pythonとgspreadを活用できますので検討してみてください。"
      ]
    },
    {
      "attachments": {},
      "cell_type": "markdown",
      "metadata": {
        "id": "QJpn9RMRv6E2"
      },
      "source": [
        "\n",
        "### 10.4.5 Pythonで作るPDFレポート"
      ]
    },
    {
      "attachments": {},
      "cell_type": "markdown",
      "metadata": {
        "id": "B8gJziHO1_nM"
      },
      "source": [
        "数値を整えたり、グラフを作成した後は、それらをまとめるためのレポート作成について紹介します。ここではPDF出力を紹介します。ここではreportlabというパッケージをインストールします。以下に公式サイトがあります。"
      ]
    },
    {
      "attachments": {},
      "cell_type": "markdown",
      "metadata": {
        "id": "QpNHUV7oaWA-"
      },
      "source": [
        "公式サイト：https://www.reportlab.com/"
      ]
    },
    {
      "attachments": {},
      "cell_type": "markdown",
      "metadata": {
        "id": "6_7uPb3YTwQ4"
      },
      "source": [
        "そして、サンプルとして以下のようなPDFレポートを作成ができます。\n",
        "\n",
        "https://www.reportlab.com/media/pix/RLIMG_04e546a82cc44dbc9ac6699aa7572865.PDF"
      ]
    },
    {
      "attachments": {},
      "cell_type": "markdown",
      "metadata": {
        "id": "e6d8Ch8rRF3M"
      },
      "source": [
        "reportlabをインストールしています。"
      ]
    },
    {
      "cell_type": "code",
      "execution_count": null,
      "metadata": {
        "colab": {
          "base_uri": "https://localhost:8080/"
        },
        "id": "fweQfTm7iM5U",
        "outputId": "72b38f40-7d8f-4ae2-e7d6-b1c8197316c1"
      },
      "outputs": [
        {
          "name": "stdout",
          "output_type": "stream",
          "text": [
            "Collecting reportlab\n",
            "  Downloading reportlab-3.6.3-cp37-cp37m-manylinux_2_17_x86_64.manylinux2014_x86_64.whl (2.7 MB)\n",
            "\u001b[K     |████████████████████████████████| 2.7 MB 4.0 MB/s \n",
            "\u001b[?25hRequirement already satisfied: pillow>=4.0.0 in /usr/local/lib/python3.7/dist-packages (from reportlab) (7.1.2)\n",
            "Installing collected packages: reportlab\n",
            "Successfully installed reportlab-3.6.3\n"
          ]
        }
      ],
      "source": [
        "!pip install reportlab"
      ]
    },
    {
      "attachments": {},
      "cell_type": "markdown",
      "metadata": {
        "id": "549f7UVORJTv"
      },
      "source": [
        "次に必要なライブラリ等をインポートします。"
      ]
    },
    {
      "cell_type": "code",
      "execution_count": null,
      "metadata": {
        "id": "FWWFTMjqkXgr"
      },
      "outputs": [],
      "source": [
        "from reportlab.pdfgen import canvas\n",
        "from reportlab.pdfbase import pdfmetrics\n",
        "from reportlab.pdfbase.cidfonts import UnicodeCIDFont\n",
        "from reportlab.lib.units import cm\n",
        "from reportlab.lib.pagesizes import A4, portrait\n",
        "from PIL import Image\n",
        "from matplotlib.backends.backend_pdf import PdfPages\n",
        "import datetime"
      ]
    },
    {
      "attachments": {},
      "cell_type": "markdown",
      "metadata": {
        "id": "Uxevle4fRL_d"
      },
      "source": [
        "以下は、現在の日時を取得し、それを最終的にPDFレポートとして出力する実装です。"
      ]
    },
    {
      "cell_type": "code",
      "execution_count": null,
      "metadata": {
        "id": "cWBdnP4niM7k"
      },
      "outputs": [],
      "source": [
        "# 現在の日時取得\n",
        "d_today = datetime.date.today()\n",
        "\n",
        "### PDFファイルを生成 ###\n",
        "file_name = 'Report'+str(d_today)+'.pdf'    # ファイル名\n",
        "pdf = canvas.Canvas(file_name, pagesize=portrait(A4))    # サイズA4\n",
        "pdf.saveState()    # 保存\n",
        "\n",
        "pdf.setAuthor('OFFICE54')\n",
        "pdf.setTitle(str(d_today))\n",
        "pdf.setSubject('TEST TEST TEST')\n",
        "\n",
        "### 線の描画 ###\n",
        "pdf.setLineWidth(1)\n",
        "pdf.line(10*cm, 25*cm, 10*cm, 1*cm)\n",
        "\n",
        "### フォント、サイズを設定 ###\n",
        "pdfmetrics.registerFont(UnicodeCIDFont('HeiseiKakuGo-W5'))\n",
        "pdf.setFont('HeiseiKakuGo-W5', 12)\n",
        "\n",
        "### 文字を描画 ###\n",
        "pdf.drawString(1*cm, 26*cm, str(d_today))\n",
        "\n",
        "pdf.setFont('HeiseiKakuGo-W5', 20)    # フォントサイズ変更\n",
        "width, height = A4  # A4サイズ\n",
        "pdf.drawCentredString(width / 2, height - 2*cm, '本日'+str(d_today)+'のKPI状況と過去の推移')\n",
        "\n",
        "pdf.save()"
      ]
    },
    {
      "attachments": {},
      "cell_type": "markdown",
      "metadata": {
        "id": "LbyHgoiuRTvT"
      },
      "source": [
        "以下で上記で作成したPDFファイルがあることを確認しています。"
      ]
    },
    {
      "cell_type": "code",
      "execution_count": null,
      "metadata": {
        "colab": {
          "base_uri": "https://localhost:8080/"
        },
        "id": "XFhPFS-4iM-M",
        "outputId": "d1c3385e-4e39-4aac-f7bc-5c0339fc3e86"
      },
      "outputs": [
        {
          "name": "stdout",
          "output_type": "stream",
          "text": [
            "adc.json  output.html  Report2021-12-06.pdf  \u001b[0m\u001b[01;34msample_data\u001b[0m/\n"
          ]
        }
      ],
      "source": [
        "ls"
      ]
    },
    {
      "attachments": {},
      "cell_type": "markdown",
      "metadata": {
        "id": "YAT-w9w7j9ZK"
      },
      "source": [
        "ファイル名は「ReportYYYY-MM-DD.pdf 」になり、作成したPDFファイルをローカルにダウンロードすることも可能です。"
      ]
    },
    {
      "cell_type": "code",
      "execution_count": null,
      "metadata": {
        "colab": {
          "base_uri": "https://localhost:8080/",
          "height": 17
        },
        "id": "CtL_jb9diNAW",
        "outputId": "f681366a-bcb8-4b48-f2d0-25323a2810a5"
      },
      "outputs": [
        {
          "data": {
            "application/javascript": "\n    async function download(id, filename, size) {\n      if (!google.colab.kernel.accessAllowed) {\n        return;\n      }\n      const div = document.createElement('div');\n      const label = document.createElement('label');\n      label.textContent = `Downloading \"${filename}\": `;\n      div.appendChild(label);\n      const progress = document.createElement('progress');\n      progress.max = size;\n      div.appendChild(progress);\n      document.body.appendChild(div);\n\n      const buffers = [];\n      let downloaded = 0;\n\n      const channel = await google.colab.kernel.comms.open(id);\n      // Send a message to notify the kernel that we're ready.\n      channel.send({})\n\n      for await (const message of channel.messages) {\n        // Send a message to notify the kernel that we're ready.\n        channel.send({})\n        if (message.buffers) {\n          for (const buffer of message.buffers) {\n            buffers.push(buffer);\n            downloaded += buffer.byteLength;\n            progress.value = downloaded;\n          }\n        }\n      }\n      const blob = new Blob(buffers, {type: 'application/binary'});\n      const a = document.createElement('a');\n      a.href = window.URL.createObjectURL(blob);\n      a.download = filename;\n      div.appendChild(a);\n      a.click();\n      div.remove();\n    }\n  ",
            "text/plain": [
              "<IPython.core.display.Javascript object>"
            ]
          },
          "metadata": {},
          "output_type": "display_data"
        },
        {
          "data": {
            "application/javascript": "download(\"download_d07c649e-8229-4638-a5be-424b4e188217\", \"Report2021-12-06.pdf\", 2487)",
            "text/plain": [
              "<IPython.core.display.Javascript object>"
            ]
          },
          "metadata": {},
          "output_type": "display_data"
        }
      ],
      "source": [
        "from google.colab import files\n",
        "files.download(file_name) # ファイル変数名指定"
      ]
    },
    {
      "attachments": {},
      "cell_type": "markdown",
      "metadata": {
        "id": "RLGaRvBtmEuR"
      },
      "source": [
        "以上で、PDFファイルの作成については終わりになります。"
      ]
    },
    {
      "attachments": {},
      "cell_type": "markdown",
      "metadata": {
        "id": "8gtwzldPwIlw"
      },
      "source": [
        "### 10.4.6 Pythonで自動化する通知機能（セキュリティ注意）\n",
        "\n",
        "分析のためのレポートを作成する処理について、データ量や前処理、その報告するボリュームによっては、時間がかかることもあります。自動化をする方法としては、WINDOWSのタイムスケジューラを使ったり、LINUXのcronなどを使って、日次や週次のバッチ処理を作成することも可能です。一定程度のレポート作成であればある程度計算処理時間の見通しはつきますが、処理がちゃんと終わっているのかどうか、いちいちチェックするのも面倒です。そこで、その処理が完了したことを自動的に通知する方法をここで紹介します。Pythonを使ってメールに添付して送信したり、Slackやライン、Teamsなどを使って通知する方法があります。ここではメールとSlackを使って実演してみます。"
      ]
    },
    {
      "attachments": {},
      "cell_type": "markdown",
      "metadata": {
        "id": "ae7Z6ftVpaBZ"
      },
      "source": [
        "ただし、ここではセキュリティ絡みの設定をする必要があるため、方法論だけを紹介します。もし業務などで使う場面が出てきたら、セキュリティなどに注意して、実行してください。"
      ]
    },
    {
      "attachments": {},
      "cell_type": "markdown",
      "metadata": {
        "id": "E_nkiiDRpN1F"
      },
      "source": [
        "#### 10.4.6.1 メールでの通知とファイルの添付"
      ]
    },
    {
      "attachments": {},
      "cell_type": "markdown",
      "metadata": {
        "id": "IYyplbGfuv-w"
      },
      "source": [
        "ここでは、Gmailを使った方法を紹介します。なお、グーグルのアカウント設定にて、「安全性の低いアプリからのアカウントへのアクセスを許可する」をONにする必要があり、セキュリティ上に問題があるため、まず学習する際は別のアカウントなどを作成すると良いでしょう。\n",
        "\n",
        "「安全性の低いアプリからのアカウントへのアクセスを許可する」をONにする方法は、グーグルアカウントの管理画面にて、セキュリティで下の方に「安全性の低いアプリへのアクセス」があるので、「アクセスを有効にする」にて「安全性の低いアプリの許可: 有効」にします。"
      ]
    },
    {
      "attachments": {},
      "cell_type": "markdown",
      "metadata": {
        "id": "xWrCEnASxmuo"
      },
      "source": [
        "メールの送信に使うライブラリをインポートします。なお、MIMEとは、「Multipurpose Internet Mail Extensions」の略でTCP/IPネットワーク上でやり取りする電子メールの規格・仕様です。ASCII英数字以外のデータを取り扱うことができます。"
      ]
    },
    {
      "cell_type": "code",
      "execution_count": null,
      "metadata": {
        "id": "H0z0dVLsvKN2"
      },
      "outputs": [],
      "source": [
        "from email.mime.text import MIMEText\n",
        "from email.mime.application import MIMEApplication\n",
        "from email.mime.multipart import MIMEMultipart\n",
        "import smtplib\n",
        "from os.path import basename"
      ]
    },
    {
      "attachments": {},
      "cell_type": "markdown",
      "metadata": {
        "id": "vISGmnXfzj__"
      },
      "source": [
        "ここで自分が使うメールのアカウント情報、メールの送信先情報を設定します。ここでパスワード情報がある直で書くようなことはせず、google driveにあるファイルからパスワードを読み込むようにします。"
      ]
    },
    {
      "cell_type": "code",
      "execution_count": null,
      "metadata": {
        "id": "0EwJhkFy53OE"
      },
      "outputs": [],
      "source": [
        "from google.colab import auth\n",
        "auth.authenticate_user()\n",
        "\n",
        "import gspread\n",
        "from google.auth import default\n",
        "creds, _ = default()\n",
        "\n",
        "gc = gspread.authorize(creds)"
      ]
    },
    {
      "cell_type": "code",
      "execution_count": null,
      "metadata": {
        "id": "vMm8QKLXludU"
      },
      "outputs": [],
      "source": [
        "# password取得\n",
        "ss_name = \"pass\"\n",
        "workbook = gc.open(ss_name)\n",
        "worksheet = workbook.get_worksheet(0)\n",
        "password = worksheet.acell(\"A1\").value"
      ]
    },
    {
      "cell_type": "code",
      "execution_count": null,
      "metadata": {
        "id": "qoxHLs_B0AXv"
      },
      "outputs": [],
      "source": [
        "# SMTP認証情報\n",
        "account = \"test.kunitaka@gmail.com\""
      ]
    },
    {
      "attachments": {},
      "cell_type": "markdown",
      "metadata": {
        "id": "-2AMVbJB1ZfY"
      },
      "source": [
        "以下に送信先と送信元を設定します。"
      ]
    },
    {
      "cell_type": "code",
      "execution_count": null,
      "metadata": {
        "id": "22recInuxMUG"
      },
      "outputs": [],
      "source": [
        "# 送受信先\n",
        "to_email = \"test.kunitaka@gmail.com\"\n",
        "from_email = \"test.kunitaka@gmail.com\""
      ]
    },
    {
      "attachments": {},
      "cell_type": "markdown",
      "metadata": {
        "id": "X98hP_bT1fuV"
      },
      "source": [
        "次に、メールのタイトル(subject)とメール本文（message）、送信先や送信元などを設定します。"
      ]
    },
    {
      "cell_type": "code",
      "execution_count": null,
      "metadata": {
        "id": "oUkkc57axWDH"
      },
      "outputs": [],
      "source": [
        "# MIMEの作成\n",
        "import datetime\n",
        "\n",
        "subject = \"テストメール20210331\"\n",
        "text = \" 初めまして。よろしくお願いいたします\"\n",
        "message = \"こちらはテストメールになります:\" + str(datetime.datetime.today()) + text\n",
        "msg = MIMEText(message, \"html\")\n",
        "msg[\"Subject\"] = subject\n",
        "msg[\"To\"] = to_email\n",
        "msg[\"From\"] = from_email"
      ]
    },
    {
      "attachments": {},
      "cell_type": "markdown",
      "metadata": {
        "id": "jDL19C0KmPiZ"
      },
      "source": [
        "以下で送信します。"
      ]
    },
    {
      "cell_type": "code",
      "execution_count": null,
      "metadata": {
        "colab": {
          "base_uri": "https://localhost:8080/"
        },
        "id": "toKDUPmoxX0L",
        "outputId": "782234a7-bbf3-4b72-ad53-94ae398fc6e0"
      },
      "outputs": [
        {
          "data": {
            "text/plain": [
              "(221, b'2.0.0 closing connection z3sm134011vsi.20 - gsmtp')"
            ]
          },
          "execution_count": 25,
          "metadata": {
            "tags": []
          },
          "output_type": "execute_result"
        }
      ],
      "source": [
        "# メール送信処理\n",
        "server = smtplib.SMTP(\"smtp.gmail.com\", 587)\n",
        "server.starttls()\n",
        "server.login(account, password)\n",
        "server.send_message(msg)\n",
        "server.quit()"
      ]
    },
    {
      "attachments": {},
      "cell_type": "markdown",
      "metadata": {
        "id": "BI57Hix0xuaI"
      },
      "source": [
        "注意：ONしていないと「安全性の低いアプリをブロックしました」とでます。"
      ]
    },
    {
      "attachments": {},
      "cell_type": "markdown",
      "metadata": {
        "id": "m0JAyK4uzKXw"
      },
      "source": [
        "これでメールの送信が完了します。\n",
        "\n",
        "次に、メールで添付ファイルをつけたい時は、以下のように実装をします。先ほど上で作成したPDFファイルを添付してみましょう。"
      ]
    },
    {
      "cell_type": "code",
      "execution_count": null,
      "metadata": {
        "colab": {
          "base_uri": "https://localhost:8080/"
        },
        "id": "5PioIli92yDR",
        "outputId": "033d480d-25d1-45be-aaed-4a774e1a5e75"
      },
      "outputs": [
        {
          "data": {
            "text/plain": [
              "(221, b'2.0.0 closing connection y20sm151787vsm.15 - gsmtp')"
            ]
          },
          "execution_count": 27,
          "metadata": {
            "tags": []
          },
          "output_type": "execute_result"
        }
      ],
      "source": [
        "# MIMEの作成\n",
        "subject = \"レポート作成メール\"+ str(datetime.datetime.today())\n",
        "message = \"本日のレポートになります。\"+ str(datetime.datetime.today())\n",
        "msg = MIMEMultipart()\n",
        "msg[\"Subject\"] = subject\n",
        "msg[\"To\"] = to_email\n",
        "msg[\"From\"] = from_email\n",
        "msg.attach(MIMEText(message))\n",
        "\n",
        "# PDFファイルを添付/HTMLファイルなども可\n",
        "path = \"./\"+file_name\n",
        "with open(path, \"rb\") as f:\n",
        "    part = MIMEApplication(\n",
        "        f.read(),\n",
        "        Name=basename(path)\n",
        "    )\n",
        " \n",
        "part['Content-Disposition'] = 'attachment; filename=\"%s\"' % basename(path)\n",
        "msg.attach(part)\n",
        " \n",
        "# メール送信処理\n",
        "server = smtplib.SMTP(\"smtp.gmail.com\", 587)\n",
        "server.starttls()\n",
        "server.login(account, password)\n",
        "server.send_message(msg)\n",
        "server.quit()\n"
      ]
    },
    {
      "attachments": {},
      "cell_type": "markdown",
      "metadata": {
        "id": "x15Nj-ez6jIj"
      },
      "source": [
        "メールを確かめてみると、先程のPDFファイルが添付されて送付されているがわかります。もちろん、5.3で作成したGoogle株価の時系列推移のHTMLファイルも、メールに添付して送付することも可能です。"
      ]
    },
    {
      "attachments": {},
      "cell_type": "markdown",
      "metadata": {
        "id": "x_d3SPPlpTUV"
      },
      "source": [
        "#### 10.4.6.2 Slackでの通知"
      ]
    },
    {
      "attachments": {},
      "cell_type": "markdown",
      "metadata": {
        "id": "LQlDQ0JT4qKh"
      },
      "source": [
        "次はPythonを使ってSlackへ投稿してみます。ステップとしては以下になります。\n",
        "\n",
        "\n",
        "\n",
        "1.   Slackの設定にて、Incoming Webhookで投稿先のチャネルを選択し(Post to Channel)、「Add Incoming Webhook integration」をクリックする。\n",
        "2.   Webhook URLが表示されるので、それをコピーする\n",
        "3.   「Save Settings」をクリックする\n"
      ]
    },
    {
      "attachments": {},
      "cell_type": "markdown",
      "metadata": {
        "id": "2XktFtrn7EHt"
      },
      "source": [
        "pythonからslackに投稿するために、slackwebが必要なため、インストールします。"
      ]
    },
    {
      "cell_type": "code",
      "execution_count": null,
      "metadata": {
        "colab": {
          "base_uri": "https://localhost:8080/"
        },
        "id": "cPvhAv397BlA",
        "outputId": "302e2d69-489e-4f80-ccf8-8949ae133539"
      },
      "outputs": [
        {
          "name": "stdout",
          "output_type": "stream",
          "text": [
            "Collecting slackweb\n",
            "  Downloading https://files.pythonhosted.org/packages/d3/6e/d9a72a3a1281435f5f4a7001a0771794c73b79a49c414716f6599f8bd465/slackweb-1.0.5.tar.gz\n",
            "Building wheels for collected packages: slackweb\n",
            "  Building wheel for slackweb (setup.py) ... \u001b[?25l\u001b[?25hdone\n",
            "  Created wheel for slackweb: filename=slackweb-1.0.5-cp37-none-any.whl size=1853 sha256=200da471fd4903e5443576c686f0eb445f2f2a71179719bcb362eb3591bb832e\n",
            "  Stored in directory: /root/.cache/pip/wheels/31/85/db/daa523e8ecc46a6cee4a04fa89fa05a053295d66063d640696\n",
            "Successfully built slackweb\n",
            "Installing collected packages: slackweb\n",
            "Successfully installed slackweb-1.0.5\n"
          ]
        }
      ],
      "source": [
        "!pip install slackweb"
      ]
    },
    {
      "attachments": {},
      "cell_type": "markdown",
      "metadata": {
        "id": "sym3j4PLo2hK"
      },
      "source": [
        "取得したURLを同じく、Google Driveのファイル内に保存をしておき、そこのファイルを読み込むようにします。"
      ]
    },
    {
      "cell_type": "code",
      "execution_count": null,
      "metadata": {
        "id": "O9WXW7QenrYo"
      },
      "outputs": [],
      "source": [
        "import slackweb\n",
        "\n",
        "# password取得\n",
        "slack_url = worksheet.acell(\"A2\").value"
      ]
    },
    {
      "cell_type": "code",
      "execution_count": null,
      "metadata": {
        "colab": {
          "base_uri": "https://localhost:8080/",
          "height": 35
        },
        "id": "ckXy12Wd6qav",
        "outputId": "3b18c021-4aeb-493d-d8bf-059b5285bacc"
      },
      "outputs": [
        {
          "data": {
            "application/vnd.google.colaboratory.intrinsic+json": {
              "type": "string"
            },
            "text/plain": [
              "'ok'"
            ]
          },
          "execution_count": 83,
          "metadata": {
            "tags": []
          },
          "output_type": "execute_result"
        }
      ],
      "source": [
        "slack = slackweb.Slack(url=\"https://hooks.slack.com/services/\"+slack_url)\n",
        "slack.notify(text=\"pythonからSlackに投稿します。今日の日時は\"+str(datetime.datetime.today())+\"です。\")"
      ]
    },
    {
      "attachments": {},
      "cell_type": "markdown",
      "metadata": {
        "id": "weaBE7Ov7mpZ"
      },
      "source": [
        "上記でOKが出ており、またSlackを確かめるとメッセージが投稿されているのがわかります。"
      ]
    },
    {
      "attachments": {},
      "cell_type": "markdown",
      "metadata": {
        "id": "wPpR1ivapXLv"
      },
      "source": [
        "これでPythonを使ったSlackへの投稿についての説明は終わりになります。Slackにも添付ファイルをつけて投稿することもできますし、他にも同じようにPythonを使って（使うライブラリ等は異なります。）、LineやMicrosoftのteamsなどへも投稿できますので、興味のある方は調べてみてください。"
      ]
    },
    {
      "attachments": {},
      "cell_type": "markdown",
      "metadata": {
        "id": "aqHWs3Z196c5"
      },
      "source": [
        "以上で、分析実行後のBIツール作成やレポート作成、通知するためのメールやSlackへの投稿についての解説は終わります。これら単体の技術だけではあまり意味がないですが、冒頭で述べたように、これらの技術を組み合わせてマーケティングシステムを設計し、実装することで、オペレーション負荷を下げることもできます。大事なのは、その数値やレポート自体を作ることではなく、経営や企画の改善につながる数値を見て、次のアクションにつながるようなPDCAサイクルをいかに早くまわせるかです。本章の実装を見ていただいた通り、それほど難易度が高いものではないため、自社での開発も検討することができますし、外部に委託するとしても、どのような実装が必要かをある程度理解した上でプロジェクトを進めると、より良いビジネス結果が出せるでしょう。"
      ]
    },
    {
      "attachments": {},
      "cell_type": "markdown",
      "metadata": {
        "id": "VteYj0D_qlq5"
      },
      "source": [
        "参考文献：\n",
        "\n",
        "『Python インタラクティブ・データビジュアライゼーション入門』（朝倉書店）"
      ]
    },
    {
      "attachments": {},
      "cell_type": "markdown",
      "metadata": {
        "id": "7-N30FmK_eVK"
      },
      "source": [
        "#### 練習問題\n",
        "1.   上記のライブラリ等を使って、分析用レポート作成のための自動化の流れを設計し、実装してみましょう。\n"
      ]
    },
    {
      "attachments": {},
      "cell_type": "markdown",
      "metadata": {
        "id": "8yn5QERxBQjk"
      },
      "source": [
        "#### 補足事項1\n",
        "上の説明したように定期実行は、Linuxではcronを使って実現できますが、pythonのcrontabライブラリやscheduleを使うことによっても実行可能になります。ここではschduleを紹介します。"
      ]
    },
    {
      "cell_type": "code",
      "execution_count": null,
      "metadata": {
        "colab": {
          "base_uri": "https://localhost:8080/"
        },
        "id": "dlSDZ6DDCMaC",
        "outputId": "969cea3e-a270-43f1-a644-5e592738e8e9"
      },
      "outputs": [
        {
          "name": "stdout",
          "output_type": "stream",
          "text": [
            "Collecting schedule\n",
            "  Downloading https://files.pythonhosted.org/packages/43/8c/74529fcfbfaa93b8e88ba5d7f883805f87ee167ad878d0638cc012e5acc0/schedule-1.0.0-py2.py3-none-any.whl\n",
            "Installing collected packages: schedule\n",
            "Successfully installed schedule-1.0.0\n"
          ]
        }
      ],
      "source": [
        "!pip install schedule"
      ]
    },
    {
      "attachments": {},
      "cell_type": "markdown",
      "metadata": {
        "id": "HiqYToyzCs5x"
      },
      "source": [
        "以下では処理させるjob関数として、現在日時を表示します。"
      ]
    },
    {
      "cell_type": "code",
      "execution_count": null,
      "metadata": {
        "id": "0TtLxEg8CQw9"
      },
      "outputs": [],
      "source": [
        "import schedule\n",
        "import datetime\n",
        "import time\n",
        "\n",
        "def job():\n",
        "    print(datetime.datetime.now())"
      ]
    },
    {
      "attachments": {},
      "cell_type": "markdown",
      "metadata": {
        "id": "veF1LlaJC-1T"
      },
      "source": [
        "次に、スケジュールに10秒ごとにこれを実行することにして、以下で設定して、実行します。everyのあとのsecondsは秒を表し、分や時間などにも変更可能です。"
      ]
    },
    {
      "cell_type": "code",
      "execution_count": null,
      "metadata": {
        "id": "UeOsE0cVlKEL"
      },
      "outputs": [],
      "source": [
        "schedule.every(10).seconds.do(job)\n",
        "\n",
        "while True:\n",
        "    schedule.run_pending()\n",
        "    time.sleep(1)"
      ]
    },
    {
      "attachments": {},
      "cell_type": "markdown",
      "metadata": {
        "id": "3q-OYXnODSti"
      },
      "source": [
        "上記は無限ループになっているため、計算をとめる時は、停止ボタンを押してください。"
      ]
    },
    {
      "attachments": {},
      "cell_type": "markdown",
      "metadata": {
        "id": "Pa5NpwniL6pI"
      },
      "source": [
        "## 10.5 消費者分析の今後のステップについて\n",
        "\n",
        "キーワード：ビジネスにおけるデータ分析プロジェクト、マーケティング分析の高度なアプローチ"
      ]
    },
    {
      "attachments": {},
      "cell_type": "markdown",
      "metadata": {
        "id": "i0pOBOHXB4Nb"
      },
      "source": [
        "\n",
        "### 10.5.1 現場でデータ分析プロジェクトを進める前に\n",
        "\n",
        "いよいよこの消費者分析の中級編も、最後の節になりました。本講座では消費者分析の初級編からこの中級編にかけて、実際に皆さんの手を動かせることを目的に、消費者分析のためのPython実装を中心に解説してきました。もちろん、初級編でも述べたように、実際のビジネスではプログラミングやテクニカルな話だけではなく、企業戦略や様々な視点から考える必要があります。そもそもビジネス背景や課題となっていることは何か、分析したいことは何か、予測モデルを構築したら何が嬉しいのか、対象データは何か、運用をどうしていくか等、実際のプロジェクトでは考えることがたくさんあります。Python実装ができるだけでは、データ分析の価値を高めることはできませんし、顧客へのサービス向上も難しいでしょう。ビジネスゴールやプロジェクト目標に向かって、適切に分析設計をして、実装し、そのビジネス効果試算、実行、検証、運用まで検討し、改善をしていくいわゆるPDCAサイクルの流れを作っていくことが重要になっていきます。そして、それらをCRMの新しい結果データとして蓄積していくことも大事になってきます。この講義を通じて、それぞれのフェーズごとに（データ読み込みから探索、モデル構築や検証方法、自動化など）Pythonでいろいろと実装できるということ、それらを一貫して構築できることを、ある程度理解していただけたと思います。\n"
      ]
    },
    {
      "attachments": {},
      "cell_type": "markdown",
      "metadata": {
        "id": "IFqwJmrVLv9q"
      },
      "source": [
        "データ分析の力を身に付ける一番の方法は、実務でデータ分析を経験していくことですが、いきなり現場で本番データを使って、目的もあいまいの状態で分析プロジェクトを実施すると、頓挫する可能性が大ですし、それを推進していくことも難しいと思います。そこでまずは、その練習として、仮想的なプロジェクトを想定し、以下のようなサンプルデータを用いて、どんな分析ができて、どんなビジネスインパクトが出せそうか、分析設計してみることをお勧めします。仮想とはいえ、色々と考える材料はありますし、データの分析実装、その先の運用やデータとして必要なITインフラの構築、今後のビジネス拡大を想像することは、ケーススタディとして良い練習になります。Pythonの実装や単なるデータ集計、モデル作成だけにとどまらず、実際のデータ分析プロジェクトはどうやって進めていくのかを考えながら取り組むと、より実践力が高まるでしょう。与えられた問題を解くのではなく、自ら問いを立てる力も重要です。\n",
        "\n",
        "以下のサンプルデータを対象に、どのようにビジネスを拡大したり、どんな課題を解決していけばよいか、どんな提案が経営層や意思決定者に向けてできるか、ぜひ考えてみてください。報告発表資料の構成についても、以下のフレームワークを参考にしてください。"
      ]
    },
    {
      "attachments": {},
      "cell_type": "markdown",
      "metadata": {
        "id": "i23KhiyluS0B"
      },
      "source": [
        "補足：なお参考ですが、以下のGoogleのペーパーからもわかる通り、機械学習のシステム構築だけでも、機械学習系のモデル構築はほんの一部に過ぎません。そして、ビジネスレベルの話になると、さらに考える範囲が広がるため、上記で述べたような視野で、会社全体としてデータを重視し、戦略的に取り組んでいく必要があります。\n",
        "\n",
        "参考ペーパー：Hidden Technical Debt in Machine Learning Systems\n",
        "* https://papers.nips.cc/paper/2015/file/86df7dcfd896fcaf2674f757a2463eba-Paper.pdf"
      ]
    },
    {
      "attachments": {},
      "cell_type": "markdown",
      "metadata": {
        "id": "53cb6TplMM6o"
      },
      "source": [
        "機械学習をビジネスで実装するという点においては、以下が参考になります。\n",
        "\n",
        "*   『Building Machine Learning Powered Applications:Going from Idea to Product』（オライリー）\n",
        "*   『仕事ではじめる機械学習 第2版』（オライリー）\n",
        "\n"
      ]
    },
    {
      "attachments": {},
      "cell_type": "markdown",
      "metadata": {
        "id": "1eOcWbFOaMxd"
      },
      "source": [
        "##### 仮想分析プロジェクト用のサンプルデータ"
      ]
    },
    {
      "attachments": {},
      "cell_type": "markdown",
      "metadata": {
        "id": "J9eHzIRQTZXh"
      },
      "source": [
        "1. ローン（お金貸し）ビジネスのデータ\n",
        "\n",
        "https://www.openintro.org/data/csv/loans_full_schema.csv\n",
        "\n",
        "https://www.kaggle.com/c/home-credit-default-risk\n",
        "\n",
        "2. バイクシェアリングビジネスのデータ\n",
        "\n",
        "https://archive.ics.uci.edu/ml/datasets/Bike+Sharing+Dataset\n",
        "\n",
        "https://www.capitalbikeshare.com/system-data\n",
        "\n",
        "3. UCIのウェブ上にある公開データ\n",
        "\n",
        "https://archive.ics.uci.edu/datasets\n"
      ]
    },
    {
      "attachments": {},
      "cell_type": "markdown",
      "metadata": {
        "id": "_NXrnvFGUdmu"
      },
      "source": [
        "##### 仮想分析プロジェクト用の発表報告フレームワーク例"
      ]
    },
    {
      "attachments": {},
      "cell_type": "markdown",
      "metadata": {
        "id": "ubcgZCZgl4vn"
      },
      "source": [
        "1. ビジネス背景と分析目的\n",
        "2. 分析方針と設計\n",
        "3. 対象データの説明\n",
        "4. 対象データの基礎分析、探索分析の報告\n",
        "5. モデル構築の用途、評価と報告\n",
        "6. モデル改善点、工夫した点など\n",
        "7. 施策やビジネスアクションの提案や期待される効果、試算\n",
        "8. 現状の課題\n",
        "9. 今後の方針\n",
        "10. Appendix(補足情報など)\n"
      ]
    },
    {
      "attachments": {},
      "cell_type": "markdown",
      "metadata": {
        "id": "ep8uSvQeL6pV"
      },
      "source": [
        "### 10.5.2 さらに高度な分析アプローチ\n",
        "\n",
        "最後はさらにAdvancedな話になります。消費者に関する分析には色々な方法があり、この講義では扱いきれませんでしたが、以下のような高度な手法とモチベーションがあります。\n",
        "\n",
        "*   階層ベイズ：消費者はそれぞれ違うため、その異質性を考慮してモデリングしたい\n",
        "*   ベイズ構造時系列モデル：RCTはできていないが、時系列データとして施策実施したデータと施策未実施のデータがあるので、それらを利用して因果を推定したい（補足：Pythonのパッケージとして、上記で紹介したCausalImpactというのがあります。）\n",
        "\n",
        "*   構造方程式：回帰分析などでは捉えきれない、潜在的な変数を扱いたい\n",
        "*   因子分析：ブランドの評価やアンケート分析などをしたい\n",
        "*   価格の設定（ダイナミックプライシング）：値段をどうやって決めれば良いか、最適なプライスをどうやって決めれば良いかを知りたい\n",
        "*   需要予測：在庫を抱えず、そして欠品にならように、マーケティング施策とも整合性をとって、適切に商品生産管理していきたい"
      ]
    },
    {
      "attachments": {},
      "cell_type": "markdown",
      "metadata": {
        "id": "BJj1vo_9ms1b"
      },
      "source": [
        "これらの手法に興味のある方は、以下の参考文献をみるか、ぜひ関係する書籍や講座で勉強してください。消費者へのアプローチとして、機械学習の手法ではなかなかうまく適応できない、使うのが難しい場面もあります。そういったケースのときに、これらの手法が使えることもあるので、選択肢として検討してみてください。（ただ、他に解決すべきビジネス課題がある場合には、優先順位は下がるため、あまり高度なアプローチにこだわる必要はないでしょう。実際筆者が分析系の案件で関わったことがある中で、こういった手法を使っていたのは1-2割にも満たず、高度な手法以前の色々な課題に時間を割かれることが多かったです。）\n",
        "\n"
      ]
    },
    {
      "attachments": {},
      "cell_type": "markdown",
      "metadata": {
        "id": "wJonOWPQQbuc"
      },
      "source": [
        "参考文献\n",
        "\n",
        "『Pythonによるベイズ統計モデリング: PyMCでのデータ分析実践ガイド』（共立出版）\n",
        "\n",
        "『Pythonで体験するベイズ推論:PyMCによるMCMC入門』（森北出版）\n",
        "\n",
        "『データ解析のための統計モデリング入門――一般化線形モデル・階層ベイズモデル・MCMC (確率と情報の科学)』（岩波書店）\n",
        "\n",
        "『Rによる実践的マーケティングリサーチと分析』（共立出版）\n",
        "\n",
        "『AIアルゴリズムマーケティング 自動化のための機械学習/経済モデル、ベス トプラクティス、アーキテクチャ』（インプレス）\n",
        "\n",
        "『価格の掟』（中央経済社）\n",
        "\n",
        "『需要予測の基本 SCMとマーケティングを劇的に変える』（日本実業出版社）"
      ]
    }
  ],
  "metadata": {
    "anaconda-cloud": {},
    "colab": {
      "provenance": []
    },
    "kernelspec": {
      "display_name": "Python 3",
      "language": "python",
      "name": "python3"
    },
    "language_info": {
      "codemirror_mode": {
        "name": "ipython",
        "version": 3
      },
      "file_extension": ".py",
      "mimetype": "text/x-python",
      "name": "python",
      "nbconvert_exporter": "python",
      "pygments_lexer": "ipython3",
      "version": "3.7.6"
    },
    "nbpresent": {
      "slides": {
        "008a788b-b456-4a0c-8288-6f60967c483e": {
          "id": "008a788b-b456-4a0c-8288-6f60967c483e",
          "prev": "17036b1e-8781-4a7e-a909-a179f499bbc9",
          "regions": {
            "072dbee3-3b47-4389-a934-e0168ebd835e": {
              "attrs": {
                "height": 0.8,
                "width": 0.8,
                "x": 0.1,
                "y": 0.1
              },
              "content": {
                "cell": "378cb846-5485-41d5-9983-fec98a22072a",
                "part": "whole"
              },
              "id": "072dbee3-3b47-4389-a934-e0168ebd835e"
            }
          }
        },
        "01ab9067-898c-46a1-91d9-18ca4fe5a937": {
          "id": "01ab9067-898c-46a1-91d9-18ca4fe5a937",
          "prev": "008a788b-b456-4a0c-8288-6f60967c483e",
          "regions": {
            "42da7aa5-8de9-4631-8abe-4ab35c510140": {
              "attrs": {
                "height": 0.8,
                "width": 0.8,
                "x": 0.1,
                "y": 0.1
              },
              "content": {
                "cell": "7f0f7ef4-e90b-41de-8f73-6165e1b3c1cb",
                "part": "whole"
              },
              "id": "42da7aa5-8de9-4631-8abe-4ab35c510140"
            }
          }
        },
        "02225e5f-f35d-40ef-8f23-5431b19121ab": {
          "id": "02225e5f-f35d-40ef-8f23-5431b19121ab",
          "prev": "430a8f03-8947-469c-a376-2f271448284d",
          "regions": {
            "5bf42e3a-831e-4238-ae19-d2212b26edc0": {
              "attrs": {
                "height": 0.8,
                "width": 0.8,
                "x": 0.1,
                "y": 0.1
              },
              "content": {
                "cell": "c68c4e4e-072e-4620-a325-3ebb19ebe1ce",
                "part": "whole"
              },
              "id": "5bf42e3a-831e-4238-ae19-d2212b26edc0"
            }
          }
        },
        "094d2d0d-c7e5-40bc-bed7-bd80198e8e18": {
          "id": "094d2d0d-c7e5-40bc-bed7-bd80198e8e18",
          "prev": "de950ae7-a7c1-424c-afe2-42f481db181e",
          "regions": {
            "95429590-c6e8-4e00-a061-62d2a454c52f": {
              "attrs": {
                "height": 0.8,
                "width": 0.8,
                "x": 0.1,
                "y": 0.1
              },
              "content": {
                "cell": "aa08360f-e7dd-4647-bbfb-cadd5f19af31",
                "part": "whole"
              },
              "id": "95429590-c6e8-4e00-a061-62d2a454c52f"
            }
          }
        },
        "0aa8229e-9b5c-4f49-bd1e-34de4cd2e82f": {
          "id": "0aa8229e-9b5c-4f49-bd1e-34de4cd2e82f",
          "prev": "11f1d1c4-4848-4b7d-a62d-5427e055bbe3",
          "regions": {
            "9504ff07-d651-4294-ba2e-a89ec52ca708": {
              "attrs": {
                "height": 0.8,
                "width": 0.8,
                "x": 0.1,
                "y": 0.1
              },
              "content": {
                "cell": "e73995f2-c960-4881-b3d3-82c24b06c64c",
                "part": "whole"
              },
              "id": "9504ff07-d651-4294-ba2e-a89ec52ca708"
            }
          }
        },
        "0c50d9ca-fef0-4e5c-8a4e-f18d1c2dbb9e": {
          "id": "0c50d9ca-fef0-4e5c-8a4e-f18d1c2dbb9e",
          "prev": "b248eaf4-2e85-4c32-8f88-7b2ef510ee7c",
          "regions": {
            "8b734704-6740-44f7-8c87-17350c882ed3": {
              "attrs": {
                "height": 0.8,
                "width": 0.8,
                "x": 0.1,
                "y": 0.1
              },
              "content": {
                "cell": "cc42c471-e943-450e-a441-3dc962f1c40d",
                "part": "whole"
              },
              "id": "8b734704-6740-44f7-8c87-17350c882ed3"
            }
          }
        },
        "107cd2c7-0a77-4fd7-922b-56df6615dcca": {
          "id": "107cd2c7-0a77-4fd7-922b-56df6615dcca",
          "prev": "2e7deda1-5486-4b26-8e0a-c91e4c88dbe8",
          "regions": {
            "2ee1a19b-7a00-46b1-b393-485ddb7c2b9b": {
              "attrs": {
                "height": 0.8,
                "width": 0.8,
                "x": 0.1,
                "y": 0.1
              },
              "content": {
                "cell": "d27b23aa-809c-4965-8399-5e67901e2ae4",
                "part": "whole"
              },
              "id": "2ee1a19b-7a00-46b1-b393-485ddb7c2b9b"
            }
          }
        },
        "11f1d1c4-4848-4b7d-a62d-5427e055bbe3": {
          "id": "11f1d1c4-4848-4b7d-a62d-5427e055bbe3",
          "prev": "9461c0f4-d87e-441d-915d-95c69b105ecb",
          "regions": {
            "185d0c6f-1e15-43e1-81f5-1234d5ac3ade": {
              "attrs": {
                "height": 0.8,
                "width": 0.8,
                "x": 0.1,
                "y": 0.1
              },
              "content": {
                "cell": "18703937-12da-40b5-960d-e7a50467e7d0",
                "part": "whole"
              },
              "id": "185d0c6f-1e15-43e1-81f5-1234d5ac3ade"
            }
          }
        },
        "17036b1e-8781-4a7e-a909-a179f499bbc9": {
          "id": "17036b1e-8781-4a7e-a909-a179f499bbc9",
          "prev": "5494c0f6-12d4-4627-9481-26c7858f8f09",
          "regions": {
            "4757fb07-c8f0-49b5-bb28-9a5bb61995ff": {
              "attrs": {
                "height": 0.8,
                "width": 0.8,
                "x": 0.1,
                "y": 0.1
              },
              "content": {
                "cell": "6452b3ab-84b7-4f3c-b74f-ae118e4ed9f2",
                "part": "whole"
              },
              "id": "4757fb07-c8f0-49b5-bb28-9a5bb61995ff"
            }
          }
        },
        "1d02d174-1ae1-4900-bb8e-92083b3f723b": {
          "id": "1d02d174-1ae1-4900-bb8e-92083b3f723b",
          "prev": "466c6928-dc5e-4aeb-abad-2dbb2c797793",
          "regions": {
            "2e5e7aee-fec1-4322-82df-30c9bda076ce": {
              "attrs": {
                "height": 0.8,
                "width": 0.8,
                "x": 0.1,
                "y": 0.1
              },
              "content": {
                "cell": "e89daf11-82d5-4ae2-905b-b73662884e4e",
                "part": "whole"
              },
              "id": "2e5e7aee-fec1-4322-82df-30c9bda076ce"
            }
          }
        },
        "26984d6c-6cdd-4fb6-a80c-b16f643b3802": {
          "id": "26984d6c-6cdd-4fb6-a80c-b16f643b3802",
          "prev": "dfaeb098-c3a9-4980-ae35-70f9b6296a7d",
          "regions": {
            "e3a7924f-b4ad-4919-b97c-a9f0da0027ec": {
              "attrs": {
                "height": 0.8,
                "width": 0.8,
                "x": 0.1,
                "y": 0.1
              },
              "content": {
                "cell": "5683d4a6-3bdb-44ea-8a8e-6203da028f73",
                "part": "whole"
              },
              "id": "e3a7924f-b4ad-4919-b97c-a9f0da0027ec"
            }
          }
        },
        "2e7deda1-5486-4b26-8e0a-c91e4c88dbe8": {
          "id": "2e7deda1-5486-4b26-8e0a-c91e4c88dbe8",
          "prev": "67a167dd-f578-4c00-9a52-77864d640afa",
          "regions": {
            "eb91815b-1df2-4bfb-b2d9-b47359f388f3": {
              "attrs": {
                "height": 0.8,
                "width": 0.8,
                "x": 0.1,
                "y": 0.1
              },
              "content": {
                "cell": "2b936ae8-a540-4353-8b1d-42f7a3bdc763",
                "part": "whole"
              },
              "id": "eb91815b-1df2-4bfb-b2d9-b47359f388f3"
            }
          }
        },
        "35c31f44-06e2-4d75-a9b7-0c168d125d04": {
          "id": "35c31f44-06e2-4d75-a9b7-0c168d125d04",
          "prev": "8b46588c-ad23-4509-b67d-62702ed7afd1",
          "regions": {
            "82c3daba-b8de-42a1-b157-7274603802ae": {
              "attrs": {
                "height": 0.8,
                "width": 0.8,
                "x": 0.1,
                "y": 0.1
              },
              "content": {
                "cell": "35e93b3d-957c-4833-a2a5-b980ecffa5b1",
                "part": "whole"
              },
              "id": "82c3daba-b8de-42a1-b157-7274603802ae"
            }
          }
        },
        "3671ddb9-95b3-4245-b062-03cc90ea386d": {
          "id": "3671ddb9-95b3-4245-b062-03cc90ea386d",
          "prev": "3c3ef584-2982-4a35-afcf-4772c65dc2ac",
          "regions": {
            "faddc9ae-ef33-4d8e-a04e-e9f73ea0310e": {
              "attrs": {
                "height": 0.8,
                "width": 0.8,
                "x": 0.1,
                "y": 0.1
              },
              "content": {
                "cell": "bea98316-c64e-4810-b176-ed4947524f8c",
                "part": "whole"
              },
              "id": "faddc9ae-ef33-4d8e-a04e-e9f73ea0310e"
            }
          }
        },
        "37edb96d-7d51-438f-bd46-fc06e161e205": {
          "id": "37edb96d-7d51-438f-bd46-fc06e161e205",
          "prev": "58980228-1ba8-4ba6-89d3-dd7694662786",
          "regions": {
            "d1ee61d0-5e72-4925-b975-1cc103761137": {
              "attrs": {
                "height": 0.8,
                "width": 0.8,
                "x": 0.1,
                "y": 0.1
              },
              "content": {
                "cell": "b0fc1861-b979-45c5-abd0-3b05200de3b6",
                "part": "whole"
              },
              "id": "d1ee61d0-5e72-4925-b975-1cc103761137"
            }
          }
        },
        "3a9ce2a4-6dd4-463e-8d2d-4aa731447f39": {
          "id": "3a9ce2a4-6dd4-463e-8d2d-4aa731447f39",
          "prev": "0aa8229e-9b5c-4f49-bd1e-34de4cd2e82f",
          "regions": {
            "80f94dd5-569c-4105-9db9-746bc3a0d979": {
              "attrs": {
                "height": 0.8,
                "width": 0.8,
                "x": 0.1,
                "y": 0.1
              },
              "content": {
                "cell": "d3d6e29a-a939-4ab4-95e0-5645d4eb97a4",
                "part": "whole"
              },
              "id": "80f94dd5-569c-4105-9db9-746bc3a0d979"
            }
          }
        },
        "3c3ef584-2982-4a35-afcf-4772c65dc2ac": {
          "id": "3c3ef584-2982-4a35-afcf-4772c65dc2ac",
          "prev": "523566b9-8158-4001-91b2-f7d1d61ec04b",
          "regions": {
            "8182730f-8099-4a3f-815d-c92171a084a7": {
              "attrs": {
                "height": 0.8,
                "width": 0.8,
                "x": 0.1,
                "y": 0.1
              },
              "content": {
                "cell": "2ff35469-eeef-46b0-8b36-f2b6d4580bd4",
                "part": "whole"
              },
              "id": "8182730f-8099-4a3f-815d-c92171a084a7"
            }
          }
        },
        "3e8e0818-4535-4e50-b8da-423cfa6bda87": {
          "id": "3e8e0818-4535-4e50-b8da-423cfa6bda87",
          "prev": "bff971e4-b2b6-497d-8f6b-6401514ee2ca",
          "regions": {
            "859f95ab-5314-4f50-9fc8-7f8a76741c82": {
              "attrs": {
                "height": 0.8,
                "width": 0.8,
                "x": 0.1,
                "y": 0.1
              },
              "content": {
                "cell": "0893c4bd-30b9-4137-bc19-c40d5def546a",
                "part": "whole"
              },
              "id": "859f95ab-5314-4f50-9fc8-7f8a76741c82"
            }
          }
        },
        "430a8f03-8947-469c-a376-2f271448284d": {
          "id": "430a8f03-8947-469c-a376-2f271448284d",
          "prev": "ae384cc7-844b-4a3a-816d-4275e60a5020",
          "regions": {
            "cc346300-13a7-4c57-9eea-13d379d8f845": {
              "attrs": {
                "height": 0.8,
                "width": 0.8,
                "x": 0.1,
                "y": 0.1
              },
              "content": {
                "cell": "3b3885c1-a497-4d41-bb48-76a6d8b43a62",
                "part": "whole"
              },
              "id": "cc346300-13a7-4c57-9eea-13d379d8f845"
            }
          }
        },
        "43517c80-f987-4261-bad2-6844f9f11a43": {
          "id": "43517c80-f987-4261-bad2-6844f9f11a43",
          "prev": "02225e5f-f35d-40ef-8f23-5431b19121ab",
          "regions": {
            "386e1c27-adc8-4888-b278-a730e1a06a1b": {
              "attrs": {
                "height": 0.8,
                "width": 0.8,
                "x": 0.1,
                "y": 0.1
              },
              "content": {
                "cell": "c34d5c93-c65c-4e47-8c92-b38faead2dc2",
                "part": "whole"
              },
              "id": "386e1c27-adc8-4888-b278-a730e1a06a1b"
            }
          }
        },
        "466c6928-dc5e-4aeb-abad-2dbb2c797793": {
          "id": "466c6928-dc5e-4aeb-abad-2dbb2c797793",
          "prev": "01ab9067-898c-46a1-91d9-18ca4fe5a937",
          "regions": {
            "dadc7530-a88a-474c-93b1-a6b13fdeb671": {
              "attrs": {
                "height": 0.8,
                "width": 0.8,
                "x": 0.1,
                "y": 0.1
              },
              "content": {
                "cell": "07dd10e2-514b-4435-afa4-cab572e54611",
                "part": "whole"
              },
              "id": "dadc7530-a88a-474c-93b1-a6b13fdeb671"
            }
          }
        },
        "523566b9-8158-4001-91b2-f7d1d61ec04b": {
          "id": "523566b9-8158-4001-91b2-f7d1d61ec04b",
          "prev": "db6c2c84-14f3-4a3f-972c-ea1e9b45b091",
          "regions": {
            "fa40db73-7f38-419f-b6d1-2d0c9854ad3d": {
              "attrs": {
                "height": 0.8,
                "width": 0.8,
                "x": 0.1,
                "y": 0.1
              },
              "content": {
                "cell": "9c7b5502-7d21-45ef-9801-c8ab89c0cb1b",
                "part": "whole"
              },
              "id": "fa40db73-7f38-419f-b6d1-2d0c9854ad3d"
            }
          }
        },
        "5342b691-167b-4e0f-a28f-aee2f74648b3": {
          "id": "5342b691-167b-4e0f-a28f-aee2f74648b3",
          "prev": "9750cf96-7612-4159-bac1-bf26fe2f60c8",
          "regions": {
            "8bf6c96e-7113-4293-9db9-3999fd5dc82b": {
              "attrs": {
                "height": 0.8,
                "width": 0.8,
                "x": 0.1,
                "y": 0.1
              },
              "content": {
                "cell": "21eb3ee8-f72c-4842-a2b2-98bc6b4b06b2",
                "part": "whole"
              },
              "id": "8bf6c96e-7113-4293-9db9-3999fd5dc82b"
            }
          }
        },
        "5494c0f6-12d4-4627-9481-26c7858f8f09": {
          "id": "5494c0f6-12d4-4627-9481-26c7858f8f09",
          "prev": "3671ddb9-95b3-4245-b062-03cc90ea386d",
          "regions": {
            "8f4923d7-89d2-4193-a542-786412d24121": {
              "attrs": {
                "height": 0.8,
                "width": 0.8,
                "x": 0.1,
                "y": 0.1
              },
              "content": {
                "cell": "47413f67-a333-4cd6-8a6e-6b268aa4f4ff",
                "part": "whole"
              },
              "id": "8f4923d7-89d2-4193-a542-786412d24121"
            }
          }
        },
        "57d8f821-fdaf-412d-bc5c-fbaf939e7850": {
          "id": "57d8f821-fdaf-412d-bc5c-fbaf939e7850",
          "prev": "5342b691-167b-4e0f-a28f-aee2f74648b3",
          "regions": {
            "595c1191-37e3-41c2-8807-172c5221490d": {
              "attrs": {
                "height": 0.8,
                "width": 0.8,
                "x": 0.1,
                "y": 0.1
              },
              "content": {
                "cell": "885a45ac-f069-4988-b245-fcd79646e17f",
                "part": "whole"
              },
              "id": "595c1191-37e3-41c2-8807-172c5221490d"
            }
          }
        },
        "58980228-1ba8-4ba6-89d3-dd7694662786": {
          "id": "58980228-1ba8-4ba6-89d3-dd7694662786",
          "prev": "ee0491f8-b146-4b0e-99d3-ceb5eb2f3a1d",
          "regions": {
            "c5224b5d-aad4-4862-a3d1-7e6996d3d33d": {
              "attrs": {
                "height": 0.8,
                "width": 0.8,
                "x": 0.1,
                "y": 0.1
              },
              "content": {
                "cell": "8972370e-3b2e-4fe5-b7d5-e6f410f4df68",
                "part": "whole"
              },
              "id": "c5224b5d-aad4-4862-a3d1-7e6996d3d33d"
            }
          }
        },
        "58fe1e15-bd81-4c14-8c10-08606b7f56ae": {
          "id": "58fe1e15-bd81-4c14-8c10-08606b7f56ae",
          "prev": "8511eb84-692c-4a63-b3c3-7e1f86c137bd",
          "regions": {
            "c29ef705-df31-4240-987b-1697100d6ae4": {
              "attrs": {
                "height": 0.8,
                "width": 0.8,
                "x": 0.1,
                "y": 0.1
              },
              "content": {
                "cell": "b5e81c61-d695-4fc4-b784-45ed41026d4a",
                "part": "whole"
              },
              "id": "c29ef705-df31-4240-987b-1697100d6ae4"
            }
          }
        },
        "6156681f-3fe2-4d80-aab1-f7c28e200404": {
          "id": "6156681f-3fe2-4d80-aab1-f7c28e200404",
          "prev": "c17f7347-3cbe-420c-a499-3131e4eaac59",
          "regions": {
            "28d9588e-1085-432e-9b58-6e28c4d7c74f": {
              "attrs": {
                "height": 0.8,
                "width": 0.8,
                "x": 0.1,
                "y": 0.1
              },
              "content": {
                "cell": "3dbf6370-0a3a-44be-ade7-2a32586e4508",
                "part": "whole"
              },
              "id": "28d9588e-1085-432e-9b58-6e28c4d7c74f"
            }
          }
        },
        "67a167dd-f578-4c00-9a52-77864d640afa": {
          "id": "67a167dd-f578-4c00-9a52-77864d640afa",
          "prev": "b7ce05ff-6ab9-49ba-9235-05d97e6d8b19",
          "regions": {
            "b3a441dc-47d2-402e-b9fe-68a0472d5670": {
              "attrs": {
                "height": 0.8,
                "width": 0.8,
                "x": 0.1,
                "y": 0.1
              },
              "content": {
                "cell": "a67a0f57-b7bb-4ad2-89a8-f53f514d52d5",
                "part": "whole"
              },
              "id": "b3a441dc-47d2-402e-b9fe-68a0472d5670"
            }
          }
        },
        "76cecc6a-4ff3-4f36-9fcd-dc72da22db7a": {
          "id": "76cecc6a-4ff3-4f36-9fcd-dc72da22db7a",
          "prev": "107cd2c7-0a77-4fd7-922b-56df6615dcca",
          "regions": {
            "3d9e9ca1-88f1-4d57-b1ce-1cd3377e1f1e": {
              "attrs": {
                "height": 0.8,
                "width": 0.8,
                "x": 0.1,
                "y": 0.1
              },
              "content": {
                "cell": "c3f25ce7-4ac2-4e7e-ae0d-0d354b7aa34a",
                "part": "whole"
              },
              "id": "3d9e9ca1-88f1-4d57-b1ce-1cd3377e1f1e"
            }
          }
        },
        "7a3d7039-5de1-4759-9129-49437077ec67": {
          "id": "7a3d7039-5de1-4759-9129-49437077ec67",
          "prev": "76cecc6a-4ff3-4f36-9fcd-dc72da22db7a",
          "regions": {
            "f8ee8b52-b882-4e27-b1e2-4db18e65b256": {
              "attrs": {
                "height": 0.8,
                "width": 0.8,
                "x": 0.1,
                "y": 0.1
              },
              "content": {
                "cell": "4a0d9ca6-f3a4-453d-b52e-ad5d17ca5883",
                "part": "whole"
              },
              "id": "f8ee8b52-b882-4e27-b1e2-4db18e65b256"
            }
          }
        },
        "7c9758fa-71de-4938-8eed-be5dabd2d61c": {
          "id": "7c9758fa-71de-4938-8eed-be5dabd2d61c",
          "prev": "3e8e0818-4535-4e50-b8da-423cfa6bda87",
          "regions": {
            "94b0287c-da12-4bf9-ab24-b6041cab0a0f": {
              "attrs": {
                "height": 0.8,
                "width": 0.8,
                "x": 0.1,
                "y": 0.1
              },
              "content": {
                "cell": "5e5e8200-af66-4ffa-85d8-0ca019d398d8",
                "part": "whole"
              },
              "id": "94b0287c-da12-4bf9-ab24-b6041cab0a0f"
            }
          }
        },
        "8511eb84-692c-4a63-b3c3-7e1f86c137bd": {
          "id": "8511eb84-692c-4a63-b3c3-7e1f86c137bd",
          "prev": "3a9ce2a4-6dd4-463e-8d2d-4aa731447f39",
          "regions": {
            "d512994f-a930-4cb5-9feb-0c9e9b3eca21": {
              "attrs": {
                "height": 0.8,
                "width": 0.8,
                "x": 0.1,
                "y": 0.1
              },
              "content": {
                "cell": "93a5d1f3-e3b5-4840-95c2-503725844dc3",
                "part": "whole"
              },
              "id": "d512994f-a930-4cb5-9feb-0c9e9b3eca21"
            }
          }
        },
        "863c2f5d-5ed6-4abd-9212-ac3aa08b7c2d": {
          "id": "863c2f5d-5ed6-4abd-9212-ac3aa08b7c2d",
          "prev": "fa1e9266-57b6-41c8-9ad2-05119a8154fa",
          "regions": {
            "2efc3ace-624d-49f2-8602-18d3ce4fd9d1": {
              "attrs": {
                "height": 0.8,
                "width": 0.8,
                "x": 0.1,
                "y": 0.1
              },
              "content": {
                "cell": "1c22acff-5c31-4b42-a557-2be121021d1e",
                "part": "whole"
              },
              "id": "2efc3ace-624d-49f2-8602-18d3ce4fd9d1"
            }
          }
        },
        "8a00b47c-c1da-479f-b5e8-16224b1bc1ad": {
          "id": "8a00b47c-c1da-479f-b5e8-16224b1bc1ad",
          "prev": "c372f9ff-ce00-4768-8a0a-cb894e0fa65d",
          "regions": {
            "88f7e3bd-c1f1-4783-aa29-4b3871ed83c9": {
              "attrs": {
                "height": 0.8,
                "width": 0.8,
                "x": 0.1,
                "y": 0.1
              },
              "content": {
                "cell": "4bcabd6c-13d5-4a8e-a4cf-46d12550458b",
                "part": "whole"
              },
              "id": "88f7e3bd-c1f1-4783-aa29-4b3871ed83c9"
            }
          }
        },
        "8b46588c-ad23-4509-b67d-62702ed7afd1": {
          "id": "8b46588c-ad23-4509-b67d-62702ed7afd1",
          "prev": "37edb96d-7d51-438f-bd46-fc06e161e205",
          "regions": {
            "6e4458c9-28eb-4025-8ac9-d7fc0ffb8fee": {
              "attrs": {
                "height": 0.8,
                "width": 0.8,
                "x": 0.1,
                "y": 0.1
              },
              "content": {
                "cell": "575abe68-ac1a-489a-8b14-aef861c188e3",
                "part": "whole"
              },
              "id": "6e4458c9-28eb-4025-8ac9-d7fc0ffb8fee"
            }
          }
        },
        "92033db1-1754-4f97-a65f-d7fcd5e5ef5f": {
          "id": "92033db1-1754-4f97-a65f-d7fcd5e5ef5f",
          "prev": "7c9758fa-71de-4938-8eed-be5dabd2d61c",
          "regions": {
            "73b1869c-52b3-4f19-8918-f9d27d1ce96a": {
              "attrs": {
                "height": 0.8,
                "width": 0.8,
                "x": 0.1,
                "y": 0.1
              },
              "content": {
                "cell": "31f1dd1c-7279-4590-a581-4789248b9d95",
                "part": "whole"
              },
              "id": "73b1869c-52b3-4f19-8918-f9d27d1ce96a"
            }
          }
        },
        "9461c0f4-d87e-441d-915d-95c69b105ecb": {
          "id": "9461c0f4-d87e-441d-915d-95c69b105ecb",
          "prev": "92033db1-1754-4f97-a65f-d7fcd5e5ef5f",
          "regions": {
            "4dd7f598-05d6-4e49-883d-978967a66cc5": {
              "attrs": {
                "height": 0.8,
                "width": 0.8,
                "x": 0.1,
                "y": 0.1
              },
              "content": {
                "cell": "674e452c-7ba7-4c07-be5e-1e73553f8849",
                "part": "whole"
              },
              "id": "4dd7f598-05d6-4e49-883d-978967a66cc5"
            }
          }
        },
        "94c7954c-21de-44d2-81f0-746748834167": {
          "id": "94c7954c-21de-44d2-81f0-746748834167",
          "prev": "d806c3fb-ea3d-4b90-be5b-e78113b3e887",
          "regions": {
            "a853df0e-2a78-45f8-8841-72a437ba5d68": {
              "attrs": {
                "height": 0.8,
                "width": 0.8,
                "x": 0.1,
                "y": 0.1
              },
              "content": {
                "cell": "f581b3c5-979f-4ad2-95b7-e89dc86afee3",
                "part": "whole"
              },
              "id": "a853df0e-2a78-45f8-8841-72a437ba5d68"
            }
          }
        },
        "94c969b1-892d-4f1a-a832-8154573c893c": {
          "id": "94c969b1-892d-4f1a-a832-8154573c893c",
          "prev": "94c7954c-21de-44d2-81f0-746748834167",
          "regions": {
            "c1ade563-9e9b-490c-970b-37faba235b7e": {
              "attrs": {
                "height": 0.8,
                "width": 0.8,
                "x": 0.1,
                "y": 0.1
              },
              "content": {
                "cell": "e965b847-7d60-48e2-b72f-972816a1e6fc",
                "part": "whole"
              },
              "id": "c1ade563-9e9b-490c-970b-37faba235b7e"
            }
          }
        },
        "9750cf96-7612-4159-bac1-bf26fe2f60c8": {
          "id": "9750cf96-7612-4159-bac1-bf26fe2f60c8",
          "prev": "94c969b1-892d-4f1a-a832-8154573c893c",
          "regions": {
            "116d14ce-3f3d-44a1-aa86-61b1ac19354f": {
              "attrs": {
                "height": 0.8,
                "width": 0.8,
                "x": 0.1,
                "y": 0.1
              },
              "content": {
                "cell": "ddd82eaf-9b54-48bf-ac57-aa797a3a970a",
                "part": "whole"
              },
              "id": "116d14ce-3f3d-44a1-aa86-61b1ac19354f"
            }
          }
        },
        "a40bc8a7-660a-4478-8071-b97c5127c4b5": {
          "id": "a40bc8a7-660a-4478-8071-b97c5127c4b5",
          "prev": "863c2f5d-5ed6-4abd-9212-ac3aa08b7c2d",
          "regions": {
            "929e10a6-a0b0-4d31-99b1-311fcfc150a1": {
              "attrs": {
                "height": 0.8,
                "width": 0.8,
                "x": 0.1,
                "y": 0.1
              },
              "content": {
                "cell": "d7d32de7-bcdd-486d-b6c9-d5caad1164e3",
                "part": "whole"
              },
              "id": "929e10a6-a0b0-4d31-99b1-311fcfc150a1"
            }
          }
        },
        "ae384cc7-844b-4a3a-816d-4275e60a5020": {
          "id": "ae384cc7-844b-4a3a-816d-4275e60a5020",
          "prev": "26984d6c-6cdd-4fb6-a80c-b16f643b3802",
          "regions": {
            "b7a26fcd-98a6-4c24-893f-14ab3d6257bb": {
              "attrs": {
                "height": 0.8,
                "width": 0.8,
                "x": 0.1,
                "y": 0.1
              },
              "content": {
                "cell": "ddc73611-ffe2-434e-b3bd-cd417ef42b68",
                "part": "whole"
              },
              "id": "b7a26fcd-98a6-4c24-893f-14ab3d6257bb"
            }
          }
        },
        "b248eaf4-2e85-4c32-8f88-7b2ef510ee7c": {
          "id": "b248eaf4-2e85-4c32-8f88-7b2ef510ee7c",
          "prev": null,
          "regions": {
            "729796eb-5023-4fc8-b32f-83045cda3258": {
              "attrs": {
                "height": 0.8,
                "width": 0.8,
                "x": 0.1,
                "y": 0.1
              },
              "content": {
                "cell": "dad3a857-8628-4c15-a8ad-312792cb88ac",
                "part": "whole"
              },
              "id": "729796eb-5023-4fc8-b32f-83045cda3258"
            }
          }
        },
        "b7ce05ff-6ab9-49ba-9235-05d97e6d8b19": {
          "id": "b7ce05ff-6ab9-49ba-9235-05d97e6d8b19",
          "prev": "fd5b9f11-7cb4-4280-8955-7da1f2a0eafd",
          "regions": {
            "44f843a2-f9a7-4c01-be36-f2b39de5a725": {
              "attrs": {
                "height": 0.8,
                "width": 0.8,
                "x": 0.1,
                "y": 0.1
              },
              "content": {
                "cell": "852d31b9-64ee-4906-8865-dc217141338a",
                "part": "whole"
              },
              "id": "44f843a2-f9a7-4c01-be36-f2b39de5a725"
            }
          }
        },
        "bff971e4-b2b6-497d-8f6b-6401514ee2ca": {
          "id": "bff971e4-b2b6-497d-8f6b-6401514ee2ca",
          "prev": "7a3d7039-5de1-4759-9129-49437077ec67",
          "regions": {
            "07dd02d3-5ac3-4d96-9291-c3870d15f11e": {
              "attrs": {
                "height": 0.8,
                "width": 0.8,
                "x": 0.1,
                "y": 0.1
              },
              "content": {
                "cell": "31a44e48-3de3-4fa2-9c03-2063209cce11",
                "part": "whole"
              },
              "id": "07dd02d3-5ac3-4d96-9291-c3870d15f11e"
            }
          }
        },
        "c17f7347-3cbe-420c-a499-3131e4eaac59": {
          "id": "c17f7347-3cbe-420c-a499-3131e4eaac59",
          "prev": "57d8f821-fdaf-412d-bc5c-fbaf939e7850",
          "regions": {
            "7d4b25fd-aa9a-4d62-8181-05324639ff0d": {
              "attrs": {
                "height": 0.8,
                "width": 0.8,
                "x": 0.1,
                "y": 0.1
              },
              "content": {
                "cell": "35043c9c-279e-47cd-b82f-9dae8c5f9fec",
                "part": "whole"
              },
              "id": "7d4b25fd-aa9a-4d62-8181-05324639ff0d"
            }
          }
        },
        "c372f9ff-ce00-4768-8a0a-cb894e0fa65d": {
          "id": "c372f9ff-ce00-4768-8a0a-cb894e0fa65d",
          "prev": "35c31f44-06e2-4d75-a9b7-0c168d125d04",
          "regions": {
            "c3931b7b-0a33-46e0-a5b6-6b33b0075fd5": {
              "attrs": {
                "height": 0.8,
                "width": 0.8,
                "x": 0.1,
                "y": 0.1
              },
              "content": {
                "cell": "6dccff7c-9bb1-447a-9692-656ca1687626",
                "part": "whole"
              },
              "id": "c3931b7b-0a33-46e0-a5b6-6b33b0075fd5"
            }
          }
        },
        "d806c3fb-ea3d-4b90-be5b-e78113b3e887": {
          "id": "d806c3fb-ea3d-4b90-be5b-e78113b3e887",
          "prev": "094d2d0d-c7e5-40bc-bed7-bd80198e8e18",
          "regions": {
            "8ec4249f-2827-4eb0-bb27-152d4dea703f": {
              "attrs": {
                "height": 0.8,
                "width": 0.8,
                "x": 0.1,
                "y": 0.1
              },
              "content": {
                "cell": "25b7da30-19eb-4326-ba15-d969f9c1ad12",
                "part": "whole"
              },
              "id": "8ec4249f-2827-4eb0-bb27-152d4dea703f"
            }
          }
        },
        "db6c2c84-14f3-4a3f-972c-ea1e9b45b091": {
          "id": "db6c2c84-14f3-4a3f-972c-ea1e9b45b091",
          "prev": "ff25a0ae-0958-4983-b72b-6d655554983e",
          "regions": {
            "33e20b90-5ef8-482a-af30-6ebe50fa5247": {
              "attrs": {
                "height": 0.8,
                "width": 0.8,
                "x": 0.1,
                "y": 0.1
              },
              "content": {
                "cell": "b2282939-76b5-4358-8caf-bda59cd4dfc8",
                "part": "whole"
              },
              "id": "33e20b90-5ef8-482a-af30-6ebe50fa5247"
            }
          }
        },
        "de950ae7-a7c1-424c-afe2-42f481db181e": {
          "id": "de950ae7-a7c1-424c-afe2-42f481db181e",
          "prev": "58fe1e15-bd81-4c14-8c10-08606b7f56ae",
          "regions": {
            "157e2366-91bc-4374-b005-296b72401f19": {
              "attrs": {
                "height": 0.8,
                "width": 0.8,
                "x": 0.1,
                "y": 0.1
              },
              "content": {
                "cell": "6eff5466-e51a-40e9-b5d6-0e511d329721",
                "part": "whole"
              },
              "id": "157e2366-91bc-4374-b005-296b72401f19"
            }
          }
        },
        "dfaeb098-c3a9-4980-ae35-70f9b6296a7d": {
          "id": "dfaeb098-c3a9-4980-ae35-70f9b6296a7d",
          "prev": "a40bc8a7-660a-4478-8071-b97c5127c4b5",
          "regions": {
            "ff8a9509-83fc-43b8-b85d-05642f796426": {
              "attrs": {
                "height": 0.8,
                "width": 0.8,
                "x": 0.1,
                "y": 0.1
              },
              "content": {
                "cell": "139cbba6-15fb-4eb9-b2d8-a25bdbf3a874",
                "part": "whole"
              },
              "id": "ff8a9509-83fc-43b8-b85d-05642f796426"
            }
          }
        },
        "ee0491f8-b146-4b0e-99d3-ceb5eb2f3a1d": {
          "id": "ee0491f8-b146-4b0e-99d3-ceb5eb2f3a1d",
          "prev": "0c50d9ca-fef0-4e5c-8a4e-f18d1c2dbb9e",
          "regions": {
            "7e1317fc-37fb-47f2-9822-1b464ab3a0f1": {
              "attrs": {
                "height": 0.8,
                "width": 0.8,
                "x": 0.1,
                "y": 0.1
              },
              "content": {
                "cell": "93b648ee-643e-46b2-a289-f6b562875bc4",
                "part": "whole"
              },
              "id": "7e1317fc-37fb-47f2-9822-1b464ab3a0f1"
            }
          }
        },
        "fa1e9266-57b6-41c8-9ad2-05119a8154fa": {
          "id": "fa1e9266-57b6-41c8-9ad2-05119a8154fa",
          "prev": "1d02d174-1ae1-4900-bb8e-92083b3f723b",
          "regions": {
            "642cb521-a4bf-4bdf-94e4-c4e1db951bed": {
              "attrs": {
                "height": 0.8,
                "width": 0.8,
                "x": 0.1,
                "y": 0.1
              },
              "content": {
                "cell": "7bcdf43b-5617-4e59-b3d7-0c3706c527f1",
                "part": "whole"
              },
              "id": "642cb521-a4bf-4bdf-94e4-c4e1db951bed"
            }
          }
        },
        "fd5b9f11-7cb4-4280-8955-7da1f2a0eafd": {
          "id": "fd5b9f11-7cb4-4280-8955-7da1f2a0eafd",
          "prev": "8a00b47c-c1da-479f-b5e8-16224b1bc1ad",
          "regions": {
            "bafa4b52-8d5e-4af8-9b56-5cfb28caec46": {
              "attrs": {
                "height": 0.8,
                "width": 0.8,
                "x": 0.1,
                "y": 0.1
              },
              "content": {
                "cell": "d110e3f4-e865-4198-8668-17bd4f1e9540",
                "part": "whole"
              },
              "id": "bafa4b52-8d5e-4af8-9b56-5cfb28caec46"
            }
          }
        },
        "ff25a0ae-0958-4983-b72b-6d655554983e": {
          "id": "ff25a0ae-0958-4983-b72b-6d655554983e",
          "prev": "6156681f-3fe2-4d80-aab1-f7c28e200404",
          "regions": {
            "4536da0e-7194-48f1-a4eb-13fb6d74ecf5": {
              "attrs": {
                "height": 0.8,
                "width": 0.8,
                "x": 0.1,
                "y": 0.1
              },
              "content": {
                "cell": "72beaf23-bcc8-4311-b327-b67a3b07436a",
                "part": "whole"
              },
              "id": "4536da0e-7194-48f1-a4eb-13fb6d74ecf5"
            }
          }
        }
      },
      "themes": {}
    },
    "toc": {
      "base_numbering": 1,
      "nav_menu": {},
      "number_sections": true,
      "sideBar": true,
      "skip_h1_title": false,
      "title_cell": "Table of Contents",
      "title_sidebar": "Contents",
      "toc_cell": false,
      "toc_position": {},
      "toc_section_display": true,
      "toc_window_display": false
    }
  },
  "nbformat": 4,
  "nbformat_minor": 0
}
