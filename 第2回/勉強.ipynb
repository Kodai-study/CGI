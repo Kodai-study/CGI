{
 "cells": [
  {
   "cell_type": "code",
   "execution_count": 49,
   "metadata": {},
   "outputs": [
    {
     "name": "stdout",
     "output_type": "stream",
     "text": [
      "2\n",
      "2\n"
     ]
    }
   ],
   "source": [
    "value = 1\n",
    "for i in range(2,10):\n",
    "    print(i)\n",
    "    value \n",
    "    "
   ]
  },
  {
   "cell_type": "code",
   "execution_count": 68,
   "metadata": {},
   "outputs": [
    {
     "name": "stdout",
     "output_type": "stream",
     "text": [
      "574194688\n"
     ]
    }
   ],
   "source": [
    "input_line = int(input())\n",
    "\n",
    "value = int(1)\n",
    "\n",
    "for i in range(2, input_line + 1):\n",
    "    value *= i\n",
    "    while value % 10 == 0:\n",
    "        value //= 10\n",
    "    value %= 100000000000\n",
    "\n",
    "value = str(value)\n",
    "\n",
    "# valueの一番最後から10文字目までを表示する\n",
    "value = value[-9:]\n",
    "\n",
    "print(int(value))\n"
   ]
  },
  {
   "cell_type": "code",
   "execution_count": 66,
   "metadata": {},
   "outputs": [],
   "source": [
    "line = \"ctacct\"\n",
    "\n",
    "# lineの中から、c,a,tの数をそれぞれ数えて、変数に格納する\n",
    "c = line.count(\"c\")\n",
    "a = line.count(\"a\")\n",
    "t = line.count(\"t\")\n",
    "\n",
    "max_num = max(c, a, t)\n",
    "\n",
    "print(min(c, a, t))\n",
    "print(max_num - c)\n",
    "print(max_num - a)\n",
    "print(max_num - t)"
   ]
  },
  {
   "cell_type": "code",
   "execution_count": 85,
   "metadata": {},
   "outputs": [
    {
     "name": "stdout",
     "output_type": "stream",
     "text": [
      "['1', '3', '4']\n",
      "['2', '3', '5']\n",
      "['2', '3', '5']\n",
      "2 5"
     ]
    }
   ],
   "source": [
    "list1 = \"1 3 4\"\n",
    "list2 = \"2 3 5\"\n",
    "\n",
    "list1 = list1.split()\n",
    "list2 = list2.split()\n",
    "\n",
    "print(list1)\n",
    "print(list2)\n",
    "\n",
    "list2.sort()\n",
    "\n",
    "print(list2)\n",
    "\n",
    "# list2にはあって、list1にはない要素を出力する。\n",
    "# 1つもなかった場合、Noneを出力する。\n",
    "\n",
    "isOutput = False\n",
    "\n",
    "for i in list2:\n",
    "    if i not in list1:\n",
    "        if not isOutput:\n",
    "            print(i, end=\"\")\n",
    "        else:\n",
    "            print(\" \" + i, end=\"\")\n",
    "        isOutput = True\n",
    "\n",
    "if not isOutput:\n",
    "    print(\"None\")\n"
   ]
  },
  {
   "cell_type": "code",
   "execution_count": 84,
   "metadata": {},
   "outputs": [
    {
     "name": "stdout",
     "output_type": "stream",
     "text": [
      "2 5\n"
     ]
    }
   ],
   "source": [
    "# coding: utf-8\n",
    "# 自分の得意な言語で\n",
    "# Let's チャレンジ！！\n",
    "list1 = input()\n",
    "list1 = input()\n",
    "list1 = input()\n",
    "list2 = input()\n",
    "list2 = input()\n",
    "\n",
    "list1 = list1.split()\n",
    "list2 = list2.split()\n",
    "\n",
    "\n",
    "# list2にはあって、list1にはない要素を出力する。\n",
    "# 1つもなかった場合、Noneを出力する。\n",
    "\n",
    "isOutput = False\n",
    "\n",
    "for i in list2:\n",
    "    if i not in list1:\n",
    "        if not isOutput:\n",
    "            print(i, end=\"\")\n",
    "        else:\n",
    "            print(\" \" + i, end=\"\")\n",
    "        isOutput = True\n",
    "\n",
    "if not isOutput:\n",
    "    print(\"None\")\n",
    "else :\n",
    "    print()\n"
   ]
  },
  {
   "cell_type": "code",
   "execution_count": null,
   "metadata": {},
   "outputs": [],
   "source": []
  }
 ],
 "metadata": {
  "kernelspec": {
   "display_name": "Python 3",
   "language": "python",
   "name": "python3"
  },
  "language_info": {
   "codemirror_mode": {
    "name": "ipython",
    "version": 3
   },
   "file_extension": ".py",
   "mimetype": "text/x-python",
   "name": "python",
   "nbconvert_exporter": "python",
   "pygments_lexer": "ipython3",
   "version": "3.11.1"
  },
  "orig_nbformat": 4
 },
 "nbformat": 4,
 "nbformat_minor": 2
}
