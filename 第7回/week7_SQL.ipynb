{
 "cells": [
  {
   "cell_type": "markdown",
   "metadata": {
    "id": "xC21qT6mwuuc"
   },
   "source": [
    "# 7.SQL( データベースとSQLの基礎)"
   ]
  },
  {
   "cell_type": "markdown",
   "metadata": {
    "id": "1Y1OEt3ywuuh"
   },
   "source": [
    "- **[7.1 この章の概要](#7.1-この章の概要)**\n",
    "    - [7.1.1 データベースとは](#7.1.1-データベースとは)\n",
    "    - [7.1.2 RDBMS](#7.1.2-RDBMS)\n",
    "<br><br>\n",
    "- **[7.2 SQLの基礎](#7.2-SQLの基礎)** \n",
    "    - [7.2.1 データベースとテーブルの作成](#7.2.1-データベースとテーブルの作成)\n",
    "    - [7.2.2 データの検索と更新、削除、テーブルカラムの変更](#7.2.2-データの検索と更新、削除、テーブルカラムの変更)\n",
    "    - [7.2.3 データの集計、演算、並び替え](#7.2.3-データの集計、演算、並び替え)\n",
    "    - [7.2.4 グループごとの集計](#7.2.4-グループごとの集計)\n",
    "    - [7.2.5 複数テーブルの利用](#7.2.5-複数テーブルの利用)\n",
    "    - [7.2.6 case文とサブクエリ](#7.2.6-case文とサブクエリ)\n",
    "<br><br> \n",
    "- **[7.3 ビュー](#7.3-ビュー)** \n",
    "    - [7.3.1 ビュー](#7.3.1-ビュー)\n",
    "<br><br>\n",
    "- **[7.4 総合問題](#7.4-総合問題)**\n",
    "    - [7.4.1 総合問題1](#7.4.1-総合問題1)\n",
    "    - [7.4.2 総合問題2](#7.4.2-総合問題2)"
   ]
  },
  {
   "cell_type": "markdown",
   "metadata": {
    "id": "COJg-l-Ywuuh"
   },
   "source": [
    "## 7.1 この章の概要\n",
    "ゴール：データベースの役割を知る"
   ]
  },
  {
   "cell_type": "markdown",
   "metadata": {
    "id": "foSHQnbKwuui"
   },
   "source": [
    "### 7.1.1 データベースとは\n",
    "キーワード：データベース、RDBMS"
   ]
  },
  {
   "cell_type": "markdown",
   "metadata": {
    "id": "JomuJ0Rrwuui"
   },
   "source": [
    "ここからはデータベースについて学んでいきます。データベースとは、簡単にいいますと、コンピューターを利用して膨大なデータをまとめて、後から色々なニーズに対して活用できるように、管理されたデータの集まりのことです。データベースには、たくさんのテーブルがあり、そのテーブルの中にデータがあります。以下が、データベースとテーブルのイメージ図です。なお、テーブルの行をレコードといい、列をカラムといいます。"
   ]
  },
  {
   "cell_type": "markdown",
   "metadata": {
    "id": "ipAOh7IWwuuj"
   },
   "source": [
    "![comment](http://www.webolve.com/image/basic/aboutdb/fig_02.jpg)"
   ]
  },
  {
   "cell_type": "markdown",
   "metadata": {
    "id": "3_Tcsagswuuj"
   },
   "source": [
    "参照URL：http://www.webolve.com/image/basic/aboutdb/fig_02.jpg"
   ]
  },
  {
   "cell_type": "markdown",
   "metadata": {
    "id": "5lvHMLUnwuuj"
   },
   "source": [
    "具体的なデータとしては、ある店舗の毎日の売り上げをデータベースで管理していることもありますし、顧客の個人情報、社員の給料情報、金融の取引データ、ウェブサイトのアクセスログデータ等もデータベースで管理されたりしています。購買データでいうと、売れた商品の日時、その商品を識別するコード、購買者、その商品の値段、数量などがデータとしてテーブルに入ってきます。これらのデータは日々追加されますし、何かの集計（1ヶ月の売り上げの計算など）をするときはデータベースからデータが抽出され、必要なければ削除されます。\n",
    "\n",
    "それでは、そもそも何故データベースが必要なのでしょうか。小さなデータで、一貫性等を求められていなければ、Excelで十分かもしれません。しかし、データは日々大きくなっていきますし、昨今は特にIoTなどが注目されており、リアルタイムに膨大な量のデータが生まれています。ビッグデータと言われる現代、データソースのテーブルに1億レコード以上あるということもしばしばあり、これをExcelで集計することは困難でしょう。データベースとそれを呼び出すためのSQLという言語を使うことで、大きなデータに対しても効率的に作業ができるのです。（ただし、昨今はビッグデータを扱う際にHadoopやSparkなどの分散処理をするソフトウェアなどが使われるようになっており、この講座でも後半の章で少し触れます。）\n",
    "\n",
    "さらに管理するという視点でも、Excelでは限界があります。Excelは基本的に誰でも編集ができますし、後からデータに問題があった場合に対処するのが困難です。列も自由に異なるデータを入力できますし、それを統一的に扱うのは難しいです。データベースを使うことで、容易に管理できます。なお、同時にデータを変更することを避けるために、データにロックをかけて、他の人が編集できないようにすることを**「排他制御」**といい、以下のようなイメージ図になります。"
   ]
  },
  {
   "cell_type": "markdown",
   "metadata": {
    "id": "sOky1R8xwuuk"
   },
   "source": [
    "\n",
    "![](http://image.itmedia.co.jp/ait/articles/1105/30/r501-01.gif)"
   ]
  },
  {
   "cell_type": "markdown",
   "metadata": {
    "id": "kKUTcsNOwuuk"
   },
   "source": [
    "参照URL：http://image.itmedia.co.jp/ait/articles/1105/30/r501-01.gif"
   ]
  },
  {
   "cell_type": "markdown",
   "metadata": {
    "id": "Jzu8e49Vwuuk"
   },
   "source": [
    "### 7.1.2 RDBMS\n",
    "キーワード：RDMBS、MySQL、テーブル"
   ]
  },
  {
   "cell_type": "markdown",
   "metadata": {
    "id": "keFvVuQcwuuk"
   },
   "source": [
    "この章で学ぶデータベースのシステムは、RDBMSと言われるリレーショナルデータベースを管理するシステムです。代表的な製品に、Oracle, Microsoft SQL Server, PostgreSQL, MySQLなどがあります。ここでは、SQLITEというデータベースを使用します。以下は、データベースのイメージです。"
   ]
  },
  {
   "cell_type": "markdown",
   "metadata": {
    "id": "PBZ3a3mgwuul"
   },
   "source": [
    "![comment](https://www.mysql.com/common/images/products/MySQL_Workbench_Visual_Design_Windows.gif)"
   ]
  },
  {
   "cell_type": "markdown",
   "metadata": {
    "id": "2palPjcpwuul"
   },
   "source": [
    "参照URL：https://www.mysql.com/common/images/products/MySQL_Workbench_Visual_Design_Windows.gif"
   ]
  },
  {
   "cell_type": "markdown",
   "metadata": {
    "id": "J62oR4clwuul"
   },
   "source": [
    "なお、SQLITEの参考サイトは以下になりますので、適宜参照してください。"
   ]
  },
  {
   "cell_type": "markdown",
   "metadata": {
    "id": "80w8HkDmwuul"
   },
   "source": [
    "参照URL：https://sqlite.org/index.html"
   ]
  },
  {
   "cell_type": "markdown",
   "metadata": {
    "id": "CuU_RAJawuul"
   },
   "source": [
    "データベースにはテーブルがあり、データはそのテーブルから抽出します。テーブルは幾つかのカラム（列）から構成され、それぞれ型の異なるデータが入っています。数値型であったり、文字であったり、日時であったりします。Excelでは、同じ列に数字や文字など、色々な型のデータを混在して入れることができますが、データベースのテーブルには同じ型を指定してデータを入れる必要があります。データがそのような状態なので、後で集計がとても簡単にできます。それらの扱い方についても、後で学びます。"
   ]
  },
  {
   "cell_type": "markdown",
   "metadata": {
    "id": "CiMb3fV6wuum"
   },
   "source": [
    "ここでデータベースに関する簡単な紹介は終わります。他にも色々な概念がありますが、まずはデータをハンドリングできるように、実装中心に学んでいきましょう。SQLもまた手を動かしながら学ぶことで、早く使えるようになります。"
   ]
  },
  {
   "cell_type": "markdown",
   "metadata": {
    "id": "KGLKpJ4iwuum"
   },
   "source": [
    "なお、以下の参考文献が初心者にはわかりやすいので、全くSQLの経験がない方は前半のみ一読をおすすめします。一部、PHPとその連携もありますが、この講座を理解するためには必要ありません。適宜、興味があれば学習して、何か簡単なウェブサービスを作ってみるのもデータベースの大変よい理解になります。"
   ]
  },
  {
   "cell_type": "markdown",
   "metadata": {
    "id": "5ypp8P9fwuum"
   },
   "source": [
    ">[参考文献]\n",
    ">\n",
    ">『基礎からのMySQL 改訂版 (基礎からシリーズ) 』（西沢 夢路 (著)、 SBクリエイティブ）"
   ]
  },
  {
   "cell_type": "markdown",
   "metadata": {
    "id": "IwRfmgREwuum"
   },
   "source": [
    "## 7.2 SQLの基礎\n",
    "ゴール：SQLの基礎的な操作方法を身につける"
   ]
  },
  {
   "cell_type": "markdown",
   "metadata": {
    "id": "v0CdxPzrwuum"
   },
   "source": [
    "### 7.2.1 データベースとテーブルの作成\n",
    "キーワード：データベース作成、テーブル、show databases,use,show tables, create, select,"
   ]
  },
  {
   "cell_type": "markdown",
   "metadata": {
    "id": "wyKl-4eWwuun"
   },
   "source": [
    "** 注意：以下、練習問題も含め、可能な限り上から実行するようにしてください。あとの問題で使います。**"
   ]
  },
  {
   "attachments": {},
   "cell_type": "markdown",
   "metadata": {
    "id": "yIHTnU4rwuun"
   },
   "source": [
    "今回は既存のデータベースに接続して使用します。初期化して再度接続したい場合には以下のコマンドを**ipykernel**で実行してください。"
   ]
  },
  {
   "cell_type": "code",
   "execution_count": 4,
   "metadata": {
    "vscode": {
     "languageId": "sql"
    }
   },
   "outputs": [
    {
     "name": "stderr",
     "output_type": "stream",
     "text": [
      "'rm' �́A�����R�}���h�܂��͊O���R�}���h�A\n",
      "����\\�ȃv���O�����܂��̓o�b�` �t�@�C���Ƃ��ĔF������Ă��܂���B\n"
     ]
    }
   ],
   "source": [
    "# 初期化して再度接続したい場合\n",
    "!rm /home/ubuntu/TEST1.db"
   ]
  },
  {
   "attachments": {},
   "cell_type": "markdown",
   "metadata": {},
   "source": [
    "インスタンス立ち上げ直後は上のセルを実行せず、以下のセル以降を実行してください。"
   ]
  },
  {
   "cell_type": "code",
   "execution_count": 5,
   "metadata": {},
   "outputs": [
    {
     "name": "stderr",
     "output_type": "stream",
     "text": [
      "UsageError: Line magic function `%LOAD` not found.\n"
     ]
    }
   ],
   "source": [
    "%LOAD sqlite3 db=/home/ubuntu/TEST1.db"
   ]
  },
  {
   "attachments": {},
   "cell_type": "markdown",
   "metadata": {
    "id": "DT4QpKlPwuuo"
   },
   "source": [
    "ここにテーブルを作成していきます。テーブルにデータが入り、データのカラム名とその型を指定します。実際にテーブルを作ってみましょう。以下のようにcreate tableを実行しますが、要注意です。最初にテーブル名、データの型と名前等を付けています。ここではmeiboテーブルに整数型のid、文字型のnameを設定しています。さらに、primary keyというのは、このカラムが一意のキーとなっていることを宣言しています。つまり、同じデータは入らないということです。"
   ]
  },
  {
   "cell_type": "code",
   "execution_count": null,
   "metadata": {
    "id": "lGSKEqfiwuuo"
   },
   "outputs": [],
   "source": [
    "create table meibo\n",
    "  (id int primary key, name varchar(20))"
   ]
  },
  {
   "cell_type": "markdown",
   "metadata": {
    "id": "MDmbfTafwuuo"
   },
   "source": [
    "さて、ここでテーブルからデータを引っ張る時に、以下のようにselect * from テーブル名という書き方をします。アスタリスクは、すべての列名を持ってくるという意味です。ただ、以下のselect文を実行しても、空のテーブルだけなので、中身は何もなく、空のレコードが表示されます。"
   ]
  },
  {
   "cell_type": "code",
   "execution_count": null,
   "metadata": {
    "id": "rLBLaifSwuuo",
    "outputId": "041d924b-8ebf-4ffc-dc15-dd74f67e9722"
   },
   "outputs": [
    {
     "data": {
      "text/html": [
       "</table>\n",
       "Empty set (0.00 sec)"
      ],
      "text/plain": [
       "\n",
       "Empty set (0.00 sec)"
      ]
     },
     "execution_count": 6,
     "metadata": {},
     "output_type": "execute_result"
    }
   ],
   "source": [
    "select * from meibo;"
   ]
  },
  {
   "cell_type": "markdown",
   "metadata": {
    "id": "_TVxLB3Zwuup"
   },
   "source": [
    "用意したテーブルに、データを挿入してみましょう。データの挿入はinsert into を使います。その後に、「テーブル名（カラム名）values 挿入したいデータ」で実行します。以下のように記述して、データを3レコード挿入しています。"
   ]
  },
  {
   "cell_type": "code",
   "execution_count": null,
   "metadata": {
    "id": "vJpCF2J3wuup"
   },
   "outputs": [],
   "source": [
    "insert into meibo (id, name) values (1, \"Yamada\");"
   ]
  },
  {
   "cell_type": "code",
   "execution_count": null,
   "metadata": {
    "id": "7IZZJx2Cwuuq"
   },
   "outputs": [],
   "source": [
    "insert into meibo (id, name) values (2, \"Tanaka\");"
   ]
  },
  {
   "cell_type": "code",
   "execution_count": null,
   "metadata": {
    "id": "-luR_Dq2wuuq"
   },
   "outputs": [],
   "source": [
    "insert into meibo (id, name) values (3, \"Sato\");"
   ]
  },
  {
   "cell_type": "markdown",
   "metadata": {
    "id": "mxG2EGeLwuuq"
   },
   "source": [
    "もう一度、テーブルを確認してみましょう。"
   ]
  },
  {
   "cell_type": "code",
   "execution_count": null,
   "metadata": {
    "id": "CUXVHbNPwuuq",
    "outputId": "166a29a7-46c9-4c27-ba8c-7ba149c290d1"
   },
   "outputs": [
    {
     "data": {
      "text/html": [
       "<table>\n",
       "<tr>\n",
       "<th>id</th>\n",
       "<th>name</th>\n",
       "</tr>\n",
       "<tr>\n",
       "<td>1</td>\n",
       "<td>Yamada</td>\n",
       "</tr>\n",
       "<tr>\n",
       "<td>2</td>\n",
       "<td>Tanaka</td>\n",
       "</tr>\n",
       "<tr>\n",
       "<td>3</td>\n",
       "<td>Sato</td>\n",
       "</tr>\n",
       "</table>\n",
       "3 rows in set (0.00 sec)"
      ],
      "text/plain": [
       "+----+--------+\n",
       "| id | name   |\n",
       "+----+--------+\n",
       "| 1  | Yamada |\n",
       "+----+--------+\n",
       "| 2  | Tanaka |\n",
       "+----+--------+\n",
       "| 3  | Sato   |\n",
       "+----+--------+\n",
       "3 rows in set (0.00 sec)"
      ]
     },
     "execution_count": 10,
     "metadata": {},
     "output_type": "execute_result"
    }
   ],
   "source": [
    "select * from meibo;"
   ]
  },
  {
   "cell_type": "markdown",
   "metadata": {
    "id": "fCD_UFKfwuuq"
   },
   "source": [
    "なお、同じキーとなるidのデータを入れるとエラーが出て、以下のようになります。"
   ]
  },
  {
   "cell_type": "code",
   "execution_count": null,
   "metadata": {
    "id": "mFAqtSAOwuur",
    "outputId": "44606205-dfe3-4fa7-ca7b-c44671ea8949"
   },
   "outputs": [
    {
     "ename": "Error",
     "evalue": "sqlite3_statement_backend::loadOne: UNIQUE constraint failed: meibo.id while executing \"insert into meibo (id, name) values (1, \"Yamada\");\".",
     "output_type": "error",
     "traceback": [
      "Error: sqlite3_statement_backend::loadOne: UNIQUE constraint failed: meibo.id while executing \"insert into meibo (id, name) values (1, \"Yamada\");\"."
     ]
    }
   ],
   "source": [
    "insert into meibo (id, name) values (1, \"Yamada\");"
   ]
  },
  {
   "cell_type": "markdown",
   "metadata": {
    "id": "oV3NcH-nwuur"
   },
   "source": [
    "以下のSQLでテーブルの一覧を確認できます。"
   ]
  },
  {
   "cell_type": "code",
   "execution_count": null,
   "metadata": {
    "id": "w9JNErNEwuur",
    "outputId": "c8c455ac-872a-4626-deae-b2875f03cc3a"
   },
   "outputs": [
    {
     "data": {
      "text/html": [
       "<table>\n",
       "<tr>\n",
       "<th>name</th>\n",
       "</tr>\n",
       "<tr>\n",
       "<td>meibo</td>\n",
       "</tr>\n",
       "</table>\n",
       "1 row in set (0.00 sec)"
      ],
      "text/plain": [
       "+-------+\n",
       "| name  |\n",
       "+-------+\n",
       "| meibo |\n",
       "+-------+\n",
       "1 row in set (0.00 sec)"
      ]
     },
     "execution_count": 12,
     "metadata": {},
     "output_type": "execute_result"
    }
   ],
   "source": [
    "select name from sqlite_master where type='table';"
   ]
  },
  {
   "cell_type": "markdown",
   "metadata": {
    "id": "s0W2pjKqwuur"
   },
   "source": [
    ">**[ポイント]**\n",
    ">\n",
    ">create databases [データベース名]：データベースの作成\n",
    ">\n",
    ">create table [テーブル名] [カラム名 型]：テーブルの作成\n",
    ">\n",
    ">create table [テーブル名] [カラム名 型] primary key：プライマリーキーの設定\n",
    ">\n",
    ">select * from テーブル名：テーブル名のカラムすべてのデータを問い合わせ\n",
    ">\n",
    ">instert into [テーブル名] [カラム名 型] [値]：データの挿入"
   ]
  },
  {
   "cell_type": "markdown",
   "metadata": {
    "id": "nn9YIOtOwuur"
   },
   "source": [
    "#### <練習問題 1>\n",
    "新しいテーブル「meibo2」を作成してください。作成後はテーブルが完成しているか、確認しましょう。データのカラム名とその型はなんでも構いません。"
   ]
  },
  {
   "cell_type": "code",
   "execution_count": null,
   "metadata": {
    "id": "LNqRFINjwuur"
   },
   "outputs": [],
   "source": [
    "create table meibo2\n",
    "  (id int primary key, name varchar(20))"
   ]
  },
  {
   "cell_type": "code",
   "execution_count": null,
   "metadata": {
    "id": "haLBNdQOwuus",
    "outputId": "3e2d1796-7f13-48e7-eaa8-1c6b8f9d1e28"
   },
   "outputs": [
    {
     "data": {
      "text/html": [
       "<table>\n",
       "<tr>\n",
       "<th>name</th>\n",
       "</tr>\n",
       "<tr>\n",
       "<td>meibo</td>\n",
       "</tr>\n",
       "<tr>\n",
       "<td>meibo2</td>\n",
       "</tr>\n",
       "</table>\n",
       "2 rows in set (0.00 sec)"
      ],
      "text/plain": [
       "+--------+\n",
       "| name   |\n",
       "+--------+\n",
       "| meibo  |\n",
       "+--------+\n",
       "| meibo2 |\n",
       "+--------+\n",
       "2 rows in set (0.00 sec)"
      ]
     },
     "execution_count": 14,
     "metadata": {},
     "output_type": "execute_result"
    }
   ],
   "source": [
    "select name from sqlite_master where type='table';"
   ]
  },
  {
   "cell_type": "markdown",
   "metadata": {
    "id": "10lk-Wwcwuus"
   },
   "source": [
    "#### <練習問題 2>\n",
    "\n",
    "練習1で新しく作ったテーブルmeibo2にデータを追加してみましょう。追加後は、確かにデータが入っているか確認してください。"
   ]
  },
  {
   "cell_type": "code",
   "execution_count": null,
   "metadata": {
    "id": "AnApuenIwuus"
   },
   "outputs": [],
   "source": [
    "insert into meibo2 (id, name) values (1, \"Yamada\");"
   ]
  },
  {
   "cell_type": "code",
   "execution_count": null,
   "metadata": {
    "id": "7oyZqtO8wuus",
    "outputId": "50b22694-5610-4698-85c3-5aa5643ba790"
   },
   "outputs": [
    {
     "data": {
      "text/html": [
       "<table>\n",
       "<tr>\n",
       "<th>id</th>\n",
       "<th>name</th>\n",
       "</tr>\n",
       "<tr>\n",
       "<td>1</td>\n",
       "<td>Yamada</td>\n",
       "</tr>\n",
       "</table>\n",
       "1 row in set (0.00 sec)"
      ],
      "text/plain": [
       "+----+--------+\n",
       "| id | name   |\n",
       "+----+--------+\n",
       "| 1  | Yamada |\n",
       "+----+--------+\n",
       "1 row in set (0.00 sec)"
      ]
     },
     "execution_count": 16,
     "metadata": {},
     "output_type": "execute_result"
    }
   ],
   "source": [
    "select * from meibo2"
   ]
  },
  {
   "cell_type": "markdown",
   "metadata": {
    "id": "blrwCGQcwuus"
   },
   "source": [
    "### 7.2.2 データの検索と更新、削除、テーブルカラムの変更\n",
    "キーワード：where, in, like, update, delete, alter"
   ]
  },
  {
   "cell_type": "markdown",
   "metadata": {
    "id": "chAExbyGwuus"
   },
   "source": [
    "次は、データの抽出をするときに、条件を絞って実行してみましょう。条件はwhere文を使います。以下では、id=2の人のデータを抽出しています。"
   ]
  },
  {
   "cell_type": "code",
   "execution_count": null,
   "metadata": {
    "id": "kPerrBTrwuut",
    "outputId": "0524c488-0276-4606-b2c0-5130844b6807"
   },
   "outputs": [
    {
     "data": {
      "text/html": [
       "<table>\n",
       "<tr>\n",
       "<th>id</th>\n",
       "<th>name</th>\n",
       "</tr>\n",
       "<tr>\n",
       "<td>2</td>\n",
       "<td>Tanaka</td>\n",
       "</tr>\n",
       "</table>\n",
       "1 row in set (0.00 sec)"
      ],
      "text/plain": [
       "+----+--------+\n",
       "| id | name   |\n",
       "+----+--------+\n",
       "| 2  | Tanaka |\n",
       "+----+--------+\n",
       "1 row in set (0.00 sec)"
      ]
     },
     "execution_count": 17,
     "metadata": {},
     "output_type": "execute_result"
    }
   ],
   "source": [
    "select * from meibo where id=2;"
   ]
  },
  {
   "cell_type": "markdown",
   "metadata": {
    "id": "r3V0thRBwuut"
   },
   "source": [
    "次は、テーブルにidが1か2かどちらかあるときです。inを使っています。（他、データの範囲を絞り込むためbetweenなどもありますので、調べてみてください。）"
   ]
  },
  {
   "cell_type": "code",
   "execution_count": null,
   "metadata": {
    "id": "r-MPBkKvwuut",
    "outputId": "e4f61f76-233e-4c47-eeb9-041ec16a3f4b"
   },
   "outputs": [
    {
     "data": {
      "text/html": [
       "<table>\n",
       "<tr>\n",
       "<th>id</th>\n",
       "<th>name</th>\n",
       "</tr>\n",
       "<tr>\n",
       "<td>1</td>\n",
       "<td>Yamada</td>\n",
       "</tr>\n",
       "<tr>\n",
       "<td>2</td>\n",
       "<td>Tanaka</td>\n",
       "</tr>\n",
       "</table>\n",
       "2 rows in set (0.00 sec)"
      ],
      "text/plain": [
       "+----+--------+\n",
       "| id | name   |\n",
       "+----+--------+\n",
       "| 1  | Yamada |\n",
       "+----+--------+\n",
       "| 2  | Tanaka |\n",
       "+----+--------+\n",
       "2 rows in set (0.00 sec)"
      ]
     },
     "execution_count": 18,
     "metadata": {},
     "output_type": "execute_result"
    }
   ],
   "source": [
    "select * from meibo where id in (1,2);"
   ]
  },
  {
   "cell_type": "markdown",
   "metadata": {
    "id": "qy6tLieQwuut"
   },
   "source": [
    "以下のような記述で、曖昧検索もできます。likeを使って、以下の処理では、Sからはじまって後は任意の文字列ということで、「S%」としています。他にも、「%S」や「%S%」で検索が可能です。"
   ]
  },
  {
   "cell_type": "code",
   "execution_count": null,
   "metadata": {
    "id": "rkfeC8Grwuut",
    "outputId": "1c2280fe-ba2c-46ee-e8a8-106592d65827"
   },
   "outputs": [
    {
     "data": {
      "text/html": [
       "<table>\n",
       "<tr>\n",
       "<th>id</th>\n",
       "<th>name</th>\n",
       "</tr>\n",
       "<tr>\n",
       "<td>3</td>\n",
       "<td>Sato</td>\n",
       "</tr>\n",
       "</table>\n",
       "1 row in set (0.00 sec)"
      ],
      "text/plain": [
       "+----+------+\n",
       "| id | name |\n",
       "+----+------+\n",
       "| 3  | Sato |\n",
       "+----+------+\n",
       "1 row in set (0.00 sec)"
      ]
     },
     "execution_count": 19,
     "metadata": {},
     "output_type": "execute_result"
    }
   ],
   "source": [
    "select * from meibo where name like 'S%';"
   ]
  },
  {
   "cell_type": "markdown",
   "metadata": {
    "id": "pqVO7XHuwuuu"
   },
   "source": [
    ">**[やってみよう]**\n",
    ">\n",
    ">上の条件式を色々と変更してデータを検索してみましょう。例えば、idが1以外の人や、nameがaで終わる人はどのように検索しますか？"
   ]
  },
  {
   "cell_type": "markdown",
   "metadata": {
    "id": "vi-ZVfW7wuuu"
   },
   "source": [
    "今までは存在してるデータを抽出してきましたが、次は、データを変更してみます。updateを使って、id=3の人を更新してみます。記述方法は以下のようになります。"
   ]
  },
  {
   "cell_type": "code",
   "execution_count": null,
   "metadata": {
    "id": "1BOhJVkhwuuu"
   },
   "outputs": [],
   "source": [
    "update meibo\n",
    " set name = \"Suzuki\"\n",
    " where id=3;"
   ]
  },
  {
   "cell_type": "markdown",
   "metadata": {
    "id": "Nv5vk5O0wuuu"
   },
   "source": [
    "更新されているか確かめてみましょう。"
   ]
  },
  {
   "cell_type": "code",
   "execution_count": null,
   "metadata": {
    "id": "QMezRf9Awuuu",
    "outputId": "6b0c76fc-f790-4190-c02f-0ee3d9a2ef86"
   },
   "outputs": [
    {
     "data": {
      "text/html": [
       "<table>\n",
       "<tr>\n",
       "<th>id</th>\n",
       "<th>name</th>\n",
       "</tr>\n",
       "<tr>\n",
       "<td>1</td>\n",
       "<td>Yamada</td>\n",
       "</tr>\n",
       "<tr>\n",
       "<td>2</td>\n",
       "<td>Tanaka</td>\n",
       "</tr>\n",
       "<tr>\n",
       "<td>3</td>\n",
       "<td>Suzuki</td>\n",
       "</tr>\n",
       "</table>\n",
       "3 rows in set (0.00 sec)"
      ],
      "text/plain": [
       "+----+--------+\n",
       "| id | name   |\n",
       "+----+--------+\n",
       "| 1  | Yamada |\n",
       "+----+--------+\n",
       "| 2  | Tanaka |\n",
       "+----+--------+\n",
       "| 3  | Suzuki |\n",
       "+----+--------+\n",
       "3 rows in set (0.00 sec)"
      ]
     },
     "execution_count": 21,
     "metadata": {},
     "output_type": "execute_result"
    }
   ],
   "source": [
    "select * from meibo;"
   ]
  },
  {
   "cell_type": "markdown",
   "metadata": {
    "id": "1OBZXE6owuuv"
   },
   "source": [
    "データを削除する場合も扱いましょう。削除用のサンプルデータを用意(id=4)して、確認します。"
   ]
  },
  {
   "cell_type": "code",
   "execution_count": null,
   "metadata": {
    "id": "uEkGUUeowuuv"
   },
   "outputs": [],
   "source": [
    "insert into meibo (id, name) values (4, \"Dummy\");"
   ]
  },
  {
   "cell_type": "code",
   "execution_count": null,
   "metadata": {
    "id": "QPCyQVXKwuuv",
    "outputId": "8e003900-e378-48d0-fdbc-53c848393b89"
   },
   "outputs": [
    {
     "data": {
      "text/html": [
       "<table>\n",
       "<tr>\n",
       "<th>id</th>\n",
       "<th>name</th>\n",
       "</tr>\n",
       "<tr>\n",
       "<td>1</td>\n",
       "<td>Yamada</td>\n",
       "</tr>\n",
       "<tr>\n",
       "<td>2</td>\n",
       "<td>Tanaka</td>\n",
       "</tr>\n",
       "<tr>\n",
       "<td>3</td>\n",
       "<td>Suzuki</td>\n",
       "</tr>\n",
       "<tr>\n",
       "<td>4</td>\n",
       "<td>Dummy</td>\n",
       "</tr>\n",
       "</table>\n",
       "4 rows in set (0.00 sec)"
      ],
      "text/plain": [
       "+----+--------+\n",
       "| id | name   |\n",
       "+----+--------+\n",
       "| 1  | Yamada |\n",
       "+----+--------+\n",
       "| 2  | Tanaka |\n",
       "+----+--------+\n",
       "| 3  | Suzuki |\n",
       "+----+--------+\n",
       "| 4  | Dummy  |\n",
       "+----+--------+\n",
       "4 rows in set (0.00 sec)"
      ]
     },
     "execution_count": 23,
     "metadata": {},
     "output_type": "execute_result"
    }
   ],
   "source": [
    "select * from meibo;"
   ]
  },
  {
   "cell_type": "markdown",
   "metadata": {
    "id": "k0VdzA7iwuuv"
   },
   "source": [
    "データの削除はdeleteを使います。ここでは、先ほど用意しましたid＝4の人を削除します。"
   ]
  },
  {
   "cell_type": "code",
   "execution_count": null,
   "metadata": {
    "id": "gkS7lEBFwuuv"
   },
   "outputs": [],
   "source": [
    "delete from meibo\n",
    "where id = 4;"
   ]
  },
  {
   "cell_type": "markdown",
   "metadata": {
    "id": "FiZN5mBowuuw"
   },
   "source": [
    "念のため、消えているかどうか確認しましょう。"
   ]
  },
  {
   "cell_type": "code",
   "execution_count": null,
   "metadata": {
    "id": "kwVqfcK9wuuw",
    "outputId": "0c0aa26e-ca8f-40ab-eca9-4c84ed2c2bcb"
   },
   "outputs": [
    {
     "data": {
      "text/html": [
       "<table>\n",
       "<tr>\n",
       "<th>id</th>\n",
       "<th>name</th>\n",
       "</tr>\n",
       "<tr>\n",
       "<td>1</td>\n",
       "<td>Yamada</td>\n",
       "</tr>\n",
       "<tr>\n",
       "<td>2</td>\n",
       "<td>Tanaka</td>\n",
       "</tr>\n",
       "<tr>\n",
       "<td>3</td>\n",
       "<td>Suzuki</td>\n",
       "</tr>\n",
       "</table>\n",
       "3 rows in set (0.00 sec)"
      ],
      "text/plain": [
       "+----+--------+\n",
       "| id | name   |\n",
       "+----+--------+\n",
       "| 1  | Yamada |\n",
       "+----+--------+\n",
       "| 2  | Tanaka |\n",
       "+----+--------+\n",
       "| 3  | Suzuki |\n",
       "+----+--------+\n",
       "3 rows in set (0.00 sec)"
      ]
     },
     "execution_count": 25,
     "metadata": {},
     "output_type": "execute_result"
    }
   ],
   "source": [
    "select * from meibo;"
   ]
  },
  {
   "cell_type": "markdown",
   "metadata": {
    "id": "oPe_y7W0wuuw"
   },
   "source": [
    "次は、新しいカラムを追加しましょう。その人のクラスと年齢を追加します。「alter table テーブル名 add 新しいカラム名 型」です。"
   ]
  },
  {
   "cell_type": "code",
   "execution_count": null,
   "metadata": {
    "id": "iA_sS0vJwuuw"
   },
   "outputs": [],
   "source": [
    "alter table meibo add class int;"
   ]
  },
  {
   "cell_type": "code",
   "execution_count": null,
   "metadata": {
    "id": "WWHHNqlswuuw"
   },
   "outputs": [],
   "source": [
    "alter table meibo add age int;"
   ]
  },
  {
   "cell_type": "markdown",
   "metadata": {
    "id": "ZlWRD4LWwuuw"
   },
   "source": [
    "新しくカラムを追加したテーブルをチェックしてみましょう。classとageには、まだ何もデータは入っていないので、空（NULL）になります。  "
   ]
  },
  {
   "cell_type": "code",
   "execution_count": null,
   "metadata": {
    "id": "ZnKSsMqEwuuw",
    "outputId": "7ab9c37e-6704-410b-d71f-77c767dddb3a"
   },
   "outputs": [
    {
     "data": {
      "text/html": [
       "<table>\n",
       "<tr>\n",
       "<th>id</th>\n",
       "<th>name</th>\n",
       "<th>class</th>\n",
       "<th>age</th>\n",
       "</tr>\n",
       "<tr>\n",
       "<td>1</td>\n",
       "<td>Yamada</td>\n",
       "<td>NULL</td>\n",
       "<td>NULL</td>\n",
       "</tr>\n",
       "<tr>\n",
       "<td>2</td>\n",
       "<td>Tanaka</td>\n",
       "<td>NULL</td>\n",
       "<td>NULL</td>\n",
       "</tr>\n",
       "<tr>\n",
       "<td>3</td>\n",
       "<td>Suzuki</td>\n",
       "<td>NULL</td>\n",
       "<td>NULL</td>\n",
       "</tr>\n",
       "</table>\n",
       "3 rows in set (0.00 sec)"
      ],
      "text/plain": [
       "+----+--------+-------+------+\n",
       "| id | name   | class | age  |\n",
       "+----+--------+-------+------+\n",
       "| 1  | Yamada | NULL  | NULL |\n",
       "+----+--------+-------+------+\n",
       "| 2  | Tanaka | NULL  | NULL |\n",
       "+----+--------+-------+------+\n",
       "| 3  | Suzuki | NULL  | NULL |\n",
       "+----+--------+-------+------+\n",
       "3 rows in set (0.00 sec)"
      ]
     },
     "execution_count": 28,
     "metadata": {},
     "output_type": "execute_result"
    }
   ],
   "source": [
    "select * from meibo;"
   ]
  },
  {
   "cell_type": "markdown",
   "metadata": {
    "id": "FzFayF6kwuuw"
   },
   "source": [
    "updateを使ってデータを更新します。"
   ]
  },
  {
   "cell_type": "code",
   "execution_count": null,
   "metadata": {
    "id": "jgVUq9Jgwuux"
   },
   "outputs": [],
   "source": [
    "update meibo\n",
    " set class=1,age=13\n",
    " where id=3;"
   ]
  },
  {
   "cell_type": "markdown",
   "metadata": {
    "id": "QxXxeYq0wuux"
   },
   "source": [
    "id=3の人のにクラスと年齢のデータが入りました。"
   ]
  },
  {
   "cell_type": "code",
   "execution_count": null,
   "metadata": {
    "id": "0MAet7plwuux",
    "outputId": "aa15870d-3941-4579-8b46-0b191a35a525"
   },
   "outputs": [
    {
     "data": {
      "text/html": [
       "<table>\n",
       "<tr>\n",
       "<th>id</th>\n",
       "<th>name</th>\n",
       "<th>class</th>\n",
       "<th>age</th>\n",
       "</tr>\n",
       "<tr>\n",
       "<td>1</td>\n",
       "<td>Yamada</td>\n",
       "<td>NULL</td>\n",
       "<td>NULL</td>\n",
       "</tr>\n",
       "<tr>\n",
       "<td>2</td>\n",
       "<td>Tanaka</td>\n",
       "<td>NULL</td>\n",
       "<td>NULL</td>\n",
       "</tr>\n",
       "<tr>\n",
       "<td>3</td>\n",
       "<td>Suzuki</td>\n",
       "<td>1</td>\n",
       "<td>13</td>\n",
       "</tr>\n",
       "</table>\n",
       "3 rows in set (0.00 sec)"
      ],
      "text/plain": [
       "+----+--------+-------+------+\n",
       "| id | name   | class | age  |\n",
       "+----+--------+-------+------+\n",
       "| 1  | Yamada | NULL  | NULL |\n",
       "+----+--------+-------+------+\n",
       "| 2  | Tanaka | NULL  | NULL |\n",
       "+----+--------+-------+------+\n",
       "| 3  | Suzuki | 1     | 13   |\n",
       "+----+--------+-------+------+\n",
       "3 rows in set (0.00 sec)"
      ]
     },
     "execution_count": 30,
     "metadata": {},
     "output_type": "execute_result"
    }
   ],
   "source": [
    "select * from meibo;"
   ]
  },
  {
   "cell_type": "markdown",
   "metadata": {
    "id": "Xi1fUFMewuux"
   },
   "source": [
    "続けて、他の人のデータも更新しましょう。"
   ]
  },
  {
   "cell_type": "code",
   "execution_count": null,
   "metadata": {
    "id": "6dqcYUHhwuux"
   },
   "outputs": [],
   "source": [
    "update meibo\n",
    " set class=1,age=14\n",
    " where id=1;"
   ]
  },
  {
   "cell_type": "code",
   "execution_count": null,
   "metadata": {
    "id": "Ydky5eF4wuux"
   },
   "outputs": [],
   "source": [
    " update meibo\n",
    " set class=2,age=13\n",
    " where id=2;"
   ]
  },
  {
   "cell_type": "code",
   "execution_count": null,
   "metadata": {
    "id": "yWyCHlwpwuux",
    "outputId": "87073ffd-a9dd-4cdc-82a3-0ff851480159"
   },
   "outputs": [
    {
     "data": {
      "text/html": [
       "<table>\n",
       "<tr>\n",
       "<th>id</th>\n",
       "<th>name</th>\n",
       "<th>class</th>\n",
       "<th>age</th>\n",
       "</tr>\n",
       "<tr>\n",
       "<td>1</td>\n",
       "<td>Yamada</td>\n",
       "<td>1</td>\n",
       "<td>14</td>\n",
       "</tr>\n",
       "<tr>\n",
       "<td>2</td>\n",
       "<td>Tanaka</td>\n",
       "<td>2</td>\n",
       "<td>13</td>\n",
       "</tr>\n",
       "<tr>\n",
       "<td>3</td>\n",
       "<td>Suzuki</td>\n",
       "<td>1</td>\n",
       "<td>13</td>\n",
       "</tr>\n",
       "</table>\n",
       "3 rows in set (0.00 sec)"
      ],
      "text/plain": [
       "+----+--------+-------+-----+\n",
       "| id | name   | class | age |\n",
       "+----+--------+-------+-----+\n",
       "| 1  | Yamada | 1     | 14  |\n",
       "+----+--------+-------+-----+\n",
       "| 2  | Tanaka | 2     | 13  |\n",
       "+----+--------+-------+-----+\n",
       "| 3  | Suzuki | 1     | 13  |\n",
       "+----+--------+-------+-----+\n",
       "3 rows in set (0.00 sec)"
      ]
     },
     "execution_count": 33,
     "metadata": {},
     "output_type": "execute_result"
    }
   ],
   "source": [
    "select * from meibo;"
   ]
  },
  {
   "cell_type": "markdown",
   "metadata": {
    "id": "TsssSYgPwuux"
   },
   "source": [
    "新しい人たちのデータを追加しましょう。先ほどはinsertを1つ1つ実行していきました。ここでは、以下のコマンドで一度に更新します。"
   ]
  },
  {
   "cell_type": "code",
   "execution_count": null,
   "metadata": {
    "id": "-yCFVjfzwuux"
   },
   "outputs": [],
   "source": [
    "insert into meibo (id,name,class,age) \n",
    " values (4,\"Kato\",2,15),(5,\"Ito\",3,12),(6,\"Takeuchi\",2,16),(7,\"Kimura\",3,11),(8,\"Sato\",1,14);"
   ]
  },
  {
   "cell_type": "markdown",
   "metadata": {
    "id": "FRJ0ICf8wuuy"
   },
   "source": [
    "データの確認をします。"
   ]
  },
  {
   "cell_type": "code",
   "execution_count": null,
   "metadata": {
    "id": "2F-CVd0hwuuy",
    "outputId": "42854e2d-2008-45a9-d711-24b64bd8bf55"
   },
   "outputs": [
    {
     "data": {
      "text/html": [
       "<table>\n",
       "<tr>\n",
       "<th>id</th>\n",
       "<th>name</th>\n",
       "<th>class</th>\n",
       "<th>age</th>\n",
       "</tr>\n",
       "<tr>\n",
       "<td>1</td>\n",
       "<td>Yamada</td>\n",
       "<td>1</td>\n",
       "<td>14</td>\n",
       "</tr>\n",
       "<tr>\n",
       "<td>2</td>\n",
       "<td>Tanaka</td>\n",
       "<td>2</td>\n",
       "<td>13</td>\n",
       "</tr>\n",
       "<tr>\n",
       "<td>3</td>\n",
       "<td>Suzuki</td>\n",
       "<td>1</td>\n",
       "<td>13</td>\n",
       "</tr>\n",
       "<tr>\n",
       "<td>4</td>\n",
       "<td>Kato</td>\n",
       "<td>2</td>\n",
       "<td>15</td>\n",
       "</tr>\n",
       "<tr>\n",
       "<td>5</td>\n",
       "<td>Ito</td>\n",
       "<td>3</td>\n",
       "<td>12</td>\n",
       "</tr>\n",
       "<tr>\n",
       "<td>6</td>\n",
       "<td>Takeuchi</td>\n",
       "<td>2</td>\n",
       "<td>16</td>\n",
       "</tr>\n",
       "<tr>\n",
       "<td>7</td>\n",
       "<td>Kimura</td>\n",
       "<td>3</td>\n",
       "<td>11</td>\n",
       "</tr>\n",
       "<tr>\n",
       "<td>8</td>\n",
       "<td>Sato</td>\n",
       "<td>1</td>\n",
       "<td>14</td>\n",
       "</tr>\n",
       "</table>\n",
       "8 rows in set (0.00 sec)"
      ],
      "text/plain": [
       "+----+----------+-------+-----+\n",
       "| id | name     | class | age |\n",
       "+----+----------+-------+-----+\n",
       "| 1  | Yamada   | 1     | 14  |\n",
       "+----+----------+-------+-----+\n",
       "| 2  | Tanaka   | 2     | 13  |\n",
       "+----+----------+-------+-----+\n",
       "| 3  | Suzuki   | 1     | 13  |\n",
       "+----+----------+-------+-----+\n",
       "| 4  | Kato     | 2     | 15  |\n",
       "+----+----------+-------+-----+\n",
       "| 5  | Ito      | 3     | 12  |\n",
       "+----+----------+-------+-----+\n",
       "| 6  | Takeuchi | 2     | 16  |\n",
       "+----+----------+-------+-----+\n",
       "| 7  | Kimura   | 3     | 11  |\n",
       "+----+----------+-------+-----+\n",
       "| 8  | Sato     | 1     | 14  |\n",
       "+----+----------+-------+-----+\n",
       "8 rows in set (0.00 sec)"
      ]
     },
     "execution_count": 35,
     "metadata": {},
     "output_type": "execute_result"
    }
   ],
   "source": [
    "select * from meibo;"
   ]
  },
  {
   "cell_type": "markdown",
   "metadata": {
    "id": "tNkNis2lwuuy"
   },
   "source": [
    ">**[ポイント]**\n",
    ">\n",
    ">select * from [テーブル名] where 条件：条件でデータを絞り込み\n",
    ">\n",
    ">in：条件マッチ\n",
    ">\n",
    ">like：曖昧検索\n",
    ">\n",
    ">delete from [テーブル名]：データの削除（注：条件を絞りこむ場合はwhere文を追加する）\n",
    ">\n",
    ">alter table [テーブル名] add [カラム名 型]:テーブルのカラム名追加\n",
    ">\n",
    ">update [テーブル名] set ：データのアップデート"
   ]
  },
  {
   "cell_type": "markdown",
   "metadata": {
    "id": "MgFLjANzwuuy"
   },
   "source": [
    "#### <練習問題 1>\n",
    "上記のテーブルmeiboにて、id=4の人レコードを抽出してください。"
   ]
  },
  {
   "cell_type": "code",
   "execution_count": null,
   "metadata": {
    "id": "BpOVnqr-wuuy",
    "outputId": "c0eca301-9859-4a4e-c146-979427b03ebc"
   },
   "outputs": [
    {
     "data": {
      "text/html": [
       "<table>\n",
       "<tr>\n",
       "<th>id</th>\n",
       "<th>name</th>\n",
       "<th>class</th>\n",
       "<th>age</th>\n",
       "</tr>\n",
       "<tr>\n",
       "<td>4</td>\n",
       "<td>Kato</td>\n",
       "<td>2</td>\n",
       "<td>15</td>\n",
       "</tr>\n",
       "</table>\n",
       "1 row in set (0.00 sec)"
      ],
      "text/plain": [
       "+----+------+-------+-----+\n",
       "| id | name | class | age |\n",
       "+----+------+-------+-----+\n",
       "| 4  | Kato | 2     | 15  |\n",
       "+----+------+-------+-----+\n",
       "1 row in set (0.00 sec)"
      ]
     },
     "execution_count": 36,
     "metadata": {},
     "output_type": "execute_result"
    }
   ],
   "source": [
    "select * from meibo where id = 4;"
   ]
  },
  {
   "cell_type": "markdown",
   "metadata": {
    "id": "UGAdyM2Awuuy"
   },
   "source": [
    "#### <練習問題 2>\n",
    "\n",
    "上のmeiboテーブルでid=8の人のclassを7にアップデートしてください。select文でアップデートを確認できたら、id=8の人のclassを1に戻してください。"
   ]
  },
  {
   "cell_type": "code",
   "execution_count": null,
   "metadata": {
    "id": "LJrnL6dEwuuz",
    "outputId": "8f5d6ad8-800e-41d4-ca68-b743f28cb4d1"
   },
   "outputs": [
    {
     "data": {
      "text/html": [
       "<table>\n",
       "<tr>\n",
       "<th>id</th>\n",
       "<th>name</th>\n",
       "<th>class</th>\n",
       "<th>age</th>\n",
       "</tr>\n",
       "<tr>\n",
       "<td>8</td>\n",
       "<td>Sato</td>\n",
       "<td>1</td>\n",
       "<td>14</td>\n",
       "</tr>\n",
       "</table>\n",
       "1 row in set (0.00 sec)"
      ],
      "text/plain": [
       "+----+------+-------+-----+\n",
       "| id | name | class | age |\n",
       "+----+------+-------+-----+\n",
       "| 8  | Sato | 1     | 14  |\n",
       "+----+------+-------+-----+\n",
       "1 row in set (0.00 sec)"
      ]
     },
     "execution_count": 37,
     "metadata": {},
     "output_type": "execute_result"
    }
   ],
   "source": [
    "select * from meibo where id = 8;"
   ]
  },
  {
   "cell_type": "code",
   "execution_count": null,
   "metadata": {
    "id": "ELrI3rUVwuuz"
   },
   "outputs": [],
   "source": [
    "update meibo\n",
    " set class = 7\n",
    " where id=8;"
   ]
  },
  {
   "cell_type": "code",
   "execution_count": null,
   "metadata": {
    "id": "-2g9Jygzwuuz",
    "outputId": "7ebfd8b4-941e-4ffc-aedd-2785e603af18"
   },
   "outputs": [
    {
     "data": {
      "text/html": [
       "<table>\n",
       "<tr>\n",
       "<th>id</th>\n",
       "<th>name</th>\n",
       "<th>class</th>\n",
       "<th>age</th>\n",
       "</tr>\n",
       "<tr>\n",
       "<td>8</td>\n",
       "<td>Sato</td>\n",
       "<td>7</td>\n",
       "<td>14</td>\n",
       "</tr>\n",
       "</table>\n",
       "1 row in set (0.00 sec)"
      ],
      "text/plain": [
       "+----+------+-------+-----+\n",
       "| id | name | class | age |\n",
       "+----+------+-------+-----+\n",
       "| 8  | Sato | 7     | 14  |\n",
       "+----+------+-------+-----+\n",
       "1 row in set (0.00 sec)"
      ]
     },
     "execution_count": 39,
     "metadata": {},
     "output_type": "execute_result"
    }
   ],
   "source": [
    "select * from meibo where id = 8;"
   ]
  },
  {
   "cell_type": "code",
   "execution_count": null,
   "metadata": {
    "id": "72-PCQXLwuuz"
   },
   "outputs": [],
   "source": [
    "update meibo\n",
    " set class = 1\n",
    " where id=8;"
   ]
  },
  {
   "cell_type": "code",
   "execution_count": null,
   "metadata": {
    "id": "OamO0TN7wuuz",
    "outputId": "306db0cf-3991-46c7-9666-7570a964f5ea"
   },
   "outputs": [
    {
     "data": {
      "text/html": [
       "<table>\n",
       "<tr>\n",
       "<th>id</th>\n",
       "<th>name</th>\n",
       "<th>class</th>\n",
       "<th>age</th>\n",
       "</tr>\n",
       "<tr>\n",
       "<td>8</td>\n",
       "<td>Sato</td>\n",
       "<td>1</td>\n",
       "<td>14</td>\n",
       "</tr>\n",
       "</table>\n",
       "1 row in set (0.00 sec)"
      ],
      "text/plain": [
       "+----+------+-------+-----+\n",
       "| id | name | class | age |\n",
       "+----+------+-------+-----+\n",
       "| 8  | Sato | 1     | 14  |\n",
       "+----+------+-------+-----+\n",
       "1 row in set (0.00 sec)"
      ]
     },
     "execution_count": 41,
     "metadata": {},
     "output_type": "execute_result"
    }
   ],
   "source": [
    "select * from meibo where id = 8;"
   ]
  },
  {
   "cell_type": "markdown",
   "metadata": {
    "id": "1P7rtAV-wuuz"
   },
   "source": [
    "#### <練習問題 3>　(※必須問題：以降の問題で使います。)\n",
    "\n",
    "上記と同じテーブルmeiboに新しい列heightという身長を追加してください。さらに、id=1から4までの人は150、id=5から6までの人は155、id=7から8までの人は160でアップデートしてください。"
   ]
  },
  {
   "cell_type": "code",
   "execution_count": null,
   "metadata": {
    "id": "C9zPpMqJwuu0"
   },
   "outputs": [],
   "source": [
    "alter table meibo add height int;"
   ]
  },
  {
   "cell_type": "code",
   "execution_count": null,
   "metadata": {
    "id": "REhbEVhUwuu0"
   },
   "outputs": [],
   "source": [
    "update meibo\n",
    " set height=150\n",
    " where id<=4;"
   ]
  },
  {
   "cell_type": "code",
   "execution_count": null,
   "metadata": {
    "id": "JvlIgAJCwuu0"
   },
   "outputs": [],
   "source": [
    "update meibo\n",
    " set height=155\n",
    " where id>=5 and id<=6;"
   ]
  },
  {
   "cell_type": "code",
   "execution_count": null,
   "metadata": {
    "id": "vYnPvvAIwuu0"
   },
   "outputs": [],
   "source": [
    "update meibo\n",
    " set height=160\n",
    " where id>=7;"
   ]
  },
  {
   "cell_type": "code",
   "execution_count": null,
   "metadata": {
    "id": "yWbZT1e8wuu0",
    "outputId": "f04d3a2a-961a-442b-9d26-fe905f2c9b70"
   },
   "outputs": [
    {
     "data": {
      "text/html": [
       "<table>\n",
       "<tr>\n",
       "<th>id</th>\n",
       "<th>name</th>\n",
       "<th>class</th>\n",
       "<th>age</th>\n",
       "<th>height</th>\n",
       "</tr>\n",
       "<tr>\n",
       "<td>1</td>\n",
       "<td>Yamada</td>\n",
       "<td>1</td>\n",
       "<td>14</td>\n",
       "<td>150</td>\n",
       "</tr>\n",
       "<tr>\n",
       "<td>2</td>\n",
       "<td>Tanaka</td>\n",
       "<td>2</td>\n",
       "<td>13</td>\n",
       "<td>150</td>\n",
       "</tr>\n",
       "<tr>\n",
       "<td>3</td>\n",
       "<td>Suzuki</td>\n",
       "<td>1</td>\n",
       "<td>13</td>\n",
       "<td>150</td>\n",
       "</tr>\n",
       "<tr>\n",
       "<td>4</td>\n",
       "<td>Kato</td>\n",
       "<td>2</td>\n",
       "<td>15</td>\n",
       "<td>150</td>\n",
       "</tr>\n",
       "<tr>\n",
       "<td>5</td>\n",
       "<td>Ito</td>\n",
       "<td>3</td>\n",
       "<td>12</td>\n",
       "<td>155</td>\n",
       "</tr>\n",
       "<tr>\n",
       "<td>6</td>\n",
       "<td>Takeuchi</td>\n",
       "<td>2</td>\n",
       "<td>16</td>\n",
       "<td>155</td>\n",
       "</tr>\n",
       "<tr>\n",
       "<td>7</td>\n",
       "<td>Kimura</td>\n",
       "<td>3</td>\n",
       "<td>11</td>\n",
       "<td>160</td>\n",
       "</tr>\n",
       "<tr>\n",
       "<td>8</td>\n",
       "<td>Sato</td>\n",
       "<td>1</td>\n",
       "<td>14</td>\n",
       "<td>160</td>\n",
       "</tr>\n",
       "</table>\n",
       "8 rows in set (0.00 sec)"
      ],
      "text/plain": [
       "+----+----------+-------+-----+--------+\n",
       "| id | name     | class | age | height |\n",
       "+----+----------+-------+-----+--------+\n",
       "| 1  | Yamada   | 1     | 14  | 150    |\n",
       "+----+----------+-------+-----+--------+\n",
       "| 2  | Tanaka   | 2     | 13  | 150    |\n",
       "+----+----------+-------+-----+--------+\n",
       "| 3  | Suzuki   | 1     | 13  | 150    |\n",
       "+----+----------+-------+-----+--------+\n",
       "| 4  | Kato     | 2     | 15  | 150    |\n",
       "+----+----------+-------+-----+--------+\n",
       "| 5  | Ito      | 3     | 12  | 155    |\n",
       "+----+----------+-------+-----+--------+\n",
       "| 6  | Takeuchi | 2     | 16  | 155    |\n",
       "+----+----------+-------+-----+--------+\n",
       "| 7  | Kimura   | 3     | 11  | 160    |\n",
       "+----+----------+-------+-----+--------+\n",
       "| 8  | Sato     | 1     | 14  | 160    |\n",
       "+----+----------+-------+-----+--------+\n",
       "8 rows in set (0.00 sec)"
      ]
     },
     "execution_count": 46,
     "metadata": {},
     "output_type": "execute_result"
    }
   ],
   "source": [
    "select * from meibo;"
   ]
  },
  {
   "cell_type": "markdown",
   "metadata": {
    "id": "ISMTWcHIwuu0"
   },
   "source": [
    "### 7.2.3 データの集計、演算、並び替え\n",
    "キーワード：count,distinct,order,avg,sum,limit"
   ]
  },
  {
   "cell_type": "markdown",
   "metadata": {
    "id": "_pm1Uw7Zwuu0"
   },
   "source": [
    "次は、SQLを使った集計になります。データを見るときにまず気になるのが、何レコードあるかということです。以下で、データが何行あるかカウントするために、countを使っています。"
   ]
  },
  {
   "cell_type": "code",
   "execution_count": null,
   "metadata": {
    "id": "TywcEYKqwuu1",
    "outputId": "80f4ace2-4b5c-417e-c41f-ddb4b87a31a5",
    "scrolled": true
   },
   "outputs": [
    {
     "data": {
      "text/html": [
       "<table>\n",
       "<tr>\n",
       "<th>count(*)</th>\n",
       "</tr>\n",
       "<tr>\n",
       "<td>8</td>\n",
       "</tr>\n",
       "</table>\n",
       "1 row in set (0.00 sec)"
      ],
      "text/plain": [
       "+----------+\n",
       "| count(*) |\n",
       "+----------+\n",
       "| 8        |\n",
       "+----------+\n",
       "1 row in set (0.00 sec)"
      ]
     },
     "execution_count": 47,
     "metadata": {},
     "output_type": "execute_result"
    }
   ],
   "source": [
    "select count(*) from meibo;"
   ]
  },
  {
   "cell_type": "markdown",
   "metadata": {
    "id": "ZnDNX6gFwuu1"
   },
   "source": [
    "なお、asで名前をつけることができます。エイリアスといいます。cntというカラム名をつけてみましょう。"
   ]
  },
  {
   "cell_type": "code",
   "execution_count": null,
   "metadata": {
    "id": "SNjmfxxcwuu1",
    "outputId": "9c6898ef-faa0-408d-9199-5d3cf022bf1f"
   },
   "outputs": [
    {
     "data": {
      "text/html": [
       "<table>\n",
       "<tr>\n",
       "<th>cnt</th>\n",
       "</tr>\n",
       "<tr>\n",
       "<td>8</td>\n",
       "</tr>\n",
       "</table>\n",
       "1 row in set (0.00 sec)"
      ],
      "text/plain": [
       "+-----+\n",
       "| cnt |\n",
       "+-----+\n",
       "| 8   |\n",
       "+-----+\n",
       "1 row in set (0.00 sec)"
      ]
     },
     "execution_count": 48,
     "metadata": {},
     "output_type": "execute_result"
    }
   ],
   "source": [
    "select count(*) as cnt from meibo;"
   ]
  },
  {
   "cell_type": "markdown",
   "metadata": {
    "id": "LX5uX152wuu1"
   },
   "source": [
    "次は、このcountを使って、異なる種類のデータを数えてみます。具体的には、先ほどレコード数は8レコードありましたが、異なるクラスは何クラスあるでしょうか。countとdistinct を併用することで、重複を除いた件数をカウントできます。"
   ]
  },
  {
   "cell_type": "code",
   "execution_count": null,
   "metadata": {
    "id": "Hl0c_Tulwuu1",
    "outputId": "116b2323-8223-4055-9785-d2a87b2db6e0",
    "scrolled": true
   },
   "outputs": [
    {
     "data": {
      "text/html": [
       "<table>\n",
       "<tr>\n",
       "<th>classCnt</th>\n",
       "</tr>\n",
       "<tr>\n",
       "<td>3</td>\n",
       "</tr>\n",
       "</table>\n",
       "1 row in set (0.00 sec)"
      ],
      "text/plain": [
       "+----------+\n",
       "| classCnt |\n",
       "+----------+\n",
       "| 3        |\n",
       "+----------+\n",
       "1 row in set (0.00 sec)"
      ]
     },
     "execution_count": 49,
     "metadata": {},
     "output_type": "execute_result"
    }
   ],
   "source": [
    "select count(distinct class) as classCnt from meibo;"
   ]
  },
  {
   "cell_type": "markdown",
   "metadata": {
    "id": "gvJbdyxtwuu1"
   },
   "source": [
    "次は、平均を計算します。以下は、平均年齢を計算しています。avgを使います。"
   ]
  },
  {
   "cell_type": "code",
   "execution_count": null,
   "metadata": {
    "id": "OSeMHw27wuu1",
    "outputId": "5f188848-44e1-4d61-ca1c-4c02c760d25d"
   },
   "outputs": [
    {
     "data": {
      "text/html": [
       "<table>\n",
       "<tr>\n",
       "<th>avgAge</th>\n",
       "</tr>\n",
       "<tr>\n",
       "<td>13.5</td>\n",
       "</tr>\n",
       "</table>\n",
       "1 row in set (0.00 sec)"
      ],
      "text/plain": [
       "+--------+\n",
       "| avgAge |\n",
       "+--------+\n",
       "| 13.5   |\n",
       "+--------+\n",
       "1 row in set (0.00 sec)"
      ]
     },
     "execution_count": 50,
     "metadata": {},
     "output_type": "execute_result"
    }
   ],
   "source": [
    "select avg(age) as avgAge from meibo;"
   ]
  },
  {
   "cell_type": "markdown",
   "metadata": {
    "id": "6Rgd4BEYwuu2"
   },
   "source": [
    "なお、sum関数を使うと合計されますが、年齢の合計の用途はあまりなさそうです。ここでは、先ほどのcountと組み合わせて、平均年齢を算出しましょう。上記の結果と同じになっていることがわかります。このように、selectの中で演算が可能です。"
   ]
  },
  {
   "cell_type": "code",
   "execution_count": null,
   "metadata": {
    "id": "Ma3pf4dnwuu2",
    "outputId": "a37641ff-6c06-4d5e-fcf1-22f7fd9221f6"
   },
   "outputs": [
    {
     "data": {
      "text/html": [
       "<table>\n",
       "<tr>\n",
       "<th>avgAge</th>\n",
       "</tr>\n",
       "<tr>\n",
       "<td>13.5</td>\n",
       "</tr>\n",
       "</table>\n",
       "1 row in set (0.00 sec)"
      ],
      "text/plain": [
       "+--------+\n",
       "| avgAge |\n",
       "+--------+\n",
       "| 13.5   |\n",
       "+--------+\n",
       "1 row in set (0.00 sec)"
      ]
     },
     "execution_count": 51,
     "metadata": {},
     "output_type": "execute_result"
    }
   ],
   "source": [
    "select cast(sum(age) as REAL) / CAST(count(*) as REAL) as avgAge from meibo;"
   ]
  },
  {
   "cell_type": "markdown",
   "metadata": {
    "id": "SnlKC8w3wuu2"
   },
   "source": [
    "年齢最大値と最小値は以下のように記述します。最年少が11歳、最年長が16歳とわかります。"
   ]
  },
  {
   "cell_type": "code",
   "execution_count": null,
   "metadata": {
    "id": "qEhGZJW9wuu2",
    "outputId": "01950b94-b917-4362-a7df-d8b685760ff3"
   },
   "outputs": [
    {
     "data": {
      "text/html": [
       "<table>\n",
       "<tr>\n",
       "<th>minAge</th>\n",
       "<th>maxAge</th>\n",
       "</tr>\n",
       "<tr>\n",
       "<td>11</td>\n",
       "<td>16</td>\n",
       "</tr>\n",
       "</table>\n",
       "1 row in set (0.00 sec)"
      ],
      "text/plain": [
       "+--------+--------+\n",
       "| minAge | maxAge |\n",
       "+--------+--------+\n",
       "| 11     | 16     |\n",
       "+--------+--------+\n",
       "1 row in set (0.00 sec)"
      ]
     },
     "execution_count": 52,
     "metadata": {},
     "output_type": "execute_result"
    }
   ],
   "source": [
    "select min(age) as minAge, max(age) as maxAge from meibo;"
   ]
  },
  {
   "cell_type": "markdown",
   "metadata": {
    "id": "7T16QDtQwuu2"
   },
   "source": [
    "次は、idを軸として降順に並べてみましょう。並び替えはorder by カラム名を使います。descをつけることで、降順（大きいものから小さいものの順番）になります。"
   ]
  },
  {
   "cell_type": "code",
   "execution_count": null,
   "metadata": {
    "id": "WbqDhkt5wuu2",
    "outputId": "7e33890a-9db9-4424-e509-94514a380de4",
    "scrolled": true
   },
   "outputs": [
    {
     "data": {
      "text/html": [
       "<table>\n",
       "<tr>\n",
       "<th>id</th>\n",
       "<th>name</th>\n",
       "<th>class</th>\n",
       "<th>age</th>\n",
       "<th>height</th>\n",
       "</tr>\n",
       "<tr>\n",
       "<td>8</td>\n",
       "<td>Sato</td>\n",
       "<td>1</td>\n",
       "<td>14</td>\n",
       "<td>160</td>\n",
       "</tr>\n",
       "<tr>\n",
       "<td>7</td>\n",
       "<td>Kimura</td>\n",
       "<td>3</td>\n",
       "<td>11</td>\n",
       "<td>160</td>\n",
       "</tr>\n",
       "<tr>\n",
       "<td>6</td>\n",
       "<td>Takeuchi</td>\n",
       "<td>2</td>\n",
       "<td>16</td>\n",
       "<td>155</td>\n",
       "</tr>\n",
       "<tr>\n",
       "<td>5</td>\n",
       "<td>Ito</td>\n",
       "<td>3</td>\n",
       "<td>12</td>\n",
       "<td>155</td>\n",
       "</tr>\n",
       "<tr>\n",
       "<td>4</td>\n",
       "<td>Kato</td>\n",
       "<td>2</td>\n",
       "<td>15</td>\n",
       "<td>150</td>\n",
       "</tr>\n",
       "<tr>\n",
       "<td>3</td>\n",
       "<td>Suzuki</td>\n",
       "<td>1</td>\n",
       "<td>13</td>\n",
       "<td>150</td>\n",
       "</tr>\n",
       "<tr>\n",
       "<td>2</td>\n",
       "<td>Tanaka</td>\n",
       "<td>2</td>\n",
       "<td>13</td>\n",
       "<td>150</td>\n",
       "</tr>\n",
       "<tr>\n",
       "<td>1</td>\n",
       "<td>Yamada</td>\n",
       "<td>1</td>\n",
       "<td>14</td>\n",
       "<td>150</td>\n",
       "</tr>\n",
       "</table>\n",
       "8 rows in set (0.00 sec)"
      ],
      "text/plain": [
       "+----+----------+-------+-----+--------+\n",
       "| id | name     | class | age | height |\n",
       "+----+----------+-------+-----+--------+\n",
       "| 8  | Sato     | 1     | 14  | 160    |\n",
       "+----+----------+-------+-----+--------+\n",
       "| 7  | Kimura   | 3     | 11  | 160    |\n",
       "+----+----------+-------+-----+--------+\n",
       "| 6  | Takeuchi | 2     | 16  | 155    |\n",
       "+----+----------+-------+-----+--------+\n",
       "| 5  | Ito      | 3     | 12  | 155    |\n",
       "+----+----------+-------+-----+--------+\n",
       "| 4  | Kato     | 2     | 15  | 150    |\n",
       "+----+----------+-------+-----+--------+\n",
       "| 3  | Suzuki   | 1     | 13  | 150    |\n",
       "+----+----------+-------+-----+--------+\n",
       "| 2  | Tanaka   | 2     | 13  | 150    |\n",
       "+----+----------+-------+-----+--------+\n",
       "| 1  | Yamada   | 1     | 14  | 150    |\n",
       "+----+----------+-------+-----+--------+\n",
       "8 rows in set (0.00 sec)"
      ]
     },
     "execution_count": 53,
     "metadata": {},
     "output_type": "execute_result"
    }
   ],
   "source": [
    "select * from meibo order by id desc;"
   ]
  },
  {
   "cell_type": "markdown",
   "metadata": {
    "id": "INaAsTVswuu2"
   },
   "source": [
    "今度は、ageを軸として昇順（小さいものから大きいものの順番）に並べてみましょう。デフォルトは昇順です。"
   ]
  },
  {
   "cell_type": "code",
   "execution_count": null,
   "metadata": {
    "id": "SshOM7Vswuu2",
    "outputId": "b4b23f2c-5a30-4e71-ea3b-9ebc477f9f4c"
   },
   "outputs": [
    {
     "data": {
      "text/html": [
       "<table>\n",
       "<tr>\n",
       "<th>id</th>\n",
       "<th>name</th>\n",
       "<th>class</th>\n",
       "<th>age</th>\n",
       "<th>height</th>\n",
       "</tr>\n",
       "<tr>\n",
       "<td>7</td>\n",
       "<td>Kimura</td>\n",
       "<td>3</td>\n",
       "<td>11</td>\n",
       "<td>160</td>\n",
       "</tr>\n",
       "<tr>\n",
       "<td>5</td>\n",
       "<td>Ito</td>\n",
       "<td>3</td>\n",
       "<td>12</td>\n",
       "<td>155</td>\n",
       "</tr>\n",
       "<tr>\n",
       "<td>2</td>\n",
       "<td>Tanaka</td>\n",
       "<td>2</td>\n",
       "<td>13</td>\n",
       "<td>150</td>\n",
       "</tr>\n",
       "<tr>\n",
       "<td>3</td>\n",
       "<td>Suzuki</td>\n",
       "<td>1</td>\n",
       "<td>13</td>\n",
       "<td>150</td>\n",
       "</tr>\n",
       "<tr>\n",
       "<td>1</td>\n",
       "<td>Yamada</td>\n",
       "<td>1</td>\n",
       "<td>14</td>\n",
       "<td>150</td>\n",
       "</tr>\n",
       "<tr>\n",
       "<td>8</td>\n",
       "<td>Sato</td>\n",
       "<td>1</td>\n",
       "<td>14</td>\n",
       "<td>160</td>\n",
       "</tr>\n",
       "<tr>\n",
       "<td>4</td>\n",
       "<td>Kato</td>\n",
       "<td>2</td>\n",
       "<td>15</td>\n",
       "<td>150</td>\n",
       "</tr>\n",
       "<tr>\n",
       "<td>6</td>\n",
       "<td>Takeuchi</td>\n",
       "<td>2</td>\n",
       "<td>16</td>\n",
       "<td>155</td>\n",
       "</tr>\n",
       "</table>\n",
       "8 rows in set (0.00 sec)"
      ],
      "text/plain": [
       "+----+----------+-------+-----+--------+\n",
       "| id | name     | class | age | height |\n",
       "+----+----------+-------+-----+--------+\n",
       "| 7  | Kimura   | 3     | 11  | 160    |\n",
       "+----+----------+-------+-----+--------+\n",
       "| 5  | Ito      | 3     | 12  | 155    |\n",
       "+----+----------+-------+-----+--------+\n",
       "| 2  | Tanaka   | 2     | 13  | 150    |\n",
       "+----+----------+-------+-----+--------+\n",
       "| 3  | Suzuki   | 1     | 13  | 150    |\n",
       "+----+----------+-------+-----+--------+\n",
       "| 1  | Yamada   | 1     | 14  | 150    |\n",
       "+----+----------+-------+-----+--------+\n",
       "| 8  | Sato     | 1     | 14  | 160    |\n",
       "+----+----------+-------+-----+--------+\n",
       "| 4  | Kato     | 2     | 15  | 150    |\n",
       "+----+----------+-------+-----+--------+\n",
       "| 6  | Takeuchi | 2     | 16  | 155    |\n",
       "+----+----------+-------+-----+--------+\n",
       "8 rows in set (0.00 sec)"
      ]
     },
     "execution_count": 54,
     "metadata": {},
     "output_type": "execute_result"
    }
   ],
   "source": [
    "select * from meibo order by age;"
   ]
  },
  {
   "cell_type": "markdown",
   "metadata": {
    "id": "XBT_sQQtwuu3"
   },
   "source": [
    "class,ageの2つの軸で昇順に並べてみましょう。なお、優先順位は先に記述したカラムになります。この場合は、classです。"
   ]
  },
  {
   "cell_type": "code",
   "execution_count": null,
   "metadata": {
    "id": "YrBEM_yawuu3",
    "outputId": "3c2f3426-c8a7-4f44-e7aa-abb39d91cdc8"
   },
   "outputs": [
    {
     "data": {
      "text/html": [
       "<table>\n",
       "<tr>\n",
       "<th>id</th>\n",
       "<th>name</th>\n",
       "<th>class</th>\n",
       "<th>age</th>\n",
       "<th>height</th>\n",
       "</tr>\n",
       "<tr>\n",
       "<td>3</td>\n",
       "<td>Suzuki</td>\n",
       "<td>1</td>\n",
       "<td>13</td>\n",
       "<td>150</td>\n",
       "</tr>\n",
       "<tr>\n",
       "<td>1</td>\n",
       "<td>Yamada</td>\n",
       "<td>1</td>\n",
       "<td>14</td>\n",
       "<td>150</td>\n",
       "</tr>\n",
       "<tr>\n",
       "<td>8</td>\n",
       "<td>Sato</td>\n",
       "<td>1</td>\n",
       "<td>14</td>\n",
       "<td>160</td>\n",
       "</tr>\n",
       "<tr>\n",
       "<td>2</td>\n",
       "<td>Tanaka</td>\n",
       "<td>2</td>\n",
       "<td>13</td>\n",
       "<td>150</td>\n",
       "</tr>\n",
       "<tr>\n",
       "<td>4</td>\n",
       "<td>Kato</td>\n",
       "<td>2</td>\n",
       "<td>15</td>\n",
       "<td>150</td>\n",
       "</tr>\n",
       "<tr>\n",
       "<td>6</td>\n",
       "<td>Takeuchi</td>\n",
       "<td>2</td>\n",
       "<td>16</td>\n",
       "<td>155</td>\n",
       "</tr>\n",
       "<tr>\n",
       "<td>7</td>\n",
       "<td>Kimura</td>\n",
       "<td>3</td>\n",
       "<td>11</td>\n",
       "<td>160</td>\n",
       "</tr>\n",
       "<tr>\n",
       "<td>5</td>\n",
       "<td>Ito</td>\n",
       "<td>3</td>\n",
       "<td>12</td>\n",
       "<td>155</td>\n",
       "</tr>\n",
       "</table>\n",
       "8 rows in set (0.00 sec)"
      ],
      "text/plain": [
       "+----+----------+-------+-----+--------+\n",
       "| id | name     | class | age | height |\n",
       "+----+----------+-------+-----+--------+\n",
       "| 3  | Suzuki   | 1     | 13  | 150    |\n",
       "+----+----------+-------+-----+--------+\n",
       "| 1  | Yamada   | 1     | 14  | 150    |\n",
       "+----+----------+-------+-----+--------+\n",
       "| 8  | Sato     | 1     | 14  | 160    |\n",
       "+----+----------+-------+-----+--------+\n",
       "| 2  | Tanaka   | 2     | 13  | 150    |\n",
       "+----+----------+-------+-----+--------+\n",
       "| 4  | Kato     | 2     | 15  | 150    |\n",
       "+----+----------+-------+-----+--------+\n",
       "| 6  | Takeuchi | 2     | 16  | 155    |\n",
       "+----+----------+-------+-----+--------+\n",
       "| 7  | Kimura   | 3     | 11  | 160    |\n",
       "+----+----------+-------+-----+--------+\n",
       "| 5  | Ito      | 3     | 12  | 155    |\n",
       "+----+----------+-------+-----+--------+\n",
       "8 rows in set (0.00 sec)"
      ]
     },
     "execution_count": 55,
     "metadata": {},
     "output_type": "execute_result"
    }
   ],
   "source": [
    "select * from meibo order by class,age;"
   ]
  },
  {
   "cell_type": "markdown",
   "metadata": {
    "id": "F6mkK0Zqwuu3"
   },
   "source": [
    "limitを使うと行数の制限ができます。数多くのデータがありそうなときは、limitを使ってデータを確認しましょう。"
   ]
  },
  {
   "cell_type": "code",
   "execution_count": null,
   "metadata": {
    "id": "hIkj-4dQwuu3",
    "outputId": "2fe1c085-2a4b-4dbc-c952-bb1e44992e9e"
   },
   "outputs": [
    {
     "data": {
      "text/html": [
       "<table>\n",
       "<tr>\n",
       "<th>id</th>\n",
       "<th>name</th>\n",
       "<th>class</th>\n",
       "<th>age</th>\n",
       "<th>height</th>\n",
       "</tr>\n",
       "<tr>\n",
       "<td>1</td>\n",
       "<td>Yamada</td>\n",
       "<td>1</td>\n",
       "<td>14</td>\n",
       "<td>150</td>\n",
       "</tr>\n",
       "<tr>\n",
       "<td>2</td>\n",
       "<td>Tanaka</td>\n",
       "<td>2</td>\n",
       "<td>13</td>\n",
       "<td>150</td>\n",
       "</tr>\n",
       "<tr>\n",
       "<td>3</td>\n",
       "<td>Suzuki</td>\n",
       "<td>1</td>\n",
       "<td>13</td>\n",
       "<td>150</td>\n",
       "</tr>\n",
       "</table>\n",
       "3 rows in set (0.00 sec)"
      ],
      "text/plain": [
       "+----+--------+-------+-----+--------+\n",
       "| id | name   | class | age | height |\n",
       "+----+--------+-------+-----+--------+\n",
       "| 1  | Yamada | 1     | 14  | 150    |\n",
       "+----+--------+-------+-----+--------+\n",
       "| 2  | Tanaka | 2     | 13  | 150    |\n",
       "+----+--------+-------+-----+--------+\n",
       "| 3  | Suzuki | 1     | 13  | 150    |\n",
       "+----+--------+-------+-----+--------+\n",
       "3 rows in set (0.00 sec)"
      ]
     },
     "execution_count": 56,
     "metadata": {},
     "output_type": "execute_result"
    }
   ],
   "source": [
    "select * from meibo limit 3;"
   ]
  },
  {
   "cell_type": "markdown",
   "metadata": {
    "id": "8KFPVt9lwuu3"
   },
   "source": [
    "次は、複数条件での絞り込みです。同時条件で絞り込む場合はandを使います。"
   ]
  },
  {
   "cell_type": "code",
   "execution_count": null,
   "metadata": {
    "id": "-7scE1Dywuu3",
    "outputId": "c19726fb-3c36-46f2-ac42-1aa046e4e7ba"
   },
   "outputs": [
    {
     "data": {
      "text/html": [
       "<table>\n",
       "<tr>\n",
       "<th>id</th>\n",
       "<th>name</th>\n",
       "<th>class</th>\n",
       "<th>age</th>\n",
       "<th>height</th>\n",
       "</tr>\n",
       "<tr>\n",
       "<td>4</td>\n",
       "<td>Kato</td>\n",
       "<td>2</td>\n",
       "<td>15</td>\n",
       "<td>150</td>\n",
       "</tr>\n",
       "<tr>\n",
       "<td>6</td>\n",
       "<td>Takeuchi</td>\n",
       "<td>2</td>\n",
       "<td>16</td>\n",
       "<td>155</td>\n",
       "</tr>\n",
       "</table>\n",
       "2 rows in set (0.00 sec)"
      ],
      "text/plain": [
       "+----+----------+-------+-----+--------+\n",
       "| id | name     | class | age | height |\n",
       "+----+----------+-------+-----+--------+\n",
       "| 4  | Kato     | 2     | 15  | 150    |\n",
       "+----+----------+-------+-----+--------+\n",
       "| 6  | Takeuchi | 2     | 16  | 155    |\n",
       "+----+----------+-------+-----+--------+\n",
       "2 rows in set (0.00 sec)"
      ]
     },
     "execution_count": 57,
     "metadata": {},
     "output_type": "execute_result"
    }
   ],
   "source": [
    "select * from meibo where class=2 and age>=15;"
   ]
  },
  {
   "cell_type": "markdown",
   "metadata": {
    "id": "Bp0EsZUGwuu3"
   },
   "source": [
    "次は、or です。どちらか片方の条件を満たすものを絞り込む場合に使います。"
   ]
  },
  {
   "cell_type": "code",
   "execution_count": null,
   "metadata": {
    "id": "ydtO8IHowuu3",
    "outputId": "c8d500f7-4247-4d3f-c78a-874f3db67e9d"
   },
   "outputs": [
    {
     "data": {
      "text/html": [
       "<table>\n",
       "<tr>\n",
       "<th>id</th>\n",
       "<th>name</th>\n",
       "<th>class</th>\n",
       "<th>age</th>\n",
       "<th>height</th>\n",
       "</tr>\n",
       "<tr>\n",
       "<td>1</td>\n",
       "<td>Yamada</td>\n",
       "<td>1</td>\n",
       "<td>14</td>\n",
       "<td>150</td>\n",
       "</tr>\n",
       "<tr>\n",
       "<td>3</td>\n",
       "<td>Suzuki</td>\n",
       "<td>1</td>\n",
       "<td>13</td>\n",
       "<td>150</td>\n",
       "</tr>\n",
       "<tr>\n",
       "<td>4</td>\n",
       "<td>Kato</td>\n",
       "<td>2</td>\n",
       "<td>15</td>\n",
       "<td>150</td>\n",
       "</tr>\n",
       "<tr>\n",
       "<td>6</td>\n",
       "<td>Takeuchi</td>\n",
       "<td>2</td>\n",
       "<td>16</td>\n",
       "<td>155</td>\n",
       "</tr>\n",
       "<tr>\n",
       "<td>8</td>\n",
       "<td>Sato</td>\n",
       "<td>1</td>\n",
       "<td>14</td>\n",
       "<td>160</td>\n",
       "</tr>\n",
       "</table>\n",
       "5 rows in set (0.00 sec)"
      ],
      "text/plain": [
       "+----+----------+-------+-----+--------+\n",
       "| id | name     | class | age | height |\n",
       "+----+----------+-------+-----+--------+\n",
       "| 1  | Yamada   | 1     | 14  | 150    |\n",
       "+----+----------+-------+-----+--------+\n",
       "| 3  | Suzuki   | 1     | 13  | 150    |\n",
       "+----+----------+-------+-----+--------+\n",
       "| 4  | Kato     | 2     | 15  | 150    |\n",
       "+----+----------+-------+-----+--------+\n",
       "| 6  | Takeuchi | 2     | 16  | 155    |\n",
       "+----+----------+-------+-----+--------+\n",
       "| 8  | Sato     | 1     | 14  | 160    |\n",
       "+----+----------+-------+-----+--------+\n",
       "5 rows in set (0.00 sec)"
      ]
     },
     "execution_count": 58,
     "metadata": {},
     "output_type": "execute_result"
    }
   ],
   "source": [
    "select * from meibo where class=1 or age>=15;"
   ]
  },
  {
   "cell_type": "markdown",
   "metadata": {
    "id": "X41hDNuNwuu4"
   },
   "source": [
    ">**[ポイント]**\n",
    ">\n",
    ">count：レコードのカウント\n",
    ">\n",
    ">as：エイリアス（名前をつける）\n",
    ">\n",
    ">distinct ：重複なく区別する\n",
    ">\n",
    ">avg ：平均値\n",
    ">\n",
    ">max ：最大値\n",
    ">\n",
    ">min ：最小値\n",
    ">\n",
    ">order by カラム名：昇順に並び替え（降順はカラム名の後にdesc）"
   ]
  },
  {
   "cell_type": "markdown",
   "metadata": {
    "id": "KgDcQnfkwuu4"
   },
   "source": [
    "#### <練習問題 1>\n",
    "上記と同じmeiboテーブルで、異なる年齢は何種類でしょうか。"
   ]
  },
  {
   "cell_type": "code",
   "execution_count": null,
   "metadata": {
    "id": "fV0B1K7lwuu4",
    "outputId": "c470c7c9-7412-4812-b4c4-a2b7c0356b07",
    "scrolled": true
   },
   "outputs": [
    {
     "data": {
      "text/html": [
       "<table>\n",
       "<tr>\n",
       "<th>ageCnt</th>\n",
       "</tr>\n",
       "<tr>\n",
       "<td>6</td>\n",
       "</tr>\n",
       "</table>\n",
       "1 row in set (0.00 sec)"
      ],
      "text/plain": [
       "+--------+\n",
       "| ageCnt |\n",
       "+--------+\n",
       "| 6      |\n",
       "+--------+\n",
       "1 row in set (0.00 sec)"
      ]
     },
     "execution_count": 59,
     "metadata": {},
     "output_type": "execute_result"
    }
   ],
   "source": [
    "select count(distinct age) as ageCnt from meibo;"
   ]
  },
  {
   "cell_type": "markdown",
   "metadata": {
    "id": "8teX7ONvwuu4"
   },
   "source": [
    "#### <練習問題 2>\n",
    "身長が一番小さい人、大きい人の身長をそれぞれ求めてください。"
   ]
  },
  {
   "cell_type": "code",
   "execution_count": null,
   "metadata": {
    "id": "JOznibS7wuu4",
    "outputId": "eb2d6459-6259-401c-c9a9-ebb669754cee"
   },
   "outputs": [
    {
     "data": {
      "text/html": [
       "<table>\n",
       "<tr>\n",
       "<th>minHeight</th>\n",
       "<th>maxHeight</th>\n",
       "</tr>\n",
       "<tr>\n",
       "<td>150</td>\n",
       "<td>160</td>\n",
       "</tr>\n",
       "</table>\n",
       "1 row in set (0.00 sec)"
      ],
      "text/plain": [
       "+-----------+-----------+\n",
       "| minHeight | maxHeight |\n",
       "+-----------+-----------+\n",
       "| 150       | 160       |\n",
       "+-----------+-----------+\n",
       "1 row in set (0.00 sec)"
      ]
     },
     "execution_count": 60,
     "metadata": {},
     "output_type": "execute_result"
    }
   ],
   "source": [
    "select min(height) as minHeight, max(height) as maxHeight from meibo;"
   ]
  },
  {
   "cell_type": "markdown",
   "metadata": {
    "id": "HoTStCutwuu4"
   },
   "source": [
    "#### <練習問題 3>\n",
    "身長が155以上で、classが3のレコードを抽出してください。\n",
    "\n"
   ]
  },
  {
   "cell_type": "code",
   "execution_count": null,
   "metadata": {
    "id": "72o-JBGvwuu4",
    "outputId": "525dc257-b5eb-4b43-c53c-c504401c3f77"
   },
   "outputs": [
    {
     "data": {
      "text/html": [
       "<table>\n",
       "<tr>\n",
       "<th>id</th>\n",
       "<th>name</th>\n",
       "<th>class</th>\n",
       "<th>age</th>\n",
       "<th>height</th>\n",
       "</tr>\n",
       "<tr>\n",
       "<td>5</td>\n",
       "<td>Ito</td>\n",
       "<td>3</td>\n",
       "<td>12</td>\n",
       "<td>155</td>\n",
       "</tr>\n",
       "<tr>\n",
       "<td>7</td>\n",
       "<td>Kimura</td>\n",
       "<td>3</td>\n",
       "<td>11</td>\n",
       "<td>160</td>\n",
       "</tr>\n",
       "</table>\n",
       "2 rows in set (0.00 sec)"
      ],
      "text/plain": [
       "+----+--------+-------+-----+--------+\n",
       "| id | name   | class | age | height |\n",
       "+----+--------+-------+-----+--------+\n",
       "| 5  | Ito    | 3     | 12  | 155    |\n",
       "+----+--------+-------+-----+--------+\n",
       "| 7  | Kimura | 3     | 11  | 160    |\n",
       "+----+--------+-------+-----+--------+\n",
       "2 rows in set (0.00 sec)"
      ]
     },
     "execution_count": 61,
     "metadata": {},
     "output_type": "execute_result"
    }
   ],
   "source": [
    "select * from meibo where height>=155 and class=3;"
   ]
  },
  {
   "cell_type": "markdown",
   "metadata": {
    "id": "Sd6Yk9gQwuu5"
   },
   "source": [
    "### 7.2.4 グループごとの集計\n",
    "キーワード：group by, having"
   ]
  },
  {
   "cell_type": "markdown",
   "metadata": {
    "id": "cnIzTdIOwuu5"
   },
   "source": [
    "次は、SQLを使ってグループごとに集計してみましょう。似ているのはExcelのピボットテーブルの機能です。ここではクラスを軸にしてみます。次のコマンドは各クラスの人数を数えています。"
   ]
  },
  {
   "cell_type": "code",
   "execution_count": null,
   "metadata": {
    "id": "C6qdX3rzwuu5",
    "outputId": "a37b409d-2656-4bec-ef0c-66bc3065c846"
   },
   "outputs": [
    {
     "data": {
      "text/html": [
       "<table>\n",
       "<tr>\n",
       "<th>class</th>\n",
       "<th>num</th>\n",
       "</tr>\n",
       "<tr>\n",
       "<td>1</td>\n",
       "<td>3</td>\n",
       "</tr>\n",
       "<tr>\n",
       "<td>2</td>\n",
       "<td>3</td>\n",
       "</tr>\n",
       "<tr>\n",
       "<td>3</td>\n",
       "<td>2</td>\n",
       "</tr>\n",
       "</table>\n",
       "3 rows in set (0.00 sec)"
      ],
      "text/plain": [
       "+-------+-----+\n",
       "| class | num |\n",
       "+-------+-----+\n",
       "| 1     | 3   |\n",
       "+-------+-----+\n",
       "| 2     | 3   |\n",
       "+-------+-----+\n",
       "| 3     | 2   |\n",
       "+-------+-----+\n",
       "3 rows in set (0.00 sec)"
      ]
     },
     "execution_count": 62,
     "metadata": {},
     "output_type": "execute_result"
    }
   ],
   "source": [
    "select class, count(*) as num from meibo group by class;"
   ]
  },
  {
   "cell_type": "markdown",
   "metadata": {
    "id": "IExIpti-wuu5"
   },
   "source": [
    "平均を各グループごとに算出することも可能です。最小値、最大値も同様に算出できます。"
   ]
  },
  {
   "cell_type": "code",
   "execution_count": null,
   "metadata": {
    "id": "Hap_s9Szwuu5",
    "outputId": "4caad1af-d0c2-4513-ab66-f80ecf090366",
    "scrolled": true
   },
   "outputs": [
    {
     "data": {
      "text/html": [
       "<table>\n",
       "<tr>\n",
       "<th>class</th>\n",
       "<th>num</th>\n",
       "<th>avgAge</th>\n",
       "</tr>\n",
       "<tr>\n",
       "<td>1</td>\n",
       "<td>3</td>\n",
       "<td>13.6666666666667</td>\n",
       "</tr>\n",
       "<tr>\n",
       "<td>2</td>\n",
       "<td>3</td>\n",
       "<td>14.6666666666667</td>\n",
       "</tr>\n",
       "<tr>\n",
       "<td>3</td>\n",
       "<td>2</td>\n",
       "<td>11.5</td>\n",
       "</tr>\n",
       "</table>\n",
       "3 rows in set (0.00 sec)"
      ],
      "text/plain": [
       "+-------+-----+------------------+\n",
       "| class | num | avgAge           |\n",
       "+-------+-----+------------------+\n",
       "| 1     | 3   | 13.6666666666667 |\n",
       "+-------+-----+------------------+\n",
       "| 2     | 3   | 14.6666666666667 |\n",
       "+-------+-----+------------------+\n",
       "| 3     | 2   | 11.5             |\n",
       "+-------+-----+------------------+\n",
       "3 rows in set (0.00 sec)"
      ]
     },
     "execution_count": 63,
     "metadata": {},
     "output_type": "execute_result"
    }
   ],
   "source": [
    "select class, count(*) as num, avg(age) as avgAge from meibo group by class;"
   ]
  },
  {
   "cell_type": "markdown",
   "metadata": {
    "id": "tBJtR8vUwuu5"
   },
   "source": [
    "さらに条件付きで表示してみましょう。having を使っています。"
   ]
  },
  {
   "cell_type": "code",
   "execution_count": null,
   "metadata": {
    "id": "mPGWlCgwwuu5",
    "outputId": "3485e866-4fa4-4ac9-c434-248bafdfc804"
   },
   "outputs": [
    {
     "data": {
      "text/html": [
       "<table>\n",
       "<tr>\n",
       "<th>class</th>\n",
       "<th>avgAge</th>\n",
       "</tr>\n",
       "<tr>\n",
       "<td>1</td>\n",
       "<td>13.6666666666667</td>\n",
       "</tr>\n",
       "<tr>\n",
       "<td>2</td>\n",
       "<td>14.6666666666667</td>\n",
       "</tr>\n",
       "</table>\n",
       "2 rows in set (0.00 sec)"
      ],
      "text/plain": [
       "+-------+------------------+\n",
       "| class | avgAge           |\n",
       "+-------+------------------+\n",
       "| 1     | 13.6666666666667 |\n",
       "+-------+------------------+\n",
       "| 2     | 14.6666666666667 |\n",
       "+-------+------------------+\n",
       "2 rows in set (0.00 sec)"
      ]
     },
     "execution_count": 64,
     "metadata": {},
     "output_type": "execute_result"
    }
   ],
   "source": [
    "select class, avg(age) as avgAge from meibo group by class having avgAge>13;"
   ]
  },
  {
   "cell_type": "markdown",
   "metadata": {
    "id": "wjM-PnLLwuu5"
   },
   "source": [
    "whereと組み合わせることもできます。"
   ]
  },
  {
   "cell_type": "code",
   "execution_count": null,
   "metadata": {
    "id": "tOdjmu8jwuu5",
    "outputId": "fbef141a-8e04-4fde-9a57-cf91505e43dd"
   },
   "outputs": [
    {
     "data": {
      "text/html": [
       "<table>\n",
       "<tr>\n",
       "<th>class</th>\n",
       "<th>avgAge</th>\n",
       "</tr>\n",
       "<tr>\n",
       "<td>1</td>\n",
       "<td>14.0</td>\n",
       "</tr>\n",
       "<tr>\n",
       "<td>2</td>\n",
       "<td>15.5</td>\n",
       "</tr>\n",
       "</table>\n",
       "2 rows in set (0.00 sec)"
      ],
      "text/plain": [
       "+-------+--------+\n",
       "| class | avgAge |\n",
       "+-------+--------+\n",
       "| 1     | 14.0   |\n",
       "+-------+--------+\n",
       "| 2     | 15.5   |\n",
       "+-------+--------+\n",
       "2 rows in set (0.00 sec)"
      ]
     },
     "execution_count": 65,
     "metadata": {},
     "output_type": "execute_result"
    }
   ],
   "source": [
    "select class, avg(age) as avgAge from meibo where age > 13 group by class;"
   ]
  },
  {
   "cell_type": "markdown",
   "metadata": {
    "id": "SPQashDfwuu6"
   },
   "source": [
    "whereとhavingはどちらも条件を絞っているのですが、whereはselectで抽出された中から条件を絞っていますが、havingはgroup byでグループ化した結果から条件を絞っています。"
   ]
  },
  {
   "cell_type": "markdown",
   "metadata": {
    "id": "r2EXVov2wuu6"
   },
   "source": [
    "次は、2つの軸を使った集計です。クラス×年齢でレコード数をカウントしています。"
   ]
  },
  {
   "cell_type": "code",
   "execution_count": null,
   "metadata": {
    "id": "HC5EDmuYwuu6",
    "outputId": "dd7a71ab-2636-4ad5-9483-3b9f1cefd6cd"
   },
   "outputs": [
    {
     "data": {
      "text/html": [
       "<table>\n",
       "<tr>\n",
       "<th>class</th>\n",
       "<th>age</th>\n",
       "<th>num</th>\n",
       "</tr>\n",
       "<tr>\n",
       "<td>1</td>\n",
       "<td>13</td>\n",
       "<td>1</td>\n",
       "</tr>\n",
       "<tr>\n",
       "<td>1</td>\n",
       "<td>14</td>\n",
       "<td>2</td>\n",
       "</tr>\n",
       "<tr>\n",
       "<td>2</td>\n",
       "<td>13</td>\n",
       "<td>1</td>\n",
       "</tr>\n",
       "<tr>\n",
       "<td>2</td>\n",
       "<td>15</td>\n",
       "<td>1</td>\n",
       "</tr>\n",
       "<tr>\n",
       "<td>2</td>\n",
       "<td>16</td>\n",
       "<td>1</td>\n",
       "</tr>\n",
       "<tr>\n",
       "<td>3</td>\n",
       "<td>11</td>\n",
       "<td>1</td>\n",
       "</tr>\n",
       "<tr>\n",
       "<td>3</td>\n",
       "<td>12</td>\n",
       "<td>1</td>\n",
       "</tr>\n",
       "</table>\n",
       "7 rows in set (0.00 sec)"
      ],
      "text/plain": [
       "+-------+-----+-----+\n",
       "| class | age | num |\n",
       "+-------+-----+-----+\n",
       "| 1     | 13  | 1   |\n",
       "+-------+-----+-----+\n",
       "| 1     | 14  | 2   |\n",
       "+-------+-----+-----+\n",
       "| 2     | 13  | 1   |\n",
       "+-------+-----+-----+\n",
       "| 2     | 15  | 1   |\n",
       "+-------+-----+-----+\n",
       "| 2     | 16  | 1   |\n",
       "+-------+-----+-----+\n",
       "| 3     | 11  | 1   |\n",
       "+-------+-----+-----+\n",
       "| 3     | 12  | 1   |\n",
       "+-------+-----+-----+\n",
       "7 rows in set (0.00 sec)"
      ]
     },
     "execution_count": 66,
     "metadata": {},
     "output_type": "execute_result"
    }
   ],
   "source": [
    "select class, age, count(*) as num from meibo group by class,age;"
   ]
  },
  {
   "cell_type": "markdown",
   "metadata": {
    "id": "JyAyulB9wuu6"
   },
   "source": [
    "番号（順）で指定して集計することも可能です。なお、group by は以下のように、呼び出している列の番号で指定することもできます。ただし、わからなくなる可能性がありますので、簡易集計以外のときにはカラム名を指定することをおすすめします。"
   ]
  },
  {
   "cell_type": "code",
   "execution_count": null,
   "metadata": {
    "id": "fCpW9nCYwuu6",
    "outputId": "7ea002de-c482-423e-9c07-58e8a211d16d"
   },
   "outputs": [
    {
     "data": {
      "text/html": [
       "<table>\n",
       "<tr>\n",
       "<th>class</th>\n",
       "<th>age</th>\n",
       "<th>num</th>\n",
       "</tr>\n",
       "<tr>\n",
       "<td>1</td>\n",
       "<td>13</td>\n",
       "<td>1</td>\n",
       "</tr>\n",
       "<tr>\n",
       "<td>1</td>\n",
       "<td>14</td>\n",
       "<td>2</td>\n",
       "</tr>\n",
       "<tr>\n",
       "<td>2</td>\n",
       "<td>13</td>\n",
       "<td>1</td>\n",
       "</tr>\n",
       "<tr>\n",
       "<td>2</td>\n",
       "<td>15</td>\n",
       "<td>1</td>\n",
       "</tr>\n",
       "<tr>\n",
       "<td>2</td>\n",
       "<td>16</td>\n",
       "<td>1</td>\n",
       "</tr>\n",
       "<tr>\n",
       "<td>3</td>\n",
       "<td>11</td>\n",
       "<td>1</td>\n",
       "</tr>\n",
       "<tr>\n",
       "<td>3</td>\n",
       "<td>12</td>\n",
       "<td>1</td>\n",
       "</tr>\n",
       "</table>\n",
       "7 rows in set (0.00 sec)"
      ],
      "text/plain": [
       "+-------+-----+-----+\n",
       "| class | age | num |\n",
       "+-------+-----+-----+\n",
       "| 1     | 13  | 1   |\n",
       "+-------+-----+-----+\n",
       "| 1     | 14  | 2   |\n",
       "+-------+-----+-----+\n",
       "| 2     | 13  | 1   |\n",
       "+-------+-----+-----+\n",
       "| 2     | 15  | 1   |\n",
       "+-------+-----+-----+\n",
       "| 2     | 16  | 1   |\n",
       "+-------+-----+-----+\n",
       "| 3     | 11  | 1   |\n",
       "+-------+-----+-----+\n",
       "| 3     | 12  | 1   |\n",
       "+-------+-----+-----+\n",
       "7 rows in set (0.00 sec)"
      ]
     },
     "execution_count": 67,
     "metadata": {},
     "output_type": "execute_result"
    }
   ],
   "source": [
    "select class, age, count(*) as num from meibo group by 1,2;"
   ]
  },
  {
   "cell_type": "markdown",
   "metadata": {
    "id": "Ore0sz-ywuu6"
   },
   "source": [
    ">**[ポイント]**\n",
    ">\n",
    ">group by：軸を設定\n",
    ">\n",
    ">having：条件設定"
   ]
  },
  {
   "cell_type": "markdown",
   "metadata": {
    "id": "fNgF94C5wuu7"
   },
   "source": [
    "#### <練習問題 1>\n",
    "\n",
    "meiboテーブルにてクラスごとの平均身長を求めてみましょう。"
   ]
  },
  {
   "cell_type": "code",
   "execution_count": null,
   "metadata": {
    "id": "pTCoP_fDwuu7",
    "outputId": "c90f88cd-0353-4b30-b72d-d4637be9f004"
   },
   "outputs": [],
   "source": [
    "/* 解答 */\n",
    "select class, avg(height) as avgHeight from meibo group by class;"
   ]
  },
  {
   "cell_type": "markdown",
   "metadata": {
    "id": "f8XmNWmBwuu7"
   },
   "source": [
    "#### <練習問題 2>\n",
    "\n",
    "上に加えて、クラスごとの人数、一番小さい人と、一番大きな人の身長もそれぞれのクラスで算出しましょう。"
   ]
  },
  {
   "cell_type": "code",
   "execution_count": null,
   "metadata": {
    "id": "BGeqCo4qwuu7",
    "outputId": "437fcb27-6741-4161-c694-85b7081004c3"
   },
   "outputs": [],
   "source": [
    "/* 解答 */\n",
    "select class,count(*) as cnt, min(height) as minHeight,max(height) as maxHeight from meibo group by class;"
   ]
  },
  {
   "cell_type": "markdown",
   "metadata": {
    "id": "-UeNLNNywuu7"
   },
   "source": [
    "#### <練習問題 3>\n",
    "\n",
    "年齢が13歳より上の人に絞って、上記と同じ項目を求めてください。"
   ]
  },
  {
   "cell_type": "code",
   "execution_count": null,
   "metadata": {
    "id": "Q6y-h7Obwuu7",
    "outputId": "098a1aa4-818f-4fdd-c617-3f5cbfcfc100"
   },
   "outputs": [],
   "source": [
    "/* 解答 */\n",
    "select class,count(*) as cnt, min(height) as minHeight,max(height) as maxHeight from meibo where age > 13 group by class;"
   ]
  },
  {
   "cell_type": "markdown",
   "metadata": {
    "id": "esWe9Uw8wuu8"
   },
   "source": [
    "### 7.2.5 複数テーブルの利用\n",
    "キーワード：union,union all, inner join, outer join,内部結合、外部結合、自己結合"
   ]
  },
  {
   "cell_type": "markdown",
   "metadata": {
    "id": "0ZxWQnEgwuu8"
   },
   "source": [
    "次は複数のテーブルを使って、データを操作してみましょう。準備のため、テーブルを作成します。テーブルの作成は以前に学んだ方法でも作成できますが、再び作成するのは面倒なので、すでに作成したテーブルを「コピー」しましょう。以下のように create で新規に作成するテーブル名を指定した後、テーブル構造を丸ごとコピーできます。"
   ]
  },
  {
   "cell_type": "code",
   "execution_count": null,
   "metadata": {
    "id": "BkCjrDKKwuu8"
   },
   "outputs": [],
   "source": [
    "/*前の練習問題で作成したテーブルは使わないので、一旦削除します*/\n",
    "drop table if exists meibo2;"
   ]
  },
  {
   "cell_type": "code",
   "execution_count": null,
   "metadata": {
    "id": "jLyyO6_Iwuu8",
    "outputId": "9a829270-7850-4bd3-97af-9228e00f2334",
    "scrolled": true
   },
   "outputs": [],
   "source": [
    "/* class=100000は存在しないため、レコードは０*/\n",
    "create table meibo2 as select * from meibo where class=10000;"
   ]
  },
  {
   "cell_type": "markdown",
   "metadata": {
    "id": "MHYLO3Hmwuu8"
   },
   "source": [
    "確認してみましょう。"
   ]
  },
  {
   "cell_type": "code",
   "execution_count": null,
   "metadata": {
    "id": "oXClvqP3wuu8",
    "outputId": "66e0c336-a87f-4aa3-d5e2-39b1d762b59b"
   },
   "outputs": [],
   "source": [
    "/*データの確認*/\n",
    "select * from  meibo2;"
   ]
  },
  {
   "cell_type": "markdown",
   "metadata": {
    "id": "Nnk0p2Ifwuu9"
   },
   "source": [
    "データを追加します。なお、１行目はわざとmeiboにある同じデータ（Yamada）を入れています。結果を確認してみてください。"
   ]
  },
  {
   "cell_type": "code",
   "execution_count": null,
   "metadata": {
    "id": "K8wVef14wuu9"
   },
   "outputs": [],
   "source": [
    "insert into meibo2 (id,name,class,age,height) \n",
    " values (1,\"Yamada\",1,14,150),\n",
    "        (9,\"Nagata\",4,11,160),\n",
    "        (10,\"Sugino\",2,13,150),\n",
    "        (11,\"Takayama\",1,14,155),\n",
    "        (12,\"John\",3,16,165);"
   ]
  },
  {
   "cell_type": "code",
   "execution_count": null,
   "metadata": {
    "id": "HzijThQ7wuu9",
    "outputId": "9b067f8f-1588-47d9-a66b-b0a60046c91a"
   },
   "outputs": [
    {
     "data": {
      "text/html": [
       "<table>\n",
       "<tr>\n",
       "<th>id</th>\n",
       "<th>name</th>\n",
       "<th>class</th>\n",
       "<th>age</th>\n",
       "<th>height</th>\n",
       "</tr>\n",
       "<tr>\n",
       "<td>1</td>\n",
       "<td>Yamada</td>\n",
       "<td>1</td>\n",
       "<td>14</td>\n",
       "<td>150</td>\n",
       "</tr>\n",
       "<tr>\n",
       "<td>9</td>\n",
       "<td>Nagata</td>\n",
       "<td>4</td>\n",
       "<td>11</td>\n",
       "<td>160</td>\n",
       "</tr>\n",
       "<tr>\n",
       "<td>10</td>\n",
       "<td>Sugino</td>\n",
       "<td>2</td>\n",
       "<td>13</td>\n",
       "<td>150</td>\n",
       "</tr>\n",
       "<tr>\n",
       "<td>11</td>\n",
       "<td>Takayama</td>\n",
       "<td>1</td>\n",
       "<td>14</td>\n",
       "<td>155</td>\n",
       "</tr>\n",
       "<tr>\n",
       "<td>12</td>\n",
       "<td>John</td>\n",
       "<td>3</td>\n",
       "<td>16</td>\n",
       "<td>165</td>\n",
       "</tr>\n",
       "</table>\n",
       "5 rows in set (0.00 sec)"
      ],
      "text/plain": [
       "+----+----------+-------+-----+--------+\n",
       "| id | name     | class | age | height |\n",
       "+----+----------+-------+-----+--------+\n",
       "| 1  | Yamada   | 1     | 14  | 150    |\n",
       "+----+----------+-------+-----+--------+\n",
       "| 9  | Nagata   | 4     | 11  | 160    |\n",
       "+----+----------+-------+-----+--------+\n",
       "| 10 | Sugino   | 2     | 13  | 150    |\n",
       "+----+----------+-------+-----+--------+\n",
       "| 11 | Takayama | 1     | 14  | 155    |\n",
       "+----+----------+-------+-----+--------+\n",
       "| 12 | John     | 3     | 16  | 165    |\n",
       "+----+----------+-------+-----+--------+\n",
       "5 rows in set (0.00 sec)"
      ]
     },
     "execution_count": 75,
     "metadata": {},
     "output_type": "execute_result"
    }
   ],
   "source": [
    "select * from  meibo2;"
   ]
  },
  {
   "cell_type": "markdown",
   "metadata": {
    "id": "9du0tuYHwuu9"
   },
   "source": [
    "データを結合してみましょう。unionを使います。なお、unionは重複レコードは省きますが、union allは重複も許容します。id=1の人がunion allの場合2レコードあるのがわかります。"
   ]
  },
  {
   "cell_type": "code",
   "execution_count": null,
   "metadata": {
    "id": "XQ5xjX0Hwuu9",
    "outputId": "e55fbc83-f68b-4cf6-b1c1-a506a89ca91b"
   },
   "outputs": [
    {
     "data": {
      "text/html": [
       "<table>\n",
       "<tr>\n",
       "<th>id</th>\n",
       "<th>name</th>\n",
       "<th>class</th>\n",
       "<th>age</th>\n",
       "<th>height</th>\n",
       "</tr>\n",
       "<tr>\n",
       "<td>1</td>\n",
       "<td>Yamada</td>\n",
       "<td>1</td>\n",
       "<td>14</td>\n",
       "<td>150</td>\n",
       "</tr>\n",
       "<tr>\n",
       "<td>2</td>\n",
       "<td>Tanaka</td>\n",
       "<td>2</td>\n",
       "<td>13</td>\n",
       "<td>150</td>\n",
       "</tr>\n",
       "<tr>\n",
       "<td>3</td>\n",
       "<td>Suzuki</td>\n",
       "<td>1</td>\n",
       "<td>13</td>\n",
       "<td>150</td>\n",
       "</tr>\n",
       "<tr>\n",
       "<td>4</td>\n",
       "<td>Kato</td>\n",
       "<td>2</td>\n",
       "<td>15</td>\n",
       "<td>150</td>\n",
       "</tr>\n",
       "<tr>\n",
       "<td>5</td>\n",
       "<td>Ito</td>\n",
       "<td>3</td>\n",
       "<td>12</td>\n",
       "<td>155</td>\n",
       "</tr>\n",
       "<tr>\n",
       "<td>6</td>\n",
       "<td>Takeuchi</td>\n",
       "<td>2</td>\n",
       "<td>16</td>\n",
       "<td>155</td>\n",
       "</tr>\n",
       "<tr>\n",
       "<td>7</td>\n",
       "<td>Kimura</td>\n",
       "<td>3</td>\n",
       "<td>11</td>\n",
       "<td>160</td>\n",
       "</tr>\n",
       "<tr>\n",
       "<td>8</td>\n",
       "<td>Sato</td>\n",
       "<td>1</td>\n",
       "<td>14</td>\n",
       "<td>160</td>\n",
       "</tr>\n",
       "<tr>\n",
       "<td>9</td>\n",
       "<td>Nagata</td>\n",
       "<td>4</td>\n",
       "<td>11</td>\n",
       "<td>160</td>\n",
       "</tr>\n",
       "<tr>\n",
       "<td>10</td>\n",
       "<td>Sugino</td>\n",
       "<td>2</td>\n",
       "<td>13</td>\n",
       "<td>150</td>\n",
       "</tr>\n",
       "<tr>\n",
       "<td>11</td>\n",
       "<td>Takayama</td>\n",
       "<td>1</td>\n",
       "<td>14</td>\n",
       "<td>155</td>\n",
       "</tr>\n",
       "<tr>\n",
       "<td>12</td>\n",
       "<td>John</td>\n",
       "<td>3</td>\n",
       "<td>16</td>\n",
       "<td>165</td>\n",
       "</tr>\n",
       "</table>\n",
       "12 rows in set (0.00 sec)"
      ],
      "text/plain": [
       "+----+----------+-------+-----+--------+\n",
       "| id | name     | class | age | height |\n",
       "+----+----------+-------+-----+--------+\n",
       "| 1  | Yamada   | 1     | 14  | 150    |\n",
       "+----+----------+-------+-----+--------+\n",
       "| 2  | Tanaka   | 2     | 13  | 150    |\n",
       "+----+----------+-------+-----+--------+\n",
       "| 3  | Suzuki   | 1     | 13  | 150    |\n",
       "+----+----------+-------+-----+--------+\n",
       "| 4  | Kato     | 2     | 15  | 150    |\n",
       "+----+----------+-------+-----+--------+\n",
       "| 5  | Ito      | 3     | 12  | 155    |\n",
       "+----+----------+-------+-----+--------+\n",
       "| 6  | Takeuchi | 2     | 16  | 155    |\n",
       "+----+----------+-------+-----+--------+\n",
       "| 7  | Kimura   | 3     | 11  | 160    |\n",
       "+----+----------+-------+-----+--------+\n",
       "| 8  | Sato     | 1     | 14  | 160    |\n",
       "+----+----------+-------+-----+--------+\n",
       "| 9  | Nagata   | 4     | 11  | 160    |\n",
       "+----+----------+-------+-----+--------+\n",
       "| 10 | Sugino   | 2     | 13  | 150    |\n",
       "+----+----------+-------+-----+--------+\n",
       "| 11 | Takayama | 1     | 14  | 155    |\n",
       "+----+----------+-------+-----+--------+\n",
       "| 12 | John     | 3     | 16  | 165    |\n",
       "+----+----------+-------+-----+--------+\n",
       "12 rows in set (0.00 sec)"
      ]
     },
     "execution_count": 76,
     "metadata": {},
     "output_type": "execute_result"
    }
   ],
   "source": [
    "select * from  meibo\n",
    "union\n",
    "select * from  meibo2;"
   ]
  },
  {
   "cell_type": "code",
   "execution_count": null,
   "metadata": {
    "id": "v25AbctNwuu9",
    "outputId": "06bafbae-a30a-4580-b0bd-bfda8d5f74b3"
   },
   "outputs": [
    {
     "data": {
      "text/html": [
       "<table>\n",
       "<tr>\n",
       "<th>id</th>\n",
       "<th>name</th>\n",
       "<th>class</th>\n",
       "<th>age</th>\n",
       "<th>height</th>\n",
       "</tr>\n",
       "<tr>\n",
       "<td>1</td>\n",
       "<td>Yamada</td>\n",
       "<td>1</td>\n",
       "<td>14</td>\n",
       "<td>150</td>\n",
       "</tr>\n",
       "<tr>\n",
       "<td>2</td>\n",
       "<td>Tanaka</td>\n",
       "<td>2</td>\n",
       "<td>13</td>\n",
       "<td>150</td>\n",
       "</tr>\n",
       "<tr>\n",
       "<td>3</td>\n",
       "<td>Suzuki</td>\n",
       "<td>1</td>\n",
       "<td>13</td>\n",
       "<td>150</td>\n",
       "</tr>\n",
       "<tr>\n",
       "<td>4</td>\n",
       "<td>Kato</td>\n",
       "<td>2</td>\n",
       "<td>15</td>\n",
       "<td>150</td>\n",
       "</tr>\n",
       "<tr>\n",
       "<td>5</td>\n",
       "<td>Ito</td>\n",
       "<td>3</td>\n",
       "<td>12</td>\n",
       "<td>155</td>\n",
       "</tr>\n",
       "<tr>\n",
       "<td>6</td>\n",
       "<td>Takeuchi</td>\n",
       "<td>2</td>\n",
       "<td>16</td>\n",
       "<td>155</td>\n",
       "</tr>\n",
       "<tr>\n",
       "<td>7</td>\n",
       "<td>Kimura</td>\n",
       "<td>3</td>\n",
       "<td>11</td>\n",
       "<td>160</td>\n",
       "</tr>\n",
       "<tr>\n",
       "<td>8</td>\n",
       "<td>Sato</td>\n",
       "<td>1</td>\n",
       "<td>14</td>\n",
       "<td>160</td>\n",
       "</tr>\n",
       "<tr>\n",
       "<td>1</td>\n",
       "<td>Yamada</td>\n",
       "<td>1</td>\n",
       "<td>14</td>\n",
       "<td>150</td>\n",
       "</tr>\n",
       "<tr>\n",
       "<td>9</td>\n",
       "<td>Nagata</td>\n",
       "<td>4</td>\n",
       "<td>11</td>\n",
       "<td>160</td>\n",
       "</tr>\n",
       "<tr>\n",
       "<td>10</td>\n",
       "<td>Sugino</td>\n",
       "<td>2</td>\n",
       "<td>13</td>\n",
       "<td>150</td>\n",
       "</tr>\n",
       "<tr>\n",
       "<td>11</td>\n",
       "<td>Takayama</td>\n",
       "<td>1</td>\n",
       "<td>14</td>\n",
       "<td>155</td>\n",
       "</tr>\n",
       "<tr>\n",
       "<td>12</td>\n",
       "<td>John</td>\n",
       "<td>3</td>\n",
       "<td>16</td>\n",
       "<td>165</td>\n",
       "</tr>\n",
       "</table>\n",
       "13 rows in set (0.00 sec)"
      ],
      "text/plain": [
       "+----+----------+-------+-----+--------+\n",
       "| id | name     | class | age | height |\n",
       "+----+----------+-------+-----+--------+\n",
       "| 1  | Yamada   | 1     | 14  | 150    |\n",
       "+----+----------+-------+-----+--------+\n",
       "| 2  | Tanaka   | 2     | 13  | 150    |\n",
       "+----+----------+-------+-----+--------+\n",
       "| 3  | Suzuki   | 1     | 13  | 150    |\n",
       "+----+----------+-------+-----+--------+\n",
       "| 4  | Kato     | 2     | 15  | 150    |\n",
       "+----+----------+-------+-----+--------+\n",
       "| 5  | Ito      | 3     | 12  | 155    |\n",
       "+----+----------+-------+-----+--------+\n",
       "| 6  | Takeuchi | 2     | 16  | 155    |\n",
       "+----+----------+-------+-----+--------+\n",
       "| 7  | Kimura   | 3     | 11  | 160    |\n",
       "+----+----------+-------+-----+--------+\n",
       "| 8  | Sato     | 1     | 14  | 160    |\n",
       "+----+----------+-------+-----+--------+\n",
       "| 1  | Yamada   | 1     | 14  | 150    |\n",
       "+----+----------+-------+-----+--------+\n",
       "| 9  | Nagata   | 4     | 11  | 160    |\n",
       "+----+----------+-------+-----+--------+\n",
       "| 10 | Sugino   | 2     | 13  | 150    |\n",
       "+----+----------+-------+-----+--------+\n",
       "| 11 | Takayama | 1     | 14  | 155    |\n",
       "+----+----------+-------+-----+--------+\n",
       "| 12 | John     | 3     | 16  | 165    |\n",
       "+----+----------+-------+-----+--------+\n",
       "13 rows in set (0.00 sec)"
      ]
     },
     "execution_count": 77,
     "metadata": {},
     "output_type": "execute_result"
    }
   ],
   "source": [
    "select * from  meibo\n",
    "union all\n",
    "select * from  meibo2;"
   ]
  },
  {
   "cell_type": "markdown",
   "metadata": {
    "id": "XFu5xPYJwuu-"
   },
   "source": [
    "テストのスコアテーブルを作成して、このmeiboテーブルと結合してみましょう。"
   ]
  },
  {
   "cell_type": "code",
   "execution_count": null,
   "metadata": {
    "id": "lnGSJS8hwuu-"
   },
   "outputs": [],
   "source": [
    "create table score\n",
    "  (id int primary key, math int, english int,science int);"
   ]
  },
  {
   "cell_type": "markdown",
   "metadata": {
    "id": "yh2C_Ixtwuu-"
   },
   "source": [
    "scoreテーブルにサンプルデータを挿入します。"
   ]
  },
  {
   "cell_type": "code",
   "execution_count": null,
   "metadata": {
    "id": "EZCyHbYzwuu-"
   },
   "outputs": [],
   "source": [
    "insert into score (id,math,english,science) \n",
    " values (1,10,10,40),(2,NULL,60,100),(3,30,40,60),\n",
    "        (5,25,31,10),(6,50,30,10),(8,90,100,90),\n",
    "        (9,67,71,50),(11,100,40,88),(15,76,21,13);"
   ]
  },
  {
   "cell_type": "markdown",
   "metadata": {
    "id": "sQ_y8XLSwuu-"
   },
   "source": [
    "念のためデータが入っているかどうか確認します。"
   ]
  },
  {
   "cell_type": "code",
   "execution_count": null,
   "metadata": {
    "id": "L1_USAPHwuu-",
    "outputId": "2a6faf57-277c-4b06-ca0e-e567b2188db2",
    "scrolled": true
   },
   "outputs": [
    {
     "data": {
      "text/html": [
       "<table>\n",
       "<tr>\n",
       "<th>id</th>\n",
       "<th>math</th>\n",
       "<th>english</th>\n",
       "<th>science</th>\n",
       "</tr>\n",
       "<tr>\n",
       "<td>1</td>\n",
       "<td>10</td>\n",
       "<td>10</td>\n",
       "<td>40</td>\n",
       "</tr>\n",
       "<tr>\n",
       "<td>2</td>\n",
       "<td>NULL</td>\n",
       "<td>60</td>\n",
       "<td>100</td>\n",
       "</tr>\n",
       "<tr>\n",
       "<td>3</td>\n",
       "<td>30</td>\n",
       "<td>40</td>\n",
       "<td>60</td>\n",
       "</tr>\n",
       "<tr>\n",
       "<td>5</td>\n",
       "<td>25</td>\n",
       "<td>31</td>\n",
       "<td>10</td>\n",
       "</tr>\n",
       "<tr>\n",
       "<td>6</td>\n",
       "<td>50</td>\n",
       "<td>30</td>\n",
       "<td>10</td>\n",
       "</tr>\n",
       "<tr>\n",
       "<td>8</td>\n",
       "<td>90</td>\n",
       "<td>100</td>\n",
       "<td>90</td>\n",
       "</tr>\n",
       "<tr>\n",
       "<td>9</td>\n",
       "<td>67</td>\n",
       "<td>71</td>\n",
       "<td>50</td>\n",
       "</tr>\n",
       "<tr>\n",
       "<td>11</td>\n",
       "<td>100</td>\n",
       "<td>40</td>\n",
       "<td>88</td>\n",
       "</tr>\n",
       "<tr>\n",
       "<td>15</td>\n",
       "<td>76</td>\n",
       "<td>21</td>\n",
       "<td>13</td>\n",
       "</tr>\n",
       "</table>\n",
       "9 rows in set (0.00 sec)"
      ],
      "text/plain": [
       "+----+------+---------+---------+\n",
       "| id | math | english | science |\n",
       "+----+------+---------+---------+\n",
       "| 1  | 10   | 10      | 40      |\n",
       "+----+------+---------+---------+\n",
       "| 2  | NULL | 60      | 100     |\n",
       "+----+------+---------+---------+\n",
       "| 3  | 30   | 40      | 60      |\n",
       "+----+------+---------+---------+\n",
       "| 5  | 25   | 31      | 10      |\n",
       "+----+------+---------+---------+\n",
       "| 6  | 50   | 30      | 10      |\n",
       "+----+------+---------+---------+\n",
       "| 8  | 90   | 100     | 90      |\n",
       "+----+------+---------+---------+\n",
       "| 9  | 67   | 71      | 50      |\n",
       "+----+------+---------+---------+\n",
       "| 11 | 100  | 40      | 88      |\n",
       "+----+------+---------+---------+\n",
       "| 15 | 76   | 21      | 13      |\n",
       "+----+------+---------+---------+\n",
       "9 rows in set (0.00 sec)"
      ]
     },
     "execution_count": 80,
     "metadata": {},
     "output_type": "execute_result"
    }
   ],
   "source": [
    "select * from score;"
   ]
  },
  {
   "cell_type": "markdown",
   "metadata": {
    "id": "ZDmHEqzlwuu-"
   },
   "source": [
    "以下でidをキーに内部結合しています。テーブル名の後に別名を簡単に付けて（meibo はa、scoreはb）います。"
   ]
  },
  {
   "cell_type": "code",
   "execution_count": null,
   "metadata": {
    "id": "KTt7bkwowuu-",
    "outputId": "a6ae3f0f-cd61-4cbd-e8bc-9ce5410f671b"
   },
   "outputs": [
    {
     "data": {
      "text/html": [
       "<table>\n",
       "<tr>\n",
       "<th>id</th>\n",
       "<th>name</th>\n",
       "<th>class</th>\n",
       "<th>age</th>\n",
       "<th>height</th>\n",
       "<th>id</th>\n",
       "<th>math</th>\n",
       "<th>english</th>\n",
       "<th>science</th>\n",
       "</tr>\n",
       "<tr>\n",
       "<td>1</td>\n",
       "<td>Yamada</td>\n",
       "<td>1</td>\n",
       "<td>14</td>\n",
       "<td>150</td>\n",
       "<td>1</td>\n",
       "<td>10</td>\n",
       "<td>10</td>\n",
       "<td>40</td>\n",
       "</tr>\n",
       "<tr>\n",
       "<td>2</td>\n",
       "<td>Tanaka</td>\n",
       "<td>2</td>\n",
       "<td>13</td>\n",
       "<td>150</td>\n",
       "<td>2</td>\n",
       "<td>NULL</td>\n",
       "<td>60</td>\n",
       "<td>100</td>\n",
       "</tr>\n",
       "<tr>\n",
       "<td>3</td>\n",
       "<td>Suzuki</td>\n",
       "<td>1</td>\n",
       "<td>13</td>\n",
       "<td>150</td>\n",
       "<td>3</td>\n",
       "<td>30</td>\n",
       "<td>40</td>\n",
       "<td>60</td>\n",
       "</tr>\n",
       "<tr>\n",
       "<td>5</td>\n",
       "<td>Ito</td>\n",
       "<td>3</td>\n",
       "<td>12</td>\n",
       "<td>155</td>\n",
       "<td>5</td>\n",
       "<td>25</td>\n",
       "<td>31</td>\n",
       "<td>10</td>\n",
       "</tr>\n",
       "<tr>\n",
       "<td>6</td>\n",
       "<td>Takeuchi</td>\n",
       "<td>2</td>\n",
       "<td>16</td>\n",
       "<td>155</td>\n",
       "<td>6</td>\n",
       "<td>50</td>\n",
       "<td>30</td>\n",
       "<td>10</td>\n",
       "</tr>\n",
       "<tr>\n",
       "<td>8</td>\n",
       "<td>Sato</td>\n",
       "<td>1</td>\n",
       "<td>14</td>\n",
       "<td>160</td>\n",
       "<td>8</td>\n",
       "<td>90</td>\n",
       "<td>100</td>\n",
       "<td>90</td>\n",
       "</tr>\n",
       "</table>\n",
       "6 rows in set (0.00 sec)"
      ],
      "text/plain": [
       "+----+----------+-------+-----+--------+----+------+---------+---------+\n",
       "| id | name     | class | age | height | id | math | english | science |\n",
       "+----+----------+-------+-----+--------+----+------+---------+---------+\n",
       "| 1  | Yamada   | 1     | 14  | 150    | 1  | 10   | 10      | 40      |\n",
       "+----+----------+-------+-----+--------+----+------+---------+---------+\n",
       "| 2  | Tanaka   | 2     | 13  | 150    | 2  | NULL | 60      | 100     |\n",
       "+----+----------+-------+-----+--------+----+------+---------+---------+\n",
       "| 3  | Suzuki   | 1     | 13  | 150    | 3  | 30   | 40      | 60      |\n",
       "+----+----------+-------+-----+--------+----+------+---------+---------+\n",
       "| 5  | Ito      | 3     | 12  | 155    | 5  | 25   | 31      | 10      |\n",
       "+----+----------+-------+-----+--------+----+------+---------+---------+\n",
       "| 6  | Takeuchi | 2     | 16  | 155    | 6  | 50   | 30      | 10      |\n",
       "+----+----------+-------+-----+--------+----+------+---------+---------+\n",
       "| 8  | Sato     | 1     | 14  | 160    | 8  | 90   | 100     | 90      |\n",
       "+----+----------+-------+-----+--------+----+------+---------+---------+\n",
       "6 rows in set (0.00 sec)"
      ]
     },
     "execution_count": 81,
     "metadata": {},
     "output_type": "execute_result"
    }
   ],
   "source": [
    "select * from meibo a join score b on a.id=b.id;"
   ]
  },
  {
   "cell_type": "markdown",
   "metadata": {
    "id": "pdlfGi1xwuu_"
   },
   "source": [
    "idをキーに外部結合(左)しています。左にあるテーブルがベースになります。右にデータがいない場合は、None(NULL)になります。"
   ]
  },
  {
   "cell_type": "code",
   "execution_count": null,
   "metadata": {
    "id": "FpMDMJ9ewuu_",
    "outputId": "407e2554-b7d1-48d5-9b19-9d79ef769558"
   },
   "outputs": [
    {
     "data": {
      "text/html": [
       "<table>\n",
       "<tr>\n",
       "<th>id</th>\n",
       "<th>name</th>\n",
       "<th>class</th>\n",
       "<th>age</th>\n",
       "<th>height</th>\n",
       "<th>id</th>\n",
       "<th>math</th>\n",
       "<th>english</th>\n",
       "<th>science</th>\n",
       "</tr>\n",
       "<tr>\n",
       "<td>1</td>\n",
       "<td>Yamada</td>\n",
       "<td>1</td>\n",
       "<td>14</td>\n",
       "<td>150</td>\n",
       "<td>1</td>\n",
       "<td>10</td>\n",
       "<td>10</td>\n",
       "<td>40</td>\n",
       "</tr>\n",
       "<tr>\n",
       "<td>2</td>\n",
       "<td>Tanaka</td>\n",
       "<td>2</td>\n",
       "<td>13</td>\n",
       "<td>150</td>\n",
       "<td>2</td>\n",
       "<td>NULL</td>\n",
       "<td>60</td>\n",
       "<td>100</td>\n",
       "</tr>\n",
       "<tr>\n",
       "<td>3</td>\n",
       "<td>Suzuki</td>\n",
       "<td>1</td>\n",
       "<td>13</td>\n",
       "<td>150</td>\n",
       "<td>3</td>\n",
       "<td>30</td>\n",
       "<td>40</td>\n",
       "<td>60</td>\n",
       "</tr>\n",
       "<tr>\n",
       "<td>4</td>\n",
       "<td>Kato</td>\n",
       "<td>2</td>\n",
       "<td>15</td>\n",
       "<td>150</td>\n",
       "<td>NULL</td>\n",
       "<td>NULL</td>\n",
       "<td>NULL</td>\n",
       "<td>NULL</td>\n",
       "</tr>\n",
       "<tr>\n",
       "<td>5</td>\n",
       "<td>Ito</td>\n",
       "<td>3</td>\n",
       "<td>12</td>\n",
       "<td>155</td>\n",
       "<td>5</td>\n",
       "<td>25</td>\n",
       "<td>31</td>\n",
       "<td>10</td>\n",
       "</tr>\n",
       "<tr>\n",
       "<td>6</td>\n",
       "<td>Takeuchi</td>\n",
       "<td>2</td>\n",
       "<td>16</td>\n",
       "<td>155</td>\n",
       "<td>6</td>\n",
       "<td>50</td>\n",
       "<td>30</td>\n",
       "<td>10</td>\n",
       "</tr>\n",
       "<tr>\n",
       "<td>7</td>\n",
       "<td>Kimura</td>\n",
       "<td>3</td>\n",
       "<td>11</td>\n",
       "<td>160</td>\n",
       "<td>NULL</td>\n",
       "<td>NULL</td>\n",
       "<td>NULL</td>\n",
       "<td>NULL</td>\n",
       "</tr>\n",
       "<tr>\n",
       "<td>8</td>\n",
       "<td>Sato</td>\n",
       "<td>1</td>\n",
       "<td>14</td>\n",
       "<td>160</td>\n",
       "<td>8</td>\n",
       "<td>90</td>\n",
       "<td>100</td>\n",
       "<td>90</td>\n",
       "</tr>\n",
       "</table>\n",
       "8 rows in set (0.00 sec)"
      ],
      "text/plain": [
       "+----+----------+-------+-----+--------+------+------+---------+---------+\n",
       "| id | name     | class | age | height | id   | math | english | science |\n",
       "+----+----------+-------+-----+--------+------+------+---------+---------+\n",
       "| 1  | Yamada   | 1     | 14  | 150    | 1    | 10   | 10      | 40      |\n",
       "+----+----------+-------+-----+--------+------+------+---------+---------+\n",
       "| 2  | Tanaka   | 2     | 13  | 150    | 2    | NULL | 60      | 100     |\n",
       "+----+----------+-------+-----+--------+------+------+---------+---------+\n",
       "| 3  | Suzuki   | 1     | 13  | 150    | 3    | 30   | 40      | 60      |\n",
       "+----+----------+-------+-----+--------+------+------+---------+---------+\n",
       "| 4  | Kato     | 2     | 15  | 150    | NULL | NULL | NULL    | NULL    |\n",
       "+----+----------+-------+-----+--------+------+------+---------+---------+\n",
       "| 5  | Ito      | 3     | 12  | 155    | 5    | 25   | 31      | 10      |\n",
       "+----+----------+-------+-----+--------+------+------+---------+---------+\n",
       "| 6  | Takeuchi | 2     | 16  | 155    | 6    | 50   | 30      | 10      |\n",
       "+----+----------+-------+-----+--------+------+------+---------+---------+\n",
       "| 7  | Kimura   | 3     | 11  | 160    | NULL | NULL | NULL    | NULL    |\n",
       "+----+----------+-------+-----+--------+------+------+---------+---------+\n",
       "| 8  | Sato     | 1     | 14  | 160    | 8    | 90   | 100     | 90      |\n",
       "+----+----------+-------+-----+--------+------+------+---------+---------+\n",
       "8 rows in set (0.00 sec)"
      ]
     },
     "execution_count": 82,
     "metadata": {},
     "output_type": "execute_result"
    }
   ],
   "source": [
    "select * from meibo a left join score b on a.id=b.id;"
   ]
  },
  {
   "cell_type": "markdown",
   "metadata": {
    "id": "pt_crHNpwuu_"
   },
   "source": [
    "以下は、参考ですが、自分自身のテーブルと結合をする自己結合も可能です。"
   ]
  },
  {
   "cell_type": "code",
   "execution_count": null,
   "metadata": {
    "id": "E61_P_dnwuu_",
    "outputId": "deb322b8-704f-43ed-e547-14eee90d65a7"
   },
   "outputs": [
    {
     "data": {
      "text/html": [
       "<table>\n",
       "<tr>\n",
       "<th>id</th>\n",
       "<th>name</th>\n",
       "<th>class</th>\n",
       "<th>age</th>\n",
       "<th>height</th>\n",
       "<th>id</th>\n",
       "<th>name</th>\n",
       "<th>class</th>\n",
       "<th>age</th>\n",
       "<th>height</th>\n",
       "</tr>\n",
       "<tr>\n",
       "<td>1</td>\n",
       "<td>Yamada</td>\n",
       "<td>1</td>\n",
       "<td>14</td>\n",
       "<td>150</td>\n",
       "<td>1</td>\n",
       "<td>Yamada</td>\n",
       "<td>1</td>\n",
       "<td>14</td>\n",
       "<td>150</td>\n",
       "</tr>\n",
       "<tr>\n",
       "<td>2</td>\n",
       "<td>Tanaka</td>\n",
       "<td>2</td>\n",
       "<td>13</td>\n",
       "<td>150</td>\n",
       "<td>2</td>\n",
       "<td>Tanaka</td>\n",
       "<td>2</td>\n",
       "<td>13</td>\n",
       "<td>150</td>\n",
       "</tr>\n",
       "<tr>\n",
       "<td>3</td>\n",
       "<td>Suzuki</td>\n",
       "<td>1</td>\n",
       "<td>13</td>\n",
       "<td>150</td>\n",
       "<td>3</td>\n",
       "<td>Suzuki</td>\n",
       "<td>1</td>\n",
       "<td>13</td>\n",
       "<td>150</td>\n",
       "</tr>\n",
       "<tr>\n",
       "<td>4</td>\n",
       "<td>Kato</td>\n",
       "<td>2</td>\n",
       "<td>15</td>\n",
       "<td>150</td>\n",
       "<td>4</td>\n",
       "<td>Kato</td>\n",
       "<td>2</td>\n",
       "<td>15</td>\n",
       "<td>150</td>\n",
       "</tr>\n",
       "<tr>\n",
       "<td>5</td>\n",
       "<td>Ito</td>\n",
       "<td>3</td>\n",
       "<td>12</td>\n",
       "<td>155</td>\n",
       "<td>5</td>\n",
       "<td>Ito</td>\n",
       "<td>3</td>\n",
       "<td>12</td>\n",
       "<td>155</td>\n",
       "</tr>\n",
       "<tr>\n",
       "<td>6</td>\n",
       "<td>Takeuchi</td>\n",
       "<td>2</td>\n",
       "<td>16</td>\n",
       "<td>155</td>\n",
       "<td>6</td>\n",
       "<td>Takeuchi</td>\n",
       "<td>2</td>\n",
       "<td>16</td>\n",
       "<td>155</td>\n",
       "</tr>\n",
       "<tr>\n",
       "<td>7</td>\n",
       "<td>Kimura</td>\n",
       "<td>3</td>\n",
       "<td>11</td>\n",
       "<td>160</td>\n",
       "<td>7</td>\n",
       "<td>Kimura</td>\n",
       "<td>3</td>\n",
       "<td>11</td>\n",
       "<td>160</td>\n",
       "</tr>\n",
       "<tr>\n",
       "<td>8</td>\n",
       "<td>Sato</td>\n",
       "<td>1</td>\n",
       "<td>14</td>\n",
       "<td>160</td>\n",
       "<td>8</td>\n",
       "<td>Sato</td>\n",
       "<td>1</td>\n",
       "<td>14</td>\n",
       "<td>160</td>\n",
       "</tr>\n",
       "</table>\n",
       "8 rows in set (0.00 sec)"
      ],
      "text/plain": [
       "+----+----------+-------+-----+--------+----+----------+-------+-----+--------+\n",
       "| id | name     | class | age | height | id | name     | class | age | height |\n",
       "+----+----------+-------+-----+--------+----+----------+-------+-----+--------+\n",
       "| 1  | Yamada   | 1     | 14  | 150    | 1  | Yamada   | 1     | 14  | 150    |\n",
       "+----+----------+-------+-----+--------+----+----------+-------+-----+--------+\n",
       "| 2  | Tanaka   | 2     | 13  | 150    | 2  | Tanaka   | 2     | 13  | 150    |\n",
       "+----+----------+-------+-----+--------+----+----------+-------+-----+--------+\n",
       "| 3  | Suzuki   | 1     | 13  | 150    | 3  | Suzuki   | 1     | 13  | 150    |\n",
       "+----+----------+-------+-----+--------+----+----------+-------+-----+--------+\n",
       "| 4  | Kato     | 2     | 15  | 150    | 4  | Kato     | 2     | 15  | 150    |\n",
       "+----+----------+-------+-----+--------+----+----------+-------+-----+--------+\n",
       "| 5  | Ito      | 3     | 12  | 155    | 5  | Ito      | 3     | 12  | 155    |\n",
       "+----+----------+-------+-----+--------+----+----------+-------+-----+--------+\n",
       "| 6  | Takeuchi | 2     | 16  | 155    | 6  | Takeuchi | 2     | 16  | 155    |\n",
       "+----+----------+-------+-----+--------+----+----------+-------+-----+--------+\n",
       "| 7  | Kimura   | 3     | 11  | 160    | 7  | Kimura   | 3     | 11  | 160    |\n",
       "+----+----------+-------+-----+--------+----+----------+-------+-----+--------+\n",
       "| 8  | Sato     | 1     | 14  | 160    | 8  | Sato     | 1     | 14  | 160    |\n",
       "+----+----------+-------+-----+--------+----+----------+-------+-----+--------+\n",
       "8 rows in set (0.00 sec)"
      ]
     },
     "execution_count": 83,
     "metadata": {},
     "output_type": "execute_result"
    }
   ],
   "source": [
    "select * from meibo a join meibo b on a.id=b.id;"
   ]
  },
  {
   "cell_type": "markdown",
   "metadata": {
    "id": "GjOqcB_4wuu_"
   },
   "source": [
    ">**[ポイント]**\n",
    ">\n",
    ">union：重複を除いた結合\n",
    ">\n",
    ">union all：重複ありの結合\n",
    ">\n",
    ">inner join：内部結合\n",
    ">\n",
    ">left outer join：外部結合"
   ]
  },
  {
   "cell_type": "markdown",
   "metadata": {
    "id": "i2khXmPIwuu_"
   },
   "source": [
    "#### <練習問題 1>\n",
    "\n",
    "新しくcardtbというテーブルを作成してください。ただし、カラムはid,point,money (すべてint)にしてください。さらに、以下のデータを挿入してください。<br>(id,point,money) = (1,100,1000),(3,50,500),(4,30,600),(5,10,10),(7,100,1000),(8,2000,100)"
   ]
  },
  {
   "cell_type": "code",
   "execution_count": null,
   "metadata": {
    "id": "Rwlppqkmwuu_"
   },
   "outputs": [],
   "source": [
    "/* 解答 */\n",
    "create table cardtb\n",
    "  (id int primary key, point int, money int);"
   ]
  },
  {
   "cell_type": "code",
   "execution_count": null,
   "metadata": {
    "id": "UAka7aONwuu_"
   },
   "outputs": [],
   "source": [
    "/* 解答 */\n",
    "insert into cardtb (id,point,money) \n",
    "values (1,100,1000),(3,50,500),(4,30,600),(5,10,10),(7,100,1000),(8,2000,100);"
   ]
  },
  {
   "cell_type": "code",
   "execution_count": null,
   "metadata": {
    "id": "MpGwV4dywuu_",
    "outputId": "c22b1351-e724-4ef3-dea6-99d4708c6bab"
   },
   "outputs": [],
   "source": [
    "/* 解答 */\n",
    "select * from cardtb;"
   ]
  },
  {
   "cell_type": "markdown",
   "metadata": {
    "id": "HEAhLSPlwuvA"
   },
   "source": [
    "#### <練習問題 2>\n",
    "\n",
    "meiboテーブルにidをキーとして、上記のテーブルを内部結合させてください。"
   ]
  },
  {
   "cell_type": "code",
   "execution_count": null,
   "metadata": {
    "id": "iLHOKL4_wuvA",
    "outputId": "dc7fc8c0-fbd0-4f7a-ea76-a8ec9ea9bba0"
   },
   "outputs": [
    {
     "data": {
      "text/html": [
       "<table>\n",
       "<tr>\n",
       "<th>id</th>\n",
       "<th>name</th>\n",
       "<th>class</th>\n",
       "<th>age</th>\n",
       "<th>height</th>\n",
       "<th>id</th>\n",
       "<th>point</th>\n",
       "<th>money</th>\n",
       "</tr>\n",
       "<tr>\n",
       "<td>1</td>\n",
       "<td>Yamada</td>\n",
       "<td>1</td>\n",
       "<td>14</td>\n",
       "<td>150</td>\n",
       "<td>1</td>\n",
       "<td>100</td>\n",
       "<td>1000</td>\n",
       "</tr>\n",
       "<tr>\n",
       "<td>3</td>\n",
       "<td>Suzuki</td>\n",
       "<td>1</td>\n",
       "<td>13</td>\n",
       "<td>150</td>\n",
       "<td>3</td>\n",
       "<td>50</td>\n",
       "<td>500</td>\n",
       "</tr>\n",
       "<tr>\n",
       "<td>4</td>\n",
       "<td>Kato</td>\n",
       "<td>2</td>\n",
       "<td>15</td>\n",
       "<td>150</td>\n",
       "<td>4</td>\n",
       "<td>30</td>\n",
       "<td>600</td>\n",
       "</tr>\n",
       "<tr>\n",
       "<td>5</td>\n",
       "<td>Ito</td>\n",
       "<td>3</td>\n",
       "<td>12</td>\n",
       "<td>155</td>\n",
       "<td>5</td>\n",
       "<td>10</td>\n",
       "<td>10</td>\n",
       "</tr>\n",
       "<tr>\n",
       "<td>7</td>\n",
       "<td>Kimura</td>\n",
       "<td>3</td>\n",
       "<td>11</td>\n",
       "<td>160</td>\n",
       "<td>7</td>\n",
       "<td>100</td>\n",
       "<td>1000</td>\n",
       "</tr>\n",
       "<tr>\n",
       "<td>8</td>\n",
       "<td>Sato</td>\n",
       "<td>1</td>\n",
       "<td>14</td>\n",
       "<td>160</td>\n",
       "<td>8</td>\n",
       "<td>2000</td>\n",
       "<td>100</td>\n",
       "</tr>\n",
       "</table>\n",
       "6 rows in set (0.00 sec)"
      ],
      "text/plain": [
       "+----+--------+-------+-----+--------+----+-------+-------+\n",
       "| id | name   | class | age | height | id | point | money |\n",
       "+----+--------+-------+-----+--------+----+-------+-------+\n",
       "| 1  | Yamada | 1     | 14  | 150    | 1  | 100   | 1000  |\n",
       "+----+--------+-------+-----+--------+----+-------+-------+\n",
       "| 3  | Suzuki | 1     | 13  | 150    | 3  | 50    | 500   |\n",
       "+----+--------+-------+-----+--------+----+-------+-------+\n",
       "| 4  | Kato   | 2     | 15  | 150    | 4  | 30    | 600   |\n",
       "+----+--------+-------+-----+--------+----+-------+-------+\n",
       "| 5  | Ito    | 3     | 12  | 155    | 5  | 10    | 10    |\n",
       "+----+--------+-------+-----+--------+----+-------+-------+\n",
       "| 7  | Kimura | 3     | 11  | 160    | 7  | 100   | 1000  |\n",
       "+----+--------+-------+-----+--------+----+-------+-------+\n",
       "| 8  | Sato   | 1     | 14  | 160    | 8  | 2000  | 100   |\n",
       "+----+--------+-------+-----+--------+----+-------+-------+\n",
       "6 rows in set (0.00 sec)"
      ]
     },
     "execution_count": 87,
     "metadata": {},
     "output_type": "execute_result"
    }
   ],
   "source": [
    "select * from meibo a join cardtb b on a.id=b.id;"
   ]
  },
  {
   "cell_type": "markdown",
   "metadata": {
    "id": "1SDzvXyMwuvA"
   },
   "source": [
    "#### <練習問題 3>\n",
    "meiboテーブルにidをキーとして、上記のテーブルを外部結合させてください。"
   ]
  },
  {
   "cell_type": "code",
   "execution_count": null,
   "metadata": {
    "id": "qIi1zheqwuvA",
    "outputId": "86c30c35-c20e-4afc-c685-dca22b1ed8b9"
   },
   "outputs": [
    {
     "data": {
      "text/html": [
       "<table>\n",
       "<tr>\n",
       "<th>id</th>\n",
       "<th>name</th>\n",
       "<th>class</th>\n",
       "<th>age</th>\n",
       "<th>height</th>\n",
       "<th>id</th>\n",
       "<th>point</th>\n",
       "<th>money</th>\n",
       "</tr>\n",
       "<tr>\n",
       "<td>1</td>\n",
       "<td>Yamada</td>\n",
       "<td>1</td>\n",
       "<td>14</td>\n",
       "<td>150</td>\n",
       "<td>1</td>\n",
       "<td>100</td>\n",
       "<td>1000</td>\n",
       "</tr>\n",
       "<tr>\n",
       "<td>2</td>\n",
       "<td>Tanaka</td>\n",
       "<td>2</td>\n",
       "<td>13</td>\n",
       "<td>150</td>\n",
       "<td>NULL</td>\n",
       "<td>NULL</td>\n",
       "<td>NULL</td>\n",
       "</tr>\n",
       "<tr>\n",
       "<td>3</td>\n",
       "<td>Suzuki</td>\n",
       "<td>1</td>\n",
       "<td>13</td>\n",
       "<td>150</td>\n",
       "<td>3</td>\n",
       "<td>50</td>\n",
       "<td>500</td>\n",
       "</tr>\n",
       "<tr>\n",
       "<td>4</td>\n",
       "<td>Kato</td>\n",
       "<td>2</td>\n",
       "<td>15</td>\n",
       "<td>150</td>\n",
       "<td>4</td>\n",
       "<td>30</td>\n",
       "<td>600</td>\n",
       "</tr>\n",
       "<tr>\n",
       "<td>5</td>\n",
       "<td>Ito</td>\n",
       "<td>3</td>\n",
       "<td>12</td>\n",
       "<td>155</td>\n",
       "<td>5</td>\n",
       "<td>10</td>\n",
       "<td>10</td>\n",
       "</tr>\n",
       "<tr>\n",
       "<td>6</td>\n",
       "<td>Takeuchi</td>\n",
       "<td>2</td>\n",
       "<td>16</td>\n",
       "<td>155</td>\n",
       "<td>NULL</td>\n",
       "<td>NULL</td>\n",
       "<td>NULL</td>\n",
       "</tr>\n",
       "<tr>\n",
       "<td>7</td>\n",
       "<td>Kimura</td>\n",
       "<td>3</td>\n",
       "<td>11</td>\n",
       "<td>160</td>\n",
       "<td>7</td>\n",
       "<td>100</td>\n",
       "<td>1000</td>\n",
       "</tr>\n",
       "<tr>\n",
       "<td>8</td>\n",
       "<td>Sato</td>\n",
       "<td>1</td>\n",
       "<td>14</td>\n",
       "<td>160</td>\n",
       "<td>8</td>\n",
       "<td>2000</td>\n",
       "<td>100</td>\n",
       "</tr>\n",
       "</table>\n",
       "8 rows in set (0.00 sec)"
      ],
      "text/plain": [
       "+----+----------+-------+-----+--------+------+-------+-------+\n",
       "| id | name     | class | age | height | id   | point | money |\n",
       "+----+----------+-------+-----+--------+------+-------+-------+\n",
       "| 1  | Yamada   | 1     | 14  | 150    | 1    | 100   | 1000  |\n",
       "+----+----------+-------+-----+--------+------+-------+-------+\n",
       "| 2  | Tanaka   | 2     | 13  | 150    | NULL | NULL  | NULL  |\n",
       "+----+----------+-------+-----+--------+------+-------+-------+\n",
       "| 3  | Suzuki   | 1     | 13  | 150    | 3    | 50    | 500   |\n",
       "+----+----------+-------+-----+--------+------+-------+-------+\n",
       "| 4  | Kato     | 2     | 15  | 150    | 4    | 30    | 600   |\n",
       "+----+----------+-------+-----+--------+------+-------+-------+\n",
       "| 5  | Ito      | 3     | 12  | 155    | 5    | 10    | 10    |\n",
       "+----+----------+-------+-----+--------+------+-------+-------+\n",
       "| 6  | Takeuchi | 2     | 16  | 155    | NULL | NULL  | NULL  |\n",
       "+----+----------+-------+-----+--------+------+-------+-------+\n",
       "| 7  | Kimura   | 3     | 11  | 160    | 7    | 100   | 1000  |\n",
       "+----+----------+-------+-----+--------+------+-------+-------+\n",
       "| 8  | Sato     | 1     | 14  | 160    | 8    | 2000  | 100   |\n",
       "+----+----------+-------+-----+--------+------+-------+-------+\n",
       "8 rows in set (0.00 sec)"
      ]
     },
     "execution_count": 88,
     "metadata": {},
     "output_type": "execute_result"
    }
   ],
   "source": [
    "select * from meibo a left join cardtb b on a.id=b.id;"
   ]
  },
  {
   "cell_type": "markdown",
   "metadata": {
    "id": "k14l6v0ZwuvA"
   },
   "source": [
    "### 7.2.6 case文とサブクエリ\n",
    "キーワード：case文、サブクエリ"
   ]
  },
  {
   "cell_type": "markdown",
   "metadata": {
    "id": "z9ejMCGJwuvA"
   },
   "source": [
    "データを処理していると、条件分岐をし、それぞれを集計したいという場合があります。SQLでは条件分岐処理もできます。以下では、クラス番号が「1,2,3」ならば、それぞれ「A,B,C」というクラス名(className)が付与されるようにしています。"
   ]
  },
  {
   "cell_type": "code",
   "execution_count": null,
   "metadata": {
    "id": "JmxYYs9bwuvA",
    "outputId": "86d5b344-f231-444e-fc6b-ebda3c02aaef"
   },
   "outputs": [
    {
     "data": {
      "text/html": [
       "<table>\n",
       "<tr>\n",
       "<th>id</th>\n",
       "<th>name</th>\n",
       "<th>className</th>\n",
       "</tr>\n",
       "<tr>\n",
       "<td>1</td>\n",
       "<td>Yamada</td>\n",
       "<td>A</td>\n",
       "</tr>\n",
       "<tr>\n",
       "<td>2</td>\n",
       "<td>Tanaka</td>\n",
       "<td>B</td>\n",
       "</tr>\n",
       "<tr>\n",
       "<td>3</td>\n",
       "<td>Suzuki</td>\n",
       "<td>A</td>\n",
       "</tr>\n",
       "<tr>\n",
       "<td>4</td>\n",
       "<td>Kato</td>\n",
       "<td>B</td>\n",
       "</tr>\n",
       "<tr>\n",
       "<td>5</td>\n",
       "<td>Ito</td>\n",
       "<td>C</td>\n",
       "</tr>\n",
       "<tr>\n",
       "<td>6</td>\n",
       "<td>Takeuchi</td>\n",
       "<td>B</td>\n",
       "</tr>\n",
       "<tr>\n",
       "<td>7</td>\n",
       "<td>Kimura</td>\n",
       "<td>C</td>\n",
       "</tr>\n",
       "<tr>\n",
       "<td>8</td>\n",
       "<td>Sato</td>\n",
       "<td>A</td>\n",
       "</tr>\n",
       "</table>\n",
       "8 rows in set (0.00 sec)"
      ],
      "text/plain": [
       "+----+----------+-----------+\n",
       "| id | name     | className |\n",
       "+----+----------+-----------+\n",
       "| 1  | Yamada   | A         |\n",
       "+----+----------+-----------+\n",
       "| 2  | Tanaka   | B         |\n",
       "+----+----------+-----------+\n",
       "| 3  | Suzuki   | A         |\n",
       "+----+----------+-----------+\n",
       "| 4  | Kato     | B         |\n",
       "+----+----------+-----------+\n",
       "| 5  | Ito      | C         |\n",
       "+----+----------+-----------+\n",
       "| 6  | Takeuchi | B         |\n",
       "+----+----------+-----------+\n",
       "| 7  | Kimura   | C         |\n",
       "+----+----------+-----------+\n",
       "| 8  | Sato     | A         |\n",
       "+----+----------+-----------+\n",
       "8 rows in set (0.00 sec)"
      ]
     },
     "execution_count": 89,
     "metadata": {},
     "output_type": "execute_result"
    }
   ],
   "source": [
    "select \n",
    "     id, name\n",
    "    ,case \n",
    "        when class = 1 then \"A\"\n",
    "        when class = 2 then \"B\"\n",
    "        when class = 3 then \"C\"\n",
    "        else \"others\" \n",
    "    end as className\n",
    "from \n",
    "    meibo;"
   ]
  },
  {
   "cell_type": "markdown",
   "metadata": {
    "id": "WtjCNvBRwuvA"
   },
   "source": [
    "次は「サブクエリ」といいます。サブクエリを使用すると、元となるテーブルから必要な情報を取り出し、さらにそれをテーブルとして取り扱うことができます。この例ではmeiboテーブルの内容をサブクエリを用いてテーブルbとして扱っています。"
   ]
  },
  {
   "cell_type": "code",
   "execution_count": null,
   "metadata": {
    "id": "BS6QPPTiwuvB",
    "outputId": "8a8796e8-7180-4b65-bbdf-f63d0374df7a"
   },
   "outputs": [
    {
     "data": {
      "text/html": [
       "<table>\n",
       "<tr>\n",
       "<th>name</th>\n",
       "<th>age</th>\n",
       "</tr>\n",
       "<tr>\n",
       "<td>Yamada</td>\n",
       "<td>14</td>\n",
       "</tr>\n",
       "<tr>\n",
       "<td>Suzuki</td>\n",
       "<td>13</td>\n",
       "</tr>\n",
       "<tr>\n",
       "<td>Sato</td>\n",
       "<td>14</td>\n",
       "</tr>\n",
       "</table>\n",
       "3 rows in set (0.00 sec)"
      ],
      "text/plain": [
       "+--------+-----+\n",
       "| name   | age |\n",
       "+--------+-----+\n",
       "| Yamada | 14  |\n",
       "+--------+-----+\n",
       "| Suzuki | 13  |\n",
       "+--------+-----+\n",
       "| Sato   | 14  |\n",
       "+--------+-----+\n",
       "3 rows in set (0.00 sec)"
      ]
     },
     "execution_count": 90,
     "metadata": {},
     "output_type": "execute_result"
    }
   ],
   "source": [
    "select b.name,b.age from \n",
    " (select a.age,a.name from meibo a where a.class = 1) b;"
   ]
  },
  {
   "cell_type": "markdown",
   "metadata": {
    "id": "hm72zteiwuvB"
   },
   "source": [
    "なお、上記はカラム名を指定していますが、全てのカラムをもってきたい場合は、エイリアス名の後にドットアスタリスク（.*）をつけます。"
   ]
  },
  {
   "cell_type": "code",
   "execution_count": null,
   "metadata": {
    "id": "H_47ZAdYwuvB",
    "outputId": "30e298ee-2c66-4762-bd65-e060714b1b0d"
   },
   "outputs": [
    {
     "data": {
      "text/html": [
       "<table>\n",
       "<tr>\n",
       "<th>id</th>\n",
       "<th>name</th>\n",
       "<th>class</th>\n",
       "<th>age</th>\n",
       "<th>height</th>\n",
       "</tr>\n",
       "<tr>\n",
       "<td>1</td>\n",
       "<td>Yamada</td>\n",
       "<td>1</td>\n",
       "<td>14</td>\n",
       "<td>150</td>\n",
       "</tr>\n",
       "<tr>\n",
       "<td>3</td>\n",
       "<td>Suzuki</td>\n",
       "<td>1</td>\n",
       "<td>13</td>\n",
       "<td>150</td>\n",
       "</tr>\n",
       "<tr>\n",
       "<td>8</td>\n",
       "<td>Sato</td>\n",
       "<td>1</td>\n",
       "<td>14</td>\n",
       "<td>160</td>\n",
       "</tr>\n",
       "</table>\n",
       "3 rows in set (0.00 sec)"
      ],
      "text/plain": [
       "+----+--------+-------+-----+--------+\n",
       "| id | name   | class | age | height |\n",
       "+----+--------+-------+-----+--------+\n",
       "| 1  | Yamada | 1     | 14  | 150    |\n",
       "+----+--------+-------+-----+--------+\n",
       "| 3  | Suzuki | 1     | 13  | 150    |\n",
       "+----+--------+-------+-----+--------+\n",
       "| 8  | Sato   | 1     | 14  | 160    |\n",
       "+----+--------+-------+-----+--------+\n",
       "3 rows in set (0.00 sec)"
      ]
     },
     "execution_count": 91,
     "metadata": {},
     "output_type": "execute_result"
    }
   ],
   "source": [
    "select b.* from \n",
    " (select a.* from meibo a where a.class = 1) b;"
   ]
  },
  {
   "cell_type": "markdown",
   "metadata": {
    "id": "raimpum3wuvB"
   },
   "source": [
    "以上で、SQLの基礎的な操作は完了です。練習問題の後は、ビューについて学びます。"
   ]
  },
  {
   "cell_type": "markdown",
   "metadata": {
    "id": "nPjtvvSJwuvB"
   },
   "source": [
    ">**[ポイント]**\n",
    ">\n",
    ">case when 条件 then A else B end as カラム名設定：条件分岐"
   ]
  },
  {
   "cell_type": "markdown",
   "metadata": {
    "id": "DWJgnXLswuvB"
   },
   "source": [
    "#### <練習問題 1>\n",
    "\n",
    "meiboテーブルで、heightが155未満の場合は\"below_155\"、155ぴったりならば\"equal_155\"、155より大きいならば\"over_155\"と名付けて、テーブルを表示させてください。"
   ]
  },
  {
   "cell_type": "code",
   "execution_count": null,
   "metadata": {
    "id": "NlmuVBOZwuvB",
    "outputId": "bccf0ef4-d6b4-4cf0-ac48-d6ebf15ac325"
   },
   "outputs": [],
   "source": [
    "/*解答*/\n",
    "select \n",
    "     id\n",
    "    ,name\n",
    "    ,case \n",
    "        when height <155 then \"below_155\"\n",
    "        when height = 155 then \"equal_155\"\n",
    "        when height > 155 then \"over_155\"\n",
    "        else \"others\" \n",
    "    end as heightLevel\n",
    "from \n",
    "    meibo;"
   ]
  },
  {
   "cell_type": "markdown",
   "metadata": {
    "id": "NWtdvRHzwuvC"
   },
   "source": [
    "#### <練習問題 2>\n",
    "上記のテーブルとサブクエリの考え方を利用して、それぞれのheightLevel(練習問題1で付与した列)の人数を求めてください。"
   ]
  },
  {
   "cell_type": "code",
   "execution_count": null,
   "metadata": {
    "id": "pjvzmQC4wuvC",
    "outputId": "0c8507be-86ed-47fd-ad43-534998fa19f4"
   },
   "outputs": [],
   "source": [
    "/*解答*/\n",
    "select b.heightLevel,count(*) as cnt \n",
    "from\n",
    "(select \n",
    "     id\n",
    "    ,name\n",
    "    ,case \n",
    "        when height <155 then \"below_155\"\n",
    "        when height = 155 then \"equal_155\"\n",
    "        when height > 155 then \"over_155\"\n",
    "        else \"others\" \n",
    "    end as heightLevel\n",
    "from \n",
    "    meibo) b\n",
    "group by heightLevel;"
   ]
  },
  {
   "cell_type": "markdown",
   "metadata": {
    "id": "fTeJN7iiwuvC"
   },
   "source": [
    "#### <練習問題 3>\n",
    "上記のテーブルとサブクエリの考え方を利用して、それぞれのheightLevel(練習問題1で付与した列)の平均年齢を求めてください。"
   ]
  },
  {
   "cell_type": "code",
   "execution_count": null,
   "metadata": {
    "id": "ys81QnnWwuvC",
    "outputId": "a228bfae-4a96-4009-f84e-7be2fd0fb227"
   },
   "outputs": [],
   "source": [
    "/*解答*/\n",
    "select b.heightLevel,avg(age) as avgAge\n",
    "from\n",
    "(select \n",
    "     id\n",
    "    ,name\n",
    "    ,age\n",
    "    ,case \n",
    "        when height <155 then \"below_155\"\n",
    "        when height = 155 then \"equal_155\"\n",
    "        when height > 155 then \"over_155\"\n",
    "        else \"others\" \n",
    "    end as heightLevel\n",
    "from \n",
    "    meibo) b\n",
    "group by heightLevel;"
   ]
  },
  {
   "cell_type": "markdown",
   "metadata": {
    "id": "vO1ALHtpwuvC"
   },
   "source": [
    "## 7.3 ビュー\n",
    "ゴール：ビューの概念を理解し、作成や操作ができる"
   ]
  },
  {
   "cell_type": "markdown",
   "metadata": {
    "id": "HY-j_y-KwuvE"
   },
   "source": [
    "### 7.3.1 ビュー\n",
    "キーワード：ビュー"
   ]
  },
  {
   "cell_type": "markdown",
   "metadata": {
    "id": "BquNBdg6wuvE"
   },
   "source": [
    "次は、ビューについて学びます。これまでは、直接テーブルからデータを問い合わせて、必要な情報を取得していましたが、毎回条件を設定して各テーブルからデータを抽出するのは、少し面倒です。とはいえ、必要な情報を各テーブルから取得したテーブルを作成したとしても、元データの更新のたびにそのテーブルも更新する必要があるので、やはり面倒です。このようなとき、ビューを活用することで、常に最新のデータを簡単に抽出することができるようになります。ビューは、あらかじめ検索する方法を記録させておく仮想のテーブルです。\n",
    "\n",
    "ビューの作成方法はテーブルとほぼ同じで、create viewを使います。まずは、簡単な例からみていきましょう。meiboテーブルから、idとnameだけを持ってくるビューを作成しています。"
   ]
  },
  {
   "cell_type": "code",
   "execution_count": null,
   "metadata": {
    "id": "kb3cYcAlwuvF"
   },
   "outputs": [],
   "source": [
    "create view v1\n",
    "    as\n",
    "select id,name\n",
    "    from meibo;"
   ]
  },
  {
   "cell_type": "markdown",
   "metadata": {
    "id": "H5R7LQQCwuvF"
   },
   "source": [
    "新しいビューができているか見てみましょう。やり方は以前学んだ方法と同じです。"
   ]
  },
  {
   "cell_type": "code",
   "execution_count": null,
   "metadata": {
    "id": "uYzD8dmgwuvG",
    "outputId": "36a2daa7-ca92-4a13-934c-6ea6d42e6429"
   },
   "outputs": [
    {
     "data": {
      "text/html": [
       "<table>\n",
       "<tr>\n",
       "<th>id</th>\n",
       "<th>name</th>\n",
       "</tr>\n",
       "<tr>\n",
       "<td>1</td>\n",
       "<td>Yamada</td>\n",
       "</tr>\n",
       "<tr>\n",
       "<td>2</td>\n",
       "<td>Tanaka</td>\n",
       "</tr>\n",
       "<tr>\n",
       "<td>3</td>\n",
       "<td>Suzuki</td>\n",
       "</tr>\n",
       "<tr>\n",
       "<td>4</td>\n",
       "<td>Kato</td>\n",
       "</tr>\n",
       "<tr>\n",
       "<td>5</td>\n",
       "<td>Ito</td>\n",
       "</tr>\n",
       "<tr>\n",
       "<td>6</td>\n",
       "<td>Takeuchi</td>\n",
       "</tr>\n",
       "<tr>\n",
       "<td>7</td>\n",
       "<td>Kimura</td>\n",
       "</tr>\n",
       "<tr>\n",
       "<td>8</td>\n",
       "<td>Sato</td>\n",
       "</tr>\n",
       "</table>\n",
       "8 rows in set (0.00 sec)"
      ],
      "text/plain": [
       "+----+----------+\n",
       "| id | name     |\n",
       "+----+----------+\n",
       "| 1  | Yamada   |\n",
       "+----+----------+\n",
       "| 2  | Tanaka   |\n",
       "+----+----------+\n",
       "| 3  | Suzuki   |\n",
       "+----+----------+\n",
       "| 4  | Kato     |\n",
       "+----+----------+\n",
       "| 5  | Ito      |\n",
       "+----+----------+\n",
       "| 6  | Takeuchi |\n",
       "+----+----------+\n",
       "| 7  | Kimura   |\n",
       "+----+----------+\n",
       "| 8  | Sato     |\n",
       "+----+----------+\n",
       "8 rows in set (0.00 sec)"
      ]
     },
     "execution_count": 96,
     "metadata": {},
     "output_type": "execute_result"
    }
   ],
   "source": [
    "select * from v1;"
   ]
  },
  {
   "cell_type": "markdown",
   "metadata": {
    "id": "M3jaqOedwuvG"
   },
   "source": [
    "これだけだとあまりビューの便利さわからないので、次の例を見てみましょう。前に作成した少し複雑なテーブルもビューを作成しておけば、いつでも呼び出すことができます。"
   ]
  },
  {
   "cell_type": "code",
   "execution_count": null,
   "metadata": {
    "id": "RGVmtgGhwuvG"
   },
   "outputs": [],
   "source": [
    "create view v2\n",
    "    as\n",
    "select \n",
    "     id\n",
    "    ,name\n",
    "    ,case \n",
    "        when class = 1 then \"A\"\n",
    "        when class = 2 then \"B\"\n",
    "        when class = 3 then \"C\"\n",
    "        else \"others\" \n",
    "    end as className\n",
    "from \n",
    "    meibo;"
   ]
  },
  {
   "cell_type": "markdown",
   "metadata": {
    "id": "MX9U0nlowuvG"
   },
   "source": [
    "以下のビューを設定しておけば、欲しい検索結果を以下のようなSQL文だけで呼び出すことができます。"
   ]
  },
  {
   "cell_type": "code",
   "execution_count": null,
   "metadata": {
    "id": "h12uekWQwuvH",
    "outputId": "f768419d-14fd-4571-f2b3-85d328d5fa6a"
   },
   "outputs": [
    {
     "data": {
      "text/html": [
       "<table>\n",
       "<tr>\n",
       "<th>id</th>\n",
       "<th>name</th>\n",
       "<th>className</th>\n",
       "</tr>\n",
       "<tr>\n",
       "<td>1</td>\n",
       "<td>Yamada</td>\n",
       "<td>A</td>\n",
       "</tr>\n",
       "<tr>\n",
       "<td>2</td>\n",
       "<td>Tanaka</td>\n",
       "<td>B</td>\n",
       "</tr>\n",
       "<tr>\n",
       "<td>3</td>\n",
       "<td>Suzuki</td>\n",
       "<td>A</td>\n",
       "</tr>\n",
       "<tr>\n",
       "<td>4</td>\n",
       "<td>Kato</td>\n",
       "<td>B</td>\n",
       "</tr>\n",
       "<tr>\n",
       "<td>5</td>\n",
       "<td>Ito</td>\n",
       "<td>C</td>\n",
       "</tr>\n",
       "<tr>\n",
       "<td>6</td>\n",
       "<td>Takeuchi</td>\n",
       "<td>B</td>\n",
       "</tr>\n",
       "<tr>\n",
       "<td>7</td>\n",
       "<td>Kimura</td>\n",
       "<td>C</td>\n",
       "</tr>\n",
       "<tr>\n",
       "<td>8</td>\n",
       "<td>Sato</td>\n",
       "<td>A</td>\n",
       "</tr>\n",
       "</table>\n",
       "8 rows in set (0.00 sec)"
      ],
      "text/plain": [
       "+----+----------+-----------+\n",
       "| id | name     | className |\n",
       "+----+----------+-----------+\n",
       "| 1  | Yamada   | A         |\n",
       "+----+----------+-----------+\n",
       "| 2  | Tanaka   | B         |\n",
       "+----+----------+-----------+\n",
       "| 3  | Suzuki   | A         |\n",
       "+----+----------+-----------+\n",
       "| 4  | Kato     | B         |\n",
       "+----+----------+-----------+\n",
       "| 5  | Ito      | C         |\n",
       "+----+----------+-----------+\n",
       "| 6  | Takeuchi | B         |\n",
       "+----+----------+-----------+\n",
       "| 7  | Kimura   | C         |\n",
       "+----+----------+-----------+\n",
       "| 8  | Sato     | A         |\n",
       "+----+----------+-----------+\n",
       "8 rows in set (0.00 sec)"
      ]
     },
     "execution_count": 98,
     "metadata": {},
     "output_type": "execute_result"
    }
   ],
   "source": [
    "select * from v2;"
   ]
  },
  {
   "cell_type": "markdown",
   "metadata": {
    "id": "VgfIQMrnwuvH"
   },
   "source": [
    "SQLITEではビューを更新することはできません。"
   ]
  },
  {
   "cell_type": "code",
   "execution_count": null,
   "metadata": {
    "id": "RgrUwJ7ewuvH",
    "outputId": "3087353e-a899-49fa-a1d3-9da06698c217"
   },
   "outputs": [
    {
     "ename": "Error",
     "evalue": "sqlite3_statement_backend::prepare: cannot modify v1 because it is a view while preparing \"insert into v1 (id, name) values (100, \"dummy_Yamada\");\".",
     "output_type": "error",
     "traceback": [
      "Error: sqlite3_statement_backend::prepare: cannot modify v1 because it is a view while preparing \"insert into v1 (id, name) values (100, \"dummy_Yamada\");\"."
     ]
    }
   ],
   "source": [
    "insert into v1 (id, name) values (100, \"dummy_Yamada\");"
   ]
  },
  {
   "cell_type": "markdown",
   "metadata": {
    "id": "WekS0bmxwuvH"
   },
   "source": [
    "以下のコマンドで、ビューであることわかります。"
   ]
  },
  {
   "cell_type": "code",
   "execution_count": null,
   "metadata": {
    "id": "xvl3y1qNwuvH",
    "outputId": "a4aefcfa-3e44-4455-cd42-a96611e3b0ce"
   },
   "outputs": [
    {
     "data": {
      "text/html": [
       "<table>\n",
       "<tr>\n",
       "<th>name</th>\n",
       "<th>sql</th>\n",
       "</tr>\n",
       "<tr>\n",
       "<td>v1</td>\n",
       "<td>CREATE VIEW v1\n",
       "    as\n",
       "select id,name\n",
       "    from meibo</td>\n",
       "</tr>\n",
       "<tr>\n",
       "<td>v2</td>\n",
       "<td>CREATE VIEW v2\n",
       "    as\n",
       "select \n",
       "     id\n",
       "    ,name\n",
       "    ,case \n",
       "        when class = 1 then \"A\"\n",
       "        when class = 2 then \"B\"\n",
       "        when class = 3 then \"C\"\n",
       "        else \"others\" \n",
       "    end as className\n",
       "from \n",
       "    meibo</td>\n",
       "</tr>\n",
       "</table>\n",
       "2 rows in set (0.00 sec)"
      ],
      "text/plain": [
       "+------+---------------------------------+\n",
       "| name | sql                             |\n",
       "+------+---------------------------------+\n",
       "| v1   | CREATE VIEW v1                  |\n",
       "|      | as                              |\n",
       "|      | select id,name                  |\n",
       "|      | from meibo                      |\n",
       "+------+---------------------------------+\n",
       "| v2   | CREATE VIEW v2                  |\n",
       "|      | as                              |\n",
       "|      | select                          |\n",
       "|      | id                              |\n",
       "|      | ,name                           |\n",
       "|      | ,case                           |\n",
       "|      | when class = 1 then \"A\"         |\n",
       "|      | when class = 2 then \"B\"         |\n",
       "|      | when class = 3 then \"C\"         |\n",
       "|      | else \"others\"                   |\n",
       "|      | end as className                |\n",
       "|      | from                            |\n",
       "|      | meibo                           |\n",
       "+------+---------------------------------+\n",
       "2 rows in set (0.00 sec)"
      ]
     },
     "execution_count": 100,
     "metadata": {},
     "output_type": "execute_result"
    }
   ],
   "source": [
    "select name, sql from sqlite_master where type = 'view';"
   ]
  },
  {
   "cell_type": "markdown",
   "metadata": {
    "id": "MqkruX3kwuvI"
   },
   "source": [
    "#### <練習問題 1>\n",
    "テーブルmeibo2からidとnameを取り出して、ビューのv3を作成してみましょう。"
   ]
  },
  {
   "cell_type": "code",
   "execution_count": null,
   "metadata": {
    "id": "OUFQlI3uwuvI"
   },
   "outputs": [],
   "source": [
    "/*解答*/\n",
    "create view v3\n",
    "    as\n",
    "select id,name\n",
    "    from meibo2;"
   ]
  },
  {
   "cell_type": "code",
   "execution_count": null,
   "metadata": {
    "id": "MvV0bwqAwuvI",
    "outputId": "0603b32c-44f7-47fa-dfd3-4d12a1cefd1b"
   },
   "outputs": [],
   "source": [
    "/*解答*/\n",
    "select * from v3;"
   ]
  },
  {
   "cell_type": "markdown",
   "metadata": {
    "id": "FU5NDLdfwuvI"
   },
   "source": [
    "#### <練習問題 2>\n",
    "meiboテーブルとscoreテーブルを内部結合して、idとnameを取り出すビューv4を作成してみましょう。"
   ]
  },
  {
   "cell_type": "code",
   "execution_count": null,
   "metadata": {
    "id": "H6RrWhN7wuvI"
   },
   "outputs": [],
   "source": [
    "/* 解答 */\n",
    "create view v4\n",
    "    as\n",
    "select a.id,a.name from meibo a left join score b on a.id=b.id;"
   ]
  },
  {
   "cell_type": "code",
   "execution_count": null,
   "metadata": {
    "id": "peYBRqdSwuvJ",
    "outputId": "6e2c85df-ed89-497c-8067-f88c4f383313"
   },
   "outputs": [],
   "source": [
    "/* 解答 */\n",
    "select * from v4;"
   ]
  },
  {
   "cell_type": "markdown",
   "metadata": {
    "id": "5kRIt6rwwuvJ"
   },
   "source": [
    "***"
   ]
  },
  {
   "cell_type": "markdown",
   "metadata": {
    "id": "34uyS8FCwuvJ"
   },
   "source": [
    "## 7.4 総合問題"
   ]
  },
  {
   "cell_type": "markdown",
   "metadata": {
    "id": "W4gI_2WZwuvJ"
   },
   "source": [
    "### 7.4.1 総合問題1\n",
    "\n",
    "TES1のデータベースを使って、後の問いに答えてください。\n"
   ]
  },
  {
   "cell_type": "markdown",
   "metadata": {
    "id": "x-zUXhzZwuvJ"
   },
   "source": [
    "(1) 上記で作成したmeiboテーブルとcardtbテーブルの両方にデータがある人に対して、それをVIEWテーブルCLASS_AVG_MONEY_TB）として、作成してください。さらに、そのVIEWに対して、クラスごとの平均moneyを求めてください。"
   ]
  },
  {
   "cell_type": "code",
   "execution_count": null,
   "metadata": {
    "id": "tKxVM-1fwuvK"
   },
   "outputs": [],
   "source": [
    "/*解答*/\n",
    "create view V_CLASS_AVG_MONEY_TB\n",
    "    as\n",
    "select * from meibo a join cardtb b on a.id=b.id;"
   ]
  },
  {
   "cell_type": "code",
   "execution_count": null,
   "metadata": {
    "id": "tuxFke3ZwuvK",
    "outputId": "a168b188-a93b-419e-9b84-630aaaaa109e"
   },
   "outputs": [
    {
     "data": {
      "text/html": [
       "<table>\n",
       "<tr>\n",
       "<th>id</th>\n",
       "<th>name</th>\n",
       "<th>class</th>\n",
       "<th>age</th>\n",
       "<th>height</th>\n",
       "<th>id:1</th>\n",
       "<th>point</th>\n",
       "<th>money</th>\n",
       "</tr>\n",
       "<tr>\n",
       "<td>1</td>\n",
       "<td>Yamada</td>\n",
       "<td>1</td>\n",
       "<td>14</td>\n",
       "<td>150</td>\n",
       "<td>1</td>\n",
       "<td>100</td>\n",
       "<td>1000</td>\n",
       "</tr>\n",
       "<tr>\n",
       "<td>3</td>\n",
       "<td>Suzuki</td>\n",
       "<td>1</td>\n",
       "<td>13</td>\n",
       "<td>150</td>\n",
       "<td>3</td>\n",
       "<td>50</td>\n",
       "<td>500</td>\n",
       "</tr>\n",
       "<tr>\n",
       "<td>4</td>\n",
       "<td>Kato</td>\n",
       "<td>2</td>\n",
       "<td>15</td>\n",
       "<td>150</td>\n",
       "<td>4</td>\n",
       "<td>30</td>\n",
       "<td>600</td>\n",
       "</tr>\n",
       "<tr>\n",
       "<td>5</td>\n",
       "<td>Ito</td>\n",
       "<td>3</td>\n",
       "<td>12</td>\n",
       "<td>155</td>\n",
       "<td>5</td>\n",
       "<td>10</td>\n",
       "<td>10</td>\n",
       "</tr>\n",
       "<tr>\n",
       "<td>7</td>\n",
       "<td>Kimura</td>\n",
       "<td>3</td>\n",
       "<td>11</td>\n",
       "<td>160</td>\n",
       "<td>7</td>\n",
       "<td>100</td>\n",
       "<td>1000</td>\n",
       "</tr>\n",
       "<tr>\n",
       "<td>8</td>\n",
       "<td>Sato</td>\n",
       "<td>1</td>\n",
       "<td>14</td>\n",
       "<td>160</td>\n",
       "<td>8</td>\n",
       "<td>2000</td>\n",
       "<td>100</td>\n",
       "</tr>\n",
       "</table>\n",
       "6 rows in set (0.00 sec)"
      ],
      "text/plain": [
       "+----+--------+-------+-----+--------+------+-------+-------+\n",
       "| id | name   | class | age | height | id:1 | point | money |\n",
       "+----+--------+-------+-----+--------+------+-------+-------+\n",
       "| 1  | Yamada | 1     | 14  | 150    | 1    | 100   | 1000  |\n",
       "+----+--------+-------+-----+--------+------+-------+-------+\n",
       "| 3  | Suzuki | 1     | 13  | 150    | 3    | 50    | 500   |\n",
       "+----+--------+-------+-----+--------+------+-------+-------+\n",
       "| 4  | Kato   | 2     | 15  | 150    | 4    | 30    | 600   |\n",
       "+----+--------+-------+-----+--------+------+-------+-------+\n",
       "| 5  | Ito    | 3     | 12  | 155    | 5    | 10    | 10    |\n",
       "+----+--------+-------+-----+--------+------+-------+-------+\n",
       "| 7  | Kimura | 3     | 11  | 160    | 7    | 100   | 1000  |\n",
       "+----+--------+-------+-----+--------+------+-------+-------+\n",
       "| 8  | Sato   | 1     | 14  | 160    | 8    | 2000  | 100   |\n",
       "+----+--------+-------+-----+--------+------+-------+-------+\n",
       "6 rows in set (0.00 sec)"
      ]
     },
     "execution_count": 106,
     "metadata": {},
     "output_type": "execute_result"
    }
   ],
   "source": [
    "select * from V_CLASS_AVG_MONEY_TB;"
   ]
  },
  {
   "cell_type": "code",
   "execution_count": null,
   "metadata": {
    "id": "hnilxPytwuvK",
    "outputId": "bf196b3a-5485-4051-8d04-b82658c75ecb"
   },
   "outputs": [],
   "source": [
    "/*解答*/\n",
    "select class,avg(money) from V_CLASS_AVG_MONEY_TB\n",
    "group by class;"
   ]
  },
  {
   "cell_type": "markdown",
   "metadata": {
    "id": "fe-2jumZwuvK"
   },
   "source": [
    "(2) 上記で作成したVIEWテーブルに対して、moneyが100未満の人のグループをx、100以上で1000未満のグループをy、1000以上のグループをzとして、それぞれのグループの平均pointを求めてください。"
   ]
  },
  {
   "cell_type": "code",
   "execution_count": null,
   "metadata": {
    "id": "TK3k3zxSwuvK",
    "outputId": "2bc1b642-98e0-4ff0-96b9-01b3f53f69ff"
   },
   "outputs": [
    {
     "data": {
      "text/html": [
       "<table>\n",
       "<tr>\n",
       "<th>moneyClass</th>\n",
       "<th>avg_point</th>\n",
       "</tr>\n",
       "<tr>\n",
       "<td>x</td>\n",
       "<td>10.0</td>\n",
       "</tr>\n",
       "<tr>\n",
       "<td>z</td>\n",
       "<td>100.0</td>\n",
       "</tr>\n",
       "<tr>\n",
       "<td>y</td>\n",
       "<td>693.333333333333</td>\n",
       "</tr>\n",
       "</table>\n",
       "3 rows in set (0.00 sec)"
      ],
      "text/plain": [
       "+------------+------------------+\n",
       "| moneyClass | avg_point        |\n",
       "+------------+------------------+\n",
       "| x          | 10.0             |\n",
       "+------------+------------------+\n",
       "| z          | 100.0            |\n",
       "+------------+------------------+\n",
       "| y          | 693.333333333333 |\n",
       "+------------+------------------+\n",
       "3 rows in set (0.00 sec)"
      ]
     },
     "execution_count": 108,
     "metadata": {},
     "output_type": "execute_result"
    }
   ],
   "source": [
    "select moneyClass,avg(point) as avg_point\n",
    "from\n",
    "(\n",
    "    select \n",
    "        case\n",
    "            when money<100  then \"x\"\n",
    "            when money>=100 and money<1000  then \"y\"\n",
    "            when money>=1000 then \"z\"\n",
    "        end as moneyClass\n",
    "        ,point\n",
    "    from V_CLASS_AVG_MONEY_TB\n",
    " )\n",
    "group by \n",
    "    moneyClass\n",
    "order by \n",
    "    avg_point;"
   ]
  },
  {
   "cell_type": "code",
   "execution_count": null,
   "metadata": {
    "id": "-__Fo4Pz2sYN"
   },
   "outputs": [],
   "source": []
  },
  {
   "cell_type": "code",
   "execution_count": null,
   "metadata": {},
   "outputs": [],
   "source": []
  },
  {
   "cell_type": "code",
   "execution_count": null,
   "metadata": {},
   "outputs": [],
   "source": []
  }
 ],
 "metadata": {
  "anaconda-cloud": {},
  "colab": {
   "collapsed_sections": [
    "nn9YIOtOwuur",
    "10lk-Wwcwuus",
    "MgFLjANzwuuy",
    "UGAdyM2Awuuy",
    "1P7rtAV-wuuz",
    "KgDcQnfkwuu4",
    "8teX7ONvwuu4",
    "HoTStCutwuu4",
    "fNgF94C5wuu7",
    "f8XmNWmBwuu7",
    "-UeNLNNywuu7",
    "i2khXmPIwuu_",
    "HEAhLSPlwuvA",
    "1SDzvXyMwuvA",
    "DWJgnXLswuvB",
    "NWtdvRHzwuvC",
    "fTeJN7iiwuvC",
    "MqkruX3kwuvI",
    "FU5NDLdfwuvI"
   ],
   "provenance": []
  },
  "kernelspec": {
   "display_name": "Python 3",
   "language": "python",
   "name": "python3"
  },
  "language_info": {
   "codemirror_mode": {
    "name": "ipython",
    "version": 3
   },
   "file_extension": ".py",
   "mimetype": "text/x-python",
   "name": "python",
   "nbconvert_exporter": "python",
   "pygments_lexer": "ipython3",
   "version": "3.7.8"
  }
 },
 "nbformat": 4,
 "nbformat_minor": 4
}
